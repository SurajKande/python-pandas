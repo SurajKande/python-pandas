{
  "nbformat": 4,
  "nbformat_minor": 0,
  "metadata": {
    "colab": {
      "name": "data_processing_eda_python.ipynb",
      "provenance": [],
      "collapsed_sections": [
        "J1RK_tpd4I63",
        "_t7wWbqRBx1u",
        "cjY84acY-foa",
        "uphibo8TC-Vo",
        "coVYOoy2QLLm",
        "lqSkaMN4Zmre",
        "u0hjBAkgIcVc"
      ],
      "authorship_tag": "ABX9TyODBEM4AvwTGCbGpkDVT0p3",
      "include_colab_link": true
    },
    "kernelspec": {
      "name": "python3",
      "display_name": "Python 3"
    }
  },
  "cells": [
    {
      "cell_type": "markdown",
      "metadata": {
        "id": "view-in-github",
        "colab_type": "text"
      },
      "source": [
        "<a href=\"https://colab.research.google.com/github/SurajKande/python-pandas/blob/master/data_processing_eda_python.ipynb\" target=\"_parent\"><img src=\"https://colab.research.google.com/assets/colab-badge.svg\" alt=\"Open In Colab\"/></a>"
      ]
    },
    {
      "cell_type": "markdown",
      "metadata": {
        "id": "ZHPJOxy51nPU",
        "colab_type": "text"
      },
      "source": [
        "#Data Processing                                                                \n",
        "### Processing the data in simple terms Cleaning the data is important, if not processed the data may cause noise, errors and decrease the accuracy of the model  \n",
        "\n",
        "some common data isues\n",
        "\n",
        "*   Inconsistent column names\n",
        "*   Missing Data\n",
        "*   Duplicate Data\n",
        "*   Outliers\n",
        "*   Need to process the columns\n",
        "*   Column types can send unexpected data values\n",
        "\n"
      ]
    },
    {
      "cell_type": "markdown",
      "metadata": {
        "id": "J1RK_tpd4I63",
        "colab_type": "text"
      },
      "source": [
        "##Reshaping data :                                                                \n",
        "1.   Melt\n",
        "2.   Pivot"
      ]
    },
    {
      "cell_type": "markdown",
      "metadata": {
        "id": "LHu-2rMc80zq",
        "colab_type": "text"
      },
      "source": [
        "### Using Melt                                            \n",
        "Melting data is the process of turning columns of your data into rows of data.  \n",
        "we use pd.melt() function . There are two parameters\n",
        "\n",
        "*   **id_vars**    : represent the columns of the data you do not want to melt\n",
        "*   **value_vars** : represent the columns you do wish to melt into rows, by                         default if no value_vars are provided, all columns not set                      in the id_vars will be melted\n",
        "\n",
        "*   var_name       : to change the name of the variable\n",
        "*   varlue_name    : to change the name of the value column  \n"
      ]
    },
    {
      "cell_type": "code",
      "metadata": {
        "id": "Wvo-D8JS82Kc",
        "colab_type": "code",
        "colab": {}
      },
      "source": [
        "# Print the head of dataFrame\n",
        "print(df.head())\n",
        "\n",
        "# Melt df\n",
        "df_melt = pd.melt(df, id_vars='Date')\n",
        "\n",
        "# Print the head of df_melt\n",
        "print(df_melt.head())\n"
      ],
      "execution_count": 0,
      "outputs": []
    },
    {
      "cell_type": "markdown",
      "metadata": {
        "id": "_t7wWbqRBx1u",
        "colab_type": "text"
      },
      "source": [
        "##Concatenating data\n",
        "\n",
        "```\n",
        "syntax:  pd.concat([df1, df2, df3,...dfn], ignore_index, axis)   # df's are differen data frames\n",
        "```\n",
        "* **ignore_index** = True is to make sure that the previous indexes are not present and get index accordingly\n",
        "* **axis**                                                                          \n",
        " 1. axis = 0  (row concat)(default value)                                \n",
        " 2. axis = 1  (vertical concat) \n"
      ]
    },
    {
      "cell_type": "code",
      "metadata": {
        "id": "ma1GSTG0B3B7",
        "colab_type": "code",
        "colab": {}
      },
      "source": [
        "#conside 2 data frames df1, df2 \n",
        "#concatinated dataframe == Cdf\n",
        "Cdf = pd.concat([df1, df2], ignore_index=True)"
      ],
      "execution_count": 0,
      "outputs": []
    },
    {
      "cell_type": "markdown",
      "metadata": {
        "id": "cjY84acY-foa",
        "colab_type": "text"
      },
      "source": [
        "##Finding files that match pattern                                             \n",
        " practice using the glob module to find all csv files in the workspace.         \n",
        " the glob module has a function called glob that takes a pattern and returns a list of the files in the working directory that match that pattern."
      ]
    },
    {
      "cell_type": "code",
      "metadata": {
        "id": "yETgs-dX-gGt",
        "colab_type": "code",
        "colab": {}
      },
      "source": [
        "# Import necessary modules\n",
        "import glob\n",
        "import pandas as pd\n",
        "\n",
        "# Write the pattern\n",
        "pattern = '*.csv'\n",
        "\n",
        "# Save all file matches in a list\n",
        "csv_files = glob.glob(pattern)\n",
        "\n",
        "# Print the file names\n",
        "print(csv_files)\n",
        "\n",
        "# Load the second file into a DataFrame\n",
        "csv2 = pd.read_csv(csv_files[1])\n",
        "\n",
        "# Print the head of csv2\n",
        "print(csv2.head())\n",
        "\n",
        "# Create an empty list: frames\n",
        "frames = []\n",
        "\n",
        "#  Iterate over csv_files\n",
        "for csv in csv_files:\n",
        "\n",
        "    #  Read csv into a DataFrame: df\n",
        "    df = pd.read_csv(csv)\n",
        "    \n",
        "    # Append df to frames\n",
        "    frames.append(df)\n",
        "\n",
        "# Concatenate frames into a single DataFrame: uber\n",
        "uber = pd.concat(frames)\n",
        "\n",
        "# Print the shape of uber\n",
        "print(uber.shape)\n",
        "\n",
        "# Print the head of uber\n",
        "print(uber.head())\n",
        "\n"
      ],
      "execution_count": 0,
      "outputs": []
    },
    {
      "cell_type": "markdown",
      "metadata": {
        "id": "ZS0PWR3mCDCW",
        "colab_type": "text"
      },
      "source": [
        "concatinating means simply putting back the divided data                      \n",
        "we cannot concat the data if the ordering is not same\n"
      ]
    },
    {
      "cell_type": "markdown",
      "metadata": {
        "id": "uphibo8TC-Vo",
        "colab_type": "text"
      },
      "source": [
        "##Merging data\n",
        "similar to joining of the tables in sql                                         \n",
        "*   one to one \n",
        "*   many to one/ one to many\n",
        "*   many to many                                  \n",
        "the above merges all use same function but differ based on the dataframes\n",
        "\n",
        "\n",
        "```\n",
        "syntax: pd.merge(left = , rigth = , left_on = , right_on = ,on =)\n",
        "```\n",
        "left , right is to specify the data frames\n",
        "left_on => column on which the left dataframe to be merged                          \n",
        "right_on => column on which the right dataframe to be merged                   \n",
        "on is used both the column names are same\n",
        "\n"
      ]
    },
    {
      "cell_type": "code",
      "metadata": {
        "id": "y71gpwbEG6I6",
        "colab_type": "code",
        "colab": {}
      },
      "source": [
        "# Merge the DataFrames: o2o\n",
        "merged = pd.merge(left = df1 , right = df2, left_on = 'name', right_on = 'site')    #\n",
        "\n",
        "# Print o2o\n",
        "print(o2o)\n"
      ],
      "execution_count": 0,
      "outputs": []
    },
    {
      "cell_type": "markdown",
      "metadata": {
        "id": "coVYOoy2QLLm",
        "colab_type": "text"
      },
      "source": [
        "##converting Data Types                                                        \n",
        "some times we get a wrong type of data to convert them we use two function      \n",
        "\n",
        "\n",
        "*   pd.astype()\n",
        "*   pd.to_numeric()\n",
        "\n"
      ]
    },
    {
      "cell_type": "code",
      "metadata": {
        "id": "4keu6WuKQK27",
        "colab_type": "code",
        "colab": {}
      },
      "source": [
        "# Convert the sex column to type 'category'\n",
        "tips.sex = tips.sex.astype('category')\n",
        "\n",
        "# Convert the smoker column to type 'category'\n",
        "tips.smoker = tips.smoker.astype('category')\n",
        "\n",
        "# Print the info of tips\n",
        "print(tips.info())"
      ],
      "execution_count": 0,
      "outputs": []
    },
    {
      "cell_type": "code",
      "metadata": {
        "id": "Rn2tC-KsQ6B0",
        "colab_type": "code",
        "colab": {}
      },
      "source": [
        "# Convert 'total_bill' to a numeric dtype\n",
        "tips['total_bill'] = pd.to_numeric(tips['total_bill'], errors='coerce')\n",
        "\n",
        "# Convert 'tip' to a numeric dtype\n",
        "tips['tip'] = pd.to_numeric(tips['tip'], errors='coerce')\n",
        "\n",
        "# Print the info of tips\n",
        "print(tips.info())"
      ],
      "execution_count": 0,
      "outputs": []
    },
    {
      "cell_type": "markdown",
      "metadata": {
        "id": "lqSkaMN4Zmre",
        "colab_type": "text"
      },
      "source": [
        "##String Manipulation using reqular expressions                                                        \n",
        "-> to make dataset consistent with one another                               \n",
        "-> we use re library for pattern matching for string manipulation              \n",
        "```\n",
        "# syntax:              \n",
        "   import re\n",
        "   storing_pattern  = re.compile('<pattern>')        # saving the pattern in variable storing_pattern\n",
        "\n",
        "   result = patter.match('< required string >')      # matching the pattern with the string and storing the result \n",
        "\n",
        "```\n",
        "\n"
      ]
    },
    {
      "cell_type": "code",
      "metadata": {
        "id": "0zDQKKF-ZmFA",
        "colab_type": "code",
        "colab": {}
      },
      "source": [
        "# Import the regular expression module\n",
        "import re\n",
        "\n",
        "# Compile the pattern: prog\n",
        "prog = re.compile('\\d{3}-\\d{3}-\\d{4}')\n",
        "\n",
        "# See if the pattern matches\n",
        "result = prog.match('123-456-7890')\n",
        "print(bool(result))\n",
        "\n",
        "# See if the pattern matches\n",
        "result2 = prog.match('1123-456-7890')\n",
        "print(bool(result2))\n"
      ],
      "execution_count": 0,
      "outputs": []
    },
    {
      "cell_type": "code",
      "metadata": {
        "id": "6zjsNcyPomxK",
        "colab_type": "code",
        "colab": {}
      },
      "source": [
        "#we can directly pass the pattern to match as well\n",
        "\n",
        "pattern1 = bool(re.match(pattern='\\d{3}-\\d{3}-\\d{4}', string='123-456-7890'))\n",
        "print(pattern1)\n",
        "\n",
        "\n",
        "pattern2 = bool(re.match(pattern='\\$\\d*\\.\\d{2}', string='$123.45'))\n",
        "print(pattern2)\n",
        "\n",
        "\n",
        "pattern3 = bool(re.match(pattern='[A-Z]\\w*', string='Australia'))\n",
        "print(pattern3)\n"
      ],
      "execution_count": 0,
      "outputs": []
    },
    {
      "cell_type": "markdown",
      "metadata": {
        "id": "2LW10iTmnUbB",
        "colab_type": "text"
      },
      "source": [
        "When using a regular expression to extract multiple numbers (or multiple pattern matches, to be exact), you can use the re.findall() function."
      ]
    },
    {
      "cell_type": "code",
      "metadata": {
        "id": "Xer43b3AnVYr",
        "colab_type": "code",
        "outputId": "9516be89-26dd-4d98-9fd1-e520c8c60cab",
        "colab": {
          "base_uri": "https://localhost:8080/",
          "height": 34
        }
      },
      "source": [
        "# Import the regular expression module\n",
        "import re\n",
        "\n",
        "# Find the numeric values\n",
        "matches = re.findall('\\d+', 'the recipe calls for 10 strawberries and 1 banana')\n",
        "\n",
        "# Print the matches\n",
        "print(matches)\n"
      ],
      "execution_count": 0,
      "outputs": [
        {
          "output_type": "stream",
          "text": [
            "['10', '1']\n"
          ],
          "name": "stdout"
        }
      ]
    },
    {
      "cell_type": "markdown",
      "metadata": {
        "id": "u0hjBAkgIcVc",
        "colab_type": "text"
      },
      "source": [
        "## Custom functions to clean data                                               \n",
        "creating our own functions to process the data in a efficient manner"
      ]
    },
    {
      "cell_type": "code",
      "metadata": {
        "id": "jfJ6EKANIcwX",
        "colab_type": "code",
        "colab": {}
      },
      "source": [
        "# Define recode_gender()\n",
        "def recode_gender(gender):\n",
        "    \n",
        "    # Return 0 if gender is 'Female'\n",
        "    if gender == 'Female':\n",
        "        return 0\n",
        "    \n",
        "    # Return 1 if gender is 'Male'    \n",
        "    elif gender == 'Male':\n",
        "        return 1\n",
        "    \n",
        "    # Return np.nan    \n",
        "    else:\n",
        "        return np.nan\n",
        "\n",
        "# Apply the function to the sex column\n",
        "df['recode'] = df.sex.apply(recode_gender)\n",
        "\n",
        "# Print the first five rows of tips\n",
        "print(df.head())\n"
      ],
      "execution_count": 0,
      "outputs": []
    },
    {
      "cell_type": "code",
      "metadata": {
        "id": "3blvKBGqIeWY",
        "colab_type": "code",
        "colab": {}
      },
      "source": [
        "# Write the lambda function using replace\n",
        "df['total_dollar_replace'] = df.total_dollar.apply(lambda x: x.replace('$', ''))\n",
        "\n",
        "# Write the lambda function using regular expressions\n",
        "df['total_dollar_re'] = df.total_dollar.apply(lambda x: re.findall('\\d+\\.\\d+', x)[0])\n",
        "\n",
        "# Print the head of tips\n",
        "print(df.head())"
      ],
      "execution_count": 0,
      "outputs": []
    }
  ]
}