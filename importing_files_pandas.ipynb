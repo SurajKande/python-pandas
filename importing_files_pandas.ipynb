{
  "nbformat": 4,
  "nbformat_minor": 0,
  "metadata": {
    "colab": {
      "name": "importing_files_pandas.ipynb",
      "provenance": [],
      "collapsed_sections": [],
      "authorship_tag": "ABX9TyOBroBToHgMTk85WHkub1pQ",
      "include_colab_link": true
    },
    "kernelspec": {
      "name": "python3",
      "display_name": "Python 3"
    }
  },
  "cells": [
    {
      "cell_type": "markdown",
      "metadata": {
        "id": "view-in-github",
        "colab_type": "text"
      },
      "source": [
        "<a href=\"https://colab.research.google.com/github/SurajKande/python-pandas/blob/master/importing_files_pandas.ipynb\" target=\"_parent\"><img src=\"https://colab.research.google.com/assets/colab-badge.svg\" alt=\"Open In Colab\"/></a>"
      ]
    },
    {
      "cell_type": "markdown",
      "metadata": {
        "id": "Srb5NJIbS7kc",
        "colab_type": "text"
      },
      "source": [
        "# Importing Data using pandas"
      ]
    },
    {
      "cell_type": "code",
      "metadata": {
        "id": "M189v9I7Sy1a",
        "colab_type": "code",
        "colab": {}
      },
      "source": [
        "# Open a file\n",
        "file = open('moby_dick.txt', mode = 'r' )    # mode = r : 'r' implies we can only read the file      \n",
        "\n",
        "print(file.read())  #print out the contents of the file\n",
        "\n",
        "print(file.closed)  #to check whether the file is closed   \n",
        "\n",
        "file.close()\n",
        "\n",
        "print(file.closed)\n"
      ],
      "execution_count": 0,
      "outputs": []
    },
    {
      "cell_type": "markdown",
      "metadata": {
        "id": "ggxXZXADS_cU",
        "colab_type": "text"
      },
      "source": [
        "with keyword is used to open the file instead of open and close                 \n",
        "once out of this we can't access the file"
      ]
    },
    {
      "cell_type": "code",
      "metadata": {
        "id": "lD1v2LPoTEpn",
        "colab_type": "code",
        "colab": {}
      },
      "source": [
        "# opening the file using with  \n",
        "with open('moby_dick.txt') as file:\n",
        "    print(file.readline())\n",
        "    print(file.readline())\n",
        "    print(file.readline())"
      ],
      "execution_count": 0,
      "outputs": []
    },
    {
      "cell_type": "markdown",
      "metadata": {
        "id": "Y_ZmUaHdTHPR",
        "colab_type": "text"
      },
      "source": [
        "## Flat Files:                                                                \n",
        "flat files are basic text data containing the records                                                              \n",
        "**bold text**"
      ]
    },
    {
      "cell_type": "markdown",
      "metadata": {
        "id": "RJlLf9vNaOA7",
        "colab_type": "text"
      },
      "source": [
        "### importing flat files using Numpy                                            \n",
        "\n",
        "\n",
        "1.    np.loadtxt(file, delimeter = ' ', skiprows, usecols = [ , ], dtype )    : can handle datypes of same structure\n",
        "    *   delimeter can be ';'  ','  '\\'t  etc\n",
        "    *   skiprows says no of rows to skip\n",
        "    *   usecols is used to mention what columns are to be used \n",
        "    *   dtype is used to convert the data type into its type\n",
        "\n",
        "2.    np.genfromtxt()  : can handle such structures which have different data types\n",
        "    *   List item\n",
        "    *   List item\n",
        "\n",
        "\n",
        "\n",
        "\n",
        "\n"
      ]
    },
    {
      "cell_type": "code",
      "metadata": {
        "id": "ng9PK97XM3Cm",
        "colab_type": "code",
        "colab": {
          "base_uri": "https://localhost:8080/",
          "height": 34
        },
        "outputId": "49e0f965-0f3c-4d7e-a841-7b83e90b6054"
      },
      "source": [
        "#importing data from google drive\n",
        "from google.colab import drive\n",
        "drive.mount('/content/gdrive', force_remount = True)"
      ],
      "execution_count": 26,
      "outputs": [
        {
          "output_type": "stream",
          "text": [
            "Mounted at /content/gdrive\n"
          ],
          "name": "stdout"
        }
      ]
    },
    {
      "cell_type": "code",
      "metadata": {
        "id": "VdXAyg_mb4c3",
        "colab_type": "code",
        "colab": {
          "base_uri": "https://localhost:8080/",
          "height": 34
        },
        "outputId": "10f3f572-da0a-4852-8753-ef977f38e5a9"
      },
      "source": [
        "#example\n",
        "import numpy as np\n",
        "\n",
        "file_name = '/content/gdrive/My Drive/datasets/seaslugs.txt'\n",
        "\n",
        "# Import file data\n",
        "file_data = np.loadtxt(file_name, delimiter='\\t', dtype=str)   \n",
        "print(type(file_data))"
      ],
      "execution_count": 30,
      "outputs": [
        {
          "output_type": "stream",
          "text": [
            "<class 'numpy.ndarray'>\n"
          ],
          "name": "stdout"
        }
      ]
    },
    {
      "cell_type": "code",
      "metadata": {
        "id": "WMUi8APJe1Wt",
        "colab_type": "code",
        "colab": {
          "base_uri": "https://localhost:8080/",
          "height": 313
        },
        "outputId": "18f22d86-3881-4ae0-efe3-9ea21ad8e728"
      },
      "source": [
        "file_name1 = '/content/gdrive/My Drive/datasets/seaslugs.txt'\n",
        "\n",
        "import matplotlib.pyplot as plt\n",
        "#  Import data as string \n",
        "data_str = np.loadtxt(file_name1, delimiter='\\t', dtype=str)\n",
        "print(data_str[9])\n",
        "\n",
        "# Import data as floats and skip the first row: data_float\n",
        "data_float = np.loadtxt(file_name1, delimiter='\\t', dtype=float, skiprows=1)\n",
        "\n",
        "# Print the 10th element of data_float\n",
        "print(data_float[9])\n",
        "\n",
        "# Plot a scatterplot of the data\n",
        "plt.scatter(data_float[:, 0], data_float[:, 1])\n",
        "plt.xlabel('time (min.)')\n",
        "plt.ylabel('percentage of larvae')\n",
        "plt.show()\n"
      ],
      "execution_count": 29,
      "outputs": [
        {
          "output_type": "stream",
          "text": [
            "['0' '0.5']\n",
            "[0.    0.357]\n"
          ],
          "name": "stdout"
        },
        {
          "output_type": "display_data",
          "data": {
            "image/png": "[encoded data removed]",
            "text/plain": [
              "<Figure size 432x288 with 1 Axes>"
            ]
          },
          "metadata": {
            "tags": []
          }
        }
      ]
    },
    {
      "cell_type": "code",
      "metadata": {
        "id": "x1Mu3SlpfWlb",
        "colab_type": "code",
        "colab": {
          "base_uri": "https://localhost:8080/",
          "height": 34
        },
        "outputId": "c5a364c7-6243-4224-a536-6b4e264e8fc6"
      },
      "source": [
        "#customizing the pandas import \n",
        "txt_file = '/content/gdrive/My Drive/datasets/seaslugs.txt'\n",
        "\n",
        "# Read the first 5 rows of the file into a DataFrame\n",
        "data = pd.read_csv(txt_file, nrows =5, header=None, dtype = str)         #nrows = to select number of rows, header to mention if header is present\n",
        "\n",
        "# Build a numpy array from the DataFrame: data_array\n",
        "data_array = np.array(data)\n",
        "\n",
        "# Print the datatype of data_array to the shell\n",
        "print(type(data_array))\n"
      ],
      "execution_count": 32,
      "outputs": [
        {
          "output_type": "stream",
          "text": [
            "<class 'numpy.ndarray'>\n"
          ],
          "name": "stdout"
        }
      ]
    },
    {
      "cell_type": "code",
      "metadata": {
        "id": "7u2IGNei4K5B",
        "colab_type": "code",
        "colab": {}
      },
      "source": [
        "# Import matplotlib.pyplot as plt\n",
        "import matplotlib.pyplot as plt\n",
        "\n",
        "# Assign filename: file\n",
        "file = 'titanic_corrupt.txt'\n",
        "\n",
        "# Import file: data\n",
        "data = pd.read_csv(file, sep='\\t', comment= '#', na_values= 'Nothing')       \n",
        "     # sep is same as delimiter in numpy\n",
        "     # comment takes characters that comments occur after in the file, which in this case is '#'\n",
        "     # na_values takes a list of strings to recognize as NA/NaN, in this case the string 'Nothing'\n",
        "\n",
        "# Print the head of the DataFrame\n",
        "print(data.head())\n",
        "\n",
        "# Plot 'Age' variable in a histogram\n",
        "pd.DataFrame.hist(data[['Age']])\n",
        "plt.xlabel('Age (years)')\n",
        "plt.ylabel('count')\n",
        "plt.show()\n"
      ],
      "execution_count": 0,
      "outputs": []
    },
    {
      "cell_type": "markdown",
      "metadata": {
        "id": "2sNPfSm7VogT",
        "colab_type": "text"
      },
      "source": [
        "##pickle files"
      ]
    },
    {
      "cell_type": "code",
      "metadata": {
        "id": "HOJSqd2BVnsz",
        "colab_type": "code",
        "colab": {}
      },
      "source": [
        "# Import pickle package\n",
        "import pickle\n",
        "\n",
        "# Open pickle file and load data: d\n",
        "with open('data.pkl','rb') as file:         #rb -> read binary since pickle files are byte or bits sequence\n",
        "    d = pickle.load(file)\n",
        "\n",
        "# Print d\n",
        "print(d)\n",
        "\n",
        "# Print datatype of d\n",
        "print(type(d))"
      ],
      "execution_count": 0,
      "outputs": []
    },
    {
      "cell_type": "markdown",
      "metadata": {
        "id": "MLDldEih8xBX",
        "colab_type": "text"
      },
      "source": [
        "##importing excel files                                                         \n",
        "excel file generally contain no of different sheets "
      ]
    },
    {
      "cell_type": "code",
      "metadata": {
        "id": "0mzqMR128zA9",
        "colab_type": "code",
        "colab": {}
      },
      "source": [
        "# Import pandas\n",
        "import pandas as pd\n",
        "\n",
        "# spreadsheet \n",
        "exl_file = pd.ExcelFile('battledeath.xlsx')\n",
        "\n",
        "# Load spreadsheet: xls\n",
        "xls = pd.ExcelFile(exl_file)\n",
        "\n",
        "# Print sheet names\n",
        "print(xls.sheet_names)\n",
        "\n",
        "# Load a sheet into a DataFrame\n",
        "df1 = xls.parse('2004')\n",
        "\n",
        "# Print the head of the DataFrame\n",
        "print(df1.head())\n",
        "\n",
        "# Load a sheet into a DataFrame by index\n",
        "df2 = xls.parse(0)\n",
        "\n",
        "# Print the head of the DataFrame \n",
        "print(df2.head())"
      ],
      "execution_count": 0,
      "outputs": []
    }
  ]
}