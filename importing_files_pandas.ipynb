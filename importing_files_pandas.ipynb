{
  "nbformat": 4,
  "nbformat_minor": 0,
  "metadata": {
    "colab": {
      "name": "importing_files_pandas.ipynb",
      "provenance": [],
      "collapsed_sections": [],
      "authorship_tag": "ABX9TyOFNAIl3/8XVd65lw6SA+su",
      "include_colab_link": true
    },
    "kernelspec": {
      "name": "python3",
      "display_name": "Python 3"
    }
  },
  "cells": [
    {
      "cell_type": "markdown",
      "metadata": {
        "id": "view-in-github",
        "colab_type": "text"
      },
      "source": [
        "<a href=\"https://colab.research.google.com/github/SurajKande/python-pandas/blob/master/importing_files_pandas.ipynb\" target=\"_parent\"><img src=\"https://colab.research.google.com/assets/colab-badge.svg\" alt=\"Open In Colab\"/></a>"
      ]
    },
    {
      "cell_type": "markdown",
      "metadata": {
        "id": "Srb5NJIbS7kc",
        "colab_type": "text"
      },
      "source": [
        "# Importing Data using pandas"
      ]
    },
    {
      "cell_type": "code",
      "metadata": {
        "id": "gMpLMiqm5vI9",
        "colab_type": "code",
        "colab": {
          "base_uri": "https://localhost:8080/",
          "height": 122
        },
        "outputId": "818f4b43-6644-46df-9f0d-a7d7e006f5f9"
      },
      "source": [
        "# to connect gdrive to colab to import dataset\n",
        "from google.colab import drive\n",
        "drive.mount('/content/gdrive', force_remount = True)"
      ],
      "execution_count": 1,
      "outputs": [
        {
          "output_type": "stream",
          "text": [
            "Go to this URL in a browser: https://accounts.google.com/o/oauth2/auth?client_id=947318989803-6bn6qk8qdgf4n4g3pfee6491hc0brc4i.apps.googleusercontent.com&redirect_uri=urn%3aietf%3awg%3aoauth%3a2.0%3aoob&response_type=code&scope=email%20https%3a%2f%2fwww.googleapis.com%2fauth%2fdocs.test%20https%3a%2f%2fwww.googleapis.com%2fauth%2fdrive%20https%3a%2f%2fwww.googleapis.com%2fauth%2fdrive.photos.readonly%20https%3a%2f%2fwww.googleapis.com%2fauth%2fpeopleapi.readonly\n",
            "\n",
            "Enter your authorization code:\n",
            "··········\n",
            "Mounted at /content/gdrive\n"
          ],
          "name": "stdout"
        }
      ]
    },
    {
      "cell_type": "code",
      "metadata": {
        "id": "M189v9I7Sy1a",
        "colab_type": "code",
        "colab": {}
      },
      "source": [
        "# Open a file\n",
        "moby_dick_file = open('/content/gdrive/My Drive/datasets/moby_dick.txt', mode = 'r' )    # mode = r : 'r' implies we can only read the file      "
      ],
      "execution_count": 0,
      "outputs": []
    },
    {
      "cell_type": "code",
      "metadata": {
        "id": "wyX6ZYOO6oCX",
        "colab_type": "code",
        "colab": {
          "base_uri": "https://localhost:8080/",
          "height": 340
        },
        "outputId": "d06c6b1f-b946-4cd2-a88e-40b52d614b6b"
      },
      "source": [
        "print(moby_dick_file.read())  #print out the contents of the file"
      ],
      "execution_count": 4,
      "outputs": [
        {
          "output_type": "stream",
          "text": [
            "﻿CHAPTER 1. Loomings.\n",
            "\n",
            "Call me Ishmael. Some years ago--never mind how long precisely--having\n",
            "little or no money in my purse, and nothing particular to interest me on\n",
            "shore, I thought I would sail about a little and see the watery part of\n",
            "the world. It is a way I have of driving off the spleen and regulating\n",
            "the circulation. Whenever I find myself growing grim about the mouth;\n",
            "whenever it is a damp, drizzly November in my soul; whenever I find\n",
            "myself involuntarily pausing before coffin warehouses, and bringing up\n",
            "the rear of every funeral I meet; and especially whenever my hypos get\n",
            "such an upper hand of me, that it requires a strong moral principle to\n",
            "prevent me from deliberately stepping into the street, and methodically\n",
            "knocking people's hats off--then, I account it high time to get to sea\n",
            "as soon as I can. This is my substitute for pistol and ball. With a\n",
            "philosophical flourish Cato throws himself upon his sword; I quietly\n",
            "take to the ship. There is nothing surprising in this. If they but knew\n",
            "it, almost all men in their degree, some time or other, cherish very\n",
            "nearly the same feelings towards the ocean with me.\n",
            "\n"
          ],
          "name": "stdout"
        }
      ]
    },
    {
      "cell_type": "code",
      "metadata": {
        "id": "9uJnySYb61vR",
        "colab_type": "code",
        "colab": {
          "base_uri": "https://localhost:8080/",
          "height": 34
        },
        "outputId": "1503ee3e-db9f-4260-97f4-0f51009dae8a"
      },
      "source": [
        "print(file.closed)  #to check whether the file is closed   "
      ],
      "execution_count": 5,
      "outputs": [
        {
          "output_type": "stream",
          "text": [
            "False\n"
          ],
          "name": "stdout"
        }
      ]
    },
    {
      "cell_type": "code",
      "metadata": {
        "id": "PdTULmuR65QW",
        "colab_type": "code",
        "colab": {
          "base_uri": "https://localhost:8080/",
          "height": 34
        },
        "outputId": "20925842-261f-46b2-83a0-da233803eee9"
      },
      "source": [
        "file.close()\n",
        "print(file.closed)"
      ],
      "execution_count": 6,
      "outputs": [
        {
          "output_type": "stream",
          "text": [
            "True\n"
          ],
          "name": "stdout"
        }
      ]
    },
    {
      "cell_type": "markdown",
      "metadata": {
        "id": "ggxXZXADS_cU",
        "colab_type": "text"
      },
      "source": [
        "### 'with' keyword \n",
        "used to open the file instead of open and close                 \n",
        "we can't access the file out of this block"
      ]
    },
    {
      "cell_type": "code",
      "metadata": {
        "id": "lD1v2LPoTEpn",
        "colab_type": "code",
        "colab": {
          "base_uri": "https://localhost:8080/",
          "height": 119
        },
        "outputId": "3097b7a5-802b-46fd-b105-a9e6eb43a700"
      },
      "source": [
        "# opening the file using with  \n",
        "with open('/content/gdrive/My Drive/datasets/moby_dick.txt') as moby_dick_file:\n",
        "    print(moby_dick_file.readline())\n",
        "    print(moby_dick_file.readline())\n",
        "    print(moby_dick_file.readline())"
      ],
      "execution_count": 11,
      "outputs": [
        {
          "output_type": "stream",
          "text": [
            "﻿CHAPTER 1. Loomings.\n",
            "\n",
            "\n",
            "\n",
            "Call me Ishmael. Some years ago--never mind how long precisely--having\n",
            "\n"
          ],
          "name": "stdout"
        }
      ]
    },
    {
      "cell_type": "markdown",
      "metadata": {
        "id": "Y_ZmUaHdTHPR",
        "colab_type": "text"
      },
      "source": [
        "## Flat Files:                                                                \n",
        "flat files are basic text data containing the records                                                              \n",
        "**bold text**"
      ]
    },
    {
      "cell_type": "markdown",
      "metadata": {
        "id": "RJlLf9vNaOA7",
        "colab_type": "text"
      },
      "source": [
        "### importing flat files using Numpy                                            \n",
        "\n",
        "\n",
        "1.    np.loadtxt(file, delimeter = ' ', skiprows, usecols = [ , ], dtype )    : can handle datypes of same structure\n",
        "    *   delimeter can be ';'  ','  '\\'t  etc\n",
        "    *   skiprows says no of rows to skip\n",
        "    *   usecols is used to mention what columns are to be used \n",
        "    *   dtype is used to convert the data type into its type\n",
        "\n",
        "2.    np.genfromtxt()  : can handle such structures which have different data types\n",
        "    *   List item\n",
        "    *   List item\n",
        "\n",
        "\n",
        "\n",
        "\n",
        "\n"
      ]
    },
    {
      "cell_type": "code",
      "metadata": {
        "id": "ng9PK97XM3Cm",
        "colab_type": "code",
        "outputId": "49e0f965-0f3c-4d7e-a841-7b83e90b6054",
        "colab": {
          "base_uri": "https://localhost:8080/",
          "height": 34
        }
      },
      "source": [
        "#importing data from google drive\n",
        "from google.colab import drive\n",
        "drive.mount('/content/gdrive', force_remount = True)"
      ],
      "execution_count": 0,
      "outputs": [
        {
          "output_type": "stream",
          "text": [
            "Mounted at /content/gdrive\n"
          ],
          "name": "stdout"
        }
      ]
    },
    {
      "cell_type": "code",
      "metadata": {
        "id": "VdXAyg_mb4c3",
        "colab_type": "code",
        "outputId": "6ea9cea1-5a29-46d2-dd7b-af1674c4a262",
        "colab": {
          "base_uri": "https://localhost:8080/",
          "height": 34
        }
      },
      "source": [
        "#example\n",
        "import numpy as np\n",
        "\n",
        "file_name = '/content/gdrive/My Drive/datasets/seaslugs.txt'\n",
        "\n",
        "# Import file data\n",
        "file_data = np.loadtxt(file_name, delimiter='\\t', dtype=str)   \n",
        "print(type(file_data))"
      ],
      "execution_count": 18,
      "outputs": [
        {
          "output_type": "stream",
          "text": [
            "<class 'numpy.ndarray'>\n"
          ],
          "name": "stdout"
        }
      ]
    },
    {
      "cell_type": "code",
      "metadata": {
        "id": "L0idcosw-7cN",
        "colab_type": "code",
        "colab": {
          "base_uri": "https://localhost:8080/",
          "height": 833
        },
        "outputId": "40aebe8a-760e-4609-bdbe-bde85db1b63b"
      },
      "source": [
        "file_data"
      ],
      "execution_count": 14,
      "outputs": [
        {
          "output_type": "execute_result",
          "data": {
            "text/plain": [
              "array([['Time', 'Percent'],\n",
              "       ['99', '0.067'],\n",
              "       ['99', '0.133'],\n",
              "       ['99', '0.067'],\n",
              "       ['99', '0'],\n",
              "       ['99', '0'],\n",
              "       ['0', '0.5'],\n",
              "       ['0', '0.467'],\n",
              "       ['0', '0.857'],\n",
              "       ['0', '0.5'],\n",
              "       ['0', '0.357'],\n",
              "       ['0', '0.533'],\n",
              "       ['5', '0.467'],\n",
              "       ['5', '0.467'],\n",
              "       ['5', '0.125'],\n",
              "       ['5', '0.4'],\n",
              "       ['5', '0.214'],\n",
              "       ['5', '0.4'],\n",
              "       ['10', '0.067'],\n",
              "       ['10', '0.067'],\n",
              "       ['10', '0.333'],\n",
              "       ['10', '0.333'],\n",
              "       ['10', '0.133'],\n",
              "       ['10', '0.133'],\n",
              "       ['15', '0.267'],\n",
              "       ['15', '0.286'],\n",
              "       ['15', '0.333'],\n",
              "       ['15', '0.214'],\n",
              "       ['15', '0'],\n",
              "       ['15', '0'],\n",
              "       ['20', '0.267'],\n",
              "       ['20', '0.2'],\n",
              "       ['20', '0.267'],\n",
              "       ['20', '0.437'],\n",
              "       ['20', '0.077'],\n",
              "       ['20', '0.067'],\n",
              "       ['25', '0.133'],\n",
              "       ['25', '0.267'],\n",
              "       ['25', '0.412'],\n",
              "       ['25', '0'],\n",
              "       ['25', '0.067'],\n",
              "       ['25', '0.133'],\n",
              "       ['30', '0'],\n",
              "       ['30', '0.071'],\n",
              "       ['30', '0'],\n",
              "       ['30', '0.067'],\n",
              "       ['30', '0.067'],\n",
              "       ['30', '0.133']], dtype='<U7')"
            ]
          },
          "metadata": {
            "tags": []
          },
          "execution_count": 14
        }
      ]
    },
    {
      "cell_type": "code",
      "metadata": {
        "id": "Jkm43hkT8l0b",
        "colab_type": "code",
        "colab": {
          "base_uri": "https://localhost:8080/",
          "height": 68
        },
        "outputId": "8be97030-b5d8-4b95-fa19-b7c83ed08a33"
      },
      "source": [
        "# Print the 8th, 9th and 10th element of data_float\n",
        "data_str = np.loadtxt(file_name, delimiter='\\t', dtype=str)\n",
        "print(data_str[7])\n",
        "print(data_str[8])\n",
        "print(data_str[9])"
      ],
      "execution_count": 21,
      "outputs": [
        {
          "output_type": "stream",
          "text": [
            "['0' '0.467']\n",
            "['0' '0.857']\n",
            "['0' '0.5']\n"
          ],
          "name": "stdout"
        }
      ]
    },
    {
      "cell_type": "code",
      "metadata": {
        "id": "WMUi8APJe1Wt",
        "colab_type": "code",
        "outputId": "bb864971-93c4-4d94-ba41-4b1c3cb24843",
        "colab": {
          "base_uri": "https://localhost:8080/",
          "height": 68
        }
      },
      "source": [
        "# Import data as floats and skip the first row: data_float\n",
        "data_float = np.loadtxt(file_name, delimiter='\\t', dtype=float, skiprows=1)\n",
        "\n",
        "# Print the 8th, 9th and 10th element of data_float\n",
        "print(data_float[7])\n",
        "print(data_float[8])\n",
        "print(data_float[9])"
      ],
      "execution_count": 22,
      "outputs": [
        {
          "output_type": "stream",
          "text": [
            "[0.    0.857]\n",
            "[0.  0.5]\n",
            "[0.    0.357]\n"
          ],
          "name": "stdout"
        }
      ]
    },
    {
      "cell_type": "code",
      "metadata": {
        "id": "jz53Ihcx_F6H",
        "colab_type": "code",
        "colab": {
          "base_uri": "https://localhost:8080/",
          "height": 279
        },
        "outputId": "c08d0aa2-67ac-40da-a905-4c4c77d66ab4"
      },
      "source": [
        "# Plot a scatterplot of the data\n",
        "import matplotlib.pyplot as plt\n",
        "plt.scatter(data_float[:, 0], data_float[:, 1])\n",
        "plt.xlabel('time (min.)')\n",
        "plt.ylabel('percentage of larvae')\n",
        "plt.show()"
      ],
      "execution_count": 25,
      "outputs": [
        {
          "output_type": "display_data",
          "data": {
            "image/png": "[encoded data removed]",
            "text/plain": [
              "<Figure size 432x288 with 1 Axes>"
            ]
          },
          "metadata": {
            "tags": []
          }
        }
      ]
    },
    {
      "cell_type": "markdown",
      "metadata": {
        "id": "5WcAa_5O_-71",
        "colab_type": "text"
      },
      "source": [
        "### customizing the pandas import "
      ]
    },
    {
      "cell_type": "code",
      "metadata": {
        "id": "x1Mu3SlpfWlb",
        "colab_type": "code",
        "outputId": "6f908b54-1fe9-4474-b531-377aedf8cf78",
        "colab": {
          "base_uri": "https://localhost:8080/",
          "height": 51
        }
      },
      "source": [
        "txt_file = '/content/gdrive/My Drive/datasets/seaslugs.txt'\n",
        "\n",
        "import pandas as pd\n",
        "\n",
        "# Read the first 5 rows of the file into a DataFrame\n",
        "data = pd.read_csv(txt_file, nrows =5, header=None, dtype = str)         #nrows = to select number of rows, header to mention if header is present\n",
        "\n",
        "# Build a numpy array from the DataFrame: data_array\n",
        "data_array = np.array(data)\n",
        "\n",
        "# Print the datatype of data_array to the shell\n",
        "print(type(data_array))\n",
        "print(type(data))"
      ],
      "execution_count": 29,
      "outputs": [
        {
          "output_type": "stream",
          "text": [
            "<class 'numpy.ndarray'>\n",
            "<class 'pandas.core.frame.DataFrame'>\n"
          ],
          "name": "stdout"
        }
      ]
    },
    {
      "cell_type": "code",
      "metadata": {
        "id": "s6T5saoHO6vW",
        "colab_type": "code",
        "colab": {
          "base_uri": "https://localhost:8080/",
          "height": 204
        },
        "outputId": "67a5ed54-5067-4be3-c7f7-771cbeb7df71"
      },
      "source": [
        "data"
      ],
      "execution_count": 30,
      "outputs": [
        {
          "output_type": "execute_result",
          "data": {
            "text/html": [
              "<div>\n",
              "<style scoped>\n",
              "    .dataframe tbody tr th:only-of-type {\n",
              "        vertical-align: middle;\n",
              "    }\n",
              "\n",
              "    .dataframe tbody tr th {\n",
              "        vertical-align: top;\n",
              "    }\n",
              "\n",
              "    .dataframe thead th {\n",
              "        text-align: right;\n",
              "    }\n",
              "</style>\n",
              "<table border=\"1\" class=\"dataframe\">\n",
              "  <thead>\n",
              "    <tr style=\"text-align: right;\">\n",
              "      <th></th>\n",
              "      <th>0</th>\n",
              "    </tr>\n",
              "  </thead>\n",
              "  <tbody>\n",
              "    <tr>\n",
              "      <th>0</th>\n",
              "      <td>Time\\tPercent</td>\n",
              "    </tr>\n",
              "    <tr>\n",
              "      <th>1</th>\n",
              "      <td>99\\t0.067</td>\n",
              "    </tr>\n",
              "    <tr>\n",
              "      <th>2</th>\n",
              "      <td>99\\t0.133</td>\n",
              "    </tr>\n",
              "    <tr>\n",
              "      <th>3</th>\n",
              "      <td>99\\t0.067</td>\n",
              "    </tr>\n",
              "    <tr>\n",
              "      <th>4</th>\n",
              "      <td>99\\t0</td>\n",
              "    </tr>\n",
              "  </tbody>\n",
              "</table>\n",
              "</div>"
            ],
            "text/plain": [
              "               0\n",
              "0  Time\\tPercent\n",
              "1      99\\t0.067\n",
              "2      99\\t0.133\n",
              "3      99\\t0.067\n",
              "4          99\\t0"
            ]
          },
          "metadata": {
            "tags": []
          },
          "execution_count": 30
        }
      ]
    },
    {
      "cell_type": "code",
      "metadata": {
        "id": "7u2IGNei4K5B",
        "colab_type": "code",
        "colab": {}
      },
      "source": [
        "# Import matplotlib.pyplot as plt\n",
        "import matplotlib.pyplot as plt\n",
        "\n",
        "# Assign filename: file\n",
        "file = 'titanic_corrupt.txt'\n",
        "\n",
        "# Import file: data\n",
        "data = pd.read_csv(file, sep='\\t', comment= '#', na_values= 'Nothing')       \n",
        "     # sep is same as delimiter in numpy\n",
        "     # comment takes characters that comments occur after in the file, which in this case is '#'\n",
        "     # na_values takes a list of strings to recognize as NA/NaN, in this case the string 'Nothing'\n",
        "\n",
        "# Print the head of the DataFrame\n",
        "print(data.head())\n",
        "\n",
        "# Plot 'Age' variable in a histogram\n",
        "pd.DataFrame.hist(data[['Age']])\n",
        "plt.xlabel('Age (years)')\n",
        "plt.ylabel('count')\n",
        "plt.show()\n"
      ],
      "execution_count": 0,
      "outputs": []
    },
    {
      "cell_type": "markdown",
      "metadata": {
        "id": "2sNPfSm7VogT",
        "colab_type": "text"
      },
      "source": [
        "##pickle files"
      ]
    },
    {
      "cell_type": "code",
      "metadata": {
        "id": "HOJSqd2BVnsz",
        "colab_type": "code",
        "colab": {}
      },
      "source": [
        "# Import pickle package\n",
        "import pickle\n",
        "\n",
        "# Open pickle file and load data: d\n",
        "with open('data.pkl','rb') as file:         #rb -> read binary since pickle files are byte or bits sequence\n",
        "    d = pickle.load(file)\n",
        "\n",
        "# Print d\n",
        "print(d)\n",
        "\n",
        "# Print datatype of d\n",
        "print(type(d))"
      ],
      "execution_count": 0,
      "outputs": []
    },
    {
      "cell_type": "markdown",
      "metadata": {
        "id": "MLDldEih8xBX",
        "colab_type": "text"
      },
      "source": [
        "##importing excel files                                                         \n",
        "excel file generally contain no of different sheets "
      ]
    },
    {
      "cell_type": "code",
      "metadata": {
        "id": "0mzqMR128zA9",
        "colab_type": "code",
        "colab": {}
      },
      "source": [
        "# Import pandas\n",
        "import pandas as pd\n",
        "\n",
        "# spreadsheet \n",
        "exl_file = pd.ExcelFile('battledeath.xlsx')\n",
        "\n",
        "# Load spreadsheet: xls\n",
        "xls = pd.ExcelFile(exl_file)\n",
        "\n",
        "# Print sheet names\n",
        "print(xls.sheet_names)\n",
        "\n",
        "# Load a sheet into a DataFrame\n",
        "df1 = xls.parse('2004')\n",
        "\n",
        "# Print the head of the DataFrame\n",
        "print(df1.head())\n",
        "\n",
        "# Load a sheet into a DataFrame by index\n",
        "df2 = xls.parse(0)\n",
        "\n",
        "# Print the head of the DataFrame \n",
        "print(df2.head())"
      ],
      "execution_count": 0,
      "outputs": []
    },
    {
      "cell_type": "markdown",
      "metadata": {
        "id": "OzG4QIef_U1v",
        "colab_type": "text"
      },
      "source": [
        "###importing matlab files                                                       \n",
        "we use SciPy to import matlab files"
      ]
    },
    {
      "cell_type": "code",
      "metadata": {
        "id": "3zg3gFRY_bwQ",
        "colab_type": "code",
        "colab": {}
      },
      "source": [
        "# Import package\n",
        "import scipy.io\n",
        "\n",
        "# Load MATLAB file: mat\n",
        "mat = scipy.io.loadmat('matlab_file.mat')\n",
        "\n",
        "# Print the datatype type of mat\n",
        "print(type(mat))\n"
      ],
      "execution_count": 0,
      "outputs": []
    },
    {
      "cell_type": "markdown",
      "metadata": {
        "id": "PIrawrqjARVX",
        "colab_type": "text"
      },
      "source": [
        "#importing files from web"
      ]
    },
    {
      "cell_type": "code",
      "metadata": {
        "id": "FyqXHB47AVT2",
        "colab_type": "code",
        "outputId": "8079e7d4-9196-42fc-e54e-70b7da4ef08f",
        "colab": {
          "base_uri": "https://localhost:8080/",
          "height": 204
        }
      },
      "source": [
        "# Import package\n",
        "from urllib.request import urlretrieve\n",
        "\n",
        "# Import pandas\n",
        "import pandas as pd\n",
        "\n",
        "# Assign url of file: url\n",
        "url = 'https://s3.amazonaws.com/assets.datacamp.com/production/course_1606/datasets/winequality-red.csv'\n",
        "\n",
        "# Save file locally\n",
        "urlretrieve(url, 'winequality-red.csv')\n",
        "\n",
        "# Read file into a DataFrame and print its head\n",
        "df = pd.read_csv('winequality-red.csv', sep=';')\n",
        "\n",
        "df.head()     #prints the first 5 rows   "
      ],
      "execution_count": 0,
      "outputs": [
        {
          "output_type": "execute_result",
          "data": {
            "text/html": [
              "<div>\n",
              "<style scoped>\n",
              "    .dataframe tbody tr th:only-of-type {\n",
              "        vertical-align: middle;\n",
              "    }\n",
              "\n",
              "    .dataframe tbody tr th {\n",
              "        vertical-align: top;\n",
              "    }\n",
              "\n",
              "    .dataframe thead th {\n",
              "        text-align: right;\n",
              "    }\n",
              "</style>\n",
              "<table border=\"1\" class=\"dataframe\">\n",
              "  <thead>\n",
              "    <tr style=\"text-align: right;\">\n",
              "      <th></th>\n",
              "      <th>fixed acidity</th>\n",
              "      <th>volatile acidity</th>\n",
              "      <th>citric acid</th>\n",
              "      <th>residual sugar</th>\n",
              "      <th>chlorides</th>\n",
              "      <th>free sulfur dioxide</th>\n",
              "      <th>total sulfur dioxide</th>\n",
              "      <th>density</th>\n",
              "      <th>pH</th>\n",
              "      <th>sulphates</th>\n",
              "      <th>alcohol</th>\n",
              "      <th>quality</th>\n",
              "    </tr>\n",
              "  </thead>\n",
              "  <tbody>\n",
              "    <tr>\n",
              "      <th>0</th>\n",
              "      <td>7.4</td>\n",
              "      <td>0.70</td>\n",
              "      <td>0.00</td>\n",
              "      <td>1.9</td>\n",
              "      <td>0.076</td>\n",
              "      <td>11.0</td>\n",
              "      <td>34.0</td>\n",
              "      <td>0.9978</td>\n",
              "      <td>3.51</td>\n",
              "      <td>0.56</td>\n",
              "      <td>9.4</td>\n",
              "      <td>5</td>\n",
              "    </tr>\n",
              "    <tr>\n",
              "      <th>1</th>\n",
              "      <td>7.8</td>\n",
              "      <td>0.88</td>\n",
              "      <td>0.00</td>\n",
              "      <td>2.6</td>\n",
              "      <td>0.098</td>\n",
              "      <td>25.0</td>\n",
              "      <td>67.0</td>\n",
              "      <td>0.9968</td>\n",
              "      <td>3.20</td>\n",
              "      <td>0.68</td>\n",
              "      <td>9.8</td>\n",
              "      <td>5</td>\n",
              "    </tr>\n",
              "    <tr>\n",
              "      <th>2</th>\n",
              "      <td>7.8</td>\n",
              "      <td>0.76</td>\n",
              "      <td>0.04</td>\n",
              "      <td>2.3</td>\n",
              "      <td>0.092</td>\n",
              "      <td>15.0</td>\n",
              "      <td>54.0</td>\n",
              "      <td>0.9970</td>\n",
              "      <td>3.26</td>\n",
              "      <td>0.65</td>\n",
              "      <td>9.8</td>\n",
              "      <td>5</td>\n",
              "    </tr>\n",
              "    <tr>\n",
              "      <th>3</th>\n",
              "      <td>11.2</td>\n",
              "      <td>0.28</td>\n",
              "      <td>0.56</td>\n",
              "      <td>1.9</td>\n",
              "      <td>0.075</td>\n",
              "      <td>17.0</td>\n",
              "      <td>60.0</td>\n",
              "      <td>0.9980</td>\n",
              "      <td>3.16</td>\n",
              "      <td>0.58</td>\n",
              "      <td>9.8</td>\n",
              "      <td>6</td>\n",
              "    </tr>\n",
              "    <tr>\n",
              "      <th>4</th>\n",
              "      <td>7.4</td>\n",
              "      <td>0.70</td>\n",
              "      <td>0.00</td>\n",
              "      <td>1.9</td>\n",
              "      <td>0.076</td>\n",
              "      <td>11.0</td>\n",
              "      <td>34.0</td>\n",
              "      <td>0.9978</td>\n",
              "      <td>3.51</td>\n",
              "      <td>0.56</td>\n",
              "      <td>9.4</td>\n",
              "      <td>5</td>\n",
              "    </tr>\n",
              "  </tbody>\n",
              "</table>\n",
              "</div>"
            ],
            "text/plain": [
              "   fixed acidity  volatile acidity  citric acid  ...  sulphates  alcohol  quality\n",
              "0            7.4              0.70         0.00  ...       0.56      9.4        5\n",
              "1            7.8              0.88         0.00  ...       0.68      9.8        5\n",
              "2            7.8              0.76         0.04  ...       0.65      9.8        5\n",
              "3           11.2              0.28         0.56  ...       0.58      9.8        6\n",
              "4            7.4              0.70         0.00  ...       0.56      9.4        5\n",
              "\n",
              "[5 rows x 12 columns]"
            ]
          },
          "metadata": {
            "tags": []
          },
          "execution_count": 5
        }
      ]
    },
    {
      "cell_type": "code",
      "metadata": {
        "id": "u-WhTJ-enRKS",
        "colab_type": "code",
        "outputId": "bcd20557-527b-45b1-db53-ec774cbdbb68",
        "colab": {
          "base_uri": "https://localhost:8080/",
          "height": 204
        }
      },
      "source": [
        "df.tail()    #prints the last 5 rows"
      ],
      "execution_count": 0,
      "outputs": [
        {
          "output_type": "execute_result",
          "data": {
            "text/html": [
              "<div>\n",
              "<style scoped>\n",
              "    .dataframe tbody tr th:only-of-type {\n",
              "        vertical-align: middle;\n",
              "    }\n",
              "\n",
              "    .dataframe tbody tr th {\n",
              "        vertical-align: top;\n",
              "    }\n",
              "\n",
              "    .dataframe thead th {\n",
              "        text-align: right;\n",
              "    }\n",
              "</style>\n",
              "<table border=\"1\" class=\"dataframe\">\n",
              "  <thead>\n",
              "    <tr style=\"text-align: right;\">\n",
              "      <th></th>\n",
              "      <th>fixed acidity</th>\n",
              "      <th>volatile acidity</th>\n",
              "      <th>citric acid</th>\n",
              "      <th>residual sugar</th>\n",
              "      <th>chlorides</th>\n",
              "      <th>free sulfur dioxide</th>\n",
              "      <th>total sulfur dioxide</th>\n",
              "      <th>density</th>\n",
              "      <th>pH</th>\n",
              "      <th>sulphates</th>\n",
              "      <th>alcohol</th>\n",
              "      <th>quality</th>\n",
              "    </tr>\n",
              "  </thead>\n",
              "  <tbody>\n",
              "    <tr>\n",
              "      <th>1594</th>\n",
              "      <td>6.2</td>\n",
              "      <td>0.600</td>\n",
              "      <td>0.08</td>\n",
              "      <td>2.0</td>\n",
              "      <td>0.090</td>\n",
              "      <td>32.0</td>\n",
              "      <td>44.0</td>\n",
              "      <td>0.99490</td>\n",
              "      <td>3.45</td>\n",
              "      <td>0.58</td>\n",
              "      <td>10.5</td>\n",
              "      <td>5</td>\n",
              "    </tr>\n",
              "    <tr>\n",
              "      <th>1595</th>\n",
              "      <td>5.9</td>\n",
              "      <td>0.550</td>\n",
              "      <td>0.10</td>\n",
              "      <td>2.2</td>\n",
              "      <td>0.062</td>\n",
              "      <td>39.0</td>\n",
              "      <td>51.0</td>\n",
              "      <td>0.99512</td>\n",
              "      <td>3.52</td>\n",
              "      <td>0.76</td>\n",
              "      <td>11.2</td>\n",
              "      <td>6</td>\n",
              "    </tr>\n",
              "    <tr>\n",
              "      <th>1596</th>\n",
              "      <td>6.3</td>\n",
              "      <td>0.510</td>\n",
              "      <td>0.13</td>\n",
              "      <td>2.3</td>\n",
              "      <td>0.076</td>\n",
              "      <td>29.0</td>\n",
              "      <td>40.0</td>\n",
              "      <td>0.99574</td>\n",
              "      <td>3.42</td>\n",
              "      <td>0.75</td>\n",
              "      <td>11.0</td>\n",
              "      <td>6</td>\n",
              "    </tr>\n",
              "    <tr>\n",
              "      <th>1597</th>\n",
              "      <td>5.9</td>\n",
              "      <td>0.645</td>\n",
              "      <td>0.12</td>\n",
              "      <td>2.0</td>\n",
              "      <td>0.075</td>\n",
              "      <td>32.0</td>\n",
              "      <td>44.0</td>\n",
              "      <td>0.99547</td>\n",
              "      <td>3.57</td>\n",
              "      <td>0.71</td>\n",
              "      <td>10.2</td>\n",
              "      <td>5</td>\n",
              "    </tr>\n",
              "    <tr>\n",
              "      <th>1598</th>\n",
              "      <td>6.0</td>\n",
              "      <td>0.310</td>\n",
              "      <td>0.47</td>\n",
              "      <td>3.6</td>\n",
              "      <td>0.067</td>\n",
              "      <td>18.0</td>\n",
              "      <td>42.0</td>\n",
              "      <td>0.99549</td>\n",
              "      <td>3.39</td>\n",
              "      <td>0.66</td>\n",
              "      <td>11.0</td>\n",
              "      <td>6</td>\n",
              "    </tr>\n",
              "  </tbody>\n",
              "</table>\n",
              "</div>"
            ],
            "text/plain": [
              "      fixed acidity  volatile acidity  citric acid  ...  sulphates  alcohol  quality\n",
              "1594            6.2             0.600         0.08  ...       0.58     10.5        5\n",
              "1595            5.9             0.550         0.10  ...       0.76     11.2        6\n",
              "1596            6.3             0.510         0.13  ...       0.75     11.0        6\n",
              "1597            5.9             0.645         0.12  ...       0.71     10.2        5\n",
              "1598            6.0             0.310         0.47  ...       0.66     11.0        6\n",
              "\n",
              "[5 rows x 12 columns]"
            ]
          },
          "metadata": {
            "tags": []
          },
          "execution_count": 6
        }
      ]
    },
    {
      "cell_type": "code",
      "metadata": {
        "id": "1BLQk3j0pCMP",
        "colab_type": "code",
        "outputId": "0e9a757c-fb90-4970-c0e8-47e1bf8ecfd6",
        "colab": {
          "base_uri": "https://localhost:8080/",
          "height": 437
        }
      },
      "source": [
        "# Import packages\n",
        "import matplotlib.pyplot as plt\n",
        "import pandas as pd\n",
        "\n",
        "# Assign url of file: url\n",
        "url = 'https://s3.amazonaws.com/assets.datacamp.com/production/course_1606/datasets/winequality-red.csv'\n",
        "\n",
        "# Read file into a DataFrame: df\n",
        "df = pd.read_csv(url, delimiter = ';')\n",
        "\n",
        "# Print the head of the DataFrame\n",
        "print(df.head())\n",
        "\n",
        "# Plot first column of df\n",
        "pd.DataFrame.hist(df.iloc[:, 0:1])\n",
        "plt.xlabel('fixed acidity (g(tartaric acid)/dm$^3$)')\n",
        "plt.ylabel('count')\n",
        "plt.show()\n"
      ],
      "execution_count": 0,
      "outputs": [
        {
          "output_type": "stream",
          "text": [
            "   fixed acidity  volatile acidity  citric acid  ...  sulphates  alcohol  quality\n",
            "0            7.4              0.70         0.00  ...       0.56      9.4        5\n",
            "1            7.8              0.88         0.00  ...       0.68      9.8        5\n",
            "2            7.8              0.76         0.04  ...       0.65      9.8        5\n",
            "3           11.2              0.28         0.56  ...       0.58      9.8        6\n",
            "4            7.4              0.70         0.00  ...       0.56      9.4        5\n",
            "\n",
            "[5 rows x 12 columns]\n"
          ],
          "name": "stdout"
        },
        {
          "output_type": "display_data",
          "data": {
            "image/png": "[encoded data removed]",
            "text/plain": [
              "<Figure size 432x288 with 1 Axes>"
            ]
          },
          "metadata": {
            "tags": []
          }
        }
      ]
    },
    {
      "cell_type": "code",
      "metadata": {
        "id": "Q8d52rqgrQQw",
        "colab_type": "code",
        "outputId": "8e8463bf-eac8-4053-a4d0-6780b5e989d0",
        "colab": {
          "base_uri": "https://localhost:8080/",
          "height": 136
        }
      },
      "source": [
        "# Import package\n",
        "import pandas as pd\n",
        "\n",
        "# Assign url of file: url\n",
        "url = 'http://s3.amazonaws.com/assets.datacamp.com/course/importing_data_into_r/latitude.xls'\n",
        "\n",
        "# Read in all sheets of Excel file: xls\n",
        "xls = pd.read_excel(url, sheet_name = None)\n",
        "\n",
        "# Print the sheetnames to the shell\n",
        "#print(xls.sheet_names)\n",
        "print(xls.keys())\n",
        "\n",
        "# Print the head of the first sheet (using its name, NOT its index)\n",
        "print(xls['1700'].head())\n"
      ],
      "execution_count": 0,
      "outputs": [
        {
          "output_type": "stream",
          "text": [
            "odict_keys(['1700', '1900'])\n",
            "                 country       1700\n",
            "0            Afghanistan  34.565000\n",
            "1  Akrotiri and Dhekelia  34.616667\n",
            "2                Albania  41.312000\n",
            "3                Algeria  36.720000\n",
            "4         American Samoa -14.307000\n"
          ],
          "name": "stdout"
        }
      ]
    },
    {
      "cell_type": "markdown",
      "metadata": {
        "id": "mMa1uXBgwbKG",
        "colab_type": "text"
      },
      "source": [
        ""
      ]
    },
    {
      "cell_type": "code",
      "metadata": {
        "id": "7Xd_S1C8wZ_o",
        "colab_type": "code",
        "outputId": "f9ee6119-817d-41ed-c758-5bc64639a25c",
        "colab": {
          "base_uri": "https://localhost:8080/",
          "height": 71
        }
      },
      "source": [
        "# Import packages\n",
        "from urllib.request import urlopen, Request\n",
        "\n",
        "# Specify the url\n",
        "url = \"https://www.wikipedia.org/\"\n",
        "\n",
        "# This packages the request: request\n",
        "request = Request(url)\n",
        "\n",
        "# Sends the request and catches the response: response\n",
        "response = urlopen(request)\n",
        "\n",
        "# Print the datatype of response\n",
        "print(type(response))\n",
        "\n",
        "#store the html data\n",
        "data = response.read()\n",
        "\n",
        "print(data)\n",
        "# Be polite and close the response!\n",
        "response.close()\n",
        "#"
      ],
      "execution_count": 0,
      "outputs": [
        {
          "output_type": "stream",
          "text": [
            "<class 'http.client.HTTPResponse'>\n",
            "b'<!DOCTYPE html>\\n<html lang=\"mul\" class=\"no-js\">\\n<head>\\n<meta charset=\"utf-8\">\\n<title>Wikipedia</title>\\n<meta name=\"description\" content=\"Wikipedia is a free online encyclopedia, created and edited by volunteers around the world and hosted by the Wikimedia Foundation.\">\\n<![if gt IE 7]>\\n<script>\\ndocument.documentElement.className = document.documentElement.className.replace( /(^|\\\\s)no-js(\\\\s|$)/, \"$1js-enabled$2\" );\\n</script>\\n<![endif]>\\n<!--[if lt IE 7]><meta http-equiv=\"imagetoolbar\" content=\"no\"><![endif]-->\\n<meta name=\"viewport\" content=\"initial-scale=1,user-scalable=yes\">\\n<link rel=\"apple-touch-icon\" href=\"/static/apple-touch/wikipedia.png\">\\n<link rel=\"shortcut icon\" href=\"/static/favicon/wikipedia.ico\">\\n<link rel=\"license\" href=\"//creativecommons.org/licenses/by-sa/3.0/\">\\n<style>\\n.sprite{background-image:url(portal/wikipedia.org/assets/img/sprite-81a290a5.png);background-image:linear-gradient(transparent,transparent),url(portal/wikipedia.org/assets/img/sprite-81a290a5.svg);background-repeat:no-repeat;display:inline-block;vertical-align:middle}.svg-Commons-logo_sister{background-position:0 0;width:47px;height:47px}.svg-MediaWiki-logo_sister{background-position:0 -47px;width:42px;height:42px}.svg-Meta-Wiki-logo_sister{background-position:0 -89px;width:37px;height:37px}.svg-Wikibooks-logo_sister{background-position:0 -126px;width:37px;height:37px}.svg-Wikidata-logo_sister{background-position:0 -163px;width:49px;height:49px}.svg-Wikimedia-logo_black{background-position:0 -212px;width:42px;height:42px}.svg-Wikipedia_wordmark{background-position:0 -254px;width:176px;height:32px}.svg-Wikiquote-logo_sister{background-position:0 -286px;width:42px;height:42px}.svg-Wikisource-logo_sister{background-position:0 -328px;width:39px;height:39px}.svg-Wikispecies-logo_sister{background-position:0 -367px;width:42px;height:42px}.svg-Wikiversity-logo_sister{background-position:0 -409px;width:43px;height:37px}.svg-Wikivoyage-logo_sister{background-position:0 -446px;width:36px;height:36px}.svg-Wiktionary-logo_sister{background-position:0 -482px;width:37px;height:37px}.svg-arrow-down{background-position:0 -519px;width:12px;height:8px}.svg-arrow-down-blue{background-position:0 -527px;width:12px;height:8px}.svg-badge_google_play_store{background-position:0 -535px;width:124px;height:38px}.svg-badge_ios_app_store{background-position:0 -573px;width:110px;height:38px}.svg-noimage{background-position:0 -611px;width:58px;height:58px}.svg-search-icon{background-position:0 -669px;width:22px;height:22px}.svg-translate-icon{background-position:0 -691px;width:25px;height:18px}.svg-wikipedia_app_tile{background-position:0 -709px;width:42px;height:42px}\\n</style>\\n<style>\\n/*!\\nPure v0.6.1-pre\\nCopyright 2014 Yahoo! Inc. All rights reserved.\\nLicensed under the BSD License.\\nhttps://github.com/yahoo/pure/blob/master/LICENSE.md\\n*//*!\\nnormalize.css v^3.0 | MIT License | git.io/normalize\\nCopyright (c) Nicolas Gallagher and Jonathan Neal\\n*//*! normalize.css v3.0.3 | MIT License | github.com/necolas/normalize.css */html{font-family:sans-serif;-ms-text-size-adjust:100%;-webkit-text-size-adjust:100%;font-size:62.5%}body{margin:0}article,aside,details,figcaption,figure,footer,header,hgroup,main,menu,nav,section,summary{display:block}audio,canvas,progress,video{display:inline-block;vertical-align:baseline}audio:not([controls]){display:none;height:0}[hidden],template{display:none}a{background-color:transparent}a:active,a:hover{outline:0}abbr[title]{border-bottom:1px dotted}b,strong{font-weight:700}dfn{font-style:italic}h1{font-size:32px;font-size:3.2rem;margin:10.7px 0;margin:1.07rem 0}mark{background:#fc3;color:#000}small{font-size:12px;font-size:1.2rem}sub,sup{font-size:75%;line-height:0;position:relative;vertical-align:baseline}sup{top:-.5em}sub{bottom:-.25em}img{border:0}svg:not(:root){overflow:hidden}figure{margin:16px 40px;margin:1.6rem 4rem}hr{-webkit-box-sizing:content-box;-moz-box-sizing:content-box;box-sizing:content-box;height:0}pre{overflow:auto}code,kbd,pre,samp{font-family:monospace,monospace;font-size:14px;font-size:1.4rem}button,input,optgroup,select,textarea{color:inherit;font:inherit;margin:0}button{overflow:visible}button,select{text-transform:none}button,html input[type=button],input[type=reset],input[type=submit]{-webkit-appearance:button;cursor:pointer}button[disabled],html input[disabled]{cursor:default}button::-moz-focus-inner,input::-moz-focus-inner{border:0;padding:0}input{line-height:normal}input[type=checkbox],input[type=radio]{-webkit-box-sizing:border-box;-moz-box-sizing:border-box;box-sizing:border-box;padding:0}input[type=number]::-webkit-inner-spin-button,input[type=number]::-webkit-outer-spin-button{height:auto}input[type=search]{-webkit-appearance:none;-webkit-box-sizing:content-box;-moz-box-sizing:content-box;box-sizing:content-box}input[type=search]::-webkit-search-cancel-button,input[type=search]::-webkit-search-decoration{-webkit-appearance:none}input[type=search]:focus{outline-offset:-2px}fieldset{border:1px solid silver;margin:0 2px;margin:0 .2rem;padding:5.6px 10px 12px;padding:.56rem 1rem 1.2rem}legend{border:0;padding:0}textarea{overflow:auto}optgroup{font-weight:700}table{border-collapse:collapse;border-spacing:0}td,th{padding:0}.hidden,[hidden]{display:none!important}.screen-reader-text{display:block;position:absolute!important;clip:rect(1px,1px,1px,1px);width:1px;height:1px;margin:-1px;border:0;padding:0;overflow:hidden}body{background-color:#fff;font-family:-apple-system,BlinkMacSystemFont,\\'Segoe UI\\',Roboto,Lato,\\'Helvetica Neue\\',Helvetica,Arial,sans-serif;font-size:14px;font-size:1.4rem;line-height:1.5;margin:4px 0;margin:.4rem 0}a{-ms-touch-action:manipulation;touch-action:manipulation}a,a:active,a:focus{unicode-bidi:embed;outline:0;color:#36c;text-decoration:none}a:focus{outline:1px solid #36c}a:hover{text-decoration:underline}img{border:0;vertical-align:middle}hr{clear:both;height:0;border:0;border-bottom:1px solid #c8ccd1;margin:2.6px 13px;margin:.26rem 1.3rem}/*!\\nPure v0.6.1-pre\\nCopyright 2014 Yahoo! Inc. All rights reserved.\\nLicensed under the BSD License.\\nhttps://github.com/yahoo/pure/blob/master/LICENSE.md\\n*/.pure-button{display:inline-block;zoom:1;line-height:normal;white-space:nowrap;text-align:center;cursor:pointer;-webkit-user-drag:none;-webkit-user-select:none;-moz-user-select:none;-ms-user-select:none;user-select:none;-webkit-box-sizing:border-box;-moz-box-sizing:border-box;box-sizing:border-box;background-color:#f8f9fa;color:#222;position:relative;min-height:19.2px;min-height:1.92rem;min-width:16px;min-width:1.6rem;margin:1.6px 0;margin:.16rem 0;border:1px solid #a2a9b1;-moz-border-radius:2px;border-radius:2px;padding:8px 16px;padding:.8rem 1.6rem;font-family:inherit;font-size:inherit;font-weight:700;text-decoration:none;vertical-align:top;-webkit-transition:background .1s ease,color .1s ease,border-color .1s ease,-webkit-box-shadow .1s ease;transition:background .1s ease,color .1s ease,border-color .1s ease,-webkit-box-shadow .1s ease;-moz-transition:background .1s ease,color .1s ease,border-color .1s ease,box-shadow .1s ease,-moz-box-shadow .1s ease;transition:background .1s ease,color .1s ease,border-color .1s ease,box-shadow .1s ease;transition:background .1s ease,color .1s ease,border-color .1s ease,box-shadow .1s ease,-webkit-box-shadow .1s ease,-moz-box-shadow .1s ease}.pure-button::-moz-focus-inner{padding:0;border:0}.pure-button-hover,.pure-button:hover{background-color:#fff;border-color:#a2a9b1;color:#444}.pure-button-active,.pure-button:active{background-color:#c8ccd1;border-color:#72777d;color:#000}.pure-button:focus{outline:0;border-color:#36c;-webkit-box-shadow:inset 0 0 0 1px #36c;-moz-box-shadow:inset 0 0 0 1px #36c;box-shadow:inset 0 0 0 1px #36c}.pure-button-primary-progressive{background-color:#36c;border-color:#36c;color:#fff}.pure-button-primary-progressive:hover{background:#447ff5;border-color:#447ff5}.pure-button-primary-progressive:active{background-color:#2a4b8d;border-color:#2a4b8d;-webkit-box-shadow:none;-moz-box-shadow:none;box-shadow:none;color:#fff}.pure-button-primary-progressive:focus{-webkit-box-shadow:inset 0 0 0 1px #36c,inset 0 0 0 2px #fff;-moz-box-shadow:inset 0 0 0 1px #36c,inset 0 0 0 2px #fff;box-shadow:inset 0 0 0 1px #36c,inset 0 0 0 2px #fff;border-color:#36c}/*!\\nPure v0.6.1-pre\\nCopyright 2014 Yahoo! Inc. All rights reserved.\\nLicensed under the BSD License.\\nhttps://github.com/yahoo/pure/blob/master/LICENSE.md\\n*/.pure-form input[type=search]{background-color:#fff;display:inline-block;-webkit-box-sizing:border-box;-moz-box-sizing:border-box;box-sizing:border-box;border:1px solid #a2a9b1;-moz-border-radius:2px;border-radius:2px;padding:8px;padding:.8rem;-webkit-box-shadow:inset 0 0 0 1px #fff;-moz-box-shadow:inset 0 0 0 1px #fff;box-shadow:inset 0 0 0 1px #fff;vertical-align:middle}.pure-form input:focus:invalid{color:#b32424;border-color:#d33}.pure-form fieldset{margin:0;padding:5.6px 0 12px;padding:.56rem 0 1.2rem;border:0}@media only screen and (max-width:480px){.pure-form input[type=search]{display:block}}.central-textlogo-wrapper{display:inline-block;vertical-align:bottom}.central-textlogo{position:relative;margin:40px auto 5px;margin:4rem auto .5rem;width:270px;font-family:\\'Linux Libertine\\',\\'Hoefler Text\\',Georgia,\\'Times New Roman\\',Times,serif;font-size:30px;font-size:3rem;font-weight:400;line-height:33px;line-height:3.3rem;text-align:center;-moz-font-feature-settings:\"ss05=1\";-moz-font-feature-settings:\"ss05\";-webkit-font-feature-settings:\"ss05\";-ms-font-feature-settings:\"ss05\";font-feature-settings:\"ss05\"}.localized-slogan{display:block;font-family:\\'Linux Libertine\\',Georgia,Times,serif;font-size:15px;font-size:1.5rem;font-weight:400}.central-textlogo__image{color:transparent;display:inline-block;overflow:hidden;text-indent:-10000px}.central-featured-logo{position:absolute;top:136px;left:35px}@media all and (max-width:480px){.central-textlogo{position:relative;height:70px;width:auto;margin:0;margin-top:20px;margin-top:2rem;text-align:center;line-height:25px;line-height:2.5rem;text-indent:-10px;text-indent:-1rem}.central-textlogo-wrapper{position:relative;top:2px;text-indent:2px;text-indent:.2rem}.svg-Wikipedia_wordmark{width:150px;height:25px;background-position:0 -218px;-webkit-background-size:100% 100%;-moz-background-size:100%;background-size:100%}.localized-slogan{font-size:14px;font-size:1.4rem}.central-featured-logo{position:relative;display:inline-block;width:57px;height:auto;left:0;top:0}}@media all and (max-width:240px){.central-textlogo__image{height:auto}}.central-featured{position:relative;height:325px;height:32.5rem;width:546px;width:54.6rem;max-width:100%;margin:0 auto;text-align:center;vertical-align:middle}.central-featured-lang{position:absolute;width:156px;width:15.6rem}.central-featured-lang .link-box{display:block;padding:0;text-decoration:none;white-space:normal}.central-featured-lang .link-box:hover strong{text-decoration:underline}.central-featured-lang strong{display:block;font-size:16px;font-size:1.6rem}.central-featured-lang small{color:#54595d;display:inline-block;font-size:12px;font-size:1.2rem;line-height:1.6}.central-featured-lang em{font-style:italic}.central-featured-lang .emNonItalicLang{font-style:normal}.lang1{top:0;right:60%}.lang2{top:0;left:60%}.lang3{top:20%;right:70%}.lang4{top:20%;left:70%}.lang5{top:40%;right:72%}.lang6{top:40%;left:72%}.lang7{top:60%;right:70%}.lang8{top:60%;left:70%}.lang9{top:80%;right:60%}.lang10{top:80%;left:60%}@media all and (max-width:480px){.central-featured{width:auto;height:auto;margin-top:70px;margin-top:7rem;font-size:12px;font-size:1.2rem;text-align:left}.central-featured:after{content:\\' \\';display:block;visibility:hidden;clear:both;height:0;font-size:0}.central-featured-lang{display:block;float:left;position:relative;top:auto;left:auto;right:auto;-webkit-box-sizing:border-box;-moz-box-sizing:border-box;box-sizing:border-box;height:64px;height:6.4rem;width:33%;margin:0;padding:0 16px;padding:0 1.6rem;font-size:14px;font-size:1.4rem;text-align:center}.central-featured-lang strong{font-size:14px;font-size:1.4rem}.central-featured-lang small{font-size:11px;font-size:1.1rem;line-height:1.5}}@media all and (max-width:375px){.central-featured-lang{font-size:12px;font-size:1.2rem}}@media all and (max-width:240px){.central-featured-lang{width:100%}}.search-container{float:none;max-width:95%;width:540px;margin:4px auto 19.5px auto;margin:.4rem auto 1.95rem auto;text-align:center;vertical-align:middle}.search-container fieldset{word-spacing:-4px}.search-container button{margin:0;-moz-border-radius:0 2px 2px 0;border-radius:0 2px 2px 0;padding:8px 16px;padding:.8rem 1.6rem;font-size:16px;font-size:1.6rem;line-height:1.6;vertical-align:middle;z-index:2}.search-container button .svg-search-icon{text-indent:-99990px;text-indent:-9999rem}.search-container input[type=search]::-webkit-search-results-button,.search-container input[type=search]::-webkit-search-results-decoration{-webkit-appearance:none}.search-container input::-webkit-calendar-picker-indicator{display:none}.search-container .sprite.svg-arrow-down{position:absolute;top:7px;top:.7rem;right:6.5px;right:.65rem;margin:0}#searchInput{-webkit-appearance:textfield;width:100%;height:43.2px;height:4.32rem;-moz-border-radius:2px 0 0 2px;border-radius:2px 0 0 2px;padding:8px 102.4px 8px 8px;padding:.8rem 10.24rem .8rem .8rem;font-size:16px;font-size:1.6rem;line-height:1.6;-webkit-transition:background .1s ease,border-color .1s ease,-webkit-box-shadow .1s ease;transition:background .1s ease,border-color .1s ease,-webkit-box-shadow .1s ease;-moz-transition:background .1s ease,border-color .1s ease,box-shadow .1s ease,-moz-box-shadow .1s ease;transition:background .1s ease,border-color .1s ease,box-shadow .1s ease;transition:background .1s ease,border-color .1s ease,box-shadow .1s ease,-webkit-box-shadow .1s ease,-moz-box-shadow .1s ease}#searchInput:hover{border-color:#72777d}#searchInput:focus{border-color:#36c;-webkit-box-shadow:inset 0 0 0 1px #36c;-moz-box-shadow:inset 0 0 0 1px #36c;box-shadow:inset 0 0 0 1px #36c;outline:0}.search-container .search-input{display:inline-block;position:relative;width:73%;vertical-align:top}@media only screen and (max-width:480px){.search-container .pure-form fieldset{margin-left:10px;margin-left:1rem;margin-right:66px;margin-right:6.6rem}.search-container .search-input{width:100%;margin-right:-66px;margin-right:-6.6rem}.search-container .pure-form button{float:right;right:-56px;right:-5.6rem}}.suggestions-dropdown{background-color:#fff;display:inline-block;position:absolute;left:0;z-index:2;-webkit-box-sizing:border-box;-moz-box-sizing:border-box;box-sizing:border-box;width:100%;margin:0;padding:0;border:1px solid #a2a9b1;border-top:0;-webkit-box-shadow:0 2px 2px 0 rgba(0,0,0,.25);-moz-box-shadow:0 2px 2px 0 rgba(0,0,0,.25);box-shadow:0 2px 2px 0 rgba(0,0,0,.25);text-align:left;list-style-type:none;word-spacing:normal}.suggestion-link{display:block;position:relative;-webkit-box-sizing:border-box;-moz-box-sizing:border-box;box-sizing:border-box;min-height:70px;min-height:7rem;width:100%;padding:10px 10px 10px 85px;padding:1rem 1rem 1rem 8.5rem;border-bottom:1px solid #eaecf0;color:inherit;text-decoration:none;text-align:left;text-align:initial;white-space:normal}.suggestion-link.active{background-color:#eaf3ff}a.suggestion-link:hover{text-decoration:none}a.suggestion-link:active,a.suggestion-link:focus{outline:0;white-space:normal}.suggestion-thumbnail{background-color:#eaecf0;background-image:url(portal/wikipedia.org/assets/img/noimage.png);background-image:-webkit-linear-gradient(rgba(0,0,0,0),rgba(0,0,0,0)),url(data:image/svg+xml,%3C%3Fxml%20version%3D%221.0%22%20encoding%3D%22utf-8%22%3F%3E%0A%3Csvg%20xmlns%3D%22http%3A%2F%2Fwww.w3.org%2F2000%2Fsvg%22%20viewBox%3D%220%200%2056%2056%22%20enable-background%3D%22new%200%200%2056%2056%22%3E%0A%20%20%20%20%3Cpath%20fill%3D%22%23eee%22%20d%3D%22M0%200h56v56h-56z%22%2F%3E%0A%20%20%20%20%3Cpath%20fill%3D%22%23999%22%20d%3D%22M36.4%2013.5h-18.6v24.9c0%201.4.9%202.3%202.3%202.3h18.7v-25c.1-1.4-1-2.2-2.4-2.2zm-6.2%203.5h5.1v6.4h-5.1v-6.4zm-8.8%200h6v1.8h-6v-1.8zm0%204.6h6v1.8h-6v-1.8zm0%2015.5v-1.8h13.8v1.8h-13.8zm13.8-4.5h-13.8v-1.8h13.8v1.8zm0-4.7h-13.8v-1.8h13.8v1.8z%22%2F%3E%0A%3C%2Fsvg%3E%0A);background-image:-webkit-linear-gradient(transparent,transparent),url(portal/wikipedia.org/assets/img/noimage.svg) !ie;background-image:-webkit-gradient(linear,left top,left bottom,from(rgba(0,0,0,0)),to(rgba(0,0,0,0))),url(data:image/svg+xml,%3C%3Fxml%20version%3D%221.0%22%20encoding%3D%22utf-8%22%3F%3E%0A%3Csvg%20xmlns%3D%22http%3A%2F%2Fwww.w3.org%2F2000%2Fsvg%22%20viewBox%3D%220%200%2056%2056%22%20enable-background%3D%22new%200%200%2056%2056%22%3E%0A%20%20%20%20%3Cpath%20fill%3D%22%23eee%22%20d%3D%22M0%200h56v56h-56z%22%2F%3E%0A%20%20%20%20%3Cpath%20fill%3D%22%23999%22%20d%3D%22M36.4%2013.5h-18.6v24.9c0%201.4.9%202.3%202.3%202.3h18.7v-25c.1-1.4-1-2.2-2.4-2.2zm-6.2%203.5h5.1v6.4h-5.1v-6.4zm-8.8%200h6v1.8h-6v-1.8zm0%204.6h6v1.8h-6v-1.8zm0%2015.5v-1.8h13.8v1.8h-13.8zm13.8-4.5h-13.8v-1.8h13.8v1.8zm0-4.7h-13.8v-1.8h13.8v1.8z%22%2F%3E%0A%3C%2Fsvg%3E%0A);background-image:-moz- oldlinear-gradient(rgba(0,0,0,0),rgba(0,0,0,0)),url(data:image/svg+xml,%3C%3Fxml%20version%3D%221.0%22%20encoding%3D%22utf-8%22%3F%3E%0A%3Csvg%20xmlns%3D%22http%3A%2F%2Fwww.w3.org%2F2000%2Fsvg%22%20viewBox%3D%220%200%2056%2056%22%20enable-background%3D%22new%200%200%2056%2056%22%3E%0A%20%20%20%20%3Cpath%20fill%3D%22%23eee%22%20d%3D%22M0%200h56v56h-56z%22%2F%3E%0A%20%20%20%20%3Cpath%20fill%3D%22%23999%22%20d%3D%22M36.4%2013.5h-18.6v24.9c0%201.4.9%202.3%202.3%202.3h18.7v-25c.1-1.4-1-2.2-2.4-2.2zm-6.2%203.5h5.1v6.4h-5.1v-6.4zm-8.8%200h6v1.8h-6v-1.8zm0%204.6h6v1.8h-6v-1.8zm0%2015.5v-1.8h13.8v1.8h-13.8zm13.8-4.5h-13.8v-1.8h13.8v1.8zm0-4.7h-13.8v-1.8h13.8v1.8z%22%2F%3E%0A%3C%2Fsvg%3E%0A);background-image:linear-gradient(rgba(0,0,0,0),rgba(0,0,0,0)),url(data:image/svg+xml,%3C%3Fxml%20version%3D%221.0%22%20encoding%3D%22utf-8%22%3F%3E%0A%3Csvg%20xmlns%3D%22http%3A%2F%2Fwww.w3.org%2F2000%2Fsvg%22%20viewBox%3D%220%200%2056%2056%22%20enable-background%3D%22new%200%200%2056%2056%22%3E%0A%20%20%20%20%3Cpath%20fill%3D%22%23eee%22%20d%3D%22M0%200h56v56h-56z%22%2F%3E%0A%20%20%20%20%3Cpath%20fill%3D%22%23999%22%20d%3D%22M36.4%2013.5h-18.6v24.9c0%201.4.9%202.3%202.3%202.3h18.7v-25c.1-1.4-1-2.2-2.4-2.2zm-6.2%203.5h5.1v6.4h-5.1v-6.4zm-8.8%200h6v1.8h-6v-1.8zm0%204.6h6v1.8h-6v-1.8zm0%2015.5v-1.8h13.8v1.8h-13.8zm13.8-4.5h-13.8v-1.8h13.8v1.8zm0-4.7h-13.8v-1.8h13.8v1.8z%22%2F%3E%0A%3C%2Fsvg%3E%0A);background-image:-webkit-gradient(linear,left top,left bottom,from(transparent),to(transparent)),url(portal/wikipedia.org/assets/img/noimage.svg) !ie;background-image:-moz- oldlinear-gradient(transparent,transparent),url(portal/wikipedia.org/assets/img/noimage.svg) !ie;background-image:linear-gradient(transparent,transparent),url(portal/wikipedia.org/assets/img/noimage.svg) !ie;background-image:-o-linear-gradient(transparent,transparent),url(portal/wikipedia.org/assets/img/noimage.png);background-position:center center;background-repeat:no-repeat;-webkit-background-size:100% auto;-moz-background-size:100% auto;background-size:100% auto;-webkit-background-size:cover;-moz-background-size:cover;background-size:cover;height:100%;width:70px;width:7rem;position:absolute;top:0;left:0}.suggestion-title{margin:0 0 7.8px 0;margin:0 0 .78rem 0;color:#54595d;font-size:16px;font-size:1.6rem;line-height:18.72px;line-height:1.872rem}.suggestion-link.active .suggestion-title{color:#36c}.suggestion-highlight{font-style:normal;text-decoration:underline}.suggestion-description{color:#72777d;margin:0;font-size:13px;font-size:1.3rem;line-height:14.299px;line-height:1.43rem}.styled-select{display:none;position:absolute;top:10px;top:1rem;bottom:12px;bottom:1.2rem;right:12px;right:1.2rem;max-width:95px;max-width:9.5rem;height:24px;height:2.4rem;margin:0;padding:0;-moz-border-radius:2px;border-radius:2px}.styled-select:hover{background-color:#f8f9fa}.styled-select .hide-arrow{right:32px;right:3.2rem;max-width:68px;max-width:6.8rem;height:24px;height:2.4rem;padding:0;overflow:hidden;text-align:right}.styled-select select{background:0 0;display:inline;overflow:hidden;height:24px;height:2.4rem;min-width:110px;min-width:11rem;max-width:110px;max-width:11rem;width:110px;width:11rem;outline:0;-webkit-box-sizing:border-box;-moz-box-sizing:border-box;box-sizing:border-box;border:0;line-height:19.5px;line-height:1.95rem;-webkit-appearance:none;-moz-appearance:window;text-indent:.01px;text-overflow:\\'\\';-o-appearance:none!important;opacity:0;-moz-appearance:none;appearance:none;cursor:pointer}.styled-select.no-js{width:95px;width:9.5rem}.styled-select.no-js select{opacity:1;margin:0;padding:0 24px 0 8px;padding:0 2.4rem 0 .8rem;color:#54595d}.styled-select.no-js .hide-arrow{width:68px;width:6.8rem}.search-container .styled-select.no-js .js-langpicker-label{display:none}.styled-select.js-enabled .hide-arrow{padding:0 24px 0 8px;padding:0 2.4rem 0 .8rem}.styled-select.js-enabled select{background:0 0;position:absolute;top:0;left:0;height:100%;z-index:1;width:100%;border:0;margin:0;padding:0 24px 0;padding:0 2.4rem 0;color:transparent;color:rgba(255,255,255,0)}.styled-select.js-enabled select option{color:#54595d}.styled-select.js-enabled select:hover{background-color:transparent}.styled-select-active-helper{display:none}.styled-select.js-enabled select:focus+.styled-select-active-helper{display:block;position:absolute;top:0;left:0;z-index:0;width:100%;height:100%;outline:1px solid #36c}.search-container .js-langpicker-label{display:inline-block;margin:0;color:#54595d;font-size:13px;font-size:1.3rem;line-height:24px;line-height:2.4rem;text-transform:uppercase}.styled-select select:hover{background-color:#f8f9fa}.styled-select select::-ms-expand{display:none}.styled-select select:focus{outline:0;-webkit-box-shadow:none;-moz-box-shadow:none;box-shadow:none}@-moz-document url-prefix(){.styled-select select{width:110%}}.other-projects{display:inline-block;width:65%}.other-project{float:left;position:relative;width:33%;height:90px;height:9rem}.other-project-link{display:inline-block;min-height:50px;width:100%;white-space:nowrap}a.other-project-link{text-decoration:none}.other-project-icon{display:inline-block;width:50px;text-align:center}.svg-Wikinews-logo_sister{background-image:url(portal/wikipedia.org/assets/img/Wikinews-logo_sister.png);background-position:0 0;-webkit-background-size:47px 26px;-moz-background-size:47px 26px;background-size:47px 26px;width:47px;height:26px}@media (-webkit-min-device-pixel-ratio:1.25),(min-resolution:120dpi){.svg-Wikinews-logo_sister{background-image:url(portal/wikipedia.org/assets/img/Wikinews-logo_sister@2x.png)}}.other-project .sprite-project-logos{display:inline-block}.other-project-text{display:inline-block;max-width:65%;font-size:14px;font-size:1.4rem;vertical-align:middle;white-space:normal}.other-project-tagline,.other-project-title{display:block}.other-project-tagline{color:#54595d;font-size:12px;font-size:1.2rem}@media screen and (max-width:768px){.other-projects{width:100%}.other-project{width:33%}}@media screen and (max-width:480px){.other-project{width:50%}}@media screen and (max-width:320px){.other-project-text{margin-right:5px;font-size:11.52px;font-size:1.152rem}.other-project-tagline{font-size:10.944px;font-size:1.0944rem}}.lang-list-container{background-color:#f8f9fa;overflow:hidden;position:relative;-webkit-box-sizing:border-box;-moz-box-sizing:border-box;box-sizing:border-box;max-height:0;width:80%;margin:-16px auto 48px;margin:-1.6rem auto 4.8rem;-webkit-transition:max-height .5s ease-out,visibility .5s ease-in 1s;-moz-transition:max-height .5s ease-out,visibility .5s ease-in 1s;transition:max-height .5s ease-out,visibility .5s ease-in 1s}.js-enabled .lang-list-container{visibility:hidden}.lang-list-active .lang-list-container,.no-js .lang-list-container{visibility:visible;max-height:10000px;-webkit-transition:max-height 1s ease-in .2s,visibility 1000s ease-in 0s;-moz-transition:max-height 1s ease-in .2s,visibility 1000s ease-in 0s;transition:max-height 1s ease-in .2s,visibility 1000s ease-in 0s}.no-js .lang-list-button{display:none}.lang-list-button-wrapper{text-align:center}.lang-list-button{background-color:#f8f9fa;display:inline;position:relative;z-index:1;margin:0 auto;padding:6.4px 12.8px;padding:.64rem 1.28rem;outline:16px solid #fff;outline:1.6rem solid #fff;border:1px solid #a2a9b1;-moz-border-radius:2px;border-radius:2px;color:#36c;font-size:13px;font-size:1.3rem;font-weight:400;line-height:1;-webkit-transition:outline-width .1s ease-in .5s;-moz-transition:outline-width .1s ease-in .5s;transition:outline-width .1s ease-in .5s}.lang-list-button:hover{background-color:#fff;border-color:#a2a9b1}.lang-list-button:focus{border-color:#36c;-webkit-box-shadow:inset 0 0 0 1px #36c;-moz-box-shadow:inset 0 0 0 1px #36c;box-shadow:inset 0 0 0 1px #36c}.lang-list-active .lang-list-button{background-color:#fff;outline:1px solid #fff;border-color:#72777d;-webkit-transition-delay:0s;-moz-transition-delay:0s;transition-delay:0s}.lang-list-button-text{padding:0 6.4px;padding:0 .64rem;vertical-align:middle}.lang-list-button i{display:inline-block;vertical-align:middle}.no-js .lang-list-border,.no-js .lang-list-button{display:none}.lang-list-border{background-color:#c8ccd1;display:block;position:relative;max-width:460px;width:80%;margin:-16px auto 16px;margin:-1.6rem auto 1.6rem;height:1px;-webkit-transition:max-width .2s ease-out 400s;-moz-transition:max-width .2s ease-out 400s;transition:max-width .2s ease-out 400s}.lang-list-active .lang-list-border{max-width:85%;-webkit-transition-delay:0s;-moz-transition-delay:0s;transition-delay:0s}.no-js .lang-list-content{padding:0}.lang-list-content{position:relative;-webkit-box-sizing:border-box;-moz-box-sizing:border-box;box-sizing:border-box;width:100%;padding:16px 16px 0;padding:1.6rem 1.6rem 0}.svg-arrow-down-blue{-webkit-transition:-webkit-transform .2s ease-out;transition:-webkit-transform .2s ease-out;-moz-transition:transform .2s ease-out,-moz-transform .2s ease-out;transition:transform .2s ease-out;transition:transform .2s ease-out,-webkit-transform .2s ease-out,-moz-transform .2s ease-out}.lang-list-active .svg-arrow-down-blue{-webkit-transform:rotate(180deg);-moz-transform:rotate(180deg);-ms-transform:rotate(180deg);transform:rotate(180deg)}.langlist{width:auto;margin:16px 0;margin:1.6rem 0;text-align:left}.langlist-others{font-weight:700}.hlist ul{margin:0;padding:0}.hlist li{display:inline}.hlist ul ul{display:inline}.hlist li:before{content:\" \\xc2\\xb7 \";font-weight:700}.hlist li:first-child:before{content:none}.hlist li>ul:before{content:\"\\\\00a0(\"}.hlist li>ul:after{content:\") \"}.langlist>ul{-webkit-column-width:11.2rem;-moz-column-width:11.2rem;column-width:11.2rem}.langlist>ul>li{display:block;line-height:1.7;-webkit-column-break-inside:avoid;page-break-inside:avoid;break-inside:avoid}.no-js .langlist>ul{text-align:center;list-style-type:circle}.no-js .langlist>ul>li{display:inline-block;padding:0 8px;padding:0 .8rem}.langlist>ul>li:before{content:none}.langlist>ul>li a{white-space:normal}.langlist-others>ul{text-align:center;-webkit-column-count:1;-moz-column-count:1;column-count:1}.langlist-others>ul li{display:inline}.langlist-others>ul li:before{content:\\' \\xc2\\xb7 \\'}.langlist-others>ul li:first-child:before{content:none}@media all and (max-width:480px){.langlist{font-size:inherit}.langlist a{word-wrap:break-word;white-space:normal}.lang-list-container{width:auto;margin-left:8px;margin-left:.8rem;margin-right:8px;margin-right:.8rem}.bookshelf{overflow:visible}}.bookshelf{display:block;border-top:1px solid #c8ccd1;-webkit-box-shadow:0 -1px 0 #fff;-moz-box-shadow:0 -1px 0 #fff;box-shadow:0 -1px 0 #fff;text-align:center;white-space:nowrap}.bookshelf .text{background-color:#f8f9fa;position:relative;top:-11.2px;top:-1.12rem;font-weight:400;padding:0 9.92px;padding:0 .992rem}.bookshelf-container{display:block;overflow:visible;height:1px;width:100%;margin:24px 0 16px;margin:2.4rem 0 1.6rem;font-size:13px;font-size:1.3rem;font-weight:700;line-height:20px;line-height:2rem}@media all and (max-width:480px){.bookshelf{width:auto;left:auto}.bookshelf-container{text-align:left;width:auto}}.app-badges .footer-sidebar-content{background-color:#f8f9fa}.app-badges .footer-sidebar-text{padding-top:8px;padding-top:.8rem;padding-bottom:8px;padding-bottom:.8rem}.app-badges .sprite.footer-sidebar-icon{top:8px;top:.8rem}.app-badges ul{margin:0;padding:0;list-style-type:none}.app-badge{display:inline-block}@media screen and (max-width:768px){.app-badges .footer-sidebar-content{text-align:center}.app-badges .sprite.footer-sidebar-icon{display:inline-block;position:relative;margin:0;top:-3px;left:0;vertical-align:middle;-webkit-transform:scale(.7);-moz-transform:scale(.7);-ms-transform:scale(.7);transform:scale(.7)}}.footer{overflow:hidden;max-width:100%;margin:0 auto;padding:41.6px 12.8px 12.8px;padding:4.16rem 1.28rem 1.28rem;font-size:13px;font-size:1.3rem}.footer:after,.footer:before{content:\\' \\';display:table}.footer:after{clear:both}.footer-sidebar{width:35%;float:left;clear:left;margin-bottom:32px;margin-bottom:3.2rem;vertical-align:top}.footer-sidebar-content{position:relative;max-width:350px;margin:0 auto}.sprite.footer-sidebar-icon{position:absolute;top:0;left:8px;left:.8rem}.footer-sidebar-text{position:relative;margin:0;padding-left:60px;padding-left:6rem;padding-right:20px;padding-right:2rem;color:#54595d}.site-license{margin:0;color:#54595d;text-align:center}.site-license small:after{content:\\'\\\\2022\\';display:inline-block;font-size:13px;font-size:1.3rem;line-height:inherit;margin-left:8px;margin-left:.8rem;margin-right:5px;margin-right:.5rem}.site-license small:last-child:after{display:none}@media screen and (max-width:768px){.footer{display:-webkit-box;display:-webkit-flex;display:-moz-box;display:-ms-flexbox;display:flex;-webkit-box-orient:vertical;-webkit-box-direction:normal;-webkit-flex-direction:column;-moz-box-orient:vertical;-moz-box-direction:normal;-ms-flex-direction:column;flex-direction:column;padding-top:12.8px;padding-top:1.28rem}.footer .footer-sidebar{-webkit-box-ordinal-group:1;-moz-box-ordinal-group:1;-webkit-order:1;-ms-flex-order:1;order:1}.footer .other-projects{-webkit-box-ordinal-group:2;-moz-box-ordinal-group:2;-webkit-order:2;-ms-flex-order:2;order:2}.footer .app-badges{-webkit-box-ordinal-group:3;-moz-box-ordinal-group:3;-webkit-order:3;-ms-flex-order:3;order:3}.footer-sidebar{width:100%}.sprite.footer-sidebar-icon{display:block;position:relative;left:0;margin:0 auto 12.8px auto;margin:0 auto 1.28rem auto}.footer-sidebar-content{max-width:none}.footer-sidebar-text{margin:0;padding:0;text-align:center}}@media screen and (max-width:480px){.footer{padding:9.6px 6.4px 12.8px;padding:.96rem .64rem 1.28rem}}@media all and (max-width:480px){.search-container{margin-top:0;height:78px;height:7.8rem;position:absolute;top:90px;top:9rem;left:0;right:0;max-width:100%;width:auto;padding:0;text-align:left}.search-container label{display:none}.search-form #searchInput{max-width:40%;vertical-align:middle}.search-form .formBtn{max-width:25%;vertical-align:middle}form fieldset{margin:0;border-left:0;border-right:0}hr{margin-top:6.5px;margin-top:.65rem}}@media (min--moz-device-pixel-ratio:2),(-webkit-min-device-pixel-ratio:2),(min-resolution:2dppx),(min-resolution:192dpi){hr{border-bottom-width:.5px}}@supports (-webkit-marquee-style:slide){hr{border-bottom-width:1px}}.js-enabled .central-featured,.js-enabled .jsl10n{visibility:hidden}.jsl10n-visible .central-featured,.jsl10n-visible .jsl10n{visibility:visible}.otherprojects-icon{*zoom:1;*display:inline}.suggestion-item{*width:auto}.search-container button{*display:inline}#searchInput{*padding:8px 0 0 8px;*width:90%;*height:34px}#search-input{*display:inline}.langlist ul{*text-align:center}.langlist ul li{*display:inline!important;*padding-left:5px;*padding-right:5px}@media print{body{background-color:transparent}a{color:#000!important;background:0 0!important;padding:0!important}a:link,a:visited{color:#520;background:0 0}img{border:0}}\\n</style>\\n<link rel=\"preload\" as=\"image\" href=\"portal/wikipedia.org/assets/img/sprite-81a290a5.svg\">\\n<link rel=\"preconnect\" href=\"//upload.wikimedia.org\">\\n</head>\\n<body id=\"www-wikipedia-org\">\\n<h1 class=\"central-textlogo\" style=\"font-size: 1em;\" title=\"Wikipedia\">\\n<img class=\"central-featured-logo\" src=\"portal/wikipedia.org/assets/img/Wikipedia-logo-v2.png\" srcset=\"portal/wikipedia.org/assets/img/Wikipedia-logo-v2@1.5x.png 1.5x, portal/wikipedia.org/assets/img/Wikipedia-logo-v2@2x.png 2x\" width=\"200\" height=\"183\" alt=\"Wikipedia\">\\n<div class=\"central-textlogo-wrapper\">\\n<div class=\"central-textlogo__image sprite svg-Wikipedia_wordmark\">\\nWikipedia\\n</div>\\n<strong class=\"jsl10n localized-slogan\" data-jsl10n=\"slogan\">The Free Encyclopedia</strong>\\n</div>\\n</h1>\\n<!-- container div for the central logo and the links to the most viewed language editions -->\\n<div class=\"central-featured\" data-el-section=\"primary links\">\\n<!-- Rankings from http://stats.wikimedia.org/EN/Sitemap.htm -->\\n<!-- Article counts from http://meta.wikimedia.org/wiki/List_of_Wikipedias/Table -->\\n<!-- #1. en.wikipedia.org - 1 888 707 000 views/day -->\\n<div class=\"central-featured-lang lang1\" lang=\"en\" dir=\"ltr\">\\n<a id=\"js-link-box-en\" href=\"//en.wikipedia.org/\" title=\"English \\xe2\\x80\\x94 Wikipedia \\xe2\\x80\\x94 The Free Encyclopedia\" class=\"link-box\" data-slogan=\"The Free Encyclopedia\">\\n<strong>English</strong>\\n<small><bdi dir=\"ltr\">5&nbsp;994&nbsp;000+</bdi> <span>articles</span></small>\\n</a>\\n</div>\\n<!-- #2. ja.wikipedia.org - 257 897 000 views/day -->\\n<div class=\"central-featured-lang lang2\" lang=\"ja\" dir=\"ltr\">\\n<a id=\"js-link-box-ja\" href=\"//ja.wikipedia.org/\" title=\"Nihongo \\xe2\\x80\\x94 \\xe3\\x82\\xa6\\xe3\\x82\\xa3\\xe3\\x82\\xad\\xe3\\x83\\x9a\\xe3\\x83\\x87\\xe3\\x82\\xa3\\xe3\\x82\\xa2 \\xe2\\x80\\x94 \\xe3\\x83\\x95\\xe3\\x83\\xaa\\xe3\\x83\\xbc\\xe7\\x99\\xbe\\xe7\\xa7\\x91\\xe4\\xba\\x8b\\xe5\\x85\\xb8\" class=\"link-box\" data-slogan=\"\\xe3\\x83\\x95\\xe3\\x83\\xaa\\xe3\\x83\\xbc\\xe7\\x99\\xbe\\xe7\\xa7\\x91\\xe4\\xba\\x8b\\xe5\\x85\\xb8\">\\n<strong>\\xe6\\x97\\xa5\\xe6\\x9c\\xac\\xe8\\xaa\\x9e</strong>\\n<small><bdi dir=\"ltr\">1&nbsp;185&nbsp;000+</bdi> <span>\\xe8\\xa8\\x98\\xe4\\xba\\x8b</span></small>\\n</a>\\n</div>\\n<!-- #3. de.wikipedia.org - 239 437 000 views/day -->\\n<div class=\"central-featured-lang lang3\" lang=\"de\" dir=\"ltr\">\\n<a id=\"js-link-box-de\" href=\"//de.wikipedia.org/\" title=\"Deutsch \\xe2\\x80\\x94 Wikipedia \\xe2\\x80\\x94 Die freie Enzyklop\\xc3\\xa4die\" class=\"link-box\" data-slogan=\"Die freie Enzyklop\\xc3\\xa4die\">\\n<strong>Deutsch</strong>\\n<small><bdi dir=\"ltr\">2&nbsp;385&nbsp;000+</bdi> <span>Artikel</span></small>\\n</a>\\n</div>\\n<!-- #4. es.wikipedia.org - 212 544 000 views/day -->\\n<div class=\"central-featured-lang lang4\" lang=\"es\" dir=\"ltr\">\\n<a id=\"js-link-box-es\" href=\"//es.wikipedia.org/\" title=\"Espa\\xc3\\xb1ol \\xe2\\x80\\x94 Wikipedia \\xe2\\x80\\x94 La enciclopedia libre\" class=\"link-box\" data-slogan=\"La enciclopedia libre\">\\n<strong>Espa\\xc3\\xb1ol</strong>\\n<small><bdi dir=\"ltr\">1&nbsp;571&nbsp;000+</bdi> <span>art\\xc3\\xadculos</span></small>\\n</a>\\n</div>\\n<!-- #5. ru.wikipedia.org - 199 942 000 views/day -->\\n<div class=\"central-featured-lang lang5\" lang=\"ru\" dir=\"ltr\">\\n<a id=\"js-link-box-ru\" href=\"//ru.wikipedia.org/\" title=\"Russkiy \\xe2\\x80\\x94 \\xd0\\x92\\xd0\\xb8\\xd0\\xba\\xd0\\xb8\\xd0\\xbf\\xd0\\xb5\\xd0\\xb4\\xd0\\xb8\\xd1\\x8f \\xe2\\x80\\x94 \\xd0\\xa1\\xd0\\xb2\\xd0\\xbe\\xd0\\xb1\\xd0\\xbe\\xd0\\xb4\\xd0\\xbd\\xd0\\xb0\\xd1\\x8f \\xd1\\x8d\\xd0\\xbd\\xd1\\x86\\xd0\\xb8\\xd0\\xba\\xd0\\xbb\\xd0\\xbe\\xd0\\xbf\\xd0\\xb5\\xd0\\xb4\\xd0\\xb8\\xd1\\x8f\" class=\"link-box\" data-slogan=\"\\xd0\\xa1\\xd0\\xb2\\xd0\\xbe\\xd0\\xb1\\xd0\\xbe\\xd0\\xb4\\xd0\\xbd\\xd0\\xb0\\xd1\\x8f \\xd1\\x8d\\xd0\\xbd\\xd1\\x86\\xd0\\xb8\\xd0\\xba\\xd0\\xbb\\xd0\\xbe\\xd0\\xbf\\xd0\\xb5\\xd0\\xb4\\xd0\\xb8\\xd1\\x8f\">\\n<strong>\\xd0\\xa0\\xd1\\x83\\xd1\\x81\\xd1\\x81\\xd0\\xba\\xd0\\xb8\\xd0\\xb9</strong>\\n<small><bdi dir=\"ltr\">1&nbsp;590&nbsp;000+</bdi> <span>\\xd1\\x81\\xd1\\x82\\xd0\\xb0\\xd1\\x82\\xd0\\xb5\\xd0\\xb9</span></small>\\n</a>\\n</div>\\n<!-- #6. fr.wikipedia.org - 178 352 000 views/day -->\\n<div class=\"central-featured-lang lang6\" lang=\"fr\" dir=\"ltr\">\\n<a id=\"js-link-box-fr\" href=\"//fr.wikipedia.org/\" title=\"Fran\\xc3\\xa7ais \\xe2\\x80\\x94 Wikip\\xc3\\xa9dia \\xe2\\x80\\x94 L\\xe2\\x80\\x99encyclop\\xc3\\xa9die libre\" class=\"link-box\" data-slogan=\"L\\xe2\\x80\\x99encyclop\\xc3\\xa9die libre\">\\n<strong>Fran\\xc3\\xa7ais</strong>\\n<small><bdi dir=\"ltr\">2&nbsp;171&nbsp;000+</bdi> <span>articles</span></small>\\n</a>\\n</div>\\n<!-- #7. it.wikipedia.org - 133 519 000 views/day -->\\n<div class=\"central-featured-lang lang7\" lang=\"it\" dir=\"ltr\">\\n<a id=\"js-link-box-it\" href=\"//it.wikipedia.org/\" title=\"Italiano \\xe2\\x80\\x94 Wikipedia \\xe2\\x80\\x94 L&#x27;enciclopedia libera\" class=\"link-box\" data-slogan=\"L&#x27;enciclopedia libera\">\\n<strong>Italiano</strong>\\n<small><bdi dir=\"ltr\">1&nbsp;576&nbsp;000+</bdi> <span>voci</span></small>\\n</a>\\n</div>\\n<!-- #8. zh.wikipedia.org - 96 125 000 views/day -->\\n<div class=\"central-featured-lang lang8\" lang=\"zh\" dir=\"ltr\">\\n<a id=\"js-link-box-zh\" href=\"//zh.wikipedia.org/\" title=\"Zh\\xc5\\x8dngw\\xc3\\xa9n \\xe2\\x80\\x94 \\xe7\\xb6\\xad\\xe5\\x9f\\xba\\xe7\\x99\\xbe\\xe7\\xa7\\x91 \\xe2\\x80\\x94 \\xe8\\x87\\xaa\\xe7\\x94\\xb1\\xe7\\x9a\\x84\\xe7\\x99\\xbe\\xe7\\xa7\\x91\\xe5\\x85\\xa8\\xe6\\x9b\\xb8\" class=\"link-box\" data-converttitle-hans=\"Zh\\xc5\\x8dngw\\xc3\\xa9n \\xe2\\x80\\x94 \\xe7\\xbb\\xb4\\xe5\\x9f\\xba\\xe7\\x99\\xbe\\xe7\\xa7\\x91 \\xe2\\x80\\x94 \\xe8\\x87\\xaa\\xe7\\x94\\xb1\\xe7\\x9a\\x84\\xe7\\x99\\xbe\\xe7\\xa7\\x91\\xe5\\x85\\xa8\\xe4\\xb9\\xa6\" data-slogan=\"\\xe8\\x87\\xaa\\xe7\\x94\\xb1\\xe7\\x9a\\x84\\xe7\\x99\\xbe\\xe7\\xa7\\x91\\xe5\\x85\\xa8\\xe6\\x9b\\xb8\">\\n<strong>\\xe4\\xb8\\xad\\xe6\\x96\\x87</strong>\\n<small><bdi dir=\"ltr\">1&nbsp;090&nbsp;000+</bdi> <span data-convert-hans=\"\\xe6\\x9d\\xa1\\xe7\\x9b\\xae\" id=\"zh_art\">\\xe6\\xa2\\x9d\\xe7\\x9b\\xae</span></small>\\n</a>\\n</div>\\n<!-- #9. pt.wikipedia.org - 72 251 000 views/day -->\\n<div class=\"central-featured-lang lang9\" lang=\"pt\" dir=\"ltr\">\\n<a id=\"js-link-box-pt\" href=\"//pt.wikipedia.org/\" title=\"Portugu\\xc3\\xaas \\xe2\\x80\\x94 Wikip\\xc3\\xa9dia \\xe2\\x80\\x94 A enciclop\\xc3\\xa9dia livre\" class=\"link-box\" data-slogan=\"A enciclop\\xc3\\xa9dia livre\">\\n<strong>Portugu\\xc3\\xaas</strong>\\n<small><bdi dir=\"ltr\">1&nbsp;018&nbsp;000+</bdi> <span>artigos</span></small>\\n</a>\\n</div>\\n<!-- #10. pl.wikipedia.org - 64 832 000 views/day -->\\n<div class=\"central-featured-lang lang10\" lang=\"pl\" dir=\"ltr\">\\n<a id=\"js-link-box-pl\" href=\"//pl.wikipedia.org/\" title=\"Polski \\xe2\\x80\\x94 Wikipedia \\xe2\\x80\\x94 Wolna encyklopedia\" class=\"link-box\" data-slogan=\"Wolna encyklopedia\">\\n<strong>Polski</strong>\\n<small><bdi dir=\"ltr\">1&nbsp;379&nbsp;000+</bdi> <span>hase\\xc5\\x82</span></small>\\n</a>\\n</div>\\n</div>\\n<!-- Search form -->\\n<div class=\"search-container\">\\n<form class=\"pure-form\" id=\"search-form\" action=\"//www.wikipedia.org/search-redirect.php\" data-el-section=\"search\">\\n<fieldset>\\n<!-- search-redirect.php is project-independent, requires a family -->\\n<input type=\"hidden\" name=\"family\" value=\"wikipedia\">\\n<input type=\"hidden\" id=\"hiddenLanguageInput\" name=\"language\" value=\"en\">\\n<div class=\"search-input\" id=\"search-input\">\\n<label for=\"searchInput\" class=\"screen-reader-text\" data-jsl10n=\"search-input-label\">Search Wikipedia</label>\\n<input id=\"searchInput\" name=\"search\" type=\"search\" size=\"20\" autofocus=\"autofocus\" accesskey=\"F\" dir=\"auto\" autocomplete=\"off\" list=\"suggestions\">\\n<div class=\"styled-select no-js\">\\n<div class=\"hide-arrow\">\\n<select id=\"searchLanguage\" name=\"language\">\\n<!-- 100,000+ content pages, sorted by romanization -->\\n<option value=\"ar\" lang=\"ar\">\\xd8\\xa7\\xd9\\x84\\xd8\\xb9\\xd8\\xb1\\xd8\\xa8\\xd9\\x8a\\xd8\\xa9</option><!-- Al-\\xca\\xbfArab\\xc4\\xabyah -->\\n<option value=\"az\" lang=\"az\">Az\\xc9\\x99rbaycanca</option>\\n<option value=\"bg\" lang=\"bg\">\\xd0\\x91\\xd1\\x8a\\xd0\\xbb\\xd0\\xb3\\xd0\\xb0\\xd1\\x80\\xd1\\x81\\xd0\\xba\\xd0\\xb8</option><!-- B\\xc7\\x8elgarski -->\\n<option value=\"nan\" lang=\"nan\">B\\xc3\\xa2n-l\\xc3\\xa2m-g\\xc3\\xba / H\\xc5\\x8d-l\\xc3\\xb3-o\\xc4\\x93</option>\\n<option value=\"be\" lang=\"be\">\\xd0\\x91\\xd0\\xb5\\xd0\\xbb\\xd0\\xb0\\xd1\\x80\\xd1\\x83\\xd1\\x81\\xd0\\xba\\xd0\\xb0\\xd1\\x8f (\\xd0\\x90\\xd0\\xba\\xd0\\xb0\\xd0\\xb4\\xd1\\x8d\\xd0\\xbc\\xd1\\x96\\xd1\\x87\\xd0\\xbd\\xd0\\xb0\\xd1\\x8f)</option><!-- Belaruskaya (Akademichnaya) -->\\n<option value=\"ca\" lang=\"ca\">Catal\\xc3\\xa0</option>\\n<option value=\"cs\" lang=\"cs\">\\xc4\\x8ce\\xc5\\xa1tina</option><!-- \\xc4\\x8de\\xc5\\xa1tina -->\\n<option value=\"da\" lang=\"da\">Dansk</option>\\n<option value=\"de\" lang=\"de\">Deutsch</option>\\n<option value=\"et\" lang=\"et\">Eesti</option>\\n<option value=\"el\" lang=\"el\">\\xce\\x95\\xce\\xbb\\xce\\xbb\\xce\\xb7\\xce\\xbd\\xce\\xb9\\xce\\xba\\xce\\xac</option><!-- Ell\\xc4\\xabnik\\xc3\\xa1 -->\\n<option value=\"en\" lang=\"en\" selected=selected>English</option><!-- English -->\\n<option value=\"es\" lang=\"es\">Espa\\xc3\\xb1ol</option>\\n<option value=\"eo\" lang=\"eo\">Esperanto</option>\\n<option value=\"eu\" lang=\"eu\">Euskara</option>\\n<option value=\"fa\" lang=\"fa\">\\xd9\\x81\\xd8\\xa7\\xd8\\xb1\\xd8\\xb3\\xdb\\x8c</option><!-- F\\xc4\\x81rsi -->\\n<option value=\"fr\" lang=\"fr\">Fran\\xc3\\xa7ais</option>\\n<option value=\"gl\" lang=\"gl\">Galego</option>\\n<option value=\"hy\" lang=\"hy\">\\xd5\\x80\\xd5\\xa1\\xd5\\xb5\\xd5\\xa5\\xd6\\x80\\xd5\\xa5\\xd5\\xb6</option><!-- Hayeren -->\\n<option value=\"hi\" lang=\"hi\">\\xe0\\xa4\\xb9\\xe0\\xa4\\xbf\\xe0\\xa4\\xa8\\xe0\\xa5\\x8d\\xe0\\xa4\\xa6\\xe0\\xa5\\x80</option><!-- Hind\\xc4\\xab -->\\n<option value=\"hr\" lang=\"hr\">Hrvatski</option>\\n<option value=\"id\" lang=\"id\">Bahasa Indonesia</option>\\n<option value=\"it\" lang=\"it\">Italiano</option>\\n<option value=\"he\" lang=\"he\">\\xd7\\xa2\\xd7\\x91\\xd7\\xa8\\xd7\\x99\\xd7\\xaa</option><!-- \\xca\\xbfIvrit -->\\n<option value=\"ka\" lang=\"ka\">\\xe1\\x83\\xa5\\xe1\\x83\\x90\\xe1\\x83\\xa0\\xe1\\x83\\x97\\xe1\\x83\\xa3\\xe1\\x83\\x9a\\xe1\\x83\\x98</option><!-- Kartuli -->\\n<option value=\"la\" lang=\"la\">Latina</option>\\n<option value=\"lt\" lang=\"lt\">Lietuvi\\xc5\\xb3</option>\\n<option value=\"hu\" lang=\"hu\">Magyar</option>\\n<option value=\"mk\" lang=\"mk\">\\xd0\\x9c\\xd0\\xb0\\xd0\\xba\\xd0\\xb5\\xd0\\xb4\\xd0\\xbe\\xd0\\xbd\\xd1\\x81\\xd0\\xba\\xd0\\xb8</option><!-- Makedonski -->\\n<option value=\"ms\" lang=\"ms\">Bahasa Melayu</option>\\n<option value=\"min\" lang=\"min\">Bahaso Minangkabau</option>\\n<option value=\"nl\" lang=\"nl\">Nederlands</option>\\n<option value=\"ja\" lang=\"ja\">\\xe6\\x97\\xa5\\xe6\\x9c\\xac\\xe8\\xaa\\x9e</option><!-- Nihongo -->\\n<option value=\"no\" lang=\"nb\">Norsk (bokm\\xc3\\xa5l)</option>\\n<option value=\"nn\" lang=\"nn\">Norsk (nynorsk)</option>\\n<option value=\"ce\" lang=\"ce\">\\xd0\\x9d\\xd0\\xbe\\xd1\\x85\\xd1\\x87\\xd0\\xb8\\xd0\\xb9\\xd0\\xbd</option><!-- Nox\\xc3\\xa7iyn -->\\n<option value=\"uz\" lang=\"uz\">O\\xca\\xbbzbekcha / \\xd0\\x8e\\xd0\\xb7\\xd0\\xb1\\xd0\\xb5\\xd0\\xba\\xd1\\x87\\xd0\\xb0</option>\\n<option value=\"pl\" lang=\"pl\">Polski</option>\\n<option value=\"pt\" lang=\"pt\">Portugu\\xc3\\xaas</option>\\n<option value=\"kk\" lang=\"kk\">\\xd2\\x9a\\xd0\\xb0\\xd0\\xb7\\xd0\\xb0\\xd2\\x9b\\xd1\\x88\\xd0\\xb0 / Qazaq\\xc5\\x9fa / \\xd9\\x82\\xd8\\xa7\\xd8\\xb2\\xd8\\xa7\\xd9\\x82\\xd8\\xb4\\xd8\\xa7</option>\\n<option value=\"ro\" lang=\"ro\">Rom\\xc3\\xa2n\\xc4\\x83</option>\\n<option value=\"ru\" lang=\"ru\">\\xd0\\xa0\\xd1\\x83\\xd1\\x81\\xd1\\x81\\xd0\\xba\\xd0\\xb8\\xd0\\xb9</option><!-- Russkiy -->\\n<option value=\"cy\" lang=\"cy\">Cymraeg</option><!-- Saesneg -->\\n<option value=\"simple\" lang=\"en\">Simple English</option>\\n<option value=\"ceb\" lang=\"ceb\">Sinugboanong Binisaya</option>\\n<option value=\"sk\" lang=\"sk\">Sloven\\xc4\\x8dina</option>\\n<option value=\"sl\" lang=\"sl\">Sloven\\xc5\\xa1\\xc4\\x8dina</option>\\n<option value=\"sr\" lang=\"sr\">\\xd0\\xa1\\xd1\\x80\\xd0\\xbf\\xd1\\x81\\xd0\\xba\\xd0\\xb8 / Srpski</option>\\n<option value=\"sh\" lang=\"sh\">Srpskohrvatski / \\xd0\\xa1\\xd1\\x80\\xd0\\xbf\\xd1\\x81\\xd0\\xba\\xd0\\xbe\\xd1\\x85\\xd1\\x80\\xd0\\xb2\\xd0\\xb0\\xd1\\x82\\xd1\\x81\\xd0\\xba\\xd0\\xb8</option>\\n<option value=\"fi\" lang=\"fi\">Suomi</option><!-- suomi -->\\n<option value=\"sv\" lang=\"sv\">Svenska</option>\\n<option value=\"ta\" lang=\"ta\">\\xe0\\xae\\xa4\\xe0\\xae\\xae\\xe0\\xae\\xbf\\xe0\\xae\\xb4\\xe0\\xaf\\x8d</option><!-- Tami\\xe1\\xb8\\xbb -->\\n<option value=\"th\" lang=\"th\">\\xe0\\xb8\\xa0\\xe0\\xb8\\xb2\\xe0\\xb8\\xa9\\xe0\\xb8\\xb2\\xe0\\xb9\\x84\\xe0\\xb8\\x97\\xe0\\xb8\\xa2</option><!-- Phasa Thai -->\\n<option value=\"tg\" lang=\"tg\">\\xd0\\xa2\\xd0\\xbe\\xd2\\xb7\\xd0\\xb8\\xd0\\xba\\xd3\\xa3</option><!-- Tojik\\xc4\\xab -->\\n<option value=\"azb\" lang=\"azb\">\\xd8\\xaa\\xdb\\x86\\xd8\\xb1\\xda\\xa9\\xd8\\xac\\xd9\\x87</option><!-- T\\xc3\\xbcrkce -->\\n<option value=\"tr\" lang=\"tr\">T\\xc3\\xbcrk\\xc3\\xa7e</option><!-- T\\xc3\\xbcrk\\xc3\\xa7e -->\\n<option value=\"uk\" lang=\"uk\">\\xd0\\xa3\\xd0\\xba\\xd1\\x80\\xd0\\xb0\\xd1\\x97\\xd0\\xbd\\xd1\\x81\\xd1\\x8c\\xd0\\xba\\xd0\\xb0</option><!-- Ukrayins\\xe2\\x80\\x99ka -->\\n<option value=\"ur\" lang=\"ur\">\\xd8\\xa7\\xd8\\xb1\\xd8\\xaf\\xd9\\x88</option><!-- Urdu -->\\n<option value=\"vi\" lang=\"vi\">Ti\\xe1\\xba\\xbfng Vi\\xe1\\xbb\\x87t</option>\\n<option value=\"vo\" lang=\"vo\">Volap\\xc3\\xbck</option>\\n<option value=\"war\" lang=\"war\">Winaray</option>\\n<option value=\"zh\" lang=\"zh\">\\xe4\\xb8\\xad\\xe6\\x96\\x87</option><!-- Zh\\xc5\\x8dngw\\xc3\\xa9n -->\\n<option value=\"ko\" lang=\"ko\">\\xed\\x95\\x9c\\xea\\xb5\\xad\\xec\\x96\\xb4</option><!-- Hangugeo -->\\n</select>\\n<div class=\"styled-select-active-helper\"></div>\\n</div>\\n<i class=\"sprite svg-arrow-down\"></i>\\n</div>\\n</div>\\n<button class=\"pure-button pure-button-primary-progressive\" type=\"submit\">\\n<i class=\"sprite svg-search-icon\" data-jsl10n=\"search-input-button\">Search</i>\\n</button>\\n<input type=\"hidden\" value=\"Go\" name=\"go\">\\n</fieldset>\\n</form>\\n</div>\\n<div class=\"lang-list-button-wrapper\">\\n<button id=\"js-lang-list-button\" class=\"lang-list-button\">\\n<i class=\"sprite svg-translate-icon\"></i>\\n<span class=\"lang-list-button-text jsl10n\" data-jsl10n=\"language-button-text\">Read Wikipedia in your language </span>\\n<i class=\"sprite svg-arrow-down-blue\"></i>\\n</button>\\n</div>\\n<div class=\"lang-list-border\"></div>\\n<div class=\"lang-list-container\">\\n<div id=\"js-lang-lists\" class=\"lang-list-content\">\\n<!-- Bookshelves -->\\n<h2 class=\"bookshelf-container\">\\n<span class=\"bookshelf\">\\n<span class=\"text\">\\n<bdi dir=\"ltr\">\\n1&nbsp;000&nbsp;000+\\n</bdi>\\n<span class=\"jsl10n\" data-jsl10n=\"entries\">\\narticles\\n</span>\\n</span>\\n</span>\\n</h2>\\n<!-- 1,000,000+ content pages -->\\n<div class=\"langlist langlist-large hlist\" data-el-section=\"secondary links\">\\n<ul>\\n<li><a href=\"//ar.wikipedia.org/\" lang=\"ar\" title=\"Al-\\xca\\xbfArab\\xc4\\xabyah\"><bdi dir=\"rtl\">\\xd8\\xa7\\xd9\\x84\\xd8\\xb9\\xd8\\xb1\\xd8\\xa8\\xd9\\x8a\\xd8\\xa9</bdi></a></li>\\n<li><a href=\"//de.wikipedia.org/\" lang=\"de\">Deutsch</a></li>\\n<li><a href=\"//en.wikipedia.org/\" lang=\"en\" title=\"English\">English</a></li>\\n<li><a href=\"//es.wikipedia.org/\" lang=\"es\">Espa\\xc3\\xb1ol</a></li>\\n<li><a href=\"//fr.wikipedia.org/\" lang=\"fr\">Fran\\xc3\\xa7ais</a></li>\\n<li><a href=\"//it.wikipedia.org/\" lang=\"it\">Italiano</a></li>\\n<li><a href=\"//nl.wikipedia.org/\" lang=\"nl\">Nederlands</a></li>\\n<li><a href=\"//ja.wikipedia.org/\" lang=\"ja\" title=\"Nihongo\">\\xe6\\x97\\xa5\\xe6\\x9c\\xac\\xe8\\xaa\\x9e</a></li>\\n<li><a href=\"//pl.wikipedia.org/\" lang=\"pl\">Polski</a></li>\\n<li><a href=\"//pt.wikipedia.org/\" lang=\"pt\">Portugu\\xc3\\xaas</a></li>\\n<li><a href=\"//ru.wikipedia.org/\" lang=\"ru\" title=\"Russkiy\">\\xd0\\xa0\\xd1\\x83\\xd1\\x81\\xd1\\x81\\xd0\\xba\\xd0\\xb8\\xd0\\xb9</a></li>\\n<li><a href=\"//ceb.wikipedia.org/\" lang=\"ceb\">Sinugboanong Binisaya</a></li>\\n<li><a href=\"//sv.wikipedia.org/\" lang=\"sv\">Svenska</a></li>\\n<li><a href=\"//vi.wikipedia.org/\" lang=\"vi\">Ti\\xe1\\xba\\xbfng Vi\\xe1\\xbb\\x87t</a></li>\\n<li><a href=\"//war.wikipedia.org/\" lang=\"war\">Winaray</a></li>\\n<li><a href=\"//zh.wikipedia.org/\" lang=\"zh\" title=\"Zh\\xc5\\x8dngw\\xc3\\xa9n\">\\xe4\\xb8\\xad\\xe6\\x96\\x87</a></li>\\n</ul>\\n</div>\\n<!-- Bookshelves -->\\n<h2 class=\"bookshelf-container\">\\n<span class=\"bookshelf\">\\n<span class=\"text\">\\n<bdi dir=\"ltr\">\\n100&nbsp;000+\\n</bdi>\\n<span class=\"jsl10n\" data-jsl10n=\"entries\">\\narticles\\n</span>\\n</span>\\n</span>\\n</h2>\\n<!-- 100,000+ content pages -->\\n<div class=\"langlist langlist-large hlist\" data-el-section=\"secondary links\">\\n<ul>\\n<li><a href=\"//az.wikipedia.org/\" lang=\"az\">Az\\xc9\\x99rbaycanca</a></li>\\n<li><a href=\"//bg.wikipedia.org/\" lang=\"bg\" title=\"B\\xc7\\x8elgarski\">\\xd0\\x91\\xd1\\x8a\\xd0\\xbb\\xd0\\xb3\\xd0\\xb0\\xd1\\x80\\xd1\\x81\\xd0\\xba\\xd0\\xb8</a></li>\\n<li><a href=\"//zh-min-nan.wikipedia.org/\" lang=\"nan\">B\\xc3\\xa2n-l\\xc3\\xa2m-g\\xc3\\xba / H\\xc5\\x8d-l\\xc3\\xb3-o\\xc4\\x93</a></li>\\n<li><a href=\"//be.wikipedia.org/\" lang=\"be\" title=\"Belaruskaya (Akademichnaya)\">\\xd0\\x91\\xd0\\xb5\\xd0\\xbb\\xd0\\xb0\\xd1\\x80\\xd1\\x83\\xd1\\x81\\xd0\\xba\\xd0\\xb0\\xd1\\x8f (\\xd0\\x90\\xd0\\xba\\xd0\\xb0\\xd0\\xb4\\xd1\\x8d\\xd0\\xbc\\xd1\\x96\\xd1\\x87\\xd0\\xbd\\xd0\\xb0\\xd1\\x8f)</a></li>\\n<li><a href=\"//ca.wikipedia.org/\" lang=\"ca\">Catal\\xc3\\xa0</a></li>\\n<li><a href=\"//cs.wikipedia.org/\" lang=\"cs\" title=\"\\xc4\\x8de\\xc5\\xa1tina\">\\xc4\\x8ce\\xc5\\xa1tina</a></li>\\n<li><a href=\"//da.wikipedia.org/\" lang=\"da\">Dansk</a></li>\\n<li><a href=\"//et.wikipedia.org/\" lang=\"et\">Eesti</a></li>\\n<li><a href=\"//el.wikipedia.org/\" lang=\"el\" title=\"Ell\\xc4\\xabnik\\xc3\\xa1\">\\xce\\x95\\xce\\xbb\\xce\\xbb\\xce\\xb7\\xce\\xbd\\xce\\xb9\\xce\\xba\\xce\\xac</a></li>\\n<li><a href=\"//eo.wikipedia.org/\" lang=\"eo\">Esperanto</a></li>\\n<li><a href=\"//eu.wikipedia.org/\" lang=\"eu\">Euskara</a></li>\\n<li><a href=\"//fa.wikipedia.org/\" lang=\"fa\" title=\"F\\xc4\\x81rsi\"><bdi dir=\"rtl\">\\xd9\\x81\\xd8\\xa7\\xd8\\xb1\\xd8\\xb3\\xdb\\x8c</bdi></a></li>\\n<li><a href=\"//gl.wikipedia.org/\" lang=\"gl\">Galego</a></li>\\n<li><a href=\"//hy.wikipedia.org/\" lang=\"hy\" title=\"Hayeren\">\\xd5\\x80\\xd5\\xa1\\xd5\\xb5\\xd5\\xa5\\xd6\\x80\\xd5\\xa5\\xd5\\xb6</a></li>\\n<li><a href=\"//hi.wikipedia.org/\" lang=\"hi\" title=\"Hind\\xc4\\xab\">\\xe0\\xa4\\xb9\\xe0\\xa4\\xbf\\xe0\\xa4\\xa8\\xe0\\xa5\\x8d\\xe0\\xa4\\xa6\\xe0\\xa5\\x80</a></li>\\n<li><a href=\"//hr.wikipedia.org/\" lang=\"hr\">Hrvatski</a></li>\\n<li><a href=\"//id.wikipedia.org/\" lang=\"id\">Bahasa Indonesia</a></li>\\n<li><a href=\"//he.wikipedia.org/\" lang=\"he\" title=\"\\xca\\xbfIvrit\"><bdi dir=\"rtl\">\\xd7\\xa2\\xd7\\x91\\xd7\\xa8\\xd7\\x99\\xd7\\xaa</bdi></a></li>\\n<li><a href=\"//ka.wikipedia.org/\" lang=\"ka\" title=\"Kartuli\">\\xe1\\x83\\xa5\\xe1\\x83\\x90\\xe1\\x83\\xa0\\xe1\\x83\\x97\\xe1\\x83\\xa3\\xe1\\x83\\x9a\\xe1\\x83\\x98</a></li>\\n<li><a href=\"//la.wikipedia.org/\" lang=\"la\">Latina</a></li>\\n<li><a href=\"//lt.wikipedia.org/\" lang=\"lt\">Lietuvi\\xc5\\xb3</a></li>\\n<li><a href=\"//hu.wikipedia.org/\" lang=\"hu\">Magyar</a></li>\\n<li><a href=\"//mk.wikipedia.org/\" lang=\"mk\" title=\"Makedonski\">\\xd0\\x9c\\xd0\\xb0\\xd0\\xba\\xd0\\xb5\\xd0\\xb4\\xd0\\xbe\\xd0\\xbd\\xd1\\x81\\xd0\\xba\\xd0\\xb8</a></li>\\n<li><a href=\"//ms.wikipedia.org/\" lang=\"ms\">Bahasa Melayu</a></li>\\n<li><a href=\"//min.wikipedia.org/\" lang=\"min\">Bahaso Minangkabau</a></li>\\n<li lang=\"no\">Norsk<ul><li><a href=\"//no.wikipedia.org/\" lang=\"nb\">bokm\\xc3\\xa5l</a></li><li><a href=\"//nn.wikipedia.org/\" lang=\"nn\">nynorsk</a></li></ul></li>\\n<li><a href=\"//ce.wikipedia.org/\" lang=\"ce\" title=\"Nox\\xc3\\xa7iyn\">\\xd0\\x9d\\xd0\\xbe\\xd1\\x85\\xd1\\x87\\xd0\\xb8\\xd0\\xb9\\xd0\\xbd</a></li>\\n<li><a href=\"//uz.wikipedia.org/\" lang=\"uz\">O\\xca\\xbbzbekcha / \\xd0\\x8e\\xd0\\xb7\\xd0\\xb1\\xd0\\xb5\\xd0\\xba\\xd1\\x87\\xd0\\xb0</a></li>\\n<li><a href=\"//kk.wikipedia.org/\" lang=\"kk\"><span lang=\"kk-Cyrl\">\\xd2\\x9a\\xd0\\xb0\\xd0\\xb7\\xd0\\xb0\\xd2\\x9b\\xd1\\x88\\xd0\\xb0</span> / <span lang=\"kk-Latn\">Qazaq\\xc5\\x9fa</span> / <bdi lang=\"kk-Arab\" dir=\"rtl\">\\xd9\\x82\\xd8\\xa7\\xd8\\xb2\\xd8\\xa7\\xd9\\x82\\xd8\\xb4\\xd8\\xa7</bdi></a></li>\\n<li><a href=\"//ro.wikipedia.org/\" lang=\"ro\">Rom\\xc3\\xa2n\\xc4\\x83</a></li>\\n<li><a href=\"//cy.wikipedia.org/\" lang=\"cy\" title=\"Saesneg\">Cymraeg</a></li>\\n<li><a href=\"//simple.wikipedia.org/\" lang=\"en\">Simple English</a></li>\\n<li><a href=\"//sk.wikipedia.org/\" lang=\"sk\">Sloven\\xc4\\x8dina</a></li>\\n<li><a href=\"//sl.wikipedia.org/\" lang=\"sl\">Sloven\\xc5\\xa1\\xc4\\x8dina</a></li>\\n<li><a href=\"//sr.wikipedia.org/\" lang=\"sr\">\\xd0\\xa1\\xd1\\x80\\xd0\\xbf\\xd1\\x81\\xd0\\xba\\xd0\\xb8 / Srpski</a></li>\\n<li><a href=\"//sh.wikipedia.org/\" lang=\"sh\">Srpskohrvatski / \\xd0\\xa1\\xd1\\x80\\xd0\\xbf\\xd1\\x81\\xd0\\xba\\xd0\\xbe\\xd1\\x85\\xd1\\x80\\xd0\\xb2\\xd0\\xb0\\xd1\\x82\\xd1\\x81\\xd0\\xba\\xd0\\xb8</a></li>\\n<li><a href=\"//fi.wikipedia.org/\" lang=\"fi\" title=\"suomi\">Suomi</a></li>\\n<li><a href=\"//ta.wikipedia.org/\" lang=\"ta\" title=\"Tami\\xe1\\xb8\\xbb\">\\xe0\\xae\\xa4\\xe0\\xae\\xae\\xe0\\xae\\xbf\\xe0\\xae\\xb4\\xe0\\xaf\\x8d</a></li>\\n<li><a href=\"//th.wikipedia.org/\" lang=\"th\" title=\"Phasa Thai\">\\xe0\\xb8\\xa0\\xe0\\xb8\\xb2\\xe0\\xb8\\xa9\\xe0\\xb8\\xb2\\xe0\\xb9\\x84\\xe0\\xb8\\x97\\xe0\\xb8\\xa2</a></li>\\n<li><a href=\"//tg.wikipedia.org/\" lang=\"tg\" title=\"Tojik\\xc4\\xab\">\\xd0\\xa2\\xd0\\xbe\\xd2\\xb7\\xd0\\xb8\\xd0\\xba\\xd3\\xa3</a></li>\\n<li><a href=\"//azb.wikipedia.org/\" lang=\"azb\" title=\"T\\xc3\\xbcrkce\"><bdi dir=\"rtl\">\\xd8\\xaa\\xdb\\x86\\xd8\\xb1\\xda\\xa9\\xd8\\xac\\xd9\\x87</bdi></a></li>\\n<li><a href=\"//tr.wikipedia.org/\" lang=\"tr\" title=\"T\\xc3\\xbcrk\\xc3\\xa7e\">T\\xc3\\xbcrk\\xc3\\xa7e</a></li>\\n<li><a href=\"//uk.wikipedia.org/\" lang=\"uk\" title=\"Ukrayins\\xe2\\x80\\x99ka\">\\xd0\\xa3\\xd0\\xba\\xd1\\x80\\xd0\\xb0\\xd1\\x97\\xd0\\xbd\\xd1\\x81\\xd1\\x8c\\xd0\\xba\\xd0\\xb0</a></li>\\n<li><a href=\"//ur.wikipedia.org/\" lang=\"ur\" title=\"Urdu\"><bdi dir=\"rtl\">\\xd8\\xa7\\xd8\\xb1\\xd8\\xaf\\xd9\\x88</bdi></a></li>\\n<li><a href=\"//vo.wikipedia.org/\" lang=\"vo\">Volap\\xc3\\xbck</a></li>\\n<li><a href=\"//ko.wikipedia.org/\" lang=\"ko\" title=\"Hangugeo\">\\xed\\x95\\x9c\\xea\\xb5\\xad\\xec\\x96\\xb4</a></li>\\n</ul>\\n</div>\\n<!-- Bookshelves -->\\n<h2 class=\"bookshelf-container\">\\n<span class=\"bookshelf\">\\n<span class=\"text\">\\n<bdi dir=\"ltr\">\\n10&nbsp;000+\\n</bdi>\\n<span class=\"jsl10n\" data-jsl10n=\"entries\">\\narticles\\n</span>\\n</span>\\n</span>\\n</h2>\\n<!-- 10,000+ content pages -->\\n<div class=\"langlist hlist\" data-el-section=\"secondary links\">\\n<ul>\\n<li><a href=\"//ace.wikipedia.org/\" lang=\"ace\">Bahsa Ac\\xc3\\xa8h</a></li>\\n<li><a href=\"//af.wikipedia.org/\" lang=\"af\">Afrikaans</a></li>\\n<li><a href=\"//als.wikipedia.org/\" lang=\"gsw\">Alemannisch</a></li>\\n<li><a href=\"//am.wikipedia.org/\" lang=\"am\" title=\"\\xc4\\x80mari\\xc3\\xb1\\xc3\\xb1\\xc4\\x81\">\\xe1\\x8a\\xa0\\xe1\\x88\\x9b\\xe1\\x88\\xad\\xe1\\x8a\\x9b</a></li>\\n<li><a href=\"//an.wikipedia.org/\" lang=\"an\">Aragon\\xc3\\xa9s</a></li>\\n<li><a href=\"//ast.wikipedia.org/\" lang=\"ast\">Asturianu</a></li>\\n<li><a href=\"//bn.wikipedia.org/\" lang=\"bn\" title=\"Bangla\">\\xe0\\xa6\\xac\\xe0\\xa6\\xbe\\xe0\\xa6\\x82\\xe0\\xa6\\xb2\\xe0\\xa6\\xbe</a></li>\\n<li><a href=\"//map-bms.wikipedia.org/\" lang=\"map-x-bms\">Basa Banyumasan</a></li>\\n<li><a href=\"//ba.wikipedia.org/\" lang=\"ba\" title=\"Ba\\xc5\\x9fqortsa\">\\xd0\\x91\\xd0\\xb0\\xd1\\x88\\xd2\\xa1\\xd0\\xbe\\xd1\\x80\\xd1\\x82\\xd1\\x81\\xd0\\xb0</a></li>\\n<li><a href=\"//be-tarask.wikipedia.org/\" lang=\"be\" title=\"Belaruskaya (Tara\\xc5\\xa1kievica)\">\\xd0\\x91\\xd0\\xb5\\xd0\\xbb\\xd0\\xb0\\xd1\\x80\\xd1\\x83\\xd1\\x81\\xd0\\xba\\xd0\\xb0\\xd1\\x8f (\\xd0\\xa2\\xd0\\xb0\\xd1\\x80\\xd0\\xb0\\xd1\\x88\\xd0\\xba\\xd0\\xb5\\xd0\\xb2\\xd1\\x96\\xd1\\x86\\xd0\\xb0)</a></li>\\n<li><a href=\"//bpy.wikipedia.org/\" lang=\"bpy\" title=\"Bishnupriya Manipuri\">\\xe0\\xa6\\xac\\xe0\\xa6\\xbf\\xe0\\xa6\\xb7\\xe0\\xa7\\x8d\\xe0\\xa6\\xa3\\xe0\\xa7\\x81\\xe0\\xa6\\xaa\\xe0\\xa7\\x8d\\xe0\\xa6\\xb0\\xe0\\xa6\\xbf\\xe0\\xa6\\xaf\\xe0\\xa6\\xbc\\xe0\\xa6\\xbe \\xe0\\xa6\\xae\\xe0\\xa6\\xa3\\xe0\\xa6\\xbf\\xe0\\xa6\\xaa\\xe0\\xa7\\x81\\xe0\\xa6\\xb0\\xe0\\xa7\\x80</a></li>\\n<li><a href=\"//bar.wikipedia.org/\" lang=\"bar\">Boarisch</a></li>\\n<li><a href=\"//bs.wikipedia.org/\" lang=\"bs\">Bosanski</a></li>\\n<li><a href=\"//br.wikipedia.org/\" lang=\"br\">Brezhoneg</a></li>\\n<li><a href=\"//cv.wikipedia.org/\" lang=\"cv\" title=\"\\xc4\\x8c\\xc4\\x83va\\xc5\\xa1la\">\\xd0\\xa7\\xd3\\x91\\xd0\\xb2\\xd0\\xb0\\xd1\\x88\\xd0\\xbb\\xd0\\xb0</a></li>\\n<li><a href=\"//nv.wikipedia.org/\" lang=\"nv\">Din\\xc3\\xa9 Bizaad</a></li>\\n<li><a href=\"//eml.wikipedia.org/\" lang=\"roa-x-eml\">Emigli\\xc3\\xa0n\\xe2\\x80\\x93Rumagn\\xc3\\xb2l</a></li>\\n<li><a href=\"//fo.wikipedia.org/\" lang=\"fo\">F\\xc3\\xb8royskt</a></li>\\n<li><a href=\"//fy.wikipedia.org/\" lang=\"fy\">Frysk</a></li>\\n<li><a href=\"//ga.wikipedia.org/\" lang=\"ga\">Gaeilge</a></li>\\n<li><a href=\"//gd.wikipedia.org/\" lang=\"gd\">G\\xc3\\xa0idhlig</a></li>\\n<li><a href=\"//gu.wikipedia.org/\" lang=\"gu\" title=\"Gujarati\">\\xe0\\xaa\\x97\\xe0\\xab\\x81\\xe0\\xaa\\x9c\\xe0\\xaa\\xb0\\xe0\\xaa\\xbe\\xe0\\xaa\\xa4\\xe0\\xab\\x80</a></li>\\n<li><a href=\"//hsb.wikipedia.org/\" lang=\"hsb\">Hornjoserbsce</a></li>\\n<li><a href=\"//io.wikipedia.org/\" lang=\"io\">Ido</a></li>\\n<li><a href=\"//ilo.wikipedia.org/\" lang=\"ilo\">Ilokano</a></li>\\n<li><a href=\"//ia.wikipedia.org/\" lang=\"ia\">Interlingua</a></li>\\n<li><a href=\"//os.wikipedia.org/\" lang=\"os\" title=\"Iron \\xc3\\x86vzag\">\\xd0\\x98\\xd1\\x80\\xd0\\xbe\\xd0\\xbd \\xc3\\xa6\\xd0\\xb2\\xd0\\xb7\\xd0\\xb0\\xd0\\xb3</a></li>\\n<li><a href=\"//is.wikipedia.org/\" lang=\"is\">\\xc3\\x8dslenska</a></li>\\n<li><a href=\"//jv.wikipedia.org/\" lang=\"jv\">Jawa</a></li>\\n<li><a href=\"//kn.wikipedia.org/\" lang=\"kn\" title=\"Kannada\">\\xe0\\xb2\\x95\\xe0\\xb2\\xa8\\xe0\\xb3\\x8d\\xe0\\xb2\\xa8\\xe0\\xb2\\xa1</a></li>\\n<li><a href=\"//ht.wikipedia.org/\" lang=\"ht\">Krey\\xc3\\xb2l Ayisyen</a></li>\\n<li><a href=\"//ku.wikipedia.org/\" lang=\"ku\"><span lang=\"ku-Latn\">Kurd\\xc3\\xae</span> / <bdi lang=\"ku-Arab\" dir=\"rtl\">\\xd9\\x83\\xd9\\x88\\xd8\\xb1\\xd8\\xaf\\xdb\\x8c</bdi></a></li>\\n<li><a href=\"//ckb.wikipedia.org/\" lang=\"ckb\" title=\"Kurd\\xc3\\xaey Nawend\\xc3\\xae\"><bdi dir=\"rtl\">\\xda\\xa9\\xd9\\x88\\xd8\\xb1\\xd8\\xaf\\xdb\\x8c\\xdb\\x8c \\xd9\\x86\\xd8\\xa7\\xd9\\x88\\xdb\\x95\\xd9\\x86\\xd8\\xaf\\xdb\\x8c</bdi></a></li>\\n<li><a href=\"//ky.wikipedia.org/\" lang=\"ky\" title=\"Kyrgyz\\xc4\\x8da\">\\xd0\\x9a\\xd1\\x8b\\xd1\\x80\\xd0\\xb3\\xd1\\x8b\\xd0\\xb7\\xd1\\x87\\xd0\\xb0</a></li>\\n<li><a href=\"//mrj.wikipedia.org/\" lang=\"mjr\" title=\"Kyryk Mary\">\\xd0\\x9a\\xd1\\x8b\\xd1\\x80\\xd1\\x8b\\xd0\\xba \\xd0\\x9c\\xd0\\xb0\\xd1\\x80\\xd1\\x8b</a></li>\\n<li><a href=\"//lv.wikipedia.org/\" lang=\"lv\">Latvie\\xc5\\xa1u</a></li>\\n<li><a href=\"//lb.wikipedia.org/\" lang=\"lb\">L\\xc3\\xabtzebuergesch</a></li>\\n<li><a href=\"//li.wikipedia.org/\" lang=\"li\">Limburgs</a></li>\\n<li><a href=\"//lmo.wikipedia.org/\" lang=\"lmo\">Lumbaart</a></li>\\n<li><a href=\"//mai.wikipedia.org/\" lang=\"mai\" title=\"Maithil\\xc4\\xab\">\\xe0\\xa4\\xae\\xe0\\xa5\\x88\\xe0\\xa4\\xa5\\xe0\\xa4\\xbf\\xe0\\xa4\\xb2\\xe0\\xa5\\x80</a></li>\\n<li><a href=\"//mg.wikipedia.org/\" lang=\"mg\">Malagasy</a></li>\\n<li><a href=\"//ml.wikipedia.org/\" lang=\"ml\" title=\"Malayalam\">\\xe0\\xb4\\xae\\xe0\\xb4\\xb2\\xe0\\xb4\\xaf\\xe0\\xb4\\xbe\\xe0\\xb4\\xb3\\xe0\\xb4\\x82</a></li>\\n<li><a href=\"//zh-classical.wikipedia.org/\" lang=\"lzh\" title=\"Man4jin4 / W\\xc3\\xa9ny\\xc3\\xa1n\">\\xe6\\x96\\x87\\xe8\\xa8\\x80</a></li>\\n<li><a href=\"//mr.wikipedia.org/\" lang=\"mr\" title=\"Marathi\">\\xe0\\xa4\\xae\\xe0\\xa4\\xb0\\xe0\\xa4\\xbe\\xe0\\xa4\\xa0\\xe0\\xa5\\x80</a></li>\\n<li><a href=\"//xmf.wikipedia.org/\" lang=\"xmf\" title=\"Margaluri\">\\xe1\\x83\\x9b\\xe1\\x83\\x90\\xe1\\x83\\xa0\\xe1\\x83\\x92\\xe1\\x83\\x90\\xe1\\x83\\x9a\\xe1\\x83\\xa3\\xe1\\x83\\xa0\\xe1\\x83\\x98</a></li>\\n<li><a href=\"//arz.wikipedia.org/\" lang=\"arz\" title=\"Ma\\xe1\\xb9\\xa3r\\xc4\\xab\"><bdi dir=\"rtl\">\\xd9\\x85\\xd8\\xb5\\xd8\\xb1\\xd9\\x89</bdi></a></li>\\n<li><a href=\"//mzn.wikipedia.org/\" lang=\"mzn\" title=\"M\\xc3\\xa4zeruni\"><bdi dir=\"rtl\">\\xd9\\x85\\xd8\\xa7\\xd8\\xb2\\xd9\\x90\\xd8\\xb1\\xd9\\x88\\xd9\\x86\\xdb\\x8c</bdi></a></li>\\n<li><a href=\"//cdo.wikipedia.org/\" lang=\"cdo\" title=\"Ming-deng-ngu\">M\\xc3\\xacng-d\\xc4\\x95\\xcc\\xa4ng-ng\\xe1\\xb9\\xb3\\xcc\\x84 / \\xe9\\x96\\xa9\\xe6\\x9d\\xb1\\xe8\\xaa\\x9e</a></li>\\n<li><a href=\"//mn.wikipedia.org/\" lang=\"mn\" title=\"Mongol\">\\xd0\\x9c\\xd0\\xbe\\xd0\\xbd\\xd0\\xb3\\xd0\\xbe\\xd0\\xbb</a></li>\\n<li><a href=\"//my.wikipedia.org/\" lang=\"my\" title=\"Myanmarsar\">\\xe1\\x80\\x99\\xe1\\x80\\xbc\\xe1\\x80\\x94\\xe1\\x80\\xba\\xe1\\x80\\x99\\xe1\\x80\\xac\\xe1\\x80\\x98\\xe1\\x80\\xac\\xe1\\x80\\x9e\\xe1\\x80\\xac</a></li>\\n<li><a href=\"//new.wikipedia.org/\" lang=\"new\" title=\"Nepal Bhasa\">\\xe0\\xa4\\xa8\\xe0\\xa5\\x87\\xe0\\xa4\\xaa\\xe0\\xa4\\xbe\\xe0\\xa4\\xb2 \\xe0\\xa4\\xad\\xe0\\xa4\\xbe\\xe0\\xa4\\xb7\\xe0\\xa4\\xbe</a></li>\\n<li><a href=\"//ne.wikipedia.org/\" lang=\"ne\" title=\"Nep\\xc4\\x81l\\xc4\\xab\">\\xe0\\xa4\\xa8\\xe0\\xa5\\x87\\xe0\\xa4\\xaa\\xe0\\xa4\\xbe\\xe0\\xa4\\xb2\\xe0\\xa5\\x80</a></li>\\n<li><a href=\"//nap.wikipedia.org/\" lang=\"nap\">Nnapulitano</a></li>\\n<li><a href=\"//oc.wikipedia.org/\" lang=\"oc\">Occitan</a></li>\\n<li><a href=\"//mhr.wikipedia.org/\" lang=\"mhr\" title=\"Olyk Marij\">\\xd0\\x9c\\xd0\\xb0\\xd1\\x80\\xd0\\xb8\\xd0\\xb9</a></li>\\n<li><a href=\"//or.wikipedia.org/\" lang=\"or\" title=\"O\\xe1\\xb9\\x9bi\\xc4\\x81\">\\xe0\\xac\\x93\\xe0\\xac\\xa1\\xe0\\xac\\xbf\\xe0\\xac\\xbc\\xe0\\xac\\x86</a></li>\\n<li><a href=\"//pa.wikipedia.org/\" lang=\"pa\" title=\"Pa\\xc3\\xb1j\\xc4\\x81b\\xc4\\xab (Gurmukh\\xc4\\xab)\">\\xe0\\xa8\\xaa\\xe0\\xa9\\xb0\\xe0\\xa8\\x9c\\xe0\\xa8\\xbe\\xe0\\xa8\\xac\\xe0\\xa9\\x80 (\\xe0\\xa8\\x97\\xe0\\xa9\\x81\\xe0\\xa8\\xb0\\xe0\\xa8\\xae\\xe0\\xa9\\x81\\xe0\\xa8\\x96\\xe0\\xa9\\x80)</a></li>\\n<li><a href=\"//pnb.wikipedia.org/\" lang=\"pnb\" title=\"Pa\\xc3\\xb1j\\xc4\\x81b\\xc4\\xab (Sh\\xc4\\x81hmukh\\xc4\\xab)\"><bdi dir=\"rtl\">\\xd9\\xbe\\xd9\\x86\\xd8\\xac\\xd8\\xa7\\xd8\\xa8\\xdb\\x8c (\\xd8\\xb4\\xd8\\xa7\\xdb\\x81 \\xd9\\x85\\xda\\xa9\\xda\\xbe\\xdb\\x8c)</bdi></a></li>\\n<li><a href=\"//ps.wikipedia.org/\" lang=\"ps\" title=\"Pa\\xca\\x82to\"><bdi dir=\"rtl\">\\xd9\\xbe\\xda\\x9a\\xd8\\xaa\\xd9\\x88</bdi></a></li>\\n<li><a href=\"//pms.wikipedia.org/\" lang=\"pms\">Piemont\\xc3\\xa8is</a></li>\\n<li><a href=\"//nds.wikipedia.org/\" lang=\"nds\">Plattd\\xc3\\xbc\\xc3\\xbctsch</a></li>\\n<li><a href=\"//qu.wikipedia.org/\" lang=\"qu\">Runa Simi</a></li>\\n<li><a href=\"//sa.wikipedia.org/\" lang=\"sa\" title=\"Sa\\xe1\\xb9\\x83sk\\xe1\\xb9\\x9btam\">\\xe0\\xa4\\xb8\\xe0\\xa4\\x82\\xe0\\xa4\\xb8\\xe0\\xa5\\x8d\\xe0\\xa4\\x95\\xe0\\xa5\\x83\\xe0\\xa4\\xa4\\xe0\\xa4\\xae\\xe0\\xa5\\x8d</a></li>\\n<li><a href=\"//sah.wikipedia.org/\" lang=\"sah\" title=\"Saxa Tyla\">\\xd0\\xa1\\xd0\\xb0\\xd1\\x85\\xd0\\xb0 \\xd0\\xa2\\xd1\\x8b\\xd0\\xbb\\xd0\\xb0</a></li>\\n<li><a href=\"//sco.wikipedia.org/\" lang=\"sco\">Scots</a></li>\\n<li><a href=\"//sq.wikipedia.org/\" lang=\"sq\">Shqip</a></li>\\n<li><a href=\"//scn.wikipedia.org/\" lang=\"scn\">Sicilianu</a></li>\\n<li><a href=\"//si.wikipedia.org/\" lang=\"si\" title=\"Si\\xe1\\xb9\\x83hala\">\\xe0\\xb7\\x83\\xe0\\xb7\\x92\\xe0\\xb6\\x82\\xe0\\xb7\\x84\\xe0\\xb6\\xbd</a></li>\\n<li><a href=\"//sd.wikipedia.org/\" lang=\"sd\" title=\"Sindh\\xc4\\xab\"><bdi dir=\"rtl\">\\xd8\\xb3\\xd9\\x86\\xda\\x8c\\xd9\\x8a</bdi></a></li>\\n<li><a href=\"//szl.wikipedia.org/\" lang=\"szl\">\\xc5\\x9al\\xc5\\xafnski</a></li>\\n<li><a href=\"//su.wikipedia.org/\" lang=\"su\">Basa Sunda</a></li>\\n<li><a href=\"//sw.wikipedia.org/\" lang=\"sw\">Kiswahili</a></li>\\n<li><a href=\"//tl.wikipedia.org/\" lang=\"tl\">Tagalog</a></li>\\n<li><a href=\"//tt.wikipedia.org/\" lang=\"tt\">\\xd0\\xa2\\xd0\\xb0\\xd1\\x82\\xd0\\xb0\\xd1\\x80\\xd1\\x87\\xd0\\xb0 / Tatar\\xc3\\xa7a</a></li>\\n<li><a href=\"//te.wikipedia.org/\" lang=\"te\" title=\"Telugu\">\\xe0\\xb0\\xa4\\xe0\\xb1\\x86\\xe0\\xb0\\xb2\\xe0\\xb1\\x81\\xe0\\xb0\\x97\\xe0\\xb1\\x81</a></li>\\n<li><a href=\"//bug.wikipedia.org/\" lang=\"bug\">\\xe1\\xa8\\x85\\xe1\\xa8\\x94 \\xe1\\xa8\\x95\\xe1\\xa8\\x99\\xe1\\xa8\\x81\\xe1\\xa8\\x97 / Basa Ugi</a></li>\\n<li><a href=\"//vec.wikipedia.org/\" lang=\"vec\">V\\xc3\\xa8neto</a></li>\\n<li><a href=\"//wa.wikipedia.org/\" lang=\"wa\">Walon</a></li>\\n<li><a href=\"//wuu.wikipedia.org/\" lang=\"wuu\" title=\"W\\xc3\\xba Y\\xc7\\x94\" data-convert-hans=\"\\xe5\\x90\\xb4\\xe8\\xaf\\xad\" id=\"wuu_wiki\">\\xe5\\x90\\xb3\\xe8\\xaa\\x9e</a></li>\\n<li><a href=\"//yi.wikipedia.org/\" lang=\"yi\" title=\"Yidi\\xc5\\xa1\"><bdi dir=\"rtl\">\\xd7\\x99\\xd7\\x99\\xd6\\xb4\\xd7\\x93\\xd7\\x99\\xd7\\xa9</bdi></a></li>\\n<li><a href=\"//yo.wikipedia.org/\" lang=\"yo\">Yor\\xc3\\xb9b\\xc3\\xa1</a></li>\\n<li><a href=\"//zh-yue.wikipedia.org/\" lang=\"yue\" title=\"Yuht Y\\xc3\\xbah / Jyut6 jyu5\" data-convert-hans=\"\\xe7\\xb2\\xa4\\xe8\\xaf\\xad\" id=\"zh-yue_wiki\">\\xe7\\xb2\\xb5\\xe8\\xaa\\x9e</a></li>\\n<li><a href=\"//diq.wikipedia.org/\" lang=\"diq\" title=\"Zazaki\">Zazaki</a></li>\\n<li><a href=\"//bat-smg.wikipedia.org/\" lang=\"sgs\">\\xc5\\xbdemait\\xc4\\x97\\xc5\\xa1ka</a></li>\\n</ul>\\n</div>\\n<!-- Bookshelves -->\\n<h2 class=\"bookshelf-container\">\\n<span class=\"bookshelf\">\\n<span class=\"text\">\\n<bdi dir=\"ltr\">\\n1&nbsp;000+\\n</bdi>\\n<span class=\"jsl10n\" data-jsl10n=\"entries\">\\narticles\\n</span>\\n</span>\\n</span>\\n</h2>\\n<!-- 1,000+ content pages -->\\n<div class=\"langlist hlist\" data-el-section=\"secondary links\">\\n<ul>\\n<li><a href=\"//kbd.wikipedia.org/\" lang=\"kbd\" title=\"Adighabze\">\\xd0\\x90\\xd0\\xb4\\xd1\\x8b\\xd0\\xb3\\xd1\\x8d\\xd0\\xb1\\xd0\\xb7\\xd1\\x8d</a></li>\\n<li><a href=\"//ang.wikipedia.org/\" lang=\"ang\">\\xc3\\x86nglisc</a></li>\\n<li><a href=\"//ab.wikipedia.org/\" lang=\"ab\" title=\"A\\xe1\\xb9\\x97sua\">\\xd0\\x90\\xd2\\xa7\\xd1\\x81\\xd1\\x83\\xd0\\xb0</a></li>\\n<li><a href=\"//hyw.wikipedia.org/\" lang=\"hyw\" title=\"Arevmdahayeren\">\\xd4\\xb1\\xd6\\x80\\xd5\\xa5\\xd6\\x82\\xd5\\xb4\\xd5\\xbf\\xd5\\xa1\\xd5\\xb0\\xd5\\xa1\\xd5\\xb5\\xd5\\xa5\\xd6\\x80\\xd5\\xa7\\xd5\\xb6</a></li>\\n<li><a href=\"//roa-rup.wikipedia.org/\" lang=\"roa-rup\">Arm\\xc3\\xa3neashce</a></li>\\n<li><a href=\"//frp.wikipedia.org/\" lang=\"frp\">Arpitan</a></li>\\n<li><a href=\"//ig.wikipedia.org/\" lang=\"ig\">as\\xe1\\xbb\\xa5s\\xe1\\xbb\\xa5 bekee ma\\xe1\\xbb\\x8db\\xe1\\xbb\\xa5 as\\xe1\\xbb\\xa5s\\xe1\\xbb\\xa5 oyibo</a></li>\\n<li><a href=\"//arc.wikipedia.org/\" lang=\"arc\" title=\"\\xc4\\x80t\\xc3\\xbbr\\xc4\\x81y\\xc3\\xa2\"><bdi dir=\"rtl\">\\xdc\\x90\\xdc\\xac\\xdc\\x98\\xdc\\xaa\\xdc\\x9d\\xdc\\x90</bdi></a></li>\\n<li><a href=\"//gn.wikipedia.org/\" lang=\"gn\">Ava\\xc3\\xb1e\\xe2\\x80\\x99\\xe1\\xba\\xbd</a></li>\\n<li><a href=\"//av.wikipedia.org/\" lang=\"av\" title=\"Avar\">\\xd0\\x90\\xd0\\xb2\\xd0\\xb0\\xd1\\x80</a></li>\\n<li><a href=\"//ay.wikipedia.org/\" lang=\"ay\">Aymar</a></li>\\n<li><a href=\"//bjn.wikipedia.org/\" lang=\"bjn\">Bahasa Banjar</a></li>\\n<li><a href=\"//bh.wikipedia.org/\" lang=\"bh\" title=\"Bh\\xc5\\x8djapur\\xc4\\xab\">\\xe0\\xa4\\xad\\xe0\\xa5\\x8b\\xe0\\xa4\\x9c\\xe0\\xa4\\xaa\\xe0\\xa5\\x81\\xe0\\xa4\\xb0\\xe0\\xa5\\x80</a></li>\\n<li><a href=\"//bcl.wikipedia.org/\" lang=\"bcl\">Bikol Central</a></li>\\n<li><a href=\"//bi.wikipedia.org/\" lang=\"bi\">Bislama</a></li>\\n<li><a href=\"//bo.wikipedia.org/\" lang=\"bo\" title=\"Bod Skad\">\\xe0\\xbd\\x96\\xe0\\xbd\\xbc\\xe0\\xbd\\x91\\xe0\\xbc\\x8b\\xe0\\xbd\\xa1\\xe0\\xbd\\xb2\\xe0\\xbd\\x82</a></li>\\n<li><a href=\"//bxr.wikipedia.org/\" lang=\"bxr\" title=\"Buryad\">\\xd0\\x91\\xd1\\x83\\xd1\\x80\\xd1\\x8f\\xd0\\xb0\\xd0\\xb4</a></li>\\n<li><a href=\"//cbk-zam.wikipedia.org/\" lang=\"cbk-x-zam\">Chavacano de Zamboanga</a></li>\\n<li><a href=\"//co.wikipedia.org/\" lang=\"co\">Corsu</a></li>\\n<li><a href=\"//za.wikipedia.org/\" lang=\"za\">Vahcuengh / \\xe8\\xa9\\xb1\\xe5\\x83\\xae</a></li>\\n<li><a href=\"//se.wikipedia.org/\" lang=\"se\">Davvis\\xc3\\xa1megiella</a></li>\\n<li><a href=\"//pdc.wikipedia.org/\" lang=\"pdc\">Deitsch</a></li>\\n<li><a href=\"//dsb.wikipedia.org/\" lang=\"dsb\">Dolnoserbski</a></li>\\n<li><a href=\"//myv.wikipedia.org/\" lang=\"myv\" title=\"Erzjanj\">\\xd0\\xad\\xd1\\x80\\xd0\\xb7\\xd1\\x8f\\xd0\\xbd\\xd1\\x8c</a></li>\\n<li><a href=\"//ext.wikipedia.org/\" lang=\"ext\">Estreme\\xc3\\xb1u</a></li>\\n<li><a href=\"//hif.wikipedia.org/\" lang=\"hif\">Fiji Hindi</a></li>\\n<li><a href=\"//fur.wikipedia.org/\" lang=\"fur\">Furlan</a></li>\\n<li><a href=\"//gv.wikipedia.org/\" lang=\"gv\">Gaelg</a></li>\\n<li><a href=\"//gag.wikipedia.org/\" lang=\"gag\">Gagauz</a></li>\\n<li><a href=\"//ki.wikipedia.org/\" lang=\"ki\">G\\xc4\\xa9k\\xc5\\xa9y\\xc5\\xa9</a></li>\\n<li><a href=\"//glk.wikipedia.org/\" lang=\"glk\" title=\"Gil\\xc9\\x99ki\"><bdi dir=\"rtl\">\\xda\\xaf\\xdb\\x8c\\xd9\\x84\\xda\\xa9\\xdb\\x8c</bdi></a></li>\\n<li><a href=\"//gan.wikipedia.org/\" lang=\"gan\" title=\"Gon ua\" data-convert-hans=\"\\xe8\\xb5\\xa3\\xe8\\xaf\\xad\" id=\"gan_wiki\">\\xe8\\xb4\\x9b\\xe8\\xaa\\x9e</a></li>\\n<li><a href=\"//hak.wikipedia.org/\" lang=\"hak\">Hak-k\\xc3\\xa2-ng\\xc3\\xae / \\xe5\\xae\\xa2\\xe5\\xae\\xb6\\xe8\\xaa\\x9e</a></li>\\n<li><a href=\"//xal.wikipedia.org/\" lang=\"xal\" title=\"Hal\\xca\\xb9mg\">\\xd0\\xa5\\xd0\\xb0\\xd0\\xbb\\xd1\\x8c\\xd0\\xbc\\xd0\\xb3</a></li>\\n<li><a href=\"//ha.wikipedia.org/\" lang=\"ha\"><span lang=\"ha-Latn\">Hausa</span> / <bdi lang=\"ha-Arab\" dir=\"rtl\">\\xd9\\x87\\xd9\\x8e\\xd9\\x88\\xd9\\x8f\\xd8\\xb3\\xd9\\x8e\\xd8\\xa7</bdi></a></li>\\n<li><a href=\"//haw.wikipedia.org/\" lang=\"haw\">\\xca\\xbb\\xc5\\x8clelo Hawai\\xca\\xbbi</a></li>\\n<li><a href=\"//ie.wikipedia.org/\" lang=\"ie\">Interlingue</a></li>\\n<li><a href=\"//kl.wikipedia.org/\" lang=\"kl\">Kalaallisut</a></li>\\n<li><a href=\"//pam.wikipedia.org/\" lang=\"pam\">Kapampangan</a></li>\\n<li><a href=\"//csb.wikipedia.org/\" lang=\"csb\">Kasz\\xc3\\xabbsczi</a></li>\\n<li><a href=\"//kw.wikipedia.org/\" lang=\"kw\">Kernewek</a></li>\\n<li><a href=\"//km.wikipedia.org/\" lang=\"km\" title=\"Ph\\xc3\\xa9asa Khm\\xc3\\xa9r\">\\xe1\\x9e\\x97\\xe1\\x9e\\xb6\\xe1\\x9e\\x9f\\xe1\\x9e\\xb6\\xe1\\x9e\\x81\\xe1\\x9f\\x92\\xe1\\x9e\\x98\\xe1\\x9f\\x82\\xe1\\x9e\\x9a</a></li>\\n<li><a href=\"//rw.wikipedia.org/\" lang=\"rw\">Kinyarwanda</a></li>\\n<li><a href=\"//kv.wikipedia.org/\" lang=\"kv\" title=\"Komi\">\\xd0\\x9a\\xd0\\xbe\\xd0\\xbc\\xd0\\xb8</a></li>\\n<li><a href=\"//kg.wikipedia.org/\" lang=\"kg\">Kongo</a></li>\\n<li><a href=\"//gom.wikipedia.org/\" lang=\"gom\">\\xe0\\xa4\\x95\\xe0\\xa5\\x8b\\xe0\\xa4\\x82\\xe0\\xa4\\x95\\xe0\\xa4\\xa3\\xe0\\xa5\\x80 / Konknni</a></li>\\n<li><a href=\"//lo.wikipedia.org/\" lang=\"lo\" title=\"Phaasaa Laao\">\\xe0\\xba\\x9e\\xe0\\xba\\xb2\\xe0\\xba\\xaa\\xe0\\xba\\xb2\\xe0\\xba\\xa5\\xe0\\xba\\xb2\\xe0\\xba\\xa7</a></li>\\n<li><a href=\"//lad.wikipedia.org/\" lang=\"lad\" title=\"Ladino\"><span lang=\"lad-Latn\">Dzhudezmo</span> / <bdi lang=\"lad-Hebr\" dir=\"rtl\">\\xd7\\x9c\\xd7\\x90\\xd7\\x93\\xd7\\x99\\xd7\\xa0\\xd7\\x95</bdi></a></li>\\n<li><a href=\"//lbe.wikipedia.org/\" lang=\"lbe\" title=\"Lak\\xcb\\x90u\">\\xd0\\x9b\\xd0\\xb0\\xd0\\xba\\xd0\\xba\\xd1\\x83</a></li>\\n<li><a href=\"//lez.wikipedia.org/\" lang=\"lez\" title=\"Lezgi\">\\xd0\\x9b\\xd0\\xb5\\xd0\\xb7\\xd0\\xb3\\xd0\\xb8</a></li>\\n<li><a href=\"//ln.wikipedia.org/\" lang=\"ln\">Ling\\xc3\\xa1la</a></li>\\n<li><a href=\"//jbo.wikipedia.org/\" lang=\"jbo\">lojban</a></li>\\n<li><a href=\"//lrc.wikipedia.org/\" lang=\"lrc\" title=\"L\\xc3\\xb6riy\\xc3\\xa9-\\xc5\\xa0om\\xc4\\x81l\\xc4\\xab\"><bdi dir=\"rtl\">\\xd9\\x84\\xdb\\x8a\\xd8\\xb1\\xdb\\x8c \\xd8\\xb4\\xd9\\x88\\xd9\\x85\\xd8\\xa7\\xd9\\x84\\xdb\\x8c</bdi></a></li>\\n<li><a href=\"//lg.wikipedia.org/\" lang=\"lg\">Luganda</a></li>\\n<li><a href=\"//lij.wikipedia.org/\" lang=\"lij\">L\\xc3\\xacgure</a></li>\\n<li><a href=\"//mt.wikipedia.org/\" lang=\"mt\">Malti</a></li>\\n<li><a href=\"//ty.wikipedia.org/\" lang=\"ty\">Reo M\\xc4\\x81\\xe2\\x80\\x99ohi</a></li>\\n<li><a href=\"//mi.wikipedia.org/\" lang=\"mi\">M\\xc4\\x81ori</a></li>\\n<li><a href=\"//mwl.wikipedia.org/\" lang=\"mwl\">Mirand\\xc3\\xa9s</a></li>\\n<li><a href=\"//mdf.wikipedia.org/\" lang=\"mdf\" title=\"Mok\\xc5\\xa1enj\">\\xd0\\x9c\\xd0\\xbe\\xd0\\xba\\xd1\\x88\\xd0\\xb5\\xd0\\xbd\\xd1\\x8c</a></li>\\n<li><a href=\"//nah.wikipedia.org/\" lang=\"nah\">N\\xc4\\x81huatlaht\\xc5\\x8dlli</a></li>\\n<li><a href=\"//na.wikipedia.org/\" lang=\"na\">Dorerin Naoero</a></li>\\n<li><a href=\"//nds-nl.wikipedia.org/\" lang=\"nds-nl\">Nedersaksisch</a></li>\\n<li><a href=\"//frr.wikipedia.org/\" lang=\"frr\">Nordfriisk</a></li>\\n<li><a href=\"//nrm.wikipedia.org/\" lang=\"roa-x-nrm\">Nouormand / Normaund</a></li>\\n<li><a href=\"//nov.wikipedia.org/\" lang=\"nov\">Novial</a></li>\\n<li><a href=\"//as.wikipedia.org/\" lang=\"as\" title=\"\\xc3\\x94x\\xc3\\xb4miya\">\\xe0\\xa6\\x85\\xe0\\xa6\\xb8\\xe0\\xa6\\xae\\xe0\\xa7\\x80\\xe0\\xa6\\xaf\\xe0\\xa6\\xbe\\xe0\\xa6\\xbc</a></li>\\n<li><a href=\"//pi.wikipedia.org/\" lang=\"pi\" title=\"P\\xc4\\x81\\xe1\\xb8\\xb7i\">\\xe0\\xa4\\xaa\\xe0\\xa4\\xbe\\xe0\\xa4\\xb2\\xe0\\xa4\\xbf</a></li>\\n<li><a href=\"//pag.wikipedia.org/\" lang=\"pag\">Pangasin\\xc3\\xa1n</a></li>\\n<li><a href=\"//pap.wikipedia.org/\" lang=\"pap\">Papiamentu</a></li>\\n<li><a href=\"//koi.wikipedia.org/\" lang=\"koi\" title=\"Perem Komi\">\\xd0\\x9f\\xd0\\xb5\\xd1\\x80\\xd0\\xb5\\xd0\\xbc \\xd0\\x9a\\xd0\\xbe\\xd0\\xbc\\xd0\\xb8</a></li>\\n<li><a href=\"//pfl.wikipedia.org/\" lang=\"pfl\">Pf\\xc3\\xa4lzisch</a></li>\\n<li><a href=\"//pcd.wikipedia.org/\" lang=\"pcd\">Picard</a></li>\\n<li><a href=\"//krc.wikipedia.org/\" lang=\"krc\" title=\"Qara\\xc3\\xa7ay\\xe2\\x80\\x93Malqar\">\\xd0\\x9a\\xd1\\x8a\\xd0\\xb0\\xd1\\x80\\xd0\\xb0\\xd1\\x87\\xd0\\xb0\\xd0\\xb9\\xe2\\x80\\x93\\xd0\\x9c\\xd0\\xb0\\xd0\\xbb\\xd0\\xba\\xd1\\x8a\\xd0\\xb0\\xd1\\x80</a></li>\\n<li><a href=\"//kaa.wikipedia.org/\" lang=\"kaa\">Qaraqalpaqsha</a></li>\\n<li><a href=\"//crh.wikipedia.org/\" lang=\"crh\">Q\\xc4\\xb1r\\xc4\\xb1mtatarca</a></li>\\n<li><a href=\"//ksh.wikipedia.org/\" lang=\"ksh\">Ripoarisch</a></li>\\n<li><a href=\"//rm.wikipedia.org/\" lang=\"rm\">Rumantsch</a></li>\\n<li><a href=\"//rue.wikipedia.org/\" lang=\"rue\" title=\"Rusin\\xe2\\x80\\x99skyj Yazyk\">\\xd0\\xa0\\xd1\\x83\\xd1\\x81\\xd0\\xb8\\xd0\\xbd\\xd1\\x8c\\xd1\\x81\\xd0\\xba\\xd1\\x8b\\xd0\\xb9 \\xd0\\xaf\\xd0\\xb7\\xd1\\x8b\\xd0\\xba</a></li>\\n<li><a href=\"//sc.wikipedia.org/\" lang=\"sc\">Sardu</a></li>\\n<li><a href=\"//stq.wikipedia.org/\" lang=\"stq\">Seeltersk</a></li>\\n<li><a href=\"//nso.wikipedia.org/\" lang=\"nso\">Sesotho sa Leboa</a></li>\\n<li><a href=\"//sn.wikipedia.org/\" lang=\"sn\">ChiShona</a></li>\\n<li><a href=\"//so.wikipedia.org/\" lang=\"so\">Soomaaliga</a></li>\\n<li><a href=\"//srn.wikipedia.org/\" lang=\"srn\">Sranantongo</a></li>\\n<li><a href=\"//kab.wikipedia.org/\" lang=\"kab\">Taqbaylit</a></li>\\n<li><a href=\"//roa-tara.wikipedia.org/\" lang=\"roa\">Tarand\\xc3\\xadne</a></li>\\n<li><a href=\"//tet.wikipedia.org/\" lang=\"tet\">Tetun</a></li>\\n<li><a href=\"//tpi.wikipedia.org/\" lang=\"tpi\">Tok Pisin</a></li>\\n<li><a href=\"//to.wikipedia.org/\" lang=\"to\">faka Tonga</a></li>\\n<li><a href=\"//tk.wikipedia.org/\" lang=\"tk\">T\\xc3\\xbcrkmen\\xc3\\xa7e</a></li>\\n<li><a href=\"//tyv.wikipedia.org/\" lang=\"tyv\" title=\"Tyva dyl\">\\xd0\\xa2\\xd1\\x8b\\xd0\\xb2\\xd0\\xb0 \\xd0\\xb4\\xd1\\x8b\\xd0\\xbb</a></li>\\n<li><a href=\"//udm.wikipedia.org/\" lang=\"udm\" title=\"Udmurt\">\\xd0\\xa3\\xd0\\xb4\\xd0\\xbc\\xd1\\x83\\xd1\\x80\\xd1\\x82</a></li>\\n<li><a href=\"//ug.wikipedia.org/\" lang=\"ug\"><bdi dir=\"rtl\">\\xd8\\xa6\\xdb\\x87\\xd9\\x8a\\xd8\\xba\\xdb\\x87\\xd8\\xb1\\xda\\x86\\xd9\\x87</bdi></a></li>\\n<li><a href=\"//vep.wikipedia.org/\" lang=\"vep\">Veps\\xc3\\xa4n</a></li>\\n<li><a href=\"//fiu-vro.wikipedia.org/\" lang=\"fiu-vro\">V\\xc3\\xb5ro</a></li>\\n<li><a href=\"//vls.wikipedia.org/\" lang=\"vls\">West-Vlams</a></li>\\n<li><a href=\"//wo.wikipedia.org/\" lang=\"wo\">Wolof</a></li>\\n<li><a href=\"//xh.wikipedia.org/\" lang=\"xh\">isiXhosa</a></li>\\n<li><a href=\"//zea.wikipedia.org/\" lang=\"zea\">Ze\\xc3\\xaauws</a></li>\\n<li><a href=\"//zu.wikipedia.org/\" lang=\"zu\">isiZulu</a></li>\\n<li><a href=\"//dv.wikipedia.org/\" lang=\"dv\" title=\"\\xde\\x87\\xde\\xa8\\xde\\x82\\xde\\x8e\\xde\\xa8\\xde\\x83\\xde\\xad\\xde\\x90\\xde\\xa8\"><bdi dir=\"rtl\">\\xde\\x8b\\xde\\xa8\\xde\\x88\\xde\\xac\\xde\\x80\\xde\\xa8\\xde\\x84\\xde\\xa6\\xde\\x90\\xde\\xb0</bdi></a></li>\\n</ul>\\n</div>\\n<!-- Bookshelves -->\\n<h2 class=\"bookshelf-container\">\\n<span class=\"bookshelf\">\\n<span class=\"text\">\\n<bdi dir=\"ltr\">\\n100+\\n</bdi>\\n<span class=\"jsl10n\" data-jsl10n=\"entries\">\\narticles\\n</span>\\n</span>\\n</span>\\n</h2>\\n<!-- 100+ content pages -->\\n<div class=\"langlist langlist-tiny hlist\" data-el-section=\"secondary links\">\\n<ul>\\n<li><a href=\"//ak.wikipedia.org/\" lang=\"ak\">Akan</a></li>\\n<li><a href=\"//bm.wikipedia.org/\" lang=\"bm\">Bamanankan</a></li>\\n<li><a href=\"//ch.wikipedia.org/\" lang=\"ch\">Chamoru</a></li>\\n<li><a href=\"//ny.wikipedia.org/\" lang=\"ny\">Chichewa</a></li>\\n<li><a href=\"//ee.wikipedia.org/\" lang=\"ee\">E\\xca\\x8begbe</a></li>\\n<li><a href=\"//ff.wikipedia.org/\" lang=\"ff\">Fulfulde</a></li>\\n<li><a href=\"//got.wikipedia.org/\" lang=\"got\" title=\"Gutisk\">\\xf0\\x90\\x8c\\xb2\\xf0\\x90\\x8c\\xbf\\xf0\\x90\\x8d\\x84\\xf0\\x90\\x8c\\xb9\\xf0\\x90\\x8d\\x83\\xf0\\x90\\x8c\\xba</a></li>\\n<li><a href=\"//iu.wikipedia.org/\" lang=\"iu\">\\xe1\\x90\\x83\\xe1\\x93\\x84\\xe1\\x92\\x83\\xe1\\x91\\x8e\\xe1\\x91\\x90\\xe1\\x91\\xa6 / Inuktitut</a></li>\\n<li><a href=\"//ik.wikipedia.org/\" lang=\"ik\">I\\xc3\\xb1upiak</a></li>\\n<li><a href=\"//ks.wikipedia.org/\" lang=\"ks\" title=\"Kashmiri\"><bdi dir=\"rtl\">\\xd9\\x83\\xd8\\xb4\\xd9\\x85\\xd9\\x8a\\xd8\\xb1\\xd9\\x8a</bdi></a></li>\\n<li><a href=\"//gcr.wikipedia.org/\" lang=\"gcr\" title=\"Kriy\\xc3\\xb2l Gwiyannen\">Kriy\\xc3\\xb2l Gwiyannen</a></li>\\n<li><a href=\"//ltg.wikipedia.org/\" lang=\"ltg\">Latga\\xc4\\xbcu</a></li>\\n<li><a href=\"//fj.wikipedia.org/\" lang=\"fj\">Na Vosa Vaka-Viti</a></li>\\n<li><a href=\"//cr.wikipedia.org/\" lang=\"cr\">N\\xc4\\x93hiyaw\\xc4\\x93win / \\xe1\\x93\\x80\\xe1\\x90\\xa6\\xe1\\x90\\x83\\xe1\\x94\\xad\\xe1\\x90\\x8d\\xe1\\x90\\x8f\\xe1\\x90\\xa3</a></li>\\n<li><a href=\"//pih.wikipedia.org/\" lang=\"pih\">Norfuk / Pitkern</a></li>\\n<li><a href=\"//om.wikipedia.org/\" lang=\"om\">Afaan Oromoo</a></li>\\n<li><a href=\"//pnt.wikipedia.org/\" lang=\"pnt\" title=\"Pontiak\\xc3\\xa1\">\\xce\\xa0\\xce\\xbf\\xce\\xbd\\xcf\\x84\\xce\\xb9\\xce\\xb1\\xce\\xba\\xce\\xac</a></li>\\n<li><a href=\"//dz.wikipedia.org/\" lang=\"dz\" title=\"Rdzong-Kha\">\\xe0\\xbd\\xa2\\xe0\\xbe\\xab\\xe0\\xbd\\xbc\\xe0\\xbd\\x84\\xe0\\xbc\\x8b\\xe0\\xbd\\x81</a></li>\\n<li><a href=\"//rmy.wikipedia.org/\" lang=\"rmy\">Romani</a></li>\\n<li><a href=\"//rn.wikipedia.org/\" lang=\"rn\">Kirundi</a></li>\\n<li><a href=\"//sm.wikipedia.org/\" lang=\"sm\">Gagana S\\xc4\\x81moa</a></li>\\n<li><a href=\"//sg.wikipedia.org/\" lang=\"sg\">S\\xc3\\xa4ng\\xc3\\xb6</a></li>\\n<li><a href=\"//st.wikipedia.org/\" lang=\"st\">Sesotho</a></li>\\n<li><a href=\"//tn.wikipedia.org/\" lang=\"tn\">Setswana</a></li>\\n<li><a href=\"//cu.wikipedia.org/\" lang=\"cu\" title=\"Slov\\xc4\\x9bn\\xc4\\xadsk\\xc5\\xad\">\\xd0\\xa1\\xd0\\xbb\\xd0\\xbe\\xd0\\xb2\\xd1\\xa3\\xcc\\x81\\xd0\\xbd\\xd1\\x8c\\xd1\\x81\\xd0\\xba\\xd1\\x8a / \\xe2\\xb0\\x94\\xe2\\xb0\\x8e\\xe2\\xb0\\x91\\xe2\\xb0\\x82\\xe2\\xb0\\xa1\\xe2\\xb0\\x90\\xe2\\xb0\\xa0\\xe2\\xb0\\x94\\xe2\\xb0\\x8d\\xe2\\xb0\\x9f</a></li>\\n<li><a href=\"//ss.wikipedia.org/\" lang=\"ss\">SiSwati</a></li>\\n<li><a href=\"//ti.wikipedia.org/\" lang=\"ti\" title=\"Tigri\\xc3\\xb1\\xc3\\xb1\\xc4\\x81\">\\xe1\\x89\\xb5\\xe1\\x8c\\x8d\\xe1\\x88\\xad\\xe1\\x8a\\x9b</a></li>\\n<li><a href=\"//chr.wikipedia.org/\" lang=\"chr\" title=\"Tsalagi\">\\xe1\\x8f\\xa3\\xe1\\x8e\\xb3\\xe1\\x8e\\xa9</a></li>\\n<li><a href=\"//chy.wikipedia.org/\" lang=\"chy\">Ts\\xc4\\x97hesen\\xc4\\x97stsestotse</a></li>\\n<li><a href=\"//ve.wikipedia.org/\" lang=\"ve\">Tshiven\\xe1\\xb8\\x93a</a></li>\\n<li><a href=\"//ts.wikipedia.org/\" lang=\"ts\">Xitsonga</a></li>\\n<li><a href=\"//tum.wikipedia.org/\" lang=\"tum\">chiTumbuka</a></li>\\n<li><a href=\"//tw.wikipedia.org/\" lang=\"tw\">Twi</a></li>\\n<li><a href=\"//nqo.wikipedia.org/\" lang=\"nqo\" title=\"N&#x27;Ko\">\\xdf\\x92\\xdf\\x9e\\xdf\\x8f</a></li>\\n</ul>\\n</div>\\n<!-- Other languages -->\\n<div class=\"langlist langlist-others hlist\" data-el-section=\"other languages\">\\n<ul>\\n<li><a href=\"//meta.wikimedia.org/wiki/List_of_Wikipedias\" lang=\"en\">Other languages</a></li>\\n<li><a href=\"//de.wikipedia.org/wiki/Wikipedia:Sprachen\" lang=\"de\">Weitere Sprachen</a></li>\\n<li><a href=\"//meta.wikimedia.org/wiki/Liste_des_Wikip%C3%A9dias\" lang=\"fr\">Autres langues</a></li>\\n<li><a href=\"//pl.wikipedia.org/wiki/Wikipedia:Lista_wersji_j%C4%99zykowych\" lang=\"pl\">Kompletna lista j\\xc4\\x99zyk\\xc3\\xb3w</a></li>\\n<li><a href=\"//ja.wikipedia.org/wiki/Wikipedia:%E5%A4%9A%E8%A8%80%E8%AA%9E%E3%83%97%E3%83%AD%E3%82%B8%E3%82%A7%E3%82%AF%E3%83%88%E3%81%A8%E3%81%97%E3%81%A6%E3%81%AE%E3%82%A6%E3%82%A3%E3%82%AD%E3%83%9A%E3%83%87%E3%82%A3%E3%82%A2\" lang=\"ja\">\\xe4\\xbb\\x96\\xe3\\x81\\xae\\xe8\\xa8\\x80\\xe8\\xaa\\x9e</a></li>\\n<li><a href=\"//meta.wikimedia.org/wiki/Lista_de_Wikipedias\" lang=\"es\">Otros idiomas</a></li>\\n<li><a href=\"//zh.wikipedia.org/wiki/Wikipedia:%E7%BB%B4%E5%9F%BA%E7%99%BE%E7%A7%91%E8%AF%AD%E8%A8%80%E5%88%97%E8%A1%A8\" lang=\"zh\" data-convert-hans=\"\\xe5\\x85\\xb6\\xe4\\xbb\\x96\\xe8\\xaf\\xad\\xe8\\xa8\\x80\" id=\"zh_others\">\\xe5\\x85\\xb6\\xe4\\xbb\\x96\\xe8\\xaa\\x9e\\xe8\\xa8\\x80</a></li>\\n<li><a href=\"//ru.wikipedia.org/wiki/%D0%92%D0%B8%D0%BA%D0%B8%D0%BF%D0%B5%D0%B4%D0%B8%D1%8F:%D0%A1%D0%92\" lang=\"ru\">\\xd0\\x94\\xd1\\x80\\xd1\\x83\\xd0\\xb3\\xd0\\xb8\\xd0\\xb5 \\xd1\\x8f\\xd0\\xb7\\xd1\\x8b\\xd0\\xba\\xd0\\xb8</a></li>\\n<li><a href=\"//eo.wikipedia.org/wiki/Vikipedio:Internacia_Vikipedio\" lang=\"eo\">Aliaj lingvoj</a></li>\\n<li><a href=\"//meta.wikimedia.org/wiki/%EC%9C%84%ED%82%A4%EB%B0%B1%EA%B3%BC%EC%9D%98_%EB%AA%A9%EB%A1%9D\" lang=\"ko\">\\xeb\\x8b\\xa4\\xeb\\xa5\\xb8 \\xec\\x96\\xb8\\xec\\x96\\xb4</a></li>\\n<li><a href=\"//vi.wikipedia.org/wiki/Wikipedia:Phi%C3%AAn_b%E1%BA%A3n_ng%C3%B4n_ng%E1%BB%AF\" lang=\"vi\">Ng\\xc3\\xb4n ng\\xe1\\xbb\\xaf kh\\xc3\\xa1c</a></li>\\n</ul>\\n</div>\\n</div>\\n</div>\\n<hr>\\n<div class=\"footer\" data-el-section=\"other projects\">\\n<div class=\"footer-sidebar\">\\n<div class=\"footer-sidebar-content\">\\n<div class=\"footer-sidebar-icon sprite svg-Wikimedia-logo_black\">\\n</div>\\n<div class=\"footer-sidebar-text jsl10n\" data-jsl10n=\"footer-description\">\\nWikipedia is hosted by the <a href=\"//wikimediafoundation.org/\">Wikimedia Foundation</a>, a non-profit organization that also hosts a range of other projects.\\n</div>\\n</div>\\n</div>\\n<div class=\"footer-sidebar app-badges\">\\n<div class=\"footer-sidebar-content\">\\n<div class=\"footer-sidebar-text\">\\n<div class=\"footer-sidebar-icon sprite svg-wikipedia_app_tile\"></div>\\n<strong class=\"jsl10n\" data-jsl10n=\"app-links.title\">\\n<a class=\"jsl10n\" data-jsl10n=\"app-links.url\" href=\"https://en.wikipedia.org/wiki/List_of_Wikipedia_mobile_applications\">\\nDownload Wikipedia for Android or iOS\\n</a>\\n</strong>\\n<p class=\"jsl10n\" data-jsl10n=\"app-links.description\">\\nSave your favorite articles to read offline, sync your reading lists across devices and customize your reading experience with the official Wikipedia app.\\n</p>\\n<ul>\\n<li class=\"app-badge app-badge-android\">\\n<a target=\"_blank\" href=\"//play.google.com/store/apps/details?id=org.wikipedia&referrer=utm_source%3Dportal%26utm_medium%3Dbutton%26anid%3Dadmob\">\\n<span class=\"sprite svg-badge_google_play_store\">\\n</span></a>\\n</li>\\n<li class=\"app-badge app-badge-ios\">\\n<a target=\"_blank\" href=\"//itunes.apple.com/app/apple-store/id324715238?pt=208305&ct=portal&mt=8\">\\n<span class=\"sprite svg-badge_ios_app_store\">\\n</span></a>\\n</li>\\n</ul>\\n</div>\\n</div>\\n</div>\\n<div class=\"other-projects\">\\n<div class=\"other-project\">\\n<a class=\"other-project-link\" href=\"//commons.wikimedia.org/\">\\n<div class=\"other-project-icon\">\\n<div class=\"sprite svg-Commons-logo_sister\"></div>\\n</div>\\n<div class=\"other-project-text\">\\n<span class=\"other-project-title jsl10n\" data-jsl10n=\"commons.name\">Commons</span>\\n<span class=\"other-project-tagline jsl10n\" data-jsl10n=\"commons.slogan\">Freely usable photos &amp; more</span>\\n</div>\\n</a>\\n</div>\\n<div class=\"other-project\">\\n<a class=\"other-project-link\" href=\"//www.wikivoyage.org/\">\\n<div class=\"other-project-icon\">\\n<div class=\"sprite svg-Wikivoyage-logo_sister\"></div>\\n</div>\\n<div class=\"other-project-text\">\\n<span class=\"other-project-title jsl10n\" data-jsl10n=\"wikivoyage.name\">Wikivoyage</span>\\n<span class=\"other-project-tagline jsl10n\" data-jsl10n=\"wikivoyage.slogan\">Free travel guide</span>\\n</div>\\n</a>\\n</div>\\n<div class=\"other-project\">\\n<a class=\"other-project-link\" href=\"//www.wiktionary.org/\">\\n<div class=\"other-project-icon\">\\n<div class=\"sprite svg-Wiktionary-logo_sister\"></div>\\n</div>\\n<div class=\"other-project-text\">\\n<span class=\"other-project-title jsl10n\" data-jsl10n=\"wiktionary.name\">Wiktionary</span>\\n<span class=\"other-project-tagline jsl10n\" data-jsl10n=\"wiktionary.slogan\">Free dictionary</span>\\n</div>\\n</a>\\n</div>\\n<div class=\"other-project\">\\n<a class=\"other-project-link\" href=\"//www.wikibooks.org/\">\\n<div class=\"other-project-icon\">\\n<div class=\"sprite svg-Wikibooks-logo_sister\"></div>\\n</div>\\n<div class=\"other-project-text\">\\n<span class=\"other-project-title jsl10n\" data-jsl10n=\"wikibooks.name\">Wikibooks</span>\\n<span class=\"other-project-tagline jsl10n\" data-jsl10n=\"wikibooks.slogan\">Free textbooks</span>\\n</div>\\n</a>\\n</div>\\n<div class=\"other-project\">\\n<a class=\"other-project-link\" href=\"//www.wikinews.org/\">\\n<div class=\"other-project-icon\">\\n<div class=\"sprite svg-Wikinews-logo_sister\"></div>\\n</div>\\n<div class=\"other-project-text\">\\n<span class=\"other-project-title jsl10n\" data-jsl10n=\"wikinews.name\">Wikinews</span>\\n<span class=\"other-project-tagline jsl10n\" data-jsl10n=\"wikinews.slogan\">Free news source</span>\\n</div>\\n</a>\\n</div>\\n<div class=\"other-project\">\\n<a class=\"other-project-link\" href=\"//www.wikidata.org/\">\\n<div class=\"other-project-icon\">\\n<div class=\"sprite svg-Wikidata-logo_sister\"></div>\\n</div>\\n<div class=\"other-project-text\">\\n<span class=\"other-project-title jsl10n\" data-jsl10n=\"wikidata.name\">Wikidata</span>\\n<span class=\"other-project-tagline jsl10n\" data-jsl10n=\"wikidata.slogan\">Free knowledge base</span>\\n</div>\\n</a>\\n</div>\\n<div class=\"other-project\">\\n<a class=\"other-project-link\" href=\"//www.wikiversity.org/\">\\n<div class=\"other-project-icon\">\\n<div class=\"sprite svg-Wikiversity-logo_sister\"></div>\\n</div>\\n<div class=\"other-project-text\">\\n<span class=\"other-project-title jsl10n\" data-jsl10n=\"wikiversity.name\">Wikiversity</span>\\n<span class=\"other-project-tagline jsl10n\" data-jsl10n=\"wikiversity.slogan\">Free course materials</span>\\n</div>\\n</a>\\n</div>\\n<div class=\"other-project\">\\n<a class=\"other-project-link\" href=\"//www.wikiquote.org/\">\\n<div class=\"other-project-icon\">\\n<div class=\"sprite svg-Wikiquote-logo_sister\"></div>\\n</div>\\n<div class=\"other-project-text\">\\n<span class=\"other-project-title jsl10n\" data-jsl10n=\"wikiquote.name\">Wikiquote</span>\\n<span class=\"other-project-tagline jsl10n\" data-jsl10n=\"wikiquote.slogan\">Free quote compendium</span>\\n</div>\\n</a>\\n</div>\\n<div class=\"other-project\">\\n<a class=\"other-project-link\" href=\"//www.mediawiki.org/\">\\n<div class=\"other-project-icon\">\\n<div class=\"sprite svg-MediaWiki-logo_sister\"></div>\\n</div>\\n<div class=\"other-project-text\">\\n<span class=\"other-project-title jsl10n\" data-jsl10n=\"mediawiki.name\">MediaWiki</span>\\n<span class=\"other-project-tagline jsl10n\" data-jsl10n=\"mediawiki.slogan\">Free &amp; open wiki application</span>\\n</div>\\n</a>\\n</div>\\n<div class=\"other-project\">\\n<a class=\"other-project-link\" href=\"//www.wikisource.org/\">\\n<div class=\"other-project-icon\">\\n<div class=\"sprite svg-Wikisource-logo_sister\"></div>\\n</div>\\n<div class=\"other-project-text\">\\n<span class=\"other-project-title jsl10n\" data-jsl10n=\"wikisource.name\">Wikisource</span>\\n<span class=\"other-project-tagline jsl10n\" data-jsl10n=\"wikisource.slogan\">Free library</span>\\n</div>\\n</a>\\n</div>\\n<div class=\"other-project\">\\n<a class=\"other-project-link\" href=\"//species.wikimedia.org/\">\\n<div class=\"other-project-icon\">\\n<div class=\"sprite svg-Wikispecies-logo_sister\"></div>\\n</div>\\n<div class=\"other-project-text\">\\n<span class=\"other-project-title jsl10n\" data-jsl10n=\"wikispecies.name\">Wikispecies</span>\\n<span class=\"other-project-tagline jsl10n\" data-jsl10n=\"wikispecies.slogan\">Free species directory</span>\\n</div>\\n</a>\\n</div>\\n<div class=\"other-project\">\\n<a class=\"other-project-link\" href=\"//meta.wikimedia.org/\">\\n<div class=\"other-project-icon\">\\n<div class=\"sprite svg-Meta-Wiki-logo_sister\"></div>\\n</div>\\n<div class=\"other-project-text\">\\n<span class=\"other-project-title jsl10n\" data-jsl10n=\"metawiki.name\">Meta-Wiki</span>\\n<span class=\"other-project-tagline jsl10n\" data-jsl10n=\"metawiki.slogan\">Community coordination &amp; documentation</span>\\n</div>\\n</a>\\n</div>\\n</div>\\n</div>\\n<p class=\"site-license\">\\n<small class=\"jsl10n\" data-jsl10n=\"license\">This page is available under the <a href=\"https://creativecommons.org/licenses/by-sa/3.0/\">Creative Commons Attribution-ShareAlike License</a></small>\\n<small class=\"jsl10n\" data-jsl10n=\"terms\"><a href=\"//meta.wikimedia.org/wiki/Terms_of_Use\">Terms of Use</a></small>\\n<small class=\"jsl10n\" data-jsl10n=\"Privacy Policy\"><a href=\"//meta.wikimedia.org/wiki/Privacy_policy\">Privacy Policy</a></small>\\n</p>\\n<![if gt IE 7]>\\n<script>\\nvar rtlLangs = [\\'ar\\',\\'arc\\',\\'arz\\',\\'bcc\\',\\'bgn\\',\\'bqi\\',\\'ckb\\',\\'dv\\',\\'fa\\',\\'glk\\',\\'he\\',\\'kk-cn\\',\\'kk-arab\\',\\'khw\\',\\'ks\\',\\'ku-arab\\',\\'lki\\',\\'lrc\\',\\'luz\\',\\'mzn\\',\\'nqo\\',\\'pnb\\',\\'ps\\',\\'sd\\',\\'sdh\\',\\'ug\\',\\'ur\\',\\'yi\\'],\\n    translationsHash = \\'143e780b\\',\\n    /*\\n     This object is used by l10n scripts (page-localized.js, topten-localized.js)\\n     to reveal the page content after l10n json is loaded.\\n     A timer is also set to prevent JS from hiding page content indefinitelty.\\n     This script is inlined to safeguard againt script loading errors and placed\\n     at the top of the page to safeguard against any HTML loading/parsing errors.\\n    */\\n    wmL10nVisible = {\\n        ready: false,\\n        makeVisible: function(){\\n            if ( !wmL10nVisible.ready ) {\\n                wmL10nVisible.ready = true;\\n                document.body.className += \\' jsl10n-visible\\';\\n            }\\n        }\\n    };\\n    window.setTimeout( wmL10nVisible.makeVisible, 1000 )\\n</script>\\n<script src=\"portal/wikipedia.org/assets/js/index-c1cb7f1287.js\"></script>\\n<![endif]>\\n<![if gt IE 9]>\\n<script src=\"portal/wikipedia.org/assets/js/gt-ie9-a2995951ca.js\"></script>\\n<![endif]>\\n<![if lte IE 9]>\\n<style>\\n.styled-select {\\n        display: block;\\n    }\\n</style>\\n<![endif]>\\n<!--[if lte IE 9]>\\n<style>\\n    .langlist > ul {\\n        text-align: center;\\n    }\\n    .langlist > ul > li {\\n        display: inline;\\n        padding: 0 0.5em;\\n    }\\n</style>\\n<![endif]-->\\n</body>\\n</html>\\n'\n"
          ],
          "name": "stdout"
        }
      ]
    },
    {
      "cell_type": "code",
      "metadata": {
        "id": "sO93JOen3DwE",
        "colab_type": "code",
        "outputId": "f43c3635-f62b-4f7e-96ca-c11bffcfb7c8",
        "colab": {
          "base_uri": "https://localhost:8080/",
          "height": 1000
        }
      },
      "source": [
        "# Performing HTTP requests in Python using requests\n",
        "# Import package\n",
        "import requests\n",
        "\n",
        "# Specify the url: url\n",
        "url = \"https://www.wikipedia.org/\"\n",
        "\n",
        "# Packages the request, send the request and catch the response: r\n",
        "r = requests.get(url)\n",
        "\n",
        "# Extract the response: text\n",
        "text = r.text\n",
        "\n",
        "# Print the html\n",
        "print(text)"
      ],
      "execution_count": 0,
      "outputs": [
        {
          "output_type": "stream",
          "text": [
            "<!DOCTYPE html>\n",
            "<html lang=\"mul\" class=\"no-js\">\n",
            "<head>\n",
            "<meta charset=\"utf-8\">\n",
            "<title>Wikipedia</title>\n",
            "<meta name=\"description\" content=\"Wikipedia is a free online encyclopedia, created and edited by volunteers around the world and hosted by the Wikimedia Foundation.\">\n",
            "<![if gt IE 7]>\n",
            "<script>\n",
            "document.documentElement.className = document.documentElement.className.replace( /(^|\\s)no-js(\\s|$)/, \"$1js-enabled$2\" );\n",
            "</script>\n",
            "<![endif]>\n",
            "<!--[if lt IE 7]><meta http-equiv=\"imagetoolbar\" content=\"no\"><![endif]-->\n",
            "<meta name=\"viewport\" content=\"initial-scale=1,user-scalable=yes\">\n",
            "<link rel=\"apple-touch-icon\" href=\"/static/apple-touch/wikipedia.png\">\n",
            "<link rel=\"shortcut icon\" href=\"/static/favicon/wikipedia.ico\">\n",
            "<link rel=\"license\" href=\"//creativecommons.org/licenses/by-sa/3.0/\">\n",
            "<style>\n",
            ".sprite{background-image:url(portal/wikipedia.org/assets/img/sprite-81a290a5.png);background-image:linear-gradient(transparent,transparent),url(portal/wikipedia.org/assets/img/sprite-81a290a5.svg);background-repeat:no-repeat;display:inline-block;vertical-align:middle}.svg-Commons-logo_sister{background-position:0 0;width:47px;height:47px}.svg-MediaWiki-logo_sister{background-position:0 -47px;width:42px;height:42px}.svg-Meta-Wiki-logo_sister{background-position:0 -89px;width:37px;height:37px}.svg-Wikibooks-logo_sister{background-position:0 -126px;width:37px;height:37px}.svg-Wikidata-logo_sister{background-position:0 -163px;width:49px;height:49px}.svg-Wikimedia-logo_black{background-position:0 -212px;width:42px;height:42px}.svg-Wikipedia_wordmark{background-position:0 -254px;width:176px;height:32px}.svg-Wikiquote-logo_sister{background-position:0 -286px;width:42px;height:42px}.svg-Wikisource-logo_sister{background-position:0 -328px;width:39px;height:39px}.svg-Wikispecies-logo_sister{background-position:0 -367px;width:42px;height:42px}.svg-Wikiversity-logo_sister{background-position:0 -409px;width:43px;height:37px}.svg-Wikivoyage-logo_sister{background-position:0 -446px;width:36px;height:36px}.svg-Wiktionary-logo_sister{background-position:0 -482px;width:37px;height:37px}.svg-arrow-down{background-position:0 -519px;width:12px;height:8px}.svg-arrow-down-blue{background-position:0 -527px;width:12px;height:8px}.svg-badge_google_play_store{background-position:0 -535px;width:124px;height:38px}.svg-badge_ios_app_store{background-position:0 -573px;width:110px;height:38px}.svg-noimage{background-position:0 -611px;width:58px;height:58px}.svg-search-icon{background-position:0 -669px;width:22px;height:22px}.svg-translate-icon{background-position:0 -691px;width:25px;height:18px}.svg-wikipedia_app_tile{background-position:0 -709px;width:42px;height:42px}\n",
            "</style>\n",
            "<style>\n",
            "/*!\n",
            "Pure v0.6.1-pre\n",
            "Copyright 2014 Yahoo! Inc. All rights reserved.\n",
            "Licensed under the BSD License.\n",
            "https://github.com/yahoo/pure/blob/master/LICENSE.md\n",
            "*//*!\n",
            "normalize.css v^3.0 | MIT License | git.io/normalize\n",
            "Copyright (c) Nicolas Gallagher and Jonathan Neal\n",
            "*//*! normalize.css v3.0.3 | MIT License | github.com/necolas/normalize.css */html{font-family:sans-serif;-ms-text-size-adjust:100%;-webkit-text-size-adjust:100%;font-size:62.5%}body{margin:0}article,aside,details,figcaption,figure,footer,header,hgroup,main,menu,nav,section,summary{display:block}audio,canvas,progress,video{display:inline-block;vertical-align:baseline}audio:not([controls]){display:none;height:0}[hidden],template{display:none}a{background-color:transparent}a:active,a:hover{outline:0}abbr[title]{border-bottom:1px dotted}b,strong{font-weight:700}dfn{font-style:italic}h1{font-size:32px;font-size:3.2rem;margin:10.7px 0;margin:1.07rem 0}mark{background:#fc3;color:#000}small{font-size:12px;font-size:1.2rem}sub,sup{font-size:75%;line-height:0;position:relative;vertical-align:baseline}sup{top:-.5em}sub{bottom:-.25em}img{border:0}svg:not(:root){overflow:hidden}figure{margin:16px 40px;margin:1.6rem 4rem}hr{-webkit-box-sizing:content-box;-moz-box-sizing:content-box;box-sizing:content-box;height:0}pre{overflow:auto}code,kbd,pre,samp{font-family:monospace,monospace;font-size:14px;font-size:1.4rem}button,input,optgroup,select,textarea{color:inherit;font:inherit;margin:0}button{overflow:visible}button,select{text-transform:none}button,html input[type=button],input[type=reset],input[type=submit]{-webkit-appearance:button;cursor:pointer}button[disabled],html input[disabled]{cursor:default}button::-moz-focus-inner,input::-moz-focus-inner{border:0;padding:0}input{line-height:normal}input[type=checkbox],input[type=radio]{-webkit-box-sizing:border-box;-moz-box-sizing:border-box;box-sizing:border-box;padding:0}input[type=number]::-webkit-inner-spin-button,input[type=number]::-webkit-outer-spin-button{height:auto}input[type=search]{-webkit-appearance:none;-webkit-box-sizing:content-box;-moz-box-sizing:content-box;box-sizing:content-box}input[type=search]::-webkit-search-cancel-button,input[type=search]::-webkit-search-decoration{-webkit-appearance:none}input[type=search]:focus{outline-offset:-2px}fieldset{border:1px solid silver;margin:0 2px;margin:0 .2rem;padding:5.6px 10px 12px;padding:.56rem 1rem 1.2rem}legend{border:0;padding:0}textarea{overflow:auto}optgroup{font-weight:700}table{border-collapse:collapse;border-spacing:0}td,th{padding:0}.hidden,[hidden]{display:none!important}.screen-reader-text{display:block;position:absolute!important;clip:rect(1px,1px,1px,1px);width:1px;height:1px;margin:-1px;border:0;padding:0;overflow:hidden}body{background-color:#fff;font-family:-apple-system,BlinkMacSystemFont,'Segoe UI',Roboto,Lato,'Helvetica Neue',Helvetica,Arial,sans-serif;font-size:14px;font-size:1.4rem;line-height:1.5;margin:4px 0;margin:.4rem 0}a{-ms-touch-action:manipulation;touch-action:manipulation}a,a:active,a:focus{unicode-bidi:embed;outline:0;color:#36c;text-decoration:none}a:focus{outline:1px solid #36c}a:hover{text-decoration:underline}img{border:0;vertical-align:middle}hr{clear:both;height:0;border:0;border-bottom:1px solid #c8ccd1;margin:2.6px 13px;margin:.26rem 1.3rem}/*!\n",
            "Pure v0.6.1-pre\n",
            "Copyright 2014 Yahoo! Inc. All rights reserved.\n",
            "Licensed under the BSD License.\n",
            "https://github.com/yahoo/pure/blob/master/LICENSE.md\n",
            "*/.pure-button{display:inline-block;zoom:1;line-height:normal;white-space:nowrap;text-align:center;cursor:pointer;-webkit-user-drag:none;-webkit-user-select:none;-moz-user-select:none;-ms-user-select:none;user-select:none;-webkit-box-sizing:border-box;-moz-box-sizing:border-box;box-sizing:border-box;background-color:#f8f9fa;color:#222;position:relative;min-height:19.2px;min-height:1.92rem;min-width:16px;min-width:1.6rem;margin:1.6px 0;margin:.16rem 0;border:1px solid #a2a9b1;-moz-border-radius:2px;border-radius:2px;padding:8px 16px;padding:.8rem 1.6rem;font-family:inherit;font-size:inherit;font-weight:700;text-decoration:none;vertical-align:top;-webkit-transition:background .1s ease,color .1s ease,border-color .1s ease,-webkit-box-shadow .1s ease;transition:background .1s ease,color .1s ease,border-color .1s ease,-webkit-box-shadow .1s ease;-moz-transition:background .1s ease,color .1s ease,border-color .1s ease,box-shadow .1s ease,-moz-box-shadow .1s ease;transition:background .1s ease,color .1s ease,border-color .1s ease,box-shadow .1s ease;transition:background .1s ease,color .1s ease,border-color .1s ease,box-shadow .1s ease,-webkit-box-shadow .1s ease,-moz-box-shadow .1s ease}.pure-button::-moz-focus-inner{padding:0;border:0}.pure-button-hover,.pure-button:hover{background-color:#fff;border-color:#a2a9b1;color:#444}.pure-button-active,.pure-button:active{background-color:#c8ccd1;border-color:#72777d;color:#000}.pure-button:focus{outline:0;border-color:#36c;-webkit-box-shadow:inset 0 0 0 1px #36c;-moz-box-shadow:inset 0 0 0 1px #36c;box-shadow:inset 0 0 0 1px #36c}.pure-button-primary-progressive{background-color:#36c;border-color:#36c;color:#fff}.pure-button-primary-progressive:hover{background:#447ff5;border-color:#447ff5}.pure-button-primary-progressive:active{background-color:#2a4b8d;border-color:#2a4b8d;-webkit-box-shadow:none;-moz-box-shadow:none;box-shadow:none;color:#fff}.pure-button-primary-progressive:focus{-webkit-box-shadow:inset 0 0 0 1px #36c,inset 0 0 0 2px #fff;-moz-box-shadow:inset 0 0 0 1px #36c,inset 0 0 0 2px #fff;box-shadow:inset 0 0 0 1px #36c,inset 0 0 0 2px #fff;border-color:#36c}/*!\n",
            "Pure v0.6.1-pre\n",
            "Copyright 2014 Yahoo! Inc. All rights reserved.\n",
            "Licensed under the BSD License.\n",
            "https://github.com/yahoo/pure/blob/master/LICENSE.md\n",
            "*/.pure-form input[type=search]{background-color:#fff;display:inline-block;-webkit-box-sizing:border-box;-moz-box-sizing:border-box;box-sizing:border-box;border:1px solid #a2a9b1;-moz-border-radius:2px;border-radius:2px;padding:8px;padding:.8rem;-webkit-box-shadow:inset 0 0 0 1px #fff;-moz-box-shadow:inset 0 0 0 1px #fff;box-shadow:inset 0 0 0 1px #fff;vertical-align:middle}.pure-form input:focus:invalid{color:#b32424;border-color:#d33}.pure-form fieldset{margin:0;padding:5.6px 0 12px;padding:.56rem 0 1.2rem;border:0}@media only screen and (max-width:480px){.pure-form input[type=search]{display:block}}.central-textlogo-wrapper{display:inline-block;vertical-align:bottom}.central-textlogo{position:relative;margin:40px auto 5px;margin:4rem auto .5rem;width:270px;font-family:'Linux Libertine','Hoefler Text',Georgia,'Times New Roman',Times,serif;font-size:30px;font-size:3rem;font-weight:400;line-height:33px;line-height:3.3rem;text-align:center;-moz-font-feature-settings:\"ss05=1\";-moz-font-feature-settings:\"ss05\";-webkit-font-feature-settings:\"ss05\";-ms-font-feature-settings:\"ss05\";font-feature-settings:\"ss05\"}.localized-slogan{display:block;font-family:'Linux Libertine',Georgia,Times,serif;font-size:15px;font-size:1.5rem;font-weight:400}.central-textlogo__image{color:transparent;display:inline-block;overflow:hidden;text-indent:-10000px}.central-featured-logo{position:absolute;top:136px;left:35px}@media all and (max-width:480px){.central-textlogo{position:relative;height:70px;width:auto;margin:0;margin-top:20px;margin-top:2rem;text-align:center;line-height:25px;line-height:2.5rem;text-indent:-10px;text-indent:-1rem}.central-textlogo-wrapper{position:relative;top:2px;text-indent:2px;text-indent:.2rem}.svg-Wikipedia_wordmark{width:150px;height:25px;background-position:0 -218px;-webkit-background-size:100% 100%;-moz-background-size:100%;background-size:100%}.localized-slogan{font-size:14px;font-size:1.4rem}.central-featured-logo{position:relative;display:inline-block;width:57px;height:auto;left:0;top:0}}@media all and (max-width:240px){.central-textlogo__image{height:auto}}.central-featured{position:relative;height:325px;height:32.5rem;width:546px;width:54.6rem;max-width:100%;margin:0 auto;text-align:center;vertical-align:middle}.central-featured-lang{position:absolute;width:156px;width:15.6rem}.central-featured-lang .link-box{display:block;padding:0;text-decoration:none;white-space:normal}.central-featured-lang .link-box:hover strong{text-decoration:underline}.central-featured-lang strong{display:block;font-size:16px;font-size:1.6rem}.central-featured-lang small{color:#54595d;display:inline-block;font-size:12px;font-size:1.2rem;line-height:1.6}.central-featured-lang em{font-style:italic}.central-featured-lang .emNonItalicLang{font-style:normal}.lang1{top:0;right:60%}.lang2{top:0;left:60%}.lang3{top:20%;right:70%}.lang4{top:20%;left:70%}.lang5{top:40%;right:72%}.lang6{top:40%;left:72%}.lang7{top:60%;right:70%}.lang8{top:60%;left:70%}.lang9{top:80%;right:60%}.lang10{top:80%;left:60%}@media all and (max-width:480px){.central-featured{width:auto;height:auto;margin-top:70px;margin-top:7rem;font-size:12px;font-size:1.2rem;text-align:left}.central-featured:after{content:' ';display:block;visibility:hidden;clear:both;height:0;font-size:0}.central-featured-lang{display:block;float:left;position:relative;top:auto;left:auto;right:auto;-webkit-box-sizing:border-box;-moz-box-sizing:border-box;box-sizing:border-box;height:64px;height:6.4rem;width:33%;margin:0;padding:0 16px;padding:0 1.6rem;font-size:14px;font-size:1.4rem;text-align:center}.central-featured-lang strong{font-size:14px;font-size:1.4rem}.central-featured-lang small{font-size:11px;font-size:1.1rem;line-height:1.5}}@media all and (max-width:375px){.central-featured-lang{font-size:12px;font-size:1.2rem}}@media all and (max-width:240px){.central-featured-lang{width:100%}}.search-container{float:none;max-width:95%;width:540px;margin:4px auto 19.5px auto;margin:.4rem auto 1.95rem auto;text-align:center;vertical-align:middle}.search-container fieldset{word-spacing:-4px}.search-container button{margin:0;-moz-border-radius:0 2px 2px 0;border-radius:0 2px 2px 0;padding:8px 16px;padding:.8rem 1.6rem;font-size:16px;font-size:1.6rem;line-height:1.6;vertical-align:middle;z-index:2}.search-container button .svg-search-icon{text-indent:-99990px;text-indent:-9999rem}.search-container input[type=search]::-webkit-search-results-button,.search-container input[type=search]::-webkit-search-results-decoration{-webkit-appearance:none}.search-container input::-webkit-calendar-picker-indicator{display:none}.search-container .sprite.svg-arrow-down{position:absolute;top:7px;top:.7rem;right:6.5px;right:.65rem;margin:0}#searchInput{-webkit-appearance:textfield;width:100%;height:43.2px;height:4.32rem;-moz-border-radius:2px 0 0 2px;border-radius:2px 0 0 2px;padding:8px 102.4px 8px 8px;padding:.8rem 10.24rem .8rem .8rem;font-size:16px;font-size:1.6rem;line-height:1.6;-webkit-transition:background .1s ease,border-color .1s ease,-webkit-box-shadow .1s ease;transition:background .1s ease,border-color .1s ease,-webkit-box-shadow .1s ease;-moz-transition:background .1s ease,border-color .1s ease,box-shadow .1s ease,-moz-box-shadow .1s ease;transition:background .1s ease,border-color .1s ease,box-shadow .1s ease;transition:background .1s ease,border-color .1s ease,box-shadow .1s ease,-webkit-box-shadow .1s ease,-moz-box-shadow .1s ease}#searchInput:hover{border-color:#72777d}#searchInput:focus{border-color:#36c;-webkit-box-shadow:inset 0 0 0 1px #36c;-moz-box-shadow:inset 0 0 0 1px #36c;box-shadow:inset 0 0 0 1px #36c;outline:0}.search-container .search-input{display:inline-block;position:relative;width:73%;vertical-align:top}@media only screen and (max-width:480px){.search-container .pure-form fieldset{margin-left:10px;margin-left:1rem;margin-right:66px;margin-right:6.6rem}.search-container .search-input{width:100%;margin-right:-66px;margin-right:-6.6rem}.search-container .pure-form button{float:right;right:-56px;right:-5.6rem}}.suggestions-dropdown{background-color:#fff;display:inline-block;position:absolute;left:0;z-index:2;-webkit-box-sizing:border-box;-moz-box-sizing:border-box;box-sizing:border-box;width:100%;margin:0;padding:0;border:1px solid #a2a9b1;border-top:0;-webkit-box-shadow:0 2px 2px 0 rgba(0,0,0,.25);-moz-box-shadow:0 2px 2px 0 rgba(0,0,0,.25);box-shadow:0 2px 2px 0 rgba(0,0,0,.25);text-align:left;list-style-type:none;word-spacing:normal}.suggestion-link{display:block;position:relative;-webkit-box-sizing:border-box;-moz-box-sizing:border-box;box-sizing:border-box;min-height:70px;min-height:7rem;width:100%;padding:10px 10px 10px 85px;padding:1rem 1rem 1rem 8.5rem;border-bottom:1px solid #eaecf0;color:inherit;text-decoration:none;text-align:left;text-align:initial;white-space:normal}.suggestion-link.active{background-color:#eaf3ff}a.suggestion-link:hover{text-decoration:none}a.suggestion-link:active,a.suggestion-link:focus{outline:0;white-space:normal}.suggestion-thumbnail{background-color:#eaecf0;background-image:url(portal/wikipedia.org/assets/img/noimage.png);background-image:-webkit-linear-gradient(rgba(0,0,0,0),rgba(0,0,0,0)),url(data:image/svg+xml,%3C%3Fxml%20version%3D%221.0%22%20encoding%3D%22utf-8%22%3F%3E%0A%3Csvg%20xmlns%3D%22http%3A%2F%2Fwww.w3.org%2F2000%2Fsvg%22%20viewBox%3D%220%200%2056%2056%22%20enable-background%3D%22new%200%200%2056%2056%22%3E%0A%20%20%20%20%3Cpath%20fill%3D%22%23eee%22%20d%3D%22M0%200h56v56h-56z%22%2F%3E%0A%20%20%20%20%3Cpath%20fill%3D%22%23999%22%20d%3D%22M36.4%2013.5h-18.6v24.9c0%201.4.9%202.3%202.3%202.3h18.7v-25c.1-1.4-1-2.2-2.4-2.2zm-6.2%203.5h5.1v6.4h-5.1v-6.4zm-8.8%200h6v1.8h-6v-1.8zm0%204.6h6v1.8h-6v-1.8zm0%2015.5v-1.8h13.8v1.8h-13.8zm13.8-4.5h-13.8v-1.8h13.8v1.8zm0-4.7h-13.8v-1.8h13.8v1.8z%22%2F%3E%0A%3C%2Fsvg%3E%0A);background-image:-webkit-linear-gradient(transparent,transparent),url(portal/wikipedia.org/assets/img/noimage.svg) !ie;background-image:-webkit-gradient(linear,left top,left bottom,from(rgba(0,0,0,0)),to(rgba(0,0,0,0))),url(data:image/svg+xml,%3C%3Fxml%20version%3D%221.0%22%20encoding%3D%22utf-8%22%3F%3E%0A%3Csvg%20xmlns%3D%22http%3A%2F%2Fwww.w3.org%2F2000%2Fsvg%22%20viewBox%3D%220%200%2056%2056%22%20enable-background%3D%22new%200%200%2056%2056%22%3E%0A%20%20%20%20%3Cpath%20fill%3D%22%23eee%22%20d%3D%22M0%200h56v56h-56z%22%2F%3E%0A%20%20%20%20%3Cpath%20fill%3D%22%23999%22%20d%3D%22M36.4%2013.5h-18.6v24.9c0%201.4.9%202.3%202.3%202.3h18.7v-25c.1-1.4-1-2.2-2.4-2.2zm-6.2%203.5h5.1v6.4h-5.1v-6.4zm-8.8%200h6v1.8h-6v-1.8zm0%204.6h6v1.8h-6v-1.8zm0%2015.5v-1.8h13.8v1.8h-13.8zm13.8-4.5h-13.8v-1.8h13.8v1.8zm0-4.7h-13.8v-1.8h13.8v1.8z%22%2F%3E%0A%3C%2Fsvg%3E%0A);background-image:-moz- oldlinear-gradient(rgba(0,0,0,0),rgba(0,0,0,0)),url(data:image/svg+xml,%3C%3Fxml%20version%3D%221.0%22%20encoding%3D%22utf-8%22%3F%3E%0A%3Csvg%20xmlns%3D%22http%3A%2F%2Fwww.w3.org%2F2000%2Fsvg%22%20viewBox%3D%220%200%2056%2056%22%20enable-background%3D%22new%200%200%2056%2056%22%3E%0A%20%20%20%20%3Cpath%20fill%3D%22%23eee%22%20d%3D%22M0%200h56v56h-56z%22%2F%3E%0A%20%20%20%20%3Cpath%20fill%3D%22%23999%22%20d%3D%22M36.4%2013.5h-18.6v24.9c0%201.4.9%202.3%202.3%202.3h18.7v-25c.1-1.4-1-2.2-2.4-2.2zm-6.2%203.5h5.1v6.4h-5.1v-6.4zm-8.8%200h6v1.8h-6v-1.8zm0%204.6h6v1.8h-6v-1.8zm0%2015.5v-1.8h13.8v1.8h-13.8zm13.8-4.5h-13.8v-1.8h13.8v1.8zm0-4.7h-13.8v-1.8h13.8v1.8z%22%2F%3E%0A%3C%2Fsvg%3E%0A);background-image:linear-gradient(rgba(0,0,0,0),rgba(0,0,0,0)),url(data:image/svg+xml,%3C%3Fxml%20version%3D%221.0%22%20encoding%3D%22utf-8%22%3F%3E%0A%3Csvg%20xmlns%3D%22http%3A%2F%2Fwww.w3.org%2F2000%2Fsvg%22%20viewBox%3D%220%200%2056%2056%22%20enable-background%3D%22new%200%200%2056%2056%22%3E%0A%20%20%20%20%3Cpath%20fill%3D%22%23eee%22%20d%3D%22M0%200h56v56h-56z%22%2F%3E%0A%20%20%20%20%3Cpath%20fill%3D%22%23999%22%20d%3D%22M36.4%2013.5h-18.6v24.9c0%201.4.9%202.3%202.3%202.3h18.7v-25c.1-1.4-1-2.2-2.4-2.2zm-6.2%203.5h5.1v6.4h-5.1v-6.4zm-8.8%200h6v1.8h-6v-1.8zm0%204.6h6v1.8h-6v-1.8zm0%2015.5v-1.8h13.8v1.8h-13.8zm13.8-4.5h-13.8v-1.8h13.8v1.8zm0-4.7h-13.8v-1.8h13.8v1.8z%22%2F%3E%0A%3C%2Fsvg%3E%0A);background-image:-webkit-gradient(linear,left top,left bottom,from(transparent),to(transparent)),url(portal/wikipedia.org/assets/img/noimage.svg) !ie;background-image:-moz- oldlinear-gradient(transparent,transparent),url(portal/wikipedia.org/assets/img/noimage.svg) !ie;background-image:linear-gradient(transparent,transparent),url(portal/wikipedia.org/assets/img/noimage.svg) !ie;background-image:-o-linear-gradient(transparent,transparent),url(portal/wikipedia.org/assets/img/noimage.png);background-position:center center;background-repeat:no-repeat;-webkit-background-size:100% auto;-moz-background-size:100% auto;background-size:100% auto;-webkit-background-size:cover;-moz-background-size:cover;background-size:cover;height:100%;width:70px;width:7rem;position:absolute;top:0;left:0}.suggestion-title{margin:0 0 7.8px 0;margin:0 0 .78rem 0;color:#54595d;font-size:16px;font-size:1.6rem;line-height:18.72px;line-height:1.872rem}.suggestion-link.active .suggestion-title{color:#36c}.suggestion-highlight{font-style:normal;text-decoration:underline}.suggestion-description{color:#72777d;margin:0;font-size:13px;font-size:1.3rem;line-height:14.299px;line-height:1.43rem}.styled-select{display:none;position:absolute;top:10px;top:1rem;bottom:12px;bottom:1.2rem;right:12px;right:1.2rem;max-width:95px;max-width:9.5rem;height:24px;height:2.4rem;margin:0;padding:0;-moz-border-radius:2px;border-radius:2px}.styled-select:hover{background-color:#f8f9fa}.styled-select .hide-arrow{right:32px;right:3.2rem;max-width:68px;max-width:6.8rem;height:24px;height:2.4rem;padding:0;overflow:hidden;text-align:right}.styled-select select{background:0 0;display:inline;overflow:hidden;height:24px;height:2.4rem;min-width:110px;min-width:11rem;max-width:110px;max-width:11rem;width:110px;width:11rem;outline:0;-webkit-box-sizing:border-box;-moz-box-sizing:border-box;box-sizing:border-box;border:0;line-height:19.5px;line-height:1.95rem;-webkit-appearance:none;-moz-appearance:window;text-indent:.01px;text-overflow:'';-o-appearance:none!important;opacity:0;-moz-appearance:none;appearance:none;cursor:pointer}.styled-select.no-js{width:95px;width:9.5rem}.styled-select.no-js select{opacity:1;margin:0;padding:0 24px 0 8px;padding:0 2.4rem 0 .8rem;color:#54595d}.styled-select.no-js .hide-arrow{width:68px;width:6.8rem}.search-container .styled-select.no-js .js-langpicker-label{display:none}.styled-select.js-enabled .hide-arrow{padding:0 24px 0 8px;padding:0 2.4rem 0 .8rem}.styled-select.js-enabled select{background:0 0;position:absolute;top:0;left:0;height:100%;z-index:1;width:100%;border:0;margin:0;padding:0 24px 0;padding:0 2.4rem 0;color:transparent;color:rgba(255,255,255,0)}.styled-select.js-enabled select option{color:#54595d}.styled-select.js-enabled select:hover{background-color:transparent}.styled-select-active-helper{display:none}.styled-select.js-enabled select:focus+.styled-select-active-helper{display:block;position:absolute;top:0;left:0;z-index:0;width:100%;height:100%;outline:1px solid #36c}.search-container .js-langpicker-label{display:inline-block;margin:0;color:#54595d;font-size:13px;font-size:1.3rem;line-height:24px;line-height:2.4rem;text-transform:uppercase}.styled-select select:hover{background-color:#f8f9fa}.styled-select select::-ms-expand{display:none}.styled-select select:focus{outline:0;-webkit-box-shadow:none;-moz-box-shadow:none;box-shadow:none}@-moz-document url-prefix(){.styled-select select{width:110%}}.other-projects{display:inline-block;width:65%}.other-project{float:left;position:relative;width:33%;height:90px;height:9rem}.other-project-link{display:inline-block;min-height:50px;width:100%;white-space:nowrap}a.other-project-link{text-decoration:none}.other-project-icon{display:inline-block;width:50px;text-align:center}.svg-Wikinews-logo_sister{background-image:url(portal/wikipedia.org/assets/img/Wikinews-logo_sister.png);background-position:0 0;-webkit-background-size:47px 26px;-moz-background-size:47px 26px;background-size:47px 26px;width:47px;height:26px}@media (-webkit-min-device-pixel-ratio:1.25),(min-resolution:120dpi){.svg-Wikinews-logo_sister{background-image:url(portal/wikipedia.org/assets/img/Wikinews-logo_sister@2x.png)}}.other-project .sprite-project-logos{display:inline-block}.other-project-text{display:inline-block;max-width:65%;font-size:14px;font-size:1.4rem;vertical-align:middle;white-space:normal}.other-project-tagline,.other-project-title{display:block}.other-project-tagline{color:#54595d;font-size:12px;font-size:1.2rem}@media screen and (max-width:768px){.other-projects{width:100%}.other-project{width:33%}}@media screen and (max-width:480px){.other-project{width:50%}}@media screen and (max-width:320px){.other-project-text{margin-right:5px;font-size:11.52px;font-size:1.152rem}.other-project-tagline{font-size:10.944px;font-size:1.0944rem}}.lang-list-container{background-color:#f8f9fa;overflow:hidden;position:relative;-webkit-box-sizing:border-box;-moz-box-sizing:border-box;box-sizing:border-box;max-height:0;width:80%;margin:-16px auto 48px;margin:-1.6rem auto 4.8rem;-webkit-transition:max-height .5s ease-out,visibility .5s ease-in 1s;-moz-transition:max-height .5s ease-out,visibility .5s ease-in 1s;transition:max-height .5s ease-out,visibility .5s ease-in 1s}.js-enabled .lang-list-container{visibility:hidden}.lang-list-active .lang-list-container,.no-js .lang-list-container{visibility:visible;max-height:10000px;-webkit-transition:max-height 1s ease-in .2s,visibility 1000s ease-in 0s;-moz-transition:max-height 1s ease-in .2s,visibility 1000s ease-in 0s;transition:max-height 1s ease-in .2s,visibility 1000s ease-in 0s}.no-js .lang-list-button{display:none}.lang-list-button-wrapper{text-align:center}.lang-list-button{background-color:#f8f9fa;display:inline;position:relative;z-index:1;margin:0 auto;padding:6.4px 12.8px;padding:.64rem 1.28rem;outline:16px solid #fff;outline:1.6rem solid #fff;border:1px solid #a2a9b1;-moz-border-radius:2px;border-radius:2px;color:#36c;font-size:13px;font-size:1.3rem;font-weight:400;line-height:1;-webkit-transition:outline-width .1s ease-in .5s;-moz-transition:outline-width .1s ease-in .5s;transition:outline-width .1s ease-in .5s}.lang-list-button:hover{background-color:#fff;border-color:#a2a9b1}.lang-list-button:focus{border-color:#36c;-webkit-box-shadow:inset 0 0 0 1px #36c;-moz-box-shadow:inset 0 0 0 1px #36c;box-shadow:inset 0 0 0 1px #36c}.lang-list-active .lang-list-button{background-color:#fff;outline:1px solid #fff;border-color:#72777d;-webkit-transition-delay:0s;-moz-transition-delay:0s;transition-delay:0s}.lang-list-button-text{padding:0 6.4px;padding:0 .64rem;vertical-align:middle}.lang-list-button i{display:inline-block;vertical-align:middle}.no-js .lang-list-border,.no-js .lang-list-button{display:none}.lang-list-border{background-color:#c8ccd1;display:block;position:relative;max-width:460px;width:80%;margin:-16px auto 16px;margin:-1.6rem auto 1.6rem;height:1px;-webkit-transition:max-width .2s ease-out 400s;-moz-transition:max-width .2s ease-out 400s;transition:max-width .2s ease-out 400s}.lang-list-active .lang-list-border{max-width:85%;-webkit-transition-delay:0s;-moz-transition-delay:0s;transition-delay:0s}.no-js .lang-list-content{padding:0}.lang-list-content{position:relative;-webkit-box-sizing:border-box;-moz-box-sizing:border-box;box-sizing:border-box;width:100%;padding:16px 16px 0;padding:1.6rem 1.6rem 0}.svg-arrow-down-blue{-webkit-transition:-webkit-transform .2s ease-out;transition:-webkit-transform .2s ease-out;-moz-transition:transform .2s ease-out,-moz-transform .2s ease-out;transition:transform .2s ease-out;transition:transform .2s ease-out,-webkit-transform .2s ease-out,-moz-transform .2s ease-out}.lang-list-active .svg-arrow-down-blue{-webkit-transform:rotate(180deg);-moz-transform:rotate(180deg);-ms-transform:rotate(180deg);transform:rotate(180deg)}.langlist{width:auto;margin:16px 0;margin:1.6rem 0;text-align:left}.langlist-others{font-weight:700}.hlist ul{margin:0;padding:0}.hlist li{display:inline}.hlist ul ul{display:inline}.hlist li:before{content:\" Â· \";font-weight:700}.hlist li:first-child:before{content:none}.hlist li>ul:before{content:\"\\00a0(\"}.hlist li>ul:after{content:\") \"}.langlist>ul{-webkit-column-width:11.2rem;-moz-column-width:11.2rem;column-width:11.2rem}.langlist>ul>li{display:block;line-height:1.7;-webkit-column-break-inside:avoid;page-break-inside:avoid;break-inside:avoid}.no-js .langlist>ul{text-align:center;list-style-type:circle}.no-js .langlist>ul>li{display:inline-block;padding:0 8px;padding:0 .8rem}.langlist>ul>li:before{content:none}.langlist>ul>li a{white-space:normal}.langlist-others>ul{text-align:center;-webkit-column-count:1;-moz-column-count:1;column-count:1}.langlist-others>ul li{display:inline}.langlist-others>ul li:before{content:' Â· '}.langlist-others>ul li:first-child:before{content:none}@media all and (max-width:480px){.langlist{font-size:inherit}.langlist a{word-wrap:break-word;white-space:normal}.lang-list-container{width:auto;margin-left:8px;margin-left:.8rem;margin-right:8px;margin-right:.8rem}.bookshelf{overflow:visible}}.bookshelf{display:block;border-top:1px solid #c8ccd1;-webkit-box-shadow:0 -1px 0 #fff;-moz-box-shadow:0 -1px 0 #fff;box-shadow:0 -1px 0 #fff;text-align:center;white-space:nowrap}.bookshelf .text{background-color:#f8f9fa;position:relative;top:-11.2px;top:-1.12rem;font-weight:400;padding:0 9.92px;padding:0 .992rem}.bookshelf-container{display:block;overflow:visible;height:1px;width:100%;margin:24px 0 16px;margin:2.4rem 0 1.6rem;font-size:13px;font-size:1.3rem;font-weight:700;line-height:20px;line-height:2rem}@media all and (max-width:480px){.bookshelf{width:auto;left:auto}.bookshelf-container{text-align:left;width:auto}}.app-badges .footer-sidebar-content{background-color:#f8f9fa}.app-badges .footer-sidebar-text{padding-top:8px;padding-top:.8rem;padding-bottom:8px;padding-bottom:.8rem}.app-badges .sprite.footer-sidebar-icon{top:8px;top:.8rem}.app-badges ul{margin:0;padding:0;list-style-type:none}.app-badge{display:inline-block}@media screen and (max-width:768px){.app-badges .footer-sidebar-content{text-align:center}.app-badges .sprite.footer-sidebar-icon{display:inline-block;position:relative;margin:0;top:-3px;left:0;vertical-align:middle;-webkit-transform:scale(.7);-moz-transform:scale(.7);-ms-transform:scale(.7);transform:scale(.7)}}.footer{overflow:hidden;max-width:100%;margin:0 auto;padding:41.6px 12.8px 12.8px;padding:4.16rem 1.28rem 1.28rem;font-size:13px;font-size:1.3rem}.footer:after,.footer:before{content:' ';display:table}.footer:after{clear:both}.footer-sidebar{width:35%;float:left;clear:left;margin-bottom:32px;margin-bottom:3.2rem;vertical-align:top}.footer-sidebar-content{position:relative;max-width:350px;margin:0 auto}.sprite.footer-sidebar-icon{position:absolute;top:0;left:8px;left:.8rem}.footer-sidebar-text{position:relative;margin:0;padding-left:60px;padding-left:6rem;padding-right:20px;padding-right:2rem;color:#54595d}.site-license{margin:0;color:#54595d;text-align:center}.site-license small:after{content:'\\2022';display:inline-block;font-size:13px;font-size:1.3rem;line-height:inherit;margin-left:8px;margin-left:.8rem;margin-right:5px;margin-right:.5rem}.site-license small:last-child:after{display:none}@media screen and (max-width:768px){.footer{display:-webkit-box;display:-webkit-flex;display:-moz-box;display:-ms-flexbox;display:flex;-webkit-box-orient:vertical;-webkit-box-direction:normal;-webkit-flex-direction:column;-moz-box-orient:vertical;-moz-box-direction:normal;-ms-flex-direction:column;flex-direction:column;padding-top:12.8px;padding-top:1.28rem}.footer .footer-sidebar{-webkit-box-ordinal-group:1;-moz-box-ordinal-group:1;-webkit-order:1;-ms-flex-order:1;order:1}.footer .other-projects{-webkit-box-ordinal-group:2;-moz-box-ordinal-group:2;-webkit-order:2;-ms-flex-order:2;order:2}.footer .app-badges{-webkit-box-ordinal-group:3;-moz-box-ordinal-group:3;-webkit-order:3;-ms-flex-order:3;order:3}.footer-sidebar{width:100%}.sprite.footer-sidebar-icon{display:block;position:relative;left:0;margin:0 auto 12.8px auto;margin:0 auto 1.28rem auto}.footer-sidebar-content{max-width:none}.footer-sidebar-text{margin:0;padding:0;text-align:center}}@media screen and (max-width:480px){.footer{padding:9.6px 6.4px 12.8px;padding:.96rem .64rem 1.28rem}}@media all and (max-width:480px){.search-container{margin-top:0;height:78px;height:7.8rem;position:absolute;top:90px;top:9rem;left:0;right:0;max-width:100%;width:auto;padding:0;text-align:left}.search-container label{display:none}.search-form #searchInput{max-width:40%;vertical-align:middle}.search-form .formBtn{max-width:25%;vertical-align:middle}form fieldset{margin:0;border-left:0;border-right:0}hr{margin-top:6.5px;margin-top:.65rem}}@media (min--moz-device-pixel-ratio:2),(-webkit-min-device-pixel-ratio:2),(min-resolution:2dppx),(min-resolution:192dpi){hr{border-bottom-width:.5px}}@supports (-webkit-marquee-style:slide){hr{border-bottom-width:1px}}.js-enabled .central-featured,.js-enabled .jsl10n{visibility:hidden}.jsl10n-visible .central-featured,.jsl10n-visible .jsl10n{visibility:visible}.otherprojects-icon{*zoom:1;*display:inline}.suggestion-item{*width:auto}.search-container button{*display:inline}#searchInput{*padding:8px 0 0 8px;*width:90%;*height:34px}#search-input{*display:inline}.langlist ul{*text-align:center}.langlist ul li{*display:inline!important;*padding-left:5px;*padding-right:5px}@media print{body{background-color:transparent}a{color:#000!important;background:0 0!important;padding:0!important}a:link,a:visited{color:#520;background:0 0}img{border:0}}\n",
            "</style>\n",
            "<link rel=\"preload\" as=\"image\" href=\"portal/wikipedia.org/assets/img/sprite-81a290a5.svg\">\n",
            "<link rel=\"preconnect\" href=\"//upload.wikimedia.org\">\n",
            "</head>\n",
            "<body id=\"www-wikipedia-org\">\n",
            "<h1 class=\"central-textlogo\" style=\"font-size: 1em;\" title=\"Wikipedia\">\n",
            "<img class=\"central-featured-logo\" src=\"portal/wikipedia.org/assets/img/Wikipedia-logo-v2.png\" srcset=\"portal/wikipedia.org/assets/img/Wikipedia-logo-v2@1.5x.png 1.5x, portal/wikipedia.org/assets/img/Wikipedia-logo-v2@2x.png 2x\" width=\"200\" height=\"183\" alt=\"Wikipedia\">\n",
            "<div class=\"central-textlogo-wrapper\">\n",
            "<div class=\"central-textlogo__image sprite svg-Wikipedia_wordmark\">\n",
            "Wikipedia\n",
            "</div>\n",
            "<strong class=\"jsl10n localized-slogan\" data-jsl10n=\"slogan\">The Free Encyclopedia</strong>\n",
            "</div>\n",
            "</h1>\n",
            "<!-- container div for the central logo and the links to the most viewed language editions -->\n",
            "<div class=\"central-featured\" data-el-section=\"primary links\">\n",
            "<!-- Rankings from http://stats.wikimedia.org/EN/Sitemap.htm -->\n",
            "<!-- Article counts from http://meta.wikimedia.org/wiki/List_of_Wikipedias/Table -->\n",
            "<!-- #1. en.wikipedia.org - 1 888 707 000 views/day -->\n",
            "<div class=\"central-featured-lang lang1\" lang=\"en\" dir=\"ltr\">\n",
            "<a id=\"js-link-box-en\" href=\"//en.wikipedia.org/\" title=\"English â Wikipedia â The Free Encyclopedia\" class=\"link-box\" data-slogan=\"The Free Encyclopedia\">\n",
            "<strong>English</strong>\n",
            "<small><bdi dir=\"ltr\">5&nbsp;994&nbsp;000+</bdi> <span>articles</span></small>\n",
            "</a>\n",
            "</div>\n",
            "<!-- #2. ja.wikipedia.org - 257 897 000 views/day -->\n",
            "<div class=\"central-featured-lang lang2\" lang=\"ja\" dir=\"ltr\">\n",
            "<a id=\"js-link-box-ja\" href=\"//ja.wikipedia.org/\" title=\"Nihongo â ã¦ã£ã­ããã£ã¢ â ããªã¼ç¾ç§äºå¸\" class=\"link-box\" data-slogan=\"ããªã¼ç¾ç§äºå¸\">\n",
            "<strong>æ¥æ¬èª</strong>\n",
            "<small><bdi dir=\"ltr\">1&nbsp;185&nbsp;000+</bdi> <span>è¨äº</span></small>\n",
            "</a>\n",
            "</div>\n",
            "<!-- #3. de.wikipedia.org - 239 437 000 views/day -->\n",
            "<div class=\"central-featured-lang lang3\" lang=\"de\" dir=\"ltr\">\n",
            "<a id=\"js-link-box-de\" href=\"//de.wikipedia.org/\" title=\"Deutsch â Wikipedia â Die freie EnzyklopÃ¤die\" class=\"link-box\" data-slogan=\"Die freie EnzyklopÃ¤die\">\n",
            "<strong>Deutsch</strong>\n",
            "<small><bdi dir=\"ltr\">2&nbsp;385&nbsp;000+</bdi> <span>Artikel</span></small>\n",
            "</a>\n",
            "</div>\n",
            "<!-- #4. es.wikipedia.org - 212 544 000 views/day -->\n",
            "<div class=\"central-featured-lang lang4\" lang=\"es\" dir=\"ltr\">\n",
            "<a id=\"js-link-box-es\" href=\"//es.wikipedia.org/\" title=\"EspaÃ±ol â Wikipedia â La enciclopedia libre\" class=\"link-box\" data-slogan=\"La enciclopedia libre\">\n",
            "<strong>EspaÃ±ol</strong>\n",
            "<small><bdi dir=\"ltr\">1&nbsp;571&nbsp;000+</bdi> <span>artÃ­culos</span></small>\n",
            "</a>\n",
            "</div>\n",
            "<!-- #5. ru.wikipedia.org - 199 942 000 views/day -->\n",
            "<div class=\"central-featured-lang lang5\" lang=\"ru\" dir=\"ltr\">\n",
            "<a id=\"js-link-box-ru\" href=\"//ru.wikipedia.org/\" title=\"Russkiy â ÐÐ¸ÐºÐ¸Ð¿ÐµÐ´Ð¸Ñ â Ð¡Ð²Ð¾Ð±Ð¾Ð´Ð½Ð°Ñ ÑÐ½ÑÐ¸ÐºÐ»Ð¾Ð¿ÐµÐ´Ð¸Ñ\" class=\"link-box\" data-slogan=\"Ð¡Ð²Ð¾Ð±Ð¾Ð´Ð½Ð°Ñ ÑÐ½ÑÐ¸ÐºÐ»Ð¾Ð¿ÐµÐ´Ð¸Ñ\">\n",
            "<strong>Ð ÑÑÑÐºÐ¸Ð¹</strong>\n",
            "<small><bdi dir=\"ltr\">1&nbsp;590&nbsp;000+</bdi> <span>ÑÑÐ°ÑÐµÐ¹</span></small>\n",
            "</a>\n",
            "</div>\n",
            "<!-- #6. fr.wikipedia.org - 178 352 000 views/day -->\n",
            "<div class=\"central-featured-lang lang6\" lang=\"fr\" dir=\"ltr\">\n",
            "<a id=\"js-link-box-fr\" href=\"//fr.wikipedia.org/\" title=\"FranÃ§ais â WikipÃ©dia â LâencyclopÃ©die libre\" class=\"link-box\" data-slogan=\"LâencyclopÃ©die libre\">\n",
            "<strong>FranÃ§ais</strong>\n",
            "<small><bdi dir=\"ltr\">2&nbsp;171&nbsp;000+</bdi> <span>articles</span></small>\n",
            "</a>\n",
            "</div>\n",
            "<!-- #7. it.wikipedia.org - 133 519 000 views/day -->\n",
            "<div class=\"central-featured-lang lang7\" lang=\"it\" dir=\"ltr\">\n",
            "<a id=\"js-link-box-it\" href=\"//it.wikipedia.org/\" title=\"Italiano â Wikipedia â L&#x27;enciclopedia libera\" class=\"link-box\" data-slogan=\"L&#x27;enciclopedia libera\">\n",
            "<strong>Italiano</strong>\n",
            "<small><bdi dir=\"ltr\">1&nbsp;576&nbsp;000+</bdi> <span>voci</span></small>\n",
            "</a>\n",
            "</div>\n",
            "<!-- #8. zh.wikipedia.org - 96 125 000 views/day -->\n",
            "<div class=\"central-featured-lang lang8\" lang=\"zh\" dir=\"ltr\">\n",
            "<a id=\"js-link-box-zh\" href=\"//zh.wikipedia.org/\" title=\"ZhÅngwÃ©n â ç¶­åºç¾ç§ â èªç±çç¾ç§å¨æ¸\" class=\"link-box\" data-converttitle-hans=\"ZhÅngwÃ©n â ç»´åºç¾ç§ â èªç±çç¾ç§å¨ä¹¦\" data-slogan=\"èªç±çç¾ç§å¨æ¸\">\n",
            "<strong>ä¸­æ</strong>\n",
            "<small><bdi dir=\"ltr\">1&nbsp;090&nbsp;000+</bdi> <span data-convert-hans=\"æ¡ç®\" id=\"zh_art\">æ¢ç®</span></small>\n",
            "</a>\n",
            "</div>\n",
            "<!-- #9. pt.wikipedia.org - 72 251 000 views/day -->\n",
            "<div class=\"central-featured-lang lang9\" lang=\"pt\" dir=\"ltr\">\n",
            "<a id=\"js-link-box-pt\" href=\"//pt.wikipedia.org/\" title=\"PortuguÃªs â WikipÃ©dia â A enciclopÃ©dia livre\" class=\"link-box\" data-slogan=\"A enciclopÃ©dia livre\">\n",
            "<strong>PortuguÃªs</strong>\n",
            "<small><bdi dir=\"ltr\">1&nbsp;018&nbsp;000+</bdi> <span>artigos</span></small>\n",
            "</a>\n",
            "</div>\n",
            "<!-- #10. pl.wikipedia.org - 64 832 000 views/day -->\n",
            "<div class=\"central-featured-lang lang10\" lang=\"pl\" dir=\"ltr\">\n",
            "<a id=\"js-link-box-pl\" href=\"//pl.wikipedia.org/\" title=\"Polski â Wikipedia â Wolna encyklopedia\" class=\"link-box\" data-slogan=\"Wolna encyklopedia\">\n",
            "<strong>Polski</strong>\n",
            "<small><bdi dir=\"ltr\">1&nbsp;379&nbsp;000+</bdi> <span>haseÅ</span></small>\n",
            "</a>\n",
            "</div>\n",
            "</div>\n",
            "<!-- Search form -->\n",
            "<div class=\"search-container\">\n",
            "<form class=\"pure-form\" id=\"search-form\" action=\"//www.wikipedia.org/search-redirect.php\" data-el-section=\"search\">\n",
            "<fieldset>\n",
            "<!-- search-redirect.php is project-independent, requires a family -->\n",
            "<input type=\"hidden\" name=\"family\" value=\"wikipedia\">\n",
            "<input type=\"hidden\" id=\"hiddenLanguageInput\" name=\"language\" value=\"en\">\n",
            "<div class=\"search-input\" id=\"search-input\">\n",
            "<label for=\"searchInput\" class=\"screen-reader-text\" data-jsl10n=\"search-input-label\">Search Wikipedia</label>\n",
            "<input id=\"searchInput\" name=\"search\" type=\"search\" size=\"20\" autofocus=\"autofocus\" accesskey=\"F\" dir=\"auto\" autocomplete=\"off\" list=\"suggestions\">\n",
            "<div class=\"styled-select no-js\">\n",
            "<div class=\"hide-arrow\">\n",
            "<select id=\"searchLanguage\" name=\"language\">\n",
            "<!-- 100,000+ content pages, sorted by romanization -->\n",
            "<option value=\"ar\" lang=\"ar\">Ø§ÙØ¹Ø±Ø¨ÙØ©</option><!-- Al-Ê¿ArabÄ«yah -->\n",
            "<option value=\"az\" lang=\"az\">AzÉrbaycanca</option>\n",
            "<option value=\"bg\" lang=\"bg\">ÐÑÐ»Ð³Ð°ÑÑÐºÐ¸</option><!-- BÇlgarski -->\n",
            "<option value=\"nan\" lang=\"nan\">BÃ¢n-lÃ¢m-gÃº / HÅ-lÃ³-oÄ</option>\n",
            "<option value=\"be\" lang=\"be\">ÐÐµÐ»Ð°ÑÑÑÐºÐ°Ñ (ÐÐºÐ°Ð´ÑÐ¼ÑÑÐ½Ð°Ñ)</option><!-- Belaruskaya (Akademichnaya) -->\n",
            "<option value=\"ca\" lang=\"ca\">CatalÃ </option>\n",
            "<option value=\"cs\" lang=\"cs\">ÄeÅ¡tina</option><!-- ÄeÅ¡tina -->\n",
            "<option value=\"da\" lang=\"da\">Dansk</option>\n",
            "<option value=\"de\" lang=\"de\">Deutsch</option>\n",
            "<option value=\"et\" lang=\"et\">Eesti</option>\n",
            "<option value=\"el\" lang=\"el\">ÎÎ»Î»Î·Î½Î¹ÎºÎ¬</option><!-- EllÄ«nikÃ¡ -->\n",
            "<option value=\"en\" lang=\"en\" selected=selected>English</option><!-- English -->\n",
            "<option value=\"es\" lang=\"es\">EspaÃ±ol</option>\n",
            "<option value=\"eo\" lang=\"eo\">Esperanto</option>\n",
            "<option value=\"eu\" lang=\"eu\">Euskara</option>\n",
            "<option value=\"fa\" lang=\"fa\">ÙØ§Ø±Ø³Û</option><!-- FÄrsi -->\n",
            "<option value=\"fr\" lang=\"fr\">FranÃ§ais</option>\n",
            "<option value=\"gl\" lang=\"gl\">Galego</option>\n",
            "<option value=\"hy\" lang=\"hy\">ÕÕ¡ÕµÕ¥ÖÕ¥Õ¶</option><!-- Hayeren -->\n",
            "<option value=\"hi\" lang=\"hi\">à¤¹à¤¿à¤¨à¥à¤¦à¥</option><!-- HindÄ« -->\n",
            "<option value=\"hr\" lang=\"hr\">Hrvatski</option>\n",
            "<option value=\"id\" lang=\"id\">Bahasa Indonesia</option>\n",
            "<option value=\"it\" lang=\"it\">Italiano</option>\n",
            "<option value=\"he\" lang=\"he\">×¢××¨××ª</option><!-- Ê¿Ivrit -->\n",
            "<option value=\"ka\" lang=\"ka\">á¥áá áá£áá</option><!-- Kartuli -->\n",
            "<option value=\"la\" lang=\"la\">Latina</option>\n",
            "<option value=\"lt\" lang=\"lt\">LietuviÅ³</option>\n",
            "<option value=\"hu\" lang=\"hu\">Magyar</option>\n",
            "<option value=\"mk\" lang=\"mk\">ÐÐ°ÐºÐµÐ´Ð¾Ð½ÑÐºÐ¸</option><!-- Makedonski -->\n",
            "<option value=\"ms\" lang=\"ms\">Bahasa Melayu</option>\n",
            "<option value=\"min\" lang=\"min\">Bahaso Minangkabau</option>\n",
            "<option value=\"nl\" lang=\"nl\">Nederlands</option>\n",
            "<option value=\"ja\" lang=\"ja\">æ¥æ¬èª</option><!-- Nihongo -->\n",
            "<option value=\"no\" lang=\"nb\">Norsk (bokmÃ¥l)</option>\n",
            "<option value=\"nn\" lang=\"nn\">Norsk (nynorsk)</option>\n",
            "<option value=\"ce\" lang=\"ce\">ÐÐ¾ÑÑÐ¸Ð¹Ð½</option><!-- NoxÃ§iyn -->\n",
            "<option value=\"uz\" lang=\"uz\">OÊ»zbekcha / ÐÐ·Ð±ÐµÐºÑÐ°</option>\n",
            "<option value=\"pl\" lang=\"pl\">Polski</option>\n",
            "<option value=\"pt\" lang=\"pt\">PortuguÃªs</option>\n",
            "<option value=\"kk\" lang=\"kk\">ÒÐ°Ð·Ð°ÒÑÐ° / QazaqÅa / ÙØ§Ø²Ø§ÙØ´Ø§</option>\n",
            "<option value=\"ro\" lang=\"ro\">RomÃ¢nÄ</option>\n",
            "<option value=\"ru\" lang=\"ru\">Ð ÑÑÑÐºÐ¸Ð¹</option><!-- Russkiy -->\n",
            "<option value=\"cy\" lang=\"cy\">Cymraeg</option><!-- Saesneg -->\n",
            "<option value=\"simple\" lang=\"en\">Simple English</option>\n",
            "<option value=\"ceb\" lang=\"ceb\">Sinugboanong Binisaya</option>\n",
            "<option value=\"sk\" lang=\"sk\">SlovenÄina</option>\n",
            "<option value=\"sl\" lang=\"sl\">SlovenÅ¡Äina</option>\n",
            "<option value=\"sr\" lang=\"sr\">Ð¡ÑÐ¿ÑÐºÐ¸ / Srpski</option>\n",
            "<option value=\"sh\" lang=\"sh\">Srpskohrvatski / Ð¡ÑÐ¿ÑÐºÐ¾ÑÑÐ²Ð°ÑÑÐºÐ¸</option>\n",
            "<option value=\"fi\" lang=\"fi\">Suomi</option><!-- suomi -->\n",
            "<option value=\"sv\" lang=\"sv\">Svenska</option>\n",
            "<option value=\"ta\" lang=\"ta\">à®¤à®®à®¿à®´à¯</option><!-- Tamiá¸» -->\n",
            "<option value=\"th\" lang=\"th\">à¸ à¸²à¸©à¸²à¹à¸à¸¢</option><!-- Phasa Thai -->\n",
            "<option value=\"tg\" lang=\"tg\">Ð¢Ð¾Ò·Ð¸ÐºÓ£</option><!-- TojikÄ« -->\n",
            "<option value=\"azb\" lang=\"azb\">ØªÛØ±Ú©Ø¬Ù</option><!-- TÃ¼rkce -->\n",
            "<option value=\"tr\" lang=\"tr\">TÃ¼rkÃ§e</option><!-- TÃ¼rkÃ§e -->\n",
            "<option value=\"uk\" lang=\"uk\">Ð£ÐºÑÐ°ÑÐ½ÑÑÐºÐ°</option><!-- Ukrayinsâka -->\n",
            "<option value=\"ur\" lang=\"ur\">Ø§Ø±Ø¯Ù</option><!-- Urdu -->\n",
            "<option value=\"vi\" lang=\"vi\">Tiáº¿ng Viá»t</option>\n",
            "<option value=\"vo\" lang=\"vo\">VolapÃ¼k</option>\n",
            "<option value=\"war\" lang=\"war\">Winaray</option>\n",
            "<option value=\"zh\" lang=\"zh\">ä¸­æ</option><!-- ZhÅngwÃ©n -->\n",
            "<option value=\"ko\" lang=\"ko\">íêµ­ì´</option><!-- Hangugeo -->\n",
            "</select>\n",
            "<div class=\"styled-select-active-helper\"></div>\n",
            "</div>\n",
            "<i class=\"sprite svg-arrow-down\"></i>\n",
            "</div>\n",
            "</div>\n",
            "<button class=\"pure-button pure-button-primary-progressive\" type=\"submit\">\n",
            "<i class=\"sprite svg-search-icon\" data-jsl10n=\"search-input-button\">Search</i>\n",
            "</button>\n",
            "<input type=\"hidden\" value=\"Go\" name=\"go\">\n",
            "</fieldset>\n",
            "</form>\n",
            "</div>\n",
            "<div class=\"lang-list-button-wrapper\">\n",
            "<button id=\"js-lang-list-button\" class=\"lang-list-button\">\n",
            "<i class=\"sprite svg-translate-icon\"></i>\n",
            "<span class=\"lang-list-button-text jsl10n\" data-jsl10n=\"language-button-text\">Read Wikipedia in your language </span>\n",
            "<i class=\"sprite svg-arrow-down-blue\"></i>\n",
            "</button>\n",
            "</div>\n",
            "<div class=\"lang-list-border\"></div>\n",
            "<div class=\"lang-list-container\">\n",
            "<div id=\"js-lang-lists\" class=\"lang-list-content\">\n",
            "<!-- Bookshelves -->\n",
            "<h2 class=\"bookshelf-container\">\n",
            "<span class=\"bookshelf\">\n",
            "<span class=\"text\">\n",
            "<bdi dir=\"ltr\">\n",
            "1&nbsp;000&nbsp;000+\n",
            "</bdi>\n",
            "<span class=\"jsl10n\" data-jsl10n=\"entries\">\n",
            "articles\n",
            "</span>\n",
            "</span>\n",
            "</span>\n",
            "</h2>\n",
            "<!-- 1,000,000+ content pages -->\n",
            "<div class=\"langlist langlist-large hlist\" data-el-section=\"secondary links\">\n",
            "<ul>\n",
            "<li><a href=\"//ar.wikipedia.org/\" lang=\"ar\" title=\"Al-Ê¿ArabÄ«yah\"><bdi dir=\"rtl\">Ø§ÙØ¹Ø±Ø¨ÙØ©</bdi></a></li>\n",
            "<li><a href=\"//de.wikipedia.org/\" lang=\"de\">Deutsch</a></li>\n",
            "<li><a href=\"//en.wikipedia.org/\" lang=\"en\" title=\"English\">English</a></li>\n",
            "<li><a href=\"//es.wikipedia.org/\" lang=\"es\">EspaÃ±ol</a></li>\n",
            "<li><a href=\"//fr.wikipedia.org/\" lang=\"fr\">FranÃ§ais</a></li>\n",
            "<li><a href=\"//it.wikipedia.org/\" lang=\"it\">Italiano</a></li>\n",
            "<li><a href=\"//nl.wikipedia.org/\" lang=\"nl\">Nederlands</a></li>\n",
            "<li><a href=\"//ja.wikipedia.org/\" lang=\"ja\" title=\"Nihongo\">æ¥æ¬èª</a></li>\n",
            "<li><a href=\"//pl.wikipedia.org/\" lang=\"pl\">Polski</a></li>\n",
            "<li><a href=\"//pt.wikipedia.org/\" lang=\"pt\">PortuguÃªs</a></li>\n",
            "<li><a href=\"//ru.wikipedia.org/\" lang=\"ru\" title=\"Russkiy\">Ð ÑÑÑÐºÐ¸Ð¹</a></li>\n",
            "<li><a href=\"//ceb.wikipedia.org/\" lang=\"ceb\">Sinugboanong Binisaya</a></li>\n",
            "<li><a href=\"//sv.wikipedia.org/\" lang=\"sv\">Svenska</a></li>\n",
            "<li><a href=\"//vi.wikipedia.org/\" lang=\"vi\">Tiáº¿ng Viá»t</a></li>\n",
            "<li><a href=\"//war.wikipedia.org/\" lang=\"war\">Winaray</a></li>\n",
            "<li><a href=\"//zh.wikipedia.org/\" lang=\"zh\" title=\"ZhÅngwÃ©n\">ä¸­æ</a></li>\n",
            "</ul>\n",
            "</div>\n",
            "<!-- Bookshelves -->\n",
            "<h2 class=\"bookshelf-container\">\n",
            "<span class=\"bookshelf\">\n",
            "<span class=\"text\">\n",
            "<bdi dir=\"ltr\">\n",
            "100&nbsp;000+\n",
            "</bdi>\n",
            "<span class=\"jsl10n\" data-jsl10n=\"entries\">\n",
            "articles\n",
            "</span>\n",
            "</span>\n",
            "</span>\n",
            "</h2>\n",
            "<!-- 100,000+ content pages -->\n",
            "<div class=\"langlist langlist-large hlist\" data-el-section=\"secondary links\">\n",
            "<ul>\n",
            "<li><a href=\"//az.wikipedia.org/\" lang=\"az\">AzÉrbaycanca</a></li>\n",
            "<li><a href=\"//bg.wikipedia.org/\" lang=\"bg\" title=\"BÇlgarski\">ÐÑÐ»Ð³Ð°ÑÑÐºÐ¸</a></li>\n",
            "<li><a href=\"//zh-min-nan.wikipedia.org/\" lang=\"nan\">BÃ¢n-lÃ¢m-gÃº / HÅ-lÃ³-oÄ</a></li>\n",
            "<li><a href=\"//be.wikipedia.org/\" lang=\"be\" title=\"Belaruskaya (Akademichnaya)\">ÐÐµÐ»Ð°ÑÑÑÐºÐ°Ñ (ÐÐºÐ°Ð´ÑÐ¼ÑÑÐ½Ð°Ñ)</a></li>\n",
            "<li><a href=\"//ca.wikipedia.org/\" lang=\"ca\">CatalÃ </a></li>\n",
            "<li><a href=\"//cs.wikipedia.org/\" lang=\"cs\" title=\"ÄeÅ¡tina\">ÄeÅ¡tina</a></li>\n",
            "<li><a href=\"//da.wikipedia.org/\" lang=\"da\">Dansk</a></li>\n",
            "<li><a href=\"//et.wikipedia.org/\" lang=\"et\">Eesti</a></li>\n",
            "<li><a href=\"//el.wikipedia.org/\" lang=\"el\" title=\"EllÄ«nikÃ¡\">ÎÎ»Î»Î·Î½Î¹ÎºÎ¬</a></li>\n",
            "<li><a href=\"//eo.wikipedia.org/\" lang=\"eo\">Esperanto</a></li>\n",
            "<li><a href=\"//eu.wikipedia.org/\" lang=\"eu\">Euskara</a></li>\n",
            "<li><a href=\"//fa.wikipedia.org/\" lang=\"fa\" title=\"FÄrsi\"><bdi dir=\"rtl\">ÙØ§Ø±Ø³Û</bdi></a></li>\n",
            "<li><a href=\"//gl.wikipedia.org/\" lang=\"gl\">Galego</a></li>\n",
            "<li><a href=\"//hy.wikipedia.org/\" lang=\"hy\" title=\"Hayeren\">ÕÕ¡ÕµÕ¥ÖÕ¥Õ¶</a></li>\n",
            "<li><a href=\"//hi.wikipedia.org/\" lang=\"hi\" title=\"HindÄ«\">à¤¹à¤¿à¤¨à¥à¤¦à¥</a></li>\n",
            "<li><a href=\"//hr.wikipedia.org/\" lang=\"hr\">Hrvatski</a></li>\n",
            "<li><a href=\"//id.wikipedia.org/\" lang=\"id\">Bahasa Indonesia</a></li>\n",
            "<li><a href=\"//he.wikipedia.org/\" lang=\"he\" title=\"Ê¿Ivrit\"><bdi dir=\"rtl\">×¢××¨××ª</bdi></a></li>\n",
            "<li><a href=\"//ka.wikipedia.org/\" lang=\"ka\" title=\"Kartuli\">á¥áá áá£áá</a></li>\n",
            "<li><a href=\"//la.wikipedia.org/\" lang=\"la\">Latina</a></li>\n",
            "<li><a href=\"//lt.wikipedia.org/\" lang=\"lt\">LietuviÅ³</a></li>\n",
            "<li><a href=\"//hu.wikipedia.org/\" lang=\"hu\">Magyar</a></li>\n",
            "<li><a href=\"//mk.wikipedia.org/\" lang=\"mk\" title=\"Makedonski\">ÐÐ°ÐºÐµÐ´Ð¾Ð½ÑÐºÐ¸</a></li>\n",
            "<li><a href=\"//ms.wikipedia.org/\" lang=\"ms\">Bahasa Melayu</a></li>\n",
            "<li><a href=\"//min.wikipedia.org/\" lang=\"min\">Bahaso Minangkabau</a></li>\n",
            "<li lang=\"no\">Norsk<ul><li><a href=\"//no.wikipedia.org/\" lang=\"nb\">bokmÃ¥l</a></li><li><a href=\"//nn.wikipedia.org/\" lang=\"nn\">nynorsk</a></li></ul></li>\n",
            "<li><a href=\"//ce.wikipedia.org/\" lang=\"ce\" title=\"NoxÃ§iyn\">ÐÐ¾ÑÑÐ¸Ð¹Ð½</a></li>\n",
            "<li><a href=\"//uz.wikipedia.org/\" lang=\"uz\">OÊ»zbekcha / ÐÐ·Ð±ÐµÐºÑÐ°</a></li>\n",
            "<li><a href=\"//kk.wikipedia.org/\" lang=\"kk\"><span lang=\"kk-Cyrl\">ÒÐ°Ð·Ð°ÒÑÐ°</span> / <span lang=\"kk-Latn\">QazaqÅa</span> / <bdi lang=\"kk-Arab\" dir=\"rtl\">ÙØ§Ø²Ø§ÙØ´Ø§</bdi></a></li>\n",
            "<li><a href=\"//ro.wikipedia.org/\" lang=\"ro\">RomÃ¢nÄ</a></li>\n",
            "<li><a href=\"//cy.wikipedia.org/\" lang=\"cy\" title=\"Saesneg\">Cymraeg</a></li>\n",
            "<li><a href=\"//simple.wikipedia.org/\" lang=\"en\">Simple English</a></li>\n",
            "<li><a href=\"//sk.wikipedia.org/\" lang=\"sk\">SlovenÄina</a></li>\n",
            "<li><a href=\"//sl.wikipedia.org/\" lang=\"sl\">SlovenÅ¡Äina</a></li>\n",
            "<li><a href=\"//sr.wikipedia.org/\" lang=\"sr\">Ð¡ÑÐ¿ÑÐºÐ¸ / Srpski</a></li>\n",
            "<li><a href=\"//sh.wikipedia.org/\" lang=\"sh\">Srpskohrvatski / Ð¡ÑÐ¿ÑÐºÐ¾ÑÑÐ²Ð°ÑÑÐºÐ¸</a></li>\n",
            "<li><a href=\"//fi.wikipedia.org/\" lang=\"fi\" title=\"suomi\">Suomi</a></li>\n",
            "<li><a href=\"//ta.wikipedia.org/\" lang=\"ta\" title=\"Tamiá¸»\">à®¤à®®à®¿à®´à¯</a></li>\n",
            "<li><a href=\"//th.wikipedia.org/\" lang=\"th\" title=\"Phasa Thai\">à¸ à¸²à¸©à¸²à¹à¸à¸¢</a></li>\n",
            "<li><a href=\"//tg.wikipedia.org/\" lang=\"tg\" title=\"TojikÄ«\">Ð¢Ð¾Ò·Ð¸ÐºÓ£</a></li>\n",
            "<li><a href=\"//azb.wikipedia.org/\" lang=\"azb\" title=\"TÃ¼rkce\"><bdi dir=\"rtl\">ØªÛØ±Ú©Ø¬Ù</bdi></a></li>\n",
            "<li><a href=\"//tr.wikipedia.org/\" lang=\"tr\" title=\"TÃ¼rkÃ§e\">TÃ¼rkÃ§e</a></li>\n",
            "<li><a href=\"//uk.wikipedia.org/\" lang=\"uk\" title=\"Ukrayinsâka\">Ð£ÐºÑÐ°ÑÐ½ÑÑÐºÐ°</a></li>\n",
            "<li><a href=\"//ur.wikipedia.org/\" lang=\"ur\" title=\"Urdu\"><bdi dir=\"rtl\">Ø§Ø±Ø¯Ù</bdi></a></li>\n",
            "<li><a href=\"//vo.wikipedia.org/\" lang=\"vo\">VolapÃ¼k</a></li>\n",
            "<li><a href=\"//ko.wikipedia.org/\" lang=\"ko\" title=\"Hangugeo\">íêµ­ì´</a></li>\n",
            "</ul>\n",
            "</div>\n",
            "<!-- Bookshelves -->\n",
            "<h2 class=\"bookshelf-container\">\n",
            "<span class=\"bookshelf\">\n",
            "<span class=\"text\">\n",
            "<bdi dir=\"ltr\">\n",
            "10&nbsp;000+\n",
            "</bdi>\n",
            "<span class=\"jsl10n\" data-jsl10n=\"entries\">\n",
            "articles\n",
            "</span>\n",
            "</span>\n",
            "</span>\n",
            "</h2>\n",
            "<!-- 10,000+ content pages -->\n",
            "<div class=\"langlist hlist\" data-el-section=\"secondary links\">\n",
            "<ul>\n",
            "<li><a href=\"//ace.wikipedia.org/\" lang=\"ace\">Bahsa AcÃ¨h</a></li>\n",
            "<li><a href=\"//af.wikipedia.org/\" lang=\"af\">Afrikaans</a></li>\n",
            "<li><a href=\"//als.wikipedia.org/\" lang=\"gsw\">Alemannisch</a></li>\n",
            "<li><a href=\"//am.wikipedia.org/\" lang=\"am\" title=\"ÄmariÃ±Ã±Ä\">á áá­á</a></li>\n",
            "<li><a href=\"//an.wikipedia.org/\" lang=\"an\">AragonÃ©s</a></li>\n",
            "<li><a href=\"//ast.wikipedia.org/\" lang=\"ast\">Asturianu</a></li>\n",
            "<li><a href=\"//bn.wikipedia.org/\" lang=\"bn\" title=\"Bangla\">à¦¬à¦¾à¦à¦²à¦¾</a></li>\n",
            "<li><a href=\"//map-bms.wikipedia.org/\" lang=\"map-x-bms\">Basa Banyumasan</a></li>\n",
            "<li><a href=\"//ba.wikipedia.org/\" lang=\"ba\" title=\"BaÅqortsa\">ÐÐ°ÑÒ¡Ð¾ÑÑÑÐ°</a></li>\n",
            "<li><a href=\"//be-tarask.wikipedia.org/\" lang=\"be\" title=\"Belaruskaya (TaraÅ¡kievica)\">ÐÐµÐ»Ð°ÑÑÑÐºÐ°Ñ (Ð¢Ð°ÑÐ°ÑÐºÐµÐ²ÑÑÐ°)</a></li>\n",
            "<li><a href=\"//bpy.wikipedia.org/\" lang=\"bpy\" title=\"Bishnupriya Manipuri\">à¦¬à¦¿à¦·à§à¦£à§à¦ªà§à¦°à¦¿à¦¯à¦¼à¦¾ à¦®à¦£à¦¿à¦ªà§à¦°à§</a></li>\n",
            "<li><a href=\"//bar.wikipedia.org/\" lang=\"bar\">Boarisch</a></li>\n",
            "<li><a href=\"//bs.wikipedia.org/\" lang=\"bs\">Bosanski</a></li>\n",
            "<li><a href=\"//br.wikipedia.org/\" lang=\"br\">Brezhoneg</a></li>\n",
            "<li><a href=\"//cv.wikipedia.org/\" lang=\"cv\" title=\"ÄÄvaÅ¡la\">Ð§ÓÐ²Ð°ÑÐ»Ð°</a></li>\n",
            "<li><a href=\"//nv.wikipedia.org/\" lang=\"nv\">DinÃ© Bizaad</a></li>\n",
            "<li><a href=\"//eml.wikipedia.org/\" lang=\"roa-x-eml\">EmigliÃ nâRumagnÃ²l</a></li>\n",
            "<li><a href=\"//fo.wikipedia.org/\" lang=\"fo\">FÃ¸royskt</a></li>\n",
            "<li><a href=\"//fy.wikipedia.org/\" lang=\"fy\">Frysk</a></li>\n",
            "<li><a href=\"//ga.wikipedia.org/\" lang=\"ga\">Gaeilge</a></li>\n",
            "<li><a href=\"//gd.wikipedia.org/\" lang=\"gd\">GÃ idhlig</a></li>\n",
            "<li><a href=\"//gu.wikipedia.org/\" lang=\"gu\" title=\"Gujarati\">àªà«àªàª°àª¾àª¤à«</a></li>\n",
            "<li><a href=\"//hsb.wikipedia.org/\" lang=\"hsb\">Hornjoserbsce</a></li>\n",
            "<li><a href=\"//io.wikipedia.org/\" lang=\"io\">Ido</a></li>\n",
            "<li><a href=\"//ilo.wikipedia.org/\" lang=\"ilo\">Ilokano</a></li>\n",
            "<li><a href=\"//ia.wikipedia.org/\" lang=\"ia\">Interlingua</a></li>\n",
            "<li><a href=\"//os.wikipedia.org/\" lang=\"os\" title=\"Iron Ãvzag\">ÐÑÐ¾Ð½ Ã¦Ð²Ð·Ð°Ð³</a></li>\n",
            "<li><a href=\"//is.wikipedia.org/\" lang=\"is\">Ãslenska</a></li>\n",
            "<li><a href=\"//jv.wikipedia.org/\" lang=\"jv\">Jawa</a></li>\n",
            "<li><a href=\"//kn.wikipedia.org/\" lang=\"kn\" title=\"Kannada\">à²à²¨à³à²¨à²¡</a></li>\n",
            "<li><a href=\"//ht.wikipedia.org/\" lang=\"ht\">KreyÃ²l Ayisyen</a></li>\n",
            "<li><a href=\"//ku.wikipedia.org/\" lang=\"ku\"><span lang=\"ku-Latn\">KurdÃ®</span> / <bdi lang=\"ku-Arab\" dir=\"rtl\">ÙÙØ±Ø¯Û</bdi></a></li>\n",
            "<li><a href=\"//ckb.wikipedia.org/\" lang=\"ckb\" title=\"KurdÃ®y NawendÃ®\"><bdi dir=\"rtl\">Ú©ÙØ±Ø¯ÛÛ ÙØ§ÙÛÙØ¯Û</bdi></a></li>\n",
            "<li><a href=\"//ky.wikipedia.org/\" lang=\"ky\" title=\"KyrgyzÄa\">ÐÑÑÐ³ÑÐ·ÑÐ°</a></li>\n",
            "<li><a href=\"//mrj.wikipedia.org/\" lang=\"mjr\" title=\"Kyryk Mary\">ÐÑÑÑÐº ÐÐ°ÑÑ</a></li>\n",
            "<li><a href=\"//lv.wikipedia.org/\" lang=\"lv\">LatvieÅ¡u</a></li>\n",
            "<li><a href=\"//lb.wikipedia.org/\" lang=\"lb\">LÃ«tzebuergesch</a></li>\n",
            "<li><a href=\"//li.wikipedia.org/\" lang=\"li\">Limburgs</a></li>\n",
            "<li><a href=\"//lmo.wikipedia.org/\" lang=\"lmo\">Lumbaart</a></li>\n",
            "<li><a href=\"//mai.wikipedia.org/\" lang=\"mai\" title=\"MaithilÄ«\">à¤®à¥à¤¥à¤¿à¤²à¥</a></li>\n",
            "<li><a href=\"//mg.wikipedia.org/\" lang=\"mg\">Malagasy</a></li>\n",
            "<li><a href=\"//ml.wikipedia.org/\" lang=\"ml\" title=\"Malayalam\">à´®à´²à´¯à´¾à´³à´</a></li>\n",
            "<li><a href=\"//zh-classical.wikipedia.org/\" lang=\"lzh\" title=\"Man4jin4 / WÃ©nyÃ¡n\">æè¨</a></li>\n",
            "<li><a href=\"//mr.wikipedia.org/\" lang=\"mr\" title=\"Marathi\">à¤®à¤°à¤¾à¤ à¥</a></li>\n",
            "<li><a href=\"//xmf.wikipedia.org/\" lang=\"xmf\" title=\"Margaluri\">ááá áááá£á á</a></li>\n",
            "<li><a href=\"//arz.wikipedia.org/\" lang=\"arz\" title=\"Maá¹£rÄ«\"><bdi dir=\"rtl\">ÙØµØ±Ù</bdi></a></li>\n",
            "<li><a href=\"//mzn.wikipedia.org/\" lang=\"mzn\" title=\"MÃ¤zeruni\"><bdi dir=\"rtl\">ÙØ§Ø²ÙØ±ÙÙÛ</bdi></a></li>\n",
            "<li><a href=\"//cdo.wikipedia.org/\" lang=\"cdo\" title=\"Ming-deng-ngu\">MÃ¬ng-dÄÌ¤ng-ngá¹³Ì / é©æ±èª</a></li>\n",
            "<li><a href=\"//mn.wikipedia.org/\" lang=\"mn\" title=\"Mongol\">ÐÐ¾Ð½Ð³Ð¾Ð»</a></li>\n",
            "<li><a href=\"//my.wikipedia.org/\" lang=\"my\" title=\"Myanmarsar\">áá¼ááºáá¬áá¬áá¬</a></li>\n",
            "<li><a href=\"//new.wikipedia.org/\" lang=\"new\" title=\"Nepal Bhasa\">à¤¨à¥à¤ªà¤¾à¤² à¤­à¤¾à¤·à¤¾</a></li>\n",
            "<li><a href=\"//ne.wikipedia.org/\" lang=\"ne\" title=\"NepÄlÄ«\">à¤¨à¥à¤ªà¤¾à¤²à¥</a></li>\n",
            "<li><a href=\"//nap.wikipedia.org/\" lang=\"nap\">Nnapulitano</a></li>\n",
            "<li><a href=\"//oc.wikipedia.org/\" lang=\"oc\">Occitan</a></li>\n",
            "<li><a href=\"//mhr.wikipedia.org/\" lang=\"mhr\" title=\"Olyk Marij\">ÐÐ°ÑÐ¸Ð¹</a></li>\n",
            "<li><a href=\"//or.wikipedia.org/\" lang=\"or\" title=\"Oá¹iÄ\">à¬à¬¡à¬¿à¬¼à¬</a></li>\n",
            "<li><a href=\"//pa.wikipedia.org/\" lang=\"pa\" title=\"PaÃ±jÄbÄ« (GurmukhÄ«)\">à¨ªà©°à¨à¨¾à¨¬à© (à¨à©à¨°à¨®à©à¨à©)</a></li>\n",
            "<li><a href=\"//pnb.wikipedia.org/\" lang=\"pnb\" title=\"PaÃ±jÄbÄ« (ShÄhmukhÄ«)\"><bdi dir=\"rtl\">Ù¾ÙØ¬Ø§Ø¨Û (Ø´Ø§Û ÙÚ©Ú¾Û)</bdi></a></li>\n",
            "<li><a href=\"//ps.wikipedia.org/\" lang=\"ps\" title=\"PaÊto\"><bdi dir=\"rtl\">Ù¾ÚØªÙ</bdi></a></li>\n",
            "<li><a href=\"//pms.wikipedia.org/\" lang=\"pms\">PiemontÃ¨is</a></li>\n",
            "<li><a href=\"//nds.wikipedia.org/\" lang=\"nds\">PlattdÃ¼Ã¼tsch</a></li>\n",
            "<li><a href=\"//qu.wikipedia.org/\" lang=\"qu\">Runa Simi</a></li>\n",
            "<li><a href=\"//sa.wikipedia.org/\" lang=\"sa\" title=\"Saá¹ská¹tam\">à¤¸à¤à¤¸à¥à¤à¥à¤¤à¤®à¥</a></li>\n",
            "<li><a href=\"//sah.wikipedia.org/\" lang=\"sah\" title=\"Saxa Tyla\">Ð¡Ð°ÑÐ° Ð¢ÑÐ»Ð°</a></li>\n",
            "<li><a href=\"//sco.wikipedia.org/\" lang=\"sco\">Scots</a></li>\n",
            "<li><a href=\"//sq.wikipedia.org/\" lang=\"sq\">Shqip</a></li>\n",
            "<li><a href=\"//scn.wikipedia.org/\" lang=\"scn\">Sicilianu</a></li>\n",
            "<li><a href=\"//si.wikipedia.org/\" lang=\"si\" title=\"Siá¹hala\">à·à·à¶à·à¶½</a></li>\n",
            "<li><a href=\"//sd.wikipedia.org/\" lang=\"sd\" title=\"SindhÄ«\"><bdi dir=\"rtl\">Ø³ÙÚÙ</bdi></a></li>\n",
            "<li><a href=\"//szl.wikipedia.org/\" lang=\"szl\">ÅlÅ¯nski</a></li>\n",
            "<li><a href=\"//su.wikipedia.org/\" lang=\"su\">Basa Sunda</a></li>\n",
            "<li><a href=\"//sw.wikipedia.org/\" lang=\"sw\">Kiswahili</a></li>\n",
            "<li><a href=\"//tl.wikipedia.org/\" lang=\"tl\">Tagalog</a></li>\n",
            "<li><a href=\"//tt.wikipedia.org/\" lang=\"tt\">Ð¢Ð°ÑÐ°ÑÑÐ° / TatarÃ§a</a></li>\n",
            "<li><a href=\"//te.wikipedia.org/\" lang=\"te\" title=\"Telugu\">à°¤à±à°²à±à°à±</a></li>\n",
            "<li><a href=\"//bug.wikipedia.org/\" lang=\"bug\">á¨á¨ á¨á¨á¨á¨ / Basa Ugi</a></li>\n",
            "<li><a href=\"//vec.wikipedia.org/\" lang=\"vec\">VÃ¨neto</a></li>\n",
            "<li><a href=\"//wa.wikipedia.org/\" lang=\"wa\">Walon</a></li>\n",
            "<li><a href=\"//wuu.wikipedia.org/\" lang=\"wuu\" title=\"WÃº YÇ\" data-convert-hans=\"å´è¯­\" id=\"wuu_wiki\">å³èª</a></li>\n",
            "<li><a href=\"//yi.wikipedia.org/\" lang=\"yi\" title=\"YidiÅ¡\"><bdi dir=\"rtl\">××Ö´×××©</bdi></a></li>\n",
            "<li><a href=\"//yo.wikipedia.org/\" lang=\"yo\">YorÃ¹bÃ¡</a></li>\n",
            "<li><a href=\"//zh-yue.wikipedia.org/\" lang=\"yue\" title=\"Yuht YÃºh / Jyut6 jyu5\" data-convert-hans=\"ç²¤è¯­\" id=\"zh-yue_wiki\">ç²µèª</a></li>\n",
            "<li><a href=\"//diq.wikipedia.org/\" lang=\"diq\" title=\"Zazaki\">Zazaki</a></li>\n",
            "<li><a href=\"//bat-smg.wikipedia.org/\" lang=\"sgs\">Å½emaitÄÅ¡ka</a></li>\n",
            "</ul>\n",
            "</div>\n",
            "<!-- Bookshelves -->\n",
            "<h2 class=\"bookshelf-container\">\n",
            "<span class=\"bookshelf\">\n",
            "<span class=\"text\">\n",
            "<bdi dir=\"ltr\">\n",
            "1&nbsp;000+\n",
            "</bdi>\n",
            "<span class=\"jsl10n\" data-jsl10n=\"entries\">\n",
            "articles\n",
            "</span>\n",
            "</span>\n",
            "</span>\n",
            "</h2>\n",
            "<!-- 1,000+ content pages -->\n",
            "<div class=\"langlist hlist\" data-el-section=\"secondary links\">\n",
            "<ul>\n",
            "<li><a href=\"//kbd.wikipedia.org/\" lang=\"kbd\" title=\"Adighabze\">ÐÐ´ÑÐ³ÑÐ±Ð·Ñ</a></li>\n",
            "<li><a href=\"//ang.wikipedia.org/\" lang=\"ang\">Ãnglisc</a></li>\n",
            "<li><a href=\"//ab.wikipedia.org/\" lang=\"ab\" title=\"Aá¹sua\">ÐÒ§ÑÑÐ°</a></li>\n",
            "<li><a href=\"//hyw.wikipedia.org/\" lang=\"hyw\" title=\"Arevmdahayeren\">Ô±ÖÕ¥ÖÕ´Õ¿Õ¡Õ°Õ¡ÕµÕ¥ÖÕ§Õ¶</a></li>\n",
            "<li><a href=\"//roa-rup.wikipedia.org/\" lang=\"roa-rup\">ArmÃ£neashce</a></li>\n",
            "<li><a href=\"//frp.wikipedia.org/\" lang=\"frp\">Arpitan</a></li>\n",
            "<li><a href=\"//ig.wikipedia.org/\" lang=\"ig\">asá»¥sá»¥ bekee maá»bá»¥ asá»¥sá»¥ oyibo</a></li>\n",
            "<li><a href=\"//arc.wikipedia.org/\" lang=\"arc\" title=\"ÄtÃ»rÄyÃ¢\"><bdi dir=\"rtl\">ÜÜ¬ÜÜªÜÜ</bdi></a></li>\n",
            "<li><a href=\"//gn.wikipedia.org/\" lang=\"gn\">AvaÃ±eâáº½</a></li>\n",
            "<li><a href=\"//av.wikipedia.org/\" lang=\"av\" title=\"Avar\">ÐÐ²Ð°Ñ</a></li>\n",
            "<li><a href=\"//ay.wikipedia.org/\" lang=\"ay\">Aymar</a></li>\n",
            "<li><a href=\"//bjn.wikipedia.org/\" lang=\"bjn\">Bahasa Banjar</a></li>\n",
            "<li><a href=\"//bh.wikipedia.org/\" lang=\"bh\" title=\"BhÅjapurÄ«\">à¤­à¥à¤à¤ªà¥à¤°à¥</a></li>\n",
            "<li><a href=\"//bcl.wikipedia.org/\" lang=\"bcl\">Bikol Central</a></li>\n",
            "<li><a href=\"//bi.wikipedia.org/\" lang=\"bi\">Bislama</a></li>\n",
            "<li><a href=\"//bo.wikipedia.org/\" lang=\"bo\" title=\"Bod Skad\">à½à½¼à½à¼à½¡à½²à½</a></li>\n",
            "<li><a href=\"//bxr.wikipedia.org/\" lang=\"bxr\" title=\"Buryad\">ÐÑÑÑÐ°Ð´</a></li>\n",
            "<li><a href=\"//cbk-zam.wikipedia.org/\" lang=\"cbk-x-zam\">Chavacano de Zamboanga</a></li>\n",
            "<li><a href=\"//co.wikipedia.org/\" lang=\"co\">Corsu</a></li>\n",
            "<li><a href=\"//za.wikipedia.org/\" lang=\"za\">Vahcuengh / è©±å®</a></li>\n",
            "<li><a href=\"//se.wikipedia.org/\" lang=\"se\">DavvisÃ¡megiella</a></li>\n",
            "<li><a href=\"//pdc.wikipedia.org/\" lang=\"pdc\">Deitsch</a></li>\n",
            "<li><a href=\"//dsb.wikipedia.org/\" lang=\"dsb\">Dolnoserbski</a></li>\n",
            "<li><a href=\"//myv.wikipedia.org/\" lang=\"myv\" title=\"Erzjanj\">Ð­ÑÐ·ÑÐ½Ñ</a></li>\n",
            "<li><a href=\"//ext.wikipedia.org/\" lang=\"ext\">EstremeÃ±u</a></li>\n",
            "<li><a href=\"//hif.wikipedia.org/\" lang=\"hif\">Fiji Hindi</a></li>\n",
            "<li><a href=\"//fur.wikipedia.org/\" lang=\"fur\">Furlan</a></li>\n",
            "<li><a href=\"//gv.wikipedia.org/\" lang=\"gv\">Gaelg</a></li>\n",
            "<li><a href=\"//gag.wikipedia.org/\" lang=\"gag\">Gagauz</a></li>\n",
            "<li><a href=\"//ki.wikipedia.org/\" lang=\"ki\">GÄ©kÅ©yÅ©</a></li>\n",
            "<li><a href=\"//glk.wikipedia.org/\" lang=\"glk\" title=\"GilÉki\"><bdi dir=\"rtl\">Ú¯ÛÙÚ©Û</bdi></a></li>\n",
            "<li><a href=\"//gan.wikipedia.org/\" lang=\"gan\" title=\"Gon ua\" data-convert-hans=\"èµ£è¯­\" id=\"gan_wiki\">è´èª</a></li>\n",
            "<li><a href=\"//hak.wikipedia.org/\" lang=\"hak\">Hak-kÃ¢-ngÃ® / å®¢å®¶èª</a></li>\n",
            "<li><a href=\"//xal.wikipedia.org/\" lang=\"xal\" title=\"HalÊ¹mg\">Ð¥Ð°Ð»ÑÐ¼Ð³</a></li>\n",
            "<li><a href=\"//ha.wikipedia.org/\" lang=\"ha\"><span lang=\"ha-Latn\">Hausa</span> / <bdi lang=\"ha-Arab\" dir=\"rtl\">ÙÙÙÙØ³ÙØ§</bdi></a></li>\n",
            "<li><a href=\"//haw.wikipedia.org/\" lang=\"haw\">Ê»Ålelo HawaiÊ»i</a></li>\n",
            "<li><a href=\"//ie.wikipedia.org/\" lang=\"ie\">Interlingue</a></li>\n",
            "<li><a href=\"//kl.wikipedia.org/\" lang=\"kl\">Kalaallisut</a></li>\n",
            "<li><a href=\"//pam.wikipedia.org/\" lang=\"pam\">Kapampangan</a></li>\n",
            "<li><a href=\"//csb.wikipedia.org/\" lang=\"csb\">KaszÃ«bsczi</a></li>\n",
            "<li><a href=\"//kw.wikipedia.org/\" lang=\"kw\">Kernewek</a></li>\n",
            "<li><a href=\"//km.wikipedia.org/\" lang=\"km\" title=\"PhÃ©asa KhmÃ©r\">áá¶áá¶ááááá</a></li>\n",
            "<li><a href=\"//rw.wikipedia.org/\" lang=\"rw\">Kinyarwanda</a></li>\n",
            "<li><a href=\"//kv.wikipedia.org/\" lang=\"kv\" title=\"Komi\">ÐÐ¾Ð¼Ð¸</a></li>\n",
            "<li><a href=\"//kg.wikipedia.org/\" lang=\"kg\">Kongo</a></li>\n",
            "<li><a href=\"//gom.wikipedia.org/\" lang=\"gom\">à¤à¥à¤à¤à¤£à¥ / Konknni</a></li>\n",
            "<li><a href=\"//lo.wikipedia.org/\" lang=\"lo\" title=\"Phaasaa Laao\">àºàº²àºªàº²àº¥àº²àº§</a></li>\n",
            "<li><a href=\"//lad.wikipedia.org/\" lang=\"lad\" title=\"Ladino\"><span lang=\"lad-Latn\">Dzhudezmo</span> / <bdi lang=\"lad-Hebr\" dir=\"rtl\">××××× ×</bdi></a></li>\n",
            "<li><a href=\"//lbe.wikipedia.org/\" lang=\"lbe\" title=\"LakËu\">ÐÐ°ÐºÐºÑ</a></li>\n",
            "<li><a href=\"//lez.wikipedia.org/\" lang=\"lez\" title=\"Lezgi\">ÐÐµÐ·Ð³Ð¸</a></li>\n",
            "<li><a href=\"//ln.wikipedia.org/\" lang=\"ln\">LingÃ¡la</a></li>\n",
            "<li><a href=\"//jbo.wikipedia.org/\" lang=\"jbo\">lojban</a></li>\n",
            "<li><a href=\"//lrc.wikipedia.org/\" lang=\"lrc\" title=\"LÃ¶riyÃ©-Å omÄlÄ«\"><bdi dir=\"rtl\">ÙÛØ±Û Ø´ÙÙØ§ÙÛ</bdi></a></li>\n",
            "<li><a href=\"//lg.wikipedia.org/\" lang=\"lg\">Luganda</a></li>\n",
            "<li><a href=\"//lij.wikipedia.org/\" lang=\"lij\">LÃ¬gure</a></li>\n",
            "<li><a href=\"//mt.wikipedia.org/\" lang=\"mt\">Malti</a></li>\n",
            "<li><a href=\"//ty.wikipedia.org/\" lang=\"ty\">Reo MÄâohi</a></li>\n",
            "<li><a href=\"//mi.wikipedia.org/\" lang=\"mi\">MÄori</a></li>\n",
            "<li><a href=\"//mwl.wikipedia.org/\" lang=\"mwl\">MirandÃ©s</a></li>\n",
            "<li><a href=\"//mdf.wikipedia.org/\" lang=\"mdf\" title=\"MokÅ¡enj\">ÐÐ¾ÐºÑÐµÐ½Ñ</a></li>\n",
            "<li><a href=\"//nah.wikipedia.org/\" lang=\"nah\">NÄhuatlahtÅlli</a></li>\n",
            "<li><a href=\"//na.wikipedia.org/\" lang=\"na\">Dorerin Naoero</a></li>\n",
            "<li><a href=\"//nds-nl.wikipedia.org/\" lang=\"nds-nl\">Nedersaksisch</a></li>\n",
            "<li><a href=\"//frr.wikipedia.org/\" lang=\"frr\">Nordfriisk</a></li>\n",
            "<li><a href=\"//nrm.wikipedia.org/\" lang=\"roa-x-nrm\">Nouormand / Normaund</a></li>\n",
            "<li><a href=\"//nov.wikipedia.org/\" lang=\"nov\">Novial</a></li>\n",
            "<li><a href=\"//as.wikipedia.org/\" lang=\"as\" title=\"ÃxÃ´miya\">à¦à¦¸à¦®à§à¦¯à¦¾à¦¼</a></li>\n",
            "<li><a href=\"//pi.wikipedia.org/\" lang=\"pi\" title=\"PÄá¸·i\">à¤ªà¤¾à¤²à¤¿</a></li>\n",
            "<li><a href=\"//pag.wikipedia.org/\" lang=\"pag\">PangasinÃ¡n</a></li>\n",
            "<li><a href=\"//pap.wikipedia.org/\" lang=\"pap\">Papiamentu</a></li>\n",
            "<li><a href=\"//koi.wikipedia.org/\" lang=\"koi\" title=\"Perem Komi\">ÐÐµÑÐµÐ¼ ÐÐ¾Ð¼Ð¸</a></li>\n",
            "<li><a href=\"//pfl.wikipedia.org/\" lang=\"pfl\">PfÃ¤lzisch</a></li>\n",
            "<li><a href=\"//pcd.wikipedia.org/\" lang=\"pcd\">Picard</a></li>\n",
            "<li><a href=\"//krc.wikipedia.org/\" lang=\"krc\" title=\"QaraÃ§ayâMalqar\">ÐÑÐ°ÑÐ°ÑÐ°Ð¹âÐÐ°Ð»ÐºÑÐ°Ñ</a></li>\n",
            "<li><a href=\"//kaa.wikipedia.org/\" lang=\"kaa\">Qaraqalpaqsha</a></li>\n",
            "<li><a href=\"//crh.wikipedia.org/\" lang=\"crh\">QÄ±rÄ±mtatarca</a></li>\n",
            "<li><a href=\"//ksh.wikipedia.org/\" lang=\"ksh\">Ripoarisch</a></li>\n",
            "<li><a href=\"//rm.wikipedia.org/\" lang=\"rm\">Rumantsch</a></li>\n",
            "<li><a href=\"//rue.wikipedia.org/\" lang=\"rue\" title=\"Rusinâskyj Yazyk\">Ð ÑÑÐ¸Ð½ÑÑÐºÑÐ¹ Ð¯Ð·ÑÐº</a></li>\n",
            "<li><a href=\"//sc.wikipedia.org/\" lang=\"sc\">Sardu</a></li>\n",
            "<li><a href=\"//stq.wikipedia.org/\" lang=\"stq\">Seeltersk</a></li>\n",
            "<li><a href=\"//nso.wikipedia.org/\" lang=\"nso\">Sesotho sa Leboa</a></li>\n",
            "<li><a href=\"//sn.wikipedia.org/\" lang=\"sn\">ChiShona</a></li>\n",
            "<li><a href=\"//so.wikipedia.org/\" lang=\"so\">Soomaaliga</a></li>\n",
            "<li><a href=\"//srn.wikipedia.org/\" lang=\"srn\">Sranantongo</a></li>\n",
            "<li><a href=\"//kab.wikipedia.org/\" lang=\"kab\">Taqbaylit</a></li>\n",
            "<li><a href=\"//roa-tara.wikipedia.org/\" lang=\"roa\">TarandÃ­ne</a></li>\n",
            "<li><a href=\"//tet.wikipedia.org/\" lang=\"tet\">Tetun</a></li>\n",
            "<li><a href=\"//tpi.wikipedia.org/\" lang=\"tpi\">Tok Pisin</a></li>\n",
            "<li><a href=\"//to.wikipedia.org/\" lang=\"to\">faka Tonga</a></li>\n",
            "<li><a href=\"//tk.wikipedia.org/\" lang=\"tk\">TÃ¼rkmenÃ§e</a></li>\n",
            "<li><a href=\"//tyv.wikipedia.org/\" lang=\"tyv\" title=\"Tyva dyl\">Ð¢ÑÐ²Ð° Ð´ÑÐ»</a></li>\n",
            "<li><a href=\"//udm.wikipedia.org/\" lang=\"udm\" title=\"Udmurt\">Ð£Ð´Ð¼ÑÑÑ</a></li>\n",
            "<li><a href=\"//ug.wikipedia.org/\" lang=\"ug\"><bdi dir=\"rtl\">Ø¦ÛÙØºÛØ±ÚÙ</bdi></a></li>\n",
            "<li><a href=\"//vep.wikipedia.org/\" lang=\"vep\">VepsÃ¤n</a></li>\n",
            "<li><a href=\"//fiu-vro.wikipedia.org/\" lang=\"fiu-vro\">VÃµro</a></li>\n",
            "<li><a href=\"//vls.wikipedia.org/\" lang=\"vls\">West-Vlams</a></li>\n",
            "<li><a href=\"//wo.wikipedia.org/\" lang=\"wo\">Wolof</a></li>\n",
            "<li><a href=\"//xh.wikipedia.org/\" lang=\"xh\">isiXhosa</a></li>\n",
            "<li><a href=\"//zea.wikipedia.org/\" lang=\"zea\">ZeÃªuws</a></li>\n",
            "<li><a href=\"//zu.wikipedia.org/\" lang=\"zu\">isiZulu</a></li>\n",
            "<li><a href=\"//dv.wikipedia.org/\" lang=\"dv\" title=\"ÞÞ¨ÞÞÞ¨ÞÞ­ÞÞ¨\"><bdi dir=\"rtl\">ÞÞ¨ÞÞ¬ÞÞ¨ÞÞ¦ÞÞ°</bdi></a></li>\n",
            "</ul>\n",
            "</div>\n",
            "<!-- Bookshelves -->\n",
            "<h2 class=\"bookshelf-container\">\n",
            "<span class=\"bookshelf\">\n",
            "<span class=\"text\">\n",
            "<bdi dir=\"ltr\">\n",
            "100+\n",
            "</bdi>\n",
            "<span class=\"jsl10n\" data-jsl10n=\"entries\">\n",
            "articles\n",
            "</span>\n",
            "</span>\n",
            "</span>\n",
            "</h2>\n",
            "<!-- 100+ content pages -->\n",
            "<div class=\"langlist langlist-tiny hlist\" data-el-section=\"secondary links\">\n",
            "<ul>\n",
            "<li><a href=\"//ak.wikipedia.org/\" lang=\"ak\">Akan</a></li>\n",
            "<li><a href=\"//bm.wikipedia.org/\" lang=\"bm\">Bamanankan</a></li>\n",
            "<li><a href=\"//ch.wikipedia.org/\" lang=\"ch\">Chamoru</a></li>\n",
            "<li><a href=\"//ny.wikipedia.org/\" lang=\"ny\">Chichewa</a></li>\n",
            "<li><a href=\"//ee.wikipedia.org/\" lang=\"ee\">EÊegbe</a></li>\n",
            "<li><a href=\"//ff.wikipedia.org/\" lang=\"ff\">Fulfulde</a></li>\n",
            "<li><a href=\"//got.wikipedia.org/\" lang=\"got\" title=\"Gutisk\">ð²ð¿ðð¹ððº</a></li>\n",
            "<li><a href=\"//iu.wikipedia.org/\" lang=\"iu\">áááááá¦ / Inuktitut</a></li>\n",
            "<li><a href=\"//ik.wikipedia.org/\" lang=\"ik\">IÃ±upiak</a></li>\n",
            "<li><a href=\"//ks.wikipedia.org/\" lang=\"ks\" title=\"Kashmiri\"><bdi dir=\"rtl\">ÙØ´ÙÙØ±Ù</bdi></a></li>\n",
            "<li><a href=\"//gcr.wikipedia.org/\" lang=\"gcr\" title=\"KriyÃ²l Gwiyannen\">KriyÃ²l Gwiyannen</a></li>\n",
            "<li><a href=\"//ltg.wikipedia.org/\" lang=\"ltg\">LatgaÄ¼u</a></li>\n",
            "<li><a href=\"//fj.wikipedia.org/\" lang=\"fj\">Na Vosa Vaka-Viti</a></li>\n",
            "<li><a href=\"//cr.wikipedia.org/\" lang=\"cr\">NÄhiyawÄwin / áá¦áá­ááá£</a></li>\n",
            "<li><a href=\"//pih.wikipedia.org/\" lang=\"pih\">Norfuk / Pitkern</a></li>\n",
            "<li><a href=\"//om.wikipedia.org/\" lang=\"om\">Afaan Oromoo</a></li>\n",
            "<li><a href=\"//pnt.wikipedia.org/\" lang=\"pnt\" title=\"PontiakÃ¡\">Î Î¿Î½ÏÎ¹Î±ÎºÎ¬</a></li>\n",
            "<li><a href=\"//dz.wikipedia.org/\" lang=\"dz\" title=\"Rdzong-Kha\">à½¢à¾«à½¼à½à¼à½</a></li>\n",
            "<li><a href=\"//rmy.wikipedia.org/\" lang=\"rmy\">Romani</a></li>\n",
            "<li><a href=\"//rn.wikipedia.org/\" lang=\"rn\">Kirundi</a></li>\n",
            "<li><a href=\"//sm.wikipedia.org/\" lang=\"sm\">Gagana SÄmoa</a></li>\n",
            "<li><a href=\"//sg.wikipedia.org/\" lang=\"sg\">SÃ¤ngÃ¶</a></li>\n",
            "<li><a href=\"//st.wikipedia.org/\" lang=\"st\">Sesotho</a></li>\n",
            "<li><a href=\"//tn.wikipedia.org/\" lang=\"tn\">Setswana</a></li>\n",
            "<li><a href=\"//cu.wikipedia.org/\" lang=\"cu\" title=\"SlovÄnÄ­skÅ­\">Ð¡Ð»Ð¾Ð²Ñ£ÌÐ½ÑÑÐºÑ / â°â°â°â°â°¡â°â° â°â°â°</a></li>\n",
            "<li><a href=\"//ss.wikipedia.org/\" lang=\"ss\">SiSwati</a></li>\n",
            "<li><a href=\"//ti.wikipedia.org/\" lang=\"ti\" title=\"TigriÃ±Ã±Ä\">áµáá­á</a></li>\n",
            "<li><a href=\"//chr.wikipedia.org/\" lang=\"chr\" title=\"Tsalagi\">á£á³á©</a></li>\n",
            "<li><a href=\"//chy.wikipedia.org/\" lang=\"chy\">TsÄhesenÄstsestotse</a></li>\n",
            "<li><a href=\"//ve.wikipedia.org/\" lang=\"ve\">Tshivená¸a</a></li>\n",
            "<li><a href=\"//ts.wikipedia.org/\" lang=\"ts\">Xitsonga</a></li>\n",
            "<li><a href=\"//tum.wikipedia.org/\" lang=\"tum\">chiTumbuka</a></li>\n",
            "<li><a href=\"//tw.wikipedia.org/\" lang=\"tw\">Twi</a></li>\n",
            "<li><a href=\"//nqo.wikipedia.org/\" lang=\"nqo\" title=\"N&#x27;Ko\">ßßß</a></li>\n",
            "</ul>\n",
            "</div>\n",
            "<!-- Other languages -->\n",
            "<div class=\"langlist langlist-others hlist\" data-el-section=\"other languages\">\n",
            "<ul>\n",
            "<li><a href=\"//meta.wikimedia.org/wiki/List_of_Wikipedias\" lang=\"en\">Other languages</a></li>\n",
            "<li><a href=\"//de.wikipedia.org/wiki/Wikipedia:Sprachen\" lang=\"de\">Weitere Sprachen</a></li>\n",
            "<li><a href=\"//meta.wikimedia.org/wiki/Liste_des_Wikip%C3%A9dias\" lang=\"fr\">Autres langues</a></li>\n",
            "<li><a href=\"//pl.wikipedia.org/wiki/Wikipedia:Lista_wersji_j%C4%99zykowych\" lang=\"pl\">Kompletna lista jÄzykÃ³w</a></li>\n",
            "<li><a href=\"//ja.wikipedia.org/wiki/Wikipedia:%E5%A4%9A%E8%A8%80%E8%AA%9E%E3%83%97%E3%83%AD%E3%82%B8%E3%82%A7%E3%82%AF%E3%83%88%E3%81%A8%E3%81%97%E3%81%A6%E3%81%AE%E3%82%A6%E3%82%A3%E3%82%AD%E3%83%9A%E3%83%87%E3%82%A3%E3%82%A2\" lang=\"ja\">ä»ã®è¨èª</a></li>\n",
            "<li><a href=\"//meta.wikimedia.org/wiki/Lista_de_Wikipedias\" lang=\"es\">Otros idiomas</a></li>\n",
            "<li><a href=\"//zh.wikipedia.org/wiki/Wikipedia:%E7%BB%B4%E5%9F%BA%E7%99%BE%E7%A7%91%E8%AF%AD%E8%A8%80%E5%88%97%E8%A1%A8\" lang=\"zh\" data-convert-hans=\"å¶ä»è¯­è¨\" id=\"zh_others\">å¶ä»èªè¨</a></li>\n",
            "<li><a href=\"//ru.wikipedia.org/wiki/%D0%92%D0%B8%D0%BA%D0%B8%D0%BF%D0%B5%D0%B4%D0%B8%D1%8F:%D0%A1%D0%92\" lang=\"ru\">ÐÑÑÐ³Ð¸Ðµ ÑÐ·ÑÐºÐ¸</a></li>\n",
            "<li><a href=\"//eo.wikipedia.org/wiki/Vikipedio:Internacia_Vikipedio\" lang=\"eo\">Aliaj lingvoj</a></li>\n",
            "<li><a href=\"//meta.wikimedia.org/wiki/%EC%9C%84%ED%82%A4%EB%B0%B1%EA%B3%BC%EC%9D%98_%EB%AA%A9%EB%A1%9D\" lang=\"ko\">ë¤ë¥¸ ì¸ì´</a></li>\n",
            "<li><a href=\"//vi.wikipedia.org/wiki/Wikipedia:Phi%C3%AAn_b%E1%BA%A3n_ng%C3%B4n_ng%E1%BB%AF\" lang=\"vi\">NgÃ´n ngá»¯ khÃ¡c</a></li>\n",
            "</ul>\n",
            "</div>\n",
            "</div>\n",
            "</div>\n",
            "<hr>\n",
            "<div class=\"footer\" data-el-section=\"other projects\">\n",
            "<div class=\"footer-sidebar\">\n",
            "<div class=\"footer-sidebar-content\">\n",
            "<div class=\"footer-sidebar-icon sprite svg-Wikimedia-logo_black\">\n",
            "</div>\n",
            "<div class=\"footer-sidebar-text jsl10n\" data-jsl10n=\"footer-description\">\n",
            "Wikipedia is hosted by the <a href=\"//wikimediafoundation.org/\">Wikimedia Foundation</a>, a non-profit organization that also hosts a range of other projects.\n",
            "</div>\n",
            "</div>\n",
            "</div>\n",
            "<div class=\"footer-sidebar app-badges\">\n",
            "<div class=\"footer-sidebar-content\">\n",
            "<div class=\"footer-sidebar-text\">\n",
            "<div class=\"footer-sidebar-icon sprite svg-wikipedia_app_tile\"></div>\n",
            "<strong class=\"jsl10n\" data-jsl10n=\"app-links.title\">\n",
            "<a class=\"jsl10n\" data-jsl10n=\"app-links.url\" href=\"https://en.wikipedia.org/wiki/List_of_Wikipedia_mobile_applications\">\n",
            "Download Wikipedia for Android or iOS\n",
            "</a>\n",
            "</strong>\n",
            "<p class=\"jsl10n\" data-jsl10n=\"app-links.description\">\n",
            "Save your favorite articles to read offline, sync your reading lists across devices and customize your reading experience with the official Wikipedia app.\n",
            "</p>\n",
            "<ul>\n",
            "<li class=\"app-badge app-badge-android\">\n",
            "<a target=\"_blank\" href=\"//play.google.com/store/apps/details?id=org.wikipedia&referrer=utm_source%3Dportal%26utm_medium%3Dbutton%26anid%3Dadmob\">\n",
            "<span class=\"sprite svg-badge_google_play_store\">\n",
            "</span></a>\n",
            "</li>\n",
            "<li class=\"app-badge app-badge-ios\">\n",
            "<a target=\"_blank\" href=\"//itunes.apple.com/app/apple-store/id324715238?pt=208305&ct=portal&mt=8\">\n",
            "<span class=\"sprite svg-badge_ios_app_store\">\n",
            "</span></a>\n",
            "</li>\n",
            "</ul>\n",
            "</div>\n",
            "</div>\n",
            "</div>\n",
            "<div class=\"other-projects\">\n",
            "<div class=\"other-project\">\n",
            "<a class=\"other-project-link\" href=\"//commons.wikimedia.org/\">\n",
            "<div class=\"other-project-icon\">\n",
            "<div class=\"sprite svg-Commons-logo_sister\"></div>\n",
            "</div>\n",
            "<div class=\"other-project-text\">\n",
            "<span class=\"other-project-title jsl10n\" data-jsl10n=\"commons.name\">Commons</span>\n",
            "<span class=\"other-project-tagline jsl10n\" data-jsl10n=\"commons.slogan\">Freely usable photos &amp; more</span>\n",
            "</div>\n",
            "</a>\n",
            "</div>\n",
            "<div class=\"other-project\">\n",
            "<a class=\"other-project-link\" href=\"//www.wikivoyage.org/\">\n",
            "<div class=\"other-project-icon\">\n",
            "<div class=\"sprite svg-Wikivoyage-logo_sister\"></div>\n",
            "</div>\n",
            "<div class=\"other-project-text\">\n",
            "<span class=\"other-project-title jsl10n\" data-jsl10n=\"wikivoyage.name\">Wikivoyage</span>\n",
            "<span class=\"other-project-tagline jsl10n\" data-jsl10n=\"wikivoyage.slogan\">Free travel guide</span>\n",
            "</div>\n",
            "</a>\n",
            "</div>\n",
            "<div class=\"other-project\">\n",
            "<a class=\"other-project-link\" href=\"//www.wiktionary.org/\">\n",
            "<div class=\"other-project-icon\">\n",
            "<div class=\"sprite svg-Wiktionary-logo_sister\"></div>\n",
            "</div>\n",
            "<div class=\"other-project-text\">\n",
            "<span class=\"other-project-title jsl10n\" data-jsl10n=\"wiktionary.name\">Wiktionary</span>\n",
            "<span class=\"other-project-tagline jsl10n\" data-jsl10n=\"wiktionary.slogan\">Free dictionary</span>\n",
            "</div>\n",
            "</a>\n",
            "</div>\n",
            "<div class=\"other-project\">\n",
            "<a class=\"other-project-link\" href=\"//www.wikibooks.org/\">\n",
            "<div class=\"other-project-icon\">\n",
            "<div class=\"sprite svg-Wikibooks-logo_sister\"></div>\n",
            "</div>\n",
            "<div class=\"other-project-text\">\n",
            "<span class=\"other-project-title jsl10n\" data-jsl10n=\"wikibooks.name\">Wikibooks</span>\n",
            "<span class=\"other-project-tagline jsl10n\" data-jsl10n=\"wikibooks.slogan\">Free textbooks</span>\n",
            "</div>\n",
            "</a>\n",
            "</div>\n",
            "<div class=\"other-project\">\n",
            "<a class=\"other-project-link\" href=\"//www.wikinews.org/\">\n",
            "<div class=\"other-project-icon\">\n",
            "<div class=\"sprite svg-Wikinews-logo_sister\"></div>\n",
            "</div>\n",
            "<div class=\"other-project-text\">\n",
            "<span class=\"other-project-title jsl10n\" data-jsl10n=\"wikinews.name\">Wikinews</span>\n",
            "<span class=\"other-project-tagline jsl10n\" data-jsl10n=\"wikinews.slogan\">Free news source</span>\n",
            "</div>\n",
            "</a>\n",
            "</div>\n",
            "<div class=\"other-project\">\n",
            "<a class=\"other-project-link\" href=\"//www.wikidata.org/\">\n",
            "<div class=\"other-project-icon\">\n",
            "<div class=\"sprite svg-Wikidata-logo_sister\"></div>\n",
            "</div>\n",
            "<div class=\"other-project-text\">\n",
            "<span class=\"other-project-title jsl10n\" data-jsl10n=\"wikidata.name\">Wikidata</span>\n",
            "<span class=\"other-project-tagline jsl10n\" data-jsl10n=\"wikidata.slogan\">Free knowledge base</span>\n",
            "</div>\n",
            "</a>\n",
            "</div>\n",
            "<div class=\"other-project\">\n",
            "<a class=\"other-project-link\" href=\"//www.wikiversity.org/\">\n",
            "<div class=\"other-project-icon\">\n",
            "<div class=\"sprite svg-Wikiversity-logo_sister\"></div>\n",
            "</div>\n",
            "<div class=\"other-project-text\">\n",
            "<span class=\"other-project-title jsl10n\" data-jsl10n=\"wikiversity.name\">Wikiversity</span>\n",
            "<span class=\"other-project-tagline jsl10n\" data-jsl10n=\"wikiversity.slogan\">Free course materials</span>\n",
            "</div>\n",
            "</a>\n",
            "</div>\n",
            "<div class=\"other-project\">\n",
            "<a class=\"other-project-link\" href=\"//www.wikiquote.org/\">\n",
            "<div class=\"other-project-icon\">\n",
            "<div class=\"sprite svg-Wikiquote-logo_sister\"></div>\n",
            "</div>\n",
            "<div class=\"other-project-text\">\n",
            "<span class=\"other-project-title jsl10n\" data-jsl10n=\"wikiquote.name\">Wikiquote</span>\n",
            "<span class=\"other-project-tagline jsl10n\" data-jsl10n=\"wikiquote.slogan\">Free quote compendium</span>\n",
            "</div>\n",
            "</a>\n",
            "</div>\n",
            "<div class=\"other-project\">\n",
            "<a class=\"other-project-link\" href=\"//www.mediawiki.org/\">\n",
            "<div class=\"other-project-icon\">\n",
            "<div class=\"sprite svg-MediaWiki-logo_sister\"></div>\n",
            "</div>\n",
            "<div class=\"other-project-text\">\n",
            "<span class=\"other-project-title jsl10n\" data-jsl10n=\"mediawiki.name\">MediaWiki</span>\n",
            "<span class=\"other-project-tagline jsl10n\" data-jsl10n=\"mediawiki.slogan\">Free &amp; open wiki application</span>\n",
            "</div>\n",
            "</a>\n",
            "</div>\n",
            "<div class=\"other-project\">\n",
            "<a class=\"other-project-link\" href=\"//www.wikisource.org/\">\n",
            "<div class=\"other-project-icon\">\n",
            "<div class=\"sprite svg-Wikisource-logo_sister\"></div>\n",
            "</div>\n",
            "<div class=\"other-project-text\">\n",
            "<span class=\"other-project-title jsl10n\" data-jsl10n=\"wikisource.name\">Wikisource</span>\n",
            "<span class=\"other-project-tagline jsl10n\" data-jsl10n=\"wikisource.slogan\">Free library</span>\n",
            "</div>\n",
            "</a>\n",
            "</div>\n",
            "<div class=\"other-project\">\n",
            "<a class=\"other-project-link\" href=\"//species.wikimedia.org/\">\n",
            "<div class=\"other-project-icon\">\n",
            "<div class=\"sprite svg-Wikispecies-logo_sister\"></div>\n",
            "</div>\n",
            "<div class=\"other-project-text\">\n",
            "<span class=\"other-project-title jsl10n\" data-jsl10n=\"wikispecies.name\">Wikispecies</span>\n",
            "<span class=\"other-project-tagline jsl10n\" data-jsl10n=\"wikispecies.slogan\">Free species directory</span>\n",
            "</div>\n",
            "</a>\n",
            "</div>\n",
            "<div class=\"other-project\">\n",
            "<a class=\"other-project-link\" href=\"//meta.wikimedia.org/\">\n",
            "<div class=\"other-project-icon\">\n",
            "<div class=\"sprite svg-Meta-Wiki-logo_sister\"></div>\n",
            "</div>\n",
            "<div class=\"other-project-text\">\n",
            "<span class=\"other-project-title jsl10n\" data-jsl10n=\"metawiki.name\">Meta-Wiki</span>\n",
            "<span class=\"other-project-tagline jsl10n\" data-jsl10n=\"metawiki.slogan\">Community coordination &amp; documentation</span>\n",
            "</div>\n",
            "</a>\n",
            "</div>\n",
            "</div>\n",
            "</div>\n",
            "<p class=\"site-license\">\n",
            "<small class=\"jsl10n\" data-jsl10n=\"license\">This page is available under the <a href=\"https://creativecommons.org/licenses/by-sa/3.0/\">Creative Commons Attribution-ShareAlike License</a></small>\n",
            "<small class=\"jsl10n\" data-jsl10n=\"terms\"><a href=\"//meta.wikimedia.org/wiki/Terms_of_Use\">Terms of Use</a></small>\n",
            "<small class=\"jsl10n\" data-jsl10n=\"Privacy Policy\"><a href=\"//meta.wikimedia.org/wiki/Privacy_policy\">Privacy Policy</a></small>\n",
            "</p>\n",
            "<![if gt IE 7]>\n",
            "<script>\n",
            "var rtlLangs = ['ar','arc','arz','bcc','bgn','bqi','ckb','dv','fa','glk','he','kk-cn','kk-arab','khw','ks','ku-arab','lki','lrc','luz','mzn','nqo','pnb','ps','sd','sdh','ug','ur','yi'],\n",
            "    translationsHash = '143e780b',\n",
            "    /*\n",
            "     This object is used by l10n scripts (page-localized.js, topten-localized.js)\n",
            "     to reveal the page content after l10n json is loaded.\n",
            "     A timer is also set to prevent JS from hiding page content indefinitelty.\n",
            "     This script is inlined to safeguard againt script loading errors and placed\n",
            "     at the top of the page to safeguard against any HTML loading/parsing errors.\n",
            "    */\n",
            "    wmL10nVisible = {\n",
            "        ready: false,\n",
            "        makeVisible: function(){\n",
            "            if ( !wmL10nVisible.ready ) {\n",
            "                wmL10nVisible.ready = true;\n",
            "                document.body.className += ' jsl10n-visible';\n",
            "            }\n",
            "        }\n",
            "    };\n",
            "    window.setTimeout( wmL10nVisible.makeVisible, 1000 )\n",
            "</script>\n",
            "<script src=\"portal/wikipedia.org/assets/js/index-c1cb7f1287.js\"></script>\n",
            "<![endif]>\n",
            "<![if gt IE 9]>\n",
            "<script src=\"portal/wikipedia.org/assets/js/gt-ie9-a2995951ca.js\"></script>\n",
            "<![endif]>\n",
            "<![if lte IE 9]>\n",
            "<style>\n",
            ".styled-select {\n",
            "        display: block;\n",
            "    }\n",
            "</style>\n",
            "<![endif]>\n",
            "<!--[if lte IE 9]>\n",
            "<style>\n",
            "    .langlist > ul {\n",
            "        text-align: center;\n",
            "    }\n",
            "    .langlist > ul > li {\n",
            "        display: inline;\n",
            "        padding: 0 0.5em;\n",
            "    }\n",
            "</style>\n",
            "<![endif]-->\n",
            "</body>\n",
            "</html>\n",
            "\n"
          ],
          "name": "stdout"
        }
      ]
    },
    {
      "cell_type": "markdown",
      "metadata": {
        "id": "o6-p1M6MCNAs",
        "colab_type": "text"
      },
      "source": [
        "##working on json files"
      ]
    },
    {
      "cell_type": "code",
      "metadata": {
        "id": "cjTrmyQb6uKd",
        "colab_type": "code",
        "colab": {}
      },
      "source": [
        "# Load JSON from local sysytem\n",
        "with open(\"a_movie.json\") as json_file:\n",
        "    json_data = json.load(json_file)\n",
        "\n",
        "# Print each key-value pair in json_data\n",
        "for k in json_data.keys():\n",
        "    print(k + ': ', json_data[k])"
      ],
      "execution_count": 0,
      "outputs": []
    },
    {
      "cell_type": "code",
      "metadata": {
        "id": "O7OAN8KPCUE2",
        "colab_type": "code",
        "outputId": "6cd137a0-8b7c-4b41-d647-b757eb431a50",
        "colab": {
          "base_uri": "https://localhost:8080/",
          "height": 54
        }
      },
      "source": [
        "# Import requests package\n",
        "import requests\n",
        "\n",
        "# Assign URL to variable\n",
        "url = 'http://www.omdbapi.com/?apikey=72bc447a&t=the+social+network'\n",
        "\n",
        "# Package the request, send the request and catch the response\n",
        "r = requests.get(url)\n",
        "\n",
        "# Print the text of the response\n",
        "print(r.text)"
      ],
      "execution_count": 0,
      "outputs": [
        {
          "output_type": "stream",
          "text": [
            "{\"Title\":\"The Social Network\",\"Year\":\"2010\",\"Rated\":\"PG-13\",\"Released\":\"01 Oct 2010\",\"Runtime\":\"120 min\",\"Genre\":\"Biography, Drama\",\"Director\":\"David Fincher\",\"Writer\":\"Aaron Sorkin (screenplay), Ben Mezrich (book)\",\"Actors\":\"Jesse Eisenberg, Rooney Mara, Bryan Barter, Dustin Fitzsimons\",\"Plot\":\"As Harvard student Mark Zuckerberg creates the social networking site that would become known as Facebook, he is sued by the twins who claimed he stole their idea, and by the co-founder who was later squeezed out of the business.\",\"Language\":\"English, French\",\"Country\":\"USA\",\"Awards\":\"Won 3 Oscars. Another 169 wins & 179 nominations.\",\"Poster\":\"https://m.media-amazon.com/images/M/MV5BOGUyZDUxZjEtMmIzMC00MzlmLTg4MGItZWJmMzBhZjE0Mjc1XkEyXkFqcGdeQXVyMTMxODk2OTU@._V1_SX300.jpg\",\"Ratings\":[{\"Source\":\"Internet Movie Database\",\"Value\":\"7.7/10\"},{\"Source\":\"Rotten Tomatoes\",\"Value\":\"96%\"},{\"Source\":\"Metacritic\",\"Value\":\"95/100\"}],\"Metascore\":\"95\",\"imdbRating\":\"7.7\",\"imdbVotes\":\"584,673\",\"imdbID\":\"tt1285016\",\"Type\":\"movie\",\"DVD\":\"11 Jan 2011\",\"BoxOffice\":\"$96,400,000\",\"Production\":\"Columbia Pictures\",\"Website\":\"N/A\",\"Response\":\"True\"}\n"
          ],
          "name": "stdout"
        }
      ]
    },
    {
      "cell_type": "code",
      "metadata": {
        "id": "ybIlO7VXYiUc",
        "colab_type": "code",
        "outputId": "cce0997f-39ce-47d3-89cb-d80bd39e5383",
        "colab": {
          "base_uri": "https://localhost:8080/",
          "height": 462
        }
      },
      "source": [
        "# Import package\n",
        "import requests\n",
        "\n",
        "# Assign URL to variable\n",
        "url = 'http://www.omdbapi.com/?apikey=72bc447a&t=social+network'\n",
        "\n",
        "# Package the request, send the request and catch the response\n",
        "r= requests.get(url)\n",
        "\n",
        "# Decode the JSON data into a dictionary\n",
        "json_data = r.json()\n",
        "\n",
        "# Print each key-value pair\n",
        "for k in json_data.keys():\n",
        "    print(k + ': ', json_data[k])\n"
      ],
      "execution_count": 0,
      "outputs": [
        {
          "output_type": "stream",
          "text": [
            "Title:  The Social Network\n",
            "Year:  2010\n",
            "Rated:  PG-13\n",
            "Released:  01 Oct 2010\n",
            "Runtime:  120 min\n",
            "Genre:  Biography, Drama\n",
            "Director:  David Fincher\n",
            "Writer:  Aaron Sorkin (screenplay), Ben Mezrich (book)\n",
            "Actors:  Jesse Eisenberg, Rooney Mara, Bryan Barter, Dustin Fitzsimons\n",
            "Plot:  As Harvard student Mark Zuckerberg creates the social networking site that would become known as Facebook, he is sued by the twins who claimed he stole their idea, and by the co-founder who was later squeezed out of the business.\n",
            "Language:  English, French\n",
            "Country:  USA\n",
            "Awards:  Won 3 Oscars. Another 169 wins & 179 nominations.\n",
            "Poster:  https://m.media-amazon.com/images/M/MV5BOGUyZDUxZjEtMmIzMC00MzlmLTg4MGItZWJmMzBhZjE0Mjc1XkEyXkFqcGdeQXVyMTMxODk2OTU@._V1_SX300.jpg\n",
            "Ratings:  [{'Source': 'Internet Movie Database', 'Value': '7.7/10'}, {'Source': 'Rotten Tomatoes', 'Value': '96%'}, {'Source': 'Metacritic', 'Value': '95/100'}]\n",
            "Metascore:  95\n",
            "imdbRating:  7.7\n",
            "imdbVotes:  584,673\n",
            "imdbID:  tt1285016\n",
            "Type:  movie\n",
            "DVD:  11 Jan 2011\n",
            "BoxOffice:  $96,400,000\n",
            "Production:  Columbia Pictures\n",
            "Website:  N/A\n",
            "Response:  True\n"
          ],
          "name": "stdout"
        }
      ]
    },
    {
      "cell_type": "code",
      "metadata": {
        "id": "E3P-ddEJZFHy",
        "colab_type": "code",
        "outputId": "db6ede19-ba9f-4575-81e3-abc292051b7e",
        "colab": {
          "base_uri": "https://localhost:8080/",
          "height": 156
        }
      },
      "source": [
        "# Import package\n",
        "import requests\n",
        "\n",
        "# Assign URL to variable\n",
        "url = 'https://en.wikipedia.org/w/api.php?action=query&prop=extracts&format=json&exintro=&titles=pizza'\n",
        "\n",
        "# Package the request, send the request and catch the response\n",
        "r = requests.get(url)\n",
        "\n",
        "# Decode the JSON data into a dictionary\n",
        "json_data = r.json()\n",
        "\n",
        "# Print the Wikipedia page extract\n",
        "pizza_extract = json_data['query']['pages']['24768']['extract']\n",
        "print(pizza_extract)\n"
      ],
      "execution_count": 0,
      "outputs": [
        {
          "output_type": "stream",
          "text": [
            "<p class=\"mw-empty-elt\">\n",
            "</p>\n",
            "\n",
            "<p><b>Pizza</b> (<small>Italian: </small><span title=\"Representation in the International Phonetic Alphabet (IPA)\">[ˈpittsa]</span>, <small>Neapolitan: </small><span title=\"Representation in the International Phonetic Alphabet (IPA)\">[ˈpittsə]</span>) is a savory dish of Italian origin, consisting of a usually round, flattened base of leavened wheat-based dough topped with tomatoes, cheese, and often various other ingredients (anchovies, olives, meat, etc.) baked at a high temperature, traditionally in a wood-fired oven. A small pizza is sometimes called a pizzetta.\n",
            "</p><p>In Italy, pizza served in formal settings, such as at a restaurant, is presented unsliced and eaten with the use of a knife and fork. In casual settings it is cut into wedges to be eaten while held in the hand.\n",
            "</p><p>The term <i>pizza</i> was first recorded in the 10th century in a Latin manuscript from the Southern Italian town of Gaeta in Lazio, on the border with Campania. Modern pizza was invented in Naples, and the dish and its variants have since become popular in many countries. It has become one of the most popular foods in the world and a common fast food item in Europe and North America, available at pizzerias (restaurants specializing in pizza),  restaurants offering Mediterranean cuisine, and via pizza delivery. Many companies sell ready-baked frozen pizzas to be reheated in an ordinary home oven.\n",
            "</p><p>The <i>Associazione Verace Pizza Napoletana</i> (lit. True Neapolitan Pizza Association) is a non-profit organization founded in 1984 with headquarters in Naples that aims to promote traditional Neapolitan pizza. In 2009, upon Italy's request, Neapolitan pizza was registered with the European Union as a Traditional Speciality Guaranteed dish, and in 2017 the art of its making was included on UNESCO's list of intangible cultural heritage.</p>\n"
          ],
          "name": "stdout"
        }
      ]
    },
    {
      "cell_type": "markdown",
      "metadata": {
        "id": "MRbMXUEWcGVw",
        "colab_type": "text"
      },
      "source": [
        "Twitter API"
      ]
    },
    {
      "cell_type": "code",
      "metadata": {
        "id": "mg1K0jDYcGi_",
        "colab_type": "code",
        "colab": {}
      },
      "source": [
        "# Import package\n",
        "import tweepy\n",
        "\n",
        "# Store OAuth authentication credentials in relevant variables\n",
        "access_token = \"1092294848-aHN7DcRP9B4VMTQIhwqOYiB14YkW92fFO8k8EPy\"\n",
        "access_token_secret = \"X4dHmhPfaksHcQ7SCbmZa2oYBBVSD2g8uIHXsp5CTaksx\"\n",
        "consumer_key = \"nZ6EA0FxZ293SxGNg8g8aP0HM\"\n",
        "consumer_secret = \"fJGEodwe3KiKUnsYJC3VRndj7jevVvXbK2D5EiJ2nehafRgA6i\"\n",
        "\n",
        "# Pass OAuth details to tweepy's OAuth handler\n",
        "auth = tweepy.OAuthHandler(consumer_key, consumer_secret)\n",
        "auth.set_access_token(access_token, access_token_secret)"
      ],
      "execution_count": 0,
      "outputs": []
    }
  ]
}