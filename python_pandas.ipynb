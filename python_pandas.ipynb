{
  "nbformat": 4,
  "nbformat_minor": 0,
  "metadata": {
    "colab": {
      "name": "python_pandas.ipynb",
      "provenance": [],
      "collapsed_sections": [],
      "authorship_tag": "ABX9TyN9YMDQMAUUoGoMhTfLOn8m",
      "include_colab_link": true
    },
    "kernelspec": {
      "name": "python3",
      "display_name": "Python 3"
    }
  },
  "cells": [
    {
      "cell_type": "markdown",
      "metadata": {
        "id": "view-in-github",
        "colab_type": "text"
      },
      "source": [
        "<a href=\"https://colab.research.google.com/github/SurajKande/python-pandas/blob/master/python_pandas.ipynb\" target=\"_parent\"><img src=\"https://colab.research.google.com/assets/colab-badge.svg\" alt=\"Open In Colab\"/></a>"
      ]
    },
    {
      "cell_type": "markdown",
      "metadata": {
        "id": "s_RkfUUotAkI",
        "colab_type": "text"
      },
      "source": [
        "#pandas Basics"
      ]
    },
    {
      "cell_type": "markdown",
      "metadata": {
        "id": "xUEmdnFq3o1I",
        "colab_type": "text"
      },
      "source": [
        "Pandas is an open source library, providing high-performance, easy-to-use data structures and data analysis tools for Python.\n",
        "\n",
        "The DataFrame is one of Pandas' most important data structures. It's basically a way to store tabular data where you can label the rows and the columns. One way to build a DataFrame is from a dictionary"
      ]
    },
    {
      "cell_type": "code",
      "metadata": {
        "id": "aeERpI3S3ht-",
        "colab_type": "code",
        "colab": {}
      },
      "source": [
        "# Pre-defined lists\n",
        "\n",
        "names = ['United States', 'Australia', 'Japan', 'India', 'Russia', 'Morocco', 'Egypt']\n",
        "dr =  [True, False, False, False, True, True, True]\n",
        "cpc = [809, 731, 588, 18, 200, 70, 45]\n",
        "\n",
        "\n",
        "# Import pandas as pd\n",
        "import pandas as pd\n",
        "\n",
        "# Create dictionary my_dict with three key:value pairs: my_dict\n",
        "my_dict={'country':names,\n",
        "          'drives_right':dr,\n",
        "          'cars_per_cap':cpc }\n",
        "\n",
        "# Build a DataFrame cars from my_dict: cars\n",
        "cars = pd.DataFrame(my_dict)\n",
        "\n",
        "# Specify row labels of cars\n",
        "row_labels = ['US', 'AUS', 'JPN', 'IN', 'RU', 'MOR', 'EG']\n",
        "cars.index = row_labels"
      ],
      "execution_count": 0,
      "outputs": []
    },
    {
      "cell_type": "markdown",
      "metadata": {
        "id": "3S0lEtbc4jgs",
        "colab_type": "text"
      },
      "source": [
        "Putting data in a dictionary and then building a DataFrame works, but it's not very efficient. What if you're dealing with millions of observations? In those cases, the data is typically available as files with a regular structure. One of those file types is the CSV file, "
      ]
    },
    {
      "cell_type": "markdown",
      "metadata": {
        "id": "khGCfJb94Z0V",
        "colab_type": "text"
      },
      "source": [
        "\n",
        "to import CSV data into Python as a Pandas DataFrame you can use read_csv()."
      ]
    },
    {
      "cell_type": "code",
      "metadata": {
        "id": "0Z6jXDyW4bzp",
        "colab_type": "code",
        "colab": {}
      },
      "source": [
        "#to read data from a csv file\n",
        "df = pd.read_csv('cars.csv')"
      ],
      "execution_count": 0,
      "outputs": []
    },
    {
      "cell_type": "markdown",
      "metadata": {
        "id": "9uMa4sEM4toV",
        "colab_type": "text"
      },
      "source": [
        "index_col, an argument of read_csv(), that you can use to specify which column  \n",
        "in the CSV file should be used as a row label"
      ]
    },
    {
      "cell_type": "code",
      "metadata": {
        "id": "5nnjvCKB42L9",
        "colab_type": "code",
        "colab": {}
      },
      "source": [
        "df = pd.read_csv('cars.csv',index_col=0)"
      ],
      "execution_count": 0,
      "outputs": []
    },
    {
      "cell_type": "markdown",
      "metadata": {
        "id": "XBqxXVHM4_uz",
        "colab_type": "text"
      },
      "source": [
        "we can index and select Pandas DataFrames in many different ways.              \n",
        "The simplest way is to use Square brackets."
      ]
    },
    {
      "cell_type": "code",
      "metadata": {
        "id": "f9KKGHZc5JDK",
        "colab_type": "code",
        "colab": {}
      },
      "source": [
        "# Print out country column as Pandas Series\n",
        "print(df[\"country\"])\n",
        "\n",
        "# Print out country column as Pandas DataFrame\n",
        "print(df[[\"country\"]])\n",
        "\n",
        "# Print out DataFrame with country and drives_right columns\n",
        "print(df[[\"country\", \"drives_right\"]])"
      ],
      "execution_count": 0,
      "outputs": []
    },
    {
      "cell_type": "markdown",
      "metadata": {
        "id": "hYtbHSul5XG4",
        "colab_type": "text"
      },
      "source": [
        "Pandas Series is a one-dimensional labeled array capable of holding data of any type (integer, string, float, python objects, etc.).\n",
        "\n",
        " The axis labels are collectively called index. Pandas Series is nothing but a column in an excel sheet."
      ]
    },
    {
      "cell_type": "code",
      "metadata": {
        "id": "p7DFDNni5eKG",
        "colab_type": "code",
        "colab": {}
      },
      "source": [
        "# Print out first 3 observations\n",
        "print(df[0:3])\n",
        "\n",
        "# Print out fourth, fifth and sixth observation\n",
        "print(df[3:6])"
      ],
      "execution_count": 0,
      "outputs": []
    },
    {
      "cell_type": "code",
      "metadata": {
        "id": "oZ0xfVa5f8lA",
        "colab_type": "code",
        "colab": {}
      },
      "source": [
        "# to read first 5 rows of a dataframe\n",
        "df.head()"
      ],
      "execution_count": 0,
      "outputs": []
    },
    {
      "cell_type": "code",
      "metadata": {
        "id": "Eoc_Q-iUoGtV",
        "colab_type": "code",
        "colab": {}
      },
      "source": [
        "# to read last 5 rows of a dataframe\n",
        "df.tail()"
      ],
      "execution_count": 0,
      "outputs": []
    },
    {
      "cell_type": "code",
      "metadata": {
        "id": "R36444MwoGpF",
        "colab_type": "code",
        "colab": {}
      },
      "source": [
        "#to print out the  columns index\n",
        "df.columns"
      ],
      "execution_count": 0,
      "outputs": []
    },
    {
      "cell_type": "code",
      "metadata": {
        "id": "CVobVHHDokGH",
        "colab_type": "code",
        "colab": {}
      },
      "source": [
        "#to know the number of rows and columns of the data\n",
        "df.shape"
      ],
      "execution_count": 0,
      "outputs": []
    },
    {
      "cell_type": "code",
      "metadata": {
        "id": "dFxnyAVIop_g",
        "colab_type": "code",
        "colab": {}
      },
      "source": [
        "#to get additional info\n",
        "df.info()"
      ],
      "execution_count": 0,
      "outputs": []
    },
    {
      "cell_type": "code",
      "metadata": {
        "id": "cCLqQdmsPN_V",
        "colab_type": "code",
        "colab": {}
      },
      "source": [
        "#to remove rows with conditions\n",
        "syntax: df.drop(labels=None, axis=0, index=None, columns=None, level=None, inplace=False, errors='raise')\n",
        "\n",
        "#example\n",
        "remove_indexs = df[df['Duration'] == '2016-17'].index      # will get the indexs of rows with Duraion = 2016-17\n",
        "df.drop(remove_indexs, inplace = True)                       "
      ],
      "execution_count": 0,
      "outputs": []
    },
    {
      "cell_type": "markdown",
      "metadata": {
        "id": "ap_ocMjI5yGg",
        "colab_type": "text"
      },
      "source": [
        "other methods to access the data farme is using **loc and iloc**\n",
        "\n",
        "\n",
        "With loc and iloc you can do practically any data selection operation on DataFrames you can think of.\n",
        "\n",
        " **loc** is label-based, which means that you have to specify rows and columns based on their row and column labels. \n",
        " \n",
        " **iloc** is integer index based, so you have to specify rows and columns by their integer index"
      ]
    },
    {
      "cell_type": "code",
      "metadata": {
        "id": "erhucJww59MJ",
        "colab_type": "code",
        "colab": {}
      },
      "source": [
        "# Print out observation for Japan\n",
        "print(df.loc['JPN'])    #using loc to print \n",
        "print(df.iloc[2])       #using iloc to print \n",
        "\n",
        "# Print out observations for Australia and Egypt\n",
        "print(df.loc[[\"AUS\",\"EG\"]])\n",
        "print(df.iloc[[1,6]])\n",
        "\n",
        "# Print out drives_right value of Morocco\n",
        "print(df.loc[\"MOR\"][\"drives_right\"])\n",
        "\n",
        "# Print sub-DataFrame\n",
        "print(df.loc[[\"RU\", \"MOR\"], [\"country\", \"drives_right\"]])\n",
        "\n",
        "\n",
        "# Print out drives_right column as Series\n",
        "print(df[\"drives_right\"])\n",
        "\n",
        "# Print out drives_right column as DataFrame\n",
        "print(df[[\"drives_right\"]])\n",
        "\n",
        "# Print out cars_per_cap and drives_right as DataFrame\n",
        "print(df[[\"cars_per_cap\", \"drives_right\"]])"
      ],
      "execution_count": 0,
      "outputs": []
    },
    {
      "cell_type": "code",
      "metadata": {
        "id": "gbpYpX3T9Jyj",
        "colab_type": "code",
        "colab": {}
      },
      "source": [
        "# Extract drives_right column as Series\n",
        "dr = df['drives_right']\n",
        "\n",
        "# Use dr to subset dataframe of cars\n",
        "sel = df[dr]\n",
        "    #or\n",
        "sel = df[df['drives_right']]  # one liner no need of the variable\n",
        "#OUTPUT:\n",
        "#              cars_per_cap         country    drives_right\n",
        "#          US            809   United States          True\n",
        "#          RU            200          Russia          True\n",
        "#          MOR            70         Morocco          True\n",
        "#          EG             45           Egypt          True\n",
        "\n",
        "# Create car_maniac: observations that have a cars_per_cap over 500\n",
        "cars_maniac = cars[cars[\"cars_per_cap\"] > 500]"
      ],
      "execution_count": 0,
      "outputs": []
    },
    {
      "cell_type": "markdown",
      "metadata": {
        "id": "KS0YC577-Q7o",
        "colab_type": "text"
      },
      "source": [
        " np.logical_and(), np.logical_or() and np.logical_not(),\n",
        " the Numpy variants of the and, or and not operators,\n",
        " \n",
        "  those can also use them on Pandas Series to do more advanced filtering operations."
      ]
    },
    {
      "cell_type": "code",
      "metadata": {
        "id": "GNf51ufk-Vsh",
        "colab_type": "code",
        "colab": {}
      },
      "source": [
        "\n",
        "# Create medium: observations with cars_per_cap between 100 and 500\n",
        "medium = df[np.logical_and(df[\"cars_per_cap\"]>100,df[\"cars_per_cap\"]<500)]"
      ],
      "execution_count": 0,
      "outputs": []
    },
    {
      "cell_type": "markdown",
      "metadata": {
        "id": "H0vIqW0lCypo",
        "colab_type": "text"
      },
      "source": [
        "Looping over dataframe\n",
        "\n",
        "Iterating over a Pandas DataFrame is typically done with the iterrows() method. Used in a for loop, every observation is iterated over and on every iteration the row label and actual row contents are available:\n",
        "\n",
        "```\n",
        "for lab, row in brics.iterrows() :\n",
        "    ...\n",
        "```\n",
        "\n",
        "The row data that's generated by iterrows() on every run is a Pandas Series"
      ]
    },
    {
      "cell_type": "code",
      "metadata": {
        "id": "WNKLe5rBDLgo",
        "colab_type": "code",
        "colab": {}
      },
      "source": [
        "# Iterate over rows of cars\n",
        "for label,row_content in df.iterrows():\n",
        "    print(label)\n",
        "    print(row_content)"
      ],
      "execution_count": 0,
      "outputs": []
    },
    {
      "cell_type": "markdown",
      "metadata": {
        "id": "XCvpOzdMDr2z",
        "colab_type": "text"
      },
      "source": [
        "If you want to add a column to a DataFrame by calling a function on another    \n",
        " column,  use apply(), instead of looping over the entire dataframe "
      ]
    },
    {
      "cell_type": "code",
      "metadata": {
        "id": "zUaOSHsTD5X_",
        "colab_type": "code",
        "colab": {}
      },
      "source": [
        "# Use .apply(str.upper)\n",
        "df[\"COUNTRY\"] = df[\"country\"].apply(str.upper)\n",
        "print(df[[\"country\",\"COUNTRY\"]])\n",
        "#OUTPUT:\n",
        "    #           country        COUNTRY\n",
        "    # US   United States  UNITED STATES\n",
        "    # AUS      Australia      AUSTRALIA\n",
        "    # JPN          Japan          JAPAN\n",
        "    # IN           India          INDIA\n",
        "    # RU          Russia         RUSSIA\n",
        "    # MOR        Morocco        MOROCCO\n",
        "    # EG           Egypt          EGYPT"
      ],
      "execution_count": 0,
      "outputs": []
    },
    {
      "cell_type": "code",
      "metadata": {
        "id": "E2l4Xxiwqocd",
        "colab_type": "code",
        "colab": {}
      },
      "source": [
        "# example on a tweets.csv datasset \n",
        "\n",
        "##Q: To count the languages used in the tweets\n",
        "\n",
        "#Consider the tweeter dataset in tweets.csv\n",
        "# Import pandas\n",
        "import pandas as pd\n",
        "df = pd.read_csv('tweets.csv')\n",
        "\n",
        "# Initialize an empty dictionary: langs_count\n",
        "langs_count = {}\n",
        "\n",
        "col = df['lang']\n",
        "for entry in col:\n",
        "    # If the language is in langs_count, add 1 \n",
        "    if entry in langs_count.keys():\n",
        "        langs_count[entry]+=1\n",
        "    # Else add the language to langs_count, set the value to 1\n",
        "    else:\n",
        "        langs_count[entry] = 1\n",
        "\n",
        "#to print the 1st row since those mostly are lables\n",
        "print(df.head())\n",
        "# Print the populated dictionary\n",
        "print(langs_count)"
      ],
      "execution_count": 0,
      "outputs": []
    },
    {
      "cell_type": "code",
      "metadata": {
        "id": "9Nry9XmmnNGF",
        "colab_type": "code",
        "colab": {}
      },
      "source": [
        "#to read only 5 rows from the fine use nrows,..header to mention if header is there or not\n",
        "df = pd.read_csv('twets.csv',nrows=5, header=None )"
      ],
      "execution_count": 0,
      "outputs": []
    }
  ]
}