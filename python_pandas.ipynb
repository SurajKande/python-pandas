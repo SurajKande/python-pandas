{
  "nbformat": 4,
  "nbformat_minor": 0,
  "metadata": {
    "colab": {
      "name": "python_pandas.ipynb",
      "provenance": [],
      "collapsed_sections": [
        "RNc0oux7r4SY",
        "GDw5TKp526Hy"
      ],
      "authorship_tag": "ABX9TyNzewQo/K1iAA4hBd/W1fzR",
      "include_colab_link": true
    },
    "kernelspec": {
      "name": "python3",
      "display_name": "Python 3"
    }
  },
  "cells": [
    {
      "cell_type": "markdown",
      "metadata": {
        "id": "view-in-github",
        "colab_type": "text"
      },
      "source": [
        "<a href=\"https://colab.research.google.com/github/SurajKande/python-pandas/blob/master/python_pandas.ipynb\" target=\"_parent\"><img src=\"https://colab.research.google.com/assets/colab-badge.svg\" alt=\"Open In Colab\"/></a>"
      ]
    },
    {
      "cell_type": "markdown",
      "metadata": {
        "id": "s_RkfUUotAkI",
        "colab_type": "text"
      },
      "source": [
        "#python pandas Basics:\n",
        "pandas is an open source library, providing high-performance, easy-to-use data structures and data analysis tools for Python."
      ]
    },
    {
      "cell_type": "markdown",
      "metadata": {
        "id": "xUEmdnFq3o1I",
        "colab_type": "text"
      },
      "source": [
        "The DataFrame is one of Pandas' most important data structures. It's basically a way to store tabular data where you can label the rows and the columns. One way to build a DataFrame is from a dictionary"
      ]
    },
    {
      "cell_type": "code",
      "metadata": {
        "id": "aeERpI3S3ht-",
        "colab_type": "code",
        "colab": {}
      },
      "source": [
        "# Pre-defined lists\n",
        "\n",
        "names = ['United States', 'Australia', 'Japan', 'India', 'Russia', 'Morocco', 'Egypt']\n",
        "dr =  [True, False, False, False, True, True, True]\n",
        "cpc = [809, 731, 588, 18, 200, 70, 45]\n",
        "\n",
        "\n",
        "# Import pandas as pd\n",
        "import pandas as pd\n",
        "\n",
        "# Create dictionary my_dict with three key:value pairs: my_dict\n",
        "my_dict={'country':names,\n",
        "          'drives_right':dr,\n",
        "          'cars_per_cap':cpc }\n",
        "\n",
        "# Build a DataFrame from a dictonary\n",
        "cars = pd.DataFrame(my_dict)          #here name of data frame is cars\n",
        "\n",
        "# Specify row labels of cars\n",
        "row_labels = ['US', 'AUS', 'JPN', 'IN', 'RU', 'MOR', 'EG']\n",
        "cars.index = row_labels"
      ],
      "execution_count": 0,
      "outputs": []
    },
    {
      "cell_type": "markdown",
      "metadata": {
        "id": "3S0lEtbc4jgs",
        "colab_type": "text"
      },
      "source": [
        "Putting data in a dictionary and then building a DataFrame works, but it's not very efficient. What if you're dealing with millions of observations? In those cases, the data is typically available as files with a regular structure. One of those file types is the CSV file, "
      ]
    },
    {
      "cell_type": "markdown",
      "metadata": {
        "id": "khGCfJb94Z0V",
        "colab_type": "text"
      },
      "source": [
        "\n",
        "to import CSV data into Python as a Pandas DataFrame you can use read_csv()."
      ]
    },
    {
      "cell_type": "code",
      "metadata": {
        "id": "0Z6jXDyW4bzp",
        "colab_type": "code",
        "colab": {}
      },
      "source": [
        "#to read data from a csv file\n",
        "df = pd.read_csv('cars.csv')    "
      ],
      "execution_count": 0,
      "outputs": []
    },
    {
      "cell_type": "markdown",
      "metadata": {
        "id": "9uMa4sEM4toV",
        "colab_type": "text"
      },
      "source": [
        "index_col, an argument of read_csv(), that you can use to specify which column  \n",
        "in the CSV file should be used as a row label"
      ]
    },
    {
      "cell_type": "code",
      "metadata": {
        "id": "5nnjvCKB42L9",
        "colab_type": "code",
        "colab": {}
      },
      "source": [
        "df = pd.read_csv('cars.csv',index_col=0)"
      ],
      "execution_count": 0,
      "outputs": []
    },
    {
      "cell_type": "markdown",
      "metadata": {
        "id": "XBqxXVHM4_uz",
        "colab_type": "text"
      },
      "source": [
        "we can index and select Pandas DataFrames in many different ways.              \n",
        "The simplest way is to use Square brackets."
      ]
    },
    {
      "cell_type": "code",
      "metadata": {
        "id": "NsBw40ABdrXI",
        "colab_type": "code",
        "outputId": "0d01800e-3e27-4d97-f5cf-8e4b85933650",
        "colab": {
          "base_uri": "https://localhost:8080/",
          "height": 34
        }
      },
      "source": [
        "data_frame = cars    # cars data used here is created in cell 1\n",
        "print(type(data_frame))"
      ],
      "execution_count": 0,
      "outputs": [
        {
          "output_type": "stream",
          "text": [
            "<class 'pandas.core.frame.DataFrame'>\n"
          ],
          "name": "stdout"
        }
      ]
    },
    {
      "cell_type": "code",
      "metadata": {
        "id": "f9KKGHZc5JDK",
        "colab_type": "code",
        "outputId": "9677e92f-2dca-4e87-cb14-6826fea87c92",
        "colab": {
          "base_uri": "https://localhost:8080/",
          "height": 170
        }
      },
      "source": [
        "# Print out country column as Pandas Series\n",
        "print(data_frame[\"country\"])\n",
        "print(type(data_frame[\"country\"]))"
      ],
      "execution_count": 0,
      "outputs": [
        {
          "output_type": "stream",
          "text": [
            "US     United States\n",
            "AUS        Australia\n",
            "JPN            Japan\n",
            "IN             India\n",
            "RU            Russia\n",
            "MOR          Morocco\n",
            "EG             Egypt\n",
            "Name: country, dtype: object\n",
            "<class 'pandas.core.series.Series'>\n"
          ],
          "name": "stdout"
        }
      ]
    },
    {
      "cell_type": "code",
      "metadata": {
        "id": "5AMIyYBJeKPp",
        "colab_type": "code",
        "outputId": "3fc40026-9d5b-48cd-ce75-4c186ad598c3",
        "colab": {
          "base_uri": "https://localhost:8080/",
          "height": 170
        }
      },
      "source": [
        "# Print out country column as Pandas DataFrame\n",
        "print(data_frame[[\"country\"]])\n",
        "print(type(data_frame[[\"country\"]]))"
      ],
      "execution_count": 0,
      "outputs": [
        {
          "output_type": "stream",
          "text": [
            "           country\n",
            "US   United States\n",
            "AUS      Australia\n",
            "JPN          Japan\n",
            "IN           India\n",
            "RU          Russia\n",
            "MOR        Morocco\n",
            "EG           Egypt\n",
            "<class 'pandas.core.frame.DataFrame'>\n"
          ],
          "name": "stdout"
        }
      ]
    },
    {
      "cell_type": "code",
      "metadata": {
        "id": "epHHNaIveKH4",
        "colab_type": "code",
        "outputId": "4d6bed43-7003-4ffa-a04b-71ae269b9f62",
        "colab": {
          "base_uri": "https://localhost:8080/",
          "height": 170
        }
      },
      "source": [
        "# Print out DataFrame with country and drives_right columns\n",
        "print(data_frame[[\"country\", \"drives_right\"]])\n",
        "print(type(data_frame[[\"country\", \"drives_right\"]]))"
      ],
      "execution_count": 0,
      "outputs": [
        {
          "output_type": "stream",
          "text": [
            "           country  drives_right\n",
            "US   United States          True\n",
            "AUS      Australia         False\n",
            "JPN          Japan         False\n",
            "IN           India         False\n",
            "RU          Russia          True\n",
            "MOR        Morocco          True\n",
            "EG           Egypt          True\n",
            "<class 'pandas.core.frame.DataFrame'>\n"
          ],
          "name": "stdout"
        }
      ]
    },
    {
      "cell_type": "markdown",
      "metadata": {
        "id": "hYtbHSul5XG4",
        "colab_type": "text"
      },
      "source": [
        "**Pandas Series** is a one-dimensional labeled array capable of holding data of any type (integer, string, float, python objects, etc.).\n",
        "\n",
        " The axis labels are collectively called index. Pandas Series is nothing but a column in an excel sheet."
      ]
    },
    {
      "cell_type": "code",
      "metadata": {
        "id": "ZkbXQwjbsNNG",
        "colab_type": "code",
        "outputId": "a9980d49-d870-4bcd-d225-f261ead75313",
        "colab": {
          "base_uri": "https://localhost:8080/",
          "height": 266
        }
      },
      "source": [
        "data_frame"
      ],
      "execution_count": 0,
      "outputs": [
        {
          "output_type": "execute_result",
          "data": {
            "text/html": [
              "<div>\n",
              "<style scoped>\n",
              "    .dataframe tbody tr th:only-of-type {\n",
              "        vertical-align: middle;\n",
              "    }\n",
              "\n",
              "    .dataframe tbody tr th {\n",
              "        vertical-align: top;\n",
              "    }\n",
              "\n",
              "    .dataframe thead th {\n",
              "        text-align: right;\n",
              "    }\n",
              "</style>\n",
              "<table border=\"1\" class=\"dataframe\">\n",
              "  <thead>\n",
              "    <tr style=\"text-align: right;\">\n",
              "      <th></th>\n",
              "      <th>country</th>\n",
              "      <th>drives_right</th>\n",
              "      <th>cars_per_cap</th>\n",
              "    </tr>\n",
              "  </thead>\n",
              "  <tbody>\n",
              "    <tr>\n",
              "      <th>US</th>\n",
              "      <td>United States</td>\n",
              "      <td>True</td>\n",
              "      <td>809</td>\n",
              "    </tr>\n",
              "    <tr>\n",
              "      <th>AUS</th>\n",
              "      <td>Australia</td>\n",
              "      <td>False</td>\n",
              "      <td>731</td>\n",
              "    </tr>\n",
              "    <tr>\n",
              "      <th>JPN</th>\n",
              "      <td>Japan</td>\n",
              "      <td>False</td>\n",
              "      <td>588</td>\n",
              "    </tr>\n",
              "    <tr>\n",
              "      <th>IN</th>\n",
              "      <td>India</td>\n",
              "      <td>False</td>\n",
              "      <td>18</td>\n",
              "    </tr>\n",
              "    <tr>\n",
              "      <th>RU</th>\n",
              "      <td>Russia</td>\n",
              "      <td>True</td>\n",
              "      <td>200</td>\n",
              "    </tr>\n",
              "    <tr>\n",
              "      <th>MOR</th>\n",
              "      <td>Morocco</td>\n",
              "      <td>True</td>\n",
              "      <td>70</td>\n",
              "    </tr>\n",
              "    <tr>\n",
              "      <th>EG</th>\n",
              "      <td>Egypt</td>\n",
              "      <td>True</td>\n",
              "      <td>45</td>\n",
              "    </tr>\n",
              "  </tbody>\n",
              "</table>\n",
              "</div>"
            ],
            "text/plain": [
              "           country  drives_right  cars_per_cap\n",
              "US   United States          True           809\n",
              "AUS      Australia         False           731\n",
              "JPN          Japan         False           588\n",
              "IN           India         False            18\n",
              "RU          Russia          True           200\n",
              "MOR        Morocco          True            70\n",
              "EG           Egypt          True            45"
            ]
          },
          "metadata": {
            "tags": []
          },
          "execution_count": 15
        }
      ]
    },
    {
      "cell_type": "code",
      "metadata": {
        "id": "p7DFDNni5eKG",
        "colab_type": "code",
        "outputId": "2a06ff1a-04d6-4322-beb3-360e6955f2b3",
        "colab": {
          "base_uri": "https://localhost:8080/",
          "height": 85
        }
      },
      "source": [
        "# Print out first 3 observations\n",
        "print(data_frame[0:3])"
      ],
      "execution_count": 0,
      "outputs": [
        {
          "output_type": "stream",
          "text": [
            "           country  drives_right  cars_per_cap\n",
            "US   United States          True           809\n",
            "AUS      Australia         False           731\n",
            "JPN          Japan         False           588\n"
          ],
          "name": "stdout"
        }
      ]
    },
    {
      "cell_type": "code",
      "metadata": {
        "id": "oZ0xfVa5f8lA",
        "colab_type": "code",
        "outputId": "92e468a2-1233-4e14-a40e-4020fb7c76c9",
        "colab": {
          "base_uri": "https://localhost:8080/",
          "height": 204
        }
      },
      "source": [
        "# to read first 5 rows of a dataframe\n",
        "data_frame.head()"
      ],
      "execution_count": 0,
      "outputs": [
        {
          "output_type": "execute_result",
          "data": {
            "text/html": [
              "<div>\n",
              "<style scoped>\n",
              "    .dataframe tbody tr th:only-of-type {\n",
              "        vertical-align: middle;\n",
              "    }\n",
              "\n",
              "    .dataframe tbody tr th {\n",
              "        vertical-align: top;\n",
              "    }\n",
              "\n",
              "    .dataframe thead th {\n",
              "        text-align: right;\n",
              "    }\n",
              "</style>\n",
              "<table border=\"1\" class=\"dataframe\">\n",
              "  <thead>\n",
              "    <tr style=\"text-align: right;\">\n",
              "      <th></th>\n",
              "      <th>country</th>\n",
              "      <th>drives_right</th>\n",
              "      <th>cars_per_cap</th>\n",
              "    </tr>\n",
              "  </thead>\n",
              "  <tbody>\n",
              "    <tr>\n",
              "      <th>US</th>\n",
              "      <td>United States</td>\n",
              "      <td>True</td>\n",
              "      <td>809</td>\n",
              "    </tr>\n",
              "    <tr>\n",
              "      <th>AUS</th>\n",
              "      <td>Australia</td>\n",
              "      <td>False</td>\n",
              "      <td>731</td>\n",
              "    </tr>\n",
              "    <tr>\n",
              "      <th>JPN</th>\n",
              "      <td>Japan</td>\n",
              "      <td>False</td>\n",
              "      <td>588</td>\n",
              "    </tr>\n",
              "    <tr>\n",
              "      <th>IN</th>\n",
              "      <td>India</td>\n",
              "      <td>False</td>\n",
              "      <td>18</td>\n",
              "    </tr>\n",
              "    <tr>\n",
              "      <th>RU</th>\n",
              "      <td>Russia</td>\n",
              "      <td>True</td>\n",
              "      <td>200</td>\n",
              "    </tr>\n",
              "  </tbody>\n",
              "</table>\n",
              "</div>"
            ],
            "text/plain": [
              "           country  drives_right  cars_per_cap\n",
              "US   United States          True           809\n",
              "AUS      Australia         False           731\n",
              "JPN          Japan         False           588\n",
              "IN           India         False            18\n",
              "RU          Russia          True           200"
            ]
          },
          "metadata": {
            "tags": []
          },
          "execution_count": 10
        }
      ]
    },
    {
      "cell_type": "code",
      "metadata": {
        "id": "Eoc_Q-iUoGtV",
        "colab_type": "code",
        "outputId": "14105732-3f22-442e-c12a-2b5792e14e60",
        "colab": {
          "base_uri": "https://localhost:8080/",
          "height": 204
        }
      },
      "source": [
        "# to read last 5 rows of a dataframe\n",
        "data_frame.tail()"
      ],
      "execution_count": 0,
      "outputs": [
        {
          "output_type": "execute_result",
          "data": {
            "text/html": [
              "<div>\n",
              "<style scoped>\n",
              "    .dataframe tbody tr th:only-of-type {\n",
              "        vertical-align: middle;\n",
              "    }\n",
              "\n",
              "    .dataframe tbody tr th {\n",
              "        vertical-align: top;\n",
              "    }\n",
              "\n",
              "    .dataframe thead th {\n",
              "        text-align: right;\n",
              "    }\n",
              "</style>\n",
              "<table border=\"1\" class=\"dataframe\">\n",
              "  <thead>\n",
              "    <tr style=\"text-align: right;\">\n",
              "      <th></th>\n",
              "      <th>country</th>\n",
              "      <th>drives_right</th>\n",
              "      <th>cars_per_cap</th>\n",
              "    </tr>\n",
              "  </thead>\n",
              "  <tbody>\n",
              "    <tr>\n",
              "      <th>JPN</th>\n",
              "      <td>Japan</td>\n",
              "      <td>False</td>\n",
              "      <td>588</td>\n",
              "    </tr>\n",
              "    <tr>\n",
              "      <th>IN</th>\n",
              "      <td>India</td>\n",
              "      <td>False</td>\n",
              "      <td>18</td>\n",
              "    </tr>\n",
              "    <tr>\n",
              "      <th>RU</th>\n",
              "      <td>Russia</td>\n",
              "      <td>True</td>\n",
              "      <td>200</td>\n",
              "    </tr>\n",
              "    <tr>\n",
              "      <th>MOR</th>\n",
              "      <td>Morocco</td>\n",
              "      <td>True</td>\n",
              "      <td>70</td>\n",
              "    </tr>\n",
              "    <tr>\n",
              "      <th>EG</th>\n",
              "      <td>Egypt</td>\n",
              "      <td>True</td>\n",
              "      <td>45</td>\n",
              "    </tr>\n",
              "  </tbody>\n",
              "</table>\n",
              "</div>"
            ],
            "text/plain": [
              "     country  drives_right  cars_per_cap\n",
              "JPN    Japan         False           588\n",
              "IN     India         False            18\n",
              "RU    Russia          True           200\n",
              "MOR  Morocco          True            70\n",
              "EG     Egypt          True            45"
            ]
          },
          "metadata": {
            "tags": []
          },
          "execution_count": 11
        }
      ]
    },
    {
      "cell_type": "code",
      "metadata": {
        "id": "R36444MwoGpF",
        "colab_type": "code",
        "outputId": "a9ce33ab-13e5-4828-cd55-6a1d0de22591",
        "colab": {
          "base_uri": "https://localhost:8080/",
          "height": 34
        }
      },
      "source": [
        "#to print out the  columns index\n",
        "data_frame.columns"
      ],
      "execution_count": 0,
      "outputs": [
        {
          "output_type": "execute_result",
          "data": {
            "text/plain": [
              "Index(['country', 'drives_right', 'cars_per_cap'], dtype='object')"
            ]
          },
          "metadata": {
            "tags": []
          },
          "execution_count": 12
        }
      ]
    },
    {
      "cell_type": "code",
      "metadata": {
        "id": "CVobVHHDokGH",
        "colab_type": "code",
        "outputId": "3336cd32-4770-4824-ce79-255e5e452ab5",
        "colab": {
          "base_uri": "https://localhost:8080/",
          "height": 34
        }
      },
      "source": [
        "#to know the number of rows and columns of the data\n",
        "data_frame.shape"
      ],
      "execution_count": 0,
      "outputs": [
        {
          "output_type": "execute_result",
          "data": {
            "text/plain": [
              "(7, 3)"
            ]
          },
          "metadata": {
            "tags": []
          },
          "execution_count": 13
        }
      ]
    },
    {
      "cell_type": "code",
      "metadata": {
        "id": "dFxnyAVIop_g",
        "colab_type": "code",
        "outputId": "8956601d-2645-436a-c4c8-227510f7d5ce",
        "colab": {
          "base_uri": "https://localhost:8080/",
          "height": 153
        }
      },
      "source": [
        "#to get additional info\n",
        "data_frame.info()"
      ],
      "execution_count": 0,
      "outputs": [
        {
          "output_type": "stream",
          "text": [
            "<class 'pandas.core.frame.DataFrame'>\n",
            "Index: 7 entries, US to EG\n",
            "Data columns (total 3 columns):\n",
            "country         7 non-null object\n",
            "drives_right    7 non-null bool\n",
            "cars_per_cap    7 non-null int64\n",
            "dtypes: bool(1), int64(1), object(1)\n",
            "memory usage: 175.0+ bytes\n"
          ],
          "name": "stdout"
        }
      ]
    },
    {
      "cell_type": "markdown",
      "metadata": {
        "id": "ap_ocMjI5yGg",
        "colab_type": "text"
      },
      "source": [
        "##methods to access the data frame\n",
        "1. ***loc*** :  is label-based, which means that you have to specify rows and columns based on their row and column labels. \n",
        "\n",
        "2. ***iloc*** : is integer index based, so you have to specify rows and columns by their integer index"
      ]
    },
    {
      "cell_type": "code",
      "metadata": {
        "id": "b3SB_SPxuAFY",
        "colab_type": "code",
        "outputId": "0db83af6-4ce0-4749-c509-8e21338335c2",
        "colab": {
          "base_uri": "https://localhost:8080/",
          "height": 153
        }
      },
      "source": [
        "# Print out observation for Japan\n",
        "print(data_frame.loc['JPN'])    #using loc to print \n",
        "print(data_frame.iloc[2])       #using iloc to print "
      ],
      "execution_count": 0,
      "outputs": [
        {
          "output_type": "stream",
          "text": [
            "country         Japan\n",
            "drives_right    False\n",
            "cars_per_cap      588\n",
            "Name: JPN, dtype: object\n",
            "country         Japan\n",
            "drives_right    False\n",
            "cars_per_cap      588\n",
            "Name: JPN, dtype: object\n"
          ],
          "name": "stdout"
        }
      ]
    },
    {
      "cell_type": "code",
      "metadata": {
        "id": "EtqPq3u2uDva",
        "colab_type": "code",
        "outputId": "79b0bbda-4cdb-4c40-a95b-3d0d843f7400",
        "colab": {
          "base_uri": "https://localhost:8080/",
          "height": 119
        }
      },
      "source": [
        "# Print out observations for Australia and Egypt\n",
        "print(data_frame.loc[[\"AUS\",\"EG\"]])\n",
        "print(data_frame.iloc[[1,6]])\n"
      ],
      "execution_count": 0,
      "outputs": [
        {
          "output_type": "stream",
          "text": [
            "       country  drives_right  cars_per_cap\n",
            "AUS  Australia         False           731\n",
            "EG       Egypt          True            45\n",
            "       country  drives_right  cars_per_cap\n",
            "AUS  Australia         False           731\n",
            "EG       Egypt          True            45\n"
          ],
          "name": "stdout"
        }
      ]
    },
    {
      "cell_type": "code",
      "metadata": {
        "id": "aVdpgpqZuGzX",
        "colab_type": "code",
        "outputId": "29dc7756-bede-453c-d65c-6d4ad0082b3f",
        "colab": {
          "base_uri": "https://localhost:8080/",
          "height": 34
        }
      },
      "source": [
        "# Print out drives_right value of Morocco\n",
        "print(data_frame.loc[\"MOR\"][\"drives_right\"])"
      ],
      "execution_count": 0,
      "outputs": [
        {
          "output_type": "stream",
          "text": [
            "True\n"
          ],
          "name": "stdout"
        }
      ]
    },
    {
      "cell_type": "code",
      "metadata": {
        "id": "MYeykbFquL34",
        "colab_type": "code",
        "outputId": "3df4e71d-2c76-4281-9a4b-09eef7e17129",
        "colab": {
          "base_uri": "https://localhost:8080/",
          "height": 68
        }
      },
      "source": [
        "# Print sub-DataFrame\n",
        "print(data_frame.loc[[\"RU\", \"MOR\"], [\"country\", \"drives_right\"]])"
      ],
      "execution_count": 0,
      "outputs": [
        {
          "output_type": "stream",
          "text": [
            "     country  drives_right\n",
            "RU    Russia          True\n",
            "MOR  Morocco          True\n"
          ],
          "name": "stdout"
        }
      ]
    },
    {
      "cell_type": "code",
      "metadata": {
        "id": "hdjQTEmRuOqo",
        "colab_type": "code",
        "outputId": "b2bca669-70ba-4740-95f6-07edcc9b3cbb",
        "colab": {
          "base_uri": "https://localhost:8080/",
          "height": 187
        }
      },
      "source": [
        "# Print out drives_right column as Series\n",
        "print(data_frame[\"drives_right\"])\n",
        "c\n",
        "print(type(data_frame[\"drives_right\"]))"
      ],
      "execution_count": 0,
      "outputs": [
        {
          "output_type": "stream",
          "text": [
            "US      True\n",
            "AUS    False\n",
            "JPN    False\n",
            "IN     False\n",
            "RU      True\n",
            "MOR     True\n",
            "EG      True\n",
            "Name: drives_right, dtype: bool\n",
            "\n",
            "<class 'pandas.core.series.Series'>\n"
          ],
          "name": "stdout"
        }
      ]
    },
    {
      "cell_type": "code",
      "metadata": {
        "id": "5d3xE_cgu8do",
        "colab_type": "code",
        "outputId": "041e41eb-4c35-4c6c-93d5-80bb4ef257d9",
        "colab": {
          "base_uri": "https://localhost:8080/",
          "height": 187
        }
      },
      "source": [
        "# Print out drives_right column as DataFrame\n",
        "print(data_frame[[\"drives_right\"]])\n",
        "print(\"\")\n",
        "print(type(data_frame[[\"drives_right\"]]))"
      ],
      "execution_count": 0,
      "outputs": [
        {
          "output_type": "stream",
          "text": [
            "     drives_right\n",
            "US           True\n",
            "AUS         False\n",
            "JPN         False\n",
            "IN          False\n",
            "RU           True\n",
            "MOR          True\n",
            "EG           True\n",
            "\n",
            "<class 'pandas.core.frame.DataFrame'>\n"
          ],
          "name": "stdout"
        }
      ]
    },
    {
      "cell_type": "code",
      "metadata": {
        "id": "erhucJww59MJ",
        "colab_type": "code",
        "outputId": "29351785-0a75-4c08-fe62-f49d70f2cef5",
        "colab": {
          "base_uri": "https://localhost:8080/",
          "height": 153
        }
      },
      "source": [
        "# Print out cars_per_cap and drives_right as DataFrame\n",
        "print(data_frame[[\"cars_per_cap\", \"drives_right\"]])"
      ],
      "execution_count": 0,
      "outputs": [
        {
          "output_type": "stream",
          "text": [
            "     cars_per_cap  drives_right\n",
            "US            809          True\n",
            "AUS           731         False\n",
            "JPN           588         False\n",
            "IN             18         False\n",
            "RU            200          True\n",
            "MOR            70          True\n",
            "EG             45          True\n"
          ],
          "name": "stdout"
        }
      ]
    },
    {
      "cell_type": "code",
      "metadata": {
        "id": "bAHhApIHvbmM",
        "colab_type": "code",
        "outputId": "849eb733-e6c8-4c99-a390-cb38b758aa12",
        "colab": {
          "base_uri": "https://localhost:8080/",
          "height": 102
        }
      },
      "source": [
        "#subsetting a dataframe\n",
        "sel = data_frame[data_frame['drives_right']]\n",
        "print(sel)"
      ],
      "execution_count": 0,
      "outputs": [
        {
          "output_type": "stream",
          "text": [
            "           country  drives_right  cars_per_cap\n",
            "US   United States          True           809\n",
            "RU          Russia          True           200\n",
            "MOR        Morocco          True            70\n",
            "EG           Egypt          True            45\n"
          ],
          "name": "stdout"
        }
      ]
    },
    {
      "cell_type": "code",
      "metadata": {
        "id": "gbpYpX3T9Jyj",
        "colab_type": "code",
        "outputId": "f5f1b71a-b2fd-423c-f940-520c9eb30373",
        "colab": {
          "base_uri": "https://localhost:8080/",
          "height": 85
        }
      },
      "source": [
        "# observations that have a cars_per_cap over 500\n",
        "cars_maniac = cars[cars[\"cars_per_cap\"] > 500]\n",
        "print(cars_maniac)"
      ],
      "execution_count": 0,
      "outputs": [
        {
          "output_type": "stream",
          "text": [
            "           country  drives_right  cars_per_cap\n",
            "US   United States          True           809\n",
            "AUS      Australia         False           731\n",
            "JPN          Japan         False           588\n"
          ],
          "name": "stdout"
        }
      ]
    },
    {
      "cell_type": "markdown",
      "metadata": {
        "id": "KS0YC577-Q7o",
        "colab_type": "text"
      },
      "source": [
        "##using logical operators:\n",
        " * np.logical_and()\n",
        " * np.logical_or()\n",
        " * np.logical_not() \n",
        "\n",
        "  we use them on Pandas Series to do more advanced filtering operations."
      ]
    },
    {
      "cell_type": "code",
      "metadata": {
        "id": "GNf51ufk-Vsh",
        "colab_type": "code",
        "colab": {}
      },
      "source": [
        "import numpy as np\n",
        "# observations with cars_per_cap between 100 and 500\n",
        "medium = data_frame[np.logical_and( data_frame[\"cars_per_cap\"] > 100, data_frame[\"cars_per_cap\"] < 500 )]"
      ],
      "execution_count": 0,
      "outputs": []
    },
    {
      "cell_type": "markdown",
      "metadata": {
        "id": "H0vIqW0lCypo",
        "colab_type": "text"
      },
      "source": [
        "##Looping over dataframe:\n",
        "\n",
        "Iterating over a Pandas DataFrame is typically done with the iterrows() method. Used in a for loop, every observation( i.e row ) is iterated over and on every iteration the row label and actual row contents are available:\n",
        "\n",
        "```\n",
        "syntax:\n",
        "for lab, row in brics.iterrows() :\n",
        "    ...\n",
        "```\n",
        "\n",
        "The row data that's generated by iterrows() on every run is a Pandas Series"
      ]
    },
    {
      "cell_type": "code",
      "metadata": {
        "id": "WNKLe5rBDLgo",
        "colab_type": "code",
        "colab": {
          "base_uri": "https://localhost:8080/",
          "height": 1000
        },
        "outputId": "3894307d-adcb-459d-cbcd-f26fef7783f4"
      },
      "source": [
        "# Iterate over rows of cars\n",
        "for label,row_content in data_frame.iterrows():\n",
        "    print(label+\":\")\n",
        "    print(row_content)\n",
        "    print(\"\")\n",
        "    print(\"type of lable:\"+str(type(label)))\n",
        "    print(\"type of content:\"+str(type(row_content)))\n",
        "    print(\"\")"
      ],
      "execution_count": 40,
      "outputs": [
        {
          "output_type": "stream",
          "text": [
            "US:\n",
            "country         United States\n",
            "drives_right             True\n",
            "cars_per_cap              809\n",
            "Name: US, dtype: object\n",
            "\n",
            "type of lable:<class 'str'>\n",
            "type of content:<class 'pandas.core.series.Series'>\n",
            "\n",
            "AUS:\n",
            "country         Australia\n",
            "drives_right        False\n",
            "cars_per_cap          731\n",
            "Name: AUS, dtype: object\n",
            "\n",
            "type of lable:<class 'str'>\n",
            "type of content:<class 'pandas.core.series.Series'>\n",
            "\n",
            "JPN:\n",
            "country         Japan\n",
            "drives_right    False\n",
            "cars_per_cap      588\n",
            "Name: JPN, dtype: object\n",
            "\n",
            "type of lable:<class 'str'>\n",
            "type of content:<class 'pandas.core.series.Series'>\n",
            "\n",
            "IN:\n",
            "country         India\n",
            "drives_right    False\n",
            "cars_per_cap       18\n",
            "Name: IN, dtype: object\n",
            "\n",
            "type of lable:<class 'str'>\n",
            "type of content:<class 'pandas.core.series.Series'>\n",
            "\n",
            "RU:\n",
            "country         Russia\n",
            "drives_right      True\n",
            "cars_per_cap       200\n",
            "Name: RU, dtype: object\n",
            "\n",
            "type of lable:<class 'str'>\n",
            "type of content:<class 'pandas.core.series.Series'>\n",
            "\n",
            "MOR:\n",
            "country         Morocco\n",
            "drives_right       True\n",
            "cars_per_cap         70\n",
            "Name: MOR, dtype: object\n",
            "\n",
            "type of lable:<class 'str'>\n",
            "type of content:<class 'pandas.core.series.Series'>\n",
            "\n",
            "EG:\n",
            "country         Egypt\n",
            "drives_right     True\n",
            "cars_per_cap       45\n",
            "Name: EG, dtype: object\n",
            "\n",
            "type of lable:<class 'str'>\n",
            "type of content:<class 'pandas.core.series.Series'>\n",
            "\n"
          ],
          "name": "stdout"
        }
      ]
    },
    {
      "cell_type": "markdown",
      "metadata": {
        "id": "XCvpOzdMDr2z",
        "colab_type": "text"
      },
      "source": [
        "### can use Data Frame attribute \" ***.apply()*** \" on dataframe by applying a function/Operation on another columns"
      ]
    },
    {
      "cell_type": "code",
      "metadata": {
        "id": "zUaOSHsTD5X_",
        "colab_type": "code",
        "colab": {
          "base_uri": "https://localhost:8080/",
          "height": 153
        },
        "outputId": "c412a8eb-4870-48fe-bc58-58804b631ac2"
      },
      "source": [
        "# Use .apply(str.upper)\n",
        "data_frame[\"COUNTRY\"] = data_frame[\"country\"].apply(str.upper)    #creating a new column \n",
        "print(data_frame[[\"country\",\"COUNTRY\"]])"
      ],
      "execution_count": 41,
      "outputs": [
        {
          "output_type": "stream",
          "text": [
            "           country        COUNTRY\n",
            "US   United States  UNITED STATES\n",
            "AUS      Australia      AUSTRALIA\n",
            "JPN          Japan          JAPAN\n",
            "IN           India          INDIA\n",
            "RU          Russia         RUSSIA\n",
            "MOR        Morocco        MOROCCO\n",
            "EG           Egypt          EGYPT\n"
          ],
          "name": "stdout"
        }
      ]
    },
    {
      "cell_type": "markdown",
      "metadata": {
        "id": "HBe6_kSoCaJX",
        "colab_type": "text"
      },
      "source": [
        "### to save the data frame into csv file"
      ]
    },
    {
      "cell_type": "code",
      "metadata": {
        "id": "95jURrzzDE6f",
        "colab_type": "code",
        "colab": {
          "base_uri": "https://localhost:8080/",
          "height": 122
        },
        "outputId": "5b7d91d4-1ad8-453a-9c92-5c491fedbb8f"
      },
      "source": [
        "# to connect gdrive to colab to import dataset\n",
        "from google.colab import drive\n",
        "drive.mount('/content/gdrive', force_remount = True)"
      ],
      "execution_count": 60,
      "outputs": [
        {
          "output_type": "stream",
          "text": [
            "Go to this URL in a browser: https://accounts.google.com/o/oauth2/auth?client_id=947318989803-6bn6qk8qdgf4n4g3pfee6491hc0brc4i.apps.googleusercontent.com&redirect_uri=urn%3aietf%3awg%3aoauth%3a2.0%3aoob&response_type=code&scope=email%20https%3a%2f%2fwww.googleapis.com%2fauth%2fdocs.test%20https%3a%2f%2fwww.googleapis.com%2fauth%2fdrive%20https%3a%2f%2fwww.googleapis.com%2fauth%2fdrive.photos.readonly%20https%3a%2f%2fwww.googleapis.com%2fauth%2fpeopleapi.readonly\n",
            "\n",
            "Enter your authorization code:\n",
            "··········\n",
            "Mounted at /content/gdrive\n"
          ],
          "name": "stdout"
        }
      ]
    },
    {
      "cell_type": "code",
      "metadata": {
        "id": "hQjeqbb2CYSX",
        "colab_type": "code",
        "colab": {}
      },
      "source": [
        "data_frame.to_csv('cars_data', index=False)"
      ],
      "execution_count": 0,
      "outputs": []
    },
    {
      "cell_type": "markdown",
      "metadata": {
        "id": "RNc0oux7r4SY",
        "colab_type": "text"
      },
      "source": [
        "### delete a row:\n",
        "to delete/drop the rows using conditions\n",
        "```\n",
        "syntax: data_frame.drop(labels=None, axis=0, index=None, columns=None, level=None, inplace=False, errors='raise')\n",
        "```"
      ]
    },
    {
      "cell_type": "code",
      "metadata": {
        "id": "QClKPLGKzRUM",
        "colab_type": "code",
        "colab": {
          "base_uri": "https://localhost:8080/",
          "height": 142
        },
        "outputId": "42aed5b1-03ae-4d2e-ba32-b8b923d66dd6"
      },
      "source": [
        "data_frame.tail(3)   #data frame before deletion "
      ],
      "execution_count": 43,
      "outputs": [
        {
          "output_type": "execute_result",
          "data": {
            "text/html": [
              "<div>\n",
              "<style scoped>\n",
              "    .dataframe tbody tr th:only-of-type {\n",
              "        vertical-align: middle;\n",
              "    }\n",
              "\n",
              "    .dataframe tbody tr th {\n",
              "        vertical-align: top;\n",
              "    }\n",
              "\n",
              "    .dataframe thead th {\n",
              "        text-align: right;\n",
              "    }\n",
              "</style>\n",
              "<table border=\"1\" class=\"dataframe\">\n",
              "  <thead>\n",
              "    <tr style=\"text-align: right;\">\n",
              "      <th></th>\n",
              "      <th>country</th>\n",
              "      <th>drives_right</th>\n",
              "      <th>cars_per_cap</th>\n",
              "      <th>COUNTRY</th>\n",
              "    </tr>\n",
              "  </thead>\n",
              "  <tbody>\n",
              "    <tr>\n",
              "      <th>RU</th>\n",
              "      <td>Russia</td>\n",
              "      <td>True</td>\n",
              "      <td>200</td>\n",
              "      <td>RUSSIA</td>\n",
              "    </tr>\n",
              "    <tr>\n",
              "      <th>MOR</th>\n",
              "      <td>Morocco</td>\n",
              "      <td>True</td>\n",
              "      <td>70</td>\n",
              "      <td>MOROCCO</td>\n",
              "    </tr>\n",
              "    <tr>\n",
              "      <th>EG</th>\n",
              "      <td>Egypt</td>\n",
              "      <td>True</td>\n",
              "      <td>45</td>\n",
              "      <td>EGYPT</td>\n",
              "    </tr>\n",
              "  </tbody>\n",
              "</table>\n",
              "</div>"
            ],
            "text/plain": [
              "     country  drives_right  cars_per_cap  COUNTRY\n",
              "RU    Russia          True           200   RUSSIA\n",
              "MOR  Morocco          True            70  MOROCCO\n",
              "EG     Egypt          True            45    EGYPT"
            ]
          },
          "metadata": {
            "tags": []
          },
          "execution_count": 43
        }
      ]
    },
    {
      "cell_type": "code",
      "metadata": {
        "id": "cCLqQdmsPN_V",
        "colab_type": "code",
        "colab": {}
      },
      "source": [
        "remove_indexs = data_frame[data_frame['country'] == 'Egypt'].index      # will get the indexs of rows with Duraion = 2016-17\n",
        "data_frame.drop(remove_indexs, inplace = True)                       "
      ],
      "execution_count": 0,
      "outputs": []
    },
    {
      "cell_type": "code",
      "metadata": {
        "id": "nmdljhSgzZmM",
        "colab_type": "code",
        "colab": {
          "base_uri": "https://localhost:8080/",
          "height": 142
        },
        "outputId": "b1b371f3-c053-48ce-d96f-ffdf8db13b07"
      },
      "source": [
        "data_frame.tail(3)  #data frame after deletion "
      ],
      "execution_count": 45,
      "outputs": [
        {
          "output_type": "execute_result",
          "data": {
            "text/html": [
              "<div>\n",
              "<style scoped>\n",
              "    .dataframe tbody tr th:only-of-type {\n",
              "        vertical-align: middle;\n",
              "    }\n",
              "\n",
              "    .dataframe tbody tr th {\n",
              "        vertical-align: top;\n",
              "    }\n",
              "\n",
              "    .dataframe thead th {\n",
              "        text-align: right;\n",
              "    }\n",
              "</style>\n",
              "<table border=\"1\" class=\"dataframe\">\n",
              "  <thead>\n",
              "    <tr style=\"text-align: right;\">\n",
              "      <th></th>\n",
              "      <th>country</th>\n",
              "      <th>drives_right</th>\n",
              "      <th>cars_per_cap</th>\n",
              "      <th>COUNTRY</th>\n",
              "    </tr>\n",
              "  </thead>\n",
              "  <tbody>\n",
              "    <tr>\n",
              "      <th>IN</th>\n",
              "      <td>India</td>\n",
              "      <td>False</td>\n",
              "      <td>18</td>\n",
              "      <td>INDIA</td>\n",
              "    </tr>\n",
              "    <tr>\n",
              "      <th>RU</th>\n",
              "      <td>Russia</td>\n",
              "      <td>True</td>\n",
              "      <td>200</td>\n",
              "      <td>RUSSIA</td>\n",
              "    </tr>\n",
              "    <tr>\n",
              "      <th>MOR</th>\n",
              "      <td>Morocco</td>\n",
              "      <td>True</td>\n",
              "      <td>70</td>\n",
              "      <td>MOROCCO</td>\n",
              "    </tr>\n",
              "  </tbody>\n",
              "</table>\n",
              "</div>"
            ],
            "text/plain": [
              "     country  drives_right  cars_per_cap  COUNTRY\n",
              "IN     India         False            18    INDIA\n",
              "RU    Russia          True           200   RUSSIA\n",
              "MOR  Morocco          True            70  MOROCCO"
            ]
          },
          "metadata": {
            "tags": []
          },
          "execution_count": 45
        }
      ]
    },
    {
      "cell_type": "code",
      "metadata": {
        "id": "0CsKFKl6turK",
        "colab_type": "code",
        "colab": {
          "base_uri": "https://localhost:8080/",
          "height": 204
        },
        "outputId": "2b65816b-85af-4a98-f188-cfc1e97fa966"
      },
      "source": [
        "#to rename column name\n",
        "data_frame.rename(columns = {'drives_right':'driver_right_side'}, inplace=True)\n",
        "data_frame.head()"
      ],
      "execution_count": 47,
      "outputs": [
        {
          "output_type": "execute_result",
          "data": {
            "text/html": [
              "<div>\n",
              "<style scoped>\n",
              "    .dataframe tbody tr th:only-of-type {\n",
              "        vertical-align: middle;\n",
              "    }\n",
              "\n",
              "    .dataframe tbody tr th {\n",
              "        vertical-align: top;\n",
              "    }\n",
              "\n",
              "    .dataframe thead th {\n",
              "        text-align: right;\n",
              "    }\n",
              "</style>\n",
              "<table border=\"1\" class=\"dataframe\">\n",
              "  <thead>\n",
              "    <tr style=\"text-align: right;\">\n",
              "      <th></th>\n",
              "      <th>country</th>\n",
              "      <th>driver_right_side</th>\n",
              "      <th>cars_per_cap</th>\n",
              "      <th>COUNTRY</th>\n",
              "    </tr>\n",
              "  </thead>\n",
              "  <tbody>\n",
              "    <tr>\n",
              "      <th>US</th>\n",
              "      <td>United States</td>\n",
              "      <td>True</td>\n",
              "      <td>809</td>\n",
              "      <td>UNITED STATES</td>\n",
              "    </tr>\n",
              "    <tr>\n",
              "      <th>AUS</th>\n",
              "      <td>Australia</td>\n",
              "      <td>False</td>\n",
              "      <td>731</td>\n",
              "      <td>AUSTRALIA</td>\n",
              "    </tr>\n",
              "    <tr>\n",
              "      <th>JPN</th>\n",
              "      <td>Japan</td>\n",
              "      <td>False</td>\n",
              "      <td>588</td>\n",
              "      <td>JAPAN</td>\n",
              "    </tr>\n",
              "    <tr>\n",
              "      <th>IN</th>\n",
              "      <td>India</td>\n",
              "      <td>False</td>\n",
              "      <td>18</td>\n",
              "      <td>INDIA</td>\n",
              "    </tr>\n",
              "    <tr>\n",
              "      <th>RU</th>\n",
              "      <td>Russia</td>\n",
              "      <td>True</td>\n",
              "      <td>200</td>\n",
              "      <td>RUSSIA</td>\n",
              "    </tr>\n",
              "  </tbody>\n",
              "</table>\n",
              "</div>"
            ],
            "text/plain": [
              "           country  driver_right_side  cars_per_cap        COUNTRY\n",
              "US   United States               True           809  UNITED STATES\n",
              "AUS      Australia              False           731      AUSTRALIA\n",
              "JPN          Japan              False           588          JAPAN\n",
              "IN           India              False            18          INDIA\n",
              "RU          Russia               True           200         RUSSIA"
            ]
          },
          "metadata": {
            "tags": []
          },
          "execution_count": 47
        }
      ]
    },
    {
      "cell_type": "markdown",
      "metadata": {
        "id": "GDw5TKp526Hy",
        "colab_type": "text"
      },
      "source": [
        " ### you can use the DataFrame attribute \" ***.values*** \"  to represent a DataFrame df as a NumPy array"
      ]
    },
    {
      "cell_type": "code",
      "metadata": {
        "id": "YXAwwXuS255q",
        "colab_type": "code",
        "colab": {
          "base_uri": "https://localhost:8080/",
          "height": 34
        },
        "outputId": "55697c5f-ccb7-4c91-c5fa-3aeaf4f86a2f"
      },
      "source": [
        "np_dataframe = data_frame.values\n",
        "print(type(np_dataframe))"
      ],
      "execution_count": 48,
      "outputs": [
        {
          "output_type": "stream",
          "text": [
            "<class 'numpy.ndarray'>\n"
          ],
          "name": "stdout"
        }
      ]
    },
    {
      "cell_type": "code",
      "metadata": {
        "id": "hPXX5uLE4dFq",
        "colab_type": "code",
        "colab": {
          "base_uri": "https://localhost:8080/",
          "height": 119
        },
        "outputId": "0380685c-91d4-4151-ef95-c9e6bb7b9b31"
      },
      "source": [
        "print(np_dataframe)"
      ],
      "execution_count": 49,
      "outputs": [
        {
          "output_type": "stream",
          "text": [
            "[['United States' True 809 'UNITED STATES']\n",
            " ['Australia' False 731 'AUSTRALIA']\n",
            " ['Japan' False 588 'JAPAN']\n",
            " ['India' False 18 'INDIA']\n",
            " ['Russia' True 200 'RUSSIA']\n",
            " ['Morocco' True 70 'MOROCCO']]\n"
          ],
          "name": "stdout"
        }
      ]
    },
    {
      "cell_type": "code",
      "metadata": {
        "id": "4GHgH87o4ixr",
        "colab_type": "code",
        "colab": {
          "base_uri": "https://localhost:8080/",
          "height": 34
        },
        "outputId": "50c0a6a0-b5c1-47c8-b31e-63a0772d9604"
      },
      "source": [
        "print(np_dataframe[2:3])"
      ],
      "execution_count": 55,
      "outputs": [
        {
          "output_type": "stream",
          "text": [
            "[['Japan' False 588 'JAPAN']]\n"
          ],
          "name": "stdout"
        }
      ]
    }
  ]
}