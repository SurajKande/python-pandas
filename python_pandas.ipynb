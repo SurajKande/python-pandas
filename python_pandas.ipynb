{
  "nbformat": 4,
  "nbformat_minor": 0,
  "metadata": {
    "colab": {
      "name": "python_pandas.ipynb",
      "provenance": [],
      "collapsed_sections": [],
      "authorship_tag": "ABX9TyPgImulAlGUZoGZeyK81aDS",
      "include_colab_link": true
    },
    "kernelspec": {
      "name": "python3",
      "display_name": "Python 3"
    }
  },
  "cells": [
    {
      "cell_type": "markdown",
      "metadata": {
        "id": "view-in-github",
        "colab_type": "text"
      },
      "source": [
        "<a href=\"https://colab.research.google.com/github/SurajKande/python-pandas/blob/master/python_pandas.ipynb\" target=\"_parent\"><img src=\"https://colab.research.google.com/assets/colab-badge.svg\" alt=\"Open In Colab\"/></a>"
      ]
    },
    {
      "cell_type": "markdown",
      "metadata": {
        "id": "s_RkfUUotAkI",
        "colab_type": "text"
      },
      "source": [
        "#python pandas Basics:\n",
        "pandas is an open source library, providing high-performance, easy-to-use data structures and data analysis tools for Python."
      ]
    },
    {
      "cell_type": "markdown",
      "metadata": {
        "id": "xUEmdnFq3o1I",
        "colab_type": "text"
      },
      "source": [
        "The DataFrame is one of Pandas' most important data structures. It's basically a way to store tabular data where you can label the rows and the columns. One way to build a DataFrame is from a dictionary"
      ]
    },
    {
      "cell_type": "code",
      "metadata": {
        "id": "aeERpI3S3ht-",
        "colab_type": "code",
        "colab": {}
      },
      "source": [
        "# Pre-defined lists\n",
        "\n",
        "names = ['United States', 'Australia', 'Japan', 'India', 'Russia', 'Morocco', 'Egypt']\n",
        "dr =  [True, False, False, False, True, True, True]\n",
        "cpc = [809, 731, 588, 18, 200, 70, 45]\n",
        "\n",
        "\n",
        "# Import pandas as pd\n",
        "import pandas as pd\n",
        "\n",
        "# Create dictionary my_dict with three key:value pairs: my_dict\n",
        "my_dict={'country':names,\n",
        "          'drives_right':dr,\n",
        "          'cars_per_cap':cpc }\n",
        "\n",
        "# Build a DataFrame from a dictonary\n",
        "cars = pd.DataFrame(my_dict)          #here name of data frame is cars\n",
        "\n",
        "# Specify row labels of cars\n",
        "row_labels = ['US', 'AUS', 'JPN', 'IN', 'RU', 'MOR', 'EG']\n",
        "cars.index = row_labels"
      ],
      "execution_count": 0,
      "outputs": []
    },
    {
      "cell_type": "markdown",
      "metadata": {
        "id": "3S0lEtbc4jgs",
        "colab_type": "text"
      },
      "source": [
        "Putting data in a dictionary and then building a DataFrame works, but it's not very efficient. What if you're dealing with millions of observations? In those cases, the data is typically available as files with a regular structure. One of those file types is the CSV file, "
      ]
    },
    {
      "cell_type": "markdown",
      "metadata": {
        "id": "khGCfJb94Z0V",
        "colab_type": "text"
      },
      "source": [
        "\n",
        "to import CSV data into Python as a Pandas DataFrame you can use read_csv()."
      ]
    },
    {
      "cell_type": "code",
      "metadata": {
        "id": "0Z6jXDyW4bzp",
        "colab_type": "code",
        "colab": {}
      },
      "source": [
        "#to read data from a csv file\n",
        "df = pd.read_csv('cars.csv')    "
      ],
      "execution_count": 0,
      "outputs": []
    },
    {
      "cell_type": "markdown",
      "metadata": {
        "id": "9uMa4sEM4toV",
        "colab_type": "text"
      },
      "source": [
        "index_col, an argument of read_csv(), that you can use to specify which column  \n",
        "in the CSV file should be used as a row label"
      ]
    },
    {
      "cell_type": "code",
      "metadata": {
        "id": "5nnjvCKB42L9",
        "colab_type": "code",
        "colab": {}
      },
      "source": [
        "df = pd.read_csv('cars.csv',index_col=0)"
      ],
      "execution_count": 0,
      "outputs": []
    },
    {
      "cell_type": "markdown",
      "metadata": {
        "id": "XBqxXVHM4_uz",
        "colab_type": "text"
      },
      "source": [
        "we can index and select Pandas DataFrames in many different ways.              \n",
        "The simplest way is to use Square brackets."
      ]
    },
    {
      "cell_type": "code",
      "metadata": {
        "id": "NsBw40ABdrXI",
        "colab_type": "code",
        "outputId": "e11ccc5a-2aa9-43bc-eaaa-7d341a2b8308",
        "colab": {
          "base_uri": "https://localhost:8080/",
          "height": 34
        }
      },
      "source": [
        "data_frame = cars    # cars data used here is created in cell 1\n",
        "print(type(data_frame))"
      ],
      "execution_count": 75,
      "outputs": [
        {
          "output_type": "stream",
          "text": [
            "<class 'pandas.core.frame.DataFrame'>\n"
          ],
          "name": "stdout"
        }
      ]
    },
    {
      "cell_type": "code",
      "metadata": {
        "id": "f9KKGHZc5JDK",
        "colab_type": "code",
        "outputId": "e8f6ef43-69ce-4c15-a94d-8112b05276a6",
        "colab": {
          "base_uri": "https://localhost:8080/",
          "height": 170
        }
      },
      "source": [
        "# Print out country column as Pandas Series\n",
        "print(data_frame[\"country\"])\n",
        "print(type(data_frame[\"country\"]))"
      ],
      "execution_count": 76,
      "outputs": [
        {
          "output_type": "stream",
          "text": [
            "US     United States\n",
            "AUS        Australia\n",
            "JPN            Japan\n",
            "IN             India\n",
            "RU            Russia\n",
            "MOR          Morocco\n",
            "EG             Egypt\n",
            "Name: country, dtype: object\n",
            "<class 'pandas.core.series.Series'>\n"
          ],
          "name": "stdout"
        }
      ]
    },
    {
      "cell_type": "code",
      "metadata": {
        "id": "5AMIyYBJeKPp",
        "colab_type": "code",
        "outputId": "d8330247-e68e-4d24-c810-d5df7fc8ba75",
        "colab": {
          "base_uri": "https://localhost:8080/",
          "height": 170
        }
      },
      "source": [
        "# Print out country column as Pandas DataFrame\n",
        "print(data_frame[[\"country\"]])\n",
        "print(type(data_frame[[\"country\"]]))"
      ],
      "execution_count": 77,
      "outputs": [
        {
          "output_type": "stream",
          "text": [
            "           country\n",
            "US   United States\n",
            "AUS      Australia\n",
            "JPN          Japan\n",
            "IN           India\n",
            "RU          Russia\n",
            "MOR        Morocco\n",
            "EG           Egypt\n",
            "<class 'pandas.core.frame.DataFrame'>\n"
          ],
          "name": "stdout"
        }
      ]
    },
    {
      "cell_type": "code",
      "metadata": {
        "id": "epHHNaIveKH4",
        "colab_type": "code",
        "outputId": "74823782-b55c-4863-81af-df9907077241",
        "colab": {
          "base_uri": "https://localhost:8080/",
          "height": 170
        }
      },
      "source": [
        "# Print out DataFrame with country and drives_right columns\n",
        "print(data_frame[[\"country\", \"drives_right\"]])\n",
        "print(type(data_frame[[\"country\", \"drives_right\"]]))"
      ],
      "execution_count": 78,
      "outputs": [
        {
          "output_type": "stream",
          "text": [
            "           country  drives_right\n",
            "US   United States          True\n",
            "AUS      Australia         False\n",
            "JPN          Japan         False\n",
            "IN           India         False\n",
            "RU          Russia          True\n",
            "MOR        Morocco          True\n",
            "EG           Egypt          True\n",
            "<class 'pandas.core.frame.DataFrame'>\n"
          ],
          "name": "stdout"
        }
      ]
    },
    {
      "cell_type": "markdown",
      "metadata": {
        "id": "hYtbHSul5XG4",
        "colab_type": "text"
      },
      "source": [
        "**Pandas Series** is a one-dimensional labeled array capable of holding data of any type (integer, string, float, python objects, etc.).\n",
        "\n",
        " The axis labels are collectively called index. Pandas Series is nothing but a column in an excel sheet."
      ]
    },
    {
      "cell_type": "code",
      "metadata": {
        "id": "ZkbXQwjbsNNG",
        "colab_type": "code",
        "outputId": "35cddf81-975e-4359-a912-fefae75e5ea9",
        "colab": {
          "base_uri": "https://localhost:8080/",
          "height": 266
        }
      },
      "source": [
        "data_frame"
      ],
      "execution_count": 79,
      "outputs": [
        {
          "output_type": "execute_result",
          "data": {
            "text/html": [
              "<div>\n",
              "<style scoped>\n",
              "    .dataframe tbody tr th:only-of-type {\n",
              "        vertical-align: middle;\n",
              "    }\n",
              "\n",
              "    .dataframe tbody tr th {\n",
              "        vertical-align: top;\n",
              "    }\n",
              "\n",
              "    .dataframe thead th {\n",
              "        text-align: right;\n",
              "    }\n",
              "</style>\n",
              "<table border=\"1\" class=\"dataframe\">\n",
              "  <thead>\n",
              "    <tr style=\"text-align: right;\">\n",
              "      <th></th>\n",
              "      <th>country</th>\n",
              "      <th>drives_right</th>\n",
              "      <th>cars_per_cap</th>\n",
              "    </tr>\n",
              "  </thead>\n",
              "  <tbody>\n",
              "    <tr>\n",
              "      <th>US</th>\n",
              "      <td>United States</td>\n",
              "      <td>True</td>\n",
              "      <td>809</td>\n",
              "    </tr>\n",
              "    <tr>\n",
              "      <th>AUS</th>\n",
              "      <td>Australia</td>\n",
              "      <td>False</td>\n",
              "      <td>731</td>\n",
              "    </tr>\n",
              "    <tr>\n",
              "      <th>JPN</th>\n",
              "      <td>Japan</td>\n",
              "      <td>False</td>\n",
              "      <td>588</td>\n",
              "    </tr>\n",
              "    <tr>\n",
              "      <th>IN</th>\n",
              "      <td>India</td>\n",
              "      <td>False</td>\n",
              "      <td>18</td>\n",
              "    </tr>\n",
              "    <tr>\n",
              "      <th>RU</th>\n",
              "      <td>Russia</td>\n",
              "      <td>True</td>\n",
              "      <td>200</td>\n",
              "    </tr>\n",
              "    <tr>\n",
              "      <th>MOR</th>\n",
              "      <td>Morocco</td>\n",
              "      <td>True</td>\n",
              "      <td>70</td>\n",
              "    </tr>\n",
              "    <tr>\n",
              "      <th>EG</th>\n",
              "      <td>Egypt</td>\n",
              "      <td>True</td>\n",
              "      <td>45</td>\n",
              "    </tr>\n",
              "  </tbody>\n",
              "</table>\n",
              "</div>"
            ],
            "text/plain": [
              "           country  drives_right  cars_per_cap\n",
              "US   United States          True           809\n",
              "AUS      Australia         False           731\n",
              "JPN          Japan         False           588\n",
              "IN           India         False            18\n",
              "RU          Russia          True           200\n",
              "MOR        Morocco          True            70\n",
              "EG           Egypt          True            45"
            ]
          },
          "metadata": {
            "tags": []
          },
          "execution_count": 79
        }
      ]
    },
    {
      "cell_type": "code",
      "metadata": {
        "id": "p7DFDNni5eKG",
        "colab_type": "code",
        "outputId": "8f2d1d82-9628-4095-8681-3161962506c0",
        "colab": {
          "base_uri": "https://localhost:8080/",
          "height": 85
        }
      },
      "source": [
        "# Print out first 3 observations\n",
        "print(data_frame[0:3])"
      ],
      "execution_count": 80,
      "outputs": [
        {
          "output_type": "stream",
          "text": [
            "           country  drives_right  cars_per_cap\n",
            "US   United States          True           809\n",
            "AUS      Australia         False           731\n",
            "JPN          Japan         False           588\n"
          ],
          "name": "stdout"
        }
      ]
    },
    {
      "cell_type": "code",
      "metadata": {
        "id": "oZ0xfVa5f8lA",
        "colab_type": "code",
        "outputId": "6aedcf03-f62f-4604-cc44-b09735f9bec9",
        "colab": {
          "base_uri": "https://localhost:8080/",
          "height": 204
        }
      },
      "source": [
        "# to read first 5 rows of a dataframe\n",
        "data_frame.head()"
      ],
      "execution_count": 81,
      "outputs": [
        {
          "output_type": "execute_result",
          "data": {
            "text/html": [
              "<div>\n",
              "<style scoped>\n",
              "    .dataframe tbody tr th:only-of-type {\n",
              "        vertical-align: middle;\n",
              "    }\n",
              "\n",
              "    .dataframe tbody tr th {\n",
              "        vertical-align: top;\n",
              "    }\n",
              "\n",
              "    .dataframe thead th {\n",
              "        text-align: right;\n",
              "    }\n",
              "</style>\n",
              "<table border=\"1\" class=\"dataframe\">\n",
              "  <thead>\n",
              "    <tr style=\"text-align: right;\">\n",
              "      <th></th>\n",
              "      <th>country</th>\n",
              "      <th>drives_right</th>\n",
              "      <th>cars_per_cap</th>\n",
              "    </tr>\n",
              "  </thead>\n",
              "  <tbody>\n",
              "    <tr>\n",
              "      <th>US</th>\n",
              "      <td>United States</td>\n",
              "      <td>True</td>\n",
              "      <td>809</td>\n",
              "    </tr>\n",
              "    <tr>\n",
              "      <th>AUS</th>\n",
              "      <td>Australia</td>\n",
              "      <td>False</td>\n",
              "      <td>731</td>\n",
              "    </tr>\n",
              "    <tr>\n",
              "      <th>JPN</th>\n",
              "      <td>Japan</td>\n",
              "      <td>False</td>\n",
              "      <td>588</td>\n",
              "    </tr>\n",
              "    <tr>\n",
              "      <th>IN</th>\n",
              "      <td>India</td>\n",
              "      <td>False</td>\n",
              "      <td>18</td>\n",
              "    </tr>\n",
              "    <tr>\n",
              "      <th>RU</th>\n",
              "      <td>Russia</td>\n",
              "      <td>True</td>\n",
              "      <td>200</td>\n",
              "    </tr>\n",
              "  </tbody>\n",
              "</table>\n",
              "</div>"
            ],
            "text/plain": [
              "           country  drives_right  cars_per_cap\n",
              "US   United States          True           809\n",
              "AUS      Australia         False           731\n",
              "JPN          Japan         False           588\n",
              "IN           India         False            18\n",
              "RU          Russia          True           200"
            ]
          },
          "metadata": {
            "tags": []
          },
          "execution_count": 81
        }
      ]
    },
    {
      "cell_type": "code",
      "metadata": {
        "id": "Eoc_Q-iUoGtV",
        "colab_type": "code",
        "outputId": "8bb535e6-6c3b-4e20-fefd-bd2953d9c533",
        "colab": {
          "base_uri": "https://localhost:8080/",
          "height": 204
        }
      },
      "source": [
        "# to read last 5 rows of a dataframe\n",
        "data_frame.tail()"
      ],
      "execution_count": 82,
      "outputs": [
        {
          "output_type": "execute_result",
          "data": {
            "text/html": [
              "<div>\n",
              "<style scoped>\n",
              "    .dataframe tbody tr th:only-of-type {\n",
              "        vertical-align: middle;\n",
              "    }\n",
              "\n",
              "    .dataframe tbody tr th {\n",
              "        vertical-align: top;\n",
              "    }\n",
              "\n",
              "    .dataframe thead th {\n",
              "        text-align: right;\n",
              "    }\n",
              "</style>\n",
              "<table border=\"1\" class=\"dataframe\">\n",
              "  <thead>\n",
              "    <tr style=\"text-align: right;\">\n",
              "      <th></th>\n",
              "      <th>country</th>\n",
              "      <th>drives_right</th>\n",
              "      <th>cars_per_cap</th>\n",
              "    </tr>\n",
              "  </thead>\n",
              "  <tbody>\n",
              "    <tr>\n",
              "      <th>JPN</th>\n",
              "      <td>Japan</td>\n",
              "      <td>False</td>\n",
              "      <td>588</td>\n",
              "    </tr>\n",
              "    <tr>\n",
              "      <th>IN</th>\n",
              "      <td>India</td>\n",
              "      <td>False</td>\n",
              "      <td>18</td>\n",
              "    </tr>\n",
              "    <tr>\n",
              "      <th>RU</th>\n",
              "      <td>Russia</td>\n",
              "      <td>True</td>\n",
              "      <td>200</td>\n",
              "    </tr>\n",
              "    <tr>\n",
              "      <th>MOR</th>\n",
              "      <td>Morocco</td>\n",
              "      <td>True</td>\n",
              "      <td>70</td>\n",
              "    </tr>\n",
              "    <tr>\n",
              "      <th>EG</th>\n",
              "      <td>Egypt</td>\n",
              "      <td>True</td>\n",
              "      <td>45</td>\n",
              "    </tr>\n",
              "  </tbody>\n",
              "</table>\n",
              "</div>"
            ],
            "text/plain": [
              "     country  drives_right  cars_per_cap\n",
              "JPN    Japan         False           588\n",
              "IN     India         False            18\n",
              "RU    Russia          True           200\n",
              "MOR  Morocco          True            70\n",
              "EG     Egypt          True            45"
            ]
          },
          "metadata": {
            "tags": []
          },
          "execution_count": 82
        }
      ]
    },
    {
      "cell_type": "code",
      "metadata": {
        "id": "R36444MwoGpF",
        "colab_type": "code",
        "outputId": "fc8db4ad-68a9-4b88-bf88-cff29086bc08",
        "colab": {
          "base_uri": "https://localhost:8080/",
          "height": 34
        }
      },
      "source": [
        "#to print out the  columns index\n",
        "data_frame.columns"
      ],
      "execution_count": 83,
      "outputs": [
        {
          "output_type": "execute_result",
          "data": {
            "text/plain": [
              "Index(['country', 'drives_right', 'cars_per_cap'], dtype='object')"
            ]
          },
          "metadata": {
            "tags": []
          },
          "execution_count": 83
        }
      ]
    },
    {
      "cell_type": "code",
      "metadata": {
        "id": "CVobVHHDokGH",
        "colab_type": "code",
        "outputId": "d2f0ca7c-1ce4-492b-cab8-71810b19382b",
        "colab": {
          "base_uri": "https://localhost:8080/",
          "height": 34
        }
      },
      "source": [
        "#to know the number of rows and columns of the data\n",
        "data_frame.shape"
      ],
      "execution_count": 84,
      "outputs": [
        {
          "output_type": "execute_result",
          "data": {
            "text/plain": [
              "(7, 3)"
            ]
          },
          "metadata": {
            "tags": []
          },
          "execution_count": 84
        }
      ]
    },
    {
      "cell_type": "code",
      "metadata": {
        "id": "dFxnyAVIop_g",
        "colab_type": "code",
        "outputId": "d8a1036a-0f1b-4c8e-d2fb-9ef3dab4054a",
        "colab": {
          "base_uri": "https://localhost:8080/",
          "height": 153
        }
      },
      "source": [
        "#to get additional info\n",
        "data_frame.info()"
      ],
      "execution_count": 85,
      "outputs": [
        {
          "output_type": "stream",
          "text": [
            "<class 'pandas.core.frame.DataFrame'>\n",
            "Index: 7 entries, US to EG\n",
            "Data columns (total 3 columns):\n",
            "country         7 non-null object\n",
            "drives_right    7 non-null bool\n",
            "cars_per_cap    7 non-null int64\n",
            "dtypes: bool(1), int64(1), object(1)\n",
            "memory usage: 175.0+ bytes\n"
          ],
          "name": "stdout"
        }
      ]
    },
    {
      "cell_type": "markdown",
      "metadata": {
        "id": "ap_ocMjI5yGg",
        "colab_type": "text"
      },
      "source": [
        "###Methods to access the data frame\n",
        "1. ***loc*** :  is label-based, which means that you have to specify rows and columns based on their row and column labels. \n",
        "\n",
        "2. ***iloc*** : is integer index based, so you have to specify rows and columns by their integer index"
      ]
    },
    {
      "cell_type": "code",
      "metadata": {
        "id": "b3SB_SPxuAFY",
        "colab_type": "code",
        "outputId": "de226ac8-7123-46dc-cafb-93ae78e7860a",
        "colab": {
          "base_uri": "https://localhost:8080/",
          "height": 153
        }
      },
      "source": [
        "# Print out observation for Japan\n",
        "print(data_frame.loc['JPN'])    #using loc to print \n",
        "print(data_frame.iloc[2])       #using iloc to print "
      ],
      "execution_count": 86,
      "outputs": [
        {
          "output_type": "stream",
          "text": [
            "country         Japan\n",
            "drives_right    False\n",
            "cars_per_cap      588\n",
            "Name: JPN, dtype: object\n",
            "country         Japan\n",
            "drives_right    False\n",
            "cars_per_cap      588\n",
            "Name: JPN, dtype: object\n"
          ],
          "name": "stdout"
        }
      ]
    },
    {
      "cell_type": "code",
      "metadata": {
        "id": "EtqPq3u2uDva",
        "colab_type": "code",
        "outputId": "a12cd0e2-7c85-4302-afc1-6d23ca5fec9e",
        "colab": {
          "base_uri": "https://localhost:8080/",
          "height": 119
        }
      },
      "source": [
        "# Print out observations for Australia and Egypt\n",
        "print(data_frame.loc[[\"AUS\",\"EG\"]])\n",
        "print(data_frame.iloc[[1,6]])\n"
      ],
      "execution_count": 87,
      "outputs": [
        {
          "output_type": "stream",
          "text": [
            "       country  drives_right  cars_per_cap\n",
            "AUS  Australia         False           731\n",
            "EG       Egypt          True            45\n",
            "       country  drives_right  cars_per_cap\n",
            "AUS  Australia         False           731\n",
            "EG       Egypt          True            45\n"
          ],
          "name": "stdout"
        }
      ]
    },
    {
      "cell_type": "code",
      "metadata": {
        "id": "aVdpgpqZuGzX",
        "colab_type": "code",
        "outputId": "0708e79b-d890-4074-a1d9-2ec9ebbd2839",
        "colab": {
          "base_uri": "https://localhost:8080/",
          "height": 34
        }
      },
      "source": [
        "# Print out drives_right value of Morocco\n",
        "print(data_frame.loc[\"MOR\"][\"drives_right\"])"
      ],
      "execution_count": 88,
      "outputs": [
        {
          "output_type": "stream",
          "text": [
            "True\n"
          ],
          "name": "stdout"
        }
      ]
    },
    {
      "cell_type": "code",
      "metadata": {
        "id": "MYeykbFquL34",
        "colab_type": "code",
        "outputId": "c6e82425-a534-4640-c115-50c5cfea1a93",
        "colab": {
          "base_uri": "https://localhost:8080/",
          "height": 68
        }
      },
      "source": [
        "# Print sub-DataFrame\n",
        "print(data_frame.loc[[\"RU\", \"MOR\"], [\"country\", \"drives_right\"]])"
      ],
      "execution_count": 89,
      "outputs": [
        {
          "output_type": "stream",
          "text": [
            "     country  drives_right\n",
            "RU    Russia          True\n",
            "MOR  Morocco          True\n"
          ],
          "name": "stdout"
        }
      ]
    },
    {
      "cell_type": "code",
      "metadata": {
        "id": "hdjQTEmRuOqo",
        "colab_type": "code",
        "outputId": "68445891-1c42-4a1e-f5bb-df60387df48d",
        "colab": {
          "base_uri": "https://localhost:8080/",
          "height": 170
        }
      },
      "source": [
        "# Print out drives_right column as Series\n",
        "print(data_frame[\"drives_right\"])\n",
        "print(type(data_frame[\"drives_right\"]))"
      ],
      "execution_count": 91,
      "outputs": [
        {
          "output_type": "stream",
          "text": [
            "US      True\n",
            "AUS    False\n",
            "JPN    False\n",
            "IN     False\n",
            "RU      True\n",
            "MOR     True\n",
            "EG      True\n",
            "Name: drives_right, dtype: bool\n",
            "<class 'pandas.core.series.Series'>\n"
          ],
          "name": "stdout"
        }
      ]
    },
    {
      "cell_type": "code",
      "metadata": {
        "id": "5d3xE_cgu8do",
        "colab_type": "code",
        "outputId": "23bf7643-6b6f-40a6-9dba-3f17c25d98c5",
        "colab": {
          "base_uri": "https://localhost:8080/",
          "height": 187
        }
      },
      "source": [
        "# Print out drives_right column as DataFrame\n",
        "print(data_frame[[\"drives_right\"]])\n",
        "print(\"\")\n",
        "print(type(data_frame[[\"drives_right\"]]))"
      ],
      "execution_count": 92,
      "outputs": [
        {
          "output_type": "stream",
          "text": [
            "     drives_right\n",
            "US           True\n",
            "AUS         False\n",
            "JPN         False\n",
            "IN          False\n",
            "RU           True\n",
            "MOR          True\n",
            "EG           True\n",
            "\n",
            "<class 'pandas.core.frame.DataFrame'>\n"
          ],
          "name": "stdout"
        }
      ]
    },
    {
      "cell_type": "code",
      "metadata": {
        "id": "erhucJww59MJ",
        "colab_type": "code",
        "outputId": "fa34d062-8a46-4fa7-cc8e-a1ecd48ac449",
        "colab": {
          "base_uri": "https://localhost:8080/",
          "height": 153
        }
      },
      "source": [
        "# Print out cars_per_cap and drives_right as DataFrame\n",
        "print(data_frame[[\"cars_per_cap\", \"drives_right\"]])"
      ],
      "execution_count": 93,
      "outputs": [
        {
          "output_type": "stream",
          "text": [
            "     cars_per_cap  drives_right\n",
            "US            809          True\n",
            "AUS           731         False\n",
            "JPN           588         False\n",
            "IN             18         False\n",
            "RU            200          True\n",
            "MOR            70          True\n",
            "EG             45          True\n"
          ],
          "name": "stdout"
        }
      ]
    },
    {
      "cell_type": "code",
      "metadata": {
        "id": "bAHhApIHvbmM",
        "colab_type": "code",
        "outputId": "5e8e43c1-048a-4a43-d96e-57e52335b56b",
        "colab": {
          "base_uri": "https://localhost:8080/",
          "height": 102
        }
      },
      "source": [
        "#subsetting a dataframe\n",
        "sel = data_frame[data_frame['drives_right']]\n",
        "print(sel)"
      ],
      "execution_count": 94,
      "outputs": [
        {
          "output_type": "stream",
          "text": [
            "           country  drives_right  cars_per_cap\n",
            "US   United States          True           809\n",
            "RU          Russia          True           200\n",
            "MOR        Morocco          True            70\n",
            "EG           Egypt          True            45\n"
          ],
          "name": "stdout"
        }
      ]
    },
    {
      "cell_type": "code",
      "metadata": {
        "id": "gbpYpX3T9Jyj",
        "colab_type": "code",
        "outputId": "6e43cb06-e7d6-46e3-f378-4712ebbceb49",
        "colab": {
          "base_uri": "https://localhost:8080/",
          "height": 85
        }
      },
      "source": [
        "# observations that have a cars_per_cap over 500\n",
        "cars_maniac = cars[cars[\"cars_per_cap\"] > 500]\n",
        "print(cars_maniac)"
      ],
      "execution_count": 95,
      "outputs": [
        {
          "output_type": "stream",
          "text": [
            "           country  drives_right  cars_per_cap\n",
            "US   United States          True           809\n",
            "AUS      Australia         False           731\n",
            "JPN          Japan         False           588\n"
          ],
          "name": "stdout"
        }
      ]
    },
    {
      "cell_type": "markdown",
      "metadata": {
        "id": "KS0YC577-Q7o",
        "colab_type": "text"
      },
      "source": [
        "###using logical operators:\n",
        " * np.logical_and()\n",
        " * np.logical_or()\n",
        " * np.logical_not() \n",
        "\n",
        "  we use them on Pandas Series to do more advanced filtering operations."
      ]
    },
    {
      "cell_type": "code",
      "metadata": {
        "id": "GNf51ufk-Vsh",
        "colab_type": "code",
        "colab": {
          "base_uri": "https://localhost:8080/",
          "height": 80
        },
        "outputId": "0691dfbc-26a2-4bb5-e88e-b0b670eb95ab"
      },
      "source": [
        "import numpy as np\n",
        "# observations with cars_per_cap between 100 and 500\n",
        "medium = data_frame[np.logical_and( data_frame[\"cars_per_cap\"] > 100, data_frame[\"cars_per_cap\"] < 500 )]\n",
        "medium"
      ],
      "execution_count": 98,
      "outputs": [
        {
          "output_type": "execute_result",
          "data": {
            "text/html": [
              "<div>\n",
              "<style scoped>\n",
              "    .dataframe tbody tr th:only-of-type {\n",
              "        vertical-align: middle;\n",
              "    }\n",
              "\n",
              "    .dataframe tbody tr th {\n",
              "        vertical-align: top;\n",
              "    }\n",
              "\n",
              "    .dataframe thead th {\n",
              "        text-align: right;\n",
              "    }\n",
              "</style>\n",
              "<table border=\"1\" class=\"dataframe\">\n",
              "  <thead>\n",
              "    <tr style=\"text-align: right;\">\n",
              "      <th></th>\n",
              "      <th>country</th>\n",
              "      <th>drives_right</th>\n",
              "      <th>cars_per_cap</th>\n",
              "    </tr>\n",
              "  </thead>\n",
              "  <tbody>\n",
              "    <tr>\n",
              "      <th>RU</th>\n",
              "      <td>Russia</td>\n",
              "      <td>True</td>\n",
              "      <td>200</td>\n",
              "    </tr>\n",
              "  </tbody>\n",
              "</table>\n",
              "</div>"
            ],
            "text/plain": [
              "   country  drives_right  cars_per_cap\n",
              "RU  Russia          True           200"
            ]
          },
          "metadata": {
            "tags": []
          },
          "execution_count": 98
        }
      ]
    },
    {
      "cell_type": "markdown",
      "metadata": {
        "id": "H0vIqW0lCypo",
        "colab_type": "text"
      },
      "source": [
        "###Looping over dataframe:\n",
        "\n",
        "Iterating over a Pandas DataFrame is typically done with the iterrows() method. Used in a for loop, every observation( i.e row ) is iterated over and on every iteration the row label and actual row contents are available:\n",
        "\n",
        "```\n",
        "syntax:\n",
        "for lab, row in brics.iterrows() :\n",
        "    ...\n",
        "```\n",
        "\n",
        "The row data that's generated by iterrows() on every run is a Pandas Series"
      ]
    },
    {
      "cell_type": "code",
      "metadata": {
        "id": "WNKLe5rBDLgo",
        "colab_type": "code",
        "colab": {
          "base_uri": "https://localhost:8080/",
          "height": 476
        },
        "outputId": "c6f32a26-cda9-4f65-901d-3a0e6b28dc43"
      },
      "source": [
        "# Iterate over rows of cars\n",
        "for label,row_content in data_frame.head(3).iterrows():\n",
        "    print(label+\":\")\n",
        "    print(row_content)\n",
        "    print(\"\")\n",
        "    print(\"type of lable:\"+str(type(label)))\n",
        "    print(\"type of content:\"+str(type(row_content)))\n",
        "    print(\"\")"
      ],
      "execution_count": 100,
      "outputs": [
        {
          "output_type": "stream",
          "text": [
            "US:\n",
            "country         United States\n",
            "drives_right             True\n",
            "cars_per_cap              809\n",
            "Name: US, dtype: object\n",
            "\n",
            "type of lable:<class 'str'>\n",
            "type of content:<class 'pandas.core.series.Series'>\n",
            "\n",
            "AUS:\n",
            "country         Australia\n",
            "drives_right        False\n",
            "cars_per_cap          731\n",
            "Name: AUS, dtype: object\n",
            "\n",
            "type of lable:<class 'str'>\n",
            "type of content:<class 'pandas.core.series.Series'>\n",
            "\n",
            "JPN:\n",
            "country         Japan\n",
            "drives_right    False\n",
            "cars_per_cap      588\n",
            "Name: JPN, dtype: object\n",
            "\n",
            "type of lable:<class 'str'>\n",
            "type of content:<class 'pandas.core.series.Series'>\n",
            "\n"
          ],
          "name": "stdout"
        }
      ]
    },
    {
      "cell_type": "markdown",
      "metadata": {
        "id": "XCvpOzdMDr2z",
        "colab_type": "text"
      },
      "source": [
        "### can use Data Frame attribute \" ***.apply()*** \" on dataframe by applying a function/Operation on another columns"
      ]
    },
    {
      "cell_type": "code",
      "metadata": {
        "id": "zUaOSHsTD5X_",
        "colab_type": "code",
        "colab": {
          "base_uri": "https://localhost:8080/",
          "height": 153
        },
        "outputId": "f1a39c34-fefa-4f6d-a31f-c21f90eec22e"
      },
      "source": [
        "# Use .apply(str.upper)\n",
        "data_frame[\"COUNTRY\"] = data_frame[\"country\"].apply(str.upper)    #creating a new column \n",
        "print(data_frame[[\"country\",\"COUNTRY\"]])"
      ],
      "execution_count": 101,
      "outputs": [
        {
          "output_type": "stream",
          "text": [
            "           country        COUNTRY\n",
            "US   United States  UNITED STATES\n",
            "AUS      Australia      AUSTRALIA\n",
            "JPN          Japan          JAPAN\n",
            "IN           India          INDIA\n",
            "RU          Russia         RUSSIA\n",
            "MOR        Morocco        MOROCCO\n",
            "EG           Egypt          EGYPT\n"
          ],
          "name": "stdout"
        }
      ]
    },
    {
      "cell_type": "markdown",
      "metadata": {
        "id": "HBe6_kSoCaJX",
        "colab_type": "text"
      },
      "source": [
        "### to save the data frame into csv file"
      ]
    },
    {
      "cell_type": "code",
      "metadata": {
        "id": "95jURrzzDE6f",
        "colab_type": "code",
        "colab": {
          "base_uri": "https://localhost:8080/",
          "height": 122
        },
        "outputId": "5b7d91d4-1ad8-453a-9c92-5c491fedbb8f"
      },
      "source": [
        "# to connect gdrive to colab to import dataset\n",
        "from google.colab import drive\n",
        "drive.mount('/content/gdrive', force_remount = True)"
      ],
      "execution_count": 60,
      "outputs": [
        {
          "output_type": "stream",
          "text": [
            "Go to this URL in a browser: https://accounts.google.com/o/oauth2/auth?client_id=947318989803-6bn6qk8qdgf4n4g3pfee6491hc0brc4i.apps.googleusercontent.com&redirect_uri=urn%3aietf%3awg%3aoauth%3a2.0%3aoob&response_type=code&scope=email%20https%3a%2f%2fwww.googleapis.com%2fauth%2fdocs.test%20https%3a%2f%2fwww.googleapis.com%2fauth%2fdrive%20https%3a%2f%2fwww.googleapis.com%2fauth%2fdrive.photos.readonly%20https%3a%2f%2fwww.googleapis.com%2fauth%2fpeopleapi.readonly\n",
            "\n",
            "Enter your authorization code:\n",
            "··········\n",
            "Mounted at /content/gdrive\n"
          ],
          "name": "stdout"
        }
      ]
    },
    {
      "cell_type": "code",
      "metadata": {
        "id": "hQjeqbb2CYSX",
        "colab_type": "code",
        "colab": {}
      },
      "source": [
        "data_frame.to_csv('cars_data', index=False)"
      ],
      "execution_count": 0,
      "outputs": []
    },
    {
      "cell_type": "code",
      "metadata": {
        "id": "SWX6UR5lD7Rl",
        "colab_type": "code",
        "colab": {}
      },
      "source": [
        "assert pd.read_csv('cars_data').bool    #checking if the data frame got stored"
      ],
      "execution_count": 0,
      "outputs": []
    },
    {
      "cell_type": "markdown",
      "metadata": {
        "id": "RNc0oux7r4SY",
        "colab_type": "text"
      },
      "source": [
        "### delete a row:\n",
        "to delete/drop the rows using conditions\n",
        "```\n",
        "syntax: data_frame.drop(labels=None, axis=0, index=None, columns=None, level=None, inplace=False, errors='raise')\n",
        "```"
      ]
    },
    {
      "cell_type": "code",
      "metadata": {
        "id": "QClKPLGKzRUM",
        "colab_type": "code",
        "colab": {
          "base_uri": "https://localhost:8080/",
          "height": 142
        },
        "outputId": "42aed5b1-03ae-4d2e-ba32-b8b923d66dd6"
      },
      "source": [
        "data_frame.tail(3)   #data frame before deletion "
      ],
      "execution_count": 43,
      "outputs": [
        {
          "output_type": "execute_result",
          "data": {
            "text/html": [
              "<div>\n",
              "<style scoped>\n",
              "    .dataframe tbody tr th:only-of-type {\n",
              "        vertical-align: middle;\n",
              "    }\n",
              "\n",
              "    .dataframe tbody tr th {\n",
              "        vertical-align: top;\n",
              "    }\n",
              "\n",
              "    .dataframe thead th {\n",
              "        text-align: right;\n",
              "    }\n",
              "</style>\n",
              "<table border=\"1\" class=\"dataframe\">\n",
              "  <thead>\n",
              "    <tr style=\"text-align: right;\">\n",
              "      <th></th>\n",
              "      <th>country</th>\n",
              "      <th>drives_right</th>\n",
              "      <th>cars_per_cap</th>\n",
              "      <th>COUNTRY</th>\n",
              "    </tr>\n",
              "  </thead>\n",
              "  <tbody>\n",
              "    <tr>\n",
              "      <th>RU</th>\n",
              "      <td>Russia</td>\n",
              "      <td>True</td>\n",
              "      <td>200</td>\n",
              "      <td>RUSSIA</td>\n",
              "    </tr>\n",
              "    <tr>\n",
              "      <th>MOR</th>\n",
              "      <td>Morocco</td>\n",
              "      <td>True</td>\n",
              "      <td>70</td>\n",
              "      <td>MOROCCO</td>\n",
              "    </tr>\n",
              "    <tr>\n",
              "      <th>EG</th>\n",
              "      <td>Egypt</td>\n",
              "      <td>True</td>\n",
              "      <td>45</td>\n",
              "      <td>EGYPT</td>\n",
              "    </tr>\n",
              "  </tbody>\n",
              "</table>\n",
              "</div>"
            ],
            "text/plain": [
              "     country  drives_right  cars_per_cap  COUNTRY\n",
              "RU    Russia          True           200   RUSSIA\n",
              "MOR  Morocco          True            70  MOROCCO\n",
              "EG     Egypt          True            45    EGYPT"
            ]
          },
          "metadata": {
            "tags": []
          },
          "execution_count": 43
        }
      ]
    },
    {
      "cell_type": "code",
      "metadata": {
        "id": "cCLqQdmsPN_V",
        "colab_type": "code",
        "colab": {}
      },
      "source": [
        "remove_indexs = data_frame[data_frame['country'] == 'Egypt'].index      # will get the indexs of rows with Duraion = 2016-17\n",
        "data_frame.drop(remove_indexs, inplace = True)                       "
      ],
      "execution_count": 0,
      "outputs": []
    },
    {
      "cell_type": "code",
      "metadata": {
        "id": "nmdljhSgzZmM",
        "colab_type": "code",
        "colab": {
          "base_uri": "https://localhost:8080/",
          "height": 142
        },
        "outputId": "b1b371f3-c053-48ce-d96f-ffdf8db13b07"
      },
      "source": [
        "data_frame.tail(3)  #data frame after deletion "
      ],
      "execution_count": 45,
      "outputs": [
        {
          "output_type": "execute_result",
          "data": {
            "text/html": [
              "<div>\n",
              "<style scoped>\n",
              "    .dataframe tbody tr th:only-of-type {\n",
              "        vertical-align: middle;\n",
              "    }\n",
              "\n",
              "    .dataframe tbody tr th {\n",
              "        vertical-align: top;\n",
              "    }\n",
              "\n",
              "    .dataframe thead th {\n",
              "        text-align: right;\n",
              "    }\n",
              "</style>\n",
              "<table border=\"1\" class=\"dataframe\">\n",
              "  <thead>\n",
              "    <tr style=\"text-align: right;\">\n",
              "      <th></th>\n",
              "      <th>country</th>\n",
              "      <th>drives_right</th>\n",
              "      <th>cars_per_cap</th>\n",
              "      <th>COUNTRY</th>\n",
              "    </tr>\n",
              "  </thead>\n",
              "  <tbody>\n",
              "    <tr>\n",
              "      <th>IN</th>\n",
              "      <td>India</td>\n",
              "      <td>False</td>\n",
              "      <td>18</td>\n",
              "      <td>INDIA</td>\n",
              "    </tr>\n",
              "    <tr>\n",
              "      <th>RU</th>\n",
              "      <td>Russia</td>\n",
              "      <td>True</td>\n",
              "      <td>200</td>\n",
              "      <td>RUSSIA</td>\n",
              "    </tr>\n",
              "    <tr>\n",
              "      <th>MOR</th>\n",
              "      <td>Morocco</td>\n",
              "      <td>True</td>\n",
              "      <td>70</td>\n",
              "      <td>MOROCCO</td>\n",
              "    </tr>\n",
              "  </tbody>\n",
              "</table>\n",
              "</div>"
            ],
            "text/plain": [
              "     country  drives_right  cars_per_cap  COUNTRY\n",
              "IN     India         False            18    INDIA\n",
              "RU    Russia          True           200   RUSSIA\n",
              "MOR  Morocco          True            70  MOROCCO"
            ]
          },
          "metadata": {
            "tags": []
          },
          "execution_count": 45
        }
      ]
    },
    {
      "cell_type": "code",
      "metadata": {
        "id": "0CsKFKl6turK",
        "colab_type": "code",
        "colab": {
          "base_uri": "https://localhost:8080/",
          "height": 204
        },
        "outputId": "2b65816b-85af-4a98-f188-cfc1e97fa966"
      },
      "source": [
        "#to rename column name\n",
        "data_frame.rename(columns = {'drives_right':'driver_right_side'}, inplace=True)\n",
        "data_frame.head()"
      ],
      "execution_count": 47,
      "outputs": [
        {
          "output_type": "execute_result",
          "data": {
            "text/html": [
              "<div>\n",
              "<style scoped>\n",
              "    .dataframe tbody tr th:only-of-type {\n",
              "        vertical-align: middle;\n",
              "    }\n",
              "\n",
              "    .dataframe tbody tr th {\n",
              "        vertical-align: top;\n",
              "    }\n",
              "\n",
              "    .dataframe thead th {\n",
              "        text-align: right;\n",
              "    }\n",
              "</style>\n",
              "<table border=\"1\" class=\"dataframe\">\n",
              "  <thead>\n",
              "    <tr style=\"text-align: right;\">\n",
              "      <th></th>\n",
              "      <th>country</th>\n",
              "      <th>driver_right_side</th>\n",
              "      <th>cars_per_cap</th>\n",
              "      <th>COUNTRY</th>\n",
              "    </tr>\n",
              "  </thead>\n",
              "  <tbody>\n",
              "    <tr>\n",
              "      <th>US</th>\n",
              "      <td>United States</td>\n",
              "      <td>True</td>\n",
              "      <td>809</td>\n",
              "      <td>UNITED STATES</td>\n",
              "    </tr>\n",
              "    <tr>\n",
              "      <th>AUS</th>\n",
              "      <td>Australia</td>\n",
              "      <td>False</td>\n",
              "      <td>731</td>\n",
              "      <td>AUSTRALIA</td>\n",
              "    </tr>\n",
              "    <tr>\n",
              "      <th>JPN</th>\n",
              "      <td>Japan</td>\n",
              "      <td>False</td>\n",
              "      <td>588</td>\n",
              "      <td>JAPAN</td>\n",
              "    </tr>\n",
              "    <tr>\n",
              "      <th>IN</th>\n",
              "      <td>India</td>\n",
              "      <td>False</td>\n",
              "      <td>18</td>\n",
              "      <td>INDIA</td>\n",
              "    </tr>\n",
              "    <tr>\n",
              "      <th>RU</th>\n",
              "      <td>Russia</td>\n",
              "      <td>True</td>\n",
              "      <td>200</td>\n",
              "      <td>RUSSIA</td>\n",
              "    </tr>\n",
              "  </tbody>\n",
              "</table>\n",
              "</div>"
            ],
            "text/plain": [
              "           country  driver_right_side  cars_per_cap        COUNTRY\n",
              "US   United States               True           809  UNITED STATES\n",
              "AUS      Australia              False           731      AUSTRALIA\n",
              "JPN          Japan              False           588          JAPAN\n",
              "IN           India              False            18          INDIA\n",
              "RU          Russia               True           200         RUSSIA"
            ]
          },
          "metadata": {
            "tags": []
          },
          "execution_count": 47
        }
      ]
    },
    {
      "cell_type": "markdown",
      "metadata": {
        "id": "GDw5TKp526Hy",
        "colab_type": "text"
      },
      "source": [
        " ### you can use the DataFrame attribute \" ***.values*** \"  to represent a DataFrame df as a NumPy array"
      ]
    },
    {
      "cell_type": "code",
      "metadata": {
        "id": "YXAwwXuS255q",
        "colab_type": "code",
        "colab": {
          "base_uri": "https://localhost:8080/",
          "height": 34
        },
        "outputId": "191d6188-d9ef-4bff-cddc-e5acb53be3b8"
      },
      "source": [
        "np_dataframe = data_frame.values\n",
        "print(type(np_dataframe))"
      ],
      "execution_count": 105,
      "outputs": [
        {
          "output_type": "stream",
          "text": [
            "<class 'numpy.ndarray'>\n"
          ],
          "name": "stdout"
        }
      ]
    },
    {
      "cell_type": "code",
      "metadata": {
        "id": "hPXX5uLE4dFq",
        "colab_type": "code",
        "colab": {
          "base_uri": "https://localhost:8080/",
          "height": 136
        },
        "outputId": "7bd79908-4ee2-4a01-b22a-b7b89f5cc0ee"
      },
      "source": [
        "print(np_dataframe)"
      ],
      "execution_count": 106,
      "outputs": [
        {
          "output_type": "stream",
          "text": [
            "[['United States' True 809 'UNITED STATES']\n",
            " ['Australia' False 731 'AUSTRALIA']\n",
            " ['Japan' False 588 'JAPAN']\n",
            " ['India' False 18 'INDIA']\n",
            " ['Russia' True 200 'RUSSIA']\n",
            " ['Morocco' True 70 'MOROCCO']\n",
            " ['Egypt' True 45 'EGYPT']]\n"
          ],
          "name": "stdout"
        }
      ]
    },
    {
      "cell_type": "code",
      "metadata": {
        "id": "4GHgH87o4ixr",
        "colab_type": "code",
        "colab": {
          "base_uri": "https://localhost:8080/",
          "height": 34
        },
        "outputId": "f311cfa2-ed6b-4bf3-f313-1f9f5d544eaa"
      },
      "source": [
        "print(np_dataframe[2:3])"
      ],
      "execution_count": 107,
      "outputs": [
        {
          "output_type": "stream",
          "text": [
            "[['Japan' False 588 'JAPAN']]\n"
          ],
          "name": "stdout"
        }
      ]
    },
    {
      "cell_type": "markdown",
      "metadata": {
        "id": "gCD299KLIuvu",
        "colab_type": "text"
      },
      "source": [
        "### plotting the dataset"
      ]
    },
    {
      "cell_type": "code",
      "metadata": {
        "id": "WxG0jB83IyS6",
        "colab_type": "code",
        "colab": {
          "base_uri": "https://localhost:8080/",
          "height": 265
        },
        "outputId": "f35d6594-2afc-4a38-8f5b-7c79a3f4e7bd"
      },
      "source": [
        "#import matplotlib for plotting the data\n",
        "import matplotlib.pyplot as plt\n",
        "\n",
        "data_frame.plot()\n",
        "plt.show()              #it only plotted only cars_per_cap since its the only numeric type"
      ],
      "execution_count": 108,
      "outputs": [
        {
          "output_type": "display_data",
          "data": {
            "image/png": "[encoded data removed]",
            "text/plain": [
              "<Figure size 432x288 with 1 Axes>"
            ]
          },
          "metadata": {
            "tags": []
          }
        }
      ]
    }
  ]
}