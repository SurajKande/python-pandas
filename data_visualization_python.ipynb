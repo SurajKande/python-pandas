{
  "nbformat": 4,
  "nbformat_minor": 0,
  "metadata": {
    "colab": {
      "name": "data_visualization_python.ipynb",
      "provenance": [],
      "collapsed_sections": [
        "Z27VcSnatdOK",
        "vCwDxNWmwMXB",
        "stPg5uqpxc8B",
        "JrAyS9sJxgIK"
      ],
      "authorship_tag": "ABX9TyOIA3WD7JqHMtQjzE9XtAS+",
      "include_colab_link": true
    },
    "kernelspec": {
      "name": "python3",
      "display_name": "Python 3"
    }
  },
  "cells": [
    {
      "cell_type": "markdown",
      "metadata": {
        "id": "view-in-github",
        "colab_type": "text"
      },
      "source": [
        "<a href=\"https://colab.research.google.com/github/SurajKande/python-pandas/blob/master/data_visualization_python.ipynb\" target=\"_parent\"><img src=\"https://colab.research.google.com/assets/colab-badge.svg\" alt=\"Open In Colab\"/></a>"
      ]
    },
    {
      "cell_type": "markdown",
      "metadata": {
        "id": "1HnD9AESyJYY",
        "colab_type": "text"
      },
      "source": [
        "#Visual EDA"
      ]
    },
    {
      "cell_type": "markdown",
      "metadata": {
        "id": "Z27VcSnatdOK",
        "colab_type": "text"
      },
      "source": [
        "###Line plot\n"
      ]
    },
    {
      "cell_type": "code",
      "metadata": {
        "id": "xp2kplvOsqJ2",
        "colab_type": "code",
        "colab": {}
      },
      "source": [
        "# Import matplotlib.pyplot as plt\n",
        "import matplotlib.pyplot as plt\n",
        "\n",
        "# Make a line plot: \n",
        "plt.plot(year,pop)   # year on the x-axis, pop on the y-axis\n",
        "\n",
        "# Display the plot with plt.show()\n",
        "plt.show()\n",
        "\n",
        "# Make a scatter plot: \n",
        "plt.scatter(year, pop)   # year on the x-axis, pop on the y-axis\n",
        "plt.show()\n",
        "\n",
        "# Make a histogram of pop \n",
        "plt.hist(pop)"
      ],
      "execution_count": 0,
      "outputs": []
    },
    {
      "cell_type": "markdown",
      "metadata": {
        "id": "vCwDxNWmwMXB",
        "colab_type": "text"
      },
      "source": [
        "### Histograms\n",
        "for Histograms by default, Python sets the number of bins to 10 in that case. The number of bins is pretty important. Too few bins will oversimplify reality and won't show you the details. Too many bins will overcomplicate reality and won't show the bigger picture.\n",
        "\n",
        "To control the number of bins to divide your data in, you can set the bins argument."
      ]
    },
    {
      "cell_type": "code",
      "metadata": {
        "id": "HKPgdPegyLkX",
        "colab_type": "code",
        "colab": {}
      },
      "source": [
        "# creating histogram\n",
        "import matplotlib.pyplot as plt\n",
        "\n",
        "# Describe the column\n",
        "print(df['col_name'].describe())\n",
        "\n",
        "# Plot the histogram\n",
        "df['col_name'].plot(kind='hist', rot=70, logx=True, logy=True)\n",
        "\n",
        "# Display the histogram\n",
        "plt.show()\n",
        "plt.clf()"
      ],
      "execution_count": 0,
      "outputs": []
    },
    {
      "cell_type": "code",
      "metadata": {
        "id": "avL2sIWfwPi3",
        "colab_type": "code",
        "colab": {}
      },
      "source": [
        "plt.hist(df['col_name'], bins=5)         #for 5 bins\n",
        "# Show and clean up plot\n",
        "plt.show()\n",
        "plt.clf()\n",
        "\n",
        "# Build histogram with 20 bins\n",
        "plt.hist(df['col_name'], bins=20)        #for 20 bins\n",
        "\n",
        "# Show and clean up again\n",
        "plt.show()\n",
        "plt.clf()"
      ],
      "execution_count": 0,
      "outputs": []
    },
    {
      "cell_type": "markdown",
      "metadata": {
        "id": "stPg5uqpxc8B",
        "colab_type": "text"
      },
      "source": [
        "###Box plot"
      ]
    },
    {
      "cell_type": "code",
      "metadata": {
        "id": "rlpLm6vbzBZn",
        "colab_type": "code",
        "colab": {}
      },
      "source": [
        "# creating boxplot\n",
        "import pandas as pd\n",
        "import matplotlib.pyplot as plt\n",
        "\n",
        "# Create the boxplot\n",
        "df.boxplot(column='col_name_1', by='col_name_2', rot=90)\n",
        "\n",
        "# Display the plot\n",
        "plt.show()\n"
      ],
      "execution_count": 0,
      "outputs": []
    },
    {
      "cell_type": "markdown",
      "metadata": {
        "id": "JrAyS9sJxgIK",
        "colab_type": "text"
      },
      "source": [
        "### Scatter plot"
      ]
    },
    {
      "cell_type": "code",
      "metadata": {
        "id": "3DnogwJHzxiK",
        "colab_type": "code",
        "colab": {}
      },
      "source": [
        "# creating scatter plot\n",
        "import pandas as pd\n",
        "import matplotlib.pyplot as plt\n",
        "\n",
        "# Create and display the first scatter plot\n",
        "df.plot(kind='scatter', x='col_name_1', y='col_name_2', rot=70)\n",
        "plt.show()\n"
      ],
      "execution_count": 0,
      "outputs": []
    }
  ]
}