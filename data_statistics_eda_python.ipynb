{
  "nbformat": 4,
  "nbformat_minor": 0,
  "metadata": {
    "colab": {
      "name": "data_statistics_eda_python.ipynb",
      "provenance": [],
      "collapsed_sections": [],
      "authorship_tag": "ABX9TyMqwnzD06dP6PzEO5cIwcdj",
      "include_colab_link": true
    },
    "kernelspec": {
      "name": "python3",
      "display_name": "Python 3"
    }
  },
  "cells": [
    {
      "cell_type": "markdown",
      "metadata": {
        "id": "view-in-github",
        "colab_type": "text"
      },
      "source": [
        "<a href=\"https://colab.research.google.com/github/SurajKande/python-pandas/blob/master/data_statistics_eda_python.ipynb\" target=\"_parent\"><img src=\"https://colab.research.google.com/assets/colab-badge.svg\" alt=\"Open In Colab\"/></a>"
      ]
    },
    {
      "cell_type": "markdown",
      "metadata": {
        "id": "_VabfUrA6zBb",
        "colab_type": "text"
      },
      "source": [
        "## Basic statistic calculations to perform on data"
      ]
    },
    {
      "cell_type": "code",
      "metadata": {
        "id": "oZ0xfVa5f8lA",
        "colab_type": "code",
        "colab": {}
      },
      "source": [
        "# to read first 5 rows of a dataframe\n",
        "df.head()"
      ],
      "execution_count": 0,
      "outputs": []
    },
    {
      "cell_type": "code",
      "metadata": {
        "id": "Eoc_Q-iUoGtV",
        "colab_type": "code",
        "colab": {}
      },
      "source": [
        "# to read last 5 rows of a dataframe\n",
        "df.tail()"
      ],
      "execution_count": 0,
      "outputs": []
    },
    {
      "cell_type": "code",
      "metadata": {
        "id": "R36444MwoGpF",
        "colab_type": "code",
        "colab": {}
      },
      "source": [
        "#to print out the  columns index\n",
        "df.columns"
      ],
      "execution_count": 0,
      "outputs": []
    },
    {
      "cell_type": "code",
      "metadata": {
        "id": "CVobVHHDokGH",
        "colab_type": "code",
        "colab": {}
      },
      "source": [
        "#to know the number of rows and columns of the data\n",
        "df.shape"
      ],
      "execution_count": 0,
      "outputs": []
    },
    {
      "cell_type": "code",
      "metadata": {
        "id": "dFxnyAVIop_g",
        "colab_type": "code",
        "colab": {}
      },
      "source": [
        "#to get additional info\n",
        "df.info()"
      ],
      "execution_count": 0,
      "outputs": []
    },
    {
      "cell_type": "code",
      "metadata": {
        "id": "ZL0fRg8k57Wn",
        "colab_type": "code",
        "colab": {}
      },
      "source": [
        "#to get stastical data\n",
        "df.describe()          #only columns with numeric type are returned "
      ],
      "execution_count": 0,
      "outputs": []
    },
    {
      "cell_type": "code",
      "metadata": {
        "id": "Toiu1pTw6azS",
        "colab_type": "code",
        "colab": {}
      },
      "source": [
        "#to perform frequency count\n",
        "df['column_name'].value_counts()   # value_counts will print out the frequency of unique items in the column"
      ],
      "execution_count": 0,
      "outputs": []
    }
  ]
}