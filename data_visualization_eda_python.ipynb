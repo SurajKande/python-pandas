{
  "nbformat": 4,
  "nbformat_minor": 0,
  "metadata": {
    "colab": {
      "name": "data_visualization_eda_python.ipynb",
      "provenance": [],
      "collapsed_sections": [],
      "authorship_tag": "ABX9TyO1F6gEe1hQGEt1O46OTYm9",
      "include_colab_link": true
    },
    "kernelspec": {
      "name": "python3",
      "display_name": "Python 3"
    }
  },
  "cells": [
    {
      "cell_type": "markdown",
      "metadata": {
        "id": "view-in-github",
        "colab_type": "text"
      },
      "source": [
        "<a href=\"https://colab.research.google.com/github/SurajKande/python-pandas/blob/master/data_visualization_eda_python.ipynb\" target=\"_parent\"><img src=\"https://colab.research.google.com/assets/colab-badge.svg\" alt=\"Open In Colab\"/></a>"
      ]
    },
    {
      "cell_type": "markdown",
      "metadata": {
        "id": "1HnD9AESyJYY",
        "colab_type": "text"
      },
      "source": [
        "#Visual EDA"
      ]
    },
    {
      "cell_type": "code",
      "metadata": {
        "id": "HKPgdPegyLkX",
        "colab_type": "code",
        "colab": {}
      },
      "source": [
        "# creating histogram\n",
        "import matplotlib.pyplot as plt\n",
        "\n",
        "# Describe the column\n",
        "print(df['col_name'].describe())\n",
        "\n",
        "# Plot the histogram\n",
        "df['col_name'].plot(kind='hist', rot=70, logx=True, logy=True)\n",
        "\n",
        "# Display the histogram\n",
        "plt.show()"
      ],
      "execution_count": 0,
      "outputs": []
    },
    {
      "cell_type": "code",
      "metadata": {
        "id": "rlpLm6vbzBZn",
        "colab_type": "code",
        "colab": {}
      },
      "source": [
        "# creating boxplot\n",
        "import pandas as pd\n",
        "import matplotlib.pyplot as plt\n",
        "\n",
        "# Create the boxplot\n",
        "df.boxplot(column='col_name_1', by='col_name_2', rot=90)\n",
        "\n",
        "# Display the plot\n",
        "plt.show()\n"
      ],
      "execution_count": 0,
      "outputs": []
    },
    {
      "cell_type": "code",
      "metadata": {
        "id": "3DnogwJHzxiK",
        "colab_type": "code",
        "colab": {}
      },
      "source": [
        "# creating scatter plot\n",
        "import pandas as pd\n",
        "import matplotlib.pyplot as plt\n",
        "\n",
        "# Create and display the first scatter plot\n",
        "df.plot(kind='scatter', x='col_name_1', y='col_name_2', rot=70)\n",
        "plt.show()\n"
      ],
      "execution_count": 0,
      "outputs": []
    }
  ]
}