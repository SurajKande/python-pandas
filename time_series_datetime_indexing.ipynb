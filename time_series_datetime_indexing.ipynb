{
  "nbformat": 4,
  "nbformat_minor": 0,
  "metadata": {
    "colab": {
      "name": "time_series_datetime_indexing.ipynb",
      "provenance": [],
      "collapsed_sections": [],
      "authorship_tag": "ABX9TyNygzVBvtj4F+t4t5Gu7ycx",
      "include_colab_link": true
    },
    "kernelspec": {
      "name": "python3",
      "display_name": "Python 3"
    }
  },
  "cells": [
    {
      "cell_type": "markdown",
      "metadata": {
        "id": "view-in-github",
        "colab_type": "text"
      },
      "source": [
        "<a href=\"https://colab.research.google.com/github/SurajKande/python-pandas/blob/master/time_series_datetime_indexing.ipynb\" target=\"_parent\"><img src=\"https://colab.research.google.com/assets/colab-badge.svg\" alt=\"Open In Colab\"/></a>"
      ]
    },
    {
      "cell_type": "markdown",
      "metadata": {
        "id": "j3bGAD9afb2X",
        "colab_type": "text"
      },
      "source": [
        "to read DateTime from file, we need to specify `read_csv( ..., parse_dates = 'True', index_col='Date)`\n",
        "\n",
        "*   index_col = 'Date' means we are making the datetime column as index."
      ]
    },
    {
      "cell_type": "markdown",
      "metadata": {
        "id": "wETejQ-cfZy9",
        "colab_type": "text"
      },
      "source": [
        "\n",
        "*   we can use .loc method to access the row and column with datetime as index"
      ]
    },
    {
      "cell_type": "markdown",
      "metadata": {
        "id": "IaL1-567kSFx",
        "colab_type": "text"
      },
      "source": [
        "###Partial string indexing and slicing"
      ]
    },
    {
      "cell_type": "code",
      "metadata": {
        "id": "vQuG90XekQtV",
        "colab_type": "code",
        "colab": {}
      },
      "source": [
        "# Extract the hour from 9pm to 10pm on '2010-10-11': ts1\n",
        "data_frame_9_to_10_pm = data_frame.loc['2010-10-11 21:00:00':'2010-10-11 22:00:00']\n",
        "\n",
        "# Extract '2010-07-04' from ts0: ts2\n",
        "data_frame_july = data_frame.loc['2010-07-04']\n",
        "\n",
        "# Extract data from '2010-12-15' to '2010-12-31': ts3\n",
        "data_frame_15_to_31_december = data_frame.loc['2010-12-15' : '2010-12-31']"
      ],
      "execution_count": 0,
      "outputs": []
    },
    {
      "cell_type": "markdown",
      "metadata": {
        "id": "bNtjtQRClPpU",
        "colab_type": "text"
      },
      "source": [
        "### Reindexing the Index"
      ]
    },
    {
      "cell_type": "code",
      "metadata": {
        "id": "iZy-GOKflFM5",
        "colab_type": "code",
        "colab": {}
      },
      "source": [
        "# Reindex without fill method: ts3\n",
        "ts3 = ts2.reindex(ts1.index)\n",
        "\n",
        "# Reindex with fill method, using forward fill: ts4\n",
        "ts4 = ts2.reindex(ts1.index, method='ffill')\n",
        "\n",
        "# Combine ts1 + ts2: sum12\n",
        "sum12 = ts1 + ts2\n",
        "\n",
        "# Combine ts1 + ts3: sum13\n",
        "sum13 = ts1 + ts3\n",
        "\n",
        "# Combine ts1 + ts4: sum14\n",
        "sum14 = ts1 + ts4"
      ],
      "execution_count": 0,
      "outputs": []
    },
    {
      "cell_type": "markdown",
      "metadata": {
        "id": "e66oiwNglTBi",
        "colab_type": "text"
      },
      "source": [
        "### Resampling and frequency"
      ]
    },
    {
      "cell_type": "code",
      "metadata": {
        "id": "lZDjdHuNlTTc",
        "colab_type": "code",
        "colab": {}
      },
      "source": [
        "print(df['Temperature'])\n",
        "# Downsample to 6 hour data and aggregate by mean: df1\n",
        "df1 = df['Temperature'].resample('6h').mean()\n",
        "print(df1)\n",
        "# Downsample to daily data and count the number of data points: df2\n",
        "df2 = df['Temperature'].resample('D').count()\n",
        "print(df2)"
      ],
      "execution_count": 0,
      "outputs": []
    },
    {
      "cell_type": "markdown",
      "metadata": {
        "id": "xoLLmVaRldsK",
        "colab_type": "text"
      },
      "source": [
        "###Separating and resampling"
      ]
    },
    {
      "cell_type": "code",
      "metadata": {
        "id": "dZNN89Cold40",
        "colab_type": "code",
        "colab": {}
      },
      "source": [
        "# Extract temperature data for August: august\n",
        "#print(df.head(30))\n",
        "august = df['Temperature']['2010-08']\n",
        "#august = df['Temperature']['2010-August']\n",
        "# Downsample to obtain only the daily highest temperatures in August: august_highs\n",
        "august_highs = august.resample('D').max()\n",
        "\n",
        "# Extract temperature data for February: february\n",
        "february = df['Temperature']['2010-02']\n",
        "\n",
        "# Downsample to obtain the daily lowest temperatures in February: february_lows\n",
        "february_lows = february.resample('D').min()"
      ],
      "execution_count": 0,
      "outputs": []
    },
    {
      "cell_type": "markdown",
      "metadata": {
        "id": "oSjr_6zylia8",
        "colab_type": "text"
      },
      "source": [
        ""
      ]
    }
  ]
}