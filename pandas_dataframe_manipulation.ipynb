{
  "nbformat": 4,
  "nbformat_minor": 0,
  "metadata": {
    "colab": {
      "name": "pandas_dataframe_manipulation.ipynb",
      "provenance": [],
      "collapsed_sections": [
        "ie0s0MusChTM",
        "CgxL5NhJCcZv"
      ],
      "authorship_tag": "ABX9TyPIkn7YCkQ9CAF6tN18RODs",
      "include_colab_link": true
    },
    "kernelspec": {
      "name": "python3",
      "display_name": "Python 3"
    }
  },
  "cells": [
    {
      "cell_type": "markdown",
      "metadata": {
        "id": "view-in-github",
        "colab_type": "text"
      },
      "source": [
        "<a href=\"https://colab.research.google.com/github/SurajKande/python-pandas/blob/master/pandas_dataframe_manipulation.ipynb\" target=\"_parent\"><img src=\"https://colab.research.google.com/assets/colab-badge.svg\" alt=\"Open In Colab\"/></a>"
      ]
    },
    {
      "cell_type": "code",
      "metadata": {
        "id": "PpMB6VnW3Oh9",
        "colab_type": "code",
        "colab": {
          "base_uri": "https://localhost:8080/",
          "height": 122
        },
        "outputId": "df83f1c4-baf7-43c5-a9ff-f6c221d6c14e"
      },
      "source": [
        "# to connect gdrive to colab for importing dataset\n",
        "from google.colab import drive\n",
        "drive.mount('/content/gdrive', force_remount = True)"
      ],
      "execution_count": 1,
      "outputs": [
        {
          "output_type": "stream",
          "text": [
            "Go to this URL in a browser: https://accounts.google.com/o/oauth2/auth?client_id=947318989803-6bn6qk8qdgf4n4g3pfee6491hc0brc4i.apps.googleusercontent.com&redirect_uri=urn%3aietf%3awg%3aoauth%3a2.0%3aoob&response_type=code&scope=email%20https%3a%2f%2fwww.googleapis.com%2fauth%2fdocs.test%20https%3a%2f%2fwww.googleapis.com%2fauth%2fdrive%20https%3a%2f%2fwww.googleapis.com%2fauth%2fdrive.photos.readonly%20https%3a%2f%2fwww.googleapis.com%2fauth%2fpeopleapi.readonly\n",
            "\n",
            "Enter your authorization code:\n",
            "··········\n",
            "Mounted at /content/gdrive\n"
          ],
          "name": "stdout"
        }
      ]
    },
    {
      "cell_type": "code",
      "metadata": {
        "id": "HNPFJt-A5IaT",
        "colab_type": "code",
        "colab": {}
      },
      "source": [
        "import pandas as pd\n",
        "import matplotlib.pyplot as plt\n",
        "import numpy as np"
      ],
      "execution_count": 0,
      "outputs": []
    },
    {
      "cell_type": "code",
      "metadata": {
        "id": "h9pt0G6v40Nr",
        "colab_type": "code",
        "colab": {}
      },
      "source": [
        "election_data_frame = pd.read_csv('/content/gdrive/My Drive/datasets/pennsylvania2012_turnout.csv', header=0, index_col='county')"
      ],
      "execution_count": 0,
      "outputs": []
    },
    {
      "cell_type": "code",
      "metadata": {
        "id": "Q9avP0006FKy",
        "colab_type": "code",
        "colab": {
          "base_uri": "https://localhost:8080/",
          "height": 235
        },
        "outputId": "8f04490a-dbdc-4699-e810-d5300c159ed0"
      },
      "source": [
        "election_data_frame.head()"
      ],
      "execution_count": 5,
      "outputs": [
        {
          "output_type": "execute_result",
          "data": {
            "text/html": [
              "<div>\n",
              "<style scoped>\n",
              "    .dataframe tbody tr th:only-of-type {\n",
              "        vertical-align: middle;\n",
              "    }\n",
              "\n",
              "    .dataframe tbody tr th {\n",
              "        vertical-align: top;\n",
              "    }\n",
              "\n",
              "    .dataframe thead th {\n",
              "        text-align: right;\n",
              "    }\n",
              "</style>\n",
              "<table border=\"1\" class=\"dataframe\">\n",
              "  <thead>\n",
              "    <tr style=\"text-align: right;\">\n",
              "      <th></th>\n",
              "      <th>state</th>\n",
              "      <th>total</th>\n",
              "      <th>Obama</th>\n",
              "      <th>Romney</th>\n",
              "      <th>winner</th>\n",
              "      <th>voters</th>\n",
              "      <th>turnout</th>\n",
              "      <th>margin</th>\n",
              "    </tr>\n",
              "    <tr>\n",
              "      <th>county</th>\n",
              "      <th></th>\n",
              "      <th></th>\n",
              "      <th></th>\n",
              "      <th></th>\n",
              "      <th></th>\n",
              "      <th></th>\n",
              "      <th></th>\n",
              "      <th></th>\n",
              "    </tr>\n",
              "  </thead>\n",
              "  <tbody>\n",
              "    <tr>\n",
              "      <th>Adams</th>\n",
              "      <td>PA</td>\n",
              "      <td>41973</td>\n",
              "      <td>35.482334</td>\n",
              "      <td>63.112001</td>\n",
              "      <td>Romney</td>\n",
              "      <td>61156</td>\n",
              "      <td>68.632677</td>\n",
              "      <td>27.629667</td>\n",
              "    </tr>\n",
              "    <tr>\n",
              "      <th>Allegheny</th>\n",
              "      <td>PA</td>\n",
              "      <td>614671</td>\n",
              "      <td>56.640219</td>\n",
              "      <td>42.185820</td>\n",
              "      <td>Obama</td>\n",
              "      <td>924351</td>\n",
              "      <td>66.497575</td>\n",
              "      <td>14.454399</td>\n",
              "    </tr>\n",
              "    <tr>\n",
              "      <th>Armstrong</th>\n",
              "      <td>PA</td>\n",
              "      <td>28322</td>\n",
              "      <td>30.696985</td>\n",
              "      <td>67.901278</td>\n",
              "      <td>Romney</td>\n",
              "      <td>42147</td>\n",
              "      <td>67.198140</td>\n",
              "      <td>37.204293</td>\n",
              "    </tr>\n",
              "    <tr>\n",
              "      <th>Beaver</th>\n",
              "      <td>PA</td>\n",
              "      <td>80015</td>\n",
              "      <td>46.032619</td>\n",
              "      <td>52.637630</td>\n",
              "      <td>Romney</td>\n",
              "      <td>115157</td>\n",
              "      <td>69.483401</td>\n",
              "      <td>6.605012</td>\n",
              "    </tr>\n",
              "    <tr>\n",
              "      <th>Bedford</th>\n",
              "      <td>PA</td>\n",
              "      <td>21444</td>\n",
              "      <td>22.057452</td>\n",
              "      <td>76.986570</td>\n",
              "      <td>Romney</td>\n",
              "      <td>32189</td>\n",
              "      <td>66.619031</td>\n",
              "      <td>54.929118</td>\n",
              "    </tr>\n",
              "  </tbody>\n",
              "</table>\n",
              "</div>"
            ],
            "text/plain": [
              "          state   total      Obama  ...  voters    turnout     margin\n",
              "county                              ...                              \n",
              "Adams        PA   41973  35.482334  ...   61156  68.632677  27.629667\n",
              "Allegheny    PA  614671  56.640219  ...  924351  66.497575  14.454399\n",
              "Armstrong    PA   28322  30.696985  ...   42147  67.198140  37.204293\n",
              "Beaver       PA   80015  46.032619  ...  115157  69.483401   6.605012\n",
              "Bedford      PA   21444  22.057452  ...   32189  66.619031  54.929118\n",
              "\n",
              "[5 rows x 8 columns]"
            ]
          },
          "metadata": {
            "tags": []
          },
          "execution_count": 5
        }
      ]
    },
    {
      "cell_type": "code",
      "metadata": {
        "id": "ZMsiXzuqDIUd",
        "colab_type": "code",
        "colab": {
          "base_uri": "https://localhost:8080/",
          "height": 238
        },
        "outputId": "a1166f83-6292-4d96-d1ff-f337d6471cc3"
      },
      "source": [
        "election_data_frame.info()"
      ],
      "execution_count": 27,
      "outputs": [
        {
          "output_type": "stream",
          "text": [
            "<class 'pandas.core.frame.DataFrame'>\n",
            "Index: 67 entries, Adams to York\n",
            "Data columns (total 8 columns):\n",
            "state      67 non-null object\n",
            "total      67 non-null int64\n",
            "Obama      67 non-null float64\n",
            "Romney     67 non-null float64\n",
            "winner     67 non-null object\n",
            "voters     67 non-null int64\n",
            "turnout    67 non-null float64\n",
            "margin     67 non-null float64\n",
            "dtypes: float64(4), int64(2), object(2)\n",
            "memory usage: 7.2+ KB\n"
          ],
          "name": "stdout"
        }
      ]
    },
    {
      "cell_type": "code",
      "metadata": {
        "id": "imYsyeEODNDA",
        "colab_type": "code",
        "colab": {
          "base_uri": "https://localhost:8080/",
          "height": 297
        },
        "outputId": "8b2c1e73-46ef-45a8-fd9d-74b69d2e6979"
      },
      "source": [
        "election_data_frame.describe()"
      ],
      "execution_count": 28,
      "outputs": [
        {
          "output_type": "execute_result",
          "data": {
            "text/html": [
              "<div>\n",
              "<style scoped>\n",
              "    .dataframe tbody tr th:only-of-type {\n",
              "        vertical-align: middle;\n",
              "    }\n",
              "\n",
              "    .dataframe tbody tr th {\n",
              "        vertical-align: top;\n",
              "    }\n",
              "\n",
              "    .dataframe thead th {\n",
              "        text-align: right;\n",
              "    }\n",
              "</style>\n",
              "<table border=\"1\" class=\"dataframe\">\n",
              "  <thead>\n",
              "    <tr style=\"text-align: right;\">\n",
              "      <th></th>\n",
              "      <th>total</th>\n",
              "      <th>Obama</th>\n",
              "      <th>Romney</th>\n",
              "      <th>voters</th>\n",
              "      <th>turnout</th>\n",
              "      <th>margin</th>\n",
              "    </tr>\n",
              "  </thead>\n",
              "  <tbody>\n",
              "    <tr>\n",
              "      <th>count</th>\n",
              "      <td>67.000000</td>\n",
              "      <td>67.000000</td>\n",
              "      <td>67.000000</td>\n",
              "      <td>6.700000e+01</td>\n",
              "      <td>67.000000</td>\n",
              "      <td>67.000000</td>\n",
              "    </tr>\n",
              "    <tr>\n",
              "      <th>mean</th>\n",
              "      <td>83529.835821</td>\n",
              "      <td>40.777673</td>\n",
              "      <td>57.778871</td>\n",
              "      <td>1.269853e+05</td>\n",
              "      <td>64.228564</td>\n",
              "      <td>23.098439</td>\n",
              "    </tr>\n",
              "    <tr>\n",
              "      <th>std</th>\n",
              "      <td>125943.736544</td>\n",
              "      <td>10.887539</td>\n",
              "      <td>10.810693</td>\n",
              "      <td>1.930612e+05</td>\n",
              "      <td>5.197579</td>\n",
              "      <td>14.917905</td>\n",
              "    </tr>\n",
              "    <tr>\n",
              "      <th>min</th>\n",
              "      <td>1967.000000</td>\n",
              "      <td>21.096291</td>\n",
              "      <td>14.051451</td>\n",
              "      <td>3.232000e+03</td>\n",
              "      <td>52.569235</td>\n",
              "      <td>0.029069</td>\n",
              "    </tr>\n",
              "    <tr>\n",
              "      <th>25%</th>\n",
              "      <td>16386.500000</td>\n",
              "      <td>33.550316</td>\n",
              "      <td>52.544467</td>\n",
              "      <td>2.608200e+04</td>\n",
              "      <td>60.923223</td>\n",
              "      <td>12.849021</td>\n",
              "    </tr>\n",
              "    <tr>\n",
              "      <th>50%</th>\n",
              "      <td>33875.000000</td>\n",
              "      <td>39.360513</td>\n",
              "      <td>58.888277</td>\n",
              "      <td>5.497800e+04</td>\n",
              "      <td>64.971835</td>\n",
              "      <td>20.952971</td>\n",
              "    </tr>\n",
              "    <tr>\n",
              "      <th>75%</th>\n",
              "      <td>93597.000000</td>\n",
              "      <td>45.796105</td>\n",
              "      <td>65.117987</td>\n",
              "      <td>1.459025e+05</td>\n",
              "      <td>68.214879</td>\n",
              "      <td>33.425459</td>\n",
              "    </tr>\n",
              "    <tr>\n",
              "      <th>max</th>\n",
              "      <td>653598.000000</td>\n",
              "      <td>85.224251</td>\n",
              "      <td>77.748861</td>\n",
              "      <td>1.099197e+06</td>\n",
              "      <td>73.498766</td>\n",
              "      <td>71.172800</td>\n",
              "    </tr>\n",
              "  </tbody>\n",
              "</table>\n",
              "</div>"
            ],
            "text/plain": [
              "               total      Obama     Romney        voters    turnout     margin\n",
              "count      67.000000  67.000000  67.000000  6.700000e+01  67.000000  67.000000\n",
              "mean    83529.835821  40.777673  57.778871  1.269853e+05  64.228564  23.098439\n",
              "std    125943.736544  10.887539  10.810693  1.930612e+05   5.197579  14.917905\n",
              "min      1967.000000  21.096291  14.051451  3.232000e+03  52.569235   0.029069\n",
              "25%     16386.500000  33.550316  52.544467  2.608200e+04  60.923223  12.849021\n",
              "50%     33875.000000  39.360513  58.888277  5.497800e+04  64.971835  20.952971\n",
              "75%     93597.000000  45.796105  65.117987  1.459025e+05  68.214879  33.425459\n",
              "max    653598.000000  85.224251  77.748861  1.099197e+06  73.498766  71.172800"
            ]
          },
          "metadata": {
            "tags": []
          },
          "execution_count": 28
        }
      ]
    },
    {
      "cell_type": "markdown",
      "metadata": {
        "id": "ie0s0MusChTM",
        "colab_type": "text"
      },
      "source": [
        "###Subsetting data frame"
      ]
    },
    {
      "cell_type": "code",
      "metadata": {
        "id": "33R7q5SU6972",
        "colab_type": "code",
        "colab": {}
      },
      "source": [
        "#subsetting the dataframe\n",
        "election_result = election_data_frame[['winner', 'state', 'voters']]"
      ],
      "execution_count": 0,
      "outputs": []
    },
    {
      "cell_type": "code",
      "metadata": {
        "id": "mw0NWO4f8YeN",
        "colab_type": "code",
        "colab": {}
      },
      "source": [
        "p = election_data_frame.index"
      ],
      "execution_count": 0,
      "outputs": []
    },
    {
      "cell_type": "code",
      "metadata": {
        "id": "VlgaeV3f8rOk",
        "colab_type": "code",
        "colab": {
          "base_uri": "https://localhost:8080/",
          "height": 238
        },
        "outputId": "aa9f7255-7738-426d-9d67-5b8646ccaf8c"
      },
      "source": [
        "print(p)"
      ],
      "execution_count": 13,
      "outputs": [
        {
          "output_type": "stream",
          "text": [
            "Index(['Adams', 'Allegheny', 'Armstrong', 'Beaver', 'Bedford', 'Berks',\n",
            "       'Blair', 'Bradford', 'Bucks', 'Butler', 'Cambria', 'Cameron', 'Carbon',\n",
            "       'Centre', 'Chester', 'Clarion', 'Clearfield', 'Clinton', 'Columbia',\n",
            "       'Crawford', 'Cumberland', 'Dauphin', 'Delaware', 'Elk', 'Erie',\n",
            "       'Fayette', 'Forest', 'Franklin', 'Fulton', 'Greene', 'Huntingdon',\n",
            "       'Indiana', 'Jefferson', 'Juniata', 'Lackawanna', 'Lancaster',\n",
            "       'Lawrence', 'Lebanon', 'Lehigh', 'Luzerne', 'Lycoming', 'McKean',\n",
            "       'Mercer', 'Mifflin', 'Monroe', 'Montgomery', 'Montour', 'Northampton',\n",
            "       'Northumberland', 'Perry', 'Philadelphia', 'Pike', 'Potter',\n",
            "       'Schuylkill', 'Snyder', 'Somerset', 'Sullivan', 'Susquehanna', 'Tioga',\n",
            "       'Union', 'Venango', 'Warren', 'Washington', 'Wayne', 'Westmoreland',\n",
            "       'Wyoming', 'York'],\n",
            "      dtype='object', name='county')\n"
          ],
          "name": "stdout"
        }
      ]
    },
    {
      "cell_type": "code",
      "metadata": {
        "id": "cYhKVdUP7Mu0",
        "colab_type": "code",
        "colab": {
          "base_uri": "https://localhost:8080/",
          "height": 235
        },
        "outputId": "d75432ea-8229-42a0-cd6d-1dda6cf69496"
      },
      "source": [
        "election_result.head()"
      ],
      "execution_count": 7,
      "outputs": [
        {
          "output_type": "execute_result",
          "data": {
            "text/html": [
              "<div>\n",
              "<style scoped>\n",
              "    .dataframe tbody tr th:only-of-type {\n",
              "        vertical-align: middle;\n",
              "    }\n",
              "\n",
              "    .dataframe tbody tr th {\n",
              "        vertical-align: top;\n",
              "    }\n",
              "\n",
              "    .dataframe thead th {\n",
              "        text-align: right;\n",
              "    }\n",
              "</style>\n",
              "<table border=\"1\" class=\"dataframe\">\n",
              "  <thead>\n",
              "    <tr style=\"text-align: right;\">\n",
              "      <th></th>\n",
              "      <th>winner</th>\n",
              "      <th>state</th>\n",
              "      <th>voters</th>\n",
              "    </tr>\n",
              "    <tr>\n",
              "      <th>county</th>\n",
              "      <th></th>\n",
              "      <th></th>\n",
              "      <th></th>\n",
              "    </tr>\n",
              "  </thead>\n",
              "  <tbody>\n",
              "    <tr>\n",
              "      <th>Adams</th>\n",
              "      <td>Romney</td>\n",
              "      <td>PA</td>\n",
              "      <td>61156</td>\n",
              "    </tr>\n",
              "    <tr>\n",
              "      <th>Allegheny</th>\n",
              "      <td>Obama</td>\n",
              "      <td>PA</td>\n",
              "      <td>924351</td>\n",
              "    </tr>\n",
              "    <tr>\n",
              "      <th>Armstrong</th>\n",
              "      <td>Romney</td>\n",
              "      <td>PA</td>\n",
              "      <td>42147</td>\n",
              "    </tr>\n",
              "    <tr>\n",
              "      <th>Beaver</th>\n",
              "      <td>Romney</td>\n",
              "      <td>PA</td>\n",
              "      <td>115157</td>\n",
              "    </tr>\n",
              "    <tr>\n",
              "      <th>Bedford</th>\n",
              "      <td>Romney</td>\n",
              "      <td>PA</td>\n",
              "      <td>32189</td>\n",
              "    </tr>\n",
              "  </tbody>\n",
              "</table>\n",
              "</div>"
            ],
            "text/plain": [
              "           winner state  voters\n",
              "county                         \n",
              "Adams      Romney    PA   61156\n",
              "Allegheny   Obama    PA  924351\n",
              "Armstrong  Romney    PA   42147\n",
              "Beaver     Romney    PA  115157\n",
              "Bedford    Romney    PA   32189"
            ]
          },
          "metadata": {
            "tags": []
          },
          "execution_count": 7
        }
      ]
    },
    {
      "cell_type": "code",
      "metadata": {
        "id": "qqFOQylv_Pro",
        "colab_type": "code",
        "colab": {
          "base_uri": "https://localhost:8080/",
          "height": 173
        },
        "outputId": "8acc3ad9-ef4c-4833-fd31-b585da09042f"
      },
      "source": [
        "#subsetting the dataframe Alternative\n",
        "rows = ['Philadelphia', 'Centre', 'Fulton']\n",
        "col = ['winner', 'Obama', 'Romney']\n",
        "PCL_counties = election_data_frame.loc[rows,col]\n",
        "PCL_counties.head()"
      ],
      "execution_count": 24,
      "outputs": [
        {
          "output_type": "execute_result",
          "data": {
            "text/html": [
              "<div>\n",
              "<style scoped>\n",
              "    .dataframe tbody tr th:only-of-type {\n",
              "        vertical-align: middle;\n",
              "    }\n",
              "\n",
              "    .dataframe tbody tr th {\n",
              "        vertical-align: top;\n",
              "    }\n",
              "\n",
              "    .dataframe thead th {\n",
              "        text-align: right;\n",
              "    }\n",
              "</style>\n",
              "<table border=\"1\" class=\"dataframe\">\n",
              "  <thead>\n",
              "    <tr style=\"text-align: right;\">\n",
              "      <th></th>\n",
              "      <th>winner</th>\n",
              "      <th>Obama</th>\n",
              "      <th>Romney</th>\n",
              "    </tr>\n",
              "    <tr>\n",
              "      <th>county</th>\n",
              "      <th></th>\n",
              "      <th></th>\n",
              "      <th></th>\n",
              "    </tr>\n",
              "  </thead>\n",
              "  <tbody>\n",
              "    <tr>\n",
              "      <th>Philadelphia</th>\n",
              "      <td>Obama</td>\n",
              "      <td>85.224251</td>\n",
              "      <td>14.051451</td>\n",
              "    </tr>\n",
              "    <tr>\n",
              "      <th>Centre</th>\n",
              "      <td>Romney</td>\n",
              "      <td>48.948416</td>\n",
              "      <td>48.977486</td>\n",
              "    </tr>\n",
              "    <tr>\n",
              "      <th>Fulton</th>\n",
              "      <td>Romney</td>\n",
              "      <td>21.096291</td>\n",
              "      <td>77.748861</td>\n",
              "    </tr>\n",
              "  </tbody>\n",
              "</table>\n",
              "</div>"
            ],
            "text/plain": [
              "              winner      Obama     Romney\n",
              "county                                    \n",
              "Philadelphia   Obama  85.224251  14.051451\n",
              "Centre        Romney  48.948416  48.977486\n",
              "Fulton        Romney  21.096291  77.748861"
            ]
          },
          "metadata": {
            "tags": []
          },
          "execution_count": 24
        }
      ]
    },
    {
      "cell_type": "markdown",
      "metadata": {
        "id": "CgxL5NhJCcZv",
        "colab_type": "text"
      },
      "source": [
        "###Slicing rows and column of dataframe"
      ]
    },
    {
      "cell_type": "code",
      "metadata": {
        "id": "Lx79QQ_A8JF0",
        "colab_type": "code",
        "colab": {}
      },
      "source": [
        "# slicing rows using lables\n",
        "counties_p = election_data_frame.loc['Perry':'Potter']"
      ],
      "execution_count": 0,
      "outputs": []
    },
    {
      "cell_type": "code",
      "metadata": {
        "id": "FzOopZFV87ri",
        "colab_type": "code",
        "colab": {
          "base_uri": "https://localhost:8080/",
          "height": 153
        },
        "outputId": "81946757-a38e-49cc-8682-49b468570e14"
      },
      "source": [
        "print(counties_p)"
      ],
      "execution_count": 17,
      "outputs": [
        {
          "output_type": "stream",
          "text": [
            "             state   total      Obama  ...   voters    turnout     margin\n",
            "county                                 ...                               \n",
            "Perry           PA   18240  29.769737  ...    27245  66.948064  38.821272\n",
            "Philadelphia    PA  653598  85.224251  ...  1099197  59.461407  71.172800\n",
            "Pike            PA   23164  43.904334  ...    41840  55.363289  10.978242\n",
            "Potter          PA    7205  26.259542  ...    10913  66.022175  45.898681\n",
            "\n",
            "[4 rows x 8 columns]\n"
          ],
          "name": "stdout"
        }
      ]
    },
    {
      "cell_type": "code",
      "metadata": {
        "id": "y98OWgYA9APl",
        "colab_type": "code",
        "colab": {
          "base_uri": "https://localhost:8080/",
          "height": 153
        },
        "outputId": "78718a9d-b9a3-4d28-efc9-c49088356ef8"
      },
      "source": [
        "# slice rows in reverse order\n",
        "counties_p_rev = election_data_frame.loc['Potter':'Perry':-1]\n",
        "print(counties_p_rev)"
      ],
      "execution_count": 20,
      "outputs": [
        {
          "output_type": "stream",
          "text": [
            "             state   total      Obama  ...   voters    turnout     margin\n",
            "county                                 ...                               \n",
            "Potter          PA    7205  26.259542  ...    10913  66.022175  45.898681\n",
            "Pike            PA   23164  43.904334  ...    41840  55.363289  10.978242\n",
            "Philadelphia    PA  653598  85.224251  ...  1099197  59.461407  71.172800\n",
            "Perry           PA   18240  29.769737  ...    27245  66.948064  38.821272\n",
            "\n",
            "[4 rows x 8 columns]\n"
          ],
          "name": "stdout"
        }
      ]
    },
    {
      "cell_type": "code",
      "metadata": {
        "id": "FvvDKADn-WM6",
        "colab_type": "code",
        "colab": {
          "base_uri": "https://localhost:8080/",
          "height": 136
        },
        "outputId": "66b11073-2872-4c88-94b5-a90e511f9541"
      },
      "source": [
        "# slicing columns \n",
        "# Slice the columns from the starting column to 'Obama': left_columns\n",
        "left_columns = election_data_frame.loc[:,:'Obama']\n",
        "\n",
        "# Print the output of left_columns.head()\n",
        "print(left_columns.head())"
      ],
      "execution_count": 21,
      "outputs": [
        {
          "output_type": "stream",
          "text": [
            "          state   total      Obama\n",
            "county                            \n",
            "Adams        PA   41973  35.482334\n",
            "Allegheny    PA  614671  56.640219\n",
            "Armstrong    PA   28322  30.696985\n",
            "Beaver       PA   80015  46.032619\n",
            "Bedford      PA   21444  22.057452\n"
          ],
          "name": "stdout"
        }
      ]
    },
    {
      "cell_type": "code",
      "metadata": {
        "id": "R3xPu0CO-k3v",
        "colab_type": "code",
        "colab": {
          "base_uri": "https://localhost:8080/",
          "height": 136
        },
        "outputId": "5005be30-9ea6-4d7a-97e9-ffd030b57915"
      },
      "source": [
        "# Slice the columns from 'Obama' to 'winner': middle_columns\n",
        "middle_columns = election_data_frame.loc[:,'Obama' : 'winner']\n",
        "\n",
        "# Print the output of middle_columns.head()\n",
        "print(middle_columns.head())"
      ],
      "execution_count": 22,
      "outputs": [
        {
          "output_type": "stream",
          "text": [
            "               Obama     Romney  winner\n",
            "county                                 \n",
            "Adams      35.482334  63.112001  Romney\n",
            "Allegheny  56.640219  42.185820   Obama\n",
            "Armstrong  30.696985  67.901278  Romney\n",
            "Beaver     46.032619  52.637630  Romney\n",
            "Bedford    22.057452  76.986570  Romney\n"
          ],
          "name": "stdout"
        }
      ]
    },
    {
      "cell_type": "code",
      "metadata": {
        "id": "tvqk2rpt-mJX",
        "colab_type": "code",
        "colab": {
          "base_uri": "https://localhost:8080/",
          "height": 136
        },
        "outputId": "cebcacd7-2d4e-4c8f-fc99-a9512634c03e"
      },
      "source": [
        "# Slice the columns from 'Romney' to the end: 'right_columns'\n",
        "right_columns = election_data_frame.loc[:,'Romney':]\n",
        "\n",
        "# Print the output of right_columns.head()\n",
        "print(right_columns.head())"
      ],
      "execution_count": 23,
      "outputs": [
        {
          "output_type": "stream",
          "text": [
            "              Romney  winner  voters    turnout     margin\n",
            "county                                                    \n",
            "Adams      63.112001  Romney   61156  68.632677  27.629667\n",
            "Allegheny  42.185820   Obama  924351  66.497575  14.454399\n",
            "Armstrong  67.901278  Romney   42147  67.198140  37.204293\n",
            "Beaver     52.637630  Romney  115157  69.483401   6.605012\n",
            "Bedford    76.986570  Romney   32189  66.619031  54.929118\n"
          ],
          "name": "stdout"
        }
      ]
    },
    {
      "cell_type": "markdown",
      "metadata": {
        "id": "EB9p5ljDCmzI",
        "colab_type": "text"
      },
      "source": [
        "###filtering "
      ]
    },
    {
      "cell_type": "code",
      "metadata": {
        "id": "M7kk2VojCoed",
        "colab_type": "code",
        "colab": {
          "base_uri": "https://localhost:8080/",
          "height": 235
        },
        "outputId": "1099b1fa-275e-4c35-e554-ccb849e94a71"
      },
      "source": [
        "highturn_out = election_data_frame['turnout'] > 70\n",
        "highturn_out_data_frame = election_data_frame[highturn_out]\n",
        "highturn_out_data_frame.head()"
      ],
      "execution_count": 26,
      "outputs": [
        {
          "output_type": "execute_result",
          "data": {
            "text/html": [
              "<div>\n",
              "<style scoped>\n",
              "    .dataframe tbody tr th:only-of-type {\n",
              "        vertical-align: middle;\n",
              "    }\n",
              "\n",
              "    .dataframe tbody tr th {\n",
              "        vertical-align: top;\n",
              "    }\n",
              "\n",
              "    .dataframe thead th {\n",
              "        text-align: right;\n",
              "    }\n",
              "</style>\n",
              "<table border=\"1\" class=\"dataframe\">\n",
              "  <thead>\n",
              "    <tr style=\"text-align: right;\">\n",
              "      <th></th>\n",
              "      <th>state</th>\n",
              "      <th>total</th>\n",
              "      <th>Obama</th>\n",
              "      <th>Romney</th>\n",
              "      <th>winner</th>\n",
              "      <th>voters</th>\n",
              "      <th>turnout</th>\n",
              "      <th>margin</th>\n",
              "    </tr>\n",
              "    <tr>\n",
              "      <th>county</th>\n",
              "      <th></th>\n",
              "      <th></th>\n",
              "      <th></th>\n",
              "      <th></th>\n",
              "      <th></th>\n",
              "      <th></th>\n",
              "      <th></th>\n",
              "      <th></th>\n",
              "    </tr>\n",
              "  </thead>\n",
              "  <tbody>\n",
              "    <tr>\n",
              "      <th>Bucks</th>\n",
              "      <td>PA</td>\n",
              "      <td>319407</td>\n",
              "      <td>49.966970</td>\n",
              "      <td>48.801686</td>\n",
              "      <td>Obama</td>\n",
              "      <td>435606</td>\n",
              "      <td>73.324748</td>\n",
              "      <td>1.165284</td>\n",
              "    </tr>\n",
              "    <tr>\n",
              "      <th>Butler</th>\n",
              "      <td>PA</td>\n",
              "      <td>88924</td>\n",
              "      <td>31.920516</td>\n",
              "      <td>66.816607</td>\n",
              "      <td>Romney</td>\n",
              "      <td>122762</td>\n",
              "      <td>72.436096</td>\n",
              "      <td>34.896091</td>\n",
              "    </tr>\n",
              "    <tr>\n",
              "      <th>Chester</th>\n",
              "      <td>PA</td>\n",
              "      <td>248295</td>\n",
              "      <td>49.228539</td>\n",
              "      <td>49.650617</td>\n",
              "      <td>Romney</td>\n",
              "      <td>337822</td>\n",
              "      <td>73.498766</td>\n",
              "      <td>0.422079</td>\n",
              "    </tr>\n",
              "    <tr>\n",
              "      <th>Forest</th>\n",
              "      <td>PA</td>\n",
              "      <td>2308</td>\n",
              "      <td>38.734835</td>\n",
              "      <td>59.835355</td>\n",
              "      <td>Romney</td>\n",
              "      <td>3232</td>\n",
              "      <td>71.410891</td>\n",
              "      <td>21.100520</td>\n",
              "    </tr>\n",
              "    <tr>\n",
              "      <th>Franklin</th>\n",
              "      <td>PA</td>\n",
              "      <td>62802</td>\n",
              "      <td>30.110506</td>\n",
              "      <td>68.583803</td>\n",
              "      <td>Romney</td>\n",
              "      <td>87406</td>\n",
              "      <td>71.850903</td>\n",
              "      <td>38.473297</td>\n",
              "    </tr>\n",
              "  </tbody>\n",
              "</table>\n",
              "</div>"
            ],
            "text/plain": [
              "         state   total      Obama  ...  voters    turnout     margin\n",
              "county                             ...                              \n",
              "Bucks       PA  319407  49.966970  ...  435606  73.324748   1.165284\n",
              "Butler      PA   88924  31.920516  ...  122762  72.436096  34.896091\n",
              "Chester     PA  248295  49.228539  ...  337822  73.498766   0.422079\n",
              "Forest      PA    2308  38.734835  ...    3232  71.410891  21.100520\n",
              "Franklin    PA   62802  30.110506  ...   87406  71.850903  38.473297\n",
              "\n",
              "[5 rows x 8 columns]"
            ]
          },
          "metadata": {
            "tags": []
          },
          "execution_count": 26
        }
      ]
    },
    {
      "cell_type": "code",
      "metadata": {
        "id": "g3HMECc7I9mL",
        "colab_type": "code",
        "colab": {
          "base_uri": "https://localhost:8080/",
          "height": 255
        },
        "outputId": "cec7119f-ab17-4e51-9333-36e694b37237"
      },
      "source": [
        "#\n",
        "too_close = election_data_frame['margin'] < 1\n",
        "\n",
        "# Assign np.nan to the 'winner' column where the results were too close to call\n",
        "election_data_frame.loc[too_close, 'winner'] = np.nan\n",
        "\n",
        "# Print the output of election.info()\n",
        "print(election_data_frame.info())            # we can observer 3 of the entries have cahnged to NaN for 'winner' column\n"
      ],
      "execution_count": 30,
      "outputs": [
        {
          "output_type": "stream",
          "text": [
            "<class 'pandas.core.frame.DataFrame'>\n",
            "Index: 67 entries, Adams to York\n",
            "Data columns (total 8 columns):\n",
            "state      67 non-null object\n",
            "total      67 non-null int64\n",
            "Obama      67 non-null float64\n",
            "Romney     67 non-null float64\n",
            "winner     64 non-null object\n",
            "voters     67 non-null int64\n",
            "turnout    67 non-null float64\n",
            "margin     67 non-null float64\n",
            "dtypes: float64(4), int64(2), object(2)\n",
            "memory usage: 7.2+ KB\n",
            "None\n"
          ],
          "name": "stdout"
        }
      ]
    },
    {
      "cell_type": "markdown",
      "metadata": {
        "id": "eDTgM-GrRPB1",
        "colab_type": "text"
      },
      "source": [
        "### using .map() "
      ]
    },
    {
      "cell_type": "code",
      "metadata": {
        "id": "zvnUbjNbJji0",
        "colab_type": "code",
        "colab": {}
      },
      "source": [
        "red_blue = {'Obama':'red','Romney':'blue'}\n",
        "election_data_frame['result_color'] = election_data_frame['winner'].map(red_blue)"
      ],
      "execution_count": 0,
      "outputs": []
    },
    {
      "cell_type": "code",
      "metadata": {
        "id": "8y0cGfbzRsXD",
        "colab_type": "code",
        "colab": {
          "base_uri": "https://localhost:8080/",
          "height": 235
        },
        "outputId": "2ecf6836-15d4-434e-dd29-0517cbea3102"
      },
      "source": [
        "election_data_frame.head()"
      ],
      "execution_count": 33,
      "outputs": [
        {
          "output_type": "execute_result",
          "data": {
            "text/html": [
              "<div>\n",
              "<style scoped>\n",
              "    .dataframe tbody tr th:only-of-type {\n",
              "        vertical-align: middle;\n",
              "    }\n",
              "\n",
              "    .dataframe tbody tr th {\n",
              "        vertical-align: top;\n",
              "    }\n",
              "\n",
              "    .dataframe thead th {\n",
              "        text-align: right;\n",
              "    }\n",
              "</style>\n",
              "<table border=\"1\" class=\"dataframe\">\n",
              "  <thead>\n",
              "    <tr style=\"text-align: right;\">\n",
              "      <th></th>\n",
              "      <th>state</th>\n",
              "      <th>total</th>\n",
              "      <th>Obama</th>\n",
              "      <th>Romney</th>\n",
              "      <th>winner</th>\n",
              "      <th>voters</th>\n",
              "      <th>turnout</th>\n",
              "      <th>margin</th>\n",
              "      <th>result_color</th>\n",
              "    </tr>\n",
              "    <tr>\n",
              "      <th>county</th>\n",
              "      <th></th>\n",
              "      <th></th>\n",
              "      <th></th>\n",
              "      <th></th>\n",
              "      <th></th>\n",
              "      <th></th>\n",
              "      <th></th>\n",
              "      <th></th>\n",
              "      <th></th>\n",
              "    </tr>\n",
              "  </thead>\n",
              "  <tbody>\n",
              "    <tr>\n",
              "      <th>Adams</th>\n",
              "      <td>PA</td>\n",
              "      <td>41973</td>\n",
              "      <td>35.482334</td>\n",
              "      <td>63.112001</td>\n",
              "      <td>Romney</td>\n",
              "      <td>61156</td>\n",
              "      <td>68.632677</td>\n",
              "      <td>27.629667</td>\n",
              "      <td>blue</td>\n",
              "    </tr>\n",
              "    <tr>\n",
              "      <th>Allegheny</th>\n",
              "      <td>PA</td>\n",
              "      <td>614671</td>\n",
              "      <td>56.640219</td>\n",
              "      <td>42.185820</td>\n",
              "      <td>Obama</td>\n",
              "      <td>924351</td>\n",
              "      <td>66.497575</td>\n",
              "      <td>14.454399</td>\n",
              "      <td>red</td>\n",
              "    </tr>\n",
              "    <tr>\n",
              "      <th>Armstrong</th>\n",
              "      <td>PA</td>\n",
              "      <td>28322</td>\n",
              "      <td>30.696985</td>\n",
              "      <td>67.901278</td>\n",
              "      <td>Romney</td>\n",
              "      <td>42147</td>\n",
              "      <td>67.198140</td>\n",
              "      <td>37.204293</td>\n",
              "      <td>blue</td>\n",
              "    </tr>\n",
              "    <tr>\n",
              "      <th>Beaver</th>\n",
              "      <td>PA</td>\n",
              "      <td>80015</td>\n",
              "      <td>46.032619</td>\n",
              "      <td>52.637630</td>\n",
              "      <td>Romney</td>\n",
              "      <td>115157</td>\n",
              "      <td>69.483401</td>\n",
              "      <td>6.605012</td>\n",
              "      <td>blue</td>\n",
              "    </tr>\n",
              "    <tr>\n",
              "      <th>Bedford</th>\n",
              "      <td>PA</td>\n",
              "      <td>21444</td>\n",
              "      <td>22.057452</td>\n",
              "      <td>76.986570</td>\n",
              "      <td>Romney</td>\n",
              "      <td>32189</td>\n",
              "      <td>66.619031</td>\n",
              "      <td>54.929118</td>\n",
              "      <td>blue</td>\n",
              "    </tr>\n",
              "  </tbody>\n",
              "</table>\n",
              "</div>"
            ],
            "text/plain": [
              "          state   total      Obama  ...    turnout     margin  result_color\n",
              "county                              ...                                    \n",
              "Adams        PA   41973  35.482334  ...  68.632677  27.629667          blue\n",
              "Allegheny    PA  614671  56.640219  ...  66.497575  14.454399           red\n",
              "Armstrong    PA   28322  30.696985  ...  67.198140  37.204293          blue\n",
              "Beaver       PA   80015  46.032619  ...  69.483401   6.605012          blue\n",
              "Bedford      PA   21444  22.057452  ...  66.619031  54.929118          blue\n",
              "\n",
              "[5 rows x 9 columns]"
            ]
          },
          "metadata": {
            "tags": []
          },
          "execution_count": 33
        }
      ]
    },
    {
      "cell_type": "markdown",
      "metadata": {
        "id": "XaQLKKzfSbf7",
        "colab_type": "text"
      },
      "source": [
        "### Using vectorized functions:\n",
        "using vectorized functions, we can loop over the data at the same speed as compiled code (C, Fortran, etc.)! NumPy, SciPy and pandas come with a variety of vectorized functions called Universal Functions "
      ]
    },
    {
      "cell_type": "markdown",
      "metadata": {
        "id": "7Gjy_iDeTIOd",
        "colab_type": "text"
      },
      "source": [
        "zscore : z-score is the number of standard deviations by which an observation is above the mean - so if it is negative, it means the observation is below the mean."
      ]
    },
    {
      "cell_type": "code",
      "metadata": {
        "id": "egouHPMDSdi6",
        "colab_type": "code",
        "colab": {
          "base_uri": "https://localhost:8080/",
          "height": 187
        },
        "outputId": "6be2095f-64f3-482b-d745-ff80a2a1dcc4"
      },
      "source": [
        "# Import zscore from scipy.stats\n",
        "from scipy.stats import zscore\n",
        "\n",
        "# Call zscore with election['turnout'] as input: turnout_zscore\n",
        "turnout_zscore = zscore(election_data_frame['turnout'])\n",
        "\n",
        "# Print the type of turnout_zscore\n",
        "print(type(turnout_zscore))\n",
        "\n",
        "# Assign turnout_zscore to a new column: election['turnout_zscore']\n",
        "election_data_frame['turnout_zscore'] = turnout_zscore\n",
        "\n",
        "# Print the output of election.head()\n",
        "print(election_data_frame.head())"
      ],
      "execution_count": 34,
      "outputs": [
        {
          "output_type": "stream",
          "text": [
            "<class 'numpy.ndarray'>\n",
            "          state   total      Obama  ...     margin result_color  turnout_zscore\n",
            "county                              ...                                        \n",
            "Adams        PA   41973  35.482334  ...  27.629667         blue        0.853734\n",
            "Allegheny    PA  614671  56.640219  ...  14.454399          red        0.439846\n",
            "Armstrong    PA   28322  30.696985  ...  37.204293         blue        0.575650\n",
            "Beaver       PA   80015  46.032619  ...   6.605012         blue        1.018647\n",
            "Bedford      PA   21444  22.057452  ...  54.929118         blue        0.463391\n",
            "\n",
            "[5 rows x 10 columns]\n"
          ],
          "name": "stdout"
        }
      ]
    }
  ]
}