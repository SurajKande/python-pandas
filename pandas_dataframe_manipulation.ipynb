{
  "nbformat": 4,
  "nbformat_minor": 0,
  "metadata": {
    "colab": {
      "name": "pandas_dataframe_manipulation.ipynb",
      "provenance": [],
      "collapsed_sections": [
        "ie0s0MusChTM",
        "CgxL5NhJCcZv",
        "EB9p5ljDCmzI",
        "eDTgM-GrRPB1",
        "XaQLKKzfSbf7",
        "-IzIotg5INAy",
        "nmzSbiKINvOt",
        "KLJ1l3Jggs28",
        "tgdRtBnfml54"
      ],
      "authorship_tag": "ABX9TyPl+57x9Ap66d6/BtCx5lT2",
      "include_colab_link": true
    },
    "kernelspec": {
      "name": "python3",
      "display_name": "Python 3"
    }
  },
  "cells": [
    {
      "cell_type": "markdown",
      "metadata": {
        "id": "view-in-github",
        "colab_type": "text"
      },
      "source": [
        "<a href=\"https://colab.research.google.com/github/SurajKande/python-pandas/blob/master/pandas_dataframe_manipulation.ipynb\" target=\"_parent\"><img src=\"https://colab.research.google.com/assets/colab-badge.svg\" alt=\"Open In Colab\"/></a>"
      ]
    },
    {
      "cell_type": "code",
      "metadata": {
        "id": "PpMB6VnW3Oh9",
        "colab_type": "code",
        "outputId": "8b5b9f6c-da79-40e0-a41d-082491b6a0a7",
        "colab": {
          "base_uri": "https://localhost:8080/",
          "height": 34
        }
      },
      "source": [
        "# to connect gdrive to colab for importing dataset\n",
        "from google.colab import drive\n",
        "drive.mount('/content/gdrive', force_remount = True)"
      ],
      "execution_count": 46,
      "outputs": [
        {
          "output_type": "stream",
          "text": [
            "Mounted at /content/gdrive\n"
          ],
          "name": "stdout"
        }
      ]
    },
    {
      "cell_type": "code",
      "metadata": {
        "id": "HNPFJt-A5IaT",
        "colab_type": "code",
        "colab": {}
      },
      "source": [
        "import pandas as pd\n",
        "import matplotlib.pyplot as plt\n",
        "import numpy as np"
      ],
      "execution_count": 0,
      "outputs": []
    },
    {
      "cell_type": "code",
      "metadata": {
        "id": "h9pt0G6v40Nr",
        "colab_type": "code",
        "colab": {}
      },
      "source": [
        "election_data_frame = pd.read_csv('/content/gdrive/My Drive/datasets/pennsylvania2012_turnout.csv', header=0, index_col='county')"
      ],
      "execution_count": 0,
      "outputs": []
    },
    {
      "cell_type": "code",
      "metadata": {
        "id": "Q9avP0006FKy",
        "colab_type": "code",
        "outputId": "be662bff-efb4-4bd8-cade-cc4c7b927f01",
        "colab": {
          "base_uri": "https://localhost:8080/",
          "height": 225
        }
      },
      "source": [
        "election_data_frame.head()"
      ],
      "execution_count": 49,
      "outputs": [
        {
          "output_type": "execute_result",
          "data": {
            "text/html": [
              "<div>\n",
              "<style scoped>\n",
              "    .dataframe tbody tr th:only-of-type {\n",
              "        vertical-align: middle;\n",
              "    }\n",
              "\n",
              "    .dataframe tbody tr th {\n",
              "        vertical-align: top;\n",
              "    }\n",
              "\n",
              "    .dataframe thead th {\n",
              "        text-align: right;\n",
              "    }\n",
              "</style>\n",
              "<table border=\"1\" class=\"dataframe\">\n",
              "  <thead>\n",
              "    <tr style=\"text-align: right;\">\n",
              "      <th></th>\n",
              "      <th>state</th>\n",
              "      <th>total</th>\n",
              "      <th>Obama</th>\n",
              "      <th>Romney</th>\n",
              "      <th>winner</th>\n",
              "      <th>voters</th>\n",
              "      <th>turnout</th>\n",
              "      <th>margin</th>\n",
              "    </tr>\n",
              "    <tr>\n",
              "      <th>county</th>\n",
              "      <th></th>\n",
              "      <th></th>\n",
              "      <th></th>\n",
              "      <th></th>\n",
              "      <th></th>\n",
              "      <th></th>\n",
              "      <th></th>\n",
              "      <th></th>\n",
              "    </tr>\n",
              "  </thead>\n",
              "  <tbody>\n",
              "    <tr>\n",
              "      <th>Adams</th>\n",
              "      <td>PA</td>\n",
              "      <td>41973</td>\n",
              "      <td>35.482334</td>\n",
              "      <td>63.112001</td>\n",
              "      <td>Romney</td>\n",
              "      <td>61156</td>\n",
              "      <td>68.632677</td>\n",
              "      <td>27.629667</td>\n",
              "    </tr>\n",
              "    <tr>\n",
              "      <th>Allegheny</th>\n",
              "      <td>PA</td>\n",
              "      <td>614671</td>\n",
              "      <td>56.640219</td>\n",
              "      <td>42.185820</td>\n",
              "      <td>Obama</td>\n",
              "      <td>924351</td>\n",
              "      <td>66.497575</td>\n",
              "      <td>14.454399</td>\n",
              "    </tr>\n",
              "    <tr>\n",
              "      <th>Armstrong</th>\n",
              "      <td>PA</td>\n",
              "      <td>28322</td>\n",
              "      <td>30.696985</td>\n",
              "      <td>67.901278</td>\n",
              "      <td>Romney</td>\n",
              "      <td>42147</td>\n",
              "      <td>67.198140</td>\n",
              "      <td>37.204293</td>\n",
              "    </tr>\n",
              "    <tr>\n",
              "      <th>Beaver</th>\n",
              "      <td>PA</td>\n",
              "      <td>80015</td>\n",
              "      <td>46.032619</td>\n",
              "      <td>52.637630</td>\n",
              "      <td>Romney</td>\n",
              "      <td>115157</td>\n",
              "      <td>69.483401</td>\n",
              "      <td>6.605012</td>\n",
              "    </tr>\n",
              "    <tr>\n",
              "      <th>Bedford</th>\n",
              "      <td>PA</td>\n",
              "      <td>21444</td>\n",
              "      <td>22.057452</td>\n",
              "      <td>76.986570</td>\n",
              "      <td>Romney</td>\n",
              "      <td>32189</td>\n",
              "      <td>66.619031</td>\n",
              "      <td>54.929118</td>\n",
              "    </tr>\n",
              "  </tbody>\n",
              "</table>\n",
              "</div>"
            ],
            "text/plain": [
              "          state   total      Obama  ...  voters    turnout     margin\n",
              "county                              ...                              \n",
              "Adams        PA   41973  35.482334  ...   61156  68.632677  27.629667\n",
              "Allegheny    PA  614671  56.640219  ...  924351  66.497575  14.454399\n",
              "Armstrong    PA   28322  30.696985  ...   42147  67.198140  37.204293\n",
              "Beaver       PA   80015  46.032619  ...  115157  69.483401   6.605012\n",
              "Bedford      PA   21444  22.057452  ...   32189  66.619031  54.929118\n",
              "\n",
              "[5 rows x 8 columns]"
            ]
          },
          "metadata": {
            "tags": []
          },
          "execution_count": 49
        }
      ]
    },
    {
      "cell_type": "code",
      "metadata": {
        "id": "ZMsiXzuqDIUd",
        "colab_type": "code",
        "outputId": "5b540c2a-6317-4901-d552-06250b6ac5ed",
        "colab": {
          "base_uri": "https://localhost:8080/",
          "height": 235
        }
      },
      "source": [
        "election_data_frame.info()"
      ],
      "execution_count": 50,
      "outputs": [
        {
          "output_type": "stream",
          "text": [
            "<class 'pandas.core.frame.DataFrame'>\n",
            "Index: 67 entries, Adams to York\n",
            "Data columns (total 8 columns):\n",
            "state      67 non-null object\n",
            "total      67 non-null int64\n",
            "Obama      67 non-null float64\n",
            "Romney     67 non-null float64\n",
            "winner     67 non-null object\n",
            "voters     67 non-null int64\n",
            "turnout    67 non-null float64\n",
            "margin     67 non-null float64\n",
            "dtypes: float64(4), int64(2), object(2)\n",
            "memory usage: 4.7+ KB\n"
          ],
          "name": "stdout"
        }
      ]
    },
    {
      "cell_type": "code",
      "metadata": {
        "id": "imYsyeEODNDA",
        "colab_type": "code",
        "outputId": "c6876c21-9f26-4983-8857-7d0be0927dc4",
        "colab": {
          "base_uri": "https://localhost:8080/",
          "height": 284
        }
      },
      "source": [
        "election_data_frame.describe()"
      ],
      "execution_count": 51,
      "outputs": [
        {
          "output_type": "execute_result",
          "data": {
            "text/html": [
              "<div>\n",
              "<style scoped>\n",
              "    .dataframe tbody tr th:only-of-type {\n",
              "        vertical-align: middle;\n",
              "    }\n",
              "\n",
              "    .dataframe tbody tr th {\n",
              "        vertical-align: top;\n",
              "    }\n",
              "\n",
              "    .dataframe thead th {\n",
              "        text-align: right;\n",
              "    }\n",
              "</style>\n",
              "<table border=\"1\" class=\"dataframe\">\n",
              "  <thead>\n",
              "    <tr style=\"text-align: right;\">\n",
              "      <th></th>\n",
              "      <th>total</th>\n",
              "      <th>Obama</th>\n",
              "      <th>Romney</th>\n",
              "      <th>voters</th>\n",
              "      <th>turnout</th>\n",
              "      <th>margin</th>\n",
              "    </tr>\n",
              "  </thead>\n",
              "  <tbody>\n",
              "    <tr>\n",
              "      <th>count</th>\n",
              "      <td>67.000000</td>\n",
              "      <td>67.000000</td>\n",
              "      <td>67.000000</td>\n",
              "      <td>6.700000e+01</td>\n",
              "      <td>67.000000</td>\n",
              "      <td>67.000000</td>\n",
              "    </tr>\n",
              "    <tr>\n",
              "      <th>mean</th>\n",
              "      <td>83529.835821</td>\n",
              "      <td>40.777673</td>\n",
              "      <td>57.778871</td>\n",
              "      <td>1.269853e+05</td>\n",
              "      <td>64.228564</td>\n",
              "      <td>23.098439</td>\n",
              "    </tr>\n",
              "    <tr>\n",
              "      <th>std</th>\n",
              "      <td>125943.736544</td>\n",
              "      <td>10.887539</td>\n",
              "      <td>10.810693</td>\n",
              "      <td>1.930612e+05</td>\n",
              "      <td>5.197579</td>\n",
              "      <td>14.917905</td>\n",
              "    </tr>\n",
              "    <tr>\n",
              "      <th>min</th>\n",
              "      <td>1967.000000</td>\n",
              "      <td>21.096291</td>\n",
              "      <td>14.051451</td>\n",
              "      <td>3.232000e+03</td>\n",
              "      <td>52.569235</td>\n",
              "      <td>0.029069</td>\n",
              "    </tr>\n",
              "    <tr>\n",
              "      <th>25%</th>\n",
              "      <td>16386.500000</td>\n",
              "      <td>33.550316</td>\n",
              "      <td>52.544467</td>\n",
              "      <td>2.608200e+04</td>\n",
              "      <td>60.923223</td>\n",
              "      <td>12.849021</td>\n",
              "    </tr>\n",
              "    <tr>\n",
              "      <th>50%</th>\n",
              "      <td>33875.000000</td>\n",
              "      <td>39.360513</td>\n",
              "      <td>58.888277</td>\n",
              "      <td>5.497800e+04</td>\n",
              "      <td>64.971835</td>\n",
              "      <td>20.952971</td>\n",
              "    </tr>\n",
              "    <tr>\n",
              "      <th>75%</th>\n",
              "      <td>93597.000000</td>\n",
              "      <td>45.796105</td>\n",
              "      <td>65.117987</td>\n",
              "      <td>1.459025e+05</td>\n",
              "      <td>68.214879</td>\n",
              "      <td>33.425459</td>\n",
              "    </tr>\n",
              "    <tr>\n",
              "      <th>max</th>\n",
              "      <td>653598.000000</td>\n",
              "      <td>85.224251</td>\n",
              "      <td>77.748861</td>\n",
              "      <td>1.099197e+06</td>\n",
              "      <td>73.498766</td>\n",
              "      <td>71.172800</td>\n",
              "    </tr>\n",
              "  </tbody>\n",
              "</table>\n",
              "</div>"
            ],
            "text/plain": [
              "               total      Obama     Romney        voters    turnout     margin\n",
              "count      67.000000  67.000000  67.000000  6.700000e+01  67.000000  67.000000\n",
              "mean    83529.835821  40.777673  57.778871  1.269853e+05  64.228564  23.098439\n",
              "std    125943.736544  10.887539  10.810693  1.930612e+05   5.197579  14.917905\n",
              "min      1967.000000  21.096291  14.051451  3.232000e+03  52.569235   0.029069\n",
              "25%     16386.500000  33.550316  52.544467  2.608200e+04  60.923223  12.849021\n",
              "50%     33875.000000  39.360513  58.888277  5.497800e+04  64.971835  20.952971\n",
              "75%     93597.000000  45.796105  65.117987  1.459025e+05  68.214879  33.425459\n",
              "max    653598.000000  85.224251  77.748861  1.099197e+06  73.498766  71.172800"
            ]
          },
          "metadata": {
            "tags": []
          },
          "execution_count": 51
        }
      ]
    },
    {
      "cell_type": "markdown",
      "metadata": {
        "id": "ie0s0MusChTM",
        "colab_type": "text"
      },
      "source": [
        "###Subsetting data frame"
      ]
    },
    {
      "cell_type": "code",
      "metadata": {
        "id": "33R7q5SU6972",
        "colab_type": "code",
        "colab": {}
      },
      "source": [
        "#subsetting the dataframe\n",
        "election_result = election_data_frame[['winner', 'state', 'voters']]"
      ],
      "execution_count": 0,
      "outputs": []
    },
    {
      "cell_type": "code",
      "metadata": {
        "id": "mw0NWO4f8YeN",
        "colab_type": "code",
        "colab": {}
      },
      "source": [
        "p = election_data_frame.index"
      ],
      "execution_count": 0,
      "outputs": []
    },
    {
      "cell_type": "code",
      "metadata": {
        "id": "VlgaeV3f8rOk",
        "colab_type": "code",
        "outputId": "3a8071cf-43d5-4c0b-cb44-9fdcfdc5794e",
        "colab": {
          "base_uri": "https://localhost:8080/",
          "height": 235
        }
      },
      "source": [
        "print(p)"
      ],
      "execution_count": 54,
      "outputs": [
        {
          "output_type": "stream",
          "text": [
            "Index(['Adams', 'Allegheny', 'Armstrong', 'Beaver', 'Bedford', 'Berks',\n",
            "       'Blair', 'Bradford', 'Bucks', 'Butler', 'Cambria', 'Cameron', 'Carbon',\n",
            "       'Centre', 'Chester', 'Clarion', 'Clearfield', 'Clinton', 'Columbia',\n",
            "       'Crawford', 'Cumberland', 'Dauphin', 'Delaware', 'Elk', 'Erie',\n",
            "       'Fayette', 'Forest', 'Franklin', 'Fulton', 'Greene', 'Huntingdon',\n",
            "       'Indiana', 'Jefferson', 'Juniata', 'Lackawanna', 'Lancaster',\n",
            "       'Lawrence', 'Lebanon', 'Lehigh', 'Luzerne', 'Lycoming', 'McKean',\n",
            "       'Mercer', 'Mifflin', 'Monroe', 'Montgomery', 'Montour', 'Northampton',\n",
            "       'Northumberland', 'Perry', 'Philadelphia', 'Pike', 'Potter',\n",
            "       'Schuylkill', 'Snyder', 'Somerset', 'Sullivan', 'Susquehanna', 'Tioga',\n",
            "       'Union', 'Venango', 'Warren', 'Washington', 'Wayne', 'Westmoreland',\n",
            "       'Wyoming', 'York'],\n",
            "      dtype='object', name='county')\n"
          ],
          "name": "stdout"
        }
      ]
    },
    {
      "cell_type": "code",
      "metadata": {
        "id": "cYhKVdUP7Mu0",
        "colab_type": "code",
        "outputId": "e01bba9b-2122-41b4-ce0d-8e02cc9649b5",
        "colab": {
          "base_uri": "https://localhost:8080/",
          "height": 225
        }
      },
      "source": [
        "election_result.head()"
      ],
      "execution_count": 55,
      "outputs": [
        {
          "output_type": "execute_result",
          "data": {
            "text/html": [
              "<div>\n",
              "<style scoped>\n",
              "    .dataframe tbody tr th:only-of-type {\n",
              "        vertical-align: middle;\n",
              "    }\n",
              "\n",
              "    .dataframe tbody tr th {\n",
              "        vertical-align: top;\n",
              "    }\n",
              "\n",
              "    .dataframe thead th {\n",
              "        text-align: right;\n",
              "    }\n",
              "</style>\n",
              "<table border=\"1\" class=\"dataframe\">\n",
              "  <thead>\n",
              "    <tr style=\"text-align: right;\">\n",
              "      <th></th>\n",
              "      <th>winner</th>\n",
              "      <th>state</th>\n",
              "      <th>voters</th>\n",
              "    </tr>\n",
              "    <tr>\n",
              "      <th>county</th>\n",
              "      <th></th>\n",
              "      <th></th>\n",
              "      <th></th>\n",
              "    </tr>\n",
              "  </thead>\n",
              "  <tbody>\n",
              "    <tr>\n",
              "      <th>Adams</th>\n",
              "      <td>Romney</td>\n",
              "      <td>PA</td>\n",
              "      <td>61156</td>\n",
              "    </tr>\n",
              "    <tr>\n",
              "      <th>Allegheny</th>\n",
              "      <td>Obama</td>\n",
              "      <td>PA</td>\n",
              "      <td>924351</td>\n",
              "    </tr>\n",
              "    <tr>\n",
              "      <th>Armstrong</th>\n",
              "      <td>Romney</td>\n",
              "      <td>PA</td>\n",
              "      <td>42147</td>\n",
              "    </tr>\n",
              "    <tr>\n",
              "      <th>Beaver</th>\n",
              "      <td>Romney</td>\n",
              "      <td>PA</td>\n",
              "      <td>115157</td>\n",
              "    </tr>\n",
              "    <tr>\n",
              "      <th>Bedford</th>\n",
              "      <td>Romney</td>\n",
              "      <td>PA</td>\n",
              "      <td>32189</td>\n",
              "    </tr>\n",
              "  </tbody>\n",
              "</table>\n",
              "</div>"
            ],
            "text/plain": [
              "           winner state  voters\n",
              "county                         \n",
              "Adams      Romney    PA   61156\n",
              "Allegheny   Obama    PA  924351\n",
              "Armstrong  Romney    PA   42147\n",
              "Beaver     Romney    PA  115157\n",
              "Bedford    Romney    PA   32189"
            ]
          },
          "metadata": {
            "tags": []
          },
          "execution_count": 55
        }
      ]
    },
    {
      "cell_type": "code",
      "metadata": {
        "id": "qqFOQylv_Pro",
        "colab_type": "code",
        "outputId": "e97a67f4-62c6-45f4-b876-43df9ac81cc0",
        "colab": {
          "base_uri": "https://localhost:8080/",
          "height": 166
        }
      },
      "source": [
        "#subsetting the dataframe Alternative\n",
        "rows = ['Philadelphia', 'Centre', 'Fulton']\n",
        "col = ['winner', 'Obama', 'Romney']\n",
        "PCL_counties = election_data_frame.loc[rows,col]\n",
        "PCL_counties.head()"
      ],
      "execution_count": 56,
      "outputs": [
        {
          "output_type": "execute_result",
          "data": {
            "text/html": [
              "<div>\n",
              "<style scoped>\n",
              "    .dataframe tbody tr th:only-of-type {\n",
              "        vertical-align: middle;\n",
              "    }\n",
              "\n",
              "    .dataframe tbody tr th {\n",
              "        vertical-align: top;\n",
              "    }\n",
              "\n",
              "    .dataframe thead th {\n",
              "        text-align: right;\n",
              "    }\n",
              "</style>\n",
              "<table border=\"1\" class=\"dataframe\">\n",
              "  <thead>\n",
              "    <tr style=\"text-align: right;\">\n",
              "      <th></th>\n",
              "      <th>winner</th>\n",
              "      <th>Obama</th>\n",
              "      <th>Romney</th>\n",
              "    </tr>\n",
              "    <tr>\n",
              "      <th>county</th>\n",
              "      <th></th>\n",
              "      <th></th>\n",
              "      <th></th>\n",
              "    </tr>\n",
              "  </thead>\n",
              "  <tbody>\n",
              "    <tr>\n",
              "      <th>Philadelphia</th>\n",
              "      <td>Obama</td>\n",
              "      <td>85.224251</td>\n",
              "      <td>14.051451</td>\n",
              "    </tr>\n",
              "    <tr>\n",
              "      <th>Centre</th>\n",
              "      <td>Romney</td>\n",
              "      <td>48.948416</td>\n",
              "      <td>48.977486</td>\n",
              "    </tr>\n",
              "    <tr>\n",
              "      <th>Fulton</th>\n",
              "      <td>Romney</td>\n",
              "      <td>21.096291</td>\n",
              "      <td>77.748861</td>\n",
              "    </tr>\n",
              "  </tbody>\n",
              "</table>\n",
              "</div>"
            ],
            "text/plain": [
              "              winner      Obama     Romney\n",
              "county                                    \n",
              "Philadelphia   Obama  85.224251  14.051451\n",
              "Centre        Romney  48.948416  48.977486\n",
              "Fulton        Romney  21.096291  77.748861"
            ]
          },
          "metadata": {
            "tags": []
          },
          "execution_count": 56
        }
      ]
    },
    {
      "cell_type": "markdown",
      "metadata": {
        "id": "CgxL5NhJCcZv",
        "colab_type": "text"
      },
      "source": [
        "###Slicing rows and column of dataframe"
      ]
    },
    {
      "cell_type": "code",
      "metadata": {
        "id": "Lx79QQ_A8JF0",
        "colab_type": "code",
        "colab": {}
      },
      "source": [
        "# slicing rows using lables\n",
        "counties_p = election_data_frame.loc['Perry':'Potter']"
      ],
      "execution_count": 0,
      "outputs": []
    },
    {
      "cell_type": "code",
      "metadata": {
        "id": "FzOopZFV87ri",
        "colab_type": "code",
        "outputId": "8c41f5f4-90e4-47eb-9885-62a3392e2cac",
        "colab": {
          "base_uri": "https://localhost:8080/",
          "height": 151
        }
      },
      "source": [
        "print(counties_p)"
      ],
      "execution_count": 58,
      "outputs": [
        {
          "output_type": "stream",
          "text": [
            "             state   total      Obama  ...   voters    turnout     margin\n",
            "county                                 ...                               \n",
            "Perry           PA   18240  29.769737  ...    27245  66.948064  38.821272\n",
            "Philadelphia    PA  653598  85.224251  ...  1099197  59.461407  71.172800\n",
            "Pike            PA   23164  43.904334  ...    41840  55.363289  10.978242\n",
            "Potter          PA    7205  26.259542  ...    10913  66.022175  45.898681\n",
            "\n",
            "[4 rows x 8 columns]\n"
          ],
          "name": "stdout"
        }
      ]
    },
    {
      "cell_type": "code",
      "metadata": {
        "id": "y98OWgYA9APl",
        "colab_type": "code",
        "outputId": "22ba903e-1e43-43c1-c9e8-3ec83f928866",
        "colab": {
          "base_uri": "https://localhost:8080/",
          "height": 151
        }
      },
      "source": [
        "# slice rows in reverse order\n",
        "counties_p_rev = election_data_frame.loc['Potter':'Perry':-1]\n",
        "print(counties_p_rev)"
      ],
      "execution_count": 59,
      "outputs": [
        {
          "output_type": "stream",
          "text": [
            "             state   total      Obama  ...   voters    turnout     margin\n",
            "county                                 ...                               \n",
            "Potter          PA    7205  26.259542  ...    10913  66.022175  45.898681\n",
            "Pike            PA   23164  43.904334  ...    41840  55.363289  10.978242\n",
            "Philadelphia    PA  653598  85.224251  ...  1099197  59.461407  71.172800\n",
            "Perry           PA   18240  29.769737  ...    27245  66.948064  38.821272\n",
            "\n",
            "[4 rows x 8 columns]\n"
          ],
          "name": "stdout"
        }
      ]
    },
    {
      "cell_type": "code",
      "metadata": {
        "id": "FvvDKADn-WM6",
        "colab_type": "code",
        "outputId": "0f22526a-aa8f-4c99-c7c7-b8637c7f22f8",
        "colab": {
          "base_uri": "https://localhost:8080/",
          "height": 134
        }
      },
      "source": [
        "# slicing columns \n",
        "\n",
        "# Slice the columns from the starting column to 'Obama': left_columns\n",
        "left_columns = election_data_frame.loc[:,:'Obama']\n",
        "\n",
        "# Print the output of left_columns.head()\n",
        "print(left_columns.head())"
      ],
      "execution_count": 60,
      "outputs": [
        {
          "output_type": "stream",
          "text": [
            "          state   total      Obama\n",
            "county                            \n",
            "Adams        PA   41973  35.482334\n",
            "Allegheny    PA  614671  56.640219\n",
            "Armstrong    PA   28322  30.696985\n",
            "Beaver       PA   80015  46.032619\n",
            "Bedford      PA   21444  22.057452\n"
          ],
          "name": "stdout"
        }
      ]
    },
    {
      "cell_type": "code",
      "metadata": {
        "id": "R3xPu0CO-k3v",
        "colab_type": "code",
        "outputId": "ca3ec462-7682-443c-ea40-fa6d27dea8c1",
        "colab": {
          "base_uri": "https://localhost:8080/",
          "height": 134
        }
      },
      "source": [
        "# Slice the columns from 'Obama' to 'winner': middle_columns\n",
        "middle_columns = election_data_frame.loc[:,'Obama' : 'winner']\n",
        "\n",
        "# Print the output of middle_columns.head()\n",
        "print(middle_columns.head())"
      ],
      "execution_count": 61,
      "outputs": [
        {
          "output_type": "stream",
          "text": [
            "               Obama     Romney  winner\n",
            "county                                 \n",
            "Adams      35.482334  63.112001  Romney\n",
            "Allegheny  56.640219  42.185820   Obama\n",
            "Armstrong  30.696985  67.901278  Romney\n",
            "Beaver     46.032619  52.637630  Romney\n",
            "Bedford    22.057452  76.986570  Romney\n"
          ],
          "name": "stdout"
        }
      ]
    },
    {
      "cell_type": "code",
      "metadata": {
        "id": "tvqk2rpt-mJX",
        "colab_type": "code",
        "outputId": "94ef4270-231c-4c14-9548-f2455018c817",
        "colab": {
          "base_uri": "https://localhost:8080/",
          "height": 134
        }
      },
      "source": [
        "# Slice the columns from 'Romney' to the end: 'right_columns'\n",
        "right_columns = election_data_frame.loc[:,'Romney':]\n",
        "\n",
        "# Print the output of right_columns.head()\n",
        "print(right_columns.head())"
      ],
      "execution_count": 62,
      "outputs": [
        {
          "output_type": "stream",
          "text": [
            "              Romney  winner  voters    turnout     margin\n",
            "county                                                    \n",
            "Adams      63.112001  Romney   61156  68.632677  27.629667\n",
            "Allegheny  42.185820   Obama  924351  66.497575  14.454399\n",
            "Armstrong  67.901278  Romney   42147  67.198140  37.204293\n",
            "Beaver     52.637630  Romney  115157  69.483401   6.605012\n",
            "Bedford    76.986570  Romney   32189  66.619031  54.929118\n"
          ],
          "name": "stdout"
        }
      ]
    },
    {
      "cell_type": "markdown",
      "metadata": {
        "id": "EB9p5ljDCmzI",
        "colab_type": "text"
      },
      "source": [
        "###filtering "
      ]
    },
    {
      "cell_type": "code",
      "metadata": {
        "id": "M7kk2VojCoed",
        "colab_type": "code",
        "outputId": "bbb12b55-9ee4-4e17-e44e-5606726e2a82",
        "colab": {
          "base_uri": "https://localhost:8080/",
          "height": 225
        }
      },
      "source": [
        "highturn_out = election_data_frame['turnout'] > 70\n",
        "highturn_out_data_frame = election_data_frame[highturn_out]\n",
        "highturn_out_data_frame.head()"
      ],
      "execution_count": 63,
      "outputs": [
        {
          "output_type": "execute_result",
          "data": {
            "text/html": [
              "<div>\n",
              "<style scoped>\n",
              "    .dataframe tbody tr th:only-of-type {\n",
              "        vertical-align: middle;\n",
              "    }\n",
              "\n",
              "    .dataframe tbody tr th {\n",
              "        vertical-align: top;\n",
              "    }\n",
              "\n",
              "    .dataframe thead th {\n",
              "        text-align: right;\n",
              "    }\n",
              "</style>\n",
              "<table border=\"1\" class=\"dataframe\">\n",
              "  <thead>\n",
              "    <tr style=\"text-align: right;\">\n",
              "      <th></th>\n",
              "      <th>state</th>\n",
              "      <th>total</th>\n",
              "      <th>Obama</th>\n",
              "      <th>Romney</th>\n",
              "      <th>winner</th>\n",
              "      <th>voters</th>\n",
              "      <th>turnout</th>\n",
              "      <th>margin</th>\n",
              "    </tr>\n",
              "    <tr>\n",
              "      <th>county</th>\n",
              "      <th></th>\n",
              "      <th></th>\n",
              "      <th></th>\n",
              "      <th></th>\n",
              "      <th></th>\n",
              "      <th></th>\n",
              "      <th></th>\n",
              "      <th></th>\n",
              "    </tr>\n",
              "  </thead>\n",
              "  <tbody>\n",
              "    <tr>\n",
              "      <th>Bucks</th>\n",
              "      <td>PA</td>\n",
              "      <td>319407</td>\n",
              "      <td>49.966970</td>\n",
              "      <td>48.801686</td>\n",
              "      <td>Obama</td>\n",
              "      <td>435606</td>\n",
              "      <td>73.324748</td>\n",
              "      <td>1.165284</td>\n",
              "    </tr>\n",
              "    <tr>\n",
              "      <th>Butler</th>\n",
              "      <td>PA</td>\n",
              "      <td>88924</td>\n",
              "      <td>31.920516</td>\n",
              "      <td>66.816607</td>\n",
              "      <td>Romney</td>\n",
              "      <td>122762</td>\n",
              "      <td>72.436096</td>\n",
              "      <td>34.896091</td>\n",
              "    </tr>\n",
              "    <tr>\n",
              "      <th>Chester</th>\n",
              "      <td>PA</td>\n",
              "      <td>248295</td>\n",
              "      <td>49.228539</td>\n",
              "      <td>49.650617</td>\n",
              "      <td>Romney</td>\n",
              "      <td>337822</td>\n",
              "      <td>73.498766</td>\n",
              "      <td>0.422079</td>\n",
              "    </tr>\n",
              "    <tr>\n",
              "      <th>Forest</th>\n",
              "      <td>PA</td>\n",
              "      <td>2308</td>\n",
              "      <td>38.734835</td>\n",
              "      <td>59.835355</td>\n",
              "      <td>Romney</td>\n",
              "      <td>3232</td>\n",
              "      <td>71.410891</td>\n",
              "      <td>21.100520</td>\n",
              "    </tr>\n",
              "    <tr>\n",
              "      <th>Franklin</th>\n",
              "      <td>PA</td>\n",
              "      <td>62802</td>\n",
              "      <td>30.110506</td>\n",
              "      <td>68.583803</td>\n",
              "      <td>Romney</td>\n",
              "      <td>87406</td>\n",
              "      <td>71.850903</td>\n",
              "      <td>38.473297</td>\n",
              "    </tr>\n",
              "  </tbody>\n",
              "</table>\n",
              "</div>"
            ],
            "text/plain": [
              "         state   total      Obama  ...  voters    turnout     margin\n",
              "county                             ...                              \n",
              "Bucks       PA  319407  49.966970  ...  435606  73.324748   1.165284\n",
              "Butler      PA   88924  31.920516  ...  122762  72.436096  34.896091\n",
              "Chester     PA  248295  49.228539  ...  337822  73.498766   0.422079\n",
              "Forest      PA    2308  38.734835  ...    3232  71.410891  21.100520\n",
              "Franklin    PA   62802  30.110506  ...   87406  71.850903  38.473297\n",
              "\n",
              "[5 rows x 8 columns]"
            ]
          },
          "metadata": {
            "tags": []
          },
          "execution_count": 63
        }
      ]
    },
    {
      "cell_type": "code",
      "metadata": {
        "id": "g3HMECc7I9mL",
        "colab_type": "code",
        "outputId": "692d1d81-2a00-49a6-ea9a-f7dcb2d35e3c",
        "colab": {
          "base_uri": "https://localhost:8080/",
          "height": 252
        }
      },
      "source": [
        "#\n",
        "too_close = election_data_frame['margin'] < 1\n",
        "\n",
        "# Assign np.nan to the 'winner' column where the results were too close to call\n",
        "election_data_frame.loc[too_close, 'winner'] = np.nan\n",
        "\n",
        "# Print the output of election.info()\n",
        "print(election_data_frame.info())            # we can observer 3 of the entries have cahnged to NaN for 'winner' column\n"
      ],
      "execution_count": 64,
      "outputs": [
        {
          "output_type": "stream",
          "text": [
            "<class 'pandas.core.frame.DataFrame'>\n",
            "Index: 67 entries, Adams to York\n",
            "Data columns (total 8 columns):\n",
            "state      67 non-null object\n",
            "total      67 non-null int64\n",
            "Obama      67 non-null float64\n",
            "Romney     67 non-null float64\n",
            "winner     64 non-null object\n",
            "voters     67 non-null int64\n",
            "turnout    67 non-null float64\n",
            "margin     67 non-null float64\n",
            "dtypes: float64(4), int64(2), object(2)\n",
            "memory usage: 7.2+ KB\n",
            "None\n"
          ],
          "name": "stdout"
        }
      ]
    },
    {
      "cell_type": "markdown",
      "metadata": {
        "id": "eDTgM-GrRPB1",
        "colab_type": "text"
      },
      "source": [
        "### using .map() "
      ]
    },
    {
      "cell_type": "code",
      "metadata": {
        "id": "zvnUbjNbJji0",
        "colab_type": "code",
        "colab": {}
      },
      "source": [
        "red_blue = {'Obama':'red','Romney':'blue'}\n",
        "election_data_frame['result_color'] = election_data_frame['winner'].map(red_blue)"
      ],
      "execution_count": 0,
      "outputs": []
    },
    {
      "cell_type": "code",
      "metadata": {
        "id": "8y0cGfbzRsXD",
        "colab_type": "code",
        "outputId": "7f99071d-a086-4dc7-e723-d864a83c638d",
        "colab": {
          "base_uri": "https://localhost:8080/",
          "height": 225
        }
      },
      "source": [
        "election_data_frame.head()"
      ],
      "execution_count": 66,
      "outputs": [
        {
          "output_type": "execute_result",
          "data": {
            "text/html": [
              "<div>\n",
              "<style scoped>\n",
              "    .dataframe tbody tr th:only-of-type {\n",
              "        vertical-align: middle;\n",
              "    }\n",
              "\n",
              "    .dataframe tbody tr th {\n",
              "        vertical-align: top;\n",
              "    }\n",
              "\n",
              "    .dataframe thead th {\n",
              "        text-align: right;\n",
              "    }\n",
              "</style>\n",
              "<table border=\"1\" class=\"dataframe\">\n",
              "  <thead>\n",
              "    <tr style=\"text-align: right;\">\n",
              "      <th></th>\n",
              "      <th>state</th>\n",
              "      <th>total</th>\n",
              "      <th>Obama</th>\n",
              "      <th>Romney</th>\n",
              "      <th>winner</th>\n",
              "      <th>voters</th>\n",
              "      <th>turnout</th>\n",
              "      <th>margin</th>\n",
              "      <th>result_color</th>\n",
              "    </tr>\n",
              "    <tr>\n",
              "      <th>county</th>\n",
              "      <th></th>\n",
              "      <th></th>\n",
              "      <th></th>\n",
              "      <th></th>\n",
              "      <th></th>\n",
              "      <th></th>\n",
              "      <th></th>\n",
              "      <th></th>\n",
              "      <th></th>\n",
              "    </tr>\n",
              "  </thead>\n",
              "  <tbody>\n",
              "    <tr>\n",
              "      <th>Adams</th>\n",
              "      <td>PA</td>\n",
              "      <td>41973</td>\n",
              "      <td>35.482334</td>\n",
              "      <td>63.112001</td>\n",
              "      <td>Romney</td>\n",
              "      <td>61156</td>\n",
              "      <td>68.632677</td>\n",
              "      <td>27.629667</td>\n",
              "      <td>blue</td>\n",
              "    </tr>\n",
              "    <tr>\n",
              "      <th>Allegheny</th>\n",
              "      <td>PA</td>\n",
              "      <td>614671</td>\n",
              "      <td>56.640219</td>\n",
              "      <td>42.185820</td>\n",
              "      <td>Obama</td>\n",
              "      <td>924351</td>\n",
              "      <td>66.497575</td>\n",
              "      <td>14.454399</td>\n",
              "      <td>red</td>\n",
              "    </tr>\n",
              "    <tr>\n",
              "      <th>Armstrong</th>\n",
              "      <td>PA</td>\n",
              "      <td>28322</td>\n",
              "      <td>30.696985</td>\n",
              "      <td>67.901278</td>\n",
              "      <td>Romney</td>\n",
              "      <td>42147</td>\n",
              "      <td>67.198140</td>\n",
              "      <td>37.204293</td>\n",
              "      <td>blue</td>\n",
              "    </tr>\n",
              "    <tr>\n",
              "      <th>Beaver</th>\n",
              "      <td>PA</td>\n",
              "      <td>80015</td>\n",
              "      <td>46.032619</td>\n",
              "      <td>52.637630</td>\n",
              "      <td>Romney</td>\n",
              "      <td>115157</td>\n",
              "      <td>69.483401</td>\n",
              "      <td>6.605012</td>\n",
              "      <td>blue</td>\n",
              "    </tr>\n",
              "    <tr>\n",
              "      <th>Bedford</th>\n",
              "      <td>PA</td>\n",
              "      <td>21444</td>\n",
              "      <td>22.057452</td>\n",
              "      <td>76.986570</td>\n",
              "      <td>Romney</td>\n",
              "      <td>32189</td>\n",
              "      <td>66.619031</td>\n",
              "      <td>54.929118</td>\n",
              "      <td>blue</td>\n",
              "    </tr>\n",
              "  </tbody>\n",
              "</table>\n",
              "</div>"
            ],
            "text/plain": [
              "          state   total      Obama  ...    turnout     margin  result_color\n",
              "county                              ...                                    \n",
              "Adams        PA   41973  35.482334  ...  68.632677  27.629667          blue\n",
              "Allegheny    PA  614671  56.640219  ...  66.497575  14.454399           red\n",
              "Armstrong    PA   28322  30.696985  ...  67.198140  37.204293          blue\n",
              "Beaver       PA   80015  46.032619  ...  69.483401   6.605012          blue\n",
              "Bedford      PA   21444  22.057452  ...  66.619031  54.929118          blue\n",
              "\n",
              "[5 rows x 9 columns]"
            ]
          },
          "metadata": {
            "tags": []
          },
          "execution_count": 66
        }
      ]
    },
    {
      "cell_type": "markdown",
      "metadata": {
        "id": "XaQLKKzfSbf7",
        "colab_type": "text"
      },
      "source": [
        "### Using vectorized functions:\n",
        "using vectorized functions, we can loop over the data at the same speed as compiled code (C, Fortran, etc.)! NumPy, SciPy and pandas come with a variety of vectorized functions called Universal Functions "
      ]
    },
    {
      "cell_type": "markdown",
      "metadata": {
        "id": "7Gjy_iDeTIOd",
        "colab_type": "text"
      },
      "source": [
        "zscore : z-score is the number of standard deviations by which an observation is above the mean - so if it is negative, it means the observation is below the mean."
      ]
    },
    {
      "cell_type": "code",
      "metadata": {
        "id": "egouHPMDSdi6",
        "colab_type": "code",
        "outputId": "4dddb03b-30f3-49ba-93cc-d4167dc79588",
        "colab": {
          "base_uri": "https://localhost:8080/",
          "height": 185
        }
      },
      "source": [
        "# Import zscore from scipy.stats\n",
        "from scipy.stats import zscore\n",
        "\n",
        "# Call zscore with election['turnout'] as input: turnout_zscore\n",
        "turnout_zscore = zscore(election_data_frame['turnout'])\n",
        "\n",
        "# Print the type of turnout_zscore\n",
        "print(type(turnout_zscore))\n",
        "\n",
        "# Assign turnout_zscore to a new column: election['turnout_zscore']\n",
        "election_data_frame['turnout_zscore'] = turnout_zscore\n",
        "\n",
        "# Print the output of election.head()\n",
        "print(election_data_frame.head())"
      ],
      "execution_count": 67,
      "outputs": [
        {
          "output_type": "stream",
          "text": [
            "<class 'numpy.ndarray'>\n",
            "          state   total      Obama  ...     margin result_color  turnout_zscore\n",
            "county                              ...                                        \n",
            "Adams        PA   41973  35.482334  ...  27.629667         blue        0.853734\n",
            "Allegheny    PA  614671  56.640219  ...  14.454399          red        0.439846\n",
            "Armstrong    PA   28322  30.696985  ...  37.204293         blue        0.575650\n",
            "Beaver       PA   80015  46.032619  ...   6.605012         blue        1.018647\n",
            "Bedford      PA   21444  22.057452  ...  54.929118         blue        0.463391\n",
            "\n",
            "[5 rows x 10 columns]\n"
          ],
          "name": "stdout"
        }
      ]
    },
    {
      "cell_type": "markdown",
      "metadata": {
        "id": "gSufwY_3IDSQ",
        "colab_type": "text"
      },
      "source": [
        ""
      ]
    },
    {
      "cell_type": "markdown",
      "metadata": {
        "id": "-IzIotg5INAy",
        "colab_type": "text"
      },
      "source": [
        "### Indexing"
      ]
    },
    {
      "cell_type": "code",
      "metadata": {
        "id": "gLJ9A96lIOu4",
        "colab_type": "code",
        "colab": {}
      },
      "source": [
        "# using new data set \n",
        "sales_data_frame = pd.read_csv('/content/gdrive/My Drive/datasets/sales/sales.csv', index_col='month')"
      ],
      "execution_count": 0,
      "outputs": []
    },
    {
      "cell_type": "code",
      "metadata": {
        "id": "1pDi2ndmAmP4",
        "colab_type": "code",
        "outputId": "68452716-5315-4070-81fd-cefa57b12839",
        "colab": {
          "base_uri": "https://localhost:8080/",
          "height": 225
        }
      },
      "source": [
        "sales_data_frame.head()"
      ],
      "execution_count": 69,
      "outputs": [
        {
          "output_type": "execute_result",
          "data": {
            "text/html": [
              "<div>\n",
              "<style scoped>\n",
              "    .dataframe tbody tr th:only-of-type {\n",
              "        vertical-align: middle;\n",
              "    }\n",
              "\n",
              "    .dataframe tbody tr th {\n",
              "        vertical-align: top;\n",
              "    }\n",
              "\n",
              "    .dataframe thead th {\n",
              "        text-align: right;\n",
              "    }\n",
              "</style>\n",
              "<table border=\"1\" class=\"dataframe\">\n",
              "  <thead>\n",
              "    <tr style=\"text-align: right;\">\n",
              "      <th></th>\n",
              "      <th>eggs</th>\n",
              "      <th>salt</th>\n",
              "      <th>spam</th>\n",
              "    </tr>\n",
              "    <tr>\n",
              "      <th>month</th>\n",
              "      <th></th>\n",
              "      <th></th>\n",
              "      <th></th>\n",
              "    </tr>\n",
              "  </thead>\n",
              "  <tbody>\n",
              "    <tr>\n",
              "      <th>Jan</th>\n",
              "      <td>47</td>\n",
              "      <td>12.0</td>\n",
              "      <td>17</td>\n",
              "    </tr>\n",
              "    <tr>\n",
              "      <th>Feb</th>\n",
              "      <td>110</td>\n",
              "      <td>50.0</td>\n",
              "      <td>31</td>\n",
              "    </tr>\n",
              "    <tr>\n",
              "      <th>Mar</th>\n",
              "      <td>221</td>\n",
              "      <td>89.0</td>\n",
              "      <td>72</td>\n",
              "    </tr>\n",
              "    <tr>\n",
              "      <th>Apr</th>\n",
              "      <td>77</td>\n",
              "      <td>87.0</td>\n",
              "      <td>20</td>\n",
              "    </tr>\n",
              "    <tr>\n",
              "      <th>May</th>\n",
              "      <td>132</td>\n",
              "      <td>NaN</td>\n",
              "      <td>52</td>\n",
              "    </tr>\n",
              "  </tbody>\n",
              "</table>\n",
              "</div>"
            ],
            "text/plain": [
              "       eggs  salt  spam\n",
              "month                  \n",
              "Jan      47  12.0    17\n",
              "Feb     110  50.0    31\n",
              "Mar     221  89.0    72\n",
              "Apr      77  87.0    20\n",
              "May     132   NaN    52"
            ]
          },
          "metadata": {
            "tags": []
          },
          "execution_count": 69
        }
      ]
    },
    {
      "cell_type": "code",
      "metadata": {
        "id": "twMJJ-GsBHwY",
        "colab_type": "code",
        "outputId": "d1929088-abb9-44f2-da9f-19482546e90e",
        "colab": {
          "base_uri": "https://localhost:8080/",
          "height": 195
        }
      },
      "source": [
        "# changing index from lower to upper \n",
        "upper_index = [indx.upper() for indx in sales_data_frame.index]\n",
        "\n",
        "# Assign new_idx to sales.index\n",
        "sales_data_frame.index = upper_index\n",
        "\n",
        "# Print the sales DataFrame\n",
        "sales_data_frame.head()"
      ],
      "execution_count": 81,
      "outputs": [
        {
          "output_type": "execute_result",
          "data": {
            "text/html": [
              "<div>\n",
              "<style scoped>\n",
              "    .dataframe tbody tr th:only-of-type {\n",
              "        vertical-align: middle;\n",
              "    }\n",
              "\n",
              "    .dataframe tbody tr th {\n",
              "        vertical-align: top;\n",
              "    }\n",
              "\n",
              "    .dataframe thead th {\n",
              "        text-align: right;\n",
              "    }\n",
              "</style>\n",
              "<table border=\"1\" class=\"dataframe\">\n",
              "  <thead>\n",
              "    <tr style=\"text-align: right;\">\n",
              "      <th></th>\n",
              "      <th>eggs</th>\n",
              "      <th>salt</th>\n",
              "      <th>spam</th>\n",
              "    </tr>\n",
              "  </thead>\n",
              "  <tbody>\n",
              "    <tr>\n",
              "      <th>JAN</th>\n",
              "      <td>47</td>\n",
              "      <td>12.0</td>\n",
              "      <td>17</td>\n",
              "    </tr>\n",
              "    <tr>\n",
              "      <th>FEB</th>\n",
              "      <td>110</td>\n",
              "      <td>50.0</td>\n",
              "      <td>31</td>\n",
              "    </tr>\n",
              "    <tr>\n",
              "      <th>MAR</th>\n",
              "      <td>221</td>\n",
              "      <td>89.0</td>\n",
              "      <td>72</td>\n",
              "    </tr>\n",
              "    <tr>\n",
              "      <th>APR</th>\n",
              "      <td>77</td>\n",
              "      <td>87.0</td>\n",
              "      <td>20</td>\n",
              "    </tr>\n",
              "    <tr>\n",
              "      <th>MAY</th>\n",
              "      <td>132</td>\n",
              "      <td>NaN</td>\n",
              "      <td>52</td>\n",
              "    </tr>\n",
              "  </tbody>\n",
              "</table>\n",
              "</div>"
            ],
            "text/plain": [
              "     eggs  salt  spam\n",
              "JAN    47  12.0    17\n",
              "FEB   110  50.0    31\n",
              "MAR   221  89.0    72\n",
              "APR    77  87.0    20\n",
              "MAY   132   NaN    52"
            ]
          },
          "metadata": {
            "tags": []
          },
          "execution_count": 81
        }
      ]
    },
    {
      "cell_type": "code",
      "metadata": {
        "id": "vAtbrLqYBSJv",
        "colab_type": "code",
        "outputId": "02de2e4c-a247-4bb7-818c-5f4fcf555266",
        "colab": {
          "base_uri": "https://localhost:8080/",
          "height": 225
        }
      },
      "source": [
        "# Assign name to the indexs \n",
        "sales_data_frame.index.name = 'MONTHS'\n",
        "\n",
        "# Print the sales DataFrame\n",
        "sales_data_frame.head()"
      ],
      "execution_count": 82,
      "outputs": [
        {
          "output_type": "execute_result",
          "data": {
            "text/html": [
              "<div>\n",
              "<style scoped>\n",
              "    .dataframe tbody tr th:only-of-type {\n",
              "        vertical-align: middle;\n",
              "    }\n",
              "\n",
              "    .dataframe tbody tr th {\n",
              "        vertical-align: top;\n",
              "    }\n",
              "\n",
              "    .dataframe thead th {\n",
              "        text-align: right;\n",
              "    }\n",
              "</style>\n",
              "<table border=\"1\" class=\"dataframe\">\n",
              "  <thead>\n",
              "    <tr style=\"text-align: right;\">\n",
              "      <th></th>\n",
              "      <th>eggs</th>\n",
              "      <th>salt</th>\n",
              "      <th>spam</th>\n",
              "    </tr>\n",
              "    <tr>\n",
              "      <th>MONTHS</th>\n",
              "      <th></th>\n",
              "      <th></th>\n",
              "      <th></th>\n",
              "    </tr>\n",
              "  </thead>\n",
              "  <tbody>\n",
              "    <tr>\n",
              "      <th>JAN</th>\n",
              "      <td>47</td>\n",
              "      <td>12.0</td>\n",
              "      <td>17</td>\n",
              "    </tr>\n",
              "    <tr>\n",
              "      <th>FEB</th>\n",
              "      <td>110</td>\n",
              "      <td>50.0</td>\n",
              "      <td>31</td>\n",
              "    </tr>\n",
              "    <tr>\n",
              "      <th>MAR</th>\n",
              "      <td>221</td>\n",
              "      <td>89.0</td>\n",
              "      <td>72</td>\n",
              "    </tr>\n",
              "    <tr>\n",
              "      <th>APR</th>\n",
              "      <td>77</td>\n",
              "      <td>87.0</td>\n",
              "      <td>20</td>\n",
              "    </tr>\n",
              "    <tr>\n",
              "      <th>MAY</th>\n",
              "      <td>132</td>\n",
              "      <td>NaN</td>\n",
              "      <td>52</td>\n",
              "    </tr>\n",
              "  </tbody>\n",
              "</table>\n",
              "</div>"
            ],
            "text/plain": [
              "        eggs  salt  spam\n",
              "MONTHS                  \n",
              "JAN       47  12.0    17\n",
              "FEB      110  50.0    31\n",
              "MAR      221  89.0    72\n",
              "APR       77  87.0    20\n",
              "MAY      132   NaN    52"
            ]
          },
          "metadata": {
            "tags": []
          },
          "execution_count": 82
        }
      ]
    },
    {
      "cell_type": "code",
      "metadata": {
        "id": "kAq0ht7fCFzi",
        "colab_type": "code",
        "outputId": "15aaae74-d4a4-4d00-a3d4-68953f494020",
        "colab": {
          "base_uri": "https://localhost:8080/",
          "height": 225
        }
      },
      "source": [
        "# give name to column names \n",
        "sales_data_frame.columns.name = 'PRODUCTS'\n",
        "\n",
        "# Print the sales dataframe again\n",
        "sales_data_frame.head()"
      ],
      "execution_count": 83,
      "outputs": [
        {
          "output_type": "execute_result",
          "data": {
            "text/html": [
              "<div>\n",
              "<style scoped>\n",
              "    .dataframe tbody tr th:only-of-type {\n",
              "        vertical-align: middle;\n",
              "    }\n",
              "\n",
              "    .dataframe tbody tr th {\n",
              "        vertical-align: top;\n",
              "    }\n",
              "\n",
              "    .dataframe thead th {\n",
              "        text-align: right;\n",
              "    }\n",
              "</style>\n",
              "<table border=\"1\" class=\"dataframe\">\n",
              "  <thead>\n",
              "    <tr style=\"text-align: right;\">\n",
              "      <th>PRODUCTS</th>\n",
              "      <th>eggs</th>\n",
              "      <th>salt</th>\n",
              "      <th>spam</th>\n",
              "    </tr>\n",
              "    <tr>\n",
              "      <th>MONTHS</th>\n",
              "      <th></th>\n",
              "      <th></th>\n",
              "      <th></th>\n",
              "    </tr>\n",
              "  </thead>\n",
              "  <tbody>\n",
              "    <tr>\n",
              "      <th>JAN</th>\n",
              "      <td>47</td>\n",
              "      <td>12.0</td>\n",
              "      <td>17</td>\n",
              "    </tr>\n",
              "    <tr>\n",
              "      <th>FEB</th>\n",
              "      <td>110</td>\n",
              "      <td>50.0</td>\n",
              "      <td>31</td>\n",
              "    </tr>\n",
              "    <tr>\n",
              "      <th>MAR</th>\n",
              "      <td>221</td>\n",
              "      <td>89.0</td>\n",
              "      <td>72</td>\n",
              "    </tr>\n",
              "    <tr>\n",
              "      <th>APR</th>\n",
              "      <td>77</td>\n",
              "      <td>87.0</td>\n",
              "      <td>20</td>\n",
              "    </tr>\n",
              "    <tr>\n",
              "      <th>MAY</th>\n",
              "      <td>132</td>\n",
              "      <td>NaN</td>\n",
              "      <td>52</td>\n",
              "    </tr>\n",
              "  </tbody>\n",
              "</table>\n",
              "</div>"
            ],
            "text/plain": [
              "PRODUCTS  eggs  salt  spam\n",
              "MONTHS                    \n",
              "JAN         47  12.0    17\n",
              "FEB        110  50.0    31\n",
              "MAR        221  89.0    72\n",
              "APR         77  87.0    20\n",
              "MAY        132   NaN    52"
            ]
          },
          "metadata": {
            "tags": []
          },
          "execution_count": 83
        }
      ]
    },
    {
      "cell_type": "markdown",
      "metadata": {
        "id": "nmzSbiKINvOt",
        "colab_type": "text"
      },
      "source": [
        "###multi level hirarchical index\n",
        "as the name says it is used to have more than one index to collect data more accurately\n",
        "\n",
        "*   input is the list of columns to use as index\n",
        "```\n",
        "SYNTAX:  dataframe.set_index([list of cols])\n",
        "```"
      ]
    },
    {
      "cell_type": "code",
      "metadata": {
        "id": "uBNpx-RiN9-p",
        "colab_type": "code",
        "colab": {}
      },
      "source": [
        "df = sales_data_frame"
      ],
      "execution_count": 0,
      "outputs": []
    },
    {
      "cell_type": "code",
      "metadata": {
        "id": "ElhxKdNWRLH9",
        "colab_type": "code",
        "colab": {}
      },
      "source": [
        "df.columns.name=None               #removing the columns index name for clarity "
      ],
      "execution_count": 0,
      "outputs": []
    },
    {
      "cell_type": "code",
      "metadata": {
        "id": "zQ4Mi8C6gJiH",
        "colab_type": "code",
        "colab": {
          "base_uri": "https://localhost:8080/",
          "height": 254
        },
        "outputId": "bceeba37-862c-46ce-a8d1-b8845f63eae9"
      },
      "source": [
        "df"
      ],
      "execution_count": 87,
      "outputs": [
        {
          "output_type": "execute_result",
          "data": {
            "text/html": [
              "<div>\n",
              "<style scoped>\n",
              "    .dataframe tbody tr th:only-of-type {\n",
              "        vertical-align: middle;\n",
              "    }\n",
              "\n",
              "    .dataframe tbody tr th {\n",
              "        vertical-align: top;\n",
              "    }\n",
              "\n",
              "    .dataframe thead th {\n",
              "        text-align: right;\n",
              "    }\n",
              "</style>\n",
              "<table border=\"1\" class=\"dataframe\">\n",
              "  <thead>\n",
              "    <tr style=\"text-align: right;\">\n",
              "      <th></th>\n",
              "      <th>eggs</th>\n",
              "      <th>salt</th>\n",
              "      <th>spam</th>\n",
              "    </tr>\n",
              "    <tr>\n",
              "      <th>MONTHS</th>\n",
              "      <th></th>\n",
              "      <th></th>\n",
              "      <th></th>\n",
              "    </tr>\n",
              "  </thead>\n",
              "  <tbody>\n",
              "    <tr>\n",
              "      <th>JAN</th>\n",
              "      <td>47</td>\n",
              "      <td>12.0</td>\n",
              "      <td>17</td>\n",
              "    </tr>\n",
              "    <tr>\n",
              "      <th>FEB</th>\n",
              "      <td>110</td>\n",
              "      <td>50.0</td>\n",
              "      <td>31</td>\n",
              "    </tr>\n",
              "    <tr>\n",
              "      <th>MAR</th>\n",
              "      <td>221</td>\n",
              "      <td>89.0</td>\n",
              "      <td>72</td>\n",
              "    </tr>\n",
              "    <tr>\n",
              "      <th>APR</th>\n",
              "      <td>77</td>\n",
              "      <td>87.0</td>\n",
              "      <td>20</td>\n",
              "    </tr>\n",
              "    <tr>\n",
              "      <th>MAY</th>\n",
              "      <td>132</td>\n",
              "      <td>NaN</td>\n",
              "      <td>52</td>\n",
              "    </tr>\n",
              "    <tr>\n",
              "      <th>JUN</th>\n",
              "      <td>205</td>\n",
              "      <td>60.0</td>\n",
              "      <td>55</td>\n",
              "    </tr>\n",
              "  </tbody>\n",
              "</table>\n",
              "</div>"
            ],
            "text/plain": [
              "        eggs  salt  spam\n",
              "MONTHS                  \n",
              "JAN       47  12.0    17\n",
              "FEB      110  50.0    31\n",
              "MAR      221  89.0    72\n",
              "APR       77  87.0    20\n",
              "MAY      132   NaN    52\n",
              "JUN      205  60.0    55"
            ]
          },
          "metadata": {
            "tags": []
          },
          "execution_count": 87
        }
      ]
    },
    {
      "cell_type": "code",
      "metadata": {
        "id": "SlRbeP5eOVCj",
        "colab_type": "code",
        "colab": {}
      },
      "source": [
        "df.reset_index(inplace=True)"
      ],
      "execution_count": 0,
      "outputs": []
    },
    {
      "cell_type": "code",
      "metadata": {
        "id": "bt8th_-QgVHa",
        "colab_type": "code",
        "colab": {
          "base_uri": "https://localhost:8080/",
          "height": 225
        },
        "outputId": "fa07cd16-c368-4b85-a43a-b8d05f338db9"
      },
      "source": [
        "df"
      ],
      "execution_count": 89,
      "outputs": [
        {
          "output_type": "execute_result",
          "data": {
            "text/html": [
              "<div>\n",
              "<style scoped>\n",
              "    .dataframe tbody tr th:only-of-type {\n",
              "        vertical-align: middle;\n",
              "    }\n",
              "\n",
              "    .dataframe tbody tr th {\n",
              "        vertical-align: top;\n",
              "    }\n",
              "\n",
              "    .dataframe thead th {\n",
              "        text-align: right;\n",
              "    }\n",
              "</style>\n",
              "<table border=\"1\" class=\"dataframe\">\n",
              "  <thead>\n",
              "    <tr style=\"text-align: right;\">\n",
              "      <th></th>\n",
              "      <th>MONTHS</th>\n",
              "      <th>eggs</th>\n",
              "      <th>salt</th>\n",
              "      <th>spam</th>\n",
              "    </tr>\n",
              "  </thead>\n",
              "  <tbody>\n",
              "    <tr>\n",
              "      <th>0</th>\n",
              "      <td>JAN</td>\n",
              "      <td>47</td>\n",
              "      <td>12.0</td>\n",
              "      <td>17</td>\n",
              "    </tr>\n",
              "    <tr>\n",
              "      <th>1</th>\n",
              "      <td>FEB</td>\n",
              "      <td>110</td>\n",
              "      <td>50.0</td>\n",
              "      <td>31</td>\n",
              "    </tr>\n",
              "    <tr>\n",
              "      <th>2</th>\n",
              "      <td>MAR</td>\n",
              "      <td>221</td>\n",
              "      <td>89.0</td>\n",
              "      <td>72</td>\n",
              "    </tr>\n",
              "    <tr>\n",
              "      <th>3</th>\n",
              "      <td>APR</td>\n",
              "      <td>77</td>\n",
              "      <td>87.0</td>\n",
              "      <td>20</td>\n",
              "    </tr>\n",
              "    <tr>\n",
              "      <th>4</th>\n",
              "      <td>MAY</td>\n",
              "      <td>132</td>\n",
              "      <td>NaN</td>\n",
              "      <td>52</td>\n",
              "    </tr>\n",
              "    <tr>\n",
              "      <th>5</th>\n",
              "      <td>JUN</td>\n",
              "      <td>205</td>\n",
              "      <td>60.0</td>\n",
              "      <td>55</td>\n",
              "    </tr>\n",
              "  </tbody>\n",
              "</table>\n",
              "</div>"
            ],
            "text/plain": [
              "  MONTHS  eggs  salt  spam\n",
              "0    JAN    47  12.0    17\n",
              "1    FEB   110  50.0    31\n",
              "2    MAR   221  89.0    72\n",
              "3    APR    77  87.0    20\n",
              "4    MAY   132   NaN    52\n",
              "5    JUN   205  60.0    55"
            ]
          },
          "metadata": {
            "tags": []
          },
          "execution_count": 89
        }
      ]
    },
    {
      "cell_type": "code",
      "metadata": {
        "id": "Rexh9uaggbFl",
        "colab_type": "code",
        "colab": {}
      },
      "source": [
        "df.reset_index(inplace=True)    # just to create a extra index"
      ],
      "execution_count": 0,
      "outputs": []
    },
    {
      "cell_type": "code",
      "metadata": {
        "id": "VwsjW0maghKc",
        "colab_type": "code",
        "colab": {
          "base_uri": "https://localhost:8080/",
          "height": 225
        },
        "outputId": "5131a188-dfa1-4dee-9273-915cc899a693"
      },
      "source": [
        "df"
      ],
      "execution_count": 91,
      "outputs": [
        {
          "output_type": "execute_result",
          "data": {
            "text/html": [
              "<div>\n",
              "<style scoped>\n",
              "    .dataframe tbody tr th:only-of-type {\n",
              "        vertical-align: middle;\n",
              "    }\n",
              "\n",
              "    .dataframe tbody tr th {\n",
              "        vertical-align: top;\n",
              "    }\n",
              "\n",
              "    .dataframe thead th {\n",
              "        text-align: right;\n",
              "    }\n",
              "</style>\n",
              "<table border=\"1\" class=\"dataframe\">\n",
              "  <thead>\n",
              "    <tr style=\"text-align: right;\">\n",
              "      <th></th>\n",
              "      <th>index</th>\n",
              "      <th>MONTHS</th>\n",
              "      <th>eggs</th>\n",
              "      <th>salt</th>\n",
              "      <th>spam</th>\n",
              "    </tr>\n",
              "  </thead>\n",
              "  <tbody>\n",
              "    <tr>\n",
              "      <th>0</th>\n",
              "      <td>0</td>\n",
              "      <td>JAN</td>\n",
              "      <td>47</td>\n",
              "      <td>12.0</td>\n",
              "      <td>17</td>\n",
              "    </tr>\n",
              "    <tr>\n",
              "      <th>1</th>\n",
              "      <td>1</td>\n",
              "      <td>FEB</td>\n",
              "      <td>110</td>\n",
              "      <td>50.0</td>\n",
              "      <td>31</td>\n",
              "    </tr>\n",
              "    <tr>\n",
              "      <th>2</th>\n",
              "      <td>2</td>\n",
              "      <td>MAR</td>\n",
              "      <td>221</td>\n",
              "      <td>89.0</td>\n",
              "      <td>72</td>\n",
              "    </tr>\n",
              "    <tr>\n",
              "      <th>3</th>\n",
              "      <td>3</td>\n",
              "      <td>APR</td>\n",
              "      <td>77</td>\n",
              "      <td>87.0</td>\n",
              "      <td>20</td>\n",
              "    </tr>\n",
              "    <tr>\n",
              "      <th>4</th>\n",
              "      <td>4</td>\n",
              "      <td>MAY</td>\n",
              "      <td>132</td>\n",
              "      <td>NaN</td>\n",
              "      <td>52</td>\n",
              "    </tr>\n",
              "    <tr>\n",
              "      <th>5</th>\n",
              "      <td>5</td>\n",
              "      <td>JUN</td>\n",
              "      <td>205</td>\n",
              "      <td>60.0</td>\n",
              "      <td>55</td>\n",
              "    </tr>\n",
              "  </tbody>\n",
              "</table>\n",
              "</div>"
            ],
            "text/plain": [
              "   index MONTHS  eggs  salt  spam\n",
              "0      0    JAN    47  12.0    17\n",
              "1      1    FEB   110  50.0    31\n",
              "2      2    MAR   221  89.0    72\n",
              "3      3    APR    77  87.0    20\n",
              "4      4    MAY   132   NaN    52\n",
              "5      5    JUN   205  60.0    55"
            ]
          },
          "metadata": {
            "tags": []
          },
          "execution_count": 91
        }
      ]
    },
    {
      "cell_type": "code",
      "metadata": {
        "id": "FIeOKj_DOxPs",
        "colab_type": "code",
        "colab": {
          "base_uri": "https://localhost:8080/",
          "height": 254
        },
        "outputId": "284af872-da7e-4ac7-fb1a-a86c055e6ab0"
      },
      "source": [
        "df.set_index(['MONTHS','index'])           # multi indexed with month and index "
      ],
      "execution_count": 92,
      "outputs": [
        {
          "output_type": "execute_result",
          "data": {
            "text/html": [
              "<div>\n",
              "<style scoped>\n",
              "    .dataframe tbody tr th:only-of-type {\n",
              "        vertical-align: middle;\n",
              "    }\n",
              "\n",
              "    .dataframe tbody tr th {\n",
              "        vertical-align: top;\n",
              "    }\n",
              "\n",
              "    .dataframe thead th {\n",
              "        text-align: right;\n",
              "    }\n",
              "</style>\n",
              "<table border=\"1\" class=\"dataframe\">\n",
              "  <thead>\n",
              "    <tr style=\"text-align: right;\">\n",
              "      <th></th>\n",
              "      <th></th>\n",
              "      <th>eggs</th>\n",
              "      <th>salt</th>\n",
              "      <th>spam</th>\n",
              "    </tr>\n",
              "    <tr>\n",
              "      <th>MONTHS</th>\n",
              "      <th>index</th>\n",
              "      <th></th>\n",
              "      <th></th>\n",
              "      <th></th>\n",
              "    </tr>\n",
              "  </thead>\n",
              "  <tbody>\n",
              "    <tr>\n",
              "      <th>JAN</th>\n",
              "      <th>0</th>\n",
              "      <td>47</td>\n",
              "      <td>12.0</td>\n",
              "      <td>17</td>\n",
              "    </tr>\n",
              "    <tr>\n",
              "      <th>FEB</th>\n",
              "      <th>1</th>\n",
              "      <td>110</td>\n",
              "      <td>50.0</td>\n",
              "      <td>31</td>\n",
              "    </tr>\n",
              "    <tr>\n",
              "      <th>MAR</th>\n",
              "      <th>2</th>\n",
              "      <td>221</td>\n",
              "      <td>89.0</td>\n",
              "      <td>72</td>\n",
              "    </tr>\n",
              "    <tr>\n",
              "      <th>APR</th>\n",
              "      <th>3</th>\n",
              "      <td>77</td>\n",
              "      <td>87.0</td>\n",
              "      <td>20</td>\n",
              "    </tr>\n",
              "    <tr>\n",
              "      <th>MAY</th>\n",
              "      <th>4</th>\n",
              "      <td>132</td>\n",
              "      <td>NaN</td>\n",
              "      <td>52</td>\n",
              "    </tr>\n",
              "    <tr>\n",
              "      <th>JUN</th>\n",
              "      <th>5</th>\n",
              "      <td>205</td>\n",
              "      <td>60.0</td>\n",
              "      <td>55</td>\n",
              "    </tr>\n",
              "  </tbody>\n",
              "</table>\n",
              "</div>"
            ],
            "text/plain": [
              "              eggs  salt  spam\n",
              "MONTHS index                  \n",
              "JAN    0        47  12.0    17\n",
              "FEB    1       110  50.0    31\n",
              "MAR    2       221  89.0    72\n",
              "APR    3        77  87.0    20\n",
              "MAY    4       132   NaN    52\n",
              "JUN    5       205  60.0    55"
            ]
          },
          "metadata": {
            "tags": []
          },
          "execution_count": 92
        }
      ]
    },
    {
      "cell_type": "markdown",
      "metadata": {
        "id": "dF2HH6xU2TNx",
        "colab_type": "text"
      },
      "source": [
        "###Pivoting DataFrames:\n",
        " pivot method lets us specify which columns to use as index and which to use as columns \n",
        "\n",
        "\n",
        "```\n",
        "SYNTAX:  .pivot(index= , columns= , values= )\n",
        "```\n",
        "\n"
      ]
    },
    {
      "cell_type": "code",
      "metadata": {
        "colab_type": "code",
        "id": "3E3eZ0oKFFqQ",
        "colab": {}
      },
      "source": [
        "users_data_frame = pd.read_csv('/content/gdrive/My Drive/datasets/users.csv', header=0, index_col=0)"
      ],
      "execution_count": 0,
      "outputs": []
    },
    {
      "cell_type": "code",
      "metadata": {
        "id": "KQ6G2No7FhCu",
        "colab_type": "code",
        "colab": {
          "base_uri": "https://localhost:8080/",
          "height": 166
        },
        "outputId": "81739737-4336-44dc-fedb-e206ca6d0b99"
      },
      "source": [
        "users_data_frame"
      ],
      "execution_count": 94,
      "outputs": [
        {
          "output_type": "execute_result",
          "data": {
            "text/html": [
              "<div>\n",
              "<style scoped>\n",
              "    .dataframe tbody tr th:only-of-type {\n",
              "        vertical-align: middle;\n",
              "    }\n",
              "\n",
              "    .dataframe tbody tr th {\n",
              "        vertical-align: top;\n",
              "    }\n",
              "\n",
              "    .dataframe thead th {\n",
              "        text-align: right;\n",
              "    }\n",
              "</style>\n",
              "<table border=\"1\" class=\"dataframe\">\n",
              "  <thead>\n",
              "    <tr style=\"text-align: right;\">\n",
              "      <th></th>\n",
              "      <th>weekday</th>\n",
              "      <th>city</th>\n",
              "      <th>visitors</th>\n",
              "      <th>signups</th>\n",
              "    </tr>\n",
              "  </thead>\n",
              "  <tbody>\n",
              "    <tr>\n",
              "      <th>0</th>\n",
              "      <td>Sun</td>\n",
              "      <td>Austin</td>\n",
              "      <td>139</td>\n",
              "      <td>7</td>\n",
              "    </tr>\n",
              "    <tr>\n",
              "      <th>1</th>\n",
              "      <td>Sun</td>\n",
              "      <td>Dallas</td>\n",
              "      <td>237</td>\n",
              "      <td>12</td>\n",
              "    </tr>\n",
              "    <tr>\n",
              "      <th>2</th>\n",
              "      <td>Mon</td>\n",
              "      <td>Austin</td>\n",
              "      <td>326</td>\n",
              "      <td>3</td>\n",
              "    </tr>\n",
              "    <tr>\n",
              "      <th>3</th>\n",
              "      <td>Mon</td>\n",
              "      <td>Dallas</td>\n",
              "      <td>456</td>\n",
              "      <td>5</td>\n",
              "    </tr>\n",
              "  </tbody>\n",
              "</table>\n",
              "</div>"
            ],
            "text/plain": [
              "  weekday    city  visitors  signups\n",
              "0     Sun  Austin       139        7\n",
              "1     Sun  Dallas       237       12\n",
              "2     Mon  Austin       326        3\n",
              "3     Mon  Dallas       456        5"
            ]
          },
          "metadata": {
            "tags": []
          },
          "execution_count": 94
        }
      ]
    },
    {
      "cell_type": "code",
      "metadata": {
        "id": "hG90xRVPHApa",
        "colab_type": "code",
        "colab": {}
      },
      "source": [
        "# Pivot the database to focus on visitors\n",
        "visitors_data_frame = users_data_frame.pivot(index = 'weekday',columns ='city',values = 'visitors')"
      ],
      "execution_count": 0,
      "outputs": []
    },
    {
      "cell_type": "code",
      "metadata": {
        "id": "V8h1GyInK5Ja",
        "colab_type": "code",
        "colab": {
          "base_uri": "https://localhost:8080/",
          "height": 136
        },
        "outputId": "886608fb-84ca-4f99-9b6e-7f1fdaded7b4"
      },
      "source": [
        "visitors_data_frame"
      ],
      "execution_count": 96,
      "outputs": [
        {
          "output_type": "execute_result",
          "data": {
            "text/html": [
              "<div>\n",
              "<style scoped>\n",
              "    .dataframe tbody tr th:only-of-type {\n",
              "        vertical-align: middle;\n",
              "    }\n",
              "\n",
              "    .dataframe tbody tr th {\n",
              "        vertical-align: top;\n",
              "    }\n",
              "\n",
              "    .dataframe thead th {\n",
              "        text-align: right;\n",
              "    }\n",
              "</style>\n",
              "<table border=\"1\" class=\"dataframe\">\n",
              "  <thead>\n",
              "    <tr style=\"text-align: right;\">\n",
              "      <th>city</th>\n",
              "      <th>Austin</th>\n",
              "      <th>Dallas</th>\n",
              "    </tr>\n",
              "    <tr>\n",
              "      <th>weekday</th>\n",
              "      <th></th>\n",
              "      <th></th>\n",
              "    </tr>\n",
              "  </thead>\n",
              "  <tbody>\n",
              "    <tr>\n",
              "      <th>Mon</th>\n",
              "      <td>326</td>\n",
              "      <td>456</td>\n",
              "    </tr>\n",
              "    <tr>\n",
              "      <th>Sun</th>\n",
              "      <td>139</td>\n",
              "      <td>237</td>\n",
              "    </tr>\n",
              "  </tbody>\n",
              "</table>\n",
              "</div>"
            ],
            "text/plain": [
              "city     Austin  Dallas\n",
              "weekday                \n",
              "Mon         326     456\n",
              "Sun         139     237"
            ]
          },
          "metadata": {
            "tags": []
          },
          "execution_count": 96
        }
      ]
    },
    {
      "cell_type": "code",
      "metadata": {
        "id": "Q0EDPEGpM6iw",
        "colab_type": "code",
        "colab": {}
      },
      "source": [
        "# Pivot the database to focus on signups\n",
        "signups_data_frame = users_data_frame.pivot(index='weekday', columns='city', values='signups')"
      ],
      "execution_count": 0,
      "outputs": []
    },
    {
      "cell_type": "code",
      "metadata": {
        "id": "Z9GtWHdCNKOv",
        "colab_type": "code",
        "colab": {
          "base_uri": "https://localhost:8080/",
          "height": 136
        },
        "outputId": "53b93114-437a-4663-9696-b56dd35bfcb7"
      },
      "source": [
        "signups_data_frame"
      ],
      "execution_count": 98,
      "outputs": [
        {
          "output_type": "execute_result",
          "data": {
            "text/html": [
              "<div>\n",
              "<style scoped>\n",
              "    .dataframe tbody tr th:only-of-type {\n",
              "        vertical-align: middle;\n",
              "    }\n",
              "\n",
              "    .dataframe tbody tr th {\n",
              "        vertical-align: top;\n",
              "    }\n",
              "\n",
              "    .dataframe thead th {\n",
              "        text-align: right;\n",
              "    }\n",
              "</style>\n",
              "<table border=\"1\" class=\"dataframe\">\n",
              "  <thead>\n",
              "    <tr style=\"text-align: right;\">\n",
              "      <th>city</th>\n",
              "      <th>Austin</th>\n",
              "      <th>Dallas</th>\n",
              "    </tr>\n",
              "    <tr>\n",
              "      <th>weekday</th>\n",
              "      <th></th>\n",
              "      <th></th>\n",
              "    </tr>\n",
              "  </thead>\n",
              "  <tbody>\n",
              "    <tr>\n",
              "      <th>Mon</th>\n",
              "      <td>3</td>\n",
              "      <td>5</td>\n",
              "    </tr>\n",
              "    <tr>\n",
              "      <th>Sun</th>\n",
              "      <td>7</td>\n",
              "      <td>12</td>\n",
              "    </tr>\n",
              "  </tbody>\n",
              "</table>\n",
              "</div>"
            ],
            "text/plain": [
              "city     Austin  Dallas\n",
              "weekday                \n",
              "Mon           3       5\n",
              "Sun           7      12"
            ]
          },
          "metadata": {
            "tags": []
          },
          "execution_count": 98
        }
      ]
    },
    {
      "cell_type": "code",
      "metadata": {
        "id": "CjAacFtVNKdt",
        "colab_type": "code",
        "colab": {}
      },
      "source": [
        "# Pivot data base by both signups and visitors\n",
        "pivoted_data_frame = users_data_frame.pivot(index='weekday', columns='city')"
      ],
      "execution_count": 0,
      "outputs": []
    },
    {
      "cell_type": "code",
      "metadata": {
        "id": "l1ODYeVNNfBb",
        "colab_type": "code",
        "colab": {
          "base_uri": "https://localhost:8080/",
          "height": 166
        },
        "outputId": "110f4611-f8ff-4175-df30-5a8dd6cd027b"
      },
      "source": [
        "pivoted_data_frame"
      ],
      "execution_count": 100,
      "outputs": [
        {
          "output_type": "execute_result",
          "data": {
            "text/html": [
              "<div>\n",
              "<style scoped>\n",
              "    .dataframe tbody tr th:only-of-type {\n",
              "        vertical-align: middle;\n",
              "    }\n",
              "\n",
              "    .dataframe tbody tr th {\n",
              "        vertical-align: top;\n",
              "    }\n",
              "\n",
              "    .dataframe thead tr th {\n",
              "        text-align: left;\n",
              "    }\n",
              "\n",
              "    .dataframe thead tr:last-of-type th {\n",
              "        text-align: right;\n",
              "    }\n",
              "</style>\n",
              "<table border=\"1\" class=\"dataframe\">\n",
              "  <thead>\n",
              "    <tr>\n",
              "      <th></th>\n",
              "      <th colspan=\"2\" halign=\"left\">visitors</th>\n",
              "      <th colspan=\"2\" halign=\"left\">signups</th>\n",
              "    </tr>\n",
              "    <tr>\n",
              "      <th>city</th>\n",
              "      <th>Austin</th>\n",
              "      <th>Dallas</th>\n",
              "      <th>Austin</th>\n",
              "      <th>Dallas</th>\n",
              "    </tr>\n",
              "    <tr>\n",
              "      <th>weekday</th>\n",
              "      <th></th>\n",
              "      <th></th>\n",
              "      <th></th>\n",
              "      <th></th>\n",
              "    </tr>\n",
              "  </thead>\n",
              "  <tbody>\n",
              "    <tr>\n",
              "      <th>Mon</th>\n",
              "      <td>326</td>\n",
              "      <td>456</td>\n",
              "      <td>3</td>\n",
              "      <td>5</td>\n",
              "    </tr>\n",
              "    <tr>\n",
              "      <th>Sun</th>\n",
              "      <td>139</td>\n",
              "      <td>237</td>\n",
              "      <td>7</td>\n",
              "      <td>12</td>\n",
              "    </tr>\n",
              "  </tbody>\n",
              "</table>\n",
              "</div>"
            ],
            "text/plain": [
              "        visitors        signups       \n",
              "city      Austin Dallas  Austin Dallas\n",
              "weekday                               \n",
              "Mon          326    456       3      5\n",
              "Sun          139    237       7     12"
            ]
          },
          "metadata": {
            "tags": []
          },
          "execution_count": 100
        }
      ]
    },
    {
      "cell_type": "markdown",
      "metadata": {
        "id": "KLJ1l3Jggs28",
        "colab_type": "text"
      },
      "source": [
        "### stacking and unstacking:\n",
        " \n",
        "\n",
        "*   unstacking = it means to remove the multi index , and used as column index\n",
        "\n",
        "*   stacking = to convert the data frame into a multi level indexed data frame\n",
        "\n"
      ]
    },
    {
      "cell_type": "code",
      "metadata": {
        "id": "pn4Pxzs0grw8",
        "colab_type": "code",
        "colab": {
          "base_uri": "https://localhost:8080/",
          "height": 166
        },
        "outputId": "e260dbfb-1d47-4402-d140-8708851cad64"
      },
      "source": [
        "users_data_frame"
      ],
      "execution_count": 101,
      "outputs": [
        {
          "output_type": "execute_result",
          "data": {
            "text/html": [
              "<div>\n",
              "<style scoped>\n",
              "    .dataframe tbody tr th:only-of-type {\n",
              "        vertical-align: middle;\n",
              "    }\n",
              "\n",
              "    .dataframe tbody tr th {\n",
              "        vertical-align: top;\n",
              "    }\n",
              "\n",
              "    .dataframe thead th {\n",
              "        text-align: right;\n",
              "    }\n",
              "</style>\n",
              "<table border=\"1\" class=\"dataframe\">\n",
              "  <thead>\n",
              "    <tr style=\"text-align: right;\">\n",
              "      <th></th>\n",
              "      <th>weekday</th>\n",
              "      <th>city</th>\n",
              "      <th>visitors</th>\n",
              "      <th>signups</th>\n",
              "    </tr>\n",
              "  </thead>\n",
              "  <tbody>\n",
              "    <tr>\n",
              "      <th>0</th>\n",
              "      <td>Sun</td>\n",
              "      <td>Austin</td>\n",
              "      <td>139</td>\n",
              "      <td>7</td>\n",
              "    </tr>\n",
              "    <tr>\n",
              "      <th>1</th>\n",
              "      <td>Sun</td>\n",
              "      <td>Dallas</td>\n",
              "      <td>237</td>\n",
              "      <td>12</td>\n",
              "    </tr>\n",
              "    <tr>\n",
              "      <th>2</th>\n",
              "      <td>Mon</td>\n",
              "      <td>Austin</td>\n",
              "      <td>326</td>\n",
              "      <td>3</td>\n",
              "    </tr>\n",
              "    <tr>\n",
              "      <th>3</th>\n",
              "      <td>Mon</td>\n",
              "      <td>Dallas</td>\n",
              "      <td>456</td>\n",
              "      <td>5</td>\n",
              "    </tr>\n",
              "  </tbody>\n",
              "</table>\n",
              "</div>"
            ],
            "text/plain": [
              "  weekday    city  visitors  signups\n",
              "0     Sun  Austin       139        7\n",
              "1     Sun  Dallas       237       12\n",
              "2     Mon  Austin       326        3\n",
              "3     Mon  Dallas       456        5"
            ]
          },
          "metadata": {
            "tags": []
          },
          "execution_count": 101
        }
      ]
    },
    {
      "cell_type": "code",
      "metadata": {
        "id": "om6Ba51Vg26B",
        "colab_type": "code",
        "colab": {}
      },
      "source": [
        "#reindexing the data frame to a new data frame with multi index "
      ],
      "execution_count": 0,
      "outputs": []
    },
    {
      "cell_type": "code",
      "metadata": {
        "id": "Jg-Noo1Rg90c",
        "colab_type": "code",
        "colab": {}
      },
      "source": [
        "users_multi_index_data_frame = users_data_frame.set_index(['city','weekday'])"
      ],
      "execution_count": 0,
      "outputs": []
    },
    {
      "cell_type": "code",
      "metadata": {
        "id": "v-EwAIcrhQ1B",
        "colab_type": "code",
        "colab": {
          "base_uri": "https://localhost:8080/",
          "height": 195
        },
        "outputId": "eb910df1-0422-480c-e6b7-da10e8882480"
      },
      "source": [
        "users_multi_index_data_frame.sort_index()"
      ],
      "execution_count": 105,
      "outputs": [
        {
          "output_type": "execute_result",
          "data": {
            "text/html": [
              "<div>\n",
              "<style scoped>\n",
              "    .dataframe tbody tr th:only-of-type {\n",
              "        vertical-align: middle;\n",
              "    }\n",
              "\n",
              "    .dataframe tbody tr th {\n",
              "        vertical-align: top;\n",
              "    }\n",
              "\n",
              "    .dataframe thead th {\n",
              "        text-align: right;\n",
              "    }\n",
              "</style>\n",
              "<table border=\"1\" class=\"dataframe\">\n",
              "  <thead>\n",
              "    <tr style=\"text-align: right;\">\n",
              "      <th></th>\n",
              "      <th></th>\n",
              "      <th>visitors</th>\n",
              "      <th>signups</th>\n",
              "    </tr>\n",
              "    <tr>\n",
              "      <th>city</th>\n",
              "      <th>weekday</th>\n",
              "      <th></th>\n",
              "      <th></th>\n",
              "    </tr>\n",
              "  </thead>\n",
              "  <tbody>\n",
              "    <tr>\n",
              "      <th rowspan=\"2\" valign=\"top\">Austin</th>\n",
              "      <th>Mon</th>\n",
              "      <td>326</td>\n",
              "      <td>3</td>\n",
              "    </tr>\n",
              "    <tr>\n",
              "      <th>Sun</th>\n",
              "      <td>139</td>\n",
              "      <td>7</td>\n",
              "    </tr>\n",
              "    <tr>\n",
              "      <th rowspan=\"2\" valign=\"top\">Dallas</th>\n",
              "      <th>Mon</th>\n",
              "      <td>456</td>\n",
              "      <td>5</td>\n",
              "    </tr>\n",
              "    <tr>\n",
              "      <th>Sun</th>\n",
              "      <td>237</td>\n",
              "      <td>12</td>\n",
              "    </tr>\n",
              "  </tbody>\n",
              "</table>\n",
              "</div>"
            ],
            "text/plain": [
              "                visitors  signups\n",
              "city   weekday                   \n",
              "Austin Mon           326        3\n",
              "       Sun           139        7\n",
              "Dallas Mon           456        5\n",
              "       Sun           237       12"
            ]
          },
          "metadata": {
            "tags": []
          },
          "execution_count": 105
        }
      ]
    },
    {
      "cell_type": "code",
      "metadata": {
        "id": "-g6cD-T4hWE8",
        "colab_type": "code",
        "colab": {}
      },
      "source": [
        "#to unstack \n",
        "weekday_unstacked = users_multi_index_data_frame.unstack(level='weekday')     # alt.  level=1 can also be used"
      ],
      "execution_count": 0,
      "outputs": []
    },
    {
      "cell_type": "code",
      "metadata": {
        "id": "uLblYg59iwUs",
        "colab_type": "code",
        "colab": {
          "base_uri": "https://localhost:8080/",
          "height": 166
        },
        "outputId": "cc58d24c-d94f-412c-ca87-3a34ae3e601f"
      },
      "source": [
        "weekday_unstacked  "
      ],
      "execution_count": 109,
      "outputs": [
        {
          "output_type": "execute_result",
          "data": {
            "text/html": [
              "<div>\n",
              "<style scoped>\n",
              "    .dataframe tbody tr th:only-of-type {\n",
              "        vertical-align: middle;\n",
              "    }\n",
              "\n",
              "    .dataframe tbody tr th {\n",
              "        vertical-align: top;\n",
              "    }\n",
              "\n",
              "    .dataframe thead tr th {\n",
              "        text-align: left;\n",
              "    }\n",
              "\n",
              "    .dataframe thead tr:last-of-type th {\n",
              "        text-align: right;\n",
              "    }\n",
              "</style>\n",
              "<table border=\"1\" class=\"dataframe\">\n",
              "  <thead>\n",
              "    <tr>\n",
              "      <th></th>\n",
              "      <th colspan=\"2\" halign=\"left\">visitors</th>\n",
              "      <th colspan=\"2\" halign=\"left\">signups</th>\n",
              "    </tr>\n",
              "    <tr>\n",
              "      <th>weekday</th>\n",
              "      <th>Mon</th>\n",
              "      <th>Sun</th>\n",
              "      <th>Mon</th>\n",
              "      <th>Sun</th>\n",
              "    </tr>\n",
              "    <tr>\n",
              "      <th>city</th>\n",
              "      <th></th>\n",
              "      <th></th>\n",
              "      <th></th>\n",
              "      <th></th>\n",
              "    </tr>\n",
              "  </thead>\n",
              "  <tbody>\n",
              "    <tr>\n",
              "      <th>Austin</th>\n",
              "      <td>326</td>\n",
              "      <td>139</td>\n",
              "      <td>3</td>\n",
              "      <td>7</td>\n",
              "    </tr>\n",
              "    <tr>\n",
              "      <th>Dallas</th>\n",
              "      <td>456</td>\n",
              "      <td>237</td>\n",
              "      <td>5</td>\n",
              "      <td>12</td>\n",
              "    </tr>\n",
              "  </tbody>\n",
              "</table>\n",
              "</div>"
            ],
            "text/plain": [
              "        visitors      signups    \n",
              "weekday      Mon  Sun     Mon Sun\n",
              "city                             \n",
              "Austin       326  139       3   7\n",
              "Dallas       456  237       5  12"
            ]
          },
          "metadata": {
            "tags": []
          },
          "execution_count": 109
        }
      ]
    },
    {
      "cell_type": "code",
      "metadata": {
        "id": "hSQ0Ch3ljMZU",
        "colab_type": "code",
        "colab": {}
      },
      "source": [
        "city_unstacked = users_multi_index_data_frame.unstack(level='city')"
      ],
      "execution_count": 0,
      "outputs": []
    },
    {
      "cell_type": "code",
      "metadata": {
        "id": "VwFAjtd6jbbp",
        "colab_type": "code",
        "colab": {
          "base_uri": "https://localhost:8080/",
          "height": 166
        },
        "outputId": "8f0207b9-2572-41f7-c29a-d452efd87511"
      },
      "source": [
        "city_unstacked"
      ],
      "execution_count": 111,
      "outputs": [
        {
          "output_type": "execute_result",
          "data": {
            "text/html": [
              "<div>\n",
              "<style scoped>\n",
              "    .dataframe tbody tr th:only-of-type {\n",
              "        vertical-align: middle;\n",
              "    }\n",
              "\n",
              "    .dataframe tbody tr th {\n",
              "        vertical-align: top;\n",
              "    }\n",
              "\n",
              "    .dataframe thead tr th {\n",
              "        text-align: left;\n",
              "    }\n",
              "\n",
              "    .dataframe thead tr:last-of-type th {\n",
              "        text-align: right;\n",
              "    }\n",
              "</style>\n",
              "<table border=\"1\" class=\"dataframe\">\n",
              "  <thead>\n",
              "    <tr>\n",
              "      <th></th>\n",
              "      <th colspan=\"2\" halign=\"left\">visitors</th>\n",
              "      <th colspan=\"2\" halign=\"left\">signups</th>\n",
              "    </tr>\n",
              "    <tr>\n",
              "      <th>city</th>\n",
              "      <th>Austin</th>\n",
              "      <th>Dallas</th>\n",
              "      <th>Austin</th>\n",
              "      <th>Dallas</th>\n",
              "    </tr>\n",
              "    <tr>\n",
              "      <th>weekday</th>\n",
              "      <th></th>\n",
              "      <th></th>\n",
              "      <th></th>\n",
              "      <th></th>\n",
              "    </tr>\n",
              "  </thead>\n",
              "  <tbody>\n",
              "    <tr>\n",
              "      <th>Mon</th>\n",
              "      <td>326</td>\n",
              "      <td>456</td>\n",
              "      <td>3</td>\n",
              "      <td>5</td>\n",
              "    </tr>\n",
              "    <tr>\n",
              "      <th>Sun</th>\n",
              "      <td>139</td>\n",
              "      <td>237</td>\n",
              "      <td>7</td>\n",
              "      <td>12</td>\n",
              "    </tr>\n",
              "  </tbody>\n",
              "</table>\n",
              "</div>"
            ],
            "text/plain": [
              "        visitors        signups       \n",
              "city      Austin Dallas  Austin Dallas\n",
              "weekday                               \n",
              "Mon          326    456       3      5\n",
              "Sun          139    237       7     12"
            ]
          },
          "metadata": {
            "tags": []
          },
          "execution_count": 111
        }
      ]
    },
    {
      "cell_type": "code",
      "metadata": {
        "id": "a13E6IC-jyzE",
        "colab_type": "code",
        "colab": {}
      },
      "source": [
        "#stack \n",
        "city_stacked = city_unstacked.stack('city')"
      ],
      "execution_count": 0,
      "outputs": []
    },
    {
      "cell_type": "code",
      "metadata": {
        "id": "nl2fsfTYj_6z",
        "colab_type": "code",
        "colab": {
          "base_uri": "https://localhost:8080/",
          "height": 195
        },
        "outputId": "a74f1a26-0bde-4323-e61b-f7c332142ac9"
      },
      "source": [
        "city_stacked"
      ],
      "execution_count": 113,
      "outputs": [
        {
          "output_type": "execute_result",
          "data": {
            "text/html": [
              "<div>\n",
              "<style scoped>\n",
              "    .dataframe tbody tr th:only-of-type {\n",
              "        vertical-align: middle;\n",
              "    }\n",
              "\n",
              "    .dataframe tbody tr th {\n",
              "        vertical-align: top;\n",
              "    }\n",
              "\n",
              "    .dataframe thead th {\n",
              "        text-align: right;\n",
              "    }\n",
              "</style>\n",
              "<table border=\"1\" class=\"dataframe\">\n",
              "  <thead>\n",
              "    <tr style=\"text-align: right;\">\n",
              "      <th></th>\n",
              "      <th></th>\n",
              "      <th>visitors</th>\n",
              "      <th>signups</th>\n",
              "    </tr>\n",
              "    <tr>\n",
              "      <th>weekday</th>\n",
              "      <th>city</th>\n",
              "      <th></th>\n",
              "      <th></th>\n",
              "    </tr>\n",
              "  </thead>\n",
              "  <tbody>\n",
              "    <tr>\n",
              "      <th rowspan=\"2\" valign=\"top\">Mon</th>\n",
              "      <th>Austin</th>\n",
              "      <td>326</td>\n",
              "      <td>3</td>\n",
              "    </tr>\n",
              "    <tr>\n",
              "      <th>Dallas</th>\n",
              "      <td>456</td>\n",
              "      <td>5</td>\n",
              "    </tr>\n",
              "    <tr>\n",
              "      <th rowspan=\"2\" valign=\"top\">Sun</th>\n",
              "      <th>Austin</th>\n",
              "      <td>139</td>\n",
              "      <td>7</td>\n",
              "    </tr>\n",
              "    <tr>\n",
              "      <th>Dallas</th>\n",
              "      <td>237</td>\n",
              "      <td>12</td>\n",
              "    </tr>\n",
              "  </tbody>\n",
              "</table>\n",
              "</div>"
            ],
            "text/plain": [
              "                visitors  signups\n",
              "weekday city                     \n",
              "Mon     Austin       326        3\n",
              "        Dallas       456        5\n",
              "Sun     Austin       139        7\n",
              "        Dallas       237       12"
            ]
          },
          "metadata": {
            "tags": []
          },
          "execution_count": 113
        }
      ]
    },
    {
      "cell_type": "code",
      "metadata": {
        "id": "yXOe3JockCsv",
        "colab_type": "code",
        "colab": {}
      },
      "source": [
        "# to swap the indexs\n",
        "city_stacked = city_stacked.swaplevel(0,1)"
      ],
      "execution_count": 0,
      "outputs": []
    },
    {
      "cell_type": "code",
      "metadata": {
        "id": "XqczBQ8Gks3T",
        "colab_type": "code",
        "colab": {
          "base_uri": "https://localhost:8080/",
          "height": 195
        },
        "outputId": "22d37a26-31f3-4376-9333-f10afe21eced"
      },
      "source": [
        "city_stacked"
      ],
      "execution_count": 122,
      "outputs": [
        {
          "output_type": "execute_result",
          "data": {
            "text/html": [
              "<div>\n",
              "<style scoped>\n",
              "    .dataframe tbody tr th:only-of-type {\n",
              "        vertical-align: middle;\n",
              "    }\n",
              "\n",
              "    .dataframe tbody tr th {\n",
              "        vertical-align: top;\n",
              "    }\n",
              "\n",
              "    .dataframe thead th {\n",
              "        text-align: right;\n",
              "    }\n",
              "</style>\n",
              "<table border=\"1\" class=\"dataframe\">\n",
              "  <thead>\n",
              "    <tr style=\"text-align: right;\">\n",
              "      <th></th>\n",
              "      <th></th>\n",
              "      <th>visitors</th>\n",
              "      <th>signups</th>\n",
              "    </tr>\n",
              "    <tr>\n",
              "      <th>city</th>\n",
              "      <th>weekday</th>\n",
              "      <th></th>\n",
              "      <th></th>\n",
              "    </tr>\n",
              "  </thead>\n",
              "  <tbody>\n",
              "    <tr>\n",
              "      <th>Austin</th>\n",
              "      <th>Mon</th>\n",
              "      <td>326</td>\n",
              "      <td>3</td>\n",
              "    </tr>\n",
              "    <tr>\n",
              "      <th>Dallas</th>\n",
              "      <th>Mon</th>\n",
              "      <td>456</td>\n",
              "      <td>5</td>\n",
              "    </tr>\n",
              "    <tr>\n",
              "      <th>Austin</th>\n",
              "      <th>Sun</th>\n",
              "      <td>139</td>\n",
              "      <td>7</td>\n",
              "    </tr>\n",
              "    <tr>\n",
              "      <th>Dallas</th>\n",
              "      <th>Sun</th>\n",
              "      <td>237</td>\n",
              "      <td>12</td>\n",
              "    </tr>\n",
              "  </tbody>\n",
              "</table>\n",
              "</div>"
            ],
            "text/plain": [
              "                visitors  signups\n",
              "city   weekday                   \n",
              "Austin Mon           326        3\n",
              "Dallas Mon           456        5\n",
              "Austin Sun           139        7\n",
              "Dallas Sun           237       12"
            ]
          },
          "metadata": {
            "tags": []
          },
          "execution_count": 122
        }
      ]
    },
    {
      "cell_type": "code",
      "metadata": {
        "id": "mjN-SuS7k8fn",
        "colab_type": "code",
        "colab": {
          "base_uri": "https://localhost:8080/",
          "height": 195
        },
        "outputId": "d9ba1554-1187-4e94-986f-4a42339ee46f"
      },
      "source": [
        "city_stacked = city_stacked.sort_index()           # sorting the index of the data frame\n",
        "city_stacked"
      ],
      "execution_count": 124,
      "outputs": [
        {
          "output_type": "execute_result",
          "data": {
            "text/html": [
              "<div>\n",
              "<style scoped>\n",
              "    .dataframe tbody tr th:only-of-type {\n",
              "        vertical-align: middle;\n",
              "    }\n",
              "\n",
              "    .dataframe tbody tr th {\n",
              "        vertical-align: top;\n",
              "    }\n",
              "\n",
              "    .dataframe thead th {\n",
              "        text-align: right;\n",
              "    }\n",
              "</style>\n",
              "<table border=\"1\" class=\"dataframe\">\n",
              "  <thead>\n",
              "    <tr style=\"text-align: right;\">\n",
              "      <th></th>\n",
              "      <th></th>\n",
              "      <th>visitors</th>\n",
              "      <th>signups</th>\n",
              "    </tr>\n",
              "    <tr>\n",
              "      <th>city</th>\n",
              "      <th>weekday</th>\n",
              "      <th></th>\n",
              "      <th></th>\n",
              "    </tr>\n",
              "  </thead>\n",
              "  <tbody>\n",
              "    <tr>\n",
              "      <th rowspan=\"2\" valign=\"top\">Austin</th>\n",
              "      <th>Mon</th>\n",
              "      <td>326</td>\n",
              "      <td>3</td>\n",
              "    </tr>\n",
              "    <tr>\n",
              "      <th>Sun</th>\n",
              "      <td>139</td>\n",
              "      <td>7</td>\n",
              "    </tr>\n",
              "    <tr>\n",
              "      <th rowspan=\"2\" valign=\"top\">Dallas</th>\n",
              "      <th>Mon</th>\n",
              "      <td>456</td>\n",
              "      <td>5</td>\n",
              "    </tr>\n",
              "    <tr>\n",
              "      <th>Sun</th>\n",
              "      <td>237</td>\n",
              "      <td>12</td>\n",
              "    </tr>\n",
              "  </tbody>\n",
              "</table>\n",
              "</div>"
            ],
            "text/plain": [
              "                visitors  signups\n",
              "city   weekday                   \n",
              "Austin Mon           326        3\n",
              "       Sun           139        7\n",
              "Dallas Mon           456        5\n",
              "       Sun           237       12"
            ]
          },
          "metadata": {
            "tags": []
          },
          "execution_count": 124
        }
      ]
    },
    {
      "cell_type": "markdown",
      "metadata": {
        "id": "tgdRtBnfml54",
        "colab_type": "text"
      },
      "source": [
        "### Melt dataframes:\n",
        "melt is used to unpivot or to make column to rows and rows to columns"
      ]
    },
    {
      "cell_type": "code",
      "metadata": {
        "id": "DZzsx870m3Bu",
        "colab_type": "code",
        "colab": {
          "base_uri": "https://localhost:8080/",
          "height": 136
        },
        "outputId": "0f89c2ea-8921-4df5-8a70-47e34c52bcfc"
      },
      "source": [
        "visitors_data_frame"
      ],
      "execution_count": 137,
      "outputs": [
        {
          "output_type": "execute_result",
          "data": {
            "text/html": [
              "<div>\n",
              "<style scoped>\n",
              "    .dataframe tbody tr th:only-of-type {\n",
              "        vertical-align: middle;\n",
              "    }\n",
              "\n",
              "    .dataframe tbody tr th {\n",
              "        vertical-align: top;\n",
              "    }\n",
              "\n",
              "    .dataframe thead th {\n",
              "        text-align: right;\n",
              "    }\n",
              "</style>\n",
              "<table border=\"1\" class=\"dataframe\">\n",
              "  <thead>\n",
              "    <tr style=\"text-align: right;\">\n",
              "      <th>city</th>\n",
              "      <th>Austin</th>\n",
              "      <th>Dallas</th>\n",
              "    </tr>\n",
              "    <tr>\n",
              "      <th>weekday</th>\n",
              "      <th></th>\n",
              "      <th></th>\n",
              "    </tr>\n",
              "  </thead>\n",
              "  <tbody>\n",
              "    <tr>\n",
              "      <th>Mon</th>\n",
              "      <td>326</td>\n",
              "      <td>456</td>\n",
              "    </tr>\n",
              "    <tr>\n",
              "      <th>Sun</th>\n",
              "      <td>139</td>\n",
              "      <td>237</td>\n",
              "    </tr>\n",
              "  </tbody>\n",
              "</table>\n",
              "</div>"
            ],
            "text/plain": [
              "city     Austin  Dallas\n",
              "weekday                \n",
              "Mon         326     456\n",
              "Sun         139     237"
            ]
          },
          "metadata": {
            "tags": []
          },
          "execution_count": 137
        }
      ]
    },
    {
      "cell_type": "code",
      "metadata": {
        "id": "AbYHJUOrnka4",
        "colab_type": "code",
        "colab": {
          "base_uri": "https://localhost:8080/",
          "height": 106
        },
        "outputId": "adb0c203-167a-4795-efab-bd95500ba34f"
      },
      "source": [
        " visitors_unindexed = visitors_data_frame.reset_index()\n",
        " visitors_unindexed"
      ],
      "execution_count": 139,
      "outputs": [
        {
          "output_type": "execute_result",
          "data": {
            "text/html": [
              "<div>\n",
              "<style scoped>\n",
              "    .dataframe tbody tr th:only-of-type {\n",
              "        vertical-align: middle;\n",
              "    }\n",
              "\n",
              "    .dataframe tbody tr th {\n",
              "        vertical-align: top;\n",
              "    }\n",
              "\n",
              "    .dataframe thead th {\n",
              "        text-align: right;\n",
              "    }\n",
              "</style>\n",
              "<table border=\"1\" class=\"dataframe\">\n",
              "  <thead>\n",
              "    <tr style=\"text-align: right;\">\n",
              "      <th>city</th>\n",
              "      <th>weekday</th>\n",
              "      <th>Austin</th>\n",
              "      <th>Dallas</th>\n",
              "    </tr>\n",
              "  </thead>\n",
              "  <tbody>\n",
              "    <tr>\n",
              "      <th>0</th>\n",
              "      <td>Mon</td>\n",
              "      <td>326</td>\n",
              "      <td>456</td>\n",
              "    </tr>\n",
              "    <tr>\n",
              "      <th>1</th>\n",
              "      <td>Sun</td>\n",
              "      <td>139</td>\n",
              "      <td>237</td>\n",
              "    </tr>\n",
              "  </tbody>\n",
              "</table>\n",
              "</div>"
            ],
            "text/plain": [
              "city weekday  Austin  Dallas\n",
              "0        Mon     326     456\n",
              "1        Sun     139     237"
            ]
          },
          "metadata": {
            "tags": []
          },
          "execution_count": 139
        }
      ]
    },
    {
      "cell_type": "code",
      "metadata": {
        "id": "CHh7pG9Fn_Qx",
        "colab_type": "code",
        "colab": {
          "base_uri": "https://localhost:8080/",
          "height": 225
        },
        "outputId": "5bf04e7f-15ed-44ed-9a86-eac30e6c1188"
      },
      "source": [
        "visitors_melt_data_frame = pd.melt(visitors_unindexed)\n",
        "visitors_melt_data_frame"
      ],
      "execution_count": 140,
      "outputs": [
        {
          "output_type": "execute_result",
          "data": {
            "text/html": [
              "<div>\n",
              "<style scoped>\n",
              "    .dataframe tbody tr th:only-of-type {\n",
              "        vertical-align: middle;\n",
              "    }\n",
              "\n",
              "    .dataframe tbody tr th {\n",
              "        vertical-align: top;\n",
              "    }\n",
              "\n",
              "    .dataframe thead th {\n",
              "        text-align: right;\n",
              "    }\n",
              "</style>\n",
              "<table border=\"1\" class=\"dataframe\">\n",
              "  <thead>\n",
              "    <tr style=\"text-align: right;\">\n",
              "      <th></th>\n",
              "      <th>city</th>\n",
              "      <th>value</th>\n",
              "    </tr>\n",
              "  </thead>\n",
              "  <tbody>\n",
              "    <tr>\n",
              "      <th>0</th>\n",
              "      <td>weekday</td>\n",
              "      <td>Mon</td>\n",
              "    </tr>\n",
              "    <tr>\n",
              "      <th>1</th>\n",
              "      <td>weekday</td>\n",
              "      <td>Sun</td>\n",
              "    </tr>\n",
              "    <tr>\n",
              "      <th>2</th>\n",
              "      <td>Austin</td>\n",
              "      <td>326</td>\n",
              "    </tr>\n",
              "    <tr>\n",
              "      <th>3</th>\n",
              "      <td>Austin</td>\n",
              "      <td>139</td>\n",
              "    </tr>\n",
              "    <tr>\n",
              "      <th>4</th>\n",
              "      <td>Dallas</td>\n",
              "      <td>456</td>\n",
              "    </tr>\n",
              "    <tr>\n",
              "      <th>5</th>\n",
              "      <td>Dallas</td>\n",
              "      <td>237</td>\n",
              "    </tr>\n",
              "  </tbody>\n",
              "</table>\n",
              "</div>"
            ],
            "text/plain": [
              "      city value\n",
              "0  weekday   Mon\n",
              "1  weekday   Sun\n",
              "2   Austin   326\n",
              "3   Austin   139\n",
              "4   Dallas   456\n",
              "5   Dallas   237"
            ]
          },
          "metadata": {
            "tags": []
          },
          "execution_count": 140
        }
      ]
    },
    {
      "cell_type": "code",
      "metadata": {
        "id": "jx8Z0Q7woMwl",
        "colab_type": "code",
        "colab": {
          "base_uri": "https://localhost:8080/",
          "height": 166
        },
        "outputId": "3896ee05-2d44-4265-ea3a-b0b5cac80a9c"
      },
      "source": [
        "# we do not want the weekday to change \n",
        "visitors_melt_data_frame = pd.melt(visitors_unindexed, id_vars='weekday')\n",
        "visitors_melt_data_frame"
      ],
      "execution_count": 143,
      "outputs": [
        {
          "output_type": "execute_result",
          "data": {
            "text/html": [
              "<div>\n",
              "<style scoped>\n",
              "    .dataframe tbody tr th:only-of-type {\n",
              "        vertical-align: middle;\n",
              "    }\n",
              "\n",
              "    .dataframe tbody tr th {\n",
              "        vertical-align: top;\n",
              "    }\n",
              "\n",
              "    .dataframe thead th {\n",
              "        text-align: right;\n",
              "    }\n",
              "</style>\n",
              "<table border=\"1\" class=\"dataframe\">\n",
              "  <thead>\n",
              "    <tr style=\"text-align: right;\">\n",
              "      <th></th>\n",
              "      <th>weekday</th>\n",
              "      <th>city</th>\n",
              "      <th>value</th>\n",
              "    </tr>\n",
              "  </thead>\n",
              "  <tbody>\n",
              "    <tr>\n",
              "      <th>0</th>\n",
              "      <td>Mon</td>\n",
              "      <td>Austin</td>\n",
              "      <td>326</td>\n",
              "    </tr>\n",
              "    <tr>\n",
              "      <th>1</th>\n",
              "      <td>Sun</td>\n",
              "      <td>Austin</td>\n",
              "      <td>139</td>\n",
              "    </tr>\n",
              "    <tr>\n",
              "      <th>2</th>\n",
              "      <td>Mon</td>\n",
              "      <td>Dallas</td>\n",
              "      <td>456</td>\n",
              "    </tr>\n",
              "    <tr>\n",
              "      <th>3</th>\n",
              "      <td>Sun</td>\n",
              "      <td>Dallas</td>\n",
              "      <td>237</td>\n",
              "    </tr>\n",
              "  </tbody>\n",
              "</table>\n",
              "</div>"
            ],
            "text/plain": [
              "  weekday    city  value\n",
              "0     Mon  Austin    326\n",
              "1     Sun  Austin    139\n",
              "2     Mon  Dallas    456\n",
              "3     Sun  Dallas    237"
            ]
          },
          "metadata": {
            "tags": []
          },
          "execution_count": 143
        }
      ]
    },
    {
      "cell_type": "code",
      "metadata": {
        "id": "8wOHzO7qpYmu",
        "colab_type": "code",
        "colab": {
          "base_uri": "https://localhost:8080/",
          "height": 166
        },
        "outputId": "6ec3f9fe-6d8f-48ea-b637-64d1a9b11bc5"
      },
      "source": [
        "# to give the column name instead of value\n",
        "visitors_melt_data_frame = pd.melt(visitors_unindexed, id_vars='weekday', value_name='visitors')\n",
        "visitors_melt_data_frame.sort_index()"
      ],
      "execution_count": 145,
      "outputs": [
        {
          "output_type": "execute_result",
          "data": {
            "text/html": [
              "<div>\n",
              "<style scoped>\n",
              "    .dataframe tbody tr th:only-of-type {\n",
              "        vertical-align: middle;\n",
              "    }\n",
              "\n",
              "    .dataframe tbody tr th {\n",
              "        vertical-align: top;\n",
              "    }\n",
              "\n",
              "    .dataframe thead th {\n",
              "        text-align: right;\n",
              "    }\n",
              "</style>\n",
              "<table border=\"1\" class=\"dataframe\">\n",
              "  <thead>\n",
              "    <tr style=\"text-align: right;\">\n",
              "      <th></th>\n",
              "      <th>weekday</th>\n",
              "      <th>city</th>\n",
              "      <th>visitors</th>\n",
              "    </tr>\n",
              "  </thead>\n",
              "  <tbody>\n",
              "    <tr>\n",
              "      <th>0</th>\n",
              "      <td>Mon</td>\n",
              "      <td>Austin</td>\n",
              "      <td>326</td>\n",
              "    </tr>\n",
              "    <tr>\n",
              "      <th>1</th>\n",
              "      <td>Sun</td>\n",
              "      <td>Austin</td>\n",
              "      <td>139</td>\n",
              "    </tr>\n",
              "    <tr>\n",
              "      <th>2</th>\n",
              "      <td>Mon</td>\n",
              "      <td>Dallas</td>\n",
              "      <td>456</td>\n",
              "    </tr>\n",
              "    <tr>\n",
              "      <th>3</th>\n",
              "      <td>Sun</td>\n",
              "      <td>Dallas</td>\n",
              "      <td>237</td>\n",
              "    </tr>\n",
              "  </tbody>\n",
              "</table>\n",
              "</div>"
            ],
            "text/plain": [
              "  weekday    city  visitors\n",
              "0     Mon  Austin       326\n",
              "1     Sun  Austin       139\n",
              "2     Mon  Dallas       456\n",
              "3     Sun  Dallas       237"
            ]
          },
          "metadata": {
            "tags": []
          },
          "execution_count": 145
        }
      ]
    },
    {
      "cell_type": "markdown",
      "metadata": {
        "id": "N0p5xzo5s-i-",
        "colab_type": "text"
      },
      "source": [
        "### pivot table"
      ]
    },
    {
      "cell_type": "code",
      "metadata": {
        "id": "sOxfogR8tAs6",
        "colab_type": "code",
        "colab": {
          "base_uri": "https://localhost:8080/",
          "height": 166
        },
        "outputId": "f736dd75-45fe-481b-a480-8caf43bcbe8b"
      },
      "source": [
        "users_data_frame"
      ],
      "execution_count": 146,
      "outputs": [
        {
          "output_type": "execute_result",
          "data": {
            "text/html": [
              "<div>\n",
              "<style scoped>\n",
              "    .dataframe tbody tr th:only-of-type {\n",
              "        vertical-align: middle;\n",
              "    }\n",
              "\n",
              "    .dataframe tbody tr th {\n",
              "        vertical-align: top;\n",
              "    }\n",
              "\n",
              "    .dataframe thead th {\n",
              "        text-align: right;\n",
              "    }\n",
              "</style>\n",
              "<table border=\"1\" class=\"dataframe\">\n",
              "  <thead>\n",
              "    <tr style=\"text-align: right;\">\n",
              "      <th></th>\n",
              "      <th>weekday</th>\n",
              "      <th>city</th>\n",
              "      <th>visitors</th>\n",
              "      <th>signups</th>\n",
              "    </tr>\n",
              "  </thead>\n",
              "  <tbody>\n",
              "    <tr>\n",
              "      <th>0</th>\n",
              "      <td>Sun</td>\n",
              "      <td>Austin</td>\n",
              "      <td>139</td>\n",
              "      <td>7</td>\n",
              "    </tr>\n",
              "    <tr>\n",
              "      <th>1</th>\n",
              "      <td>Sun</td>\n",
              "      <td>Dallas</td>\n",
              "      <td>237</td>\n",
              "      <td>12</td>\n",
              "    </tr>\n",
              "    <tr>\n",
              "      <th>2</th>\n",
              "      <td>Mon</td>\n",
              "      <td>Austin</td>\n",
              "      <td>326</td>\n",
              "      <td>3</td>\n",
              "    </tr>\n",
              "    <tr>\n",
              "      <th>3</th>\n",
              "      <td>Mon</td>\n",
              "      <td>Dallas</td>\n",
              "      <td>456</td>\n",
              "      <td>5</td>\n",
              "    </tr>\n",
              "  </tbody>\n",
              "</table>\n",
              "</div>"
            ],
            "text/plain": [
              "  weekday    city  visitors  signups\n",
              "0     Sun  Austin       139        7\n",
              "1     Sun  Dallas       237       12\n",
              "2     Mon  Austin       326        3\n",
              "3     Mon  Dallas       456        5"
            ]
          },
          "metadata": {
            "tags": []
          },
          "execution_count": 146
        }
      ]
    },
    {
      "cell_type": "code",
      "metadata": {
        "id": "ahK7Yu1cwBys",
        "colab_type": "code",
        "colab": {
          "base_uri": "https://localhost:8080/",
          "height": 166
        },
        "outputId": "6f488c4f-e531-4cc0-be61-929c963592b0"
      },
      "source": [
        "city_weekday = users_data_frame.pivot_table(index='city', columns='weekday')\n",
        "city_weekday"
      ],
      "execution_count": 149,
      "outputs": [
        {
          "output_type": "execute_result",
          "data": {
            "text/html": [
              "<div>\n",
              "<style scoped>\n",
              "    .dataframe tbody tr th:only-of-type {\n",
              "        vertical-align: middle;\n",
              "    }\n",
              "\n",
              "    .dataframe tbody tr th {\n",
              "        vertical-align: top;\n",
              "    }\n",
              "\n",
              "    .dataframe thead tr th {\n",
              "        text-align: left;\n",
              "    }\n",
              "\n",
              "    .dataframe thead tr:last-of-type th {\n",
              "        text-align: right;\n",
              "    }\n",
              "</style>\n",
              "<table border=\"1\" class=\"dataframe\">\n",
              "  <thead>\n",
              "    <tr>\n",
              "      <th></th>\n",
              "      <th colspan=\"2\" halign=\"left\">signups</th>\n",
              "      <th colspan=\"2\" halign=\"left\">visitors</th>\n",
              "    </tr>\n",
              "    <tr>\n",
              "      <th>weekday</th>\n",
              "      <th>Mon</th>\n",
              "      <th>Sun</th>\n",
              "      <th>Mon</th>\n",
              "      <th>Sun</th>\n",
              "    </tr>\n",
              "    <tr>\n",
              "      <th>city</th>\n",
              "      <th></th>\n",
              "      <th></th>\n",
              "      <th></th>\n",
              "      <th></th>\n",
              "    </tr>\n",
              "  </thead>\n",
              "  <tbody>\n",
              "    <tr>\n",
              "      <th>Austin</th>\n",
              "      <td>3</td>\n",
              "      <td>7</td>\n",
              "      <td>326</td>\n",
              "      <td>139</td>\n",
              "    </tr>\n",
              "    <tr>\n",
              "      <th>Dallas</th>\n",
              "      <td>5</td>\n",
              "      <td>12</td>\n",
              "      <td>456</td>\n",
              "      <td>237</td>\n",
              "    </tr>\n",
              "  </tbody>\n",
              "</table>\n",
              "</div>"
            ],
            "text/plain": [
              "        signups     visitors     \n",
              "weekday     Mon Sun      Mon  Sun\n",
              "city                             \n",
              "Austin        3   7      326  139\n",
              "Dallas        5  12      456  237"
            ]
          },
          "metadata": {
            "tags": []
          },
          "execution_count": 149
        }
      ]
    },
    {
      "cell_type": "code",
      "metadata": {
        "id": "OSIVywwMwaJk",
        "colab_type": "code",
        "colab": {
          "base_uri": "https://localhost:8080/",
          "height": 166
        },
        "outputId": "f3b8c260-824f-4a57-ac77-a54be926ff26"
      },
      "source": [
        "city_weekday = users_data_frame.pivot_table(index='weekday', columns='city')\n",
        "city_weekday.sort_index()"
      ],
      "execution_count": 151,
      "outputs": [
        {
          "output_type": "execute_result",
          "data": {
            "text/html": [
              "<div>\n",
              "<style scoped>\n",
              "    .dataframe tbody tr th:only-of-type {\n",
              "        vertical-align: middle;\n",
              "    }\n",
              "\n",
              "    .dataframe tbody tr th {\n",
              "        vertical-align: top;\n",
              "    }\n",
              "\n",
              "    .dataframe thead tr th {\n",
              "        text-align: left;\n",
              "    }\n",
              "\n",
              "    .dataframe thead tr:last-of-type th {\n",
              "        text-align: right;\n",
              "    }\n",
              "</style>\n",
              "<table border=\"1\" class=\"dataframe\">\n",
              "  <thead>\n",
              "    <tr>\n",
              "      <th></th>\n",
              "      <th colspan=\"2\" halign=\"left\">signups</th>\n",
              "      <th colspan=\"2\" halign=\"left\">visitors</th>\n",
              "    </tr>\n",
              "    <tr>\n",
              "      <th>city</th>\n",
              "      <th>Austin</th>\n",
              "      <th>Dallas</th>\n",
              "      <th>Austin</th>\n",
              "      <th>Dallas</th>\n",
              "    </tr>\n",
              "    <tr>\n",
              "      <th>weekday</th>\n",
              "      <th></th>\n",
              "      <th></th>\n",
              "      <th></th>\n",
              "      <th></th>\n",
              "    </tr>\n",
              "  </thead>\n",
              "  <tbody>\n",
              "    <tr>\n",
              "      <th>Mon</th>\n",
              "      <td>3</td>\n",
              "      <td>5</td>\n",
              "      <td>326</td>\n",
              "      <td>456</td>\n",
              "    </tr>\n",
              "    <tr>\n",
              "      <th>Sun</th>\n",
              "      <td>7</td>\n",
              "      <td>12</td>\n",
              "      <td>139</td>\n",
              "      <td>237</td>\n",
              "    </tr>\n",
              "  </tbody>\n",
              "</table>\n",
              "</div>"
            ],
            "text/plain": [
              "        signups        visitors       \n",
              "city     Austin Dallas   Austin Dallas\n",
              "weekday                               \n",
              "Mon           3      5      326    456\n",
              "Sun           7     12      139    237"
            ]
          },
          "metadata": {
            "tags": []
          },
          "execution_count": 151
        }
      ]
    },
    {
      "cell_type": "code",
      "metadata": {
        "id": "VrRR8NqTxUt3",
        "colab_type": "code",
        "colab": {
          "base_uri": "https://localhost:8080/",
          "height": 195
        },
        "outputId": "c161e390-61a5-43b4-ab20-6d810d7becf0"
      },
      "source": [
        "#example to better understand the pivot table\n",
        "# to have a data frame to show the total number of visitors and signups\n",
        "signups_visitors = users_data_frame.pivot_table(index='weekday',columns='city', aggfunc=sum, margins=True)\n",
        "signups_visitors"
      ],
      "execution_count": 153,
      "outputs": [
        {
          "output_type": "execute_result",
          "data": {
            "text/html": [
              "<div>\n",
              "<style scoped>\n",
              "    .dataframe tbody tr th:only-of-type {\n",
              "        vertical-align: middle;\n",
              "    }\n",
              "\n",
              "    .dataframe tbody tr th {\n",
              "        vertical-align: top;\n",
              "    }\n",
              "\n",
              "    .dataframe thead tr th {\n",
              "        text-align: left;\n",
              "    }\n",
              "\n",
              "    .dataframe thead tr:last-of-type th {\n",
              "        text-align: right;\n",
              "    }\n",
              "</style>\n",
              "<table border=\"1\" class=\"dataframe\">\n",
              "  <thead>\n",
              "    <tr>\n",
              "      <th></th>\n",
              "      <th colspan=\"3\" halign=\"left\">signups</th>\n",
              "      <th colspan=\"3\" halign=\"left\">visitors</th>\n",
              "    </tr>\n",
              "    <tr>\n",
              "      <th>city</th>\n",
              "      <th>Austin</th>\n",
              "      <th>Dallas</th>\n",
              "      <th>All</th>\n",
              "      <th>Austin</th>\n",
              "      <th>Dallas</th>\n",
              "      <th>All</th>\n",
              "    </tr>\n",
              "    <tr>\n",
              "      <th>weekday</th>\n",
              "      <th></th>\n",
              "      <th></th>\n",
              "      <th></th>\n",
              "      <th></th>\n",
              "      <th></th>\n",
              "      <th></th>\n",
              "    </tr>\n",
              "  </thead>\n",
              "  <tbody>\n",
              "    <tr>\n",
              "      <th>Mon</th>\n",
              "      <td>3</td>\n",
              "      <td>5</td>\n",
              "      <td>8</td>\n",
              "      <td>326</td>\n",
              "      <td>456</td>\n",
              "      <td>782</td>\n",
              "    </tr>\n",
              "    <tr>\n",
              "      <th>Sun</th>\n",
              "      <td>7</td>\n",
              "      <td>12</td>\n",
              "      <td>19</td>\n",
              "      <td>139</td>\n",
              "      <td>237</td>\n",
              "      <td>376</td>\n",
              "    </tr>\n",
              "    <tr>\n",
              "      <th>All</th>\n",
              "      <td>10</td>\n",
              "      <td>17</td>\n",
              "      <td>27</td>\n",
              "      <td>465</td>\n",
              "      <td>693</td>\n",
              "      <td>1158</td>\n",
              "    </tr>\n",
              "  </tbody>\n",
              "</table>\n",
              "</div>"
            ],
            "text/plain": [
              "        signups            visitors             \n",
              "city     Austin Dallas All   Austin Dallas   All\n",
              "weekday                                         \n",
              "Mon           3      5   8      326    456   782\n",
              "Sun           7     12  19      139    237   376\n",
              "All          10     17  27      465    693  1158"
            ]
          },
          "metadata": {
            "tags": []
          },
          "execution_count": 153
        }
      ]
    }
  ]
}