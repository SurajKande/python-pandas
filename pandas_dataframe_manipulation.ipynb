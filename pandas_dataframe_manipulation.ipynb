{
  "nbformat": 4,
  "nbformat_minor": 0,
  "metadata": {
    "colab": {
      "name": "pandas_dataframe_manipulation.ipynb",
      "provenance": [],
      "collapsed_sections": [
        "ie0s0MusChTM",
        "CgxL5NhJCcZv",
        "EB9p5ljDCmzI",
        "eDTgM-GrRPB1",
        "XaQLKKzfSbf7",
        "-IzIotg5INAy",
        "nmzSbiKINvOt",
        "dF2HH6xU2TNx",
        "KLJ1l3Jggs28",
        "tgdRtBnfml54",
        "N0p5xzo5s-i-",
        "T_sWACT85noa",
        "PPcybulWUZFv"
      ],
      "authorship_tag": "ABX9TyN7NEXFEmo8xxAUFbxberSz",
      "include_colab_link": true
    },
    "kernelspec": {
      "name": "python3",
      "display_name": "Python 3"
    }
  },
  "cells": [
    {
      "cell_type": "markdown",
      "metadata": {
        "id": "view-in-github",
        "colab_type": "text"
      },
      "source": [
        "<a href=\"https://colab.research.google.com/github/SurajKande/python-pandas/blob/master/pandas_dataframe_manipulation.ipynb\" target=\"_parent\"><img src=\"https://colab.research.google.com/assets/colab-badge.svg\" alt=\"Open In Colab\"/></a>"
      ]
    },
    {
      "cell_type": "code",
      "metadata": {
        "id": "PpMB6VnW3Oh9",
        "colab_type": "code",
        "outputId": "087bb77c-7b3a-426f-b391-8e0043cbeb00",
        "colab": {
          "base_uri": "https://localhost:8080/",
          "height": 34
        }
      },
      "source": [
        "# to connect gdrive to colab for importing dataset\n",
        "from google.colab import drive\n",
        "drive.mount('/content/gdrive', force_remount = True)"
      ],
      "execution_count": 43,
      "outputs": [
        {
          "output_type": "stream",
          "text": [
            "Mounted at /content/gdrive\n"
          ],
          "name": "stdout"
        }
      ]
    },
    {
      "cell_type": "code",
      "metadata": {
        "id": "HNPFJt-A5IaT",
        "colab_type": "code",
        "colab": {}
      },
      "source": [
        "import pandas as pd\n",
        "import matplotlib.pyplot as plt\n",
        "import numpy as np"
      ],
      "execution_count": 0,
      "outputs": []
    },
    {
      "cell_type": "markdown",
      "metadata": {
        "id": "ie0s0MusChTM",
        "colab_type": "text"
      },
      "source": [
        "###Subsetting data frame"
      ]
    },
    {
      "cell_type": "code",
      "metadata": {
        "id": "h9pt0G6v40Nr",
        "colab_type": "code",
        "colab": {}
      },
      "source": [
        "election_data_frame = pd.read_csv('/content/gdrive/My Drive/datasets/pennsylvania2012_turnout.csv', header=0, index_col='county')"
      ],
      "execution_count": 0,
      "outputs": []
    },
    {
      "cell_type": "code",
      "metadata": {
        "id": "Q9avP0006FKy",
        "colab_type": "code",
        "outputId": "be662bff-efb4-4bd8-cade-cc4c7b927f01",
        "colab": {
          "base_uri": "https://localhost:8080/",
          "height": 225
        }
      },
      "source": [
        "election_data_frame.head()"
      ],
      "execution_count": 0,
      "outputs": [
        {
          "output_type": "execute_result",
          "data": {
            "text/html": [
              "<div>\n",
              "<style scoped>\n",
              "    .dataframe tbody tr th:only-of-type {\n",
              "        vertical-align: middle;\n",
              "    }\n",
              "\n",
              "    .dataframe tbody tr th {\n",
              "        vertical-align: top;\n",
              "    }\n",
              "\n",
              "    .dataframe thead th {\n",
              "        text-align: right;\n",
              "    }\n",
              "</style>\n",
              "<table border=\"1\" class=\"dataframe\">\n",
              "  <thead>\n",
              "    <tr style=\"text-align: right;\">\n",
              "      <th></th>\n",
              "      <th>state</th>\n",
              "      <th>total</th>\n",
              "      <th>Obama</th>\n",
              "      <th>Romney</th>\n",
              "      <th>winner</th>\n",
              "      <th>voters</th>\n",
              "      <th>turnout</th>\n",
              "      <th>margin</th>\n",
              "    </tr>\n",
              "    <tr>\n",
              "      <th>county</th>\n",
              "      <th></th>\n",
              "      <th></th>\n",
              "      <th></th>\n",
              "      <th></th>\n",
              "      <th></th>\n",
              "      <th></th>\n",
              "      <th></th>\n",
              "      <th></th>\n",
              "    </tr>\n",
              "  </thead>\n",
              "  <tbody>\n",
              "    <tr>\n",
              "      <th>Adams</th>\n",
              "      <td>PA</td>\n",
              "      <td>41973</td>\n",
              "      <td>35.482334</td>\n",
              "      <td>63.112001</td>\n",
              "      <td>Romney</td>\n",
              "      <td>61156</td>\n",
              "      <td>68.632677</td>\n",
              "      <td>27.629667</td>\n",
              "    </tr>\n",
              "    <tr>\n",
              "      <th>Allegheny</th>\n",
              "      <td>PA</td>\n",
              "      <td>614671</td>\n",
              "      <td>56.640219</td>\n",
              "      <td>42.185820</td>\n",
              "      <td>Obama</td>\n",
              "      <td>924351</td>\n",
              "      <td>66.497575</td>\n",
              "      <td>14.454399</td>\n",
              "    </tr>\n",
              "    <tr>\n",
              "      <th>Armstrong</th>\n",
              "      <td>PA</td>\n",
              "      <td>28322</td>\n",
              "      <td>30.696985</td>\n",
              "      <td>67.901278</td>\n",
              "      <td>Romney</td>\n",
              "      <td>42147</td>\n",
              "      <td>67.198140</td>\n",
              "      <td>37.204293</td>\n",
              "    </tr>\n",
              "    <tr>\n",
              "      <th>Beaver</th>\n",
              "      <td>PA</td>\n",
              "      <td>80015</td>\n",
              "      <td>46.032619</td>\n",
              "      <td>52.637630</td>\n",
              "      <td>Romney</td>\n",
              "      <td>115157</td>\n",
              "      <td>69.483401</td>\n",
              "      <td>6.605012</td>\n",
              "    </tr>\n",
              "    <tr>\n",
              "      <th>Bedford</th>\n",
              "      <td>PA</td>\n",
              "      <td>21444</td>\n",
              "      <td>22.057452</td>\n",
              "      <td>76.986570</td>\n",
              "      <td>Romney</td>\n",
              "      <td>32189</td>\n",
              "      <td>66.619031</td>\n",
              "      <td>54.929118</td>\n",
              "    </tr>\n",
              "  </tbody>\n",
              "</table>\n",
              "</div>"
            ],
            "text/plain": [
              "          state   total      Obama  ...  voters    turnout     margin\n",
              "county                              ...                              \n",
              "Adams        PA   41973  35.482334  ...   61156  68.632677  27.629667\n",
              "Allegheny    PA  614671  56.640219  ...  924351  66.497575  14.454399\n",
              "Armstrong    PA   28322  30.696985  ...   42147  67.198140  37.204293\n",
              "Beaver       PA   80015  46.032619  ...  115157  69.483401   6.605012\n",
              "Bedford      PA   21444  22.057452  ...   32189  66.619031  54.929118\n",
              "\n",
              "[5 rows x 8 columns]"
            ]
          },
          "metadata": {
            "tags": []
          },
          "execution_count": 49
        }
      ]
    },
    {
      "cell_type": "code",
      "metadata": {
        "id": "33R7q5SU6972",
        "colab_type": "code",
        "colab": {}
      },
      "source": [
        "#subsetting the dataframe\n",
        "election_result = election_data_frame[['winner', 'state', 'voters']]"
      ],
      "execution_count": 0,
      "outputs": []
    },
    {
      "cell_type": "code",
      "metadata": {
        "id": "mw0NWO4f8YeN",
        "colab_type": "code",
        "colab": {}
      },
      "source": [
        "p = election_data_frame.index"
      ],
      "execution_count": 0,
      "outputs": []
    },
    {
      "cell_type": "code",
      "metadata": {
        "id": "VlgaeV3f8rOk",
        "colab_type": "code",
        "outputId": "3a8071cf-43d5-4c0b-cb44-9fdcfdc5794e",
        "colab": {
          "base_uri": "https://localhost:8080/",
          "height": 235
        }
      },
      "source": [
        "print(p)"
      ],
      "execution_count": 0,
      "outputs": [
        {
          "output_type": "stream",
          "text": [
            "Index(['Adams', 'Allegheny', 'Armstrong', 'Beaver', 'Bedford', 'Berks',\n",
            "       'Blair', 'Bradford', 'Bucks', 'Butler', 'Cambria', 'Cameron', 'Carbon',\n",
            "       'Centre', 'Chester', 'Clarion', 'Clearfield', 'Clinton', 'Columbia',\n",
            "       'Crawford', 'Cumberland', 'Dauphin', 'Delaware', 'Elk', 'Erie',\n",
            "       'Fayette', 'Forest', 'Franklin', 'Fulton', 'Greene', 'Huntingdon',\n",
            "       'Indiana', 'Jefferson', 'Juniata', 'Lackawanna', 'Lancaster',\n",
            "       'Lawrence', 'Lebanon', 'Lehigh', 'Luzerne', 'Lycoming', 'McKean',\n",
            "       'Mercer', 'Mifflin', 'Monroe', 'Montgomery', 'Montour', 'Northampton',\n",
            "       'Northumberland', 'Perry', 'Philadelphia', 'Pike', 'Potter',\n",
            "       'Schuylkill', 'Snyder', 'Somerset', 'Sullivan', 'Susquehanna', 'Tioga',\n",
            "       'Union', 'Venango', 'Warren', 'Washington', 'Wayne', 'Westmoreland',\n",
            "       'Wyoming', 'York'],\n",
            "      dtype='object', name='county')\n"
          ],
          "name": "stdout"
        }
      ]
    },
    {
      "cell_type": "code",
      "metadata": {
        "id": "cYhKVdUP7Mu0",
        "colab_type": "code",
        "outputId": "e01bba9b-2122-41b4-ce0d-8e02cc9649b5",
        "colab": {
          "base_uri": "https://localhost:8080/",
          "height": 225
        }
      },
      "source": [
        "election_result.head()"
      ],
      "execution_count": 0,
      "outputs": [
        {
          "output_type": "execute_result",
          "data": {
            "text/html": [
              "<div>\n",
              "<style scoped>\n",
              "    .dataframe tbody tr th:only-of-type {\n",
              "        vertical-align: middle;\n",
              "    }\n",
              "\n",
              "    .dataframe tbody tr th {\n",
              "        vertical-align: top;\n",
              "    }\n",
              "\n",
              "    .dataframe thead th {\n",
              "        text-align: right;\n",
              "    }\n",
              "</style>\n",
              "<table border=\"1\" class=\"dataframe\">\n",
              "  <thead>\n",
              "    <tr style=\"text-align: right;\">\n",
              "      <th></th>\n",
              "      <th>winner</th>\n",
              "      <th>state</th>\n",
              "      <th>voters</th>\n",
              "    </tr>\n",
              "    <tr>\n",
              "      <th>county</th>\n",
              "      <th></th>\n",
              "      <th></th>\n",
              "      <th></th>\n",
              "    </tr>\n",
              "  </thead>\n",
              "  <tbody>\n",
              "    <tr>\n",
              "      <th>Adams</th>\n",
              "      <td>Romney</td>\n",
              "      <td>PA</td>\n",
              "      <td>61156</td>\n",
              "    </tr>\n",
              "    <tr>\n",
              "      <th>Allegheny</th>\n",
              "      <td>Obama</td>\n",
              "      <td>PA</td>\n",
              "      <td>924351</td>\n",
              "    </tr>\n",
              "    <tr>\n",
              "      <th>Armstrong</th>\n",
              "      <td>Romney</td>\n",
              "      <td>PA</td>\n",
              "      <td>42147</td>\n",
              "    </tr>\n",
              "    <tr>\n",
              "      <th>Beaver</th>\n",
              "      <td>Romney</td>\n",
              "      <td>PA</td>\n",
              "      <td>115157</td>\n",
              "    </tr>\n",
              "    <tr>\n",
              "      <th>Bedford</th>\n",
              "      <td>Romney</td>\n",
              "      <td>PA</td>\n",
              "      <td>32189</td>\n",
              "    </tr>\n",
              "  </tbody>\n",
              "</table>\n",
              "</div>"
            ],
            "text/plain": [
              "           winner state  voters\n",
              "county                         \n",
              "Adams      Romney    PA   61156\n",
              "Allegheny   Obama    PA  924351\n",
              "Armstrong  Romney    PA   42147\n",
              "Beaver     Romney    PA  115157\n",
              "Bedford    Romney    PA   32189"
            ]
          },
          "metadata": {
            "tags": []
          },
          "execution_count": 55
        }
      ]
    },
    {
      "cell_type": "code",
      "metadata": {
        "id": "qqFOQylv_Pro",
        "colab_type": "code",
        "outputId": "e97a67f4-62c6-45f4-b876-43df9ac81cc0",
        "colab": {
          "base_uri": "https://localhost:8080/",
          "height": 166
        }
      },
      "source": [
        "#subsetting the dataframe Alternative\n",
        "rows = ['Philadelphia', 'Centre', 'Fulton']\n",
        "col = ['winner', 'Obama', 'Romney']\n",
        "PCL_counties = election_data_frame.loc[rows,col]\n",
        "PCL_counties.head()"
      ],
      "execution_count": 0,
      "outputs": [
        {
          "output_type": "execute_result",
          "data": {
            "text/html": [
              "<div>\n",
              "<style scoped>\n",
              "    .dataframe tbody tr th:only-of-type {\n",
              "        vertical-align: middle;\n",
              "    }\n",
              "\n",
              "    .dataframe tbody tr th {\n",
              "        vertical-align: top;\n",
              "    }\n",
              "\n",
              "    .dataframe thead th {\n",
              "        text-align: right;\n",
              "    }\n",
              "</style>\n",
              "<table border=\"1\" class=\"dataframe\">\n",
              "  <thead>\n",
              "    <tr style=\"text-align: right;\">\n",
              "      <th></th>\n",
              "      <th>winner</th>\n",
              "      <th>Obama</th>\n",
              "      <th>Romney</th>\n",
              "    </tr>\n",
              "    <tr>\n",
              "      <th>county</th>\n",
              "      <th></th>\n",
              "      <th></th>\n",
              "      <th></th>\n",
              "    </tr>\n",
              "  </thead>\n",
              "  <tbody>\n",
              "    <tr>\n",
              "      <th>Philadelphia</th>\n",
              "      <td>Obama</td>\n",
              "      <td>85.224251</td>\n",
              "      <td>14.051451</td>\n",
              "    </tr>\n",
              "    <tr>\n",
              "      <th>Centre</th>\n",
              "      <td>Romney</td>\n",
              "      <td>48.948416</td>\n",
              "      <td>48.977486</td>\n",
              "    </tr>\n",
              "    <tr>\n",
              "      <th>Fulton</th>\n",
              "      <td>Romney</td>\n",
              "      <td>21.096291</td>\n",
              "      <td>77.748861</td>\n",
              "    </tr>\n",
              "  </tbody>\n",
              "</table>\n",
              "</div>"
            ],
            "text/plain": [
              "              winner      Obama     Romney\n",
              "county                                    \n",
              "Philadelphia   Obama  85.224251  14.051451\n",
              "Centre        Romney  48.948416  48.977486\n",
              "Fulton        Romney  21.096291  77.748861"
            ]
          },
          "metadata": {
            "tags": []
          },
          "execution_count": 56
        }
      ]
    },
    {
      "cell_type": "markdown",
      "metadata": {
        "id": "CgxL5NhJCcZv",
        "colab_type": "text"
      },
      "source": [
        "###Slicing rows and column of dataframe"
      ]
    },
    {
      "cell_type": "code",
      "metadata": {
        "id": "Lx79QQ_A8JF0",
        "colab_type": "code",
        "colab": {}
      },
      "source": [
        "# slicing rows using lables\n",
        "counties_p = election_data_frame.loc['Perry':'Potter']"
      ],
      "execution_count": 0,
      "outputs": []
    },
    {
      "cell_type": "code",
      "metadata": {
        "id": "FzOopZFV87ri",
        "colab_type": "code",
        "outputId": "8c41f5f4-90e4-47eb-9885-62a3392e2cac",
        "colab": {
          "base_uri": "https://localhost:8080/",
          "height": 151
        }
      },
      "source": [
        "print(counties_p)"
      ],
      "execution_count": 0,
      "outputs": [
        {
          "output_type": "stream",
          "text": [
            "             state   total      Obama  ...   voters    turnout     margin\n",
            "county                                 ...                               \n",
            "Perry           PA   18240  29.769737  ...    27245  66.948064  38.821272\n",
            "Philadelphia    PA  653598  85.224251  ...  1099197  59.461407  71.172800\n",
            "Pike            PA   23164  43.904334  ...    41840  55.363289  10.978242\n",
            "Potter          PA    7205  26.259542  ...    10913  66.022175  45.898681\n",
            "\n",
            "[4 rows x 8 columns]\n"
          ],
          "name": "stdout"
        }
      ]
    },
    {
      "cell_type": "code",
      "metadata": {
        "id": "y98OWgYA9APl",
        "colab_type": "code",
        "outputId": "22ba903e-1e43-43c1-c9e8-3ec83f928866",
        "colab": {
          "base_uri": "https://localhost:8080/",
          "height": 151
        }
      },
      "source": [
        "# slice rows in reverse order\n",
        "counties_p_rev = election_data_frame.loc['Potter':'Perry':-1]\n",
        "print(counties_p_rev)"
      ],
      "execution_count": 0,
      "outputs": [
        {
          "output_type": "stream",
          "text": [
            "             state   total      Obama  ...   voters    turnout     margin\n",
            "county                                 ...                               \n",
            "Potter          PA    7205  26.259542  ...    10913  66.022175  45.898681\n",
            "Pike            PA   23164  43.904334  ...    41840  55.363289  10.978242\n",
            "Philadelphia    PA  653598  85.224251  ...  1099197  59.461407  71.172800\n",
            "Perry           PA   18240  29.769737  ...    27245  66.948064  38.821272\n",
            "\n",
            "[4 rows x 8 columns]\n"
          ],
          "name": "stdout"
        }
      ]
    },
    {
      "cell_type": "code",
      "metadata": {
        "id": "FvvDKADn-WM6",
        "colab_type": "code",
        "outputId": "0f22526a-aa8f-4c99-c7c7-b8637c7f22f8",
        "colab": {
          "base_uri": "https://localhost:8080/",
          "height": 134
        }
      },
      "source": [
        "# slicing columns \n",
        "\n",
        "# Slice the columns from the starting column to 'Obama': left_columns\n",
        "left_columns = election_data_frame.loc[:,:'Obama']\n",
        "\n",
        "# Print the output of left_columns.head()\n",
        "print(left_columns.head())"
      ],
      "execution_count": 0,
      "outputs": [
        {
          "output_type": "stream",
          "text": [
            "          state   total      Obama\n",
            "county                            \n",
            "Adams        PA   41973  35.482334\n",
            "Allegheny    PA  614671  56.640219\n",
            "Armstrong    PA   28322  30.696985\n",
            "Beaver       PA   80015  46.032619\n",
            "Bedford      PA   21444  22.057452\n"
          ],
          "name": "stdout"
        }
      ]
    },
    {
      "cell_type": "code",
      "metadata": {
        "id": "R3xPu0CO-k3v",
        "colab_type": "code",
        "outputId": "ca3ec462-7682-443c-ea40-fa6d27dea8c1",
        "colab": {
          "base_uri": "https://localhost:8080/",
          "height": 134
        }
      },
      "source": [
        "# Slice the columns from 'Obama' to 'winner': middle_columns\n",
        "middle_columns = election_data_frame.loc[:,'Obama' : 'winner']\n",
        "\n",
        "# Print the output of middle_columns.head()\n",
        "print(middle_columns.head())"
      ],
      "execution_count": 0,
      "outputs": [
        {
          "output_type": "stream",
          "text": [
            "               Obama     Romney  winner\n",
            "county                                 \n",
            "Adams      35.482334  63.112001  Romney\n",
            "Allegheny  56.640219  42.185820   Obama\n",
            "Armstrong  30.696985  67.901278  Romney\n",
            "Beaver     46.032619  52.637630  Romney\n",
            "Bedford    22.057452  76.986570  Romney\n"
          ],
          "name": "stdout"
        }
      ]
    },
    {
      "cell_type": "code",
      "metadata": {
        "id": "tvqk2rpt-mJX",
        "colab_type": "code",
        "outputId": "94ef4270-231c-4c14-9548-f2455018c817",
        "colab": {
          "base_uri": "https://localhost:8080/",
          "height": 134
        }
      },
      "source": [
        "# Slice the columns from 'Romney' to the end: 'right_columns'\n",
        "right_columns = election_data_frame.loc[:,'Romney':]\n",
        "\n",
        "# Print the output of right_columns.head()\n",
        "print(right_columns.head())"
      ],
      "execution_count": 0,
      "outputs": [
        {
          "output_type": "stream",
          "text": [
            "              Romney  winner  voters    turnout     margin\n",
            "county                                                    \n",
            "Adams      63.112001  Romney   61156  68.632677  27.629667\n",
            "Allegheny  42.185820   Obama  924351  66.497575  14.454399\n",
            "Armstrong  67.901278  Romney   42147  67.198140  37.204293\n",
            "Beaver     52.637630  Romney  115157  69.483401   6.605012\n",
            "Bedford    76.986570  Romney   32189  66.619031  54.929118\n"
          ],
          "name": "stdout"
        }
      ]
    },
    {
      "cell_type": "markdown",
      "metadata": {
        "id": "EB9p5ljDCmzI",
        "colab_type": "text"
      },
      "source": [
        "###filtering "
      ]
    },
    {
      "cell_type": "code",
      "metadata": {
        "id": "M7kk2VojCoed",
        "colab_type": "code",
        "outputId": "bbb12b55-9ee4-4e17-e44e-5606726e2a82",
        "colab": {
          "base_uri": "https://localhost:8080/",
          "height": 225
        }
      },
      "source": [
        "highturn_out = election_data_frame['turnout'] > 70\n",
        "highturn_out_data_frame = election_data_frame[highturn_out]\n",
        "highturn_out_data_frame.head()"
      ],
      "execution_count": 0,
      "outputs": [
        {
          "output_type": "execute_result",
          "data": {
            "text/html": [
              "<div>\n",
              "<style scoped>\n",
              "    .dataframe tbody tr th:only-of-type {\n",
              "        vertical-align: middle;\n",
              "    }\n",
              "\n",
              "    .dataframe tbody tr th {\n",
              "        vertical-align: top;\n",
              "    }\n",
              "\n",
              "    .dataframe thead th {\n",
              "        text-align: right;\n",
              "    }\n",
              "</style>\n",
              "<table border=\"1\" class=\"dataframe\">\n",
              "  <thead>\n",
              "    <tr style=\"text-align: right;\">\n",
              "      <th></th>\n",
              "      <th>state</th>\n",
              "      <th>total</th>\n",
              "      <th>Obama</th>\n",
              "      <th>Romney</th>\n",
              "      <th>winner</th>\n",
              "      <th>voters</th>\n",
              "      <th>turnout</th>\n",
              "      <th>margin</th>\n",
              "    </tr>\n",
              "    <tr>\n",
              "      <th>county</th>\n",
              "      <th></th>\n",
              "      <th></th>\n",
              "      <th></th>\n",
              "      <th></th>\n",
              "      <th></th>\n",
              "      <th></th>\n",
              "      <th></th>\n",
              "      <th></th>\n",
              "    </tr>\n",
              "  </thead>\n",
              "  <tbody>\n",
              "    <tr>\n",
              "      <th>Bucks</th>\n",
              "      <td>PA</td>\n",
              "      <td>319407</td>\n",
              "      <td>49.966970</td>\n",
              "      <td>48.801686</td>\n",
              "      <td>Obama</td>\n",
              "      <td>435606</td>\n",
              "      <td>73.324748</td>\n",
              "      <td>1.165284</td>\n",
              "    </tr>\n",
              "    <tr>\n",
              "      <th>Butler</th>\n",
              "      <td>PA</td>\n",
              "      <td>88924</td>\n",
              "      <td>31.920516</td>\n",
              "      <td>66.816607</td>\n",
              "      <td>Romney</td>\n",
              "      <td>122762</td>\n",
              "      <td>72.436096</td>\n",
              "      <td>34.896091</td>\n",
              "    </tr>\n",
              "    <tr>\n",
              "      <th>Chester</th>\n",
              "      <td>PA</td>\n",
              "      <td>248295</td>\n",
              "      <td>49.228539</td>\n",
              "      <td>49.650617</td>\n",
              "      <td>Romney</td>\n",
              "      <td>337822</td>\n",
              "      <td>73.498766</td>\n",
              "      <td>0.422079</td>\n",
              "    </tr>\n",
              "    <tr>\n",
              "      <th>Forest</th>\n",
              "      <td>PA</td>\n",
              "      <td>2308</td>\n",
              "      <td>38.734835</td>\n",
              "      <td>59.835355</td>\n",
              "      <td>Romney</td>\n",
              "      <td>3232</td>\n",
              "      <td>71.410891</td>\n",
              "      <td>21.100520</td>\n",
              "    </tr>\n",
              "    <tr>\n",
              "      <th>Franklin</th>\n",
              "      <td>PA</td>\n",
              "      <td>62802</td>\n",
              "      <td>30.110506</td>\n",
              "      <td>68.583803</td>\n",
              "      <td>Romney</td>\n",
              "      <td>87406</td>\n",
              "      <td>71.850903</td>\n",
              "      <td>38.473297</td>\n",
              "    </tr>\n",
              "  </tbody>\n",
              "</table>\n",
              "</div>"
            ],
            "text/plain": [
              "         state   total      Obama  ...  voters    turnout     margin\n",
              "county                             ...                              \n",
              "Bucks       PA  319407  49.966970  ...  435606  73.324748   1.165284\n",
              "Butler      PA   88924  31.920516  ...  122762  72.436096  34.896091\n",
              "Chester     PA  248295  49.228539  ...  337822  73.498766   0.422079\n",
              "Forest      PA    2308  38.734835  ...    3232  71.410891  21.100520\n",
              "Franklin    PA   62802  30.110506  ...   87406  71.850903  38.473297\n",
              "\n",
              "[5 rows x 8 columns]"
            ]
          },
          "metadata": {
            "tags": []
          },
          "execution_count": 63
        }
      ]
    },
    {
      "cell_type": "code",
      "metadata": {
        "id": "g3HMECc7I9mL",
        "colab_type": "code",
        "outputId": "692d1d81-2a00-49a6-ea9a-f7dcb2d35e3c",
        "colab": {
          "base_uri": "https://localhost:8080/",
          "height": 252
        }
      },
      "source": [
        "#\n",
        "too_close = election_data_frame['margin'] < 1\n",
        "\n",
        "# Assign np.nan to the 'winner' column where the results were too close to call\n",
        "election_data_frame.loc[too_close, 'winner'] = np.nan\n",
        "\n",
        "# Print the output of election.info()\n",
        "print(election_data_frame.info())            # we can observer 3 of the entries have cahnged to NaN for 'winner' column\n"
      ],
      "execution_count": 0,
      "outputs": [
        {
          "output_type": "stream",
          "text": [
            "<class 'pandas.core.frame.DataFrame'>\n",
            "Index: 67 entries, Adams to York\n",
            "Data columns (total 8 columns):\n",
            "state      67 non-null object\n",
            "total      67 non-null int64\n",
            "Obama      67 non-null float64\n",
            "Romney     67 non-null float64\n",
            "winner     64 non-null object\n",
            "voters     67 non-null int64\n",
            "turnout    67 non-null float64\n",
            "margin     67 non-null float64\n",
            "dtypes: float64(4), int64(2), object(2)\n",
            "memory usage: 7.2+ KB\n",
            "None\n"
          ],
          "name": "stdout"
        }
      ]
    },
    {
      "cell_type": "markdown",
      "metadata": {
        "id": "eDTgM-GrRPB1",
        "colab_type": "text"
      },
      "source": [
        "### using .map() "
      ]
    },
    {
      "cell_type": "code",
      "metadata": {
        "id": "zvnUbjNbJji0",
        "colab_type": "code",
        "colab": {}
      },
      "source": [
        "red_blue = {'Obama':'red','Romney':'blue'}\n",
        "election_data_frame['result_color'] = election_data_frame['winner'].map(red_blue)"
      ],
      "execution_count": 0,
      "outputs": []
    },
    {
      "cell_type": "code",
      "metadata": {
        "id": "8y0cGfbzRsXD",
        "colab_type": "code",
        "outputId": "7f99071d-a086-4dc7-e723-d864a83c638d",
        "colab": {
          "base_uri": "https://localhost:8080/",
          "height": 225
        }
      },
      "source": [
        "election_data_frame.head()"
      ],
      "execution_count": 0,
      "outputs": [
        {
          "output_type": "execute_result",
          "data": {
            "text/html": [
              "<div>\n",
              "<style scoped>\n",
              "    .dataframe tbody tr th:only-of-type {\n",
              "        vertical-align: middle;\n",
              "    }\n",
              "\n",
              "    .dataframe tbody tr th {\n",
              "        vertical-align: top;\n",
              "    }\n",
              "\n",
              "    .dataframe thead th {\n",
              "        text-align: right;\n",
              "    }\n",
              "</style>\n",
              "<table border=\"1\" class=\"dataframe\">\n",
              "  <thead>\n",
              "    <tr style=\"text-align: right;\">\n",
              "      <th></th>\n",
              "      <th>state</th>\n",
              "      <th>total</th>\n",
              "      <th>Obama</th>\n",
              "      <th>Romney</th>\n",
              "      <th>winner</th>\n",
              "      <th>voters</th>\n",
              "      <th>turnout</th>\n",
              "      <th>margin</th>\n",
              "      <th>result_color</th>\n",
              "    </tr>\n",
              "    <tr>\n",
              "      <th>county</th>\n",
              "      <th></th>\n",
              "      <th></th>\n",
              "      <th></th>\n",
              "      <th></th>\n",
              "      <th></th>\n",
              "      <th></th>\n",
              "      <th></th>\n",
              "      <th></th>\n",
              "      <th></th>\n",
              "    </tr>\n",
              "  </thead>\n",
              "  <tbody>\n",
              "    <tr>\n",
              "      <th>Adams</th>\n",
              "      <td>PA</td>\n",
              "      <td>41973</td>\n",
              "      <td>35.482334</td>\n",
              "      <td>63.112001</td>\n",
              "      <td>Romney</td>\n",
              "      <td>61156</td>\n",
              "      <td>68.632677</td>\n",
              "      <td>27.629667</td>\n",
              "      <td>blue</td>\n",
              "    </tr>\n",
              "    <tr>\n",
              "      <th>Allegheny</th>\n",
              "      <td>PA</td>\n",
              "      <td>614671</td>\n",
              "      <td>56.640219</td>\n",
              "      <td>42.185820</td>\n",
              "      <td>Obama</td>\n",
              "      <td>924351</td>\n",
              "      <td>66.497575</td>\n",
              "      <td>14.454399</td>\n",
              "      <td>red</td>\n",
              "    </tr>\n",
              "    <tr>\n",
              "      <th>Armstrong</th>\n",
              "      <td>PA</td>\n",
              "      <td>28322</td>\n",
              "      <td>30.696985</td>\n",
              "      <td>67.901278</td>\n",
              "      <td>Romney</td>\n",
              "      <td>42147</td>\n",
              "      <td>67.198140</td>\n",
              "      <td>37.204293</td>\n",
              "      <td>blue</td>\n",
              "    </tr>\n",
              "    <tr>\n",
              "      <th>Beaver</th>\n",
              "      <td>PA</td>\n",
              "      <td>80015</td>\n",
              "      <td>46.032619</td>\n",
              "      <td>52.637630</td>\n",
              "      <td>Romney</td>\n",
              "      <td>115157</td>\n",
              "      <td>69.483401</td>\n",
              "      <td>6.605012</td>\n",
              "      <td>blue</td>\n",
              "    </tr>\n",
              "    <tr>\n",
              "      <th>Bedford</th>\n",
              "      <td>PA</td>\n",
              "      <td>21444</td>\n",
              "      <td>22.057452</td>\n",
              "      <td>76.986570</td>\n",
              "      <td>Romney</td>\n",
              "      <td>32189</td>\n",
              "      <td>66.619031</td>\n",
              "      <td>54.929118</td>\n",
              "      <td>blue</td>\n",
              "    </tr>\n",
              "  </tbody>\n",
              "</table>\n",
              "</div>"
            ],
            "text/plain": [
              "          state   total      Obama  ...    turnout     margin  result_color\n",
              "county                              ...                                    \n",
              "Adams        PA   41973  35.482334  ...  68.632677  27.629667          blue\n",
              "Allegheny    PA  614671  56.640219  ...  66.497575  14.454399           red\n",
              "Armstrong    PA   28322  30.696985  ...  67.198140  37.204293          blue\n",
              "Beaver       PA   80015  46.032619  ...  69.483401   6.605012          blue\n",
              "Bedford      PA   21444  22.057452  ...  66.619031  54.929118          blue\n",
              "\n",
              "[5 rows x 9 columns]"
            ]
          },
          "metadata": {
            "tags": []
          },
          "execution_count": 66
        }
      ]
    },
    {
      "cell_type": "markdown",
      "metadata": {
        "id": "XaQLKKzfSbf7",
        "colab_type": "text"
      },
      "source": [
        "### Using vectorized functions:\n",
        "using vectorized functions, we can loop over the data at the same speed as compiled code (C, Fortran, etc.)! NumPy, SciPy and pandas come with a variety of vectorized functions called Universal Functions "
      ]
    },
    {
      "cell_type": "markdown",
      "metadata": {
        "id": "7Gjy_iDeTIOd",
        "colab_type": "text"
      },
      "source": [
        "zscore : z-score is the number of standard deviations by which an observation is above the mean - so if it is negative, it means the observation is below the mean."
      ]
    },
    {
      "cell_type": "code",
      "metadata": {
        "id": "egouHPMDSdi6",
        "colab_type": "code",
        "outputId": "4dddb03b-30f3-49ba-93cc-d4167dc79588",
        "colab": {
          "base_uri": "https://localhost:8080/",
          "height": 185
        }
      },
      "source": [
        "# Import zscore from scipy.stats\n",
        "from scipy.stats import zscore\n",
        "\n",
        "# Call zscore with election['turnout'] as input: turnout_zscore\n",
        "turnout_zscore = zscore(election_data_frame['turnout'])\n",
        "\n",
        "# Print the type of turnout_zscore\n",
        "print(type(turnout_zscore))\n",
        "\n",
        "# Assign turnout_zscore to a new column: election['turnout_zscore']\n",
        "election_data_frame['turnout_zscore'] = turnout_zscore\n",
        "\n",
        "# Print the output of election.head()\n",
        "print(election_data_frame.head())"
      ],
      "execution_count": 0,
      "outputs": [
        {
          "output_type": "stream",
          "text": [
            "<class 'numpy.ndarray'>\n",
            "          state   total      Obama  ...     margin result_color  turnout_zscore\n",
            "county                              ...                                        \n",
            "Adams        PA   41973  35.482334  ...  27.629667         blue        0.853734\n",
            "Allegheny    PA  614671  56.640219  ...  14.454399          red        0.439846\n",
            "Armstrong    PA   28322  30.696985  ...  37.204293         blue        0.575650\n",
            "Beaver       PA   80015  46.032619  ...   6.605012         blue        1.018647\n",
            "Bedford      PA   21444  22.057452  ...  54.929118         blue        0.463391\n",
            "\n",
            "[5 rows x 10 columns]\n"
          ],
          "name": "stdout"
        }
      ]
    },
    {
      "cell_type": "markdown",
      "metadata": {
        "id": "gSufwY_3IDSQ",
        "colab_type": "text"
      },
      "source": [
        ""
      ]
    },
    {
      "cell_type": "markdown",
      "metadata": {
        "id": "-IzIotg5INAy",
        "colab_type": "text"
      },
      "source": [
        "### Indexing"
      ]
    },
    {
      "cell_type": "code",
      "metadata": {
        "id": "gLJ9A96lIOu4",
        "colab_type": "code",
        "colab": {}
      },
      "source": [
        "# using new data set \n",
        "sales_data_frame = pd.read_csv('/content/gdrive/My Drive/datasets/sales/sales.csv', index_col='month')"
      ],
      "execution_count": 0,
      "outputs": []
    },
    {
      "cell_type": "code",
      "metadata": {
        "id": "1pDi2ndmAmP4",
        "colab_type": "code",
        "outputId": "68452716-5315-4070-81fd-cefa57b12839",
        "colab": {
          "base_uri": "https://localhost:8080/",
          "height": 225
        }
      },
      "source": [
        "sales_data_frame.head()"
      ],
      "execution_count": 0,
      "outputs": [
        {
          "output_type": "execute_result",
          "data": {
            "text/html": [
              "<div>\n",
              "<style scoped>\n",
              "    .dataframe tbody tr th:only-of-type {\n",
              "        vertical-align: middle;\n",
              "    }\n",
              "\n",
              "    .dataframe tbody tr th {\n",
              "        vertical-align: top;\n",
              "    }\n",
              "\n",
              "    .dataframe thead th {\n",
              "        text-align: right;\n",
              "    }\n",
              "</style>\n",
              "<table border=\"1\" class=\"dataframe\">\n",
              "  <thead>\n",
              "    <tr style=\"text-align: right;\">\n",
              "      <th></th>\n",
              "      <th>eggs</th>\n",
              "      <th>salt</th>\n",
              "      <th>spam</th>\n",
              "    </tr>\n",
              "    <tr>\n",
              "      <th>month</th>\n",
              "      <th></th>\n",
              "      <th></th>\n",
              "      <th></th>\n",
              "    </tr>\n",
              "  </thead>\n",
              "  <tbody>\n",
              "    <tr>\n",
              "      <th>Jan</th>\n",
              "      <td>47</td>\n",
              "      <td>12.0</td>\n",
              "      <td>17</td>\n",
              "    </tr>\n",
              "    <tr>\n",
              "      <th>Feb</th>\n",
              "      <td>110</td>\n",
              "      <td>50.0</td>\n",
              "      <td>31</td>\n",
              "    </tr>\n",
              "    <tr>\n",
              "      <th>Mar</th>\n",
              "      <td>221</td>\n",
              "      <td>89.0</td>\n",
              "      <td>72</td>\n",
              "    </tr>\n",
              "    <tr>\n",
              "      <th>Apr</th>\n",
              "      <td>77</td>\n",
              "      <td>87.0</td>\n",
              "      <td>20</td>\n",
              "    </tr>\n",
              "    <tr>\n",
              "      <th>May</th>\n",
              "      <td>132</td>\n",
              "      <td>NaN</td>\n",
              "      <td>52</td>\n",
              "    </tr>\n",
              "  </tbody>\n",
              "</table>\n",
              "</div>"
            ],
            "text/plain": [
              "       eggs  salt  spam\n",
              "month                  \n",
              "Jan      47  12.0    17\n",
              "Feb     110  50.0    31\n",
              "Mar     221  89.0    72\n",
              "Apr      77  87.0    20\n",
              "May     132   NaN    52"
            ]
          },
          "metadata": {
            "tags": []
          },
          "execution_count": 69
        }
      ]
    },
    {
      "cell_type": "code",
      "metadata": {
        "id": "twMJJ-GsBHwY",
        "colab_type": "code",
        "outputId": "d1929088-abb9-44f2-da9f-19482546e90e",
        "colab": {
          "base_uri": "https://localhost:8080/",
          "height": 195
        }
      },
      "source": [
        "# changing index from lower to upper \n",
        "upper_index = [indx.upper() for indx in sales_data_frame.index]\n",
        "\n",
        "# Assign new_idx to sales.index\n",
        "sales_data_frame.index = upper_index\n",
        "\n",
        "# Print the sales DataFrame\n",
        "sales_data_frame.head()"
      ],
      "execution_count": 0,
      "outputs": [
        {
          "output_type": "execute_result",
          "data": {
            "text/html": [
              "<div>\n",
              "<style scoped>\n",
              "    .dataframe tbody tr th:only-of-type {\n",
              "        vertical-align: middle;\n",
              "    }\n",
              "\n",
              "    .dataframe tbody tr th {\n",
              "        vertical-align: top;\n",
              "    }\n",
              "\n",
              "    .dataframe thead th {\n",
              "        text-align: right;\n",
              "    }\n",
              "</style>\n",
              "<table border=\"1\" class=\"dataframe\">\n",
              "  <thead>\n",
              "    <tr style=\"text-align: right;\">\n",
              "      <th></th>\n",
              "      <th>eggs</th>\n",
              "      <th>salt</th>\n",
              "      <th>spam</th>\n",
              "    </tr>\n",
              "  </thead>\n",
              "  <tbody>\n",
              "    <tr>\n",
              "      <th>JAN</th>\n",
              "      <td>47</td>\n",
              "      <td>12.0</td>\n",
              "      <td>17</td>\n",
              "    </tr>\n",
              "    <tr>\n",
              "      <th>FEB</th>\n",
              "      <td>110</td>\n",
              "      <td>50.0</td>\n",
              "      <td>31</td>\n",
              "    </tr>\n",
              "    <tr>\n",
              "      <th>MAR</th>\n",
              "      <td>221</td>\n",
              "      <td>89.0</td>\n",
              "      <td>72</td>\n",
              "    </tr>\n",
              "    <tr>\n",
              "      <th>APR</th>\n",
              "      <td>77</td>\n",
              "      <td>87.0</td>\n",
              "      <td>20</td>\n",
              "    </tr>\n",
              "    <tr>\n",
              "      <th>MAY</th>\n",
              "      <td>132</td>\n",
              "      <td>NaN</td>\n",
              "      <td>52</td>\n",
              "    </tr>\n",
              "  </tbody>\n",
              "</table>\n",
              "</div>"
            ],
            "text/plain": [
              "     eggs  salt  spam\n",
              "JAN    47  12.0    17\n",
              "FEB   110  50.0    31\n",
              "MAR   221  89.0    72\n",
              "APR    77  87.0    20\n",
              "MAY   132   NaN    52"
            ]
          },
          "metadata": {
            "tags": []
          },
          "execution_count": 81
        }
      ]
    },
    {
      "cell_type": "code",
      "metadata": {
        "id": "vAtbrLqYBSJv",
        "colab_type": "code",
        "outputId": "02de2e4c-a247-4bb7-818c-5f4fcf555266",
        "colab": {
          "base_uri": "https://localhost:8080/",
          "height": 225
        }
      },
      "source": [
        "# Assign name to the indexs \n",
        "sales_data_frame.index.name = 'MONTHS'\n",
        "\n",
        "# Print the sales DataFrame\n",
        "sales_data_frame.head()"
      ],
      "execution_count": 0,
      "outputs": [
        {
          "output_type": "execute_result",
          "data": {
            "text/html": [
              "<div>\n",
              "<style scoped>\n",
              "    .dataframe tbody tr th:only-of-type {\n",
              "        vertical-align: middle;\n",
              "    }\n",
              "\n",
              "    .dataframe tbody tr th {\n",
              "        vertical-align: top;\n",
              "    }\n",
              "\n",
              "    .dataframe thead th {\n",
              "        text-align: right;\n",
              "    }\n",
              "</style>\n",
              "<table border=\"1\" class=\"dataframe\">\n",
              "  <thead>\n",
              "    <tr style=\"text-align: right;\">\n",
              "      <th></th>\n",
              "      <th>eggs</th>\n",
              "      <th>salt</th>\n",
              "      <th>spam</th>\n",
              "    </tr>\n",
              "    <tr>\n",
              "      <th>MONTHS</th>\n",
              "      <th></th>\n",
              "      <th></th>\n",
              "      <th></th>\n",
              "    </tr>\n",
              "  </thead>\n",
              "  <tbody>\n",
              "    <tr>\n",
              "      <th>JAN</th>\n",
              "      <td>47</td>\n",
              "      <td>12.0</td>\n",
              "      <td>17</td>\n",
              "    </tr>\n",
              "    <tr>\n",
              "      <th>FEB</th>\n",
              "      <td>110</td>\n",
              "      <td>50.0</td>\n",
              "      <td>31</td>\n",
              "    </tr>\n",
              "    <tr>\n",
              "      <th>MAR</th>\n",
              "      <td>221</td>\n",
              "      <td>89.0</td>\n",
              "      <td>72</td>\n",
              "    </tr>\n",
              "    <tr>\n",
              "      <th>APR</th>\n",
              "      <td>77</td>\n",
              "      <td>87.0</td>\n",
              "      <td>20</td>\n",
              "    </tr>\n",
              "    <tr>\n",
              "      <th>MAY</th>\n",
              "      <td>132</td>\n",
              "      <td>NaN</td>\n",
              "      <td>52</td>\n",
              "    </tr>\n",
              "  </tbody>\n",
              "</table>\n",
              "</div>"
            ],
            "text/plain": [
              "        eggs  salt  spam\n",
              "MONTHS                  \n",
              "JAN       47  12.0    17\n",
              "FEB      110  50.0    31\n",
              "MAR      221  89.0    72\n",
              "APR       77  87.0    20\n",
              "MAY      132   NaN    52"
            ]
          },
          "metadata": {
            "tags": []
          },
          "execution_count": 82
        }
      ]
    },
    {
      "cell_type": "code",
      "metadata": {
        "id": "kAq0ht7fCFzi",
        "colab_type": "code",
        "outputId": "15aaae74-d4a4-4d00-a3d4-68953f494020",
        "colab": {
          "base_uri": "https://localhost:8080/",
          "height": 225
        }
      },
      "source": [
        "# give name to column names \n",
        "sales_data_frame.columns.name = 'PRODUCTS'\n",
        "\n",
        "# Print the sales dataframe again\n",
        "sales_data_frame.head()"
      ],
      "execution_count": 0,
      "outputs": [
        {
          "output_type": "execute_result",
          "data": {
            "text/html": [
              "<div>\n",
              "<style scoped>\n",
              "    .dataframe tbody tr th:only-of-type {\n",
              "        vertical-align: middle;\n",
              "    }\n",
              "\n",
              "    .dataframe tbody tr th {\n",
              "        vertical-align: top;\n",
              "    }\n",
              "\n",
              "    .dataframe thead th {\n",
              "        text-align: right;\n",
              "    }\n",
              "</style>\n",
              "<table border=\"1\" class=\"dataframe\">\n",
              "  <thead>\n",
              "    <tr style=\"text-align: right;\">\n",
              "      <th>PRODUCTS</th>\n",
              "      <th>eggs</th>\n",
              "      <th>salt</th>\n",
              "      <th>spam</th>\n",
              "    </tr>\n",
              "    <tr>\n",
              "      <th>MONTHS</th>\n",
              "      <th></th>\n",
              "      <th></th>\n",
              "      <th></th>\n",
              "    </tr>\n",
              "  </thead>\n",
              "  <tbody>\n",
              "    <tr>\n",
              "      <th>JAN</th>\n",
              "      <td>47</td>\n",
              "      <td>12.0</td>\n",
              "      <td>17</td>\n",
              "    </tr>\n",
              "    <tr>\n",
              "      <th>FEB</th>\n",
              "      <td>110</td>\n",
              "      <td>50.0</td>\n",
              "      <td>31</td>\n",
              "    </tr>\n",
              "    <tr>\n",
              "      <th>MAR</th>\n",
              "      <td>221</td>\n",
              "      <td>89.0</td>\n",
              "      <td>72</td>\n",
              "    </tr>\n",
              "    <tr>\n",
              "      <th>APR</th>\n",
              "      <td>77</td>\n",
              "      <td>87.0</td>\n",
              "      <td>20</td>\n",
              "    </tr>\n",
              "    <tr>\n",
              "      <th>MAY</th>\n",
              "      <td>132</td>\n",
              "      <td>NaN</td>\n",
              "      <td>52</td>\n",
              "    </tr>\n",
              "  </tbody>\n",
              "</table>\n",
              "</div>"
            ],
            "text/plain": [
              "PRODUCTS  eggs  salt  spam\n",
              "MONTHS                    \n",
              "JAN         47  12.0    17\n",
              "FEB        110  50.0    31\n",
              "MAR        221  89.0    72\n",
              "APR         77  87.0    20\n",
              "MAY        132   NaN    52"
            ]
          },
          "metadata": {
            "tags": []
          },
          "execution_count": 83
        }
      ]
    },
    {
      "cell_type": "markdown",
      "metadata": {
        "id": "nmzSbiKINvOt",
        "colab_type": "text"
      },
      "source": [
        "###multi level hirarchical index\n",
        "as the name says it is used to have more than one index to collect data more accurately\n",
        "\n",
        "*   input is the list of columns to use as index\n",
        "```\n",
        "SYNTAX:  dataframe.set_index([list of cols])\n",
        "```"
      ]
    },
    {
      "cell_type": "code",
      "metadata": {
        "id": "uBNpx-RiN9-p",
        "colab_type": "code",
        "colab": {}
      },
      "source": [
        "df = sales_data_frame"
      ],
      "execution_count": 0,
      "outputs": []
    },
    {
      "cell_type": "code",
      "metadata": {
        "id": "ElhxKdNWRLH9",
        "colab_type": "code",
        "colab": {}
      },
      "source": [
        "df.columns.name=None               #removing the columns index name for clarity "
      ],
      "execution_count": 0,
      "outputs": []
    },
    {
      "cell_type": "code",
      "metadata": {
        "id": "zQ4Mi8C6gJiH",
        "colab_type": "code",
        "outputId": "bceeba37-862c-46ce-a8d1-b8845f63eae9",
        "colab": {
          "base_uri": "https://localhost:8080/",
          "height": 254
        }
      },
      "source": [
        "df"
      ],
      "execution_count": 0,
      "outputs": [
        {
          "output_type": "execute_result",
          "data": {
            "text/html": [
              "<div>\n",
              "<style scoped>\n",
              "    .dataframe tbody tr th:only-of-type {\n",
              "        vertical-align: middle;\n",
              "    }\n",
              "\n",
              "    .dataframe tbody tr th {\n",
              "        vertical-align: top;\n",
              "    }\n",
              "\n",
              "    .dataframe thead th {\n",
              "        text-align: right;\n",
              "    }\n",
              "</style>\n",
              "<table border=\"1\" class=\"dataframe\">\n",
              "  <thead>\n",
              "    <tr style=\"text-align: right;\">\n",
              "      <th></th>\n",
              "      <th>eggs</th>\n",
              "      <th>salt</th>\n",
              "      <th>spam</th>\n",
              "    </tr>\n",
              "    <tr>\n",
              "      <th>MONTHS</th>\n",
              "      <th></th>\n",
              "      <th></th>\n",
              "      <th></th>\n",
              "    </tr>\n",
              "  </thead>\n",
              "  <tbody>\n",
              "    <tr>\n",
              "      <th>JAN</th>\n",
              "      <td>47</td>\n",
              "      <td>12.0</td>\n",
              "      <td>17</td>\n",
              "    </tr>\n",
              "    <tr>\n",
              "      <th>FEB</th>\n",
              "      <td>110</td>\n",
              "      <td>50.0</td>\n",
              "      <td>31</td>\n",
              "    </tr>\n",
              "    <tr>\n",
              "      <th>MAR</th>\n",
              "      <td>221</td>\n",
              "      <td>89.0</td>\n",
              "      <td>72</td>\n",
              "    </tr>\n",
              "    <tr>\n",
              "      <th>APR</th>\n",
              "      <td>77</td>\n",
              "      <td>87.0</td>\n",
              "      <td>20</td>\n",
              "    </tr>\n",
              "    <tr>\n",
              "      <th>MAY</th>\n",
              "      <td>132</td>\n",
              "      <td>NaN</td>\n",
              "      <td>52</td>\n",
              "    </tr>\n",
              "    <tr>\n",
              "      <th>JUN</th>\n",
              "      <td>205</td>\n",
              "      <td>60.0</td>\n",
              "      <td>55</td>\n",
              "    </tr>\n",
              "  </tbody>\n",
              "</table>\n",
              "</div>"
            ],
            "text/plain": [
              "        eggs  salt  spam\n",
              "MONTHS                  \n",
              "JAN       47  12.0    17\n",
              "FEB      110  50.0    31\n",
              "MAR      221  89.0    72\n",
              "APR       77  87.0    20\n",
              "MAY      132   NaN    52\n",
              "JUN      205  60.0    55"
            ]
          },
          "metadata": {
            "tags": []
          },
          "execution_count": 87
        }
      ]
    },
    {
      "cell_type": "code",
      "metadata": {
        "id": "SlRbeP5eOVCj",
        "colab_type": "code",
        "colab": {}
      },
      "source": [
        "df.reset_index(inplace=True)"
      ],
      "execution_count": 0,
      "outputs": []
    },
    {
      "cell_type": "code",
      "metadata": {
        "id": "bt8th_-QgVHa",
        "colab_type": "code",
        "outputId": "fa07cd16-c368-4b85-a43a-b8d05f338db9",
        "colab": {
          "base_uri": "https://localhost:8080/",
          "height": 225
        }
      },
      "source": [
        "df"
      ],
      "execution_count": 0,
      "outputs": [
        {
          "output_type": "execute_result",
          "data": {
            "text/html": [
              "<div>\n",
              "<style scoped>\n",
              "    .dataframe tbody tr th:only-of-type {\n",
              "        vertical-align: middle;\n",
              "    }\n",
              "\n",
              "    .dataframe tbody tr th {\n",
              "        vertical-align: top;\n",
              "    }\n",
              "\n",
              "    .dataframe thead th {\n",
              "        text-align: right;\n",
              "    }\n",
              "</style>\n",
              "<table border=\"1\" class=\"dataframe\">\n",
              "  <thead>\n",
              "    <tr style=\"text-align: right;\">\n",
              "      <th></th>\n",
              "      <th>MONTHS</th>\n",
              "      <th>eggs</th>\n",
              "      <th>salt</th>\n",
              "      <th>spam</th>\n",
              "    </tr>\n",
              "  </thead>\n",
              "  <tbody>\n",
              "    <tr>\n",
              "      <th>0</th>\n",
              "      <td>JAN</td>\n",
              "      <td>47</td>\n",
              "      <td>12.0</td>\n",
              "      <td>17</td>\n",
              "    </tr>\n",
              "    <tr>\n",
              "      <th>1</th>\n",
              "      <td>FEB</td>\n",
              "      <td>110</td>\n",
              "      <td>50.0</td>\n",
              "      <td>31</td>\n",
              "    </tr>\n",
              "    <tr>\n",
              "      <th>2</th>\n",
              "      <td>MAR</td>\n",
              "      <td>221</td>\n",
              "      <td>89.0</td>\n",
              "      <td>72</td>\n",
              "    </tr>\n",
              "    <tr>\n",
              "      <th>3</th>\n",
              "      <td>APR</td>\n",
              "      <td>77</td>\n",
              "      <td>87.0</td>\n",
              "      <td>20</td>\n",
              "    </tr>\n",
              "    <tr>\n",
              "      <th>4</th>\n",
              "      <td>MAY</td>\n",
              "      <td>132</td>\n",
              "      <td>NaN</td>\n",
              "      <td>52</td>\n",
              "    </tr>\n",
              "    <tr>\n",
              "      <th>5</th>\n",
              "      <td>JUN</td>\n",
              "      <td>205</td>\n",
              "      <td>60.0</td>\n",
              "      <td>55</td>\n",
              "    </tr>\n",
              "  </tbody>\n",
              "</table>\n",
              "</div>"
            ],
            "text/plain": [
              "  MONTHS  eggs  salt  spam\n",
              "0    JAN    47  12.0    17\n",
              "1    FEB   110  50.0    31\n",
              "2    MAR   221  89.0    72\n",
              "3    APR    77  87.0    20\n",
              "4    MAY   132   NaN    52\n",
              "5    JUN   205  60.0    55"
            ]
          },
          "metadata": {
            "tags": []
          },
          "execution_count": 89
        }
      ]
    },
    {
      "cell_type": "code",
      "metadata": {
        "id": "Rexh9uaggbFl",
        "colab_type": "code",
        "colab": {}
      },
      "source": [
        "df.reset_index(inplace=True)    # just to create a extra index"
      ],
      "execution_count": 0,
      "outputs": []
    },
    {
      "cell_type": "code",
      "metadata": {
        "id": "VwsjW0maghKc",
        "colab_type": "code",
        "outputId": "5131a188-dfa1-4dee-9273-915cc899a693",
        "colab": {
          "base_uri": "https://localhost:8080/",
          "height": 225
        }
      },
      "source": [
        "df"
      ],
      "execution_count": 0,
      "outputs": [
        {
          "output_type": "execute_result",
          "data": {
            "text/html": [
              "<div>\n",
              "<style scoped>\n",
              "    .dataframe tbody tr th:only-of-type {\n",
              "        vertical-align: middle;\n",
              "    }\n",
              "\n",
              "    .dataframe tbody tr th {\n",
              "        vertical-align: top;\n",
              "    }\n",
              "\n",
              "    .dataframe thead th {\n",
              "        text-align: right;\n",
              "    }\n",
              "</style>\n",
              "<table border=\"1\" class=\"dataframe\">\n",
              "  <thead>\n",
              "    <tr style=\"text-align: right;\">\n",
              "      <th></th>\n",
              "      <th>index</th>\n",
              "      <th>MONTHS</th>\n",
              "      <th>eggs</th>\n",
              "      <th>salt</th>\n",
              "      <th>spam</th>\n",
              "    </tr>\n",
              "  </thead>\n",
              "  <tbody>\n",
              "    <tr>\n",
              "      <th>0</th>\n",
              "      <td>0</td>\n",
              "      <td>JAN</td>\n",
              "      <td>47</td>\n",
              "      <td>12.0</td>\n",
              "      <td>17</td>\n",
              "    </tr>\n",
              "    <tr>\n",
              "      <th>1</th>\n",
              "      <td>1</td>\n",
              "      <td>FEB</td>\n",
              "      <td>110</td>\n",
              "      <td>50.0</td>\n",
              "      <td>31</td>\n",
              "    </tr>\n",
              "    <tr>\n",
              "      <th>2</th>\n",
              "      <td>2</td>\n",
              "      <td>MAR</td>\n",
              "      <td>221</td>\n",
              "      <td>89.0</td>\n",
              "      <td>72</td>\n",
              "    </tr>\n",
              "    <tr>\n",
              "      <th>3</th>\n",
              "      <td>3</td>\n",
              "      <td>APR</td>\n",
              "      <td>77</td>\n",
              "      <td>87.0</td>\n",
              "      <td>20</td>\n",
              "    </tr>\n",
              "    <tr>\n",
              "      <th>4</th>\n",
              "      <td>4</td>\n",
              "      <td>MAY</td>\n",
              "      <td>132</td>\n",
              "      <td>NaN</td>\n",
              "      <td>52</td>\n",
              "    </tr>\n",
              "    <tr>\n",
              "      <th>5</th>\n",
              "      <td>5</td>\n",
              "      <td>JUN</td>\n",
              "      <td>205</td>\n",
              "      <td>60.0</td>\n",
              "      <td>55</td>\n",
              "    </tr>\n",
              "  </tbody>\n",
              "</table>\n",
              "</div>"
            ],
            "text/plain": [
              "   index MONTHS  eggs  salt  spam\n",
              "0      0    JAN    47  12.0    17\n",
              "1      1    FEB   110  50.0    31\n",
              "2      2    MAR   221  89.0    72\n",
              "3      3    APR    77  87.0    20\n",
              "4      4    MAY   132   NaN    52\n",
              "5      5    JUN   205  60.0    55"
            ]
          },
          "metadata": {
            "tags": []
          },
          "execution_count": 91
        }
      ]
    },
    {
      "cell_type": "code",
      "metadata": {
        "id": "FIeOKj_DOxPs",
        "colab_type": "code",
        "outputId": "284af872-da7e-4ac7-fb1a-a86c055e6ab0",
        "colab": {
          "base_uri": "https://localhost:8080/",
          "height": 254
        }
      },
      "source": [
        "df.set_index(['MONTHS','index'])           # multi indexed with month and index "
      ],
      "execution_count": 0,
      "outputs": [
        {
          "output_type": "execute_result",
          "data": {
            "text/html": [
              "<div>\n",
              "<style scoped>\n",
              "    .dataframe tbody tr th:only-of-type {\n",
              "        vertical-align: middle;\n",
              "    }\n",
              "\n",
              "    .dataframe tbody tr th {\n",
              "        vertical-align: top;\n",
              "    }\n",
              "\n",
              "    .dataframe thead th {\n",
              "        text-align: right;\n",
              "    }\n",
              "</style>\n",
              "<table border=\"1\" class=\"dataframe\">\n",
              "  <thead>\n",
              "    <tr style=\"text-align: right;\">\n",
              "      <th></th>\n",
              "      <th></th>\n",
              "      <th>eggs</th>\n",
              "      <th>salt</th>\n",
              "      <th>spam</th>\n",
              "    </tr>\n",
              "    <tr>\n",
              "      <th>MONTHS</th>\n",
              "      <th>index</th>\n",
              "      <th></th>\n",
              "      <th></th>\n",
              "      <th></th>\n",
              "    </tr>\n",
              "  </thead>\n",
              "  <tbody>\n",
              "    <tr>\n",
              "      <th>JAN</th>\n",
              "      <th>0</th>\n",
              "      <td>47</td>\n",
              "      <td>12.0</td>\n",
              "      <td>17</td>\n",
              "    </tr>\n",
              "    <tr>\n",
              "      <th>FEB</th>\n",
              "      <th>1</th>\n",
              "      <td>110</td>\n",
              "      <td>50.0</td>\n",
              "      <td>31</td>\n",
              "    </tr>\n",
              "    <tr>\n",
              "      <th>MAR</th>\n",
              "      <th>2</th>\n",
              "      <td>221</td>\n",
              "      <td>89.0</td>\n",
              "      <td>72</td>\n",
              "    </tr>\n",
              "    <tr>\n",
              "      <th>APR</th>\n",
              "      <th>3</th>\n",
              "      <td>77</td>\n",
              "      <td>87.0</td>\n",
              "      <td>20</td>\n",
              "    </tr>\n",
              "    <tr>\n",
              "      <th>MAY</th>\n",
              "      <th>4</th>\n",
              "      <td>132</td>\n",
              "      <td>NaN</td>\n",
              "      <td>52</td>\n",
              "    </tr>\n",
              "    <tr>\n",
              "      <th>JUN</th>\n",
              "      <th>5</th>\n",
              "      <td>205</td>\n",
              "      <td>60.0</td>\n",
              "      <td>55</td>\n",
              "    </tr>\n",
              "  </tbody>\n",
              "</table>\n",
              "</div>"
            ],
            "text/plain": [
              "              eggs  salt  spam\n",
              "MONTHS index                  \n",
              "JAN    0        47  12.0    17\n",
              "FEB    1       110  50.0    31\n",
              "MAR    2       221  89.0    72\n",
              "APR    3        77  87.0    20\n",
              "MAY    4       132   NaN    52\n",
              "JUN    5       205  60.0    55"
            ]
          },
          "metadata": {
            "tags": []
          },
          "execution_count": 92
        }
      ]
    },
    {
      "cell_type": "markdown",
      "metadata": {
        "id": "dF2HH6xU2TNx",
        "colab_type": "text"
      },
      "source": [
        "###Pivoting DataFrames:\n",
        " pivot method lets us specify which columns to use as index and which to use as columns \n",
        "\n",
        "\n",
        "```\n",
        "SYNTAX:  .pivot(index= , columns= , values= )\n",
        "```\n",
        "\n"
      ]
    },
    {
      "cell_type": "code",
      "metadata": {
        "colab_type": "code",
        "id": "3E3eZ0oKFFqQ",
        "colab": {}
      },
      "source": [
        "users_data_frame = pd.read_csv('/content/gdrive/My Drive/datasets/users.csv', header=0, index_col=0)"
      ],
      "execution_count": 0,
      "outputs": []
    },
    {
      "cell_type": "code",
      "metadata": {
        "id": "KQ6G2No7FhCu",
        "colab_type": "code",
        "outputId": "81739737-4336-44dc-fedb-e206ca6d0b99",
        "colab": {
          "base_uri": "https://localhost:8080/",
          "height": 166
        }
      },
      "source": [
        "users_data_frame"
      ],
      "execution_count": 0,
      "outputs": [
        {
          "output_type": "execute_result",
          "data": {
            "text/html": [
              "<div>\n",
              "<style scoped>\n",
              "    .dataframe tbody tr th:only-of-type {\n",
              "        vertical-align: middle;\n",
              "    }\n",
              "\n",
              "    .dataframe tbody tr th {\n",
              "        vertical-align: top;\n",
              "    }\n",
              "\n",
              "    .dataframe thead th {\n",
              "        text-align: right;\n",
              "    }\n",
              "</style>\n",
              "<table border=\"1\" class=\"dataframe\">\n",
              "  <thead>\n",
              "    <tr style=\"text-align: right;\">\n",
              "      <th></th>\n",
              "      <th>weekday</th>\n",
              "      <th>city</th>\n",
              "      <th>visitors</th>\n",
              "      <th>signups</th>\n",
              "    </tr>\n",
              "  </thead>\n",
              "  <tbody>\n",
              "    <tr>\n",
              "      <th>0</th>\n",
              "      <td>Sun</td>\n",
              "      <td>Austin</td>\n",
              "      <td>139</td>\n",
              "      <td>7</td>\n",
              "    </tr>\n",
              "    <tr>\n",
              "      <th>1</th>\n",
              "      <td>Sun</td>\n",
              "      <td>Dallas</td>\n",
              "      <td>237</td>\n",
              "      <td>12</td>\n",
              "    </tr>\n",
              "    <tr>\n",
              "      <th>2</th>\n",
              "      <td>Mon</td>\n",
              "      <td>Austin</td>\n",
              "      <td>326</td>\n",
              "      <td>3</td>\n",
              "    </tr>\n",
              "    <tr>\n",
              "      <th>3</th>\n",
              "      <td>Mon</td>\n",
              "      <td>Dallas</td>\n",
              "      <td>456</td>\n",
              "      <td>5</td>\n",
              "    </tr>\n",
              "  </tbody>\n",
              "</table>\n",
              "</div>"
            ],
            "text/plain": [
              "  weekday    city  visitors  signups\n",
              "0     Sun  Austin       139        7\n",
              "1     Sun  Dallas       237       12\n",
              "2     Mon  Austin       326        3\n",
              "3     Mon  Dallas       456        5"
            ]
          },
          "metadata": {
            "tags": []
          },
          "execution_count": 94
        }
      ]
    },
    {
      "cell_type": "code",
      "metadata": {
        "id": "hG90xRVPHApa",
        "colab_type": "code",
        "colab": {}
      },
      "source": [
        "# Pivot the database to focus on visitors\n",
        "visitors_data_frame = users_data_frame.pivot(index = 'weekday',columns ='city',values = 'visitors')"
      ],
      "execution_count": 0,
      "outputs": []
    },
    {
      "cell_type": "code",
      "metadata": {
        "id": "V8h1GyInK5Ja",
        "colab_type": "code",
        "outputId": "886608fb-84ca-4f99-9b6e-7f1fdaded7b4",
        "colab": {
          "base_uri": "https://localhost:8080/",
          "height": 136
        }
      },
      "source": [
        "visitors_data_frame"
      ],
      "execution_count": 0,
      "outputs": [
        {
          "output_type": "execute_result",
          "data": {
            "text/html": [
              "<div>\n",
              "<style scoped>\n",
              "    .dataframe tbody tr th:only-of-type {\n",
              "        vertical-align: middle;\n",
              "    }\n",
              "\n",
              "    .dataframe tbody tr th {\n",
              "        vertical-align: top;\n",
              "    }\n",
              "\n",
              "    .dataframe thead th {\n",
              "        text-align: right;\n",
              "    }\n",
              "</style>\n",
              "<table border=\"1\" class=\"dataframe\">\n",
              "  <thead>\n",
              "    <tr style=\"text-align: right;\">\n",
              "      <th>city</th>\n",
              "      <th>Austin</th>\n",
              "      <th>Dallas</th>\n",
              "    </tr>\n",
              "    <tr>\n",
              "      <th>weekday</th>\n",
              "      <th></th>\n",
              "      <th></th>\n",
              "    </tr>\n",
              "  </thead>\n",
              "  <tbody>\n",
              "    <tr>\n",
              "      <th>Mon</th>\n",
              "      <td>326</td>\n",
              "      <td>456</td>\n",
              "    </tr>\n",
              "    <tr>\n",
              "      <th>Sun</th>\n",
              "      <td>139</td>\n",
              "      <td>237</td>\n",
              "    </tr>\n",
              "  </tbody>\n",
              "</table>\n",
              "</div>"
            ],
            "text/plain": [
              "city     Austin  Dallas\n",
              "weekday                \n",
              "Mon         326     456\n",
              "Sun         139     237"
            ]
          },
          "metadata": {
            "tags": []
          },
          "execution_count": 96
        }
      ]
    },
    {
      "cell_type": "code",
      "metadata": {
        "id": "Q0EDPEGpM6iw",
        "colab_type": "code",
        "colab": {}
      },
      "source": [
        "# Pivot the database to focus on signups\n",
        "signups_data_frame = users_data_frame.pivot(index='weekday', columns='city', values='signups')"
      ],
      "execution_count": 0,
      "outputs": []
    },
    {
      "cell_type": "code",
      "metadata": {
        "id": "Z9GtWHdCNKOv",
        "colab_type": "code",
        "outputId": "53b93114-437a-4663-9696-b56dd35bfcb7",
        "colab": {
          "base_uri": "https://localhost:8080/",
          "height": 136
        }
      },
      "source": [
        "signups_data_frame"
      ],
      "execution_count": 0,
      "outputs": [
        {
          "output_type": "execute_result",
          "data": {
            "text/html": [
              "<div>\n",
              "<style scoped>\n",
              "    .dataframe tbody tr th:only-of-type {\n",
              "        vertical-align: middle;\n",
              "    }\n",
              "\n",
              "    .dataframe tbody tr th {\n",
              "        vertical-align: top;\n",
              "    }\n",
              "\n",
              "    .dataframe thead th {\n",
              "        text-align: right;\n",
              "    }\n",
              "</style>\n",
              "<table border=\"1\" class=\"dataframe\">\n",
              "  <thead>\n",
              "    <tr style=\"text-align: right;\">\n",
              "      <th>city</th>\n",
              "      <th>Austin</th>\n",
              "      <th>Dallas</th>\n",
              "    </tr>\n",
              "    <tr>\n",
              "      <th>weekday</th>\n",
              "      <th></th>\n",
              "      <th></th>\n",
              "    </tr>\n",
              "  </thead>\n",
              "  <tbody>\n",
              "    <tr>\n",
              "      <th>Mon</th>\n",
              "      <td>3</td>\n",
              "      <td>5</td>\n",
              "    </tr>\n",
              "    <tr>\n",
              "      <th>Sun</th>\n",
              "      <td>7</td>\n",
              "      <td>12</td>\n",
              "    </tr>\n",
              "  </tbody>\n",
              "</table>\n",
              "</div>"
            ],
            "text/plain": [
              "city     Austin  Dallas\n",
              "weekday                \n",
              "Mon           3       5\n",
              "Sun           7      12"
            ]
          },
          "metadata": {
            "tags": []
          },
          "execution_count": 98
        }
      ]
    },
    {
      "cell_type": "code",
      "metadata": {
        "id": "CjAacFtVNKdt",
        "colab_type": "code",
        "colab": {}
      },
      "source": [
        "# Pivot data base by both signups and visitors\n",
        "pivoted_data_frame = users_data_frame.pivot(index='weekday', columns='city')"
      ],
      "execution_count": 0,
      "outputs": []
    },
    {
      "cell_type": "code",
      "metadata": {
        "id": "l1ODYeVNNfBb",
        "colab_type": "code",
        "outputId": "110f4611-f8ff-4175-df30-5a8dd6cd027b",
        "colab": {
          "base_uri": "https://localhost:8080/",
          "height": 166
        }
      },
      "source": [
        "pivoted_data_frame"
      ],
      "execution_count": 0,
      "outputs": [
        {
          "output_type": "execute_result",
          "data": {
            "text/html": [
              "<div>\n",
              "<style scoped>\n",
              "    .dataframe tbody tr th:only-of-type {\n",
              "        vertical-align: middle;\n",
              "    }\n",
              "\n",
              "    .dataframe tbody tr th {\n",
              "        vertical-align: top;\n",
              "    }\n",
              "\n",
              "    .dataframe thead tr th {\n",
              "        text-align: left;\n",
              "    }\n",
              "\n",
              "    .dataframe thead tr:last-of-type th {\n",
              "        text-align: right;\n",
              "    }\n",
              "</style>\n",
              "<table border=\"1\" class=\"dataframe\">\n",
              "  <thead>\n",
              "    <tr>\n",
              "      <th></th>\n",
              "      <th colspan=\"2\" halign=\"left\">visitors</th>\n",
              "      <th colspan=\"2\" halign=\"left\">signups</th>\n",
              "    </tr>\n",
              "    <tr>\n",
              "      <th>city</th>\n",
              "      <th>Austin</th>\n",
              "      <th>Dallas</th>\n",
              "      <th>Austin</th>\n",
              "      <th>Dallas</th>\n",
              "    </tr>\n",
              "    <tr>\n",
              "      <th>weekday</th>\n",
              "      <th></th>\n",
              "      <th></th>\n",
              "      <th></th>\n",
              "      <th></th>\n",
              "    </tr>\n",
              "  </thead>\n",
              "  <tbody>\n",
              "    <tr>\n",
              "      <th>Mon</th>\n",
              "      <td>326</td>\n",
              "      <td>456</td>\n",
              "      <td>3</td>\n",
              "      <td>5</td>\n",
              "    </tr>\n",
              "    <tr>\n",
              "      <th>Sun</th>\n",
              "      <td>139</td>\n",
              "      <td>237</td>\n",
              "      <td>7</td>\n",
              "      <td>12</td>\n",
              "    </tr>\n",
              "  </tbody>\n",
              "</table>\n",
              "</div>"
            ],
            "text/plain": [
              "        visitors        signups       \n",
              "city      Austin Dallas  Austin Dallas\n",
              "weekday                               \n",
              "Mon          326    456       3      5\n",
              "Sun          139    237       7     12"
            ]
          },
          "metadata": {
            "tags": []
          },
          "execution_count": 100
        }
      ]
    },
    {
      "cell_type": "markdown",
      "metadata": {
        "id": "KLJ1l3Jggs28",
        "colab_type": "text"
      },
      "source": [
        "### stacking and unstacking:\n",
        " \n",
        "\n",
        "*   unstacking = it means to remove the multi index , and used as column index\n",
        "\n",
        "*   stacking = to convert the data frame into a multi level indexed data frame\n",
        "\n"
      ]
    },
    {
      "cell_type": "code",
      "metadata": {
        "id": "pn4Pxzs0grw8",
        "colab_type": "code",
        "outputId": "e260dbfb-1d47-4402-d140-8708851cad64",
        "colab": {
          "base_uri": "https://localhost:8080/",
          "height": 166
        }
      },
      "source": [
        "users_data_frame"
      ],
      "execution_count": 0,
      "outputs": [
        {
          "output_type": "execute_result",
          "data": {
            "text/html": [
              "<div>\n",
              "<style scoped>\n",
              "    .dataframe tbody tr th:only-of-type {\n",
              "        vertical-align: middle;\n",
              "    }\n",
              "\n",
              "    .dataframe tbody tr th {\n",
              "        vertical-align: top;\n",
              "    }\n",
              "\n",
              "    .dataframe thead th {\n",
              "        text-align: right;\n",
              "    }\n",
              "</style>\n",
              "<table border=\"1\" class=\"dataframe\">\n",
              "  <thead>\n",
              "    <tr style=\"text-align: right;\">\n",
              "      <th></th>\n",
              "      <th>weekday</th>\n",
              "      <th>city</th>\n",
              "      <th>visitors</th>\n",
              "      <th>signups</th>\n",
              "    </tr>\n",
              "  </thead>\n",
              "  <tbody>\n",
              "    <tr>\n",
              "      <th>0</th>\n",
              "      <td>Sun</td>\n",
              "      <td>Austin</td>\n",
              "      <td>139</td>\n",
              "      <td>7</td>\n",
              "    </tr>\n",
              "    <tr>\n",
              "      <th>1</th>\n",
              "      <td>Sun</td>\n",
              "      <td>Dallas</td>\n",
              "      <td>237</td>\n",
              "      <td>12</td>\n",
              "    </tr>\n",
              "    <tr>\n",
              "      <th>2</th>\n",
              "      <td>Mon</td>\n",
              "      <td>Austin</td>\n",
              "      <td>326</td>\n",
              "      <td>3</td>\n",
              "    </tr>\n",
              "    <tr>\n",
              "      <th>3</th>\n",
              "      <td>Mon</td>\n",
              "      <td>Dallas</td>\n",
              "      <td>456</td>\n",
              "      <td>5</td>\n",
              "    </tr>\n",
              "  </tbody>\n",
              "</table>\n",
              "</div>"
            ],
            "text/plain": [
              "  weekday    city  visitors  signups\n",
              "0     Sun  Austin       139        7\n",
              "1     Sun  Dallas       237       12\n",
              "2     Mon  Austin       326        3\n",
              "3     Mon  Dallas       456        5"
            ]
          },
          "metadata": {
            "tags": []
          },
          "execution_count": 101
        }
      ]
    },
    {
      "cell_type": "code",
      "metadata": {
        "id": "om6Ba51Vg26B",
        "colab_type": "code",
        "colab": {}
      },
      "source": [
        "#reindexing the data frame to a new data frame with multi index "
      ],
      "execution_count": 0,
      "outputs": []
    },
    {
      "cell_type": "code",
      "metadata": {
        "id": "Jg-Noo1Rg90c",
        "colab_type": "code",
        "colab": {}
      },
      "source": [
        "users_multi_index_data_frame = users_data_frame.set_index(['city','weekday'])"
      ],
      "execution_count": 0,
      "outputs": []
    },
    {
      "cell_type": "code",
      "metadata": {
        "id": "v-EwAIcrhQ1B",
        "colab_type": "code",
        "outputId": "eb910df1-0422-480c-e6b7-da10e8882480",
        "colab": {
          "base_uri": "https://localhost:8080/",
          "height": 195
        }
      },
      "source": [
        "users_multi_index_data_frame.sort_index()"
      ],
      "execution_count": 0,
      "outputs": [
        {
          "output_type": "execute_result",
          "data": {
            "text/html": [
              "<div>\n",
              "<style scoped>\n",
              "    .dataframe tbody tr th:only-of-type {\n",
              "        vertical-align: middle;\n",
              "    }\n",
              "\n",
              "    .dataframe tbody tr th {\n",
              "        vertical-align: top;\n",
              "    }\n",
              "\n",
              "    .dataframe thead th {\n",
              "        text-align: right;\n",
              "    }\n",
              "</style>\n",
              "<table border=\"1\" class=\"dataframe\">\n",
              "  <thead>\n",
              "    <tr style=\"text-align: right;\">\n",
              "      <th></th>\n",
              "      <th></th>\n",
              "      <th>visitors</th>\n",
              "      <th>signups</th>\n",
              "    </tr>\n",
              "    <tr>\n",
              "      <th>city</th>\n",
              "      <th>weekday</th>\n",
              "      <th></th>\n",
              "      <th></th>\n",
              "    </tr>\n",
              "  </thead>\n",
              "  <tbody>\n",
              "    <tr>\n",
              "      <th rowspan=\"2\" valign=\"top\">Austin</th>\n",
              "      <th>Mon</th>\n",
              "      <td>326</td>\n",
              "      <td>3</td>\n",
              "    </tr>\n",
              "    <tr>\n",
              "      <th>Sun</th>\n",
              "      <td>139</td>\n",
              "      <td>7</td>\n",
              "    </tr>\n",
              "    <tr>\n",
              "      <th rowspan=\"2\" valign=\"top\">Dallas</th>\n",
              "      <th>Mon</th>\n",
              "      <td>456</td>\n",
              "      <td>5</td>\n",
              "    </tr>\n",
              "    <tr>\n",
              "      <th>Sun</th>\n",
              "      <td>237</td>\n",
              "      <td>12</td>\n",
              "    </tr>\n",
              "  </tbody>\n",
              "</table>\n",
              "</div>"
            ],
            "text/plain": [
              "                visitors  signups\n",
              "city   weekday                   \n",
              "Austin Mon           326        3\n",
              "       Sun           139        7\n",
              "Dallas Mon           456        5\n",
              "       Sun           237       12"
            ]
          },
          "metadata": {
            "tags": []
          },
          "execution_count": 105
        }
      ]
    },
    {
      "cell_type": "code",
      "metadata": {
        "id": "-g6cD-T4hWE8",
        "colab_type": "code",
        "colab": {}
      },
      "source": [
        "#to unstack \n",
        "weekday_unstacked = users_multi_index_data_frame.unstack(level='weekday')     # alt.  level=1 can also be used"
      ],
      "execution_count": 0,
      "outputs": []
    },
    {
      "cell_type": "code",
      "metadata": {
        "id": "uLblYg59iwUs",
        "colab_type": "code",
        "outputId": "cc58d24c-d94f-412c-ca87-3a34ae3e601f",
        "colab": {
          "base_uri": "https://localhost:8080/",
          "height": 166
        }
      },
      "source": [
        "weekday_unstacked  "
      ],
      "execution_count": 0,
      "outputs": [
        {
          "output_type": "execute_result",
          "data": {
            "text/html": [
              "<div>\n",
              "<style scoped>\n",
              "    .dataframe tbody tr th:only-of-type {\n",
              "        vertical-align: middle;\n",
              "    }\n",
              "\n",
              "    .dataframe tbody tr th {\n",
              "        vertical-align: top;\n",
              "    }\n",
              "\n",
              "    .dataframe thead tr th {\n",
              "        text-align: left;\n",
              "    }\n",
              "\n",
              "    .dataframe thead tr:last-of-type th {\n",
              "        text-align: right;\n",
              "    }\n",
              "</style>\n",
              "<table border=\"1\" class=\"dataframe\">\n",
              "  <thead>\n",
              "    <tr>\n",
              "      <th></th>\n",
              "      <th colspan=\"2\" halign=\"left\">visitors</th>\n",
              "      <th colspan=\"2\" halign=\"left\">signups</th>\n",
              "    </tr>\n",
              "    <tr>\n",
              "      <th>weekday</th>\n",
              "      <th>Mon</th>\n",
              "      <th>Sun</th>\n",
              "      <th>Mon</th>\n",
              "      <th>Sun</th>\n",
              "    </tr>\n",
              "    <tr>\n",
              "      <th>city</th>\n",
              "      <th></th>\n",
              "      <th></th>\n",
              "      <th></th>\n",
              "      <th></th>\n",
              "    </tr>\n",
              "  </thead>\n",
              "  <tbody>\n",
              "    <tr>\n",
              "      <th>Austin</th>\n",
              "      <td>326</td>\n",
              "      <td>139</td>\n",
              "      <td>3</td>\n",
              "      <td>7</td>\n",
              "    </tr>\n",
              "    <tr>\n",
              "      <th>Dallas</th>\n",
              "      <td>456</td>\n",
              "      <td>237</td>\n",
              "      <td>5</td>\n",
              "      <td>12</td>\n",
              "    </tr>\n",
              "  </tbody>\n",
              "</table>\n",
              "</div>"
            ],
            "text/plain": [
              "        visitors      signups    \n",
              "weekday      Mon  Sun     Mon Sun\n",
              "city                             \n",
              "Austin       326  139       3   7\n",
              "Dallas       456  237       5  12"
            ]
          },
          "metadata": {
            "tags": []
          },
          "execution_count": 109
        }
      ]
    },
    {
      "cell_type": "code",
      "metadata": {
        "id": "hSQ0Ch3ljMZU",
        "colab_type": "code",
        "colab": {}
      },
      "source": [
        "city_unstacked = users_multi_index_data_frame.unstack(level='city')"
      ],
      "execution_count": 0,
      "outputs": []
    },
    {
      "cell_type": "code",
      "metadata": {
        "id": "VwFAjtd6jbbp",
        "colab_type": "code",
        "outputId": "8f0207b9-2572-41f7-c29a-d452efd87511",
        "colab": {
          "base_uri": "https://localhost:8080/",
          "height": 166
        }
      },
      "source": [
        "city_unstacked"
      ],
      "execution_count": 0,
      "outputs": [
        {
          "output_type": "execute_result",
          "data": {
            "text/html": [
              "<div>\n",
              "<style scoped>\n",
              "    .dataframe tbody tr th:only-of-type {\n",
              "        vertical-align: middle;\n",
              "    }\n",
              "\n",
              "    .dataframe tbody tr th {\n",
              "        vertical-align: top;\n",
              "    }\n",
              "\n",
              "    .dataframe thead tr th {\n",
              "        text-align: left;\n",
              "    }\n",
              "\n",
              "    .dataframe thead tr:last-of-type th {\n",
              "        text-align: right;\n",
              "    }\n",
              "</style>\n",
              "<table border=\"1\" class=\"dataframe\">\n",
              "  <thead>\n",
              "    <tr>\n",
              "      <th></th>\n",
              "      <th colspan=\"2\" halign=\"left\">visitors</th>\n",
              "      <th colspan=\"2\" halign=\"left\">signups</th>\n",
              "    </tr>\n",
              "    <tr>\n",
              "      <th>city</th>\n",
              "      <th>Austin</th>\n",
              "      <th>Dallas</th>\n",
              "      <th>Austin</th>\n",
              "      <th>Dallas</th>\n",
              "    </tr>\n",
              "    <tr>\n",
              "      <th>weekday</th>\n",
              "      <th></th>\n",
              "      <th></th>\n",
              "      <th></th>\n",
              "      <th></th>\n",
              "    </tr>\n",
              "  </thead>\n",
              "  <tbody>\n",
              "    <tr>\n",
              "      <th>Mon</th>\n",
              "      <td>326</td>\n",
              "      <td>456</td>\n",
              "      <td>3</td>\n",
              "      <td>5</td>\n",
              "    </tr>\n",
              "    <tr>\n",
              "      <th>Sun</th>\n",
              "      <td>139</td>\n",
              "      <td>237</td>\n",
              "      <td>7</td>\n",
              "      <td>12</td>\n",
              "    </tr>\n",
              "  </tbody>\n",
              "</table>\n",
              "</div>"
            ],
            "text/plain": [
              "        visitors        signups       \n",
              "city      Austin Dallas  Austin Dallas\n",
              "weekday                               \n",
              "Mon          326    456       3      5\n",
              "Sun          139    237       7     12"
            ]
          },
          "metadata": {
            "tags": []
          },
          "execution_count": 111
        }
      ]
    },
    {
      "cell_type": "code",
      "metadata": {
        "id": "a13E6IC-jyzE",
        "colab_type": "code",
        "colab": {}
      },
      "source": [
        "#stack \n",
        "city_stacked = city_unstacked.stack('city')"
      ],
      "execution_count": 0,
      "outputs": []
    },
    {
      "cell_type": "code",
      "metadata": {
        "id": "nl2fsfTYj_6z",
        "colab_type": "code",
        "outputId": "a74f1a26-0bde-4323-e61b-f7c332142ac9",
        "colab": {
          "base_uri": "https://localhost:8080/",
          "height": 195
        }
      },
      "source": [
        "city_stacked"
      ],
      "execution_count": 0,
      "outputs": [
        {
          "output_type": "execute_result",
          "data": {
            "text/html": [
              "<div>\n",
              "<style scoped>\n",
              "    .dataframe tbody tr th:only-of-type {\n",
              "        vertical-align: middle;\n",
              "    }\n",
              "\n",
              "    .dataframe tbody tr th {\n",
              "        vertical-align: top;\n",
              "    }\n",
              "\n",
              "    .dataframe thead th {\n",
              "        text-align: right;\n",
              "    }\n",
              "</style>\n",
              "<table border=\"1\" class=\"dataframe\">\n",
              "  <thead>\n",
              "    <tr style=\"text-align: right;\">\n",
              "      <th></th>\n",
              "      <th></th>\n",
              "      <th>visitors</th>\n",
              "      <th>signups</th>\n",
              "    </tr>\n",
              "    <tr>\n",
              "      <th>weekday</th>\n",
              "      <th>city</th>\n",
              "      <th></th>\n",
              "      <th></th>\n",
              "    </tr>\n",
              "  </thead>\n",
              "  <tbody>\n",
              "    <tr>\n",
              "      <th rowspan=\"2\" valign=\"top\">Mon</th>\n",
              "      <th>Austin</th>\n",
              "      <td>326</td>\n",
              "      <td>3</td>\n",
              "    </tr>\n",
              "    <tr>\n",
              "      <th>Dallas</th>\n",
              "      <td>456</td>\n",
              "      <td>5</td>\n",
              "    </tr>\n",
              "    <tr>\n",
              "      <th rowspan=\"2\" valign=\"top\">Sun</th>\n",
              "      <th>Austin</th>\n",
              "      <td>139</td>\n",
              "      <td>7</td>\n",
              "    </tr>\n",
              "    <tr>\n",
              "      <th>Dallas</th>\n",
              "      <td>237</td>\n",
              "      <td>12</td>\n",
              "    </tr>\n",
              "  </tbody>\n",
              "</table>\n",
              "</div>"
            ],
            "text/plain": [
              "                visitors  signups\n",
              "weekday city                     \n",
              "Mon     Austin       326        3\n",
              "        Dallas       456        5\n",
              "Sun     Austin       139        7\n",
              "        Dallas       237       12"
            ]
          },
          "metadata": {
            "tags": []
          },
          "execution_count": 113
        }
      ]
    },
    {
      "cell_type": "code",
      "metadata": {
        "id": "yXOe3JockCsv",
        "colab_type": "code",
        "colab": {}
      },
      "source": [
        "# to swap the indexs\n",
        "city_stacked = city_stacked.swaplevel(0,1)"
      ],
      "execution_count": 0,
      "outputs": []
    },
    {
      "cell_type": "code",
      "metadata": {
        "id": "XqczBQ8Gks3T",
        "colab_type": "code",
        "outputId": "22d37a26-31f3-4376-9333-f10afe21eced",
        "colab": {
          "base_uri": "https://localhost:8080/",
          "height": 195
        }
      },
      "source": [
        "city_stacked"
      ],
      "execution_count": 0,
      "outputs": [
        {
          "output_type": "execute_result",
          "data": {
            "text/html": [
              "<div>\n",
              "<style scoped>\n",
              "    .dataframe tbody tr th:only-of-type {\n",
              "        vertical-align: middle;\n",
              "    }\n",
              "\n",
              "    .dataframe tbody tr th {\n",
              "        vertical-align: top;\n",
              "    }\n",
              "\n",
              "    .dataframe thead th {\n",
              "        text-align: right;\n",
              "    }\n",
              "</style>\n",
              "<table border=\"1\" class=\"dataframe\">\n",
              "  <thead>\n",
              "    <tr style=\"text-align: right;\">\n",
              "      <th></th>\n",
              "      <th></th>\n",
              "      <th>visitors</th>\n",
              "      <th>signups</th>\n",
              "    </tr>\n",
              "    <tr>\n",
              "      <th>city</th>\n",
              "      <th>weekday</th>\n",
              "      <th></th>\n",
              "      <th></th>\n",
              "    </tr>\n",
              "  </thead>\n",
              "  <tbody>\n",
              "    <tr>\n",
              "      <th>Austin</th>\n",
              "      <th>Mon</th>\n",
              "      <td>326</td>\n",
              "      <td>3</td>\n",
              "    </tr>\n",
              "    <tr>\n",
              "      <th>Dallas</th>\n",
              "      <th>Mon</th>\n",
              "      <td>456</td>\n",
              "      <td>5</td>\n",
              "    </tr>\n",
              "    <tr>\n",
              "      <th>Austin</th>\n",
              "      <th>Sun</th>\n",
              "      <td>139</td>\n",
              "      <td>7</td>\n",
              "    </tr>\n",
              "    <tr>\n",
              "      <th>Dallas</th>\n",
              "      <th>Sun</th>\n",
              "      <td>237</td>\n",
              "      <td>12</td>\n",
              "    </tr>\n",
              "  </tbody>\n",
              "</table>\n",
              "</div>"
            ],
            "text/plain": [
              "                visitors  signups\n",
              "city   weekday                   \n",
              "Austin Mon           326        3\n",
              "Dallas Mon           456        5\n",
              "Austin Sun           139        7\n",
              "Dallas Sun           237       12"
            ]
          },
          "metadata": {
            "tags": []
          },
          "execution_count": 122
        }
      ]
    },
    {
      "cell_type": "code",
      "metadata": {
        "id": "mjN-SuS7k8fn",
        "colab_type": "code",
        "outputId": "d9ba1554-1187-4e94-986f-4a42339ee46f",
        "colab": {
          "base_uri": "https://localhost:8080/",
          "height": 195
        }
      },
      "source": [
        "city_stacked = city_stacked.sort_index()           # sorting the index of the data frame\n",
        "city_stacked"
      ],
      "execution_count": 0,
      "outputs": [
        {
          "output_type": "execute_result",
          "data": {
            "text/html": [
              "<div>\n",
              "<style scoped>\n",
              "    .dataframe tbody tr th:only-of-type {\n",
              "        vertical-align: middle;\n",
              "    }\n",
              "\n",
              "    .dataframe tbody tr th {\n",
              "        vertical-align: top;\n",
              "    }\n",
              "\n",
              "    .dataframe thead th {\n",
              "        text-align: right;\n",
              "    }\n",
              "</style>\n",
              "<table border=\"1\" class=\"dataframe\">\n",
              "  <thead>\n",
              "    <tr style=\"text-align: right;\">\n",
              "      <th></th>\n",
              "      <th></th>\n",
              "      <th>visitors</th>\n",
              "      <th>signups</th>\n",
              "    </tr>\n",
              "    <tr>\n",
              "      <th>city</th>\n",
              "      <th>weekday</th>\n",
              "      <th></th>\n",
              "      <th></th>\n",
              "    </tr>\n",
              "  </thead>\n",
              "  <tbody>\n",
              "    <tr>\n",
              "      <th rowspan=\"2\" valign=\"top\">Austin</th>\n",
              "      <th>Mon</th>\n",
              "      <td>326</td>\n",
              "      <td>3</td>\n",
              "    </tr>\n",
              "    <tr>\n",
              "      <th>Sun</th>\n",
              "      <td>139</td>\n",
              "      <td>7</td>\n",
              "    </tr>\n",
              "    <tr>\n",
              "      <th rowspan=\"2\" valign=\"top\">Dallas</th>\n",
              "      <th>Mon</th>\n",
              "      <td>456</td>\n",
              "      <td>5</td>\n",
              "    </tr>\n",
              "    <tr>\n",
              "      <th>Sun</th>\n",
              "      <td>237</td>\n",
              "      <td>12</td>\n",
              "    </tr>\n",
              "  </tbody>\n",
              "</table>\n",
              "</div>"
            ],
            "text/plain": [
              "                visitors  signups\n",
              "city   weekday                   \n",
              "Austin Mon           326        3\n",
              "       Sun           139        7\n",
              "Dallas Mon           456        5\n",
              "       Sun           237       12"
            ]
          },
          "metadata": {
            "tags": []
          },
          "execution_count": 124
        }
      ]
    },
    {
      "cell_type": "markdown",
      "metadata": {
        "id": "tgdRtBnfml54",
        "colab_type": "text"
      },
      "source": [
        "### Melt dataframes:\n",
        "melt is used to unpivot or to make column to rows and rows to columns"
      ]
    },
    {
      "cell_type": "code",
      "metadata": {
        "id": "DZzsx870m3Bu",
        "colab_type": "code",
        "outputId": "0f89c2ea-8921-4df5-8a70-47e34c52bcfc",
        "colab": {
          "base_uri": "https://localhost:8080/",
          "height": 136
        }
      },
      "source": [
        "visitors_data_frame"
      ],
      "execution_count": 0,
      "outputs": [
        {
          "output_type": "execute_result",
          "data": {
            "text/html": [
              "<div>\n",
              "<style scoped>\n",
              "    .dataframe tbody tr th:only-of-type {\n",
              "        vertical-align: middle;\n",
              "    }\n",
              "\n",
              "    .dataframe tbody tr th {\n",
              "        vertical-align: top;\n",
              "    }\n",
              "\n",
              "    .dataframe thead th {\n",
              "        text-align: right;\n",
              "    }\n",
              "</style>\n",
              "<table border=\"1\" class=\"dataframe\">\n",
              "  <thead>\n",
              "    <tr style=\"text-align: right;\">\n",
              "      <th>city</th>\n",
              "      <th>Austin</th>\n",
              "      <th>Dallas</th>\n",
              "    </tr>\n",
              "    <tr>\n",
              "      <th>weekday</th>\n",
              "      <th></th>\n",
              "      <th></th>\n",
              "    </tr>\n",
              "  </thead>\n",
              "  <tbody>\n",
              "    <tr>\n",
              "      <th>Mon</th>\n",
              "      <td>326</td>\n",
              "      <td>456</td>\n",
              "    </tr>\n",
              "    <tr>\n",
              "      <th>Sun</th>\n",
              "      <td>139</td>\n",
              "      <td>237</td>\n",
              "    </tr>\n",
              "  </tbody>\n",
              "</table>\n",
              "</div>"
            ],
            "text/plain": [
              "city     Austin  Dallas\n",
              "weekday                \n",
              "Mon         326     456\n",
              "Sun         139     237"
            ]
          },
          "metadata": {
            "tags": []
          },
          "execution_count": 137
        }
      ]
    },
    {
      "cell_type": "code",
      "metadata": {
        "id": "AbYHJUOrnka4",
        "colab_type": "code",
        "outputId": "adb0c203-167a-4795-efab-bd95500ba34f",
        "colab": {
          "base_uri": "https://localhost:8080/",
          "height": 106
        }
      },
      "source": [
        " visitors_unindexed = visitors_data_frame.reset_index()\n",
        " visitors_unindexed"
      ],
      "execution_count": 0,
      "outputs": [
        {
          "output_type": "execute_result",
          "data": {
            "text/html": [
              "<div>\n",
              "<style scoped>\n",
              "    .dataframe tbody tr th:only-of-type {\n",
              "        vertical-align: middle;\n",
              "    }\n",
              "\n",
              "    .dataframe tbody tr th {\n",
              "        vertical-align: top;\n",
              "    }\n",
              "\n",
              "    .dataframe thead th {\n",
              "        text-align: right;\n",
              "    }\n",
              "</style>\n",
              "<table border=\"1\" class=\"dataframe\">\n",
              "  <thead>\n",
              "    <tr style=\"text-align: right;\">\n",
              "      <th>city</th>\n",
              "      <th>weekday</th>\n",
              "      <th>Austin</th>\n",
              "      <th>Dallas</th>\n",
              "    </tr>\n",
              "  </thead>\n",
              "  <tbody>\n",
              "    <tr>\n",
              "      <th>0</th>\n",
              "      <td>Mon</td>\n",
              "      <td>326</td>\n",
              "      <td>456</td>\n",
              "    </tr>\n",
              "    <tr>\n",
              "      <th>1</th>\n",
              "      <td>Sun</td>\n",
              "      <td>139</td>\n",
              "      <td>237</td>\n",
              "    </tr>\n",
              "  </tbody>\n",
              "</table>\n",
              "</div>"
            ],
            "text/plain": [
              "city weekday  Austin  Dallas\n",
              "0        Mon     326     456\n",
              "1        Sun     139     237"
            ]
          },
          "metadata": {
            "tags": []
          },
          "execution_count": 139
        }
      ]
    },
    {
      "cell_type": "code",
      "metadata": {
        "id": "CHh7pG9Fn_Qx",
        "colab_type": "code",
        "outputId": "5bf04e7f-15ed-44ed-9a86-eac30e6c1188",
        "colab": {
          "base_uri": "https://localhost:8080/",
          "height": 225
        }
      },
      "source": [
        "visitors_melt_data_frame = pd.melt(visitors_unindexed)\n",
        "visitors_melt_data_frame"
      ],
      "execution_count": 0,
      "outputs": [
        {
          "output_type": "execute_result",
          "data": {
            "text/html": [
              "<div>\n",
              "<style scoped>\n",
              "    .dataframe tbody tr th:only-of-type {\n",
              "        vertical-align: middle;\n",
              "    }\n",
              "\n",
              "    .dataframe tbody tr th {\n",
              "        vertical-align: top;\n",
              "    }\n",
              "\n",
              "    .dataframe thead th {\n",
              "        text-align: right;\n",
              "    }\n",
              "</style>\n",
              "<table border=\"1\" class=\"dataframe\">\n",
              "  <thead>\n",
              "    <tr style=\"text-align: right;\">\n",
              "      <th></th>\n",
              "      <th>city</th>\n",
              "      <th>value</th>\n",
              "    </tr>\n",
              "  </thead>\n",
              "  <tbody>\n",
              "    <tr>\n",
              "      <th>0</th>\n",
              "      <td>weekday</td>\n",
              "      <td>Mon</td>\n",
              "    </tr>\n",
              "    <tr>\n",
              "      <th>1</th>\n",
              "      <td>weekday</td>\n",
              "      <td>Sun</td>\n",
              "    </tr>\n",
              "    <tr>\n",
              "      <th>2</th>\n",
              "      <td>Austin</td>\n",
              "      <td>326</td>\n",
              "    </tr>\n",
              "    <tr>\n",
              "      <th>3</th>\n",
              "      <td>Austin</td>\n",
              "      <td>139</td>\n",
              "    </tr>\n",
              "    <tr>\n",
              "      <th>4</th>\n",
              "      <td>Dallas</td>\n",
              "      <td>456</td>\n",
              "    </tr>\n",
              "    <tr>\n",
              "      <th>5</th>\n",
              "      <td>Dallas</td>\n",
              "      <td>237</td>\n",
              "    </tr>\n",
              "  </tbody>\n",
              "</table>\n",
              "</div>"
            ],
            "text/plain": [
              "      city value\n",
              "0  weekday   Mon\n",
              "1  weekday   Sun\n",
              "2   Austin   326\n",
              "3   Austin   139\n",
              "4   Dallas   456\n",
              "5   Dallas   237"
            ]
          },
          "metadata": {
            "tags": []
          },
          "execution_count": 140
        }
      ]
    },
    {
      "cell_type": "code",
      "metadata": {
        "id": "jx8Z0Q7woMwl",
        "colab_type": "code",
        "outputId": "3896ee05-2d44-4265-ea3a-b0b5cac80a9c",
        "colab": {
          "base_uri": "https://localhost:8080/",
          "height": 166
        }
      },
      "source": [
        "# we do not want the weekday to change \n",
        "visitors_melt_data_frame = pd.melt(visitors_unindexed, id_vars='weekday')\n",
        "visitors_melt_data_frame"
      ],
      "execution_count": 0,
      "outputs": [
        {
          "output_type": "execute_result",
          "data": {
            "text/html": [
              "<div>\n",
              "<style scoped>\n",
              "    .dataframe tbody tr th:only-of-type {\n",
              "        vertical-align: middle;\n",
              "    }\n",
              "\n",
              "    .dataframe tbody tr th {\n",
              "        vertical-align: top;\n",
              "    }\n",
              "\n",
              "    .dataframe thead th {\n",
              "        text-align: right;\n",
              "    }\n",
              "</style>\n",
              "<table border=\"1\" class=\"dataframe\">\n",
              "  <thead>\n",
              "    <tr style=\"text-align: right;\">\n",
              "      <th></th>\n",
              "      <th>weekday</th>\n",
              "      <th>city</th>\n",
              "      <th>value</th>\n",
              "    </tr>\n",
              "  </thead>\n",
              "  <tbody>\n",
              "    <tr>\n",
              "      <th>0</th>\n",
              "      <td>Mon</td>\n",
              "      <td>Austin</td>\n",
              "      <td>326</td>\n",
              "    </tr>\n",
              "    <tr>\n",
              "      <th>1</th>\n",
              "      <td>Sun</td>\n",
              "      <td>Austin</td>\n",
              "      <td>139</td>\n",
              "    </tr>\n",
              "    <tr>\n",
              "      <th>2</th>\n",
              "      <td>Mon</td>\n",
              "      <td>Dallas</td>\n",
              "      <td>456</td>\n",
              "    </tr>\n",
              "    <tr>\n",
              "      <th>3</th>\n",
              "      <td>Sun</td>\n",
              "      <td>Dallas</td>\n",
              "      <td>237</td>\n",
              "    </tr>\n",
              "  </tbody>\n",
              "</table>\n",
              "</div>"
            ],
            "text/plain": [
              "  weekday    city  value\n",
              "0     Mon  Austin    326\n",
              "1     Sun  Austin    139\n",
              "2     Mon  Dallas    456\n",
              "3     Sun  Dallas    237"
            ]
          },
          "metadata": {
            "tags": []
          },
          "execution_count": 143
        }
      ]
    },
    {
      "cell_type": "code",
      "metadata": {
        "id": "8wOHzO7qpYmu",
        "colab_type": "code",
        "outputId": "6ec3f9fe-6d8f-48ea-b637-64d1a9b11bc5",
        "colab": {
          "base_uri": "https://localhost:8080/",
          "height": 166
        }
      },
      "source": [
        "# to give the column name instead of value\n",
        "visitors_melt_data_frame = pd.melt(visitors_unindexed, id_vars='weekday', value_name='visitors')\n",
        "visitors_melt_data_frame.sort_index()"
      ],
      "execution_count": 0,
      "outputs": [
        {
          "output_type": "execute_result",
          "data": {
            "text/html": [
              "<div>\n",
              "<style scoped>\n",
              "    .dataframe tbody tr th:only-of-type {\n",
              "        vertical-align: middle;\n",
              "    }\n",
              "\n",
              "    .dataframe tbody tr th {\n",
              "        vertical-align: top;\n",
              "    }\n",
              "\n",
              "    .dataframe thead th {\n",
              "        text-align: right;\n",
              "    }\n",
              "</style>\n",
              "<table border=\"1\" class=\"dataframe\">\n",
              "  <thead>\n",
              "    <tr style=\"text-align: right;\">\n",
              "      <th></th>\n",
              "      <th>weekday</th>\n",
              "      <th>city</th>\n",
              "      <th>visitors</th>\n",
              "    </tr>\n",
              "  </thead>\n",
              "  <tbody>\n",
              "    <tr>\n",
              "      <th>0</th>\n",
              "      <td>Mon</td>\n",
              "      <td>Austin</td>\n",
              "      <td>326</td>\n",
              "    </tr>\n",
              "    <tr>\n",
              "      <th>1</th>\n",
              "      <td>Sun</td>\n",
              "      <td>Austin</td>\n",
              "      <td>139</td>\n",
              "    </tr>\n",
              "    <tr>\n",
              "      <th>2</th>\n",
              "      <td>Mon</td>\n",
              "      <td>Dallas</td>\n",
              "      <td>456</td>\n",
              "    </tr>\n",
              "    <tr>\n",
              "      <th>3</th>\n",
              "      <td>Sun</td>\n",
              "      <td>Dallas</td>\n",
              "      <td>237</td>\n",
              "    </tr>\n",
              "  </tbody>\n",
              "</table>\n",
              "</div>"
            ],
            "text/plain": [
              "  weekday    city  visitors\n",
              "0     Mon  Austin       326\n",
              "1     Sun  Austin       139\n",
              "2     Mon  Dallas       456\n",
              "3     Sun  Dallas       237"
            ]
          },
          "metadata": {
            "tags": []
          },
          "execution_count": 145
        }
      ]
    },
    {
      "cell_type": "markdown",
      "metadata": {
        "id": "N0p5xzo5s-i-",
        "colab_type": "text"
      },
      "source": [
        "### pivot table"
      ]
    },
    {
      "cell_type": "code",
      "metadata": {
        "id": "sOxfogR8tAs6",
        "colab_type": "code",
        "outputId": "f736dd75-45fe-481b-a480-8caf43bcbe8b",
        "colab": {
          "base_uri": "https://localhost:8080/",
          "height": 166
        }
      },
      "source": [
        "users_data_frame"
      ],
      "execution_count": 0,
      "outputs": [
        {
          "output_type": "execute_result",
          "data": {
            "text/html": [
              "<div>\n",
              "<style scoped>\n",
              "    .dataframe tbody tr th:only-of-type {\n",
              "        vertical-align: middle;\n",
              "    }\n",
              "\n",
              "    .dataframe tbody tr th {\n",
              "        vertical-align: top;\n",
              "    }\n",
              "\n",
              "    .dataframe thead th {\n",
              "        text-align: right;\n",
              "    }\n",
              "</style>\n",
              "<table border=\"1\" class=\"dataframe\">\n",
              "  <thead>\n",
              "    <tr style=\"text-align: right;\">\n",
              "      <th></th>\n",
              "      <th>weekday</th>\n",
              "      <th>city</th>\n",
              "      <th>visitors</th>\n",
              "      <th>signups</th>\n",
              "    </tr>\n",
              "  </thead>\n",
              "  <tbody>\n",
              "    <tr>\n",
              "      <th>0</th>\n",
              "      <td>Sun</td>\n",
              "      <td>Austin</td>\n",
              "      <td>139</td>\n",
              "      <td>7</td>\n",
              "    </tr>\n",
              "    <tr>\n",
              "      <th>1</th>\n",
              "      <td>Sun</td>\n",
              "      <td>Dallas</td>\n",
              "      <td>237</td>\n",
              "      <td>12</td>\n",
              "    </tr>\n",
              "    <tr>\n",
              "      <th>2</th>\n",
              "      <td>Mon</td>\n",
              "      <td>Austin</td>\n",
              "      <td>326</td>\n",
              "      <td>3</td>\n",
              "    </tr>\n",
              "    <tr>\n",
              "      <th>3</th>\n",
              "      <td>Mon</td>\n",
              "      <td>Dallas</td>\n",
              "      <td>456</td>\n",
              "      <td>5</td>\n",
              "    </tr>\n",
              "  </tbody>\n",
              "</table>\n",
              "</div>"
            ],
            "text/plain": [
              "  weekday    city  visitors  signups\n",
              "0     Sun  Austin       139        7\n",
              "1     Sun  Dallas       237       12\n",
              "2     Mon  Austin       326        3\n",
              "3     Mon  Dallas       456        5"
            ]
          },
          "metadata": {
            "tags": []
          },
          "execution_count": 146
        }
      ]
    },
    {
      "cell_type": "code",
      "metadata": {
        "id": "ahK7Yu1cwBys",
        "colab_type": "code",
        "outputId": "6f488c4f-e531-4cc0-be61-929c963592b0",
        "colab": {
          "base_uri": "https://localhost:8080/",
          "height": 166
        }
      },
      "source": [
        "city_weekday = users_data_frame.pivot_table(index='city', columns='weekday')\n",
        "city_weekday"
      ],
      "execution_count": 0,
      "outputs": [
        {
          "output_type": "execute_result",
          "data": {
            "text/html": [
              "<div>\n",
              "<style scoped>\n",
              "    .dataframe tbody tr th:only-of-type {\n",
              "        vertical-align: middle;\n",
              "    }\n",
              "\n",
              "    .dataframe tbody tr th {\n",
              "        vertical-align: top;\n",
              "    }\n",
              "\n",
              "    .dataframe thead tr th {\n",
              "        text-align: left;\n",
              "    }\n",
              "\n",
              "    .dataframe thead tr:last-of-type th {\n",
              "        text-align: right;\n",
              "    }\n",
              "</style>\n",
              "<table border=\"1\" class=\"dataframe\">\n",
              "  <thead>\n",
              "    <tr>\n",
              "      <th></th>\n",
              "      <th colspan=\"2\" halign=\"left\">signups</th>\n",
              "      <th colspan=\"2\" halign=\"left\">visitors</th>\n",
              "    </tr>\n",
              "    <tr>\n",
              "      <th>weekday</th>\n",
              "      <th>Mon</th>\n",
              "      <th>Sun</th>\n",
              "      <th>Mon</th>\n",
              "      <th>Sun</th>\n",
              "    </tr>\n",
              "    <tr>\n",
              "      <th>city</th>\n",
              "      <th></th>\n",
              "      <th></th>\n",
              "      <th></th>\n",
              "      <th></th>\n",
              "    </tr>\n",
              "  </thead>\n",
              "  <tbody>\n",
              "    <tr>\n",
              "      <th>Austin</th>\n",
              "      <td>3</td>\n",
              "      <td>7</td>\n",
              "      <td>326</td>\n",
              "      <td>139</td>\n",
              "    </tr>\n",
              "    <tr>\n",
              "      <th>Dallas</th>\n",
              "      <td>5</td>\n",
              "      <td>12</td>\n",
              "      <td>456</td>\n",
              "      <td>237</td>\n",
              "    </tr>\n",
              "  </tbody>\n",
              "</table>\n",
              "</div>"
            ],
            "text/plain": [
              "        signups     visitors     \n",
              "weekday     Mon Sun      Mon  Sun\n",
              "city                             \n",
              "Austin        3   7      326  139\n",
              "Dallas        5  12      456  237"
            ]
          },
          "metadata": {
            "tags": []
          },
          "execution_count": 149
        }
      ]
    },
    {
      "cell_type": "code",
      "metadata": {
        "id": "OSIVywwMwaJk",
        "colab_type": "code",
        "outputId": "f3b8c260-824f-4a57-ac77-a54be926ff26",
        "colab": {
          "base_uri": "https://localhost:8080/",
          "height": 166
        }
      },
      "source": [
        "city_weekday = users_data_frame.pivot_table(index='weekday', columns='city')\n",
        "city_weekday.sort_index()"
      ],
      "execution_count": 0,
      "outputs": [
        {
          "output_type": "execute_result",
          "data": {
            "text/html": [
              "<div>\n",
              "<style scoped>\n",
              "    .dataframe tbody tr th:only-of-type {\n",
              "        vertical-align: middle;\n",
              "    }\n",
              "\n",
              "    .dataframe tbody tr th {\n",
              "        vertical-align: top;\n",
              "    }\n",
              "\n",
              "    .dataframe thead tr th {\n",
              "        text-align: left;\n",
              "    }\n",
              "\n",
              "    .dataframe thead tr:last-of-type th {\n",
              "        text-align: right;\n",
              "    }\n",
              "</style>\n",
              "<table border=\"1\" class=\"dataframe\">\n",
              "  <thead>\n",
              "    <tr>\n",
              "      <th></th>\n",
              "      <th colspan=\"2\" halign=\"left\">signups</th>\n",
              "      <th colspan=\"2\" halign=\"left\">visitors</th>\n",
              "    </tr>\n",
              "    <tr>\n",
              "      <th>city</th>\n",
              "      <th>Austin</th>\n",
              "      <th>Dallas</th>\n",
              "      <th>Austin</th>\n",
              "      <th>Dallas</th>\n",
              "    </tr>\n",
              "    <tr>\n",
              "      <th>weekday</th>\n",
              "      <th></th>\n",
              "      <th></th>\n",
              "      <th></th>\n",
              "      <th></th>\n",
              "    </tr>\n",
              "  </thead>\n",
              "  <tbody>\n",
              "    <tr>\n",
              "      <th>Mon</th>\n",
              "      <td>3</td>\n",
              "      <td>5</td>\n",
              "      <td>326</td>\n",
              "      <td>456</td>\n",
              "    </tr>\n",
              "    <tr>\n",
              "      <th>Sun</th>\n",
              "      <td>7</td>\n",
              "      <td>12</td>\n",
              "      <td>139</td>\n",
              "      <td>237</td>\n",
              "    </tr>\n",
              "  </tbody>\n",
              "</table>\n",
              "</div>"
            ],
            "text/plain": [
              "        signups        visitors       \n",
              "city     Austin Dallas   Austin Dallas\n",
              "weekday                               \n",
              "Mon           3      5      326    456\n",
              "Sun           7     12      139    237"
            ]
          },
          "metadata": {
            "tags": []
          },
          "execution_count": 151
        }
      ]
    },
    {
      "cell_type": "code",
      "metadata": {
        "id": "VrRR8NqTxUt3",
        "colab_type": "code",
        "outputId": "c161e390-61a5-43b4-ab20-6d810d7becf0",
        "colab": {
          "base_uri": "https://localhost:8080/",
          "height": 195
        }
      },
      "source": [
        "#example to better understand the pivot table\n",
        "# to have a data frame to show the total number of visitors and signups\n",
        "signups_visitors = users_data_frame.pivot_table(index='weekday',columns='city', aggfunc=sum, margins=True)\n",
        "signups_visitors"
      ],
      "execution_count": 0,
      "outputs": [
        {
          "output_type": "execute_result",
          "data": {
            "text/html": [
              "<div>\n",
              "<style scoped>\n",
              "    .dataframe tbody tr th:only-of-type {\n",
              "        vertical-align: middle;\n",
              "    }\n",
              "\n",
              "    .dataframe tbody tr th {\n",
              "        vertical-align: top;\n",
              "    }\n",
              "\n",
              "    .dataframe thead tr th {\n",
              "        text-align: left;\n",
              "    }\n",
              "\n",
              "    .dataframe thead tr:last-of-type th {\n",
              "        text-align: right;\n",
              "    }\n",
              "</style>\n",
              "<table border=\"1\" class=\"dataframe\">\n",
              "  <thead>\n",
              "    <tr>\n",
              "      <th></th>\n",
              "      <th colspan=\"3\" halign=\"left\">signups</th>\n",
              "      <th colspan=\"3\" halign=\"left\">visitors</th>\n",
              "    </tr>\n",
              "    <tr>\n",
              "      <th>city</th>\n",
              "      <th>Austin</th>\n",
              "      <th>Dallas</th>\n",
              "      <th>All</th>\n",
              "      <th>Austin</th>\n",
              "      <th>Dallas</th>\n",
              "      <th>All</th>\n",
              "    </tr>\n",
              "    <tr>\n",
              "      <th>weekday</th>\n",
              "      <th></th>\n",
              "      <th></th>\n",
              "      <th></th>\n",
              "      <th></th>\n",
              "      <th></th>\n",
              "      <th></th>\n",
              "    </tr>\n",
              "  </thead>\n",
              "  <tbody>\n",
              "    <tr>\n",
              "      <th>Mon</th>\n",
              "      <td>3</td>\n",
              "      <td>5</td>\n",
              "      <td>8</td>\n",
              "      <td>326</td>\n",
              "      <td>456</td>\n",
              "      <td>782</td>\n",
              "    </tr>\n",
              "    <tr>\n",
              "      <th>Sun</th>\n",
              "      <td>7</td>\n",
              "      <td>12</td>\n",
              "      <td>19</td>\n",
              "      <td>139</td>\n",
              "      <td>237</td>\n",
              "      <td>376</td>\n",
              "    </tr>\n",
              "    <tr>\n",
              "      <th>All</th>\n",
              "      <td>10</td>\n",
              "      <td>17</td>\n",
              "      <td>27</td>\n",
              "      <td>465</td>\n",
              "      <td>693</td>\n",
              "      <td>1158</td>\n",
              "    </tr>\n",
              "  </tbody>\n",
              "</table>\n",
              "</div>"
            ],
            "text/plain": [
              "        signups            visitors             \n",
              "city     Austin Dallas All   Austin Dallas   All\n",
              "weekday                                         \n",
              "Mon           3      5   8      326    456   782\n",
              "Sun           7     12  19      139    237   376\n",
              "All          10     17  27      465    693  1158"
            ]
          },
          "metadata": {
            "tags": []
          },
          "execution_count": 153
        }
      ]
    },
    {
      "cell_type": "markdown",
      "metadata": {
        "id": "T_sWACT85noa",
        "colab_type": "text"
      },
      "source": [
        "### Using groupby()"
      ]
    },
    {
      "cell_type": "code",
      "metadata": {
        "id": "pt3AilWW5rYq",
        "colab_type": "code",
        "colab": {}
      },
      "source": [
        "titanic_data_frame = pd.read_csv('/content/gdrive/My Drive/datasets/titanic.csv', header=0)"
      ],
      "execution_count": 0,
      "outputs": []
    },
    {
      "cell_type": "code",
      "metadata": {
        "id": "iqujOxzADlF5",
        "colab_type": "code",
        "outputId": "fd07df31-d7ce-4869-e1f4-83b8fd8bcd9e",
        "colab": {
          "base_uri": "https://localhost:8080/",
          "height": 136
        }
      },
      "source": [
        "titanic_data_frame.head(3)"
      ],
      "execution_count": 0,
      "outputs": [
        {
          "output_type": "execute_result",
          "data": {
            "text/html": [
              "<div>\n",
              "<style scoped>\n",
              "    .dataframe tbody tr th:only-of-type {\n",
              "        vertical-align: middle;\n",
              "    }\n",
              "\n",
              "    .dataframe tbody tr th {\n",
              "        vertical-align: top;\n",
              "    }\n",
              "\n",
              "    .dataframe thead th {\n",
              "        text-align: right;\n",
              "    }\n",
              "</style>\n",
              "<table border=\"1\" class=\"dataframe\">\n",
              "  <thead>\n",
              "    <tr style=\"text-align: right;\">\n",
              "      <th></th>\n",
              "      <th>pclass</th>\n",
              "      <th>survived</th>\n",
              "      <th>name</th>\n",
              "      <th>sex</th>\n",
              "      <th>age</th>\n",
              "      <th>sibsp</th>\n",
              "      <th>parch</th>\n",
              "      <th>ticket</th>\n",
              "      <th>fare</th>\n",
              "      <th>cabin</th>\n",
              "      <th>embarked</th>\n",
              "      <th>boat</th>\n",
              "      <th>body</th>\n",
              "      <th>home.dest</th>\n",
              "    </tr>\n",
              "  </thead>\n",
              "  <tbody>\n",
              "    <tr>\n",
              "      <th>0</th>\n",
              "      <td>1</td>\n",
              "      <td>1</td>\n",
              "      <td>Allen, Miss. Elisabeth Walton</td>\n",
              "      <td>female</td>\n",
              "      <td>29.00</td>\n",
              "      <td>0</td>\n",
              "      <td>0</td>\n",
              "      <td>24160</td>\n",
              "      <td>211.3375</td>\n",
              "      <td>B5</td>\n",
              "      <td>S</td>\n",
              "      <td>2</td>\n",
              "      <td>NaN</td>\n",
              "      <td>St Louis, MO</td>\n",
              "    </tr>\n",
              "    <tr>\n",
              "      <th>1</th>\n",
              "      <td>1</td>\n",
              "      <td>1</td>\n",
              "      <td>Allison, Master. Hudson Trevor</td>\n",
              "      <td>male</td>\n",
              "      <td>0.92</td>\n",
              "      <td>1</td>\n",
              "      <td>2</td>\n",
              "      <td>113781</td>\n",
              "      <td>151.5500</td>\n",
              "      <td>C22 C26</td>\n",
              "      <td>S</td>\n",
              "      <td>11</td>\n",
              "      <td>NaN</td>\n",
              "      <td>Montreal, PQ / Chesterville, ON</td>\n",
              "    </tr>\n",
              "    <tr>\n",
              "      <th>2</th>\n",
              "      <td>1</td>\n",
              "      <td>0</td>\n",
              "      <td>Allison, Miss. Helen Loraine</td>\n",
              "      <td>female</td>\n",
              "      <td>2.00</td>\n",
              "      <td>1</td>\n",
              "      <td>2</td>\n",
              "      <td>113781</td>\n",
              "      <td>151.5500</td>\n",
              "      <td>C22 C26</td>\n",
              "      <td>S</td>\n",
              "      <td>NaN</td>\n",
              "      <td>NaN</td>\n",
              "      <td>Montreal, PQ / Chesterville, ON</td>\n",
              "    </tr>\n",
              "  </tbody>\n",
              "</table>\n",
              "</div>"
            ],
            "text/plain": [
              "   pclass  survived  ... body                        home.dest\n",
              "0       1         1  ...  NaN                     St Louis, MO\n",
              "1       1         1  ...  NaN  Montreal, PQ / Chesterville, ON\n",
              "2       1         0  ...  NaN  Montreal, PQ / Chesterville, ON\n",
              "\n",
              "[3 rows x 14 columns]"
            ]
          },
          "metadata": {
            "tags": []
          },
          "execution_count": 13
        }
      ]
    },
    {
      "cell_type": "code",
      "metadata": {
        "id": "IjjRqGhc56dy",
        "colab_type": "code",
        "outputId": "4655bb2d-6e66-438b-c0b5-4722fea10607",
        "colab": {
          "base_uri": "https://localhost:8080/",
          "height": 336
        }
      },
      "source": [
        "titanic_data_frame.info()"
      ],
      "execution_count": 0,
      "outputs": [
        {
          "output_type": "stream",
          "text": [
            "<class 'pandas.core.frame.DataFrame'>\n",
            "RangeIndex: 1309 entries, 0 to 1308\n",
            "Data columns (total 14 columns):\n",
            "pclass       1309 non-null int64\n",
            "survived     1309 non-null int64\n",
            "name         1309 non-null object\n",
            "sex          1309 non-null object\n",
            "age          1046 non-null float64\n",
            "sibsp        1309 non-null int64\n",
            "parch        1309 non-null int64\n",
            "ticket       1309 non-null object\n",
            "fare         1308 non-null float64\n",
            "cabin        295 non-null object\n",
            "embarked     1307 non-null object\n",
            "boat         486 non-null object\n",
            "body         121 non-null float64\n",
            "home.dest    745 non-null object\n",
            "dtypes: float64(3), int64(4), object(7)\n",
            "memory usage: 143.3+ KB\n"
          ],
          "name": "stdout"
        }
      ]
    },
    {
      "cell_type": "code",
      "metadata": {
        "id": "tzwbn9Od59wW",
        "colab_type": "code",
        "outputId": "1011f2ba-ab12-45b7-9f7b-4b04e9f91aa7",
        "colab": {
          "base_uri": "https://localhost:8080/",
          "height": 34
        }
      },
      "source": [
        "titanic_data_frame.shape"
      ],
      "execution_count": 0,
      "outputs": [
        {
          "output_type": "execute_result",
          "data": {
            "text/plain": [
              "(1309, 14)"
            ]
          },
          "metadata": {
            "tags": []
          },
          "execution_count": 6
        }
      ]
    },
    {
      "cell_type": "code",
      "metadata": {
        "id": "aiLBYvp0DPN0",
        "colab_type": "code",
        "outputId": "f4d81218-4226-4766-e528-692d9a7c1ab4",
        "colab": {
          "base_uri": "https://localhost:8080/",
          "height": 314
        }
      },
      "source": [
        "titanic_by_class = titanic_data_frame.groupby('pclass')\n",
        "titanic_by_class.head(3)                                    # in this case we got 3 rows of every pclass "
      ],
      "execution_count": 0,
      "outputs": [
        {
          "output_type": "execute_result",
          "data": {
            "text/html": [
              "<div>\n",
              "<style scoped>\n",
              "    .dataframe tbody tr th:only-of-type {\n",
              "        vertical-align: middle;\n",
              "    }\n",
              "\n",
              "    .dataframe tbody tr th {\n",
              "        vertical-align: top;\n",
              "    }\n",
              "\n",
              "    .dataframe thead th {\n",
              "        text-align: right;\n",
              "    }\n",
              "</style>\n",
              "<table border=\"1\" class=\"dataframe\">\n",
              "  <thead>\n",
              "    <tr style=\"text-align: right;\">\n",
              "      <th></th>\n",
              "      <th>pclass</th>\n",
              "      <th>survived</th>\n",
              "      <th>name</th>\n",
              "      <th>sex</th>\n",
              "      <th>age</th>\n",
              "      <th>sibsp</th>\n",
              "      <th>parch</th>\n",
              "      <th>ticket</th>\n",
              "      <th>fare</th>\n",
              "      <th>cabin</th>\n",
              "      <th>embarked</th>\n",
              "      <th>boat</th>\n",
              "      <th>body</th>\n",
              "      <th>home.dest</th>\n",
              "    </tr>\n",
              "  </thead>\n",
              "  <tbody>\n",
              "    <tr>\n",
              "      <th>0</th>\n",
              "      <td>1</td>\n",
              "      <td>1</td>\n",
              "      <td>Allen, Miss. Elisabeth Walton</td>\n",
              "      <td>female</td>\n",
              "      <td>29.00</td>\n",
              "      <td>0</td>\n",
              "      <td>0</td>\n",
              "      <td>24160</td>\n",
              "      <td>211.3375</td>\n",
              "      <td>B5</td>\n",
              "      <td>S</td>\n",
              "      <td>2</td>\n",
              "      <td>NaN</td>\n",
              "      <td>St Louis, MO</td>\n",
              "    </tr>\n",
              "    <tr>\n",
              "      <th>1</th>\n",
              "      <td>1</td>\n",
              "      <td>1</td>\n",
              "      <td>Allison, Master. Hudson Trevor</td>\n",
              "      <td>male</td>\n",
              "      <td>0.92</td>\n",
              "      <td>1</td>\n",
              "      <td>2</td>\n",
              "      <td>113781</td>\n",
              "      <td>151.5500</td>\n",
              "      <td>C22 C26</td>\n",
              "      <td>S</td>\n",
              "      <td>11</td>\n",
              "      <td>NaN</td>\n",
              "      <td>Montreal, PQ / Chesterville, ON</td>\n",
              "    </tr>\n",
              "    <tr>\n",
              "      <th>2</th>\n",
              "      <td>1</td>\n",
              "      <td>0</td>\n",
              "      <td>Allison, Miss. Helen Loraine</td>\n",
              "      <td>female</td>\n",
              "      <td>2.00</td>\n",
              "      <td>1</td>\n",
              "      <td>2</td>\n",
              "      <td>113781</td>\n",
              "      <td>151.5500</td>\n",
              "      <td>C22 C26</td>\n",
              "      <td>S</td>\n",
              "      <td>NaN</td>\n",
              "      <td>NaN</td>\n",
              "      <td>Montreal, PQ / Chesterville, ON</td>\n",
              "    </tr>\n",
              "    <tr>\n",
              "      <th>323</th>\n",
              "      <td>2</td>\n",
              "      <td>0</td>\n",
              "      <td>Abelson, Mr. Samuel</td>\n",
              "      <td>male</td>\n",
              "      <td>30.00</td>\n",
              "      <td>1</td>\n",
              "      <td>0</td>\n",
              "      <td>P/PP 3381</td>\n",
              "      <td>24.0000</td>\n",
              "      <td>NaN</td>\n",
              "      <td>C</td>\n",
              "      <td>NaN</td>\n",
              "      <td>NaN</td>\n",
              "      <td>Russia New York, NY</td>\n",
              "    </tr>\n",
              "    <tr>\n",
              "      <th>324</th>\n",
              "      <td>2</td>\n",
              "      <td>1</td>\n",
              "      <td>Abelson, Mrs. Samuel (Hannah Wizosky)</td>\n",
              "      <td>female</td>\n",
              "      <td>28.00</td>\n",
              "      <td>1</td>\n",
              "      <td>0</td>\n",
              "      <td>P/PP 3381</td>\n",
              "      <td>24.0000</td>\n",
              "      <td>NaN</td>\n",
              "      <td>C</td>\n",
              "      <td>10</td>\n",
              "      <td>NaN</td>\n",
              "      <td>Russia New York, NY</td>\n",
              "    </tr>\n",
              "    <tr>\n",
              "      <th>325</th>\n",
              "      <td>2</td>\n",
              "      <td>0</td>\n",
              "      <td>Aldworth, Mr. Charles Augustus</td>\n",
              "      <td>male</td>\n",
              "      <td>30.00</td>\n",
              "      <td>0</td>\n",
              "      <td>0</td>\n",
              "      <td>248744</td>\n",
              "      <td>13.0000</td>\n",
              "      <td>NaN</td>\n",
              "      <td>S</td>\n",
              "      <td>NaN</td>\n",
              "      <td>NaN</td>\n",
              "      <td>Bryn Mawr, PA, USA</td>\n",
              "    </tr>\n",
              "    <tr>\n",
              "      <th>600</th>\n",
              "      <td>3</td>\n",
              "      <td>0</td>\n",
              "      <td>Abbing, Mr. Anthony</td>\n",
              "      <td>male</td>\n",
              "      <td>42.00</td>\n",
              "      <td>0</td>\n",
              "      <td>0</td>\n",
              "      <td>C.A. 5547</td>\n",
              "      <td>7.5500</td>\n",
              "      <td>NaN</td>\n",
              "      <td>S</td>\n",
              "      <td>NaN</td>\n",
              "      <td>NaN</td>\n",
              "      <td>NaN</td>\n",
              "    </tr>\n",
              "    <tr>\n",
              "      <th>601</th>\n",
              "      <td>3</td>\n",
              "      <td>0</td>\n",
              "      <td>Abbott, Master. Eugene Joseph</td>\n",
              "      <td>male</td>\n",
              "      <td>13.00</td>\n",
              "      <td>0</td>\n",
              "      <td>2</td>\n",
              "      <td>C.A. 2673</td>\n",
              "      <td>20.2500</td>\n",
              "      <td>NaN</td>\n",
              "      <td>S</td>\n",
              "      <td>NaN</td>\n",
              "      <td>NaN</td>\n",
              "      <td>East Providence, RI</td>\n",
              "    </tr>\n",
              "    <tr>\n",
              "      <th>602</th>\n",
              "      <td>3</td>\n",
              "      <td>0</td>\n",
              "      <td>Abbott, Mr. Rossmore Edward</td>\n",
              "      <td>male</td>\n",
              "      <td>16.00</td>\n",
              "      <td>1</td>\n",
              "      <td>1</td>\n",
              "      <td>C.A. 2673</td>\n",
              "      <td>20.2500</td>\n",
              "      <td>NaN</td>\n",
              "      <td>S</td>\n",
              "      <td>NaN</td>\n",
              "      <td>190.0</td>\n",
              "      <td>East Providence, RI</td>\n",
              "    </tr>\n",
              "  </tbody>\n",
              "</table>\n",
              "</div>"
            ],
            "text/plain": [
              "     pclass  survived  ...   body                        home.dest\n",
              "0         1         1  ...    NaN                     St Louis, MO\n",
              "1         1         1  ...    NaN  Montreal, PQ / Chesterville, ON\n",
              "2         1         0  ...    NaN  Montreal, PQ / Chesterville, ON\n",
              "323       2         0  ...    NaN              Russia New York, NY\n",
              "324       2         1  ...    NaN              Russia New York, NY\n",
              "325       2         0  ...    NaN               Bryn Mawr, PA, USA\n",
              "600       3         0  ...    NaN                              NaN\n",
              "601       3         0  ...    NaN              East Providence, RI\n",
              "602       3         0  ...  190.0              East Providence, RI\n",
              "\n",
              "[9 rows x 14 columns]"
            ]
          },
          "metadata": {
            "tags": []
          },
          "execution_count": 23
        }
      ]
    },
    {
      "cell_type": "code",
      "metadata": {
        "id": "Iw_BVzYyEdwe",
        "colab_type": "code",
        "outputId": "d4238da1-c0c6-4113-b842-d2c67b2007a2",
        "colab": {
          "base_uri": "https://localhost:8080/",
          "height": 101
        }
      },
      "source": [
        "#calculating the number of survivers by class \n",
        "titanic_survived_by_class = titanic_by_class['survived'].count()\n",
        "titanic_survived_by_class"
      ],
      "execution_count": 0,
      "outputs": [
        {
          "output_type": "execute_result",
          "data": {
            "text/plain": [
              "pclass\n",
              "1    323\n",
              "2    277\n",
              "3    709\n",
              "Name: survived, dtype: int64"
            ]
          },
          "metadata": {
            "tags": []
          },
          "execution_count": 14
        }
      ]
    },
    {
      "cell_type": "code",
      "metadata": {
        "id": "qSjoqH52E_5n",
        "colab_type": "code",
        "outputId": "90403250-bf36-4a77-b133-adef79349d04",
        "colab": {
          "base_uri": "https://localhost:8080/",
          "height": 1000
        }
      },
      "source": [
        "#for accurate insights\n",
        "titanic_embarked_by_class = titanic_data_frame.groupby(['embarked','pclass'])\n",
        "titanic_embarked_by_class.head(3)"
      ],
      "execution_count": 0,
      "outputs": [
        {
          "output_type": "execute_result",
          "data": {
            "text/html": [
              "<div>\n",
              "<style scoped>\n",
              "    .dataframe tbody tr th:only-of-type {\n",
              "        vertical-align: middle;\n",
              "    }\n",
              "\n",
              "    .dataframe tbody tr th {\n",
              "        vertical-align: top;\n",
              "    }\n",
              "\n",
              "    .dataframe thead th {\n",
              "        text-align: right;\n",
              "    }\n",
              "</style>\n",
              "<table border=\"1\" class=\"dataframe\">\n",
              "  <thead>\n",
              "    <tr style=\"text-align: right;\">\n",
              "      <th></th>\n",
              "      <th>pclass</th>\n",
              "      <th>survived</th>\n",
              "      <th>name</th>\n",
              "      <th>sex</th>\n",
              "      <th>age</th>\n",
              "      <th>sibsp</th>\n",
              "      <th>parch</th>\n",
              "      <th>ticket</th>\n",
              "      <th>fare</th>\n",
              "      <th>cabin</th>\n",
              "      <th>embarked</th>\n",
              "      <th>boat</th>\n",
              "      <th>body</th>\n",
              "      <th>home.dest</th>\n",
              "    </tr>\n",
              "  </thead>\n",
              "  <tbody>\n",
              "    <tr>\n",
              "      <th>0</th>\n",
              "      <td>1</td>\n",
              "      <td>1</td>\n",
              "      <td>Allen, Miss. Elisabeth Walton</td>\n",
              "      <td>female</td>\n",
              "      <td>29.00</td>\n",
              "      <td>0</td>\n",
              "      <td>0</td>\n",
              "      <td>24160</td>\n",
              "      <td>211.3375</td>\n",
              "      <td>B5</td>\n",
              "      <td>S</td>\n",
              "      <td>2</td>\n",
              "      <td>NaN</td>\n",
              "      <td>St Louis, MO</td>\n",
              "    </tr>\n",
              "    <tr>\n",
              "      <th>1</th>\n",
              "      <td>1</td>\n",
              "      <td>1</td>\n",
              "      <td>Allison, Master. Hudson Trevor</td>\n",
              "      <td>male</td>\n",
              "      <td>0.92</td>\n",
              "      <td>1</td>\n",
              "      <td>2</td>\n",
              "      <td>113781</td>\n",
              "      <td>151.5500</td>\n",
              "      <td>C22 C26</td>\n",
              "      <td>S</td>\n",
              "      <td>11</td>\n",
              "      <td>NaN</td>\n",
              "      <td>Montreal, PQ / Chesterville, ON</td>\n",
              "    </tr>\n",
              "    <tr>\n",
              "      <th>2</th>\n",
              "      <td>1</td>\n",
              "      <td>0</td>\n",
              "      <td>Allison, Miss. Helen Loraine</td>\n",
              "      <td>female</td>\n",
              "      <td>2.00</td>\n",
              "      <td>1</td>\n",
              "      <td>2</td>\n",
              "      <td>113781</td>\n",
              "      <td>151.5500</td>\n",
              "      <td>C22 C26</td>\n",
              "      <td>S</td>\n",
              "      <td>NaN</td>\n",
              "      <td>NaN</td>\n",
              "      <td>Montreal, PQ / Chesterville, ON</td>\n",
              "    </tr>\n",
              "    <tr>\n",
              "      <th>9</th>\n",
              "      <td>1</td>\n",
              "      <td>0</td>\n",
              "      <td>Artagaveytia, Mr. Ramon</td>\n",
              "      <td>male</td>\n",
              "      <td>71.00</td>\n",
              "      <td>0</td>\n",
              "      <td>0</td>\n",
              "      <td>PC 17609</td>\n",
              "      <td>49.5042</td>\n",
              "      <td>NaN</td>\n",
              "      <td>C</td>\n",
              "      <td>NaN</td>\n",
              "      <td>22.0</td>\n",
              "      <td>Montevideo, Uruguay</td>\n",
              "    </tr>\n",
              "    <tr>\n",
              "      <th>10</th>\n",
              "      <td>1</td>\n",
              "      <td>0</td>\n",
              "      <td>Astor, Col. John Jacob</td>\n",
              "      <td>male</td>\n",
              "      <td>47.00</td>\n",
              "      <td>1</td>\n",
              "      <td>0</td>\n",
              "      <td>PC 17757</td>\n",
              "      <td>227.5250</td>\n",
              "      <td>C62 C64</td>\n",
              "      <td>C</td>\n",
              "      <td>NaN</td>\n",
              "      <td>124.0</td>\n",
              "      <td>New York, NY</td>\n",
              "    </tr>\n",
              "    <tr>\n",
              "      <th>11</th>\n",
              "      <td>1</td>\n",
              "      <td>1</td>\n",
              "      <td>Astor, Mrs. John Jacob (Madeleine Talmadge Force)</td>\n",
              "      <td>female</td>\n",
              "      <td>18.00</td>\n",
              "      <td>1</td>\n",
              "      <td>0</td>\n",
              "      <td>PC 17757</td>\n",
              "      <td>227.5250</td>\n",
              "      <td>C62 C64</td>\n",
              "      <td>C</td>\n",
              "      <td>4</td>\n",
              "      <td>NaN</td>\n",
              "      <td>New York, NY</td>\n",
              "    </tr>\n",
              "    <tr>\n",
              "      <th>168</th>\n",
              "      <td>1</td>\n",
              "      <td>1</td>\n",
              "      <td>Icard, Miss. Amelie</td>\n",
              "      <td>female</td>\n",
              "      <td>38.00</td>\n",
              "      <td>0</td>\n",
              "      <td>0</td>\n",
              "      <td>113572</td>\n",
              "      <td>80.0000</td>\n",
              "      <td>B28</td>\n",
              "      <td>NaN</td>\n",
              "      <td>6</td>\n",
              "      <td>NaN</td>\n",
              "      <td>NaN</td>\n",
              "    </tr>\n",
              "    <tr>\n",
              "      <th>206</th>\n",
              "      <td>1</td>\n",
              "      <td>0</td>\n",
              "      <td>Minahan, Dr. William Edward</td>\n",
              "      <td>male</td>\n",
              "      <td>44.00</td>\n",
              "      <td>2</td>\n",
              "      <td>0</td>\n",
              "      <td>19928</td>\n",
              "      <td>90.0000</td>\n",
              "      <td>C78</td>\n",
              "      <td>Q</td>\n",
              "      <td>NaN</td>\n",
              "      <td>230.0</td>\n",
              "      <td>Fond du Lac, WI</td>\n",
              "    </tr>\n",
              "    <tr>\n",
              "      <th>207</th>\n",
              "      <td>1</td>\n",
              "      <td>1</td>\n",
              "      <td>Minahan, Miss. Daisy E</td>\n",
              "      <td>female</td>\n",
              "      <td>33.00</td>\n",
              "      <td>1</td>\n",
              "      <td>0</td>\n",
              "      <td>19928</td>\n",
              "      <td>90.0000</td>\n",
              "      <td>C78</td>\n",
              "      <td>Q</td>\n",
              "      <td>14</td>\n",
              "      <td>NaN</td>\n",
              "      <td>Green Bay, WI</td>\n",
              "    </tr>\n",
              "    <tr>\n",
              "      <th>208</th>\n",
              "      <td>1</td>\n",
              "      <td>1</td>\n",
              "      <td>Minahan, Mrs. William Edward (Lillian E Thorpe)</td>\n",
              "      <td>female</td>\n",
              "      <td>37.00</td>\n",
              "      <td>1</td>\n",
              "      <td>0</td>\n",
              "      <td>19928</td>\n",
              "      <td>90.0000</td>\n",
              "      <td>C78</td>\n",
              "      <td>Q</td>\n",
              "      <td>14</td>\n",
              "      <td>NaN</td>\n",
              "      <td>Fond du Lac, WI</td>\n",
              "    </tr>\n",
              "    <tr>\n",
              "      <th>284</th>\n",
              "      <td>1</td>\n",
              "      <td>1</td>\n",
              "      <td>Stone, Mrs. George Nelson (Martha Evelyn)</td>\n",
              "      <td>female</td>\n",
              "      <td>62.00</td>\n",
              "      <td>0</td>\n",
              "      <td>0</td>\n",
              "      <td>113572</td>\n",
              "      <td>80.0000</td>\n",
              "      <td>B28</td>\n",
              "      <td>NaN</td>\n",
              "      <td>6</td>\n",
              "      <td>NaN</td>\n",
              "      <td>Cincinatti, OH</td>\n",
              "    </tr>\n",
              "    <tr>\n",
              "      <th>323</th>\n",
              "      <td>2</td>\n",
              "      <td>0</td>\n",
              "      <td>Abelson, Mr. Samuel</td>\n",
              "      <td>male</td>\n",
              "      <td>30.00</td>\n",
              "      <td>1</td>\n",
              "      <td>0</td>\n",
              "      <td>P/PP 3381</td>\n",
              "      <td>24.0000</td>\n",
              "      <td>NaN</td>\n",
              "      <td>C</td>\n",
              "      <td>NaN</td>\n",
              "      <td>NaN</td>\n",
              "      <td>Russia New York, NY</td>\n",
              "    </tr>\n",
              "    <tr>\n",
              "      <th>324</th>\n",
              "      <td>2</td>\n",
              "      <td>1</td>\n",
              "      <td>Abelson, Mrs. Samuel (Hannah Wizosky)</td>\n",
              "      <td>female</td>\n",
              "      <td>28.00</td>\n",
              "      <td>1</td>\n",
              "      <td>0</td>\n",
              "      <td>P/PP 3381</td>\n",
              "      <td>24.0000</td>\n",
              "      <td>NaN</td>\n",
              "      <td>C</td>\n",
              "      <td>10</td>\n",
              "      <td>NaN</td>\n",
              "      <td>Russia New York, NY</td>\n",
              "    </tr>\n",
              "    <tr>\n",
              "      <th>325</th>\n",
              "      <td>2</td>\n",
              "      <td>0</td>\n",
              "      <td>Aldworth, Mr. Charles Augustus</td>\n",
              "      <td>male</td>\n",
              "      <td>30.00</td>\n",
              "      <td>0</td>\n",
              "      <td>0</td>\n",
              "      <td>248744</td>\n",
              "      <td>13.0000</td>\n",
              "      <td>NaN</td>\n",
              "      <td>S</td>\n",
              "      <td>NaN</td>\n",
              "      <td>NaN</td>\n",
              "      <td>Bryn Mawr, PA, USA</td>\n",
              "    </tr>\n",
              "    <tr>\n",
              "      <th>326</th>\n",
              "      <td>2</td>\n",
              "      <td>0</td>\n",
              "      <td>Andrew, Mr. Edgardo Samuel</td>\n",
              "      <td>male</td>\n",
              "      <td>18.00</td>\n",
              "      <td>0</td>\n",
              "      <td>0</td>\n",
              "      <td>231945</td>\n",
              "      <td>11.5000</td>\n",
              "      <td>NaN</td>\n",
              "      <td>S</td>\n",
              "      <td>NaN</td>\n",
              "      <td>NaN</td>\n",
              "      <td>Buenos Aires, Argentina / New Jersey, NJ</td>\n",
              "    </tr>\n",
              "    <tr>\n",
              "      <th>327</th>\n",
              "      <td>2</td>\n",
              "      <td>0</td>\n",
              "      <td>Andrew, Mr. Frank Thomas</td>\n",
              "      <td>male</td>\n",
              "      <td>25.00</td>\n",
              "      <td>0</td>\n",
              "      <td>0</td>\n",
              "      <td>C.A. 34050</td>\n",
              "      <td>10.5000</td>\n",
              "      <td>NaN</td>\n",
              "      <td>S</td>\n",
              "      <td>NaN</td>\n",
              "      <td>NaN</td>\n",
              "      <td>Cornwall, England Houghton, MI</td>\n",
              "    </tr>\n",
              "    <tr>\n",
              "      <th>391</th>\n",
              "      <td>2</td>\n",
              "      <td>0</td>\n",
              "      <td>del Carlo, Mr. Sebastiano</td>\n",
              "      <td>male</td>\n",
              "      <td>29.00</td>\n",
              "      <td>1</td>\n",
              "      <td>0</td>\n",
              "      <td>SC/PARIS 2167</td>\n",
              "      <td>27.7208</td>\n",
              "      <td>NaN</td>\n",
              "      <td>C</td>\n",
              "      <td>NaN</td>\n",
              "      <td>295.0</td>\n",
              "      <td>Lucca, Italy / California</td>\n",
              "    </tr>\n",
              "    <tr>\n",
              "      <th>469</th>\n",
              "      <td>2</td>\n",
              "      <td>1</td>\n",
              "      <td>Keane, Miss. Nora A</td>\n",
              "      <td>female</td>\n",
              "      <td>NaN</td>\n",
              "      <td>0</td>\n",
              "      <td>0</td>\n",
              "      <td>226593</td>\n",
              "      <td>12.3500</td>\n",
              "      <td>E101</td>\n",
              "      <td>Q</td>\n",
              "      <td>10</td>\n",
              "      <td>NaN</td>\n",
              "      <td>Harrisburg, PA</td>\n",
              "    </tr>\n",
              "    <tr>\n",
              "      <th>470</th>\n",
              "      <td>2</td>\n",
              "      <td>0</td>\n",
              "      <td>Keane, Mr. Daniel</td>\n",
              "      <td>male</td>\n",
              "      <td>35.00</td>\n",
              "      <td>0</td>\n",
              "      <td>0</td>\n",
              "      <td>233734</td>\n",
              "      <td>12.3500</td>\n",
              "      <td>NaN</td>\n",
              "      <td>Q</td>\n",
              "      <td>NaN</td>\n",
              "      <td>NaN</td>\n",
              "      <td>NaN</td>\n",
              "    </tr>\n",
              "    <tr>\n",
              "      <th>472</th>\n",
              "      <td>2</td>\n",
              "      <td>0</td>\n",
              "      <td>Kirkland, Rev. Charles Leonard</td>\n",
              "      <td>male</td>\n",
              "      <td>57.00</td>\n",
              "      <td>0</td>\n",
              "      <td>0</td>\n",
              "      <td>219533</td>\n",
              "      <td>12.3500</td>\n",
              "      <td>NaN</td>\n",
              "      <td>Q</td>\n",
              "      <td>NaN</td>\n",
              "      <td>NaN</td>\n",
              "      <td>Glasgow / Bangor, ME</td>\n",
              "    </tr>\n",
              "    <tr>\n",
              "      <th>600</th>\n",
              "      <td>3</td>\n",
              "      <td>0</td>\n",
              "      <td>Abbing, Mr. Anthony</td>\n",
              "      <td>male</td>\n",
              "      <td>42.00</td>\n",
              "      <td>0</td>\n",
              "      <td>0</td>\n",
              "      <td>C.A. 5547</td>\n",
              "      <td>7.5500</td>\n",
              "      <td>NaN</td>\n",
              "      <td>S</td>\n",
              "      <td>NaN</td>\n",
              "      <td>NaN</td>\n",
              "      <td>NaN</td>\n",
              "    </tr>\n",
              "    <tr>\n",
              "      <th>601</th>\n",
              "      <td>3</td>\n",
              "      <td>0</td>\n",
              "      <td>Abbott, Master. Eugene Joseph</td>\n",
              "      <td>male</td>\n",
              "      <td>13.00</td>\n",
              "      <td>0</td>\n",
              "      <td>2</td>\n",
              "      <td>C.A. 2673</td>\n",
              "      <td>20.2500</td>\n",
              "      <td>NaN</td>\n",
              "      <td>S</td>\n",
              "      <td>NaN</td>\n",
              "      <td>NaN</td>\n",
              "      <td>East Providence, RI</td>\n",
              "    </tr>\n",
              "    <tr>\n",
              "      <th>602</th>\n",
              "      <td>3</td>\n",
              "      <td>0</td>\n",
              "      <td>Abbott, Mr. Rossmore Edward</td>\n",
              "      <td>male</td>\n",
              "      <td>16.00</td>\n",
              "      <td>1</td>\n",
              "      <td>1</td>\n",
              "      <td>C.A. 2673</td>\n",
              "      <td>20.2500</td>\n",
              "      <td>NaN</td>\n",
              "      <td>S</td>\n",
              "      <td>NaN</td>\n",
              "      <td>190.0</td>\n",
              "      <td>East Providence, RI</td>\n",
              "    </tr>\n",
              "    <tr>\n",
              "      <th>607</th>\n",
              "      <td>3</td>\n",
              "      <td>1</td>\n",
              "      <td>Abrahim, Mrs. Joseph (Sophie Halaut Easu)</td>\n",
              "      <td>female</td>\n",
              "      <td>18.00</td>\n",
              "      <td>0</td>\n",
              "      <td>0</td>\n",
              "      <td>2657</td>\n",
              "      <td>7.2292</td>\n",
              "      <td>NaN</td>\n",
              "      <td>C</td>\n",
              "      <td>C</td>\n",
              "      <td>NaN</td>\n",
              "      <td>Greensburg, PA</td>\n",
              "    </tr>\n",
              "    <tr>\n",
              "      <th>613</th>\n",
              "      <td>3</td>\n",
              "      <td>1</td>\n",
              "      <td>Albimona, Mr. Nassef Cassem</td>\n",
              "      <td>male</td>\n",
              "      <td>26.00</td>\n",
              "      <td>0</td>\n",
              "      <td>0</td>\n",
              "      <td>2699</td>\n",
              "      <td>18.7875</td>\n",
              "      <td>NaN</td>\n",
              "      <td>C</td>\n",
              "      <td>15</td>\n",
              "      <td>NaN</td>\n",
              "      <td>Syria Fredericksburg, VA</td>\n",
              "    </tr>\n",
              "    <tr>\n",
              "      <th>647</th>\n",
              "      <td>3</td>\n",
              "      <td>1</td>\n",
              "      <td>Assaf Khalil, Mrs. Mariana (\"Miriam\")</td>\n",
              "      <td>female</td>\n",
              "      <td>45.00</td>\n",
              "      <td>0</td>\n",
              "      <td>0</td>\n",
              "      <td>2696</td>\n",
              "      <td>7.2250</td>\n",
              "      <td>NaN</td>\n",
              "      <td>C</td>\n",
              "      <td>C</td>\n",
              "      <td>NaN</td>\n",
              "      <td>Ottawa, ON</td>\n",
              "    </tr>\n",
              "    <tr>\n",
              "      <th>667</th>\n",
              "      <td>3</td>\n",
              "      <td>0</td>\n",
              "      <td>Barry, Miss. Julia</td>\n",
              "      <td>female</td>\n",
              "      <td>27.00</td>\n",
              "      <td>0</td>\n",
              "      <td>0</td>\n",
              "      <td>330844</td>\n",
              "      <td>7.8792</td>\n",
              "      <td>NaN</td>\n",
              "      <td>Q</td>\n",
              "      <td>NaN</td>\n",
              "      <td>NaN</td>\n",
              "      <td>New York, NY</td>\n",
              "    </tr>\n",
              "    <tr>\n",
              "      <th>682</th>\n",
              "      <td>3</td>\n",
              "      <td>0</td>\n",
              "      <td>Bourke, Miss. Mary</td>\n",
              "      <td>female</td>\n",
              "      <td>NaN</td>\n",
              "      <td>0</td>\n",
              "      <td>2</td>\n",
              "      <td>364848</td>\n",
              "      <td>7.7500</td>\n",
              "      <td>NaN</td>\n",
              "      <td>Q</td>\n",
              "      <td>NaN</td>\n",
              "      <td>NaN</td>\n",
              "      <td>Ireland Chicago, IL</td>\n",
              "    </tr>\n",
              "    <tr>\n",
              "      <th>683</th>\n",
              "      <td>3</td>\n",
              "      <td>0</td>\n",
              "      <td>Bourke, Mr. John</td>\n",
              "      <td>male</td>\n",
              "      <td>40.00</td>\n",
              "      <td>1</td>\n",
              "      <td>1</td>\n",
              "      <td>364849</td>\n",
              "      <td>15.5000</td>\n",
              "      <td>NaN</td>\n",
              "      <td>Q</td>\n",
              "      <td>NaN</td>\n",
              "      <td>NaN</td>\n",
              "      <td>Ireland Chicago, IL</td>\n",
              "    </tr>\n",
              "  </tbody>\n",
              "</table>\n",
              "</div>"
            ],
            "text/plain": [
              "     pclass  survived  ...   body                                 home.dest\n",
              "0         1         1  ...    NaN                              St Louis, MO\n",
              "1         1         1  ...    NaN           Montreal, PQ / Chesterville, ON\n",
              "2         1         0  ...    NaN           Montreal, PQ / Chesterville, ON\n",
              "9         1         0  ...   22.0                       Montevideo, Uruguay\n",
              "10        1         0  ...  124.0                              New York, NY\n",
              "11        1         1  ...    NaN                              New York, NY\n",
              "168       1         1  ...    NaN                                       NaN\n",
              "206       1         0  ...  230.0                           Fond du Lac, WI\n",
              "207       1         1  ...    NaN                             Green Bay, WI\n",
              "208       1         1  ...    NaN                           Fond du Lac, WI\n",
              "284       1         1  ...    NaN                            Cincinatti, OH\n",
              "323       2         0  ...    NaN                       Russia New York, NY\n",
              "324       2         1  ...    NaN                       Russia New York, NY\n",
              "325       2         0  ...    NaN                        Bryn Mawr, PA, USA\n",
              "326       2         0  ...    NaN  Buenos Aires, Argentina / New Jersey, NJ\n",
              "327       2         0  ...    NaN            Cornwall, England Houghton, MI\n",
              "391       2         0  ...  295.0                 Lucca, Italy / California\n",
              "469       2         1  ...    NaN                            Harrisburg, PA\n",
              "470       2         0  ...    NaN                                       NaN\n",
              "472       2         0  ...    NaN                      Glasgow / Bangor, ME\n",
              "600       3         0  ...    NaN                                       NaN\n",
              "601       3         0  ...    NaN                       East Providence, RI\n",
              "602       3         0  ...  190.0                       East Providence, RI\n",
              "607       3         1  ...    NaN                            Greensburg, PA\n",
              "613       3         1  ...    NaN                  Syria Fredericksburg, VA\n",
              "647       3         1  ...    NaN                                Ottawa, ON\n",
              "667       3         0  ...    NaN                              New York, NY\n",
              "682       3         0  ...    NaN                       Ireland Chicago, IL\n",
              "683       3         0  ...    NaN                       Ireland Chicago, IL\n",
              "\n",
              "[29 rows x 14 columns]"
            ]
          },
          "metadata": {
            "tags": []
          },
          "execution_count": 15
        }
      ]
    },
    {
      "cell_type": "code",
      "metadata": {
        "id": "Dq5CK1nmFt2I",
        "colab_type": "code",
        "outputId": "4966637b-a5a8-45c2-dd83-0c614cfdf097",
        "colab": {
          "base_uri": "https://localhost:8080/",
          "height": 202
        }
      },
      "source": [
        "titanic_survived_by_class_and_embarked = titanic_embarked_by_class['survived'].count()\n",
        "titanic_survived_by_class_and_embarked                           "
      ],
      "execution_count": 0,
      "outputs": [
        {
          "output_type": "execute_result",
          "data": {
            "text/plain": [
              "embarked  pclass\n",
              "C         1         141\n",
              "          2          28\n",
              "          3         101\n",
              "Q         1           3\n",
              "          2           7\n",
              "          3         113\n",
              "S         1         177\n",
              "          2         242\n",
              "          3         495\n",
              "Name: survived, dtype: int64"
            ]
          },
          "metadata": {
            "tags": []
          },
          "execution_count": 16
        }
      ]
    },
    {
      "cell_type": "code",
      "metadata": {
        "id": "0xYL8RIILSeB",
        "colab_type": "code",
        "colab": {}
      },
      "source": [
        "# calculate the average fare and min age of each class \n",
        "fare_by_class = titanic_by_class[['fare', 'age']]\n",
        "aggerate_fare_age = fare_by_class.agg(['median','min'])"
      ],
      "execution_count": 0,
      "outputs": []
    },
    {
      "cell_type": "code",
      "metadata": {
        "id": "bEtRmdvmMZKB",
        "colab_type": "code",
        "outputId": "ff16cc61-3acb-446f-d12f-d26fa03ef765",
        "colab": {
          "base_uri": "https://localhost:8080/",
          "height": 195
        }
      },
      "source": [
        "aggerate_fare_age.head()"
      ],
      "execution_count": 0,
      "outputs": [
        {
          "output_type": "execute_result",
          "data": {
            "text/html": [
              "<div>\n",
              "<style scoped>\n",
              "    .dataframe tbody tr th:only-of-type {\n",
              "        vertical-align: middle;\n",
              "    }\n",
              "\n",
              "    .dataframe tbody tr th {\n",
              "        vertical-align: top;\n",
              "    }\n",
              "\n",
              "    .dataframe thead tr th {\n",
              "        text-align: left;\n",
              "    }\n",
              "\n",
              "    .dataframe thead tr:last-of-type th {\n",
              "        text-align: right;\n",
              "    }\n",
              "</style>\n",
              "<table border=\"1\" class=\"dataframe\">\n",
              "  <thead>\n",
              "    <tr>\n",
              "      <th></th>\n",
              "      <th colspan=\"2\" halign=\"left\">fare</th>\n",
              "      <th colspan=\"2\" halign=\"left\">age</th>\n",
              "    </tr>\n",
              "    <tr>\n",
              "      <th></th>\n",
              "      <th>median</th>\n",
              "      <th>min</th>\n",
              "      <th>median</th>\n",
              "      <th>min</th>\n",
              "    </tr>\n",
              "    <tr>\n",
              "      <th>pclass</th>\n",
              "      <th></th>\n",
              "      <th></th>\n",
              "      <th></th>\n",
              "      <th></th>\n",
              "    </tr>\n",
              "  </thead>\n",
              "  <tbody>\n",
              "    <tr>\n",
              "      <th>1</th>\n",
              "      <td>60.0000</td>\n",
              "      <td>0.0</td>\n",
              "      <td>39.0</td>\n",
              "      <td>0.92</td>\n",
              "    </tr>\n",
              "    <tr>\n",
              "      <th>2</th>\n",
              "      <td>15.0458</td>\n",
              "      <td>0.0</td>\n",
              "      <td>29.0</td>\n",
              "      <td>0.67</td>\n",
              "    </tr>\n",
              "    <tr>\n",
              "      <th>3</th>\n",
              "      <td>8.0500</td>\n",
              "      <td>0.0</td>\n",
              "      <td>24.0</td>\n",
              "      <td>0.17</td>\n",
              "    </tr>\n",
              "  </tbody>\n",
              "</table>\n",
              "</div>"
            ],
            "text/plain": [
              "           fare         age      \n",
              "         median  min median   min\n",
              "pclass                           \n",
              "1       60.0000  0.0   39.0  0.92\n",
              "2       15.0458  0.0   29.0  0.67\n",
              "3        8.0500  0.0   24.0  0.17"
            ]
          },
          "metadata": {
            "tags": []
          },
          "execution_count": 18
        }
      ]
    },
    {
      "cell_type": "code",
      "metadata": {
        "id": "u2PkrZNCMNnq",
        "colab_type": "code",
        "outputId": "bda3a193-626c-4a63-def1-cd1c198bce17",
        "colab": {
          "base_uri": "https://localhost:8080/",
          "height": 101
        }
      },
      "source": [
        "# to check the fare\n",
        "aggerate_fare_age.loc[:, ('fare','median')]"
      ],
      "execution_count": 0,
      "outputs": [
        {
          "output_type": "execute_result",
          "data": {
            "text/plain": [
              "pclass\n",
              "1    60.0000\n",
              "2    15.0458\n",
              "3     8.0500\n",
              "Name: (fare, median), dtype: float64"
            ]
          },
          "metadata": {
            "tags": []
          },
          "execution_count": 21
        }
      ]
    },
    {
      "cell_type": "code",
      "metadata": {
        "id": "BLM5IEPBPJ9v",
        "colab_type": "code",
        "colab": {
          "base_uri": "https://localhost:8080/",
          "height": 195
        },
        "outputId": "362b069c-eded-4eb8-ae42-00700479d390"
      },
      "source": [
        "titanic_data_frame.head()"
      ],
      "execution_count": 31,
      "outputs": [
        {
          "output_type": "execute_result",
          "data": {
            "text/html": [
              "<div>\n",
              "<style scoped>\n",
              "    .dataframe tbody tr th:only-of-type {\n",
              "        vertical-align: middle;\n",
              "    }\n",
              "\n",
              "    .dataframe tbody tr th {\n",
              "        vertical-align: top;\n",
              "    }\n",
              "\n",
              "    .dataframe thead th {\n",
              "        text-align: right;\n",
              "    }\n",
              "</style>\n",
              "<table border=\"1\" class=\"dataframe\">\n",
              "  <thead>\n",
              "    <tr style=\"text-align: right;\">\n",
              "      <th></th>\n",
              "      <th>pclass</th>\n",
              "      <th>embarked</th>\n",
              "      <th>survived</th>\n",
              "      <th>name</th>\n",
              "      <th>sex</th>\n",
              "      <th>age</th>\n",
              "      <th>sibsp</th>\n",
              "      <th>parch</th>\n",
              "      <th>ticket</th>\n",
              "      <th>fare</th>\n",
              "      <th>cabin</th>\n",
              "      <th>boat</th>\n",
              "      <th>body</th>\n",
              "      <th>home.dest</th>\n",
              "    </tr>\n",
              "  </thead>\n",
              "  <tbody>\n",
              "    <tr>\n",
              "      <th>0</th>\n",
              "      <td>1</td>\n",
              "      <td>S</td>\n",
              "      <td>1</td>\n",
              "      <td>Allen, Miss. Elisabeth Walton</td>\n",
              "      <td>female</td>\n",
              "      <td>29.00</td>\n",
              "      <td>0</td>\n",
              "      <td>0</td>\n",
              "      <td>24160</td>\n",
              "      <td>211.3375</td>\n",
              "      <td>B5</td>\n",
              "      <td>2</td>\n",
              "      <td>NaN</td>\n",
              "      <td>St Louis, MO</td>\n",
              "    </tr>\n",
              "    <tr>\n",
              "      <th>1</th>\n",
              "      <td>1</td>\n",
              "      <td>S</td>\n",
              "      <td>1</td>\n",
              "      <td>Allison, Master. Hudson Trevor</td>\n",
              "      <td>male</td>\n",
              "      <td>0.92</td>\n",
              "      <td>1</td>\n",
              "      <td>2</td>\n",
              "      <td>113781</td>\n",
              "      <td>151.5500</td>\n",
              "      <td>C22 C26</td>\n",
              "      <td>11</td>\n",
              "      <td>NaN</td>\n",
              "      <td>Montreal, PQ / Chesterville, ON</td>\n",
              "    </tr>\n",
              "    <tr>\n",
              "      <th>2</th>\n",
              "      <td>1</td>\n",
              "      <td>S</td>\n",
              "      <td>0</td>\n",
              "      <td>Allison, Miss. Helen Loraine</td>\n",
              "      <td>female</td>\n",
              "      <td>2.00</td>\n",
              "      <td>1</td>\n",
              "      <td>2</td>\n",
              "      <td>113781</td>\n",
              "      <td>151.5500</td>\n",
              "      <td>C22 C26</td>\n",
              "      <td>NaN</td>\n",
              "      <td>NaN</td>\n",
              "      <td>Montreal, PQ / Chesterville, ON</td>\n",
              "    </tr>\n",
              "    <tr>\n",
              "      <th>3</th>\n",
              "      <td>1</td>\n",
              "      <td>S</td>\n",
              "      <td>0</td>\n",
              "      <td>Allison, Mr. Hudson Joshua Creighton</td>\n",
              "      <td>male</td>\n",
              "      <td>30.00</td>\n",
              "      <td>1</td>\n",
              "      <td>2</td>\n",
              "      <td>113781</td>\n",
              "      <td>151.5500</td>\n",
              "      <td>C22 C26</td>\n",
              "      <td>NaN</td>\n",
              "      <td>135.0</td>\n",
              "      <td>Montreal, PQ / Chesterville, ON</td>\n",
              "    </tr>\n",
              "    <tr>\n",
              "      <th>4</th>\n",
              "      <td>1</td>\n",
              "      <td>S</td>\n",
              "      <td>0</td>\n",
              "      <td>Allison, Mrs. Hudson J C (Bessie Waldo Daniels)</td>\n",
              "      <td>female</td>\n",
              "      <td>25.00</td>\n",
              "      <td>1</td>\n",
              "      <td>2</td>\n",
              "      <td>113781</td>\n",
              "      <td>151.5500</td>\n",
              "      <td>C22 C26</td>\n",
              "      <td>NaN</td>\n",
              "      <td>NaN</td>\n",
              "      <td>Montreal, PQ / Chesterville, ON</td>\n",
              "    </tr>\n",
              "  </tbody>\n",
              "</table>\n",
              "</div>"
            ],
            "text/plain": [
              "   pclass embarked  survived  ... boat   body                        home.dest\n",
              "0       1        S         1  ...    2    NaN                     St Louis, MO\n",
              "1       1        S         1  ...   11    NaN  Montreal, PQ / Chesterville, ON\n",
              "2       1        S         0  ...  NaN    NaN  Montreal, PQ / Chesterville, ON\n",
              "3       1        S         0  ...  NaN  135.0  Montreal, PQ / Chesterville, ON\n",
              "4       1        S         0  ...  NaN    NaN  Montreal, PQ / Chesterville, ON\n",
              "\n",
              "[5 rows x 14 columns]"
            ]
          },
          "metadata": {
            "tags": []
          },
          "execution_count": 31
        }
      ]
    },
    {
      "cell_type": "code",
      "metadata": {
        "id": "pJln-R-dM4Vq",
        "colab_type": "code",
        "colab": {}
      },
      "source": [
        "titanic_indexed_class_embarked = titanic_data_frame.set_index(['pclass', 'embarked'])"
      ],
      "execution_count": 0,
      "outputs": []
    },
    {
      "cell_type": "code",
      "metadata": {
        "id": "QVyWBLyVPdqv",
        "colab_type": "code",
        "colab": {
          "base_uri": "https://localhost:8080/",
          "height": 225
        },
        "outputId": "977842b4-d4a7-4465-e263-2e79ace531de"
      },
      "source": [
        "titanic_indexed_class_embarked.head()"
      ],
      "execution_count": 38,
      "outputs": [
        {
          "output_type": "execute_result",
          "data": {
            "text/html": [
              "<div>\n",
              "<style scoped>\n",
              "    .dataframe tbody tr th:only-of-type {\n",
              "        vertical-align: middle;\n",
              "    }\n",
              "\n",
              "    .dataframe tbody tr th {\n",
              "        vertical-align: top;\n",
              "    }\n",
              "\n",
              "    .dataframe thead th {\n",
              "        text-align: right;\n",
              "    }\n",
              "</style>\n",
              "<table border=\"1\" class=\"dataframe\">\n",
              "  <thead>\n",
              "    <tr style=\"text-align: right;\">\n",
              "      <th></th>\n",
              "      <th></th>\n",
              "      <th>survived</th>\n",
              "      <th>name</th>\n",
              "      <th>sex</th>\n",
              "      <th>age</th>\n",
              "      <th>sibsp</th>\n",
              "      <th>parch</th>\n",
              "      <th>ticket</th>\n",
              "      <th>fare</th>\n",
              "      <th>cabin</th>\n",
              "      <th>boat</th>\n",
              "      <th>body</th>\n",
              "      <th>home.dest</th>\n",
              "    </tr>\n",
              "    <tr>\n",
              "      <th>pclass</th>\n",
              "      <th>embarked</th>\n",
              "      <th></th>\n",
              "      <th></th>\n",
              "      <th></th>\n",
              "      <th></th>\n",
              "      <th></th>\n",
              "      <th></th>\n",
              "      <th></th>\n",
              "      <th></th>\n",
              "      <th></th>\n",
              "      <th></th>\n",
              "      <th></th>\n",
              "      <th></th>\n",
              "    </tr>\n",
              "  </thead>\n",
              "  <tbody>\n",
              "    <tr>\n",
              "      <th rowspan=\"5\" valign=\"top\">1</th>\n",
              "      <th>S</th>\n",
              "      <td>1</td>\n",
              "      <td>Allen, Miss. Elisabeth Walton</td>\n",
              "      <td>female</td>\n",
              "      <td>29.00</td>\n",
              "      <td>0</td>\n",
              "      <td>0</td>\n",
              "      <td>24160</td>\n",
              "      <td>211.3375</td>\n",
              "      <td>B5</td>\n",
              "      <td>2</td>\n",
              "      <td>NaN</td>\n",
              "      <td>St Louis, MO</td>\n",
              "    </tr>\n",
              "    <tr>\n",
              "      <th>S</th>\n",
              "      <td>1</td>\n",
              "      <td>Allison, Master. Hudson Trevor</td>\n",
              "      <td>male</td>\n",
              "      <td>0.92</td>\n",
              "      <td>1</td>\n",
              "      <td>2</td>\n",
              "      <td>113781</td>\n",
              "      <td>151.5500</td>\n",
              "      <td>C22 C26</td>\n",
              "      <td>11</td>\n",
              "      <td>NaN</td>\n",
              "      <td>Montreal, PQ / Chesterville, ON</td>\n",
              "    </tr>\n",
              "    <tr>\n",
              "      <th>S</th>\n",
              "      <td>0</td>\n",
              "      <td>Allison, Miss. Helen Loraine</td>\n",
              "      <td>female</td>\n",
              "      <td>2.00</td>\n",
              "      <td>1</td>\n",
              "      <td>2</td>\n",
              "      <td>113781</td>\n",
              "      <td>151.5500</td>\n",
              "      <td>C22 C26</td>\n",
              "      <td>NaN</td>\n",
              "      <td>NaN</td>\n",
              "      <td>Montreal, PQ / Chesterville, ON</td>\n",
              "    </tr>\n",
              "    <tr>\n",
              "      <th>S</th>\n",
              "      <td>0</td>\n",
              "      <td>Allison, Mr. Hudson Joshua Creighton</td>\n",
              "      <td>male</td>\n",
              "      <td>30.00</td>\n",
              "      <td>1</td>\n",
              "      <td>2</td>\n",
              "      <td>113781</td>\n",
              "      <td>151.5500</td>\n",
              "      <td>C22 C26</td>\n",
              "      <td>NaN</td>\n",
              "      <td>135.0</td>\n",
              "      <td>Montreal, PQ / Chesterville, ON</td>\n",
              "    </tr>\n",
              "    <tr>\n",
              "      <th>S</th>\n",
              "      <td>0</td>\n",
              "      <td>Allison, Mrs. Hudson J C (Bessie Waldo Daniels)</td>\n",
              "      <td>female</td>\n",
              "      <td>25.00</td>\n",
              "      <td>1</td>\n",
              "      <td>2</td>\n",
              "      <td>113781</td>\n",
              "      <td>151.5500</td>\n",
              "      <td>C22 C26</td>\n",
              "      <td>NaN</td>\n",
              "      <td>NaN</td>\n",
              "      <td>Montreal, PQ / Chesterville, ON</td>\n",
              "    </tr>\n",
              "  </tbody>\n",
              "</table>\n",
              "</div>"
            ],
            "text/plain": [
              "                 survived  ...                        home.dest\n",
              "pclass embarked            ...                                 \n",
              "1      S                1  ...                     St Louis, MO\n",
              "       S                1  ...  Montreal, PQ / Chesterville, ON\n",
              "       S                0  ...  Montreal, PQ / Chesterville, ON\n",
              "       S                0  ...  Montreal, PQ / Chesterville, ON\n",
              "       S                0  ...  Montreal, PQ / Chesterville, ON\n",
              "\n",
              "[5 rows x 12 columns]"
            ]
          },
          "metadata": {
            "tags": []
          },
          "execution_count": 38
        }
      ]
    },
    {
      "cell_type": "code",
      "metadata": {
        "id": "1e3C6CcDPiRX",
        "colab_type": "code",
        "colab": {}
      },
      "source": [
        "by_class = titanic_indexed_class_embarked.groupby(level='pclass')"
      ],
      "execution_count": 0,
      "outputs": []
    },
    {
      "cell_type": "code",
      "metadata": {
        "id": "LtLeAZwgP5pw",
        "colab_type": "code",
        "colab": {
          "base_uri": "https://localhost:8080/",
          "height": 521
        },
        "outputId": "4c873ba3-3a46-4753-9745-ffd755dc8a68"
      },
      "source": [
        "by_class.head()"
      ],
      "execution_count": 37,
      "outputs": [
        {
          "output_type": "execute_result",
          "data": {
            "text/html": [
              "<div>\n",
              "<style scoped>\n",
              "    .dataframe tbody tr th:only-of-type {\n",
              "        vertical-align: middle;\n",
              "    }\n",
              "\n",
              "    .dataframe tbody tr th {\n",
              "        vertical-align: top;\n",
              "    }\n",
              "\n",
              "    .dataframe thead th {\n",
              "        text-align: right;\n",
              "    }\n",
              "</style>\n",
              "<table border=\"1\" class=\"dataframe\">\n",
              "  <thead>\n",
              "    <tr style=\"text-align: right;\">\n",
              "      <th></th>\n",
              "      <th></th>\n",
              "      <th>survived</th>\n",
              "      <th>name</th>\n",
              "      <th>sex</th>\n",
              "      <th>age</th>\n",
              "      <th>sibsp</th>\n",
              "      <th>parch</th>\n",
              "      <th>ticket</th>\n",
              "      <th>fare</th>\n",
              "      <th>cabin</th>\n",
              "      <th>boat</th>\n",
              "      <th>body</th>\n",
              "      <th>home.dest</th>\n",
              "    </tr>\n",
              "    <tr>\n",
              "      <th>pclass</th>\n",
              "      <th>embarked</th>\n",
              "      <th></th>\n",
              "      <th></th>\n",
              "      <th></th>\n",
              "      <th></th>\n",
              "      <th></th>\n",
              "      <th></th>\n",
              "      <th></th>\n",
              "      <th></th>\n",
              "      <th></th>\n",
              "      <th></th>\n",
              "      <th></th>\n",
              "      <th></th>\n",
              "    </tr>\n",
              "  </thead>\n",
              "  <tbody>\n",
              "    <tr>\n",
              "      <th rowspan=\"5\" valign=\"top\">1</th>\n",
              "      <th>S</th>\n",
              "      <td>1</td>\n",
              "      <td>Allen, Miss. Elisabeth Walton</td>\n",
              "      <td>female</td>\n",
              "      <td>29.00</td>\n",
              "      <td>0</td>\n",
              "      <td>0</td>\n",
              "      <td>24160</td>\n",
              "      <td>211.3375</td>\n",
              "      <td>B5</td>\n",
              "      <td>2</td>\n",
              "      <td>NaN</td>\n",
              "      <td>St Louis, MO</td>\n",
              "    </tr>\n",
              "    <tr>\n",
              "      <th>S</th>\n",
              "      <td>1</td>\n",
              "      <td>Allison, Master. Hudson Trevor</td>\n",
              "      <td>male</td>\n",
              "      <td>0.92</td>\n",
              "      <td>1</td>\n",
              "      <td>2</td>\n",
              "      <td>113781</td>\n",
              "      <td>151.5500</td>\n",
              "      <td>C22 C26</td>\n",
              "      <td>11</td>\n",
              "      <td>NaN</td>\n",
              "      <td>Montreal, PQ / Chesterville, ON</td>\n",
              "    </tr>\n",
              "    <tr>\n",
              "      <th>S</th>\n",
              "      <td>0</td>\n",
              "      <td>Allison, Miss. Helen Loraine</td>\n",
              "      <td>female</td>\n",
              "      <td>2.00</td>\n",
              "      <td>1</td>\n",
              "      <td>2</td>\n",
              "      <td>113781</td>\n",
              "      <td>151.5500</td>\n",
              "      <td>C22 C26</td>\n",
              "      <td>NaN</td>\n",
              "      <td>NaN</td>\n",
              "      <td>Montreal, PQ / Chesterville, ON</td>\n",
              "    </tr>\n",
              "    <tr>\n",
              "      <th>S</th>\n",
              "      <td>0</td>\n",
              "      <td>Allison, Mr. Hudson Joshua Creighton</td>\n",
              "      <td>male</td>\n",
              "      <td>30.00</td>\n",
              "      <td>1</td>\n",
              "      <td>2</td>\n",
              "      <td>113781</td>\n",
              "      <td>151.5500</td>\n",
              "      <td>C22 C26</td>\n",
              "      <td>NaN</td>\n",
              "      <td>135.0</td>\n",
              "      <td>Montreal, PQ / Chesterville, ON</td>\n",
              "    </tr>\n",
              "    <tr>\n",
              "      <th>S</th>\n",
              "      <td>0</td>\n",
              "      <td>Allison, Mrs. Hudson J C (Bessie Waldo Daniels)</td>\n",
              "      <td>female</td>\n",
              "      <td>25.00</td>\n",
              "      <td>1</td>\n",
              "      <td>2</td>\n",
              "      <td>113781</td>\n",
              "      <td>151.5500</td>\n",
              "      <td>C22 C26</td>\n",
              "      <td>NaN</td>\n",
              "      <td>NaN</td>\n",
              "      <td>Montreal, PQ / Chesterville, ON</td>\n",
              "    </tr>\n",
              "    <tr>\n",
              "      <th rowspan=\"5\" valign=\"top\">2</th>\n",
              "      <th>C</th>\n",
              "      <td>0</td>\n",
              "      <td>Abelson, Mr. Samuel</td>\n",
              "      <td>male</td>\n",
              "      <td>30.00</td>\n",
              "      <td>1</td>\n",
              "      <td>0</td>\n",
              "      <td>P/PP 3381</td>\n",
              "      <td>24.0000</td>\n",
              "      <td>NaN</td>\n",
              "      <td>NaN</td>\n",
              "      <td>NaN</td>\n",
              "      <td>Russia New York, NY</td>\n",
              "    </tr>\n",
              "    <tr>\n",
              "      <th>C</th>\n",
              "      <td>1</td>\n",
              "      <td>Abelson, Mrs. Samuel (Hannah Wizosky)</td>\n",
              "      <td>female</td>\n",
              "      <td>28.00</td>\n",
              "      <td>1</td>\n",
              "      <td>0</td>\n",
              "      <td>P/PP 3381</td>\n",
              "      <td>24.0000</td>\n",
              "      <td>NaN</td>\n",
              "      <td>10</td>\n",
              "      <td>NaN</td>\n",
              "      <td>Russia New York, NY</td>\n",
              "    </tr>\n",
              "    <tr>\n",
              "      <th>S</th>\n",
              "      <td>0</td>\n",
              "      <td>Aldworth, Mr. Charles Augustus</td>\n",
              "      <td>male</td>\n",
              "      <td>30.00</td>\n",
              "      <td>0</td>\n",
              "      <td>0</td>\n",
              "      <td>248744</td>\n",
              "      <td>13.0000</td>\n",
              "      <td>NaN</td>\n",
              "      <td>NaN</td>\n",
              "      <td>NaN</td>\n",
              "      <td>Bryn Mawr, PA, USA</td>\n",
              "    </tr>\n",
              "    <tr>\n",
              "      <th>S</th>\n",
              "      <td>0</td>\n",
              "      <td>Andrew, Mr. Edgardo Samuel</td>\n",
              "      <td>male</td>\n",
              "      <td>18.00</td>\n",
              "      <td>0</td>\n",
              "      <td>0</td>\n",
              "      <td>231945</td>\n",
              "      <td>11.5000</td>\n",
              "      <td>NaN</td>\n",
              "      <td>NaN</td>\n",
              "      <td>NaN</td>\n",
              "      <td>Buenos Aires, Argentina / New Jersey, NJ</td>\n",
              "    </tr>\n",
              "    <tr>\n",
              "      <th>S</th>\n",
              "      <td>0</td>\n",
              "      <td>Andrew, Mr. Frank Thomas</td>\n",
              "      <td>male</td>\n",
              "      <td>25.00</td>\n",
              "      <td>0</td>\n",
              "      <td>0</td>\n",
              "      <td>C.A. 34050</td>\n",
              "      <td>10.5000</td>\n",
              "      <td>NaN</td>\n",
              "      <td>NaN</td>\n",
              "      <td>NaN</td>\n",
              "      <td>Cornwall, England Houghton, MI</td>\n",
              "    </tr>\n",
              "    <tr>\n",
              "      <th rowspan=\"5\" valign=\"top\">3</th>\n",
              "      <th>S</th>\n",
              "      <td>0</td>\n",
              "      <td>Abbing, Mr. Anthony</td>\n",
              "      <td>male</td>\n",
              "      <td>42.00</td>\n",
              "      <td>0</td>\n",
              "      <td>0</td>\n",
              "      <td>C.A. 5547</td>\n",
              "      <td>7.5500</td>\n",
              "      <td>NaN</td>\n",
              "      <td>NaN</td>\n",
              "      <td>NaN</td>\n",
              "      <td>NaN</td>\n",
              "    </tr>\n",
              "    <tr>\n",
              "      <th>S</th>\n",
              "      <td>0</td>\n",
              "      <td>Abbott, Master. Eugene Joseph</td>\n",
              "      <td>male</td>\n",
              "      <td>13.00</td>\n",
              "      <td>0</td>\n",
              "      <td>2</td>\n",
              "      <td>C.A. 2673</td>\n",
              "      <td>20.2500</td>\n",
              "      <td>NaN</td>\n",
              "      <td>NaN</td>\n",
              "      <td>NaN</td>\n",
              "      <td>East Providence, RI</td>\n",
              "    </tr>\n",
              "    <tr>\n",
              "      <th>S</th>\n",
              "      <td>0</td>\n",
              "      <td>Abbott, Mr. Rossmore Edward</td>\n",
              "      <td>male</td>\n",
              "      <td>16.00</td>\n",
              "      <td>1</td>\n",
              "      <td>1</td>\n",
              "      <td>C.A. 2673</td>\n",
              "      <td>20.2500</td>\n",
              "      <td>NaN</td>\n",
              "      <td>NaN</td>\n",
              "      <td>190.0</td>\n",
              "      <td>East Providence, RI</td>\n",
              "    </tr>\n",
              "    <tr>\n",
              "      <th>S</th>\n",
              "      <td>1</td>\n",
              "      <td>Abbott, Mrs. Stanton (Rosa Hunt)</td>\n",
              "      <td>female</td>\n",
              "      <td>35.00</td>\n",
              "      <td>1</td>\n",
              "      <td>1</td>\n",
              "      <td>C.A. 2673</td>\n",
              "      <td>20.2500</td>\n",
              "      <td>NaN</td>\n",
              "      <td>A</td>\n",
              "      <td>NaN</td>\n",
              "      <td>East Providence, RI</td>\n",
              "    </tr>\n",
              "    <tr>\n",
              "      <th>S</th>\n",
              "      <td>1</td>\n",
              "      <td>Abelseth, Miss. Karen Marie</td>\n",
              "      <td>female</td>\n",
              "      <td>16.00</td>\n",
              "      <td>0</td>\n",
              "      <td>0</td>\n",
              "      <td>348125</td>\n",
              "      <td>7.6500</td>\n",
              "      <td>NaN</td>\n",
              "      <td>16</td>\n",
              "      <td>NaN</td>\n",
              "      <td>Norway Los Angeles, CA</td>\n",
              "    </tr>\n",
              "  </tbody>\n",
              "</table>\n",
              "</div>"
            ],
            "text/plain": [
              "                 survived  ...                                 home.dest\n",
              "pclass embarked            ...                                          \n",
              "1      S                1  ...                              St Louis, MO\n",
              "       S                1  ...           Montreal, PQ / Chesterville, ON\n",
              "       S                0  ...           Montreal, PQ / Chesterville, ON\n",
              "       S                0  ...           Montreal, PQ / Chesterville, ON\n",
              "       S                0  ...           Montreal, PQ / Chesterville, ON\n",
              "2      C                0  ...                       Russia New York, NY\n",
              "       C                1  ...                       Russia New York, NY\n",
              "       S                0  ...                        Bryn Mawr, PA, USA\n",
              "       S                0  ...  Buenos Aires, Argentina / New Jersey, NJ\n",
              "       S                0  ...            Cornwall, England Houghton, MI\n",
              "3      S                0  ...                                       NaN\n",
              "       S                0  ...                       East Providence, RI\n",
              "       S                0  ...                       East Providence, RI\n",
              "       S                1  ...                       East Providence, RI\n",
              "       S                1  ...                    Norway Los Angeles, CA\n",
              "\n",
              "[15 rows x 12 columns]"
            ]
          },
          "metadata": {
            "tags": []
          },
          "execution_count": 37
        }
      ]
    },
    {
      "cell_type": "code",
      "metadata": {
        "id": "8drwAMEdQ-PZ",
        "colab_type": "code",
        "colab": {}
      },
      "source": [
        "total_fare_collected = by_class.agg({'fare':'sum'})"
      ],
      "execution_count": 0,
      "outputs": []
    },
    {
      "cell_type": "code",
      "metadata": {
        "id": "_botCnVQRJA_",
        "colab_type": "code",
        "colab": {
          "base_uri": "https://localhost:8080/",
          "height": 166
        },
        "outputId": "58309d76-d91d-4e37-cdf2-5e11690a1615"
      },
      "source": [
        "total_fare_collected"
      ],
      "execution_count": 41,
      "outputs": [
        {
          "output_type": "execute_result",
          "data": {
            "text/html": [
              "<div>\n",
              "<style scoped>\n",
              "    .dataframe tbody tr th:only-of-type {\n",
              "        vertical-align: middle;\n",
              "    }\n",
              "\n",
              "    .dataframe tbody tr th {\n",
              "        vertical-align: top;\n",
              "    }\n",
              "\n",
              "    .dataframe thead th {\n",
              "        text-align: right;\n",
              "    }\n",
              "</style>\n",
              "<table border=\"1\" class=\"dataframe\">\n",
              "  <thead>\n",
              "    <tr style=\"text-align: right;\">\n",
              "      <th></th>\n",
              "      <th>fare</th>\n",
              "    </tr>\n",
              "    <tr>\n",
              "      <th>pclass</th>\n",
              "      <th></th>\n",
              "    </tr>\n",
              "  </thead>\n",
              "  <tbody>\n",
              "    <tr>\n",
              "      <th>1</th>\n",
              "      <td>28265.4043</td>\n",
              "    </tr>\n",
              "    <tr>\n",
              "      <th>2</th>\n",
              "      <td>5866.6374</td>\n",
              "    </tr>\n",
              "    <tr>\n",
              "      <th>3</th>\n",
              "      <td>9418.4452</td>\n",
              "    </tr>\n",
              "  </tbody>\n",
              "</table>\n",
              "</div>"
            ],
            "text/plain": [
              "              fare\n",
              "pclass            \n",
              "1       28265.4043\n",
              "2        5866.6374\n",
              "3        9418.4452"
            ]
          },
          "metadata": {
            "tags": []
          },
          "execution_count": 41
        }
      ]
    },
    {
      "cell_type": "markdown",
      "metadata": {
        "id": "PPcybulWUZFv",
        "colab_type": "text"
      },
      "source": [
        "### Using groupby() in datetime indexs"
      ]
    },
    {
      "cell_type": "code",
      "metadata": {
        "id": "nxjC7sviUewy",
        "colab_type": "code",
        "colab": {}
      },
      "source": [
        "feb_sales_2015 = pd.read_csv('/content/gdrive/My Drive/datasets/sales/sales-feb-2015.csv', header=0, index_col='Date', parse_dates=True)"
      ],
      "execution_count": 0,
      "outputs": []
    },
    {
      "cell_type": "code",
      "metadata": {
        "id": "6Oc5uKlfU9gP",
        "colab_type": "code",
        "colab": {}
      },
      "source": [
        "feb_sales_2015.sort_index(inplace=True)"
      ],
      "execution_count": 0,
      "outputs": []
    },
    {
      "cell_type": "code",
      "metadata": {
        "id": "LyFMFoRjVDcJ",
        "colab_type": "code",
        "colab": {
          "base_uri": "https://localhost:8080/",
          "height": 225
        },
        "outputId": "1e45e1d8-4274-4b1b-eaaa-5c4addbdf3f0"
      },
      "source": [
        "feb_sales_2015.head()"
      ],
      "execution_count": 57,
      "outputs": [
        {
          "output_type": "execute_result",
          "data": {
            "text/html": [
              "<div>\n",
              "<style scoped>\n",
              "    .dataframe tbody tr th:only-of-type {\n",
              "        vertical-align: middle;\n",
              "    }\n",
              "\n",
              "    .dataframe tbody tr th {\n",
              "        vertical-align: top;\n",
              "    }\n",
              "\n",
              "    .dataframe thead th {\n",
              "        text-align: right;\n",
              "    }\n",
              "</style>\n",
              "<table border=\"1\" class=\"dataframe\">\n",
              "  <thead>\n",
              "    <tr style=\"text-align: right;\">\n",
              "      <th></th>\n",
              "      <th>Company</th>\n",
              "      <th>Product</th>\n",
              "      <th>Units</th>\n",
              "    </tr>\n",
              "    <tr>\n",
              "      <th>Date</th>\n",
              "      <th></th>\n",
              "      <th></th>\n",
              "      <th></th>\n",
              "    </tr>\n",
              "  </thead>\n",
              "  <tbody>\n",
              "    <tr>\n",
              "      <th>2015-02-02 08:33:01</th>\n",
              "      <td>Hooli</td>\n",
              "      <td>Software</td>\n",
              "      <td>3</td>\n",
              "    </tr>\n",
              "    <tr>\n",
              "      <th>2015-02-02 20:54:49</th>\n",
              "      <td>Mediacore</td>\n",
              "      <td>Hardware</td>\n",
              "      <td>9</td>\n",
              "    </tr>\n",
              "    <tr>\n",
              "      <th>2015-02-03 14:14:18</th>\n",
              "      <td>Initech</td>\n",
              "      <td>Software</td>\n",
              "      <td>13</td>\n",
              "    </tr>\n",
              "    <tr>\n",
              "      <th>2015-02-04 15:36:29</th>\n",
              "      <td>Streeplex</td>\n",
              "      <td>Software</td>\n",
              "      <td>13</td>\n",
              "    </tr>\n",
              "    <tr>\n",
              "      <th>2015-02-04 21:52:45</th>\n",
              "      <td>Acme Coporation</td>\n",
              "      <td>Hardware</td>\n",
              "      <td>14</td>\n",
              "    </tr>\n",
              "  </tbody>\n",
              "</table>\n",
              "</div>"
            ],
            "text/plain": [
              "                             Company   Product  Units\n",
              "Date                                                 \n",
              "2015-02-02 08:33:01            Hooli  Software      3\n",
              "2015-02-02 20:54:49        Mediacore  Hardware      9\n",
              "2015-02-03 14:14:18          Initech  Software     13\n",
              "2015-02-04 15:36:29        Streeplex  Software     13\n",
              "2015-02-04 21:52:45  Acme Coporation  Hardware     14"
            ]
          },
          "metadata": {
            "tags": []
          },
          "execution_count": 57
        }
      ]
    },
    {
      "cell_type": "code",
      "metadata": {
        "id": "sm9UARdRVof_",
        "colab_type": "code",
        "colab": {
          "base_uri": "https://localhost:8080/",
          "height": 225
        },
        "outputId": "9552c6ad-ca81-495e-f276-266af5d9e27c"
      },
      "source": [
        "feb_sales_2015.tail()"
      ],
      "execution_count": 58,
      "outputs": [
        {
          "output_type": "execute_result",
          "data": {
            "text/html": [
              "<div>\n",
              "<style scoped>\n",
              "    .dataframe tbody tr th:only-of-type {\n",
              "        vertical-align: middle;\n",
              "    }\n",
              "\n",
              "    .dataframe tbody tr th {\n",
              "        vertical-align: top;\n",
              "    }\n",
              "\n",
              "    .dataframe thead th {\n",
              "        text-align: right;\n",
              "    }\n",
              "</style>\n",
              "<table border=\"1\" class=\"dataframe\">\n",
              "  <thead>\n",
              "    <tr style=\"text-align: right;\">\n",
              "      <th></th>\n",
              "      <th>Company</th>\n",
              "      <th>Product</th>\n",
              "      <th>Units</th>\n",
              "    </tr>\n",
              "    <tr>\n",
              "      <th>Date</th>\n",
              "      <th></th>\n",
              "      <th></th>\n",
              "      <th></th>\n",
              "    </tr>\n",
              "  </thead>\n",
              "  <tbody>\n",
              "    <tr>\n",
              "      <th>2015-02-21 05:01:26</th>\n",
              "      <td>Mediacore</td>\n",
              "      <td>Software</td>\n",
              "      <td>3</td>\n",
              "    </tr>\n",
              "    <tr>\n",
              "      <th>2015-02-21 20:41:47</th>\n",
              "      <td>Hooli</td>\n",
              "      <td>Hardware</td>\n",
              "      <td>3</td>\n",
              "    </tr>\n",
              "    <tr>\n",
              "      <th>2015-02-25 00:29:00</th>\n",
              "      <td>Initech</td>\n",
              "      <td>Service</td>\n",
              "      <td>10</td>\n",
              "    </tr>\n",
              "    <tr>\n",
              "      <th>2015-02-26 08:57:45</th>\n",
              "      <td>Streeplex</td>\n",
              "      <td>Service</td>\n",
              "      <td>4</td>\n",
              "    </tr>\n",
              "    <tr>\n",
              "      <th>2015-02-26 08:58:51</th>\n",
              "      <td>Streeplex</td>\n",
              "      <td>Service</td>\n",
              "      <td>1</td>\n",
              "    </tr>\n",
              "  </tbody>\n",
              "</table>\n",
              "</div>"
            ],
            "text/plain": [
              "                       Company   Product  Units\n",
              "Date                                           \n",
              "2015-02-21 05:01:26  Mediacore  Software      3\n",
              "2015-02-21 20:41:47      Hooli  Hardware      3\n",
              "2015-02-25 00:29:00    Initech   Service     10\n",
              "2015-02-26 08:57:45  Streeplex   Service      4\n",
              "2015-02-26 08:58:51  Streeplex   Service      1"
            ]
          },
          "metadata": {
            "tags": []
          },
          "execution_count": 58
        }
      ]
    },
    {
      "cell_type": "code",
      "metadata": {
        "id": "YhAL1WY5Vs_j",
        "colab_type": "code",
        "colab": {}
      },
      "source": [
        "# aggregate the sum of the units sold everyday\n",
        "per_day_units_sold = feb_sales_2015.resample('D').sum()"
      ],
      "execution_count": 0,
      "outputs": []
    },
    {
      "cell_type": "code",
      "metadata": {
        "id": "BlRXnDhdWCsd",
        "colab_type": "code",
        "colab": {
          "base_uri": "https://localhost:8080/",
          "height": 225
        },
        "outputId": "5c35b33e-9467-40e0-e352-74b8c2e2fc27"
      },
      "source": [
        "per_day_units_sold.head()"
      ],
      "execution_count": 67,
      "outputs": [
        {
          "output_type": "execute_result",
          "data": {
            "text/html": [
              "<div>\n",
              "<style scoped>\n",
              "    .dataframe tbody tr th:only-of-type {\n",
              "        vertical-align: middle;\n",
              "    }\n",
              "\n",
              "    .dataframe tbody tr th {\n",
              "        vertical-align: top;\n",
              "    }\n",
              "\n",
              "    .dataframe thead th {\n",
              "        text-align: right;\n",
              "    }\n",
              "</style>\n",
              "<table border=\"1\" class=\"dataframe\">\n",
              "  <thead>\n",
              "    <tr style=\"text-align: right;\">\n",
              "      <th></th>\n",
              "      <th>Units</th>\n",
              "    </tr>\n",
              "    <tr>\n",
              "      <th>Date</th>\n",
              "      <th></th>\n",
              "    </tr>\n",
              "  </thead>\n",
              "  <tbody>\n",
              "    <tr>\n",
              "      <th>2015-02-02</th>\n",
              "      <td>12</td>\n",
              "    </tr>\n",
              "    <tr>\n",
              "      <th>2015-02-03</th>\n",
              "      <td>13</td>\n",
              "    </tr>\n",
              "    <tr>\n",
              "      <th>2015-02-04</th>\n",
              "      <td>27</td>\n",
              "    </tr>\n",
              "    <tr>\n",
              "      <th>2015-02-05</th>\n",
              "      <td>29</td>\n",
              "    </tr>\n",
              "    <tr>\n",
              "      <th>2015-02-06</th>\n",
              "      <td>0</td>\n",
              "    </tr>\n",
              "  </tbody>\n",
              "</table>\n",
              "</div>"
            ],
            "text/plain": [
              "            Units\n",
              "Date             \n",
              "2015-02-02     12\n",
              "2015-02-03     13\n",
              "2015-02-04     27\n",
              "2015-02-05     29\n",
              "2015-02-06      0"
            ]
          },
          "metadata": {
            "tags": []
          },
          "execution_count": 67
        }
      ]
    },
    {
      "cell_type": "code",
      "metadata": {
        "id": "NmDZAyHUWtTS",
        "colab_type": "code",
        "colab": {}
      },
      "source": [
        "#  group the data by the day of the week and aggregate the sum of the units\n",
        "groupby_day = feb_sales_2015.groupby(feb_sales_2015.index.strftime('%a'))"
      ],
      "execution_count": 0,
      "outputs": []
    },
    {
      "cell_type": "code",
      "metadata": {
        "id": "quBKCwx8W_OB",
        "colab_type": "code",
        "colab": {
          "base_uri": "https://localhost:8080/",
          "height": 118
        },
        "outputId": "0e52832c-41a1-4903-e888-7a0c8909e9e4"
      },
      "source": [
        "day_units_sold = groupby_day['Units'].sum()\n",
        "day_units_sold"
      ],
      "execution_count": 79,
      "outputs": [
        {
          "output_type": "execute_result",
          "data": {
            "text/plain": [
              "Mon    48\n",
              "Sat     7\n",
              "Thu    60\n",
              "Tue    13\n",
              "Wed    48\n",
              "Name: Units, dtype: int64"
            ]
          },
          "metadata": {
            "tags": []
          },
          "execution_count": 79
        }
      ]
    },
    {
      "cell_type": "markdown",
      "metadata": {
        "id": "IsIYErPGZIjv",
        "colab_type": "text"
      },
      "source": [
        "### Using  ***.transform()***\n"
      ]
    }
  ]
}